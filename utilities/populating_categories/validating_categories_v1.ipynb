{
 "cells": [
  {
   "cell_type": "code",
   "execution_count": 150,
   "metadata": {
    "ExecuteTime": {
     "end_time": "2019-04-07T15:41:46.228044Z",
     "start_time": "2019-04-07T15:41:46.220784Z"
    }
   },
   "outputs": [],
   "source": [
    "import json\n",
    "import itertools\n",
    "import pandas as pd\n",
    "import ast\n",
    "import string\n",
    "import operator\n",
    "from collections import defaultdict\n",
    "import re\n",
    "import os\n",
    "import nltk\n",
    "import math\n",
    "import json\n",
    "from multiprocessing import Pool\n",
    "from os import listdir\n",
    "from os.path import isfile, join\n",
    "from os import walk\n",
    "import matplotlib.pyplot as plt\n",
    "%matplotlib inline\n"
   ]
  },
  {
   "cell_type": "code",
   "execution_count": 2,
   "metadata": {
    "ExecuteTime": {
     "end_time": "2019-04-06T16:46:11.766513Z",
     "start_time": "2019-04-06T16:46:11.646372Z"
    }
   },
   "outputs": [],
   "source": [
    "!cd /Users/sdatta/wikipedia_w251/wikipedia/json_out\n",
    "\n"
   ]
  },
  {
   "cell_type": "code",
   "execution_count": null,
   "metadata": {},
   "outputs": [],
   "source": [
    "!sh parse.sh"
   ]
  },
  {
   "cell_type": "code",
   "execution_count": 120,
   "metadata": {
    "ExecuteTime": {
     "end_time": "2019-04-07T15:28:07.528503Z",
     "start_time": "2019-04-07T15:28:07.443891Z"
    }
   },
   "outputs": [],
   "source": [
    "df_wiki_meta= pd.read_csv('/Users/sdatta/wikipedia_w251/parse.sh.nohup.out',names=['filename','id','url','title'], delimiter='|')\n",
    "#df_wiki_meta.columns=['filename','id','url','title']\n",
    "##TODO convert 'id' to integer"
   ]
  },
  {
   "cell_type": "code",
   "execution_count": 121,
   "metadata": {
    "ExecuteTime": {
     "end_time": "2019-04-07T15:28:11.388590Z",
     "start_time": "2019-04-07T15:28:11.211055Z"
    }
   },
   "outputs": [],
   "source": [
    "root_dir='/Users/sdatta/wikipedia_w251'\n",
    "output_psv='df_wiki_meta.psv'\n",
    "df_wiki_meta.to_csv(root_dir+'/'+output_psv,sep='|', index=False)"
   ]
  },
  {
   "cell_type": "code",
   "execution_count": 122,
   "metadata": {
    "ExecuteTime": {
     "end_time": "2019-04-07T15:28:35.006268Z",
     "start_time": "2019-04-07T15:28:35.002488Z"
    }
   },
   "outputs": [],
   "source": [
    "df_wiki_meta['categories']=''"
   ]
  },
  {
   "cell_type": "code",
   "execution_count": 10,
   "metadata": {
    "ExecuteTime": {
     "end_time": "2019-04-06T16:49:50.914109Z",
     "start_time": "2019-04-06T16:49:50.907559Z"
    }
   },
   "outputs": [],
   "source": [
    "import requests\n",
    "\n",
    "url=\"https://en.wikipedia.org/w/api.php\"\n",
    "params = dict(\n",
    "    format='json',\n",
    "    action='query',\n",
    "    prop='categories',\n",
    "    titles=''\n",
    ")\n",
    "\n",
    "\n",
    "def get_categories(in_title):\n",
    "    ''' Makes a call to https://en.wikipedia.org/w/api.php with the article title to retrieve the corresponding categories.\n",
    "    Populates list categ_list with the categories.\n",
    "    Returns categ_list.\n",
    "    '''\n",
    "    params['titles']=in_title\n",
    "    #url=\"https://en.wikipedia.org/w/api.php?format=json&action=query&prop=categories&titles=Google\"\n",
    "    resp = requests.get(url=url, params=params)\n",
    "    data = resp.json() \n",
    "    categ_list=[]\n",
    "    for ele1 in data['query']['pages']:\n",
    "        try:\n",
    "            for ele2 in data['query']['pages'][ele1]['categories'][1:]:\n",
    "                categ_list.append(ele2['title'].split(':')[1])\n",
    "        except:\n",
    "            print(\"Exception in in_title\",in_title,\" ele1\",ele1,\" data['query']['pages']\",data['query']['pages'])\n",
    "            \n",
    "    #categ_list='~'.join(categ_list)\n",
    "    return categ_list\n",
    "\n",
    "def apply_categories(in_df):\n",
    "    in_df['categories']=df_wiki_meta['title'].apply(get_categories)\n",
    "    return in_df\n",
    "    "
   ]
  },
  {
   "cell_type": "code",
   "execution_count": 103,
   "metadata": {
    "ExecuteTime": {
     "end_time": "2019-04-07T15:15:12.626191Z",
     "start_time": "2019-04-07T15:15:12.391046Z"
    }
   },
   "outputs": [
    {
     "data": {
      "text/plain": [
       "['All articles with unsourced statements',\n",
       " 'Anarchism',\n",
       " 'Anti-capitalism',\n",
       " 'Anti-fascism',\n",
       " 'Articles containing Spanish-language text',\n",
       " 'Articles lacking reliable references from March 2019',\n",
       " 'Articles prone to spam from November 2014',\n",
       " 'Articles with short description',\n",
       " 'Articles with unsourced statements from March 2019']"
      ]
     },
     "execution_count": 103,
     "metadata": {},
     "output_type": "execute_result"
    }
   ],
   "source": [
    "get_categories('Anarchism')"
   ]
  },
  {
   "cell_type": "code",
   "execution_count": 105,
   "metadata": {
    "ExecuteTime": {
     "end_time": "2019-04-07T15:15:40.268467Z",
     "start_time": "2019-04-07T15:15:40.265635Z"
    }
   },
   "outputs": [],
   "source": [
    "root='/Users/sdatta/wikipedia_w251'\n",
    "sub_dir='categ_out/AA'\n",
    "files_to_process=['AA/wiki_00']\n",
    "# sub_dir=\"categ_out/AG\"\n",
    "# files_to_process=['AG/wiki_00','AG/wiki_01','AG/wiki_02','AG/wiki_03','AG/wiki_04','AG/wiki_05','AG/wiki_06','AG/wiki_07','AG/wiki_08','AG/wiki_09','AG/wiki_10','AG/wiki_11','AG/wiki_12','AG/wiki_13','AG/wiki_14','AG/wiki_15','AG/wiki_16','AG/wiki_17','AG/wiki_18','AG/wiki_19','AG/wiki_20','AG/wiki_21','AG/wiki_22','AG/wiki_23','AG/wiki_24','AG/wiki_25','AG/wiki_26','AG/wiki_27','AG/wiki_28','AG/wiki_29','AG/wiki_30','AG/wiki_31','AG/wiki_32','AG/wiki_33','AG/wiki_34','AG/wiki_35','AG/wiki_36','AG/wiki_37','AG/wiki_38','AG/wiki_39','AG/wiki_40','AG/wiki_41','AG/wiki_42','AG/wiki_43','AG/wiki_44','AG/wiki_45','AG/wiki_46','AG/wiki_47','AG/wiki_48','AG/wiki_49','AG/wiki_50','AG/wiki_51','AG/wiki_52','AG/wiki_53','AG/wiki_54','AG/wiki_55''AG/wiki_56','AG/wiki_57','AG/wiki_58','AG/wiki_59','AG/wiki_60','AG/wiki_61','AG/wiki_62','AG/wiki_63','AG/wiki_64','AG/wiki_65','AG/wiki_66','AG/wiki_67','AG/wiki_68','AG/wiki_69','AG/wiki_70','AG/wiki_71','AG/wiki_72','AG/wiki_73','AG/wiki_74','AG/wiki_75','AG/wiki_76','AG/wiki_77','AG/wiki_78','AG/wiki_79','AG/wiki_80','AG/wiki_81','AG/wiki_82','AG/wiki_83','AG/wiki_84','AG/wiki_85','AG/wiki_86','AG/wiki_87','AG/wiki_88','AG/wiki_89','AG/wiki_90','AG/wiki_91','AG/wiki_92','AG/wiki_93','AG/wiki_94','AG/wiki_95','AG/wiki_96','AG/wiki_97','AG/wiki_98','AG/wiki_99']"
   ]
  },
  {
   "cell_type": "code",
   "execution_count": null,
   "metadata": {},
   "outputs": [],
   "source": []
  },
  {
   "cell_type": "code",
   "execution_count": null,
   "metadata": {
    "ExecuteTime": {
     "end_time": "2019-04-07T15:56:39.215029Z",
     "start_time": "2019-04-07T15:56:39.206689Z"
    }
   },
   "outputs": [],
   "source": [
    "#Working good\n",
    "#\n",
    "#Calls function get_categories for each value of title in df_wiki_meta_temp/df_wiki_meta\n",
    "#\n",
    "\n",
    "for filename in files_to_process:\n",
    "    pkl_filename=root+'/'+sub_dir+\"/\"+filename.replace('/','_')+'.psv'\n",
    "    df_wiki_meta_temp=pd.DataFrame()\n",
    "    df_wiki_meta_temp=df_wiki_meta.loc[df_wiki_meta['filename'].str.contains(filename, na=False)].copy()\n",
    "    df_wiki_meta_temp['categories'] = df_wiki_meta_temp['title'].apply(get_categories)\n",
    "    df_wiki_meta_temp.to_csv(pkl_filename,sep='|',index=False)\n",
    "\n"
   ]
  },
  {
   "cell_type": "code",
   "execution_count": 136,
   "metadata": {
    "ExecuteTime": {
     "end_time": "2019-04-07T15:34:12.475646Z",
     "start_time": "2019-04-07T15:34:12.472007Z"
    }
   },
   "outputs": [
    {
     "data": {
      "text/plain": [
       "['AA/wiki_00']"
      ]
     },
     "execution_count": 136,
     "metadata": {},
     "output_type": "execute_result"
    }
   ],
   "source": [
    "files_to_process"
   ]
  },
  {
   "cell_type": "code",
   "execution_count": 121,
   "metadata": {
    "ExecuteTime": {
     "end_time": "2019-04-05T07:38:26.414798Z",
     "start_time": "2019-04-05T07:38:26.407630Z"
    }
   },
   "outputs": [],
   "source": [
    "# mypath='/Users/sdatta/wikipedia_w251/wikipedia/json_out'\n",
    "# filelist=[]\n",
    "# for path, subdirs, files in os.walk(mypath):\n",
    "#     for name in files:\n",
    "#         filelist.append(os.path.join(path, name))\n"
   ]
  },
  {
   "cell_type": "code",
   "execution_count": 20,
   "metadata": {
    "ExecuteTime": {
     "end_time": "2019-04-06T20:24:12.380734Z",
     "start_time": "2019-04-06T20:24:12.377028Z"
    }
   },
   "outputs": [
    {
     "data": {
      "text/plain": [
       "(8, 5)"
      ]
     },
     "execution_count": 20,
     "metadata": {},
     "output_type": "execute_result"
    }
   ],
   "source": [
    "df_wiki_meta_temp.shape"
   ]
  },
  {
   "cell_type": "markdown",
   "metadata": {},
   "source": [
    "# Adhoc loading of AA/wiki_00 file"
   ]
  },
  {
   "cell_type": "markdown",
   "metadata": {},
   "source": [
    "## Question_id to title mapping"
   ]
  },
  {
   "cell_type": "code",
   "execution_count": 125,
   "metadata": {
    "ExecuteTime": {
     "end_time": "2019-04-07T15:29:49.525418Z",
     "start_time": "2019-04-07T15:29:49.512976Z"
    }
   },
   "outputs": [],
   "source": [
    "#\n",
    "#wiki_squad_00.json shared by Julia\n",
    "#Creates a map of title to question id from wiki_squad_00.json\n",
    "#\n",
    "rootdir=\"/Users/sdatta/Documents/1. Personal/MIDS/W210 Capstone/w210-capstone-qg\"\n",
    "input_json='./wiki_squad_00.json'\n",
    "list_title_qid=[]\n",
    "\n",
    "\n",
    "with open(rootdir+\"/\"+input_json) as json_file:  \n",
    "    input_dict=json.load(json_file)\n",
    "    \n",
    "for ele1 in input_dict['data']:\n",
    "    title=ele1['title']\n",
    "    for ele2 in ele1['paragraphs']:\n",
    "        for ele3 in ele2['qas']:\n",
    "            qid=tuple(ele3['id'][1:-1].replace(\" \", \"\").split(','))\n",
    "            list_title_qid.append((title, qid ))\n",
    "    \n"
   ]
  },
  {
   "cell_type": "code",
   "execution_count": 126,
   "metadata": {
    "ExecuteTime": {
     "end_time": "2019-04-07T15:30:11.519221Z",
     "start_time": "2019-04-07T15:30:11.515518Z"
    }
   },
   "outputs": [],
   "source": [
    "df_title_qid=pd.DataFrame(list_title_qid,columns=['title','qid'], index=None)  \n"
   ]
  },
  {
   "cell_type": "code",
   "execution_count": 127,
   "metadata": {
    "ExecuteTime": {
     "end_time": "2019-04-07T15:30:13.545903Z",
     "start_time": "2019-04-07T15:30:13.542424Z"
    }
   },
   "outputs": [
    {
     "data": {
      "text/plain": [
       "(367, 2)"
      ]
     },
     "execution_count": 127,
     "metadata": {},
     "output_type": "execute_result"
    }
   ],
   "source": [
    "df_title_qid.shape"
   ]
  },
  {
   "cell_type": "code",
   "execution_count": 128,
   "metadata": {
    "ExecuteTime": {
     "end_time": "2019-04-07T15:30:16.920365Z",
     "start_time": "2019-04-07T15:30:16.917475Z"
    }
   },
   "outputs": [],
   "source": [
    "df_title_qid_AA_00=df_title_qid.copy()"
   ]
  },
  {
   "cell_type": "code",
   "execution_count": 129,
   "metadata": {
    "ExecuteTime": {
     "end_time": "2019-04-07T15:30:18.632020Z",
     "start_time": "2019-04-07T15:30:18.627653Z"
    }
   },
   "outputs": [
    {
     "data": {
      "text/plain": [
       "(367, 2)"
      ]
     },
     "execution_count": 129,
     "metadata": {},
     "output_type": "execute_result"
    }
   ],
   "source": [
    "df_title_qid_AA_00.shape"
   ]
  },
  {
   "cell_type": "code",
   "execution_count": 138,
   "metadata": {
    "ExecuteTime": {
     "end_time": "2019-04-07T15:34:56.058435Z",
     "start_time": "2019-04-07T15:34:56.052580Z"
    }
   },
   "outputs": [],
   "source": [
    "rootdir=\"/Users/sdatta/wikipedia_w251/categ_out\"\n",
    "input_psv='AA/AA_wiki_00.psv'\n",
    "df_categories_AA=pd.read_csv(rootdir+\"/\"+input_psv, sep='|'\n",
    "                                )"
   ]
  },
  {
   "cell_type": "code",
   "execution_count": 131,
   "metadata": {
    "ExecuteTime": {
     "end_time": "2019-04-07T15:30:28.609981Z",
     "start_time": "2019-04-07T15:30:28.605896Z"
    }
   },
   "outputs": [
    {
     "data": {
      "text/plain": [
       "Index(['filename', 'id', 'url', 'title', 'categories'], dtype='object')"
      ]
     },
     "execution_count": 131,
     "metadata": {},
     "output_type": "execute_result"
    }
   ],
   "source": [
    "df_categories_AA.columns"
   ]
  },
  {
   "cell_type": "code",
   "execution_count": 139,
   "metadata": {
    "ExecuteTime": {
     "end_time": "2019-04-07T15:34:59.277242Z",
     "start_time": "2019-04-07T15:34:59.270879Z"
    }
   },
   "outputs": [],
   "source": [
    "#\n",
    "#Joins df_title_qid_AA_00 with df_categories_AA \n",
    "#\n",
    "df_title_qid_AA_00_merged=pd.merge(df_title_qid_AA_00,df_categories_AA, how='left', left_on='title', right_on='title'  )"
   ]
  },
  {
   "cell_type": "code",
   "execution_count": 140,
   "metadata": {
    "ExecuteTime": {
     "end_time": "2019-04-07T15:35:02.771109Z",
     "start_time": "2019-04-07T15:35:02.767394Z"
    }
   },
   "outputs": [],
   "source": [
    "df_title_qid_AA_00_merged['id']=df_title_qid_AA_00_merged['id'].apply(pd.to_numeric)"
   ]
  },
  {
   "cell_type": "code",
   "execution_count": 141,
   "metadata": {
    "ExecuteTime": {
     "end_time": "2019-04-07T15:35:05.634014Z",
     "start_time": "2019-04-07T15:35:05.629015Z"
    }
   },
   "outputs": [
    {
     "name": "stdout",
     "output_type": "stream",
     "text": [
      "Index(['title', 'qid'], dtype='object')\n",
      "Index(['filename', 'id', 'url', 'title', 'categories'], dtype='object')\n",
      "Index(['title', 'qid', 'filename', 'id', 'url', 'categories'], dtype='object')\n",
      "(367, 6)\n"
     ]
    }
   ],
   "source": [
    "print(df_title_qid_AA_00.columns)\n",
    "print(df_wiki_meta.columns)\n",
    "print(df_title_qid_AA_00_merged.columns)\n",
    "print(df_title_qid_AA_00_merged.shape)"
   ]
  },
  {
   "cell_type": "code",
   "execution_count": 142,
   "metadata": {
    "ExecuteTime": {
     "end_time": "2019-04-07T15:35:07.385623Z",
     "start_time": "2019-04-07T15:35:07.375613Z"
    }
   },
   "outputs": [],
   "source": [
    "rootdir=\"/Users/sdatta/wikipedia_w251/categ_out\"\n",
    "output_psv='./df_title_qid_AA_00_merged.psv'\n",
    "df_title_qid_AA_00_merged.to_csv(rootdir+\"/\"+output_psv, sep='|', index=False\n",
    "                                )"
   ]
  }
 ],
 "metadata": {
  "kernelspec": {
   "display_name": "Python 3",
   "language": "python",
   "name": "python3"
  },
  "language_info": {
   "codemirror_mode": {
    "name": "ipython",
    "version": 3
   },
   "file_extension": ".py",
   "mimetype": "text/x-python",
   "name": "python",
   "nbconvert_exporter": "python",
   "pygments_lexer": "ipython3",
   "version": "3.7.1"
  },
  "varInspector": {
   "cols": {
    "lenName": 16,
    "lenType": 16,
    "lenVar": 40
   },
   "kernels_config": {
    "python": {
     "delete_cmd_postfix": "",
     "delete_cmd_prefix": "del ",
     "library": "var_list.py",
     "varRefreshCmd": "print(var_dic_list())"
    },
    "r": {
     "delete_cmd_postfix": ") ",
     "delete_cmd_prefix": "rm(",
     "library": "var_list.r",
     "varRefreshCmd": "cat(var_dic_list()) "
    }
   },
   "types_to_exclude": [
    "module",
    "function",
    "builtin_function_or_method",
    "instance",
    "_Feature"
   ],
   "window_display": false
  }
 },
 "nbformat": 4,
 "nbformat_minor": 2
}
