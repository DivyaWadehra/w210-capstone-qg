{
 "cells": [
  {
   "cell_type": "code",
   "execution_count": 1,
   "metadata": {},
   "outputs": [],
   "source": [
    "import numpy as np\n",
    "import pandas as pd\n",
    "from os import listdir, scandir\n",
    "from os.path import isfile, join"
   ]
  },
  {
   "cell_type": "code",
   "execution_count": 28,
   "metadata": {},
   "outputs": [],
   "source": [
    "# name of file directory to start with\n",
    "mypath = 'C:/Users/kplat/Documents/University of California Berkeley Materials/Capstone/w210-capstone-qg/wikipedia_data/for_autoq'\n",
    "# get the names of the directories in the folder\n",
    "subfolders = [f.path for f in scandir(mypath) if f.is_dir() ]   "
   ]
  },
  {
   "cell_type": "code",
   "execution_count": 30,
   "metadata": {},
   "outputs": [
    {
     "data": {
      "text/plain": [
       "['C:/Users/kplat/Documents/University of California Berkeley Materials/Capstone/w210-capstone-qg/wikipedia_data/for_autoq\\\\AA',\n",
       " 'C:/Users/kplat/Documents/University of California Berkeley Materials/Capstone/w210-capstone-qg/wikipedia_data/for_autoq\\\\AB']"
      ]
     },
     "execution_count": 30,
     "metadata": {},
     "output_type": "execute_result"
    }
   ],
   "source": [
    "subfolders"
   ]
  },
  {
   "cell_type": "code",
   "execution_count": 33,
   "metadata": {},
   "outputs": [],
   "source": [
    "topic_dict = {}\n",
    "# get the names of the files in each folder\n",
    "for sub in subfolders:\n",
    "    onlyfiles = [f for f in listdir(sub) if isfile(join(sub, f))]\n",
    "    for file in onlyfiles:\n",
    "        df = pd.read_json(str(sub+\"/\"+file))\n",
    "        for entry in range(0, len(df['data'])):\n",
    "            topic_dict[df['data'][entry]['title']] = file"
   ]
  },
  {
   "cell_type": "code",
   "execution_count": 35,
   "metadata": {},
   "outputs": [
    {
     "data": {
      "text/plain": [
       "10302"
      ]
     },
     "execution_count": 35,
     "metadata": {},
     "output_type": "execute_result"
    }
   ],
   "source": [
    "len(topic_dict.keys())"
   ]
  },
  {
   "cell_type": "code",
   "execution_count": 36,
   "metadata": {},
   "outputs": [
    {
     "data": {
      "text/plain": [
       "'wiki_00.json'"
      ]
     },
     "execution_count": 36,
     "metadata": {},
     "output_type": "execute_result"
    }
   ],
   "source": [
    "topic_dict['Anarchism']"
   ]
  },
  {
   "cell_type": "code",
   "execution_count": 25,
   "metadata": {},
   "outputs": [
    {
     "data": {
      "text/plain": [
       "['C:/Users/kplat/Documents/University of California Berkeley Materials/Capstone/w210-capstone-qg/wikipedia_data/for_autoq\\\\AA',\n",
       " 'C:/Users/kplat/Documents/University of California Berkeley Materials/Capstone/w210-capstone-qg/wikipedia_data/for_autoq\\\\AB']"
      ]
     },
     "execution_count": 25,
     "metadata": {},
     "output_type": "execute_result"
    }
   ],
   "source": []
  },
  {
   "cell_type": "code",
   "execution_count": 10,
   "metadata": {},
   "outputs": [],
   "source": [
    "df = pd.read_json('wiki_00.json')"
   ]
  },
  {
   "cell_type": "code",
   "execution_count": 11,
   "metadata": {},
   "outputs": [
    {
     "data": {
      "text/html": [
       "<div>\n",
       "<style scoped>\n",
       "    .dataframe tbody tr th:only-of-type {\n",
       "        vertical-align: middle;\n",
       "    }\n",
       "\n",
       "    .dataframe tbody tr th {\n",
       "        vertical-align: top;\n",
       "    }\n",
       "\n",
       "    .dataframe thead th {\n",
       "        text-align: right;\n",
       "    }\n",
       "</style>\n",
       "<table border=\"1\" class=\"dataframe\">\n",
       "  <thead>\n",
       "    <tr style=\"text-align: right;\">\n",
       "      <th></th>\n",
       "      <th>data</th>\n",
       "      <th>version</th>\n",
       "    </tr>\n",
       "  </thead>\n",
       "  <tbody>\n",
       "    <tr>\n",
       "      <th>0</th>\n",
       "      <td>{'title': 'Anarchism', 'paragraphs': [{'contex...</td>\n",
       "      <td>1</td>\n",
       "    </tr>\n",
       "    <tr>\n",
       "      <th>1</th>\n",
       "      <td>{'title': 'Autism', 'paragraphs': [{'context':...</td>\n",
       "      <td>1</td>\n",
       "    </tr>\n",
       "    <tr>\n",
       "      <th>2</th>\n",
       "      <td>{'title': 'Albedo', 'paragraphs': [{'context':...</td>\n",
       "      <td>1</td>\n",
       "    </tr>\n",
       "    <tr>\n",
       "      <th>3</th>\n",
       "      <td>{'title': 'A', 'paragraphs': [{'context': 'A (...</td>\n",
       "      <td>1</td>\n",
       "    </tr>\n",
       "    <tr>\n",
       "      <th>4</th>\n",
       "      <td>{'title': 'Alabama', 'paragraphs': [{'context'...</td>\n",
       "      <td>1</td>\n",
       "    </tr>\n",
       "  </tbody>\n",
       "</table>\n",
       "</div>"
      ],
      "text/plain": [
       "                                                data  version\n",
       "0  {'title': 'Anarchism', 'paragraphs': [{'contex...        1\n",
       "1  {'title': 'Autism', 'paragraphs': [{'context':...        1\n",
       "2  {'title': 'Albedo', 'paragraphs': [{'context':...        1\n",
       "3  {'title': 'A', 'paragraphs': [{'context': 'A (...        1\n",
       "4  {'title': 'Alabama', 'paragraphs': [{'context'...        1"
      ]
     },
     "execution_count": 11,
     "metadata": {},
     "output_type": "execute_result"
    }
   ],
   "source": [
    "df.head()"
   ]
  },
  {
   "cell_type": "code",
   "execution_count": 12,
   "metadata": {},
   "outputs": [
    {
     "data": {
      "text/plain": [
       "'Anarchism'"
      ]
     },
     "execution_count": 12,
     "metadata": {},
     "output_type": "execute_result"
    }
   ],
   "source": [
    "df['data'][0]['title']"
   ]
  },
  {
   "cell_type": "code",
   "execution_count": 15,
   "metadata": {},
   "outputs": [],
   "source": [
    "topic_list = []\n",
    "topic_dict = {}\n",
    "for entry in range(0, len(df['data'])):\n",
    "    topic_list.append(df['data'][entry]['title'])\n",
    "    topic_dict[df['data'][entry]['title']] = \"wiki_00.json\""
   ]
  },
  {
   "cell_type": "code",
   "execution_count": 17,
   "metadata": {},
   "outputs": [
    {
     "data": {
      "text/plain": [
       "dict_keys(['Anarchism', 'Autism', 'Albedo', 'A', 'Alabama', 'Achilles', 'Abraham Lincoln', 'Aristotle', 'An American in Paris', 'Academy Awards', 'Actrius', 'Animalia (book)', 'International Atomic Time', 'Altruism', 'Ayn Rand', 'Allan Dwan', 'Algeria', 'List of Atlas Shrugged characters', 'Anthropology', 'Agricultural science', 'Alchemy', 'Astronomer', 'ASCII', 'Animation', 'Apollo', 'Andre Agassi', 'Austroasiatic languages', 'Afroasiatic languages', 'Andorra', 'Arithmetic mean', 'American Football Conference', 'Animal Farm'])"
      ]
     },
     "execution_count": 17,
     "metadata": {},
     "output_type": "execute_result"
    }
   ],
   "source": [
    "topic_dict"
   ]
  },
  {
   "cell_type": "code",
   "execution_count": null,
   "metadata": {},
   "outputs": [],
   "source": []
  }
 ],
 "metadata": {
  "kernelspec": {
   "display_name": "Python 3",
   "language": "python",
   "name": "python3"
  },
  "language_info": {
   "codemirror_mode": {
    "name": "ipython",
    "version": 3
   },
   "file_extension": ".py",
   "mimetype": "text/x-python",
   "name": "python",
   "nbconvert_exporter": "python",
   "pygments_lexer": "ipython3",
   "version": "3.7.0"
  }
 },
 "nbformat": 4,
 "nbformat_minor": 2
}
