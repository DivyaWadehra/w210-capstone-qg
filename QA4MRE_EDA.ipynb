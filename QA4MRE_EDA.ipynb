{
 "cells": [
  {
   "cell_type": "code",
   "execution_count": 37,
   "metadata": {},
   "outputs": [],
   "source": [
    "import csv\n",
    "import requests\n",
    "import xml.etree.ElementTree as ET\n",
    "#import stanford_parser\n",
    "import nltk\n",
    "#from stanford_parser import sentence_split"
   ]
  },
  {
   "cell_type": "code",
   "execution_count": 38,
   "metadata": {},
   "outputs": [],
   "source": [
    "tokenizer = nltk.data.load('tokenizers/punkt/english.pickle')"
   ]
  },
  {
   "cell_type": "code",
   "execution_count": 132,
   "metadata": {},
   "outputs": [],
   "source": [
    "# create element tree object \n",
    "def parse_file(xmlfiles,yrs):\n",
    "   \n",
    "    # open a file for writing\n",
    "\n",
    "    QA_data = open('./data/qa4mre.csv', 'w')\n",
    "\n",
    "    # create the csv writer object\n",
    "\n",
    "    csvwriter = csv.writer(QA_data)\n",
    "\n",
    "    # write column names\n",
    "    headings = ['YR','T_ID','T_Name','R_ID','D_ID','D_STR','Q_ID','Q_STR','ANS_ID','ANS','CORRECT']\n",
    "    csvwriter.writerow(headings)\n",
    "    \n",
    "    for i,xmlfile in enumerate(xmlfiles):\n",
    "        print(\"Opening...\",xmlfile)\n",
    "        \n",
    "        tree = ET.parse(xmlfile)\n",
    "        yr = yrs[i]\n",
    "  \n",
    "        # get root element \n",
    "        root = tree.getroot() \n",
    "\n",
    "        #rows = []\n",
    "\n",
    "        for topic in root.iter('topic'):\n",
    "            t_id = topic.attrib['t_id']\n",
    "            t_name = topic.attrib['t_name']\n",
    "            #print(topic.attrib)\n",
    "\n",
    "            for read_test in topic.iter('reading-test'):\n",
    "                r_id = read_test.attrib['r_id']\n",
    "                #print(\"\\nreading test\",r_id)\n",
    "                doc = read_test.find('doc')\n",
    "                d_id = doc.attrib['d_id']\n",
    "                d_str = doc.text.encode('utf-8')\n",
    "\n",
    "                for questions in read_test.iter('q'):\n",
    "                    q_id = questions.attrib['q_id']\n",
    "                    question = questions.find('q_str').text.encode('utf-8')\n",
    "                    #print(question)\n",
    "\n",
    "                    for answers in questions.iter('answer'):\n",
    "                        rows = []\n",
    "\n",
    "                        if ('correct' in answers.attrib):\n",
    "                            correct = 1\n",
    "                        else:\n",
    "                            correct = 0\n",
    "                        #print(correct)\n",
    "                        a_id = answers.attrib['a_id']\n",
    "                        a_text = answers.text.encode('utf-8')\n",
    "                        #print(a_text)\n",
    "\n",
    "                        rows.append(yr)\n",
    "                        rows.append(t_id)\n",
    "                        rows.append(t_name)\n",
    "                        rows.append(r_id)                \n",
    "                        rows.append(d_id)\n",
    "                        rows.append(d_str)\n",
    "                        rows.append(q_id)\n",
    "                        rows.append(question)\n",
    "                        rows.append(a_id)\n",
    "                        rows.append(a_text)\n",
    "                        rows.append(correct)\n",
    "\n",
    "                        csvwriter.writerow(rows)\n",
    "\n",
    "        print(\"Closing...\",xmlfile)\n",
    "\n",
    "    QA_data.close()"
   ]
  },
  {
   "cell_type": "code",
   "execution_count": 133,
   "metadata": {},
   "outputs": [
    {
     "name": "stdout",
     "output_type": "stream",
     "text": [
      "Opening... ./data/qa4mre/2011/QA4MRE-2011-EN_GS.xml\n",
      "Closing... ./data/qa4mre/2011/QA4MRE-2011-EN_GS.xml\n",
      "Opening... ./data/qa4mre/2012/QA4MRE-2012-EN_GS_SYNC.xml\n",
      "Closing... ./data/qa4mre/2012/QA4MRE-2012-EN_GS_SYNC.xml\n",
      "Opening... ./data/qa4mre/2012/QA4MRE-2012-EN_GS.xml\n",
      "Closing... ./data/qa4mre/2012/QA4MRE-2012-EN_GS.xml\n",
      "Opening... ./data/qa4mre/2013/QA4MRE-2013-EN_GS.xml\n",
      "Closing... ./data/qa4mre/2013/QA4MRE-2013-EN_GS.xml\n"
     ]
    }
   ],
   "source": [
    "parse_file(files,years)"
   ]
  },
  {
   "cell_type": "code",
   "execution_count": 131,
   "metadata": {},
   "outputs": [],
   "source": [
    "files = ['./data/qa4mre/2011/QA4MRE-2011-EN_GS.xml','./data/qa4mre/2012/QA4MRE-2012-EN_GS_SYNC.xml',\n",
    "         './data/qa4mre/2012/QA4MRE-2012-EN_GS.xml','./data/qa4mre/2013/QA4MRE-2013-EN_GS.xml']\n",
    "years = [2011,2012,2012,2013] # THIS NEEDS TO BE UPDATED AS FILES ARE ADDED/REMOVED"
   ]
  },
  {
   "cell_type": "code",
   "execution_count": null,
   "metadata": {},
   "outputs": [],
   "source": [
    "# FILES TO SAVE FOR LATER\n",
    "'./data/qa4mre/2012/QA4MRE-2012_BIOMEDICAL_GS.xml','./data/qa4mre/2013/QA4MRE-2013_BIO_GS-RUN.xml',"
   ]
  }
 ],
 "metadata": {
  "kernelspec": {
   "display_name": "Python 3",
   "language": "python",
   "name": "python3"
  },
  "language_info": {
   "codemirror_mode": {
    "name": "ipython",
    "version": 3
   },
   "file_extension": ".py",
   "mimetype": "text/x-python",
   "name": "python",
   "nbconvert_exporter": "python",
   "pygments_lexer": "ipython3",
   "version": "3.6.4"
  }
 },
 "nbformat": 4,
 "nbformat_minor": 2
}
