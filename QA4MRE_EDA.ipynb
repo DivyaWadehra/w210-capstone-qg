{
 "cells": [
  {
   "cell_type": "markdown",
   "metadata": {},
   "source": [
    "# EDA for QA4MRE dataset"
   ]
  },
  {
   "cell_type": "markdown",
   "metadata": {},
   "source": [
    "## Imports and Setup"
   ]
  },
  {
   "cell_type": "code",
   "execution_count": 147,
   "metadata": {},
   "outputs": [],
   "source": [
    "import csv\n",
    "import requests\n",
    "import xml.etree.ElementTree as ET\n",
    "#import stanford_parser\n",
    "import nltk\n",
    "import pandas as pd\n",
    "import re\n",
    "#from stanford_parser import sentence_split"
   ]
  },
  {
   "cell_type": "code",
   "execution_count": 148,
   "metadata": {},
   "outputs": [],
   "source": [
    "tokenizer = nltk.data.load('tokenizers/punkt/english.pickle')"
   ]
  },
  {
   "cell_type": "markdown",
   "metadata": {},
   "source": [
    "## Input .XML file, organize .CSV"
   ]
  },
  {
   "cell_type": "code",
   "execution_count": 149,
   "metadata": {},
   "outputs": [],
   "source": [
    "# create element tree object \n",
    "def parse_file(xmlfiles,yrs,filename):\n",
    "   \n",
    "    # open a file for writing\n",
    "\n",
    "    QA_data = open(filename, 'w')\n",
    "\n",
    "    # create the csv writer object\n",
    "\n",
    "    csvwriter = csv.writer(QA_data)\n",
    "\n",
    "    # write column names\n",
    "    headings = ['YR','T_ID','T_NAME','R_ID','D_ID','D_STR','Q_ID','Q_STR','A_ID','A_STR','CORRECT']\n",
    "    csvwriter.writerow(headings)\n",
    "    \n",
    "    for i,xmlfile in enumerate(xmlfiles):\n",
    "        print(\"Opening...\",xmlfile)\n",
    "        \n",
    "        tree = ET.parse(xmlfile)\n",
    "        yr = yrs[i]\n",
    "  \n",
    "        # get root element \n",
    "        root = tree.getroot() \n",
    "\n",
    "        #rows = []\n",
    "\n",
    "        for topic in root.iter('topic'):\n",
    "            t_id = topic.attrib['t_id']\n",
    "            t_name = topic.attrib['t_name']\n",
    "            #print(topic.attrib)\n",
    "\n",
    "            for read_test in topic.iter('reading-test'):\n",
    "                r_id = read_test.attrib['r_id']\n",
    "                #print(\"\\nreading test\",r_id)\n",
    "                doc = read_test.find('doc')\n",
    "                d_id = doc.attrib['d_id']\n",
    "                d_str = doc.text#.encode(#'utf-8')\n",
    "\n",
    "                for questions in read_test.iter('q'):\n",
    "                    q_id = questions.attrib['q_id']\n",
    "                    question = questions.find('q_str').text#.encode('utf-8')\n",
    "                    #print(question)\n",
    "\n",
    "                    for answers in questions.iter('answer'):\n",
    "                        rows = []\n",
    "\n",
    "                        if ('correct' in answers.attrib):\n",
    "                            correct = 1\n",
    "                        else:\n",
    "                            correct = 0\n",
    "                        #print(correct)\n",
    "                        a_id = answers.attrib['a_id']\n",
    "                        a_text = answers.text#.encode('utf-8')\n",
    "                        #print(a_text)\n",
    "\n",
    "                        rows.append(yr)\n",
    "                        rows.append(t_id)\n",
    "                        rows.append(t_name)\n",
    "                        rows.append(r_id)                \n",
    "                        rows.append(d_id)\n",
    "                        rows.append(d_str)\n",
    "                        rows.append(q_id)\n",
    "                        rows.append(question)\n",
    "                        rows.append(a_id)\n",
    "                        rows.append(a_text)\n",
    "                        rows.append(correct)\n",
    "\n",
    "                        csvwriter.writerow(rows)\n",
    "\n",
    "        print(\"Closing...\",xmlfile)\n",
    "\n",
    "    print(\"Parsing complete!\")\n",
    "    QA_data.close()"
   ]
  },
  {
   "cell_type": "code",
   "execution_count": 150,
   "metadata": {},
   "outputs": [
    {
     "name": "stdout",
     "output_type": "stream",
     "text": [
      "Opening... ./data/qa4mre/2011/QA4MRE-2011-EN_GS.xml\n",
      "Closing... ./data/qa4mre/2011/QA4MRE-2011-EN_GS.xml\n",
      "Parsing complete!\n"
     ]
    }
   ],
   "source": [
    "#parse_file(test_file,[2011],'./data/qa4mre/qa4mre_tester.csv')"
   ]
  },
  {
   "cell_type": "code",
   "execution_count": 151,
   "metadata": {},
   "outputs": [],
   "source": [
    "test_file = ['./data/qa4mre/2011/QA4MRE-2011-EN_GS.xml']\n",
    "files = ['./data/qa4mre/2011/QA4MRE-2011-EN_GS.xml','./data/qa4mre/2012/QA4MRE-2012-EN_GS_SYNC.xml',\n",
    "         './data/qa4mre/2012/QA4MRE-2012-EN_GS.xml','./data/qa4mre/2013/QA4MRE-2013-EN_GS.xml']\n",
    "years = [2011,2012,2012,2013] # THIS NEEDS TO BE UPDATED AS FILES ARE ADDED/REMOVED"
   ]
  },
  {
   "cell_type": "code",
   "execution_count": null,
   "metadata": {},
   "outputs": [],
   "source": [
    "## DON'T REDO THIS, JUST LOAD NOW\n",
    "parse_file(files,years,'./data/qa4mre/qa4mre.csv')"
   ]
  },
  {
   "cell_type": "code",
   "execution_count": null,
   "metadata": {},
   "outputs": [],
   "source": [
    "# FILES TO SAVE FOR LATER\n",
    "'./data/qa4mre/2012/QA4MRE-2012_BIOMEDICAL_GS.xml','./data/qa4mre/2013/QA4MRE-2013_BIO_GS-RUN.xml',"
   ]
  },
  {
   "cell_type": "markdown",
   "metadata": {},
   "source": [
    "## Load Data for EDA"
   ]
  },
  {
   "cell_type": "code",
   "execution_count": 154,
   "metadata": {},
   "outputs": [],
   "source": [
    "qa4mre_df = pd.read_csv(\"./data/qa4mre/qa4mre.csv\") #update as needed"
   ]
  },
  {
   "cell_type": "code",
   "execution_count": 155,
   "metadata": {},
   "outputs": [
    {
     "data": {
      "text/html": [
       "<div>\n",
       "<style scoped>\n",
       "    .dataframe tbody tr th:only-of-type {\n",
       "        vertical-align: middle;\n",
       "    }\n",
       "\n",
       "    .dataframe tbody tr th {\n",
       "        vertical-align: top;\n",
       "    }\n",
       "\n",
       "    .dataframe thead th {\n",
       "        text-align: right;\n",
       "    }\n",
       "</style>\n",
       "<table border=\"1\" class=\"dataframe\">\n",
       "  <thead>\n",
       "    <tr style=\"text-align: right;\">\n",
       "      <th></th>\n",
       "      <th>YR</th>\n",
       "      <th>T_ID</th>\n",
       "      <th>T_NAME</th>\n",
       "      <th>R_ID</th>\n",
       "      <th>D_ID</th>\n",
       "      <th>D_STR</th>\n",
       "      <th>Q_ID</th>\n",
       "      <th>Q_STR</th>\n",
       "      <th>A_ID</th>\n",
       "      <th>A_STR</th>\n",
       "      <th>CORRECT</th>\n",
       "    </tr>\n",
       "  </thead>\n",
       "  <tbody>\n",
       "    <tr>\n",
       "      <th>0</th>\n",
       "      <td>2011</td>\n",
       "      <td>1</td>\n",
       "      <td>AIDS</td>\n",
       "      <td>1</td>\n",
       "      <td>1</td>\n",
       "      <td>Annie Lennox Why I am an HIVAIDS activist I'm ...</td>\n",
       "      <td>1</td>\n",
       "      <td>What event caused Annie Lennox to commit herse...</td>\n",
       "      <td>1</td>\n",
       "      <td>the imprisonment of Nelson Mandela at Robben I...</td>\n",
       "      <td>0</td>\n",
       "    </tr>\n",
       "    <tr>\n",
       "      <th>1</th>\n",
       "      <td>2011</td>\n",
       "      <td>1</td>\n",
       "      <td>AIDS</td>\n",
       "      <td>1</td>\n",
       "      <td>1</td>\n",
       "      <td>Annie Lennox Why I am an HIVAIDS activist I'm ...</td>\n",
       "      <td>1</td>\n",
       "      <td>What event caused Annie Lennox to commit herse...</td>\n",
       "      <td>2</td>\n",
       "      <td>the closing ceremony of Nelson Mandela's Found...</td>\n",
       "      <td>0</td>\n",
       "    </tr>\n",
       "    <tr>\n",
       "      <th>2</th>\n",
       "      <td>2011</td>\n",
       "      <td>1</td>\n",
       "      <td>AIDS</td>\n",
       "      <td>1</td>\n",
       "      <td>1</td>\n",
       "      <td>Annie Lennox Why I am an HIVAIDS activist I'm ...</td>\n",
       "      <td>1</td>\n",
       "      <td>What event caused Annie Lennox to commit herse...</td>\n",
       "      <td>3</td>\n",
       "      <td>the meeting with Youssou N'Dour</td>\n",
       "      <td>0</td>\n",
       "    </tr>\n",
       "    <tr>\n",
       "      <th>3</th>\n",
       "      <td>2011</td>\n",
       "      <td>1</td>\n",
       "      <td>AIDS</td>\n",
       "      <td>1</td>\n",
       "      <td>1</td>\n",
       "      <td>Annie Lennox Why I am an HIVAIDS activist I'm ...</td>\n",
       "      <td>1</td>\n",
       "      <td>What event caused Annie Lennox to commit herse...</td>\n",
       "      <td>4</td>\n",
       "      <td>the racial segregation in South Africa</td>\n",
       "      <td>0</td>\n",
       "    </tr>\n",
       "    <tr>\n",
       "      <th>4</th>\n",
       "      <td>2011</td>\n",
       "      <td>1</td>\n",
       "      <td>AIDS</td>\n",
       "      <td>1</td>\n",
       "      <td>1</td>\n",
       "      <td>Annie Lennox Why I am an HIVAIDS activist I'm ...</td>\n",
       "      <td>1</td>\n",
       "      <td>What event caused Annie Lennox to commit herse...</td>\n",
       "      <td>5</td>\n",
       "      <td>Nelson Mandela's conference to the world press</td>\n",
       "      <td>1</td>\n",
       "    </tr>\n",
       "  </tbody>\n",
       "</table>\n",
       "</div>"
      ],
      "text/plain": [
       "     YR  T_ID T_NAME  R_ID  D_ID  \\\n",
       "0  2011     1   AIDS     1     1   \n",
       "1  2011     1   AIDS     1     1   \n",
       "2  2011     1   AIDS     1     1   \n",
       "3  2011     1   AIDS     1     1   \n",
       "4  2011     1   AIDS     1     1   \n",
       "\n",
       "                                               D_STR  Q_ID  \\\n",
       "0  Annie Lennox Why I am an HIVAIDS activist I'm ...     1   \n",
       "1  Annie Lennox Why I am an HIVAIDS activist I'm ...     1   \n",
       "2  Annie Lennox Why I am an HIVAIDS activist I'm ...     1   \n",
       "3  Annie Lennox Why I am an HIVAIDS activist I'm ...     1   \n",
       "4  Annie Lennox Why I am an HIVAIDS activist I'm ...     1   \n",
       "\n",
       "                                               Q_STR  A_ID  \\\n",
       "0  What event caused Annie Lennox to commit herse...     1   \n",
       "1  What event caused Annie Lennox to commit herse...     2   \n",
       "2  What event caused Annie Lennox to commit herse...     3   \n",
       "3  What event caused Annie Lennox to commit herse...     4   \n",
       "4  What event caused Annie Lennox to commit herse...     5   \n",
       "\n",
       "                                               A_STR  CORRECT  \n",
       "0  the imprisonment of Nelson Mandela at Robben I...        0  \n",
       "1  the closing ceremony of Nelson Mandela's Found...        0  \n",
       "2                    the meeting with Youssou N'Dour        0  \n",
       "3             the racial segregation in South Africa        0  \n",
       "4     Nelson Mandela's conference to the world press        1  "
      ]
     },
     "execution_count": 155,
     "metadata": {},
     "output_type": "execute_result"
    }
   ],
   "source": [
    "qa4mre_df.head()"
   ]
  },
  {
   "cell_type": "code",
   "execution_count": 156,
   "metadata": {},
   "outputs": [
    {
     "data": {
      "text/plain": [
       "T_ID\n",
       "1    960\n",
       "2    970\n",
       "3    990\n",
       "4    700\n",
       "dtype: int64"
      ]
     },
     "execution_count": 156,
     "metadata": {},
     "output_type": "execute_result"
    }
   ],
   "source": [
    "qa4mre_df.groupby(['T_ID']).size()"
   ]
  },
  {
   "cell_type": "code",
   "execution_count": 157,
   "metadata": {},
   "outputs": [
    {
     "data": {
      "text/plain": [
       "YR    T_ID\n",
       "2011  1       200\n",
       "      2       200\n",
       "      3       200\n",
       "2012  1       400\n",
       "      2       400\n",
       "      3       400\n",
       "      4       400\n",
       "2013  1       360\n",
       "      2       370\n",
       "      3       390\n",
       "      4       300\n",
       "dtype: int64"
      ]
     },
     "execution_count": 157,
     "metadata": {},
     "output_type": "execute_result"
    }
   ],
   "source": [
    "qa4mre_df.groupby(['YR','T_ID']).size()"
   ]
  },
  {
   "cell_type": "code",
   "execution_count": 180,
   "metadata": {},
   "outputs": [
    {
     "data": {
      "text/plain": [
       "T_ID  T_NAME             YR  \n",
       "1     AIDS               2011    200\n",
       "                         2012    400\n",
       "                         2013    360\n",
       "2     Climate Change     2011    200\n",
       "                         2012    400\n",
       "                         2013    370\n",
       "3     Music and Society  2011    200\n",
       "                         2012    400\n",
       "                         2013    390\n",
       "4     Alzheimer          2012    400\n",
       "                         2013    300\n",
       "dtype: int64"
      ]
     },
     "execution_count": 180,
     "metadata": {},
     "output_type": "execute_result"
    }
   ],
   "source": [
    "qa4mre_df.groupby(['T_ID','T_NAME','YR']).size()"
   ]
  },
  {
   "cell_type": "code",
   "execution_count": 185,
   "metadata": {},
   "outputs": [
    {
     "data": {
      "text/plain": [
       "Q_ID\n",
       "1     300\n",
       "2     300\n",
       "3     300\n",
       "4     300\n",
       "5     300\n",
       "6     300\n",
       "7     300\n",
       "8     300\n",
       "9     300\n",
       "10    300\n",
       "11     80\n",
       "12     80\n",
       "13     80\n",
       "14     80\n",
       "15     80\n",
       "16     60\n",
       "17     60\n",
       "18     60\n",
       "19     25\n",
       "20     15\n",
       "dtype: int64"
      ]
     },
     "execution_count": 185,
     "metadata": {},
     "output_type": "execute_result"
    }
   ],
   "source": [
    "qa4mre_df.groupby(['Q_ID']).size()"
   ]
  },
  {
   "cell_type": "code",
   "execution_count": 36,
   "metadata": {},
   "outputs": [
    {
     "data": {
      "text/plain": [
       "CORRECT  ANS_ID\n",
       "0        1         582\n",
       "         2         586\n",
       "         3         593\n",
       "         4         583\n",
       "         5         552\n",
       "1        1         142\n",
       "         2         138\n",
       "         3         131\n",
       "         4         141\n",
       "         5         172\n",
       "dtype: int64"
      ]
     },
     "execution_count": 36,
     "metadata": {},
     "output_type": "execute_result"
    }
   ],
   "source": [
    "qa4mre_df.groupby(['CORRECT','A_ID']).size()"
   ]
  },
  {
   "cell_type": "code",
   "execution_count": 160,
   "metadata": {},
   "outputs": [
    {
     "data": {
      "text/plain": [
       "CORRECT  YR    A_ID\n",
       "0        2011  1        89\n",
       "               2        98\n",
       "               3        97\n",
       "               4        95\n",
       "               5       101\n",
       "         2012  1       258\n",
       "               2       254\n",
       "               3       256\n",
       "               4       248\n",
       "               5       264\n",
       "         2013  1       235\n",
       "               2       234\n",
       "               3       240\n",
       "               4       240\n",
       "               5       187\n",
       "1        2011  1        31\n",
       "               2        22\n",
       "               3        23\n",
       "               4        25\n",
       "               5        19\n",
       "         2012  1        62\n",
       "               2        66\n",
       "               3        64\n",
       "               4        72\n",
       "               5        56\n",
       "         2013  1        49\n",
       "               2        50\n",
       "               3        44\n",
       "               4        44\n",
       "               5        97\n",
       "dtype: int64"
      ]
     },
     "execution_count": 160,
     "metadata": {},
     "output_type": "execute_result"
    }
   ],
   "source": [
    "qa4mre_df.groupby(['CORRECT','YR','A_ID']).size()"
   ]
  },
  {
   "cell_type": "code",
   "execution_count": 178,
   "metadata": {},
   "outputs": [
    {
     "data": {
      "text/plain": [
       "T_NAME             A_ID\n",
       "AIDS               1       192\n",
       "                   2       192\n",
       "                   3       192\n",
       "                   4       192\n",
       "                   5       192\n",
       "Alzheimer          1       140\n",
       "                   2       140\n",
       "                   3       140\n",
       "                   4       140\n",
       "                   5       140\n",
       "Climate Change     1       194\n",
       "                   2       194\n",
       "                   3       194\n",
       "                   4       194\n",
       "                   5       194\n",
       "Music and Society  1       198\n",
       "                   2       198\n",
       "                   3       198\n",
       "                   4       198\n",
       "                   5       198\n",
       "dtype: int64"
      ]
     },
     "execution_count": 178,
     "metadata": {},
     "output_type": "execute_result"
    }
   ],
   "source": [
    "qa4mre_df.groupby(['CORRECT','T_NAME','A_ID']).size()"
   ]
  },
  {
   "cell_type": "markdown",
   "metadata": {},
   "source": [
    "## Process String Text"
   ]
  },
  {
   "cell_type": "code",
   "execution_count": 161,
   "metadata": {},
   "outputs": [],
   "source": [
    "qa4mre_df.insert(6,'D_LEN',0)\n",
    "qa4mre_df.insert(9,\"Q_LEN\",0)\n",
    "qa4mre_df.insert(12,\"A_LEN\",0)"
   ]
  },
  {
   "cell_type": "code",
   "execution_count": 162,
   "metadata": {},
   "outputs": [
    {
     "data": {
      "text/html": [
       "<div>\n",
       "<style scoped>\n",
       "    .dataframe tbody tr th:only-of-type {\n",
       "        vertical-align: middle;\n",
       "    }\n",
       "\n",
       "    .dataframe tbody tr th {\n",
       "        vertical-align: top;\n",
       "    }\n",
       "\n",
       "    .dataframe thead th {\n",
       "        text-align: right;\n",
       "    }\n",
       "</style>\n",
       "<table border=\"1\" class=\"dataframe\">\n",
       "  <thead>\n",
       "    <tr style=\"text-align: right;\">\n",
       "      <th></th>\n",
       "      <th>YR</th>\n",
       "      <th>T_ID</th>\n",
       "      <th>T_NAME</th>\n",
       "      <th>R_ID</th>\n",
       "      <th>D_ID</th>\n",
       "      <th>D_STR</th>\n",
       "      <th>D_LEN</th>\n",
       "      <th>Q_ID</th>\n",
       "      <th>Q_STR</th>\n",
       "      <th>Q_LEN</th>\n",
       "      <th>A_ID</th>\n",
       "      <th>A_STR</th>\n",
       "      <th>A_LEN</th>\n",
       "      <th>CORRECT</th>\n",
       "    </tr>\n",
       "  </thead>\n",
       "  <tbody>\n",
       "    <tr>\n",
       "      <th>0</th>\n",
       "      <td>2011</td>\n",
       "      <td>1</td>\n",
       "      <td>AIDS</td>\n",
       "      <td>1</td>\n",
       "      <td>1</td>\n",
       "      <td>Annie Lennox Why I am an HIVAIDS activist I'm ...</td>\n",
       "      <td>0</td>\n",
       "      <td>1</td>\n",
       "      <td>What event caused Annie Lennox to commit herse...</td>\n",
       "      <td>0</td>\n",
       "      <td>1</td>\n",
       "      <td>the imprisonment of Nelson Mandela at Robben I...</td>\n",
       "      <td>0</td>\n",
       "      <td>0</td>\n",
       "    </tr>\n",
       "    <tr>\n",
       "      <th>1</th>\n",
       "      <td>2011</td>\n",
       "      <td>1</td>\n",
       "      <td>AIDS</td>\n",
       "      <td>1</td>\n",
       "      <td>1</td>\n",
       "      <td>Annie Lennox Why I am an HIVAIDS activist I'm ...</td>\n",
       "      <td>0</td>\n",
       "      <td>1</td>\n",
       "      <td>What event caused Annie Lennox to commit herse...</td>\n",
       "      <td>0</td>\n",
       "      <td>2</td>\n",
       "      <td>the closing ceremony of Nelson Mandela's Found...</td>\n",
       "      <td>0</td>\n",
       "      <td>0</td>\n",
       "    </tr>\n",
       "    <tr>\n",
       "      <th>2</th>\n",
       "      <td>2011</td>\n",
       "      <td>1</td>\n",
       "      <td>AIDS</td>\n",
       "      <td>1</td>\n",
       "      <td>1</td>\n",
       "      <td>Annie Lennox Why I am an HIVAIDS activist I'm ...</td>\n",
       "      <td>0</td>\n",
       "      <td>1</td>\n",
       "      <td>What event caused Annie Lennox to commit herse...</td>\n",
       "      <td>0</td>\n",
       "      <td>3</td>\n",
       "      <td>the meeting with Youssou N'Dour</td>\n",
       "      <td>0</td>\n",
       "      <td>0</td>\n",
       "    </tr>\n",
       "    <tr>\n",
       "      <th>3</th>\n",
       "      <td>2011</td>\n",
       "      <td>1</td>\n",
       "      <td>AIDS</td>\n",
       "      <td>1</td>\n",
       "      <td>1</td>\n",
       "      <td>Annie Lennox Why I am an HIVAIDS activist I'm ...</td>\n",
       "      <td>0</td>\n",
       "      <td>1</td>\n",
       "      <td>What event caused Annie Lennox to commit herse...</td>\n",
       "      <td>0</td>\n",
       "      <td>4</td>\n",
       "      <td>the racial segregation in South Africa</td>\n",
       "      <td>0</td>\n",
       "      <td>0</td>\n",
       "    </tr>\n",
       "    <tr>\n",
       "      <th>4</th>\n",
       "      <td>2011</td>\n",
       "      <td>1</td>\n",
       "      <td>AIDS</td>\n",
       "      <td>1</td>\n",
       "      <td>1</td>\n",
       "      <td>Annie Lennox Why I am an HIVAIDS activist I'm ...</td>\n",
       "      <td>0</td>\n",
       "      <td>1</td>\n",
       "      <td>What event caused Annie Lennox to commit herse...</td>\n",
       "      <td>0</td>\n",
       "      <td>5</td>\n",
       "      <td>Nelson Mandela's conference to the world press</td>\n",
       "      <td>0</td>\n",
       "      <td>1</td>\n",
       "    </tr>\n",
       "  </tbody>\n",
       "</table>\n",
       "</div>"
      ],
      "text/plain": [
       "     YR  T_ID T_NAME  R_ID  D_ID  \\\n",
       "0  2011     1   AIDS     1     1   \n",
       "1  2011     1   AIDS     1     1   \n",
       "2  2011     1   AIDS     1     1   \n",
       "3  2011     1   AIDS     1     1   \n",
       "4  2011     1   AIDS     1     1   \n",
       "\n",
       "                                               D_STR  D_LEN  Q_ID  \\\n",
       "0  Annie Lennox Why I am an HIVAIDS activist I'm ...      0     1   \n",
       "1  Annie Lennox Why I am an HIVAIDS activist I'm ...      0     1   \n",
       "2  Annie Lennox Why I am an HIVAIDS activist I'm ...      0     1   \n",
       "3  Annie Lennox Why I am an HIVAIDS activist I'm ...      0     1   \n",
       "4  Annie Lennox Why I am an HIVAIDS activist I'm ...      0     1   \n",
       "\n",
       "                                               Q_STR  Q_LEN  A_ID  \\\n",
       "0  What event caused Annie Lennox to commit herse...      0     1   \n",
       "1  What event caused Annie Lennox to commit herse...      0     2   \n",
       "2  What event caused Annie Lennox to commit herse...      0     3   \n",
       "3  What event caused Annie Lennox to commit herse...      0     4   \n",
       "4  What event caused Annie Lennox to commit herse...      0     5   \n",
       "\n",
       "                                               A_STR  A_LEN  CORRECT  \n",
       "0  the imprisonment of Nelson Mandela at Robben I...      0        0  \n",
       "1  the closing ceremony of Nelson Mandela's Found...      0        0  \n",
       "2                    the meeting with Youssou N'Dour      0        0  \n",
       "3             the racial segregation in South Africa      0        0  \n",
       "4     Nelson Mandela's conference to the world press      0        1  "
      ]
     },
     "execution_count": 162,
     "metadata": {},
     "output_type": "execute_result"
    }
   ],
   "source": [
    "qa4mre_df.head()"
   ]
  },
  {
   "cell_type": "code",
   "execution_count": 163,
   "metadata": {},
   "outputs": [],
   "source": [
    "for i,row in qa4mre_df.iterrows():\n",
    "    qa4mre_df.at[i,'D_LEN'] = len(nltk.word_tokenize(row['D_STR']))\n",
    "    qa4mre_df.at[i,'Q_LEN'] = len(nltk.word_tokenize(row['Q_STR']))\n",
    "    qa4mre_df.at[i,'A_LEN'] = len(nltk.word_tokenize(row['A_STR']))"
   ]
  },
  {
   "cell_type": "markdown",
   "metadata": {},
   "source": [
    "### Passage Length"
   ]
  },
  {
   "cell_type": "code",
   "execution_count": 164,
   "metadata": {
    "scrolled": true
   },
   "outputs": [
    {
     "data": {
      "text/plain": [
       "4305"
      ]
     },
     "execution_count": 164,
     "metadata": {},
     "output_type": "execute_result"
    }
   ],
   "source": [
    "qa4mre_df['D_LEN'].max()"
   ]
  },
  {
   "cell_type": "code",
   "execution_count": 165,
   "metadata": {},
   "outputs": [
    {
     "data": {
      "text/plain": [
       "958"
      ]
     },
     "execution_count": 165,
     "metadata": {},
     "output_type": "execute_result"
    }
   ],
   "source": [
    "qa4mre_df['D_LEN'].min()"
   ]
  },
  {
   "cell_type": "code",
   "execution_count": 166,
   "metadata": {},
   "outputs": [
    {
     "data": {
      "text/plain": [
       "1991.3052486187846"
      ]
     },
     "execution_count": 166,
     "metadata": {},
     "output_type": "execute_result"
    }
   ],
   "source": [
    "qa4mre_df['D_LEN'].mean() # This will become a problem for 2013, with variable # of questions"
   ]
  },
  {
   "cell_type": "markdown",
   "metadata": {},
   "source": [
    "### Question Length"
   ]
  },
  {
   "cell_type": "code",
   "execution_count": 167,
   "metadata": {
    "scrolled": false
   },
   "outputs": [
    {
     "data": {
      "text/plain": [
       "36"
      ]
     },
     "execution_count": 167,
     "metadata": {},
     "output_type": "execute_result"
    }
   ],
   "source": [
    "qa4mre_df['Q_LEN'].max()"
   ]
  },
  {
   "cell_type": "code",
   "execution_count": 168,
   "metadata": {},
   "outputs": [
    {
     "data": {
      "text/plain": [
       "4"
      ]
     },
     "execution_count": 168,
     "metadata": {},
     "output_type": "execute_result"
    }
   ],
   "source": [
    "qa4mre_df['Q_LEN'].min()"
   ]
  },
  {
   "cell_type": "code",
   "execution_count": 169,
   "metadata": {},
   "outputs": [
    {
     "data": {
      "text/plain": [
       "12.113259668508288"
      ]
     },
     "execution_count": 169,
     "metadata": {},
     "output_type": "execute_result"
    }
   ],
   "source": [
    "qa4mre_df['Q_LEN'].mean() # Each question is represented 5 times, for each answer"
   ]
  },
  {
   "cell_type": "markdown",
   "metadata": {},
   "source": [
    "### Answer Length"
   ]
  },
  {
   "cell_type": "code",
   "execution_count": 170,
   "metadata": {},
   "outputs": [
    {
     "data": {
      "text/plain": [
       "41"
      ]
     },
     "execution_count": 170,
     "metadata": {},
     "output_type": "execute_result"
    }
   ],
   "source": [
    "qa4mre_df['A_LEN'].max()"
   ]
  },
  {
   "cell_type": "code",
   "execution_count": 171,
   "metadata": {},
   "outputs": [
    {
     "data": {
      "text/plain": [
       "1"
      ]
     },
     "execution_count": 171,
     "metadata": {},
     "output_type": "execute_result"
    }
   ],
   "source": [
    "qa4mre_df['A_LEN'].min()"
   ]
  },
  {
   "cell_type": "code",
   "execution_count": 172,
   "metadata": {},
   "outputs": [
    {
     "data": {
      "text/plain": [
       "4.702209944751381"
      ]
     },
     "execution_count": 172,
     "metadata": {},
     "output_type": "execute_result"
    }
   ],
   "source": [
    "qa4mre_df['A_LEN'].mean() # Each question is represented 5 times, for each answer"
   ]
  },
  {
   "cell_type": "code",
   "execution_count": 177,
   "metadata": {},
   "outputs": [
    {
     "data": {
      "text/html": [
       "<div>\n",
       "<style scoped>\n",
       "    .dataframe tbody tr th:only-of-type {\n",
       "        vertical-align: middle;\n",
       "    }\n",
       "\n",
       "    .dataframe tbody tr th {\n",
       "        vertical-align: top;\n",
       "    }\n",
       "\n",
       "    .dataframe thead th {\n",
       "        text-align: right;\n",
       "    }\n",
       "</style>\n",
       "<table border=\"1\" class=\"dataframe\">\n",
       "  <thead>\n",
       "    <tr style=\"text-align: right;\">\n",
       "      <th></th>\n",
       "      <th>YR</th>\n",
       "      <th>T_ID</th>\n",
       "      <th>T_NAME</th>\n",
       "      <th>R_ID</th>\n",
       "      <th>D_ID</th>\n",
       "      <th>D_STR</th>\n",
       "      <th>D_LEN</th>\n",
       "      <th>Q_ID</th>\n",
       "      <th>Q_STR</th>\n",
       "      <th>Q_LEN</th>\n",
       "      <th>A_ID</th>\n",
       "      <th>A_STR</th>\n",
       "      <th>A_LEN</th>\n",
       "    </tr>\n",
       "    <tr>\n",
       "      <th>CORRECT</th>\n",
       "      <th></th>\n",
       "      <th></th>\n",
       "      <th></th>\n",
       "      <th></th>\n",
       "      <th></th>\n",
       "      <th></th>\n",
       "      <th></th>\n",
       "      <th></th>\n",
       "      <th></th>\n",
       "      <th></th>\n",
       "      <th></th>\n",
       "      <th></th>\n",
       "      <th></th>\n",
       "    </tr>\n",
       "  </thead>\n",
       "  <tbody>\n",
       "    <tr>\n",
       "      <th>0</th>\n",
       "      <td>2013</td>\n",
       "      <td>4</td>\n",
       "      <td>Music and Society</td>\n",
       "      <td>16</td>\n",
       "      <td>16</td>\n",
       "      <td>Elizabeth Pisani: Sex, drugs and HIV -- let's ...</td>\n",
       "      <td>4305</td>\n",
       "      <td>20</td>\n",
       "      <td>Why, when playing at the house of Cardinal Ott...</td>\n",
       "      <td>36</td>\n",
       "      <td>5</td>\n",
       "      <td>you could work harder</td>\n",
       "      <td>22</td>\n",
       "    </tr>\n",
       "    <tr>\n",
       "      <th>1</th>\n",
       "      <td>2013</td>\n",
       "      <td>4</td>\n",
       "      <td>Music and Society</td>\n",
       "      <td>16</td>\n",
       "      <td>16</td>\n",
       "      <td>Elizabeth Pisani: Sex, drugs and HIV -- let's ...</td>\n",
       "      <td>4305</td>\n",
       "      <td>20</td>\n",
       "      <td>Why, when playing at the house of Cardinal Ott...</td>\n",
       "      <td>36</td>\n",
       "      <td>5</td>\n",
       "      <td>young people could listen to pop outside</td>\n",
       "      <td>41</td>\n",
       "    </tr>\n",
       "  </tbody>\n",
       "</table>\n",
       "</div>"
      ],
      "text/plain": [
       "           YR  T_ID             T_NAME  R_ID  D_ID  \\\n",
       "CORRECT                                              \n",
       "0        2013     4  Music and Society    16    16   \n",
       "1        2013     4  Music and Society    16    16   \n",
       "\n",
       "                                                     D_STR  D_LEN  Q_ID  \\\n",
       "CORRECT                                                                   \n",
       "0        Elizabeth Pisani: Sex, drugs and HIV -- let's ...   4305    20   \n",
       "1        Elizabeth Pisani: Sex, drugs and HIV -- let's ...   4305    20   \n",
       "\n",
       "                                                     Q_STR  Q_LEN  A_ID  \\\n",
       "CORRECT                                                                   \n",
       "0        Why, when playing at the house of Cardinal Ott...     36     5   \n",
       "1        Why, when playing at the house of Cardinal Ott...     36     5   \n",
       "\n",
       "                                            A_STR  A_LEN  \n",
       "CORRECT                                                   \n",
       "0                           you could work harder     22  \n",
       "1        young people could listen to pop outside     41  "
      ]
     },
     "execution_count": 177,
     "metadata": {},
     "output_type": "execute_result"
    }
   ],
   "source": [
    "qa4mre_df.groupby(['CORRECT']).max()"
   ]
  },
  {
   "cell_type": "code",
   "execution_count": null,
   "metadata": {},
   "outputs": [],
   "source": []
  }
 ],
 "metadata": {
  "kernelspec": {
   "display_name": "Python 3",
   "language": "python",
   "name": "python3"
  },
  "language_info": {
   "codemirror_mode": {
    "name": "ipython",
    "version": 3
   },
   "file_extension": ".py",
   "mimetype": "text/x-python",
   "name": "python",
   "nbconvert_exporter": "python",
   "pygments_lexer": "ipython3",
   "version": "3.6.4"
  }
 },
 "nbformat": 4,
 "nbformat_minor": 2
}
