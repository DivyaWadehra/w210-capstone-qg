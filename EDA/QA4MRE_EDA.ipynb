{
 "cells": [
  {
   "cell_type": "markdown",
   "metadata": {},
   "source": [
    "# EDA for QA4MRE dataset"
   ]
  },
  {
   "cell_type": "markdown",
   "metadata": {},
   "source": [
    "## Imports and Setup"
   ]
  },
  {
   "cell_type": "code",
   "execution_count": 1,
   "metadata": {},
   "outputs": [],
   "source": [
    "import csv\n",
    "import requests\n",
    "import xml.etree.ElementTree as ET\n",
    "#import stanford_parser\n",
    "import nltk\n",
    "import pandas as pd\n",
    "import re\n",
    "import json\n",
    "#from stanford_parser import sentence_split"
   ]
  },
  {
   "cell_type": "code",
   "execution_count": 2,
   "metadata": {},
   "outputs": [],
   "source": [
    "tokenizer = nltk.data.load('tokenizers/punkt/english.pickle')"
   ]
  },
  {
   "cell_type": "markdown",
   "metadata": {},
   "source": [
    "## Input .XML file, organize .CSV"
   ]
  },
  {
   "cell_type": "code",
   "execution_count": 3,
   "metadata": {},
   "outputs": [],
   "source": [
    "# create element tree object \n",
    "def parse_file(xmlfiles,yrs,filename):\n",
    "   \n",
    "    # open a file for writing\n",
    "\n",
    "    QA_data = open(filename, 'w')\n",
    "\n",
    "    # create the csv writer object\n",
    "\n",
    "    csvwriter = csv.writer(QA_data)\n",
    "\n",
    "    # write column names\n",
    "    headings = ['YR','T_ID','T_NAME','R_ID','D_ID','D_STR','Q_ID','Q_STR','A_ID','A_STR','CORRECT']\n",
    "    csvwriter.writerow(headings)\n",
    "    \n",
    "    for i,xmlfile in enumerate(xmlfiles):\n",
    "        print(\"Opening...\",xmlfile)\n",
    "        \n",
    "        tree = ET.parse(xmlfile)\n",
    "        yr = yrs[i]\n",
    "  \n",
    "        # get root element \n",
    "        root = tree.getroot() \n",
    "\n",
    "        #rows = []\n",
    "\n",
    "        for topic in root.iter('topic'):\n",
    "            t_id = topic.attrib['t_id']\n",
    "            t_name = topic.attrib['t_name']\n",
    "            #print(topic.attrib)\n",
    "\n",
    "            for read_test in topic.iter('reading-test'):\n",
    "                r_id = read_test.attrib['r_id']\n",
    "                #print(\"\\nreading test\",r_id)\n",
    "                doc = read_test.find('doc')\n",
    "                d_id = doc.attrib['d_id']\n",
    "                d_str = doc.text#.encode(#'utf-8')\n",
    "\n",
    "                for questions in read_test.iter('q'):\n",
    "                    q_id = questions.attrib['q_id']\n",
    "                    question = questions.find('q_str').text#.encode('utf-8')\n",
    "                    #print(question)\n",
    "\n",
    "                    for answers in questions.iter('answer'):\n",
    "                        rows = []\n",
    "\n",
    "                        if ('correct' in answers.attrib):\n",
    "                            correct = 1\n",
    "                        else:\n",
    "                            correct = 0\n",
    "                        #print(correct)\n",
    "                        a_id = answers.attrib['a_id']\n",
    "                        a_text = answers.text#.encode('utf-8')\n",
    "                        #print(a_text)\n",
    "\n",
    "                        rows.append(yr)\n",
    "                        rows.append(t_id)\n",
    "                        rows.append(t_name)\n",
    "                        rows.append(r_id)                \n",
    "                        rows.append(d_id)\n",
    "                        rows.append(d_str)\n",
    "                        rows.append(q_id)\n",
    "                        rows.append(question)\n",
    "                        rows.append(a_id)\n",
    "                        rows.append(a_text)\n",
    "                        rows.append(correct)\n",
    "\n",
    "                        csvwriter.writerow(rows)\n",
    "\n",
    "        print(\"Closing...\",xmlfile)\n",
    "\n",
    "    print(\"Parsing complete!\")\n",
    "    QA_data.close()"
   ]
  },
  {
   "cell_type": "code",
   "execution_count": 150,
   "metadata": {},
   "outputs": [
    {
     "name": "stdout",
     "output_type": "stream",
     "text": [
      "Opening... ./data/qa4mre/2011/QA4MRE-2011-EN_GS.xml\n",
      "Closing... ./data/qa4mre/2011/QA4MRE-2011-EN_GS.xml\n",
      "Parsing complete!\n"
     ]
    }
   ],
   "source": [
    "#parse_file(test_file,[2011],'./data/qa4mre/qa4mre_tester.csv')"
   ]
  },
  {
   "cell_type": "code",
   "execution_count": 151,
   "metadata": {},
   "outputs": [],
   "source": [
    "test_file = ['./data/qa4mre/2011/QA4MRE-2011-EN_GS.xml']\n",
    "files = ['./data/qa4mre/2011/QA4MRE-2011-EN_GS.xml','./data/qa4mre/2012/QA4MRE-2012-EN_GS_SYNC.xml',\n",
    "         './data/qa4mre/2012/QA4MRE-2012-EN_GS.xml','./data/qa4mre/2013/QA4MRE-2013-EN_GS.xml']\n",
    "years = [2011,2012,2012,2013] # THIS NEEDS TO BE UPDATED AS FILES ARE ADDED/REMOVED"
   ]
  },
  {
   "cell_type": "code",
   "execution_count": null,
   "metadata": {},
   "outputs": [],
   "source": [
    "## DON'T REDO THIS, JUST LOAD NOW\n",
    "parse_file(files,years,'./data/qa4mre/qa4mre.csv')"
   ]
  },
  {
   "cell_type": "code",
   "execution_count": null,
   "metadata": {},
   "outputs": [],
   "source": [
    "# FILES TO SAVE FOR LATER\n",
    "'./data/qa4mre/2012/QA4MRE-2012_BIOMEDICAL_GS.xml','./data/qa4mre/2013/QA4MRE-2013_BIO_GS-RUN.xml',"
   ]
  },
  {
   "cell_type": "markdown",
   "metadata": {},
   "source": [
    "## Load Data for EDA"
   ]
  },
  {
   "cell_type": "code",
   "execution_count": 4,
   "metadata": {},
   "outputs": [],
   "source": [
    "qa4mre_df = pd.read_csv(\"./data/qa4mre/qa4mre.csv\") #update as needed"
   ]
  },
  {
   "cell_type": "code",
   "execution_count": 5,
   "metadata": {},
   "outputs": [
    {
     "data": {
      "text/html": [
       "<div>\n",
       "<style scoped>\n",
       "    .dataframe tbody tr th:only-of-type {\n",
       "        vertical-align: middle;\n",
       "    }\n",
       "\n",
       "    .dataframe tbody tr th {\n",
       "        vertical-align: top;\n",
       "    }\n",
       "\n",
       "    .dataframe thead th {\n",
       "        text-align: right;\n",
       "    }\n",
       "</style>\n",
       "<table border=\"1\" class=\"dataframe\">\n",
       "  <thead>\n",
       "    <tr style=\"text-align: right;\">\n",
       "      <th></th>\n",
       "      <th>YR</th>\n",
       "      <th>T_ID</th>\n",
       "      <th>T_NAME</th>\n",
       "      <th>R_ID</th>\n",
       "      <th>D_ID</th>\n",
       "      <th>D_STR</th>\n",
       "      <th>Q_ID</th>\n",
       "      <th>Q_STR</th>\n",
       "      <th>A_ID</th>\n",
       "      <th>A_STR</th>\n",
       "      <th>CORRECT</th>\n",
       "    </tr>\n",
       "  </thead>\n",
       "  <tbody>\n",
       "    <tr>\n",
       "      <th>0</th>\n",
       "      <td>2011</td>\n",
       "      <td>1</td>\n",
       "      <td>AIDS</td>\n",
       "      <td>1</td>\n",
       "      <td>1</td>\n",
       "      <td>Annie Lennox Why I am an HIVAIDS activist I'm ...</td>\n",
       "      <td>1</td>\n",
       "      <td>What event caused Annie Lennox to commit herse...</td>\n",
       "      <td>1</td>\n",
       "      <td>the imprisonment of Nelson Mandela at Robben I...</td>\n",
       "      <td>0</td>\n",
       "    </tr>\n",
       "    <tr>\n",
       "      <th>1</th>\n",
       "      <td>2011</td>\n",
       "      <td>1</td>\n",
       "      <td>AIDS</td>\n",
       "      <td>1</td>\n",
       "      <td>1</td>\n",
       "      <td>Annie Lennox Why I am an HIVAIDS activist I'm ...</td>\n",
       "      <td>1</td>\n",
       "      <td>What event caused Annie Lennox to commit herse...</td>\n",
       "      <td>2</td>\n",
       "      <td>the closing ceremony of Nelson Mandela's Found...</td>\n",
       "      <td>0</td>\n",
       "    </tr>\n",
       "    <tr>\n",
       "      <th>2</th>\n",
       "      <td>2011</td>\n",
       "      <td>1</td>\n",
       "      <td>AIDS</td>\n",
       "      <td>1</td>\n",
       "      <td>1</td>\n",
       "      <td>Annie Lennox Why I am an HIVAIDS activist I'm ...</td>\n",
       "      <td>1</td>\n",
       "      <td>What event caused Annie Lennox to commit herse...</td>\n",
       "      <td>3</td>\n",
       "      <td>the meeting with Youssou N'Dour</td>\n",
       "      <td>0</td>\n",
       "    </tr>\n",
       "    <tr>\n",
       "      <th>3</th>\n",
       "      <td>2011</td>\n",
       "      <td>1</td>\n",
       "      <td>AIDS</td>\n",
       "      <td>1</td>\n",
       "      <td>1</td>\n",
       "      <td>Annie Lennox Why I am an HIVAIDS activist I'm ...</td>\n",
       "      <td>1</td>\n",
       "      <td>What event caused Annie Lennox to commit herse...</td>\n",
       "      <td>4</td>\n",
       "      <td>the racial segregation in South Africa</td>\n",
       "      <td>0</td>\n",
       "    </tr>\n",
       "    <tr>\n",
       "      <th>4</th>\n",
       "      <td>2011</td>\n",
       "      <td>1</td>\n",
       "      <td>AIDS</td>\n",
       "      <td>1</td>\n",
       "      <td>1</td>\n",
       "      <td>Annie Lennox Why I am an HIVAIDS activist I'm ...</td>\n",
       "      <td>1</td>\n",
       "      <td>What event caused Annie Lennox to commit herse...</td>\n",
       "      <td>5</td>\n",
       "      <td>Nelson Mandela's conference to the world press</td>\n",
       "      <td>1</td>\n",
       "    </tr>\n",
       "  </tbody>\n",
       "</table>\n",
       "</div>"
      ],
      "text/plain": [
       "     YR  T_ID T_NAME  R_ID  D_ID  \\\n",
       "0  2011     1   AIDS     1     1   \n",
       "1  2011     1   AIDS     1     1   \n",
       "2  2011     1   AIDS     1     1   \n",
       "3  2011     1   AIDS     1     1   \n",
       "4  2011     1   AIDS     1     1   \n",
       "\n",
       "                                               D_STR  Q_ID  \\\n",
       "0  Annie Lennox Why I am an HIVAIDS activist I'm ...     1   \n",
       "1  Annie Lennox Why I am an HIVAIDS activist I'm ...     1   \n",
       "2  Annie Lennox Why I am an HIVAIDS activist I'm ...     1   \n",
       "3  Annie Lennox Why I am an HIVAIDS activist I'm ...     1   \n",
       "4  Annie Lennox Why I am an HIVAIDS activist I'm ...     1   \n",
       "\n",
       "                                               Q_STR  A_ID  \\\n",
       "0  What event caused Annie Lennox to commit herse...     1   \n",
       "1  What event caused Annie Lennox to commit herse...     2   \n",
       "2  What event caused Annie Lennox to commit herse...     3   \n",
       "3  What event caused Annie Lennox to commit herse...     4   \n",
       "4  What event caused Annie Lennox to commit herse...     5   \n",
       "\n",
       "                                               A_STR  CORRECT  \n",
       "0  the imprisonment of Nelson Mandela at Robben I...        0  \n",
       "1  the closing ceremony of Nelson Mandela's Found...        0  \n",
       "2                    the meeting with Youssou N'Dour        0  \n",
       "3             the racial segregation in South Africa        0  \n",
       "4     Nelson Mandela's conference to the world press        1  "
      ]
     },
     "execution_count": 5,
     "metadata": {},
     "output_type": "execute_result"
    }
   ],
   "source": [
    "qa4mre_df.head()"
   ]
  },
  {
   "cell_type": "code",
   "execution_count": 6,
   "metadata": {},
   "outputs": [
    {
     "data": {
      "text/plain": [
       "T_ID\n",
       "1    960\n",
       "2    970\n",
       "3    990\n",
       "4    700\n",
       "dtype: int64"
      ]
     },
     "execution_count": 6,
     "metadata": {},
     "output_type": "execute_result"
    }
   ],
   "source": [
    "qa4mre_df.groupby(['T_ID']).size()"
   ]
  },
  {
   "cell_type": "code",
   "execution_count": 7,
   "metadata": {},
   "outputs": [
    {
     "data": {
      "text/plain": [
       "YR    T_ID\n",
       "2011  1       200\n",
       "      2       200\n",
       "      3       200\n",
       "2012  1       400\n",
       "      2       400\n",
       "      3       400\n",
       "      4       400\n",
       "2013  1       360\n",
       "      2       370\n",
       "      3       390\n",
       "      4       300\n",
       "dtype: int64"
      ]
     },
     "execution_count": 7,
     "metadata": {},
     "output_type": "execute_result"
    }
   ],
   "source": [
    "qa4mre_df.groupby(['YR','T_ID']).size()"
   ]
  },
  {
   "cell_type": "code",
   "execution_count": 8,
   "metadata": {},
   "outputs": [
    {
     "data": {
      "text/plain": [
       "T_ID  T_NAME             YR  \n",
       "1     AIDS               2011    200\n",
       "                         2012    400\n",
       "                         2013    360\n",
       "2     Climate Change     2011    200\n",
       "                         2012    400\n",
       "                         2013    370\n",
       "3     Music and Society  2011    200\n",
       "                         2012    400\n",
       "                         2013    390\n",
       "4     Alzheimer          2012    400\n",
       "                         2013    300\n",
       "dtype: int64"
      ]
     },
     "execution_count": 8,
     "metadata": {},
     "output_type": "execute_result"
    }
   ],
   "source": [
    "qa4mre_df.groupby(['T_ID','T_NAME','YR']).size()"
   ]
  },
  {
   "cell_type": "code",
   "execution_count": 9,
   "metadata": {},
   "outputs": [
    {
     "data": {
      "text/plain": [
       "Q_ID\n",
       "1     300\n",
       "2     300\n",
       "3     300\n",
       "4     300\n",
       "5     300\n",
       "6     300\n",
       "7     300\n",
       "8     300\n",
       "9     300\n",
       "10    300\n",
       "11     80\n",
       "12     80\n",
       "13     80\n",
       "14     80\n",
       "15     80\n",
       "16     60\n",
       "17     60\n",
       "18     60\n",
       "19     25\n",
       "20     15\n",
       "dtype: int64"
      ]
     },
     "execution_count": 9,
     "metadata": {},
     "output_type": "execute_result"
    }
   ],
   "source": [
    "qa4mre_df.groupby(['Q_ID']).size()"
   ]
  },
  {
   "cell_type": "code",
   "execution_count": 10,
   "metadata": {},
   "outputs": [
    {
     "data": {
      "text/plain": [
       "CORRECT  A_ID\n",
       "0        1       582\n",
       "         2       586\n",
       "         3       593\n",
       "         4       583\n",
       "         5       552\n",
       "1        1       142\n",
       "         2       138\n",
       "         3       131\n",
       "         4       141\n",
       "         5       172\n",
       "dtype: int64"
      ]
     },
     "execution_count": 10,
     "metadata": {},
     "output_type": "execute_result"
    }
   ],
   "source": [
    "qa4mre_df.groupby(['CORRECT','A_ID']).size()"
   ]
  },
  {
   "cell_type": "code",
   "execution_count": 11,
   "metadata": {},
   "outputs": [
    {
     "data": {
      "text/plain": [
       "CORRECT  YR    A_ID\n",
       "0        2011  1        89\n",
       "               2        98\n",
       "               3        97\n",
       "               4        95\n",
       "               5       101\n",
       "         2012  1       258\n",
       "               2       254\n",
       "               3       256\n",
       "               4       248\n",
       "               5       264\n",
       "         2013  1       235\n",
       "               2       234\n",
       "               3       240\n",
       "               4       240\n",
       "               5       187\n",
       "1        2011  1        31\n",
       "               2        22\n",
       "               3        23\n",
       "               4        25\n",
       "               5        19\n",
       "         2012  1        62\n",
       "               2        66\n",
       "               3        64\n",
       "               4        72\n",
       "               5        56\n",
       "         2013  1        49\n",
       "               2        50\n",
       "               3        44\n",
       "               4        44\n",
       "               5        97\n",
       "dtype: int64"
      ]
     },
     "execution_count": 11,
     "metadata": {},
     "output_type": "execute_result"
    }
   ],
   "source": [
    "qa4mre_df.groupby(['CORRECT','YR','A_ID']).size()"
   ]
  },
  {
   "cell_type": "code",
   "execution_count": 12,
   "metadata": {},
   "outputs": [
    {
     "data": {
      "text/plain": [
       "CORRECT  T_NAME             A_ID\n",
       "0        AIDS               1       156\n",
       "                            2       157\n",
       "                            3       163\n",
       "                            4       150\n",
       "                            5       142\n",
       "         Alzheimer          1       117\n",
       "                            2       112\n",
       "                            3       115\n",
       "                            4       112\n",
       "                            5       104\n",
       "         Climate Change     1       162\n",
       "                            2       150\n",
       "                            3       161\n",
       "                            4       156\n",
       "                            5       147\n",
       "         Music and Society  1       147\n",
       "                            2       167\n",
       "                            3       154\n",
       "                            4       165\n",
       "                            5       159\n",
       "1        AIDS               1        36\n",
       "                            2        35\n",
       "                            3        29\n",
       "                            4        42\n",
       "                            5        50\n",
       "         Alzheimer          1        23\n",
       "                            2        28\n",
       "                            3        25\n",
       "                            4        28\n",
       "                            5        36\n",
       "         Climate Change     1        32\n",
       "                            2        44\n",
       "                            3        33\n",
       "                            4        38\n",
       "                            5        47\n",
       "         Music and Society  1        51\n",
       "                            2        31\n",
       "                            3        44\n",
       "                            4        33\n",
       "                            5        39\n",
       "dtype: int64"
      ]
     },
     "execution_count": 12,
     "metadata": {},
     "output_type": "execute_result"
    }
   ],
   "source": [
    "qa4mre_df.groupby(['CORRECT','T_NAME','A_ID']).size()"
   ]
  },
  {
   "cell_type": "markdown",
   "metadata": {},
   "source": [
    "## Process String Text"
   ]
  },
  {
   "cell_type": "code",
   "execution_count": 13,
   "metadata": {},
   "outputs": [],
   "source": [
    "qa4mre_df.insert(6,'D_LEN',0)\n",
    "qa4mre_df.insert(9,\"Q_LEN\",0)\n",
    "qa4mre_df.insert(12,\"A_LEN\",0)"
   ]
  },
  {
   "cell_type": "code",
   "execution_count": 14,
   "metadata": {},
   "outputs": [
    {
     "data": {
      "text/html": [
       "<div>\n",
       "<style scoped>\n",
       "    .dataframe tbody tr th:only-of-type {\n",
       "        vertical-align: middle;\n",
       "    }\n",
       "\n",
       "    .dataframe tbody tr th {\n",
       "        vertical-align: top;\n",
       "    }\n",
       "\n",
       "    .dataframe thead th {\n",
       "        text-align: right;\n",
       "    }\n",
       "</style>\n",
       "<table border=\"1\" class=\"dataframe\">\n",
       "  <thead>\n",
       "    <tr style=\"text-align: right;\">\n",
       "      <th></th>\n",
       "      <th>YR</th>\n",
       "      <th>T_ID</th>\n",
       "      <th>T_NAME</th>\n",
       "      <th>R_ID</th>\n",
       "      <th>D_ID</th>\n",
       "      <th>D_STR</th>\n",
       "      <th>D_LEN</th>\n",
       "      <th>Q_ID</th>\n",
       "      <th>Q_STR</th>\n",
       "      <th>Q_LEN</th>\n",
       "      <th>A_ID</th>\n",
       "      <th>A_STR</th>\n",
       "      <th>A_LEN</th>\n",
       "      <th>CORRECT</th>\n",
       "    </tr>\n",
       "  </thead>\n",
       "  <tbody>\n",
       "    <tr>\n",
       "      <th>0</th>\n",
       "      <td>2011</td>\n",
       "      <td>1</td>\n",
       "      <td>AIDS</td>\n",
       "      <td>1</td>\n",
       "      <td>1</td>\n",
       "      <td>Annie Lennox Why I am an HIVAIDS activist I'm ...</td>\n",
       "      <td>0</td>\n",
       "      <td>1</td>\n",
       "      <td>What event caused Annie Lennox to commit herse...</td>\n",
       "      <td>0</td>\n",
       "      <td>1</td>\n",
       "      <td>the imprisonment of Nelson Mandela at Robben I...</td>\n",
       "      <td>0</td>\n",
       "      <td>0</td>\n",
       "    </tr>\n",
       "    <tr>\n",
       "      <th>1</th>\n",
       "      <td>2011</td>\n",
       "      <td>1</td>\n",
       "      <td>AIDS</td>\n",
       "      <td>1</td>\n",
       "      <td>1</td>\n",
       "      <td>Annie Lennox Why I am an HIVAIDS activist I'm ...</td>\n",
       "      <td>0</td>\n",
       "      <td>1</td>\n",
       "      <td>What event caused Annie Lennox to commit herse...</td>\n",
       "      <td>0</td>\n",
       "      <td>2</td>\n",
       "      <td>the closing ceremony of Nelson Mandela's Found...</td>\n",
       "      <td>0</td>\n",
       "      <td>0</td>\n",
       "    </tr>\n",
       "    <tr>\n",
       "      <th>2</th>\n",
       "      <td>2011</td>\n",
       "      <td>1</td>\n",
       "      <td>AIDS</td>\n",
       "      <td>1</td>\n",
       "      <td>1</td>\n",
       "      <td>Annie Lennox Why I am an HIVAIDS activist I'm ...</td>\n",
       "      <td>0</td>\n",
       "      <td>1</td>\n",
       "      <td>What event caused Annie Lennox to commit herse...</td>\n",
       "      <td>0</td>\n",
       "      <td>3</td>\n",
       "      <td>the meeting with Youssou N'Dour</td>\n",
       "      <td>0</td>\n",
       "      <td>0</td>\n",
       "    </tr>\n",
       "    <tr>\n",
       "      <th>3</th>\n",
       "      <td>2011</td>\n",
       "      <td>1</td>\n",
       "      <td>AIDS</td>\n",
       "      <td>1</td>\n",
       "      <td>1</td>\n",
       "      <td>Annie Lennox Why I am an HIVAIDS activist I'm ...</td>\n",
       "      <td>0</td>\n",
       "      <td>1</td>\n",
       "      <td>What event caused Annie Lennox to commit herse...</td>\n",
       "      <td>0</td>\n",
       "      <td>4</td>\n",
       "      <td>the racial segregation in South Africa</td>\n",
       "      <td>0</td>\n",
       "      <td>0</td>\n",
       "    </tr>\n",
       "    <tr>\n",
       "      <th>4</th>\n",
       "      <td>2011</td>\n",
       "      <td>1</td>\n",
       "      <td>AIDS</td>\n",
       "      <td>1</td>\n",
       "      <td>1</td>\n",
       "      <td>Annie Lennox Why I am an HIVAIDS activist I'm ...</td>\n",
       "      <td>0</td>\n",
       "      <td>1</td>\n",
       "      <td>What event caused Annie Lennox to commit herse...</td>\n",
       "      <td>0</td>\n",
       "      <td>5</td>\n",
       "      <td>Nelson Mandela's conference to the world press</td>\n",
       "      <td>0</td>\n",
       "      <td>1</td>\n",
       "    </tr>\n",
       "  </tbody>\n",
       "</table>\n",
       "</div>"
      ],
      "text/plain": [
       "     YR  T_ID T_NAME  R_ID  D_ID  \\\n",
       "0  2011     1   AIDS     1     1   \n",
       "1  2011     1   AIDS     1     1   \n",
       "2  2011     1   AIDS     1     1   \n",
       "3  2011     1   AIDS     1     1   \n",
       "4  2011     1   AIDS     1     1   \n",
       "\n",
       "                                               D_STR  D_LEN  Q_ID  \\\n",
       "0  Annie Lennox Why I am an HIVAIDS activist I'm ...      0     1   \n",
       "1  Annie Lennox Why I am an HIVAIDS activist I'm ...      0     1   \n",
       "2  Annie Lennox Why I am an HIVAIDS activist I'm ...      0     1   \n",
       "3  Annie Lennox Why I am an HIVAIDS activist I'm ...      0     1   \n",
       "4  Annie Lennox Why I am an HIVAIDS activist I'm ...      0     1   \n",
       "\n",
       "                                               Q_STR  Q_LEN  A_ID  \\\n",
       "0  What event caused Annie Lennox to commit herse...      0     1   \n",
       "1  What event caused Annie Lennox to commit herse...      0     2   \n",
       "2  What event caused Annie Lennox to commit herse...      0     3   \n",
       "3  What event caused Annie Lennox to commit herse...      0     4   \n",
       "4  What event caused Annie Lennox to commit herse...      0     5   \n",
       "\n",
       "                                               A_STR  A_LEN  CORRECT  \n",
       "0  the imprisonment of Nelson Mandela at Robben I...      0        0  \n",
       "1  the closing ceremony of Nelson Mandela's Found...      0        0  \n",
       "2                    the meeting with Youssou N'Dour      0        0  \n",
       "3             the racial segregation in South Africa      0        0  \n",
       "4     Nelson Mandela's conference to the world press      0        1  "
      ]
     },
     "execution_count": 14,
     "metadata": {},
     "output_type": "execute_result"
    }
   ],
   "source": [
    "qa4mre_df.head()"
   ]
  },
  {
   "cell_type": "code",
   "execution_count": 15,
   "metadata": {},
   "outputs": [],
   "source": [
    "for i,row in qa4mre_df.iterrows():\n",
    "    qa4mre_df.at[i,'D_LEN'] = len(nltk.word_tokenize(row['D_STR']))\n",
    "    qa4mre_df.at[i,'Q_LEN'] = len(nltk.word_tokenize(row['Q_STR']))\n",
    "    qa4mre_df.at[i,'A_LEN'] = len(nltk.word_tokenize(row['A_STR']))"
   ]
  },
  {
   "cell_type": "markdown",
   "metadata": {},
   "source": [
    "### Passage Length"
   ]
  },
  {
   "cell_type": "code",
   "execution_count": 16,
   "metadata": {
    "scrolled": true
   },
   "outputs": [
    {
     "data": {
      "text/plain": [
       "4305"
      ]
     },
     "execution_count": 16,
     "metadata": {},
     "output_type": "execute_result"
    }
   ],
   "source": [
    "qa4mre_df['D_LEN'].max()"
   ]
  },
  {
   "cell_type": "code",
   "execution_count": 17,
   "metadata": {},
   "outputs": [
    {
     "data": {
      "text/plain": [
       "958"
      ]
     },
     "execution_count": 17,
     "metadata": {},
     "output_type": "execute_result"
    }
   ],
   "source": [
    "qa4mre_df['D_LEN'].min()"
   ]
  },
  {
   "cell_type": "code",
   "execution_count": 18,
   "metadata": {},
   "outputs": [
    {
     "data": {
      "text/plain": [
       "1991.3052486187846"
      ]
     },
     "execution_count": 18,
     "metadata": {},
     "output_type": "execute_result"
    }
   ],
   "source": [
    "qa4mre_df['D_LEN'].mean() # This will become a problem for 2013, with variable # of questions"
   ]
  },
  {
   "cell_type": "markdown",
   "metadata": {},
   "source": [
    "### Question Length"
   ]
  },
  {
   "cell_type": "code",
   "execution_count": 19,
   "metadata": {
    "scrolled": false
   },
   "outputs": [
    {
     "data": {
      "text/plain": [
       "36"
      ]
     },
     "execution_count": 19,
     "metadata": {},
     "output_type": "execute_result"
    }
   ],
   "source": [
    "qa4mre_df['Q_LEN'].max()"
   ]
  },
  {
   "cell_type": "code",
   "execution_count": 20,
   "metadata": {},
   "outputs": [
    {
     "data": {
      "text/plain": [
       "4"
      ]
     },
     "execution_count": 20,
     "metadata": {},
     "output_type": "execute_result"
    }
   ],
   "source": [
    "qa4mre_df['Q_LEN'].min()"
   ]
  },
  {
   "cell_type": "code",
   "execution_count": 21,
   "metadata": {},
   "outputs": [
    {
     "data": {
      "text/plain": [
       "12.113259668508288"
      ]
     },
     "execution_count": 21,
     "metadata": {},
     "output_type": "execute_result"
    }
   ],
   "source": [
    "qa4mre_df['Q_LEN'].mean() # Each question is represented 5 times, for each answer"
   ]
  },
  {
   "cell_type": "markdown",
   "metadata": {},
   "source": [
    "### Answer Length"
   ]
  },
  {
   "cell_type": "code",
   "execution_count": 22,
   "metadata": {},
   "outputs": [
    {
     "data": {
      "text/plain": [
       "41"
      ]
     },
     "execution_count": 22,
     "metadata": {},
     "output_type": "execute_result"
    }
   ],
   "source": [
    "qa4mre_df['A_LEN'].max()"
   ]
  },
  {
   "cell_type": "code",
   "execution_count": 23,
   "metadata": {},
   "outputs": [
    {
     "data": {
      "text/plain": [
       "1"
      ]
     },
     "execution_count": 23,
     "metadata": {},
     "output_type": "execute_result"
    }
   ],
   "source": [
    "qa4mre_df['A_LEN'].min()"
   ]
  },
  {
   "cell_type": "code",
   "execution_count": 24,
   "metadata": {},
   "outputs": [
    {
     "data": {
      "text/plain": [
       "4.702209944751381"
      ]
     },
     "execution_count": 24,
     "metadata": {},
     "output_type": "execute_result"
    }
   ],
   "source": [
    "qa4mre_df['A_LEN'].mean() # Each question is represented 5 times, for each answer"
   ]
  },
  {
   "cell_type": "code",
   "execution_count": 25,
   "metadata": {},
   "outputs": [
    {
     "data": {
      "text/html": [
       "<div>\n",
       "<style scoped>\n",
       "    .dataframe tbody tr th:only-of-type {\n",
       "        vertical-align: middle;\n",
       "    }\n",
       "\n",
       "    .dataframe tbody tr th {\n",
       "        vertical-align: top;\n",
       "    }\n",
       "\n",
       "    .dataframe thead th {\n",
       "        text-align: right;\n",
       "    }\n",
       "</style>\n",
       "<table border=\"1\" class=\"dataframe\">\n",
       "  <thead>\n",
       "    <tr style=\"text-align: right;\">\n",
       "      <th></th>\n",
       "      <th>YR</th>\n",
       "      <th>T_ID</th>\n",
       "      <th>T_NAME</th>\n",
       "      <th>R_ID</th>\n",
       "      <th>D_ID</th>\n",
       "      <th>D_STR</th>\n",
       "      <th>D_LEN</th>\n",
       "      <th>Q_ID</th>\n",
       "      <th>Q_STR</th>\n",
       "      <th>Q_LEN</th>\n",
       "      <th>A_ID</th>\n",
       "      <th>A_STR</th>\n",
       "      <th>A_LEN</th>\n",
       "    </tr>\n",
       "    <tr>\n",
       "      <th>CORRECT</th>\n",
       "      <th></th>\n",
       "      <th></th>\n",
       "      <th></th>\n",
       "      <th></th>\n",
       "      <th></th>\n",
       "      <th></th>\n",
       "      <th></th>\n",
       "      <th></th>\n",
       "      <th></th>\n",
       "      <th></th>\n",
       "      <th></th>\n",
       "      <th></th>\n",
       "      <th></th>\n",
       "    </tr>\n",
       "  </thead>\n",
       "  <tbody>\n",
       "    <tr>\n",
       "      <th>0</th>\n",
       "      <td>2013</td>\n",
       "      <td>4</td>\n",
       "      <td>Music and Society</td>\n",
       "      <td>16</td>\n",
       "      <td>16</td>\n",
       "      <td>Elizabeth Pisani: Sex, drugs and HIV -- let's ...</td>\n",
       "      <td>4305</td>\n",
       "      <td>20</td>\n",
       "      <td>Why, when playing at the house of Cardinal Ott...</td>\n",
       "      <td>36</td>\n",
       "      <td>5</td>\n",
       "      <td>you could work harder</td>\n",
       "      <td>22</td>\n",
       "    </tr>\n",
       "    <tr>\n",
       "      <th>1</th>\n",
       "      <td>2013</td>\n",
       "      <td>4</td>\n",
       "      <td>Music and Society</td>\n",
       "      <td>16</td>\n",
       "      <td>16</td>\n",
       "      <td>Elizabeth Pisani: Sex, drugs and HIV -- let's ...</td>\n",
       "      <td>4305</td>\n",
       "      <td>20</td>\n",
       "      <td>Why, when playing at the house of Cardinal Ott...</td>\n",
       "      <td>36</td>\n",
       "      <td>5</td>\n",
       "      <td>young people could listen to pop outside</td>\n",
       "      <td>41</td>\n",
       "    </tr>\n",
       "  </tbody>\n",
       "</table>\n",
       "</div>"
      ],
      "text/plain": [
       "           YR  T_ID             T_NAME  R_ID  D_ID  \\\n",
       "CORRECT                                              \n",
       "0        2013     4  Music and Society    16    16   \n",
       "1        2013     4  Music and Society    16    16   \n",
       "\n",
       "                                                     D_STR  D_LEN  Q_ID  \\\n",
       "CORRECT                                                                   \n",
       "0        Elizabeth Pisani: Sex, drugs and HIV -- let's ...   4305    20   \n",
       "1        Elizabeth Pisani: Sex, drugs and HIV -- let's ...   4305    20   \n",
       "\n",
       "                                                     Q_STR  Q_LEN  A_ID  \\\n",
       "CORRECT                                                                   \n",
       "0        Why, when playing at the house of Cardinal Ott...     36     5   \n",
       "1        Why, when playing at the house of Cardinal Ott...     36     5   \n",
       "\n",
       "                                            A_STR  A_LEN  \n",
       "CORRECT                                                   \n",
       "0                           you could work harder     22  \n",
       "1        young people could listen to pop outside     41  "
      ]
     },
     "execution_count": 25,
     "metadata": {},
     "output_type": "execute_result"
    }
   ],
   "source": [
    "qa4mre_df.groupby(['CORRECT']).max()"
   ]
  },
  {
   "cell_type": "code",
   "execution_count": 117,
   "metadata": {},
   "outputs": [],
   "source": [
    "qa4mre_df.to_csv('qa4mre_rnn.csv')"
   ]
  },
  {
   "cell_type": "markdown",
   "metadata": {},
   "source": [
    "# Test RNN"
   ]
  },
  {
   "cell_type": "code",
   "execution_count": 68,
   "metadata": {},
   "outputs": [],
   "source": [
    "import numpy\n",
    "import string\n",
    "from keras.models import Sequential\n",
    "from keras.layers import Dense\n",
    "from keras.layers import Dropout\n",
    "from keras.layers import LSTM\n",
    "from keras.callbacks import ModelCheckpoint\n",
    "from keras.utils import np_utils\n",
    "\n",
    "from nltk.corpus import stopwords\n",
    "from nltk.tokenize import RegexpTokenizer\n",
    "\n",
    "stop_words = set(stopwords.words('english'))\n",
    "tokenizer = RegexpTokenizer(r'\\w+')"
   ]
  },
  {
   "cell_type": "markdown",
   "metadata": {},
   "source": [
    "## Pre-process Data"
   ]
  },
  {
   "cell_type": "code",
   "execution_count": 107,
   "metadata": {},
   "outputs": [],
   "source": [
    "test_text = [\"Mandela told the world's press that there was a virtual genocide taking place in his country, \\\n",
    "that post-apartheid Rainbow Nation, 1000 were dying on a daily basis, and that the front line victims, \\\n",
    "the most vulnerable of all, were women and children.\"]\n",
    "test_question = [\"What did Mandela tell the world's press?\"]\n",
    "test_answer = [\"That there was a virtual genocide taking place in his country\"]"
   ]
  },
  {
   "cell_type": "code",
   "execution_count": 108,
   "metadata": {},
   "outputs": [],
   "source": [
    "def preprocess(text):\n",
    "    for story in text:\n",
    "        result = story.lower()\n",
    "        result = re.sub(r'\\d+', 'NUM', result) # deal with numerals\n",
    "   # result = # remove punctuation\n",
    "    \n",
    "    return(result)\n",
    "\n",
    "def preprocess2(text):\n",
    "    results = []\n",
    "    for story in text:\n",
    "        result = story.strip()\n",
    "        result = result.lower()\n",
    "        result = re.sub(r'\\d+', '', result) # deal with numerals\n",
    "        result = tokenizer.tokenize(result)\n",
    "        results.append(result)\n",
    "        \n",
    "    return(results)"
   ]
  },
  {
   "cell_type": "markdown",
   "metadata": {},
   "source": [
    "### Train Embeddings"
   ]
  },
  {
   "cell_type": "code",
   "execution_count": 78,
   "metadata": {},
   "outputs": [],
   "source": [
    "from gensim.models import word2vec\n",
    "import logging"
   ]
  },
  {
   "cell_type": "code",
   "execution_count": 110,
   "metadata": {},
   "outputs": [],
   "source": [
    "sentences = word2vec.Text8Corpus('./embeddings/text8')\n",
    "w2v_model = word2vec.Word2Vec(sentences, size = 200)"
   ]
  },
  {
   "cell_type": "code",
   "execution_count": 83,
   "metadata": {},
   "outputs": [],
   "source": [
    "w2v_model['boy']"
   ]
  },
  {
   "cell_type": "code",
   "execution_count": 112,
   "metadata": {},
   "outputs": [
    {
     "name": "stderr",
     "output_type": "stream",
     "text": [
      "/Users/juliabuffinton/anaconda2/envs/py36/lib/python3.6/site-packages/ipykernel_launcher.py:4: DeprecationWarning: Call to deprecated `__getitem__` (Method will be removed in 4.0.0, use self.wv.__getitem__() instead).\n",
      "  after removing the cwd from sys.path.\n"
     ]
    }
   ],
   "source": [
    "def gen_embed(lst, model):\n",
    "    results = []\n",
    "    for story in lst:\n",
    "        result = [model[l] for l in story]\n",
    "        results.append(result)\n",
    "    return(results)\n",
    "\n",
    "embeds = gen_embed(preprocess2(test_text),w2v_model)"
   ]
  },
  {
   "cell_type": "markdown",
   "metadata": {},
   "source": [
    "### LSTM  "
   ]
  },
  {
   "cell_type": "code",
   "execution_count": 97,
   "metadata": {},
   "outputs": [],
   "source": [
    "model = Sequential()\n",
    "model.add(LSTM(256, input_shape=(X.shape[1], X.shape[2])))"
   ]
  },
  {
   "cell_type": "code",
   "execution_count": 118,
   "metadata": {},
   "outputs": [
    {
     "ename": "NameError",
     "evalue": "name 'recurrent' is not defined",
     "output_type": "error",
     "traceback": [
      "\u001b[0;31m---------------------------------------------------------------------------\u001b[0m",
      "\u001b[0;31mNameError\u001b[0m                                 Traceback (most recent call last)",
      "\u001b[0;32m<ipython-input-118-33c66a945f4b>\u001b[0m in \u001b[0;36m<module>\u001b[0;34m()\u001b[0m\n\u001b[0;32m----> 1\u001b[0;31m \u001b[0mRNN\u001b[0m \u001b[0;34m=\u001b[0m \u001b[0mrecurrent\u001b[0m\u001b[0;34m.\u001b[0m\u001b[0mLSTM\u001b[0m\u001b[0;34m\u001b[0m\u001b[0m\n\u001b[0m\u001b[1;32m      2\u001b[0m \u001b[0mEMBED_HIDDEN_SIZE\u001b[0m \u001b[0;34m=\u001b[0m \u001b[0;36m50\u001b[0m\u001b[0;34m\u001b[0m\u001b[0m\n\u001b[1;32m      3\u001b[0m \u001b[0mSENT_HIDDEN_SIZE\u001b[0m \u001b[0;34m=\u001b[0m \u001b[0;36m100\u001b[0m\u001b[0;34m\u001b[0m\u001b[0m\n\u001b[1;32m      4\u001b[0m \u001b[0mQUERY_HIDDEN_SIZE\u001b[0m \u001b[0;34m=\u001b[0m \u001b[0;36m100\u001b[0m\u001b[0;34m\u001b[0m\u001b[0m\n\u001b[1;32m      5\u001b[0m \u001b[0mBATCH_SIZE\u001b[0m \u001b[0;34m=\u001b[0m \u001b[0;36m32\u001b[0m\u001b[0;34m\u001b[0m\u001b[0m\n",
      "\u001b[0;31mNameError\u001b[0m: name 'recurrent' is not defined"
     ]
    }
   ],
   "source": [
    "RNN = recurrent.LSTM\n",
    "EMBED_HIDDEN_SIZE = 50\n",
    "SENT_HIDDEN_SIZE = 100\n",
    "QUERY_HIDDEN_SIZE = 100\n",
    "BATCH_SIZE = 32\n",
    "EPOCHS = 20\n"
   ]
  },
  {
   "cell_type": "code",
   "execution_count": 116,
   "metadata": {},
   "outputs": [
    {
     "name": "stdout",
     "output_type": "stream",
     "text": [
      "43\n",
      "40\n"
     ]
    }
   ],
   "source": [
    "story_maxlen = max(map(len, (x for x in embeds))) # max number of words in story\n",
    "print(story_maxlen)\n",
    "query_maxlen = 10\n",
    "#query_maxlen = max(map(len, (x for x in test_question)))\n",
    "print(query_maxlen)"
   ]
  },
  {
   "cell_type": "markdown",
   "metadata": {},
   "source": [
    "## Annotated Data EDA"
   ]
  },
  {
   "cell_type": "code",
   "execution_count": 26,
   "metadata": {},
   "outputs": [
    {
     "data": {
      "text/plain": [
       "{'annotations': [{'nonsense': False,\n",
       "   'sents_indices': [[784, 795]],\n",
       "   'skill_count': 4,\n",
       "   'skills': [8, 9, 2, 11]},\n",
       "  {'nonsense': False,\n",
       "   'sents_indices': [[598, 611]],\n",
       "   'skill_count': 1,\n",
       "   'skills': [2]},\n",
       "  {'nonsense': False,\n",
       "   'sents_indices': [[859, 875]],\n",
       "   'skill_count': 2,\n",
       "   'skills': [2, 11]},\n",
       "  {'nonsense': True,\n",
       "   'sents_indices': [[41, 67]],\n",
       "   'skill_count': 0,\n",
       "   'skills': [14]},\n",
       "  {'nonsense': False,\n",
       "   'sents_indices': [[93, 116]],\n",
       "   'skill_count': 2,\n",
       "   'skills': [9, 11]}],\n",
       " 'id': 'qa4mre_002',\n",
       " 'original_id': '4_Alzheimer_3',\n",
       " 'questions': ['Q: What would an Alzheimer relative envisage w...',\n",
       "  'Q: Is it possible for Alann...',\n",
       "  \"Q: Name a reason why Alanna's father...\",\n",
       "  'Q: What does the help in getting dress...',\n",
       "  'Q: How many people with dementia are predicted to exist in t...']}"
      ]
     },
     "execution_count": 26,
     "metadata": {},
     "output_type": "execute_result"
    }
   ],
   "source": [
    "# Load File: Corresponds to 2013 dataset\n",
    "with open(\"./annotated-data/qa4mre_modfied-jb.json\", 'r') as f:\n",
    "    annotations = json.load(f)\n",
    "    \n",
    "annotations[2]\n",
    "# we have a list of dictionaries:\n",
    "# { original ID: XX, \n",
    "#   annotations: [{skills: [1,2,3], sent_inds: [[1,2],[3,4]], skill_count: #, nonsense: T/F}, ....] # for each question\n",
    "#   questions: [list of beginning of text of each question],\n",
    "#   id: \"id#\"}\n",
    "\n",
    "\n",
    "# Important to note that Q#s in QA4MRE data is 1-16, 0-15 in annotated dataset \n",
    "\n",
    "# ALSO VERY IMPORTANT TO NOTE: NOT ALL QUESTIONS ARE INCLUDED"
   ]
  },
  {
   "cell_type": "markdown",
   "metadata": {},
   "source": [
    "### Build ID for QA4MRE"
   ]
  },
  {
   "cell_type": "code",
   "execution_count": 27,
   "metadata": {},
   "outputs": [
    {
     "data": {
      "text/html": [
       "<div>\n",
       "<style scoped>\n",
       "    .dataframe tbody tr th:only-of-type {\n",
       "        vertical-align: middle;\n",
       "    }\n",
       "\n",
       "    .dataframe tbody tr th {\n",
       "        vertical-align: top;\n",
       "    }\n",
       "\n",
       "    .dataframe thead th {\n",
       "        text-align: right;\n",
       "    }\n",
       "</style>\n",
       "<table border=\"1\" class=\"dataframe\">\n",
       "  <thead>\n",
       "    <tr style=\"text-align: right;\">\n",
       "      <th></th>\n",
       "      <th>YR</th>\n",
       "      <th>T_ID</th>\n",
       "      <th>T_NAME</th>\n",
       "      <th>R_ID</th>\n",
       "      <th>D_ID</th>\n",
       "      <th>D_STR</th>\n",
       "      <th>D_LEN</th>\n",
       "      <th>Q_ID</th>\n",
       "      <th>Q_STR</th>\n",
       "      <th>Q_LEN</th>\n",
       "      <th>A_ID</th>\n",
       "      <th>A_STR</th>\n",
       "      <th>A_LEN</th>\n",
       "      <th>CORRECT</th>\n",
       "      <th>ANNOT_ID</th>\n",
       "    </tr>\n",
       "  </thead>\n",
       "  <tbody>\n",
       "    <tr>\n",
       "      <th>0</th>\n",
       "      <td>2011</td>\n",
       "      <td>1</td>\n",
       "      <td>AIDS</td>\n",
       "      <td>1</td>\n",
       "      <td>1</td>\n",
       "      <td>Annie Lennox Why I am an HIVAIDS activist I'm ...</td>\n",
       "      <td>1581</td>\n",
       "      <td>1</td>\n",
       "      <td>What event caused Annie Lennox to commit herse...</td>\n",
       "      <td>14</td>\n",
       "      <td>1</td>\n",
       "      <td>the imprisonment of Nelson Mandela at Robben I...</td>\n",
       "      <td>8</td>\n",
       "      <td>0</td>\n",
       "      <td>1_AIDS_1</td>\n",
       "    </tr>\n",
       "    <tr>\n",
       "      <th>1</th>\n",
       "      <td>2011</td>\n",
       "      <td>1</td>\n",
       "      <td>AIDS</td>\n",
       "      <td>1</td>\n",
       "      <td>1</td>\n",
       "      <td>Annie Lennox Why I am an HIVAIDS activist I'm ...</td>\n",
       "      <td>1581</td>\n",
       "      <td>1</td>\n",
       "      <td>What event caused Annie Lennox to commit herse...</td>\n",
       "      <td>14</td>\n",
       "      <td>2</td>\n",
       "      <td>the closing ceremony of Nelson Mandela's Found...</td>\n",
       "      <td>8</td>\n",
       "      <td>0</td>\n",
       "      <td>1_AIDS_1</td>\n",
       "    </tr>\n",
       "    <tr>\n",
       "      <th>2</th>\n",
       "      <td>2011</td>\n",
       "      <td>1</td>\n",
       "      <td>AIDS</td>\n",
       "      <td>1</td>\n",
       "      <td>1</td>\n",
       "      <td>Annie Lennox Why I am an HIVAIDS activist I'm ...</td>\n",
       "      <td>1581</td>\n",
       "      <td>1</td>\n",
       "      <td>What event caused Annie Lennox to commit herse...</td>\n",
       "      <td>14</td>\n",
       "      <td>3</td>\n",
       "      <td>the meeting with Youssou N'Dour</td>\n",
       "      <td>5</td>\n",
       "      <td>0</td>\n",
       "      <td>1_AIDS_1</td>\n",
       "    </tr>\n",
       "    <tr>\n",
       "      <th>3</th>\n",
       "      <td>2011</td>\n",
       "      <td>1</td>\n",
       "      <td>AIDS</td>\n",
       "      <td>1</td>\n",
       "      <td>1</td>\n",
       "      <td>Annie Lennox Why I am an HIVAIDS activist I'm ...</td>\n",
       "      <td>1581</td>\n",
       "      <td>1</td>\n",
       "      <td>What event caused Annie Lennox to commit herse...</td>\n",
       "      <td>14</td>\n",
       "      <td>4</td>\n",
       "      <td>the racial segregation in South Africa</td>\n",
       "      <td>6</td>\n",
       "      <td>0</td>\n",
       "      <td>1_AIDS_1</td>\n",
       "    </tr>\n",
       "    <tr>\n",
       "      <th>4</th>\n",
       "      <td>2011</td>\n",
       "      <td>1</td>\n",
       "      <td>AIDS</td>\n",
       "      <td>1</td>\n",
       "      <td>1</td>\n",
       "      <td>Annie Lennox Why I am an HIVAIDS activist I'm ...</td>\n",
       "      <td>1581</td>\n",
       "      <td>1</td>\n",
       "      <td>What event caused Annie Lennox to commit herse...</td>\n",
       "      <td>14</td>\n",
       "      <td>5</td>\n",
       "      <td>Nelson Mandela's conference to the world press</td>\n",
       "      <td>8</td>\n",
       "      <td>1</td>\n",
       "      <td>1_AIDS_1</td>\n",
       "    </tr>\n",
       "  </tbody>\n",
       "</table>\n",
       "</div>"
      ],
      "text/plain": [
       "     YR  T_ID T_NAME  R_ID  D_ID  \\\n",
       "0  2011     1   AIDS     1     1   \n",
       "1  2011     1   AIDS     1     1   \n",
       "2  2011     1   AIDS     1     1   \n",
       "3  2011     1   AIDS     1     1   \n",
       "4  2011     1   AIDS     1     1   \n",
       "\n",
       "                                               D_STR  D_LEN  Q_ID  \\\n",
       "0  Annie Lennox Why I am an HIVAIDS activist I'm ...   1581     1   \n",
       "1  Annie Lennox Why I am an HIVAIDS activist I'm ...   1581     1   \n",
       "2  Annie Lennox Why I am an HIVAIDS activist I'm ...   1581     1   \n",
       "3  Annie Lennox Why I am an HIVAIDS activist I'm ...   1581     1   \n",
       "4  Annie Lennox Why I am an HIVAIDS activist I'm ...   1581     1   \n",
       "\n",
       "                                               Q_STR  Q_LEN  A_ID  \\\n",
       "0  What event caused Annie Lennox to commit herse...     14     1   \n",
       "1  What event caused Annie Lennox to commit herse...     14     2   \n",
       "2  What event caused Annie Lennox to commit herse...     14     3   \n",
       "3  What event caused Annie Lennox to commit herse...     14     4   \n",
       "4  What event caused Annie Lennox to commit herse...     14     5   \n",
       "\n",
       "                                               A_STR  A_LEN  CORRECT  ANNOT_ID  \n",
       "0  the imprisonment of Nelson Mandela at Robben I...      8        0  1_AIDS_1  \n",
       "1  the closing ceremony of Nelson Mandela's Found...      8        0  1_AIDS_1  \n",
       "2                    the meeting with Youssou N'Dour      5        0  1_AIDS_1  \n",
       "3             the racial segregation in South Africa      6        0  1_AIDS_1  \n",
       "4     Nelson Mandela's conference to the world press      8        1  1_AIDS_1  "
      ]
     },
     "execution_count": 27,
     "metadata": {},
     "output_type": "execute_result"
    }
   ],
   "source": [
    "for i,row in qa4mre_df.iterrows():\n",
    "    qa4mre_df.at[i,'ANNOT_ID'] = str(row['T_ID']) + \"_\" + row['T_NAME'] + \"_\" + str(row['R_ID']) \n",
    "qa4mre_df.head()"
   ]
  },
  {
   "cell_type": "code",
   "execution_count": 27,
   "metadata": {},
   "outputs": [],
   "source": [
    "filename = './annotated-data/qa4mre_annotated.csv'"
   ]
  },
  {
   "cell_type": "code",
   "execution_count": 66,
   "metadata": {},
   "outputs": [
    {
     "name": "stdout",
     "output_type": "stream",
     "text": [
      "Parsing complete!\n"
     ]
    }
   ],
   "source": [
    "# open a file for writing\n",
    "\n",
    "QA_data_annotated = open(filename, 'w')\n",
    "\n",
    "# create the csv writer object\n",
    "\n",
    "csvwriter = csv.writer(QA_data_annotated)\n",
    "\n",
    "# write column names\n",
    "headings = ['ANNOT_ID','Q_ID','NONSENSE','SENTS_INDICES','N_SENTS','SKILLS','SKILL_COUNTS','Q_STR_2']\n",
    "csvwriter.writerow(headings)\n",
    "\n",
    "# for each item in the list of annotations opened above:\n",
    "for i,v in enumerate(annotations):\n",
    "    # get the Passage ID (\"original_id\" in dictionary), set to ANNOT_ID\n",
    "    annot_id = v['original_id']\n",
    "    \n",
    "    # Figure out what question we're interested in! \n",
    "    filtered = qa4mre_df[qa4mre_df['ANNOT_ID'] == annot_id]\n",
    "    \n",
    "    for j,q in enumerate(v['questions']):\n",
    "        question = q[3:-3]\n",
    "        \n",
    "        for k,row in filtered.iterrows():\n",
    "            if question in row['Q_STR']:\n",
    "                rows = []\n",
    "               \n",
    "                q_id = row['Q_ID']\n",
    "                \n",
    "                nonsense = v['annotations'][j]['nonsense']\n",
    "                sents_indices = v['annotations'][j]['sents_indices']\n",
    "                n_sents = len(v['annotations'][j]['sents_indices'])\n",
    "                skill_count = v['annotations'][j]['skill_count']\n",
    "                skills = v['annotations'][j]['skills']\n",
    "                \n",
    "                rows.append(annot_id)\n",
    "                rows.append(q_id)\n",
    "                rows.append(nonsense)\n",
    "                rows.append(sents_indices)\n",
    "                rows.append(n_sents)\n",
    "                rows.append(skill_count)\n",
    "                rows.append(skills)\n",
    "                rows.append(question)\n",
    "\n",
    "                csvwriter.writerow(rows)\n",
    "\n",
    "print(\"Parsing complete!\")\n",
    "QA_data_annotated.close()"
   ]
  },
  {
   "cell_type": "markdown",
   "metadata": {},
   "source": [
    "### Merge!"
   ]
  },
  {
   "cell_type": "code",
   "execution_count": 68,
   "metadata": {},
   "outputs": [],
   "source": [
    "qa4mre_annotated_df = pd.read_csv(\"./annotated-data/qa4mre_annotated.csv\") #update as needed"
   ]
  },
  {
   "cell_type": "code",
   "execution_count": 69,
   "metadata": {},
   "outputs": [],
   "source": [
    "df_dummy = pd.merge(left=qa4mre_df, right=qa4mre_annotated_df, how='left', on=['ANNOT_ID', 'Q_ID'])"
   ]
  },
  {
   "cell_type": "markdown",
   "metadata": {},
   "source": [
    "#### Save as CSV"
   ]
  },
  {
   "cell_type": "code",
   "execution_count": null,
   "metadata": {},
   "outputs": [],
   "source": [
    "## pd....."
   ]
  },
  {
   "cell_type": "code",
   "execution_count": 77,
   "metadata": {},
   "outputs": [
    {
     "data": {
      "text/html": [
       "<div>\n",
       "<style scoped>\n",
       "    .dataframe tbody tr th:only-of-type {\n",
       "        vertical-align: middle;\n",
       "    }\n",
       "\n",
       "    .dataframe tbody tr th {\n",
       "        vertical-align: top;\n",
       "    }\n",
       "\n",
       "    .dataframe thead th {\n",
       "        text-align: right;\n",
       "    }\n",
       "</style>\n",
       "<table border=\"1\" class=\"dataframe\">\n",
       "  <thead>\n",
       "    <tr style=\"text-align: right;\">\n",
       "      <th></th>\n",
       "      <th>YR</th>\n",
       "      <th>T_ID</th>\n",
       "      <th>T_NAME</th>\n",
       "      <th>R_ID</th>\n",
       "      <th>D_ID</th>\n",
       "      <th>D_STR</th>\n",
       "      <th>D_LEN</th>\n",
       "      <th>Q_STR</th>\n",
       "      <th>Q_LEN</th>\n",
       "      <th>A_ID</th>\n",
       "      <th>A_STR</th>\n",
       "      <th>A_LEN</th>\n",
       "      <th>CORRECT</th>\n",
       "      <th>ANNOT_ID</th>\n",
       "      <th>NONSENSE</th>\n",
       "      <th>SENTS_INDICES</th>\n",
       "      <th>N_SENTS</th>\n",
       "      <th>SKILLS</th>\n",
       "      <th>SKILL_COUNTS</th>\n",
       "      <th>Q_STR_2</th>\n",
       "    </tr>\n",
       "    <tr>\n",
       "      <th>Q_ID</th>\n",
       "      <th></th>\n",
       "      <th></th>\n",
       "      <th></th>\n",
       "      <th></th>\n",
       "      <th></th>\n",
       "      <th></th>\n",
       "      <th></th>\n",
       "      <th></th>\n",
       "      <th></th>\n",
       "      <th></th>\n",
       "      <th></th>\n",
       "      <th></th>\n",
       "      <th></th>\n",
       "      <th></th>\n",
       "      <th></th>\n",
       "      <th></th>\n",
       "      <th></th>\n",
       "      <th></th>\n",
       "      <th></th>\n",
       "      <th></th>\n",
       "    </tr>\n",
       "  </thead>\n",
       "  <tbody>\n",
       "    <tr>\n",
       "      <th>1</th>\n",
       "      <td>420</td>\n",
       "      <td>420</td>\n",
       "      <td>420</td>\n",
       "      <td>420</td>\n",
       "      <td>420</td>\n",
       "      <td>420</td>\n",
       "      <td>420</td>\n",
       "      <td>420</td>\n",
       "      <td>420</td>\n",
       "      <td>420</td>\n",
       "      <td>420</td>\n",
       "      <td>420</td>\n",
       "      <td>420</td>\n",
       "      <td>420</td>\n",
       "      <td>150</td>\n",
       "      <td>150</td>\n",
       "      <td>150</td>\n",
       "      <td>150</td>\n",
       "      <td>150</td>\n",
       "      <td>150</td>\n",
       "    </tr>\n",
       "    <tr>\n",
       "      <th>2</th>\n",
       "      <td>420</td>\n",
       "      <td>420</td>\n",
       "      <td>420</td>\n",
       "      <td>420</td>\n",
       "      <td>420</td>\n",
       "      <td>420</td>\n",
       "      <td>420</td>\n",
       "      <td>420</td>\n",
       "      <td>420</td>\n",
       "      <td>420</td>\n",
       "      <td>420</td>\n",
       "      <td>420</td>\n",
       "      <td>420</td>\n",
       "      <td>420</td>\n",
       "      <td>150</td>\n",
       "      <td>150</td>\n",
       "      <td>150</td>\n",
       "      <td>150</td>\n",
       "      <td>150</td>\n",
       "      <td>150</td>\n",
       "    </tr>\n",
       "    <tr>\n",
       "      <th>3</th>\n",
       "      <td>420</td>\n",
       "      <td>420</td>\n",
       "      <td>420</td>\n",
       "      <td>420</td>\n",
       "      <td>420</td>\n",
       "      <td>420</td>\n",
       "      <td>420</td>\n",
       "      <td>420</td>\n",
       "      <td>420</td>\n",
       "      <td>420</td>\n",
       "      <td>420</td>\n",
       "      <td>420</td>\n",
       "      <td>420</td>\n",
       "      <td>420</td>\n",
       "      <td>150</td>\n",
       "      <td>150</td>\n",
       "      <td>150</td>\n",
       "      <td>150</td>\n",
       "      <td>150</td>\n",
       "      <td>150</td>\n",
       "    </tr>\n",
       "    <tr>\n",
       "      <th>4</th>\n",
       "      <td>420</td>\n",
       "      <td>420</td>\n",
       "      <td>420</td>\n",
       "      <td>420</td>\n",
       "      <td>420</td>\n",
       "      <td>420</td>\n",
       "      <td>420</td>\n",
       "      <td>420</td>\n",
       "      <td>420</td>\n",
       "      <td>420</td>\n",
       "      <td>420</td>\n",
       "      <td>420</td>\n",
       "      <td>420</td>\n",
       "      <td>420</td>\n",
       "      <td>150</td>\n",
       "      <td>150</td>\n",
       "      <td>150</td>\n",
       "      <td>150</td>\n",
       "      <td>150</td>\n",
       "      <td>150</td>\n",
       "    </tr>\n",
       "    <tr>\n",
       "      <th>5</th>\n",
       "      <td>460</td>\n",
       "      <td>460</td>\n",
       "      <td>460</td>\n",
       "      <td>460</td>\n",
       "      <td>460</td>\n",
       "      <td>460</td>\n",
       "      <td>460</td>\n",
       "      <td>460</td>\n",
       "      <td>460</td>\n",
       "      <td>460</td>\n",
       "      <td>460</td>\n",
       "      <td>460</td>\n",
       "      <td>460</td>\n",
       "      <td>460</td>\n",
       "      <td>200</td>\n",
       "      <td>200</td>\n",
       "      <td>200</td>\n",
       "      <td>200</td>\n",
       "      <td>200</td>\n",
       "      <td>200</td>\n",
       "    </tr>\n",
       "    <tr>\n",
       "      <th>6</th>\n",
       "      <td>440</td>\n",
       "      <td>440</td>\n",
       "      <td>440</td>\n",
       "      <td>440</td>\n",
       "      <td>440</td>\n",
       "      <td>440</td>\n",
       "      <td>440</td>\n",
       "      <td>440</td>\n",
       "      <td>440</td>\n",
       "      <td>440</td>\n",
       "      <td>440</td>\n",
       "      <td>440</td>\n",
       "      <td>440</td>\n",
       "      <td>440</td>\n",
       "      <td>175</td>\n",
       "      <td>175</td>\n",
       "      <td>175</td>\n",
       "      <td>175</td>\n",
       "      <td>175</td>\n",
       "      <td>175</td>\n",
       "    </tr>\n",
       "    <tr>\n",
       "      <th>7</th>\n",
       "      <td>420</td>\n",
       "      <td>420</td>\n",
       "      <td>420</td>\n",
       "      <td>420</td>\n",
       "      <td>420</td>\n",
       "      <td>420</td>\n",
       "      <td>420</td>\n",
       "      <td>420</td>\n",
       "      <td>420</td>\n",
       "      <td>420</td>\n",
       "      <td>420</td>\n",
       "      <td>420</td>\n",
       "      <td>420</td>\n",
       "      <td>420</td>\n",
       "      <td>150</td>\n",
       "      <td>150</td>\n",
       "      <td>150</td>\n",
       "      <td>150</td>\n",
       "      <td>150</td>\n",
       "      <td>150</td>\n",
       "    </tr>\n",
       "    <tr>\n",
       "      <th>8</th>\n",
       "      <td>440</td>\n",
       "      <td>440</td>\n",
       "      <td>440</td>\n",
       "      <td>440</td>\n",
       "      <td>440</td>\n",
       "      <td>440</td>\n",
       "      <td>440</td>\n",
       "      <td>440</td>\n",
       "      <td>440</td>\n",
       "      <td>440</td>\n",
       "      <td>440</td>\n",
       "      <td>440</td>\n",
       "      <td>440</td>\n",
       "      <td>440</td>\n",
       "      <td>175</td>\n",
       "      <td>175</td>\n",
       "      <td>175</td>\n",
       "      <td>175</td>\n",
       "      <td>175</td>\n",
       "      <td>175</td>\n",
       "    </tr>\n",
       "    <tr>\n",
       "      <th>9</th>\n",
       "      <td>380</td>\n",
       "      <td>380</td>\n",
       "      <td>380</td>\n",
       "      <td>380</td>\n",
       "      <td>380</td>\n",
       "      <td>380</td>\n",
       "      <td>380</td>\n",
       "      <td>380</td>\n",
       "      <td>380</td>\n",
       "      <td>380</td>\n",
       "      <td>380</td>\n",
       "      <td>380</td>\n",
       "      <td>380</td>\n",
       "      <td>380</td>\n",
       "      <td>100</td>\n",
       "      <td>100</td>\n",
       "      <td>100</td>\n",
       "      <td>100</td>\n",
       "      <td>100</td>\n",
       "      <td>100</td>\n",
       "    </tr>\n",
       "    <tr>\n",
       "      <th>10</th>\n",
       "      <td>575</td>\n",
       "      <td>575</td>\n",
       "      <td>575</td>\n",
       "      <td>575</td>\n",
       "      <td>575</td>\n",
       "      <td>575</td>\n",
       "      <td>575</td>\n",
       "      <td>575</td>\n",
       "      <td>575</td>\n",
       "      <td>575</td>\n",
       "      <td>575</td>\n",
       "      <td>575</td>\n",
       "      <td>575</td>\n",
       "      <td>575</td>\n",
       "      <td>325</td>\n",
       "      <td>325</td>\n",
       "      <td>325</td>\n",
       "      <td>325</td>\n",
       "      <td>325</td>\n",
       "      <td>325</td>\n",
       "    </tr>\n",
       "    <tr>\n",
       "      <th>11</th>\n",
       "      <td>250</td>\n",
       "      <td>250</td>\n",
       "      <td>250</td>\n",
       "      <td>250</td>\n",
       "      <td>250</td>\n",
       "      <td>250</td>\n",
       "      <td>250</td>\n",
       "      <td>250</td>\n",
       "      <td>250</td>\n",
       "      <td>250</td>\n",
       "      <td>250</td>\n",
       "      <td>250</td>\n",
       "      <td>250</td>\n",
       "      <td>250</td>\n",
       "      <td>200</td>\n",
       "      <td>200</td>\n",
       "      <td>200</td>\n",
       "      <td>200</td>\n",
       "      <td>200</td>\n",
       "      <td>200</td>\n",
       "    </tr>\n",
       "    <tr>\n",
       "      <th>12</th>\n",
       "      <td>140</td>\n",
       "      <td>140</td>\n",
       "      <td>140</td>\n",
       "      <td>140</td>\n",
       "      <td>140</td>\n",
       "      <td>140</td>\n",
       "      <td>140</td>\n",
       "      <td>140</td>\n",
       "      <td>140</td>\n",
       "      <td>140</td>\n",
       "      <td>140</td>\n",
       "      <td>140</td>\n",
       "      <td>140</td>\n",
       "      <td>140</td>\n",
       "      <td>75</td>\n",
       "      <td>75</td>\n",
       "      <td>75</td>\n",
       "      <td>75</td>\n",
       "      <td>75</td>\n",
       "      <td>75</td>\n",
       "    </tr>\n",
       "    <tr>\n",
       "      <th>13</th>\n",
       "      <td>260</td>\n",
       "      <td>260</td>\n",
       "      <td>260</td>\n",
       "      <td>260</td>\n",
       "      <td>260</td>\n",
       "      <td>260</td>\n",
       "      <td>260</td>\n",
       "      <td>260</td>\n",
       "      <td>260</td>\n",
       "      <td>260</td>\n",
       "      <td>260</td>\n",
       "      <td>260</td>\n",
       "      <td>260</td>\n",
       "      <td>260</td>\n",
       "      <td>225</td>\n",
       "      <td>225</td>\n",
       "      <td>225</td>\n",
       "      <td>225</td>\n",
       "      <td>225</td>\n",
       "      <td>225</td>\n",
       "    </tr>\n",
       "    <tr>\n",
       "      <th>14</th>\n",
       "      <td>180</td>\n",
       "      <td>180</td>\n",
       "      <td>180</td>\n",
       "      <td>180</td>\n",
       "      <td>180</td>\n",
       "      <td>180</td>\n",
       "      <td>180</td>\n",
       "      <td>180</td>\n",
       "      <td>180</td>\n",
       "      <td>180</td>\n",
       "      <td>180</td>\n",
       "      <td>180</td>\n",
       "      <td>180</td>\n",
       "      <td>180</td>\n",
       "      <td>125</td>\n",
       "      <td>125</td>\n",
       "      <td>125</td>\n",
       "      <td>125</td>\n",
       "      <td>125</td>\n",
       "      <td>125</td>\n",
       "    </tr>\n",
       "    <tr>\n",
       "      <th>15</th>\n",
       "      <td>185</td>\n",
       "      <td>185</td>\n",
       "      <td>185</td>\n",
       "      <td>185</td>\n",
       "      <td>185</td>\n",
       "      <td>185</td>\n",
       "      <td>185</td>\n",
       "      <td>185</td>\n",
       "      <td>185</td>\n",
       "      <td>185</td>\n",
       "      <td>185</td>\n",
       "      <td>185</td>\n",
       "      <td>185</td>\n",
       "      <td>185</td>\n",
       "      <td>125</td>\n",
       "      <td>125</td>\n",
       "      <td>125</td>\n",
       "      <td>125</td>\n",
       "      <td>125</td>\n",
       "      <td>125</td>\n",
       "    </tr>\n",
       "    <tr>\n",
       "      <th>16</th>\n",
       "      <td>120</td>\n",
       "      <td>120</td>\n",
       "      <td>120</td>\n",
       "      <td>120</td>\n",
       "      <td>120</td>\n",
       "      <td>120</td>\n",
       "      <td>120</td>\n",
       "      <td>120</td>\n",
       "      <td>120</td>\n",
       "      <td>120</td>\n",
       "      <td>120</td>\n",
       "      <td>120</td>\n",
       "      <td>120</td>\n",
       "      <td>120</td>\n",
       "      <td>75</td>\n",
       "      <td>75</td>\n",
       "      <td>75</td>\n",
       "      <td>75</td>\n",
       "      <td>75</td>\n",
       "      <td>75</td>\n",
       "    </tr>\n",
       "    <tr>\n",
       "      <th>17</th>\n",
       "      <td>120</td>\n",
       "      <td>120</td>\n",
       "      <td>120</td>\n",
       "      <td>120</td>\n",
       "      <td>120</td>\n",
       "      <td>120</td>\n",
       "      <td>120</td>\n",
       "      <td>120</td>\n",
       "      <td>120</td>\n",
       "      <td>120</td>\n",
       "      <td>120</td>\n",
       "      <td>120</td>\n",
       "      <td>120</td>\n",
       "      <td>120</td>\n",
       "      <td>75</td>\n",
       "      <td>75</td>\n",
       "      <td>75</td>\n",
       "      <td>75</td>\n",
       "      <td>75</td>\n",
       "      <td>75</td>\n",
       "    </tr>\n",
       "    <tr>\n",
       "      <th>18</th>\n",
       "      <td>180</td>\n",
       "      <td>180</td>\n",
       "      <td>180</td>\n",
       "      <td>180</td>\n",
       "      <td>180</td>\n",
       "      <td>180</td>\n",
       "      <td>180</td>\n",
       "      <td>180</td>\n",
       "      <td>180</td>\n",
       "      <td>180</td>\n",
       "      <td>180</td>\n",
       "      <td>180</td>\n",
       "      <td>180</td>\n",
       "      <td>180</td>\n",
       "      <td>150</td>\n",
       "      <td>150</td>\n",
       "      <td>150</td>\n",
       "      <td>150</td>\n",
       "      <td>150</td>\n",
       "      <td>150</td>\n",
       "    </tr>\n",
       "    <tr>\n",
       "      <th>19</th>\n",
       "      <td>105</td>\n",
       "      <td>105</td>\n",
       "      <td>105</td>\n",
       "      <td>105</td>\n",
       "      <td>105</td>\n",
       "      <td>105</td>\n",
       "      <td>105</td>\n",
       "      <td>105</td>\n",
       "      <td>105</td>\n",
       "      <td>105</td>\n",
       "      <td>105</td>\n",
       "      <td>105</td>\n",
       "      <td>105</td>\n",
       "      <td>105</td>\n",
       "      <td>100</td>\n",
       "      <td>100</td>\n",
       "      <td>100</td>\n",
       "      <td>100</td>\n",
       "      <td>100</td>\n",
       "      <td>100</td>\n",
       "    </tr>\n",
       "    <tr>\n",
       "      <th>20</th>\n",
       "      <td>55</td>\n",
       "      <td>55</td>\n",
       "      <td>55</td>\n",
       "      <td>55</td>\n",
       "      <td>55</td>\n",
       "      <td>55</td>\n",
       "      <td>55</td>\n",
       "      <td>55</td>\n",
       "      <td>55</td>\n",
       "      <td>55</td>\n",
       "      <td>55</td>\n",
       "      <td>55</td>\n",
       "      <td>55</td>\n",
       "      <td>55</td>\n",
       "      <td>50</td>\n",
       "      <td>50</td>\n",
       "      <td>50</td>\n",
       "      <td>50</td>\n",
       "      <td>50</td>\n",
       "      <td>50</td>\n",
       "    </tr>\n",
       "  </tbody>\n",
       "</table>\n",
       "</div>"
      ],
      "text/plain": [
       "       YR  T_ID  T_NAME  R_ID  D_ID  D_STR  D_LEN  Q_STR  Q_LEN  A_ID  A_STR  \\\n",
       "Q_ID                                                                           \n",
       "1     420   420     420   420   420    420    420    420    420   420    420   \n",
       "2     420   420     420   420   420    420    420    420    420   420    420   \n",
       "3     420   420     420   420   420    420    420    420    420   420    420   \n",
       "4     420   420     420   420   420    420    420    420    420   420    420   \n",
       "5     460   460     460   460   460    460    460    460    460   460    460   \n",
       "6     440   440     440   440   440    440    440    440    440   440    440   \n",
       "7     420   420     420   420   420    420    420    420    420   420    420   \n",
       "8     440   440     440   440   440    440    440    440    440   440    440   \n",
       "9     380   380     380   380   380    380    380    380    380   380    380   \n",
       "10    575   575     575   575   575    575    575    575    575   575    575   \n",
       "11    250   250     250   250   250    250    250    250    250   250    250   \n",
       "12    140   140     140   140   140    140    140    140    140   140    140   \n",
       "13    260   260     260   260   260    260    260    260    260   260    260   \n",
       "14    180   180     180   180   180    180    180    180    180   180    180   \n",
       "15    185   185     185   185   185    185    185    185    185   185    185   \n",
       "16    120   120     120   120   120    120    120    120    120   120    120   \n",
       "17    120   120     120   120   120    120    120    120    120   120    120   \n",
       "18    180   180     180   180   180    180    180    180    180   180    180   \n",
       "19    105   105     105   105   105    105    105    105    105   105    105   \n",
       "20     55    55      55    55    55     55     55     55     55    55     55   \n",
       "\n",
       "      A_LEN  CORRECT  ANNOT_ID  NONSENSE  SENTS_INDICES  N_SENTS  SKILLS  \\\n",
       "Q_ID                                                                       \n",
       "1       420      420       420       150            150      150     150   \n",
       "2       420      420       420       150            150      150     150   \n",
       "3       420      420       420       150            150      150     150   \n",
       "4       420      420       420       150            150      150     150   \n",
       "5       460      460       460       200            200      200     200   \n",
       "6       440      440       440       175            175      175     175   \n",
       "7       420      420       420       150            150      150     150   \n",
       "8       440      440       440       175            175      175     175   \n",
       "9       380      380       380       100            100      100     100   \n",
       "10      575      575       575       325            325      325     325   \n",
       "11      250      250       250       200            200      200     200   \n",
       "12      140      140       140        75             75       75      75   \n",
       "13      260      260       260       225            225      225     225   \n",
       "14      180      180       180       125            125      125     125   \n",
       "15      185      185       185       125            125      125     125   \n",
       "16      120      120       120        75             75       75      75   \n",
       "17      120      120       120        75             75       75      75   \n",
       "18      180      180       180       150            150      150     150   \n",
       "19      105      105       105       100            100      100     100   \n",
       "20       55       55        55        50             50       50      50   \n",
       "\n",
       "      SKILL_COUNTS  Q_STR_2  \n",
       "Q_ID                         \n",
       "1              150      150  \n",
       "2              150      150  \n",
       "3              150      150  \n",
       "4              150      150  \n",
       "5              200      200  \n",
       "6              175      175  \n",
       "7              150      150  \n",
       "8              175      175  \n",
       "9              100      100  \n",
       "10             325      325  \n",
       "11             200      200  \n",
       "12              75       75  \n",
       "13             225      225  \n",
       "14             125      125  \n",
       "15             125      125  \n",
       "16              75       75  \n",
       "17              75       75  \n",
       "18             150      150  \n",
       "19             100      100  \n",
       "20              50       50  "
      ]
     },
     "execution_count": 77,
     "metadata": {},
     "output_type": "execute_result"
    }
   ],
   "source": []
  },
  {
   "cell_type": "code",
   "execution_count": null,
   "metadata": {},
   "outputs": [],
   "source": []
  }
 ],
 "metadata": {
  "kernelspec": {
   "display_name": "Python 3",
   "language": "python",
   "name": "python3"
  },
  "language_info": {
   "codemirror_mode": {
    "name": "ipython",
    "version": 3
   },
   "file_extension": ".py",
   "mimetype": "text/x-python",
   "name": "python",
   "nbconvert_exporter": "python",
   "pygments_lexer": "ipython3",
   "version": "3.6.4"
  }
 },
 "nbformat": 4,
 "nbformat_minor": 2
}
