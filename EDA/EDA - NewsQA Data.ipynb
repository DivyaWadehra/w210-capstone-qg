{
 "cells": [
  {
   "cell_type": "code",
   "execution_count": 1,
   "metadata": {},
   "outputs": [],
   "source": [
    "# Package Imports\n",
    "import numpy as np\n",
    "import pandas as pd\n",
    "import matplotlib.pyplot as plt\n",
    "%matplotlib inline"
   ]
  },
  {
   "cell_type": "code",
   "execution_count": 3,
   "metadata": {},
   "outputs": [],
   "source": [
    "# Load the Dataset\n",
    "data = pd.read_csv(\"data/newsqa-data-v1.csv\")"
   ]
  },
  {
   "cell_type": "code",
   "execution_count": 4,
   "metadata": {},
   "outputs": [
    {
     "data": {
      "text/html": [
       "<div>\n",
       "<style scoped>\n",
       "    .dataframe tbody tr th:only-of-type {\n",
       "        vertical-align: middle;\n",
       "    }\n",
       "\n",
       "    .dataframe tbody tr th {\n",
       "        vertical-align: top;\n",
       "    }\n",
       "\n",
       "    .dataframe thead th {\n",
       "        text-align: right;\n",
       "    }\n",
       "</style>\n",
       "<table border=\"1\" class=\"dataframe\">\n",
       "  <thead>\n",
       "    <tr style=\"text-align: right;\">\n",
       "      <th></th>\n",
       "      <th>story_id</th>\n",
       "      <th>question</th>\n",
       "      <th>answer_char_ranges</th>\n",
       "      <th>is_answer_absent</th>\n",
       "      <th>is_question_bad</th>\n",
       "      <th>validated_answers</th>\n",
       "    </tr>\n",
       "  </thead>\n",
       "  <tbody>\n",
       "    <tr>\n",
       "      <th>0</th>\n",
       "      <td>./cnn/stories/42d01e187213e86f5fe617fe32e716ff...</td>\n",
       "      <td>What was the amount of children murdered?</td>\n",
       "      <td>294:297|None|None</td>\n",
       "      <td>0.0</td>\n",
       "      <td>0.0</td>\n",
       "      <td>{\"none\": 1, \"294:297\": 2}</td>\n",
       "    </tr>\n",
       "    <tr>\n",
       "      <th>1</th>\n",
       "      <td>./cnn/stories/c48228a52f26aca65c31fad273e66164...</td>\n",
       "      <td>Where was one employee killed?</td>\n",
       "      <td>34:60|1610:1618|34:60</td>\n",
       "      <td>0.0</td>\n",
       "      <td>0.0</td>\n",
       "      <td>NaN</td>\n",
       "    </tr>\n",
       "    <tr>\n",
       "      <th>2</th>\n",
       "      <td>./cnn/stories/c65ed85800e4535f4bbbfa2c34d7d963...</td>\n",
       "      <td>who did say South Africa did not issue a visa ...</td>\n",
       "      <td>103:127|114:127|839:853</td>\n",
       "      <td>0.0</td>\n",
       "      <td>0.0</td>\n",
       "      <td>{\"839:853\": 1, \"103:127\": 2}</td>\n",
       "    </tr>\n",
       "    <tr>\n",
       "      <th>3</th>\n",
       "      <td>./cnn/stories/0cf66b646e9b32076513c050edf32a79...</td>\n",
       "      <td>How many years old was the businessman?</td>\n",
       "      <td>538:550|538:550</td>\n",
       "      <td>0.0</td>\n",
       "      <td>0.0</td>\n",
       "      <td>NaN</td>\n",
       "    </tr>\n",
       "    <tr>\n",
       "      <th>4</th>\n",
       "      <td>./cnn/stories/13012604e3203c18df09289dfedd14cd...</td>\n",
       "      <td>What frightened the families?</td>\n",
       "      <td>690:742|688:791|630:646</td>\n",
       "      <td>0.0</td>\n",
       "      <td>0.0</td>\n",
       "      <td>{\"688:791\": 2, \"690:742\": 1}</td>\n",
       "    </tr>\n",
       "  </tbody>\n",
       "</table>\n",
       "</div>"
      ],
      "text/plain": [
       "                                            story_id  \\\n",
       "0  ./cnn/stories/42d01e187213e86f5fe617fe32e716ff...   \n",
       "1  ./cnn/stories/c48228a52f26aca65c31fad273e66164...   \n",
       "2  ./cnn/stories/c65ed85800e4535f4bbbfa2c34d7d963...   \n",
       "3  ./cnn/stories/0cf66b646e9b32076513c050edf32a79...   \n",
       "4  ./cnn/stories/13012604e3203c18df09289dfedd14cd...   \n",
       "\n",
       "                                            question       answer_char_ranges  \\\n",
       "0          What was the amount of children murdered?        294:297|None|None   \n",
       "1                     Where was one employee killed?    34:60|1610:1618|34:60   \n",
       "2  who did say South Africa did not issue a visa ...  103:127|114:127|839:853   \n",
       "3            How many years old was the businessman?          538:550|538:550   \n",
       "4                      What frightened the families?  690:742|688:791|630:646   \n",
       "\n",
       "   is_answer_absent is_question_bad             validated_answers  \n",
       "0               0.0             0.0     {\"none\": 1, \"294:297\": 2}  \n",
       "1               0.0             0.0                           NaN  \n",
       "2               0.0             0.0  {\"839:853\": 1, \"103:127\": 2}  \n",
       "3               0.0             0.0                           NaN  \n",
       "4               0.0             0.0  {\"688:791\": 2, \"690:742\": 1}  "
      ]
     },
     "execution_count": 4,
     "metadata": {},
     "output_type": "execute_result"
    }
   ],
   "source": [
    "data.head()"
   ]
  },
  {
   "cell_type": "code",
   "execution_count": 4,
   "metadata": {},
   "outputs": [
    {
     "data": {
      "text/plain": [
       "Index(['story_id', 'question', 'answer_char_ranges', 'is_answer_absent',\n",
       "       'is_question_bad', 'validated_answers'],\n",
       "      dtype='object')"
      ]
     },
     "execution_count": 4,
     "metadata": {},
     "output_type": "execute_result"
    }
   ],
   "source": [
    "data.columns"
   ]
  },
  {
   "cell_type": "code",
   "execution_count": 5,
   "metadata": {},
   "outputs": [
    {
     "data": {
      "text/plain": [
       "119633"
      ]
     },
     "execution_count": 5,
     "metadata": {},
     "output_type": "execute_result"
    }
   ],
   "source": [
    "len(data)"
   ]
  },
  {
   "cell_type": "markdown",
   "metadata": {},
   "source": [
    "There are 119633 entries in the data set. Each entry has 6 responses. The entries contain the following information:\n",
    "\n",
    "    story_id: some sort of identifying information for each story - not the url\n",
    "    \n",
    "    question: reading comprehension question\n",
    "    \n",
    "    answer_char_ranges: range of character indices where the answer can be found, various answers from crowdsourcers are separated by \"|\"\n",
    "    \n",
    "    is_answer_absent: proportion of crowdsourcers that say that the answer is absent\n",
    "    \n",
    "    is_question_bad: proportion of crowdsourcers that say the question is bad\n",
    "    \n",
    "    validated_answers: the answers from validators\n",
    "    \n",
    "The text of the stories is not provided in this data set, but I believe we can download it as well."
   ]
  },
  {
   "cell_type": "markdown",
   "metadata": {},
   "source": [
    "## Story ID Variable"
   ]
  },
  {
   "cell_type": "code",
   "execution_count": 12,
   "metadata": {},
   "outputs": [
    {
     "data": {
      "text/plain": [
       "0"
      ]
     },
     "execution_count": 12,
     "metadata": {},
     "output_type": "execute_result"
    }
   ],
   "source": [
    "sum(data.story_id.isnull())"
   ]
  },
  {
   "cell_type": "code",
   "execution_count": 30,
   "metadata": {},
   "outputs": [
    {
     "data": {
      "text/plain": [
       "12744"
      ]
     },
     "execution_count": 30,
     "metadata": {},
     "output_type": "execute_result"
    }
   ],
   "source": [
    "len(data.story_id.unique())"
   ]
  },
  {
   "cell_type": "markdown",
   "metadata": {},
   "source": [
    "Each entry contains a Story ID. Of the 119633 entries, there are 12744 unique responses. I assume this means that there are ~120000 questions from these ~13000 articles."
   ]
  },
  {
   "cell_type": "code",
   "execution_count": 4,
   "metadata": {},
   "outputs": [],
   "source": [
    "# Look at how many questions are asked for each story\n",
    "stories = pd.DataFrame(data.story_id.drop_duplicates())\n",
    "stories.set_index('story_id', inplace = True)\n",
    "stories['num_entries'] = np.zeros(len(stories))\n",
    "\n",
    "for e in data.index:\n",
    "    stories['num_entries'].loc[data.story_id.loc[e]] += 1"
   ]
  },
  {
   "cell_type": "code",
   "execution_count": 5,
   "metadata": {},
   "outputs": [
    {
     "data": {
      "text/plain": [
       "Text(0,0.5,'Number of Stories')"
      ]
     },
     "execution_count": 5,
     "metadata": {},
     "output_type": "execute_result"
    },
    {
     "data": {
      "image/png": "[encoded data removed]",
      "text/plain": [
       "<Figure size 432x288 with 1 Axes>"
      ]
     },
     "metadata": {
      "needs_background": "light"
     },
     "output_type": "display_data"
    }
   ],
   "source": [
    "plt.hist(stories.num_entries, rwidth = 0.9)\n",
    "plt.xlabel(\"Number of Entries Associated with Each Story\")\n",
    "plt.ylabel(\"Number of Stories\")"
   ]
  },
  {
   "cell_type": "code",
   "execution_count": 6,
   "metadata": {},
   "outputs": [
    {
     "name": "stdout",
     "output_type": "stream",
     "text": [
      "Mean: 9.38739799121155\n",
      "Median: 9.0\n",
      "Minimum: 2.0\n",
      "Maximum: 30.0\n"
     ]
    }
   ],
   "source": [
    "print(\"Mean:\", np.mean(stories.num_entries))\n",
    "print(\"Median:\", np.median(stories.num_entries))\n",
    "print(\"Minimum:\", np.min(stories.num_entries))\n",
    "print(\"Maximum:\", np.max(stories.num_entries))"
   ]
  },
  {
   "cell_type": "code",
   "execution_count": 103,
   "metadata": {},
   "outputs": [
    {
     "data": {
      "text/plain": [
       "9.0     9395\n",
       "8.0     1401\n",
       "12.0    1052\n",
       "11.0     321\n",
       "7.0      203\n",
       "10.0      86\n",
       "6.0       71\n",
       "29.0      40\n",
       "30.0      40\n",
       "15.0      36\n",
       "28.0      31\n",
       "27.0      20\n",
       "14.0      15\n",
       "26.0      10\n",
       "3.0       10\n",
       "25.0       3\n",
       "17.0       2\n",
       "5.0        2\n",
       "23.0       2\n",
       "2.0        2\n",
       "13.0       1\n",
       "18.0       1\n",
       "Name: num_entries, dtype: int64"
      ]
     },
     "execution_count": 103,
     "metadata": {},
     "output_type": "execute_result"
    }
   ],
   "source": [
    "stories['num_entries'].value_counts()"
   ]
  },
  {
   "cell_type": "markdown",
   "metadata": {},
   "source": [
    "Most of the stories have 8 or 9 questions associated with them. They may have as many as 30 or as few as 2."
   ]
  },
  {
   "cell_type": "markdown",
   "metadata": {},
   "source": [
    "## Question Variable"
   ]
  },
  {
   "cell_type": "code",
   "execution_count": 29,
   "metadata": {},
   "outputs": [
    {
     "data": {
      "text/plain": [
       "2"
      ]
     },
     "execution_count": 29,
     "metadata": {},
     "output_type": "execute_result"
    }
   ],
   "source": [
    "sum(data.question.isnull())"
   ]
  },
  {
   "cell_type": "code",
   "execution_count": 28,
   "metadata": {},
   "outputs": [
    {
     "data": {
      "text/plain": [
       "115275"
      ]
     },
     "execution_count": 28,
     "metadata": {},
     "output_type": "execute_result"
    }
   ],
   "source": [
    "len(data.question.unique())"
   ]
  },
  {
   "cell_type": "markdown",
   "metadata": {},
   "source": [
    "Two of the entries do not contain the question. Of the 119633 entries, there are 115275 unique questions."
   ]
  },
  {
   "cell_type": "code",
   "execution_count": 33,
   "metadata": {},
   "outputs": [
    {
     "data": {
      "text/plain": [
       "6"
      ]
     },
     "execution_count": 33,
     "metadata": {},
     "output_type": "execute_result"
    }
   ],
   "source": [
    "len(data.question.loc[15].split())"
   ]
  },
  {
   "cell_type": "code",
   "execution_count": 6,
   "metadata": {},
   "outputs": [],
   "source": [
    "# Taking a closer look at the duplicate questions\n",
    "dup_q = data[data.question.duplicated(keep = False)]"
   ]
  },
  {
   "cell_type": "code",
   "execution_count": 7,
   "metadata": {},
   "outputs": [
    {
     "data": {
      "text/plain": [
       "6744"
      ]
     },
     "execution_count": 7,
     "metadata": {},
     "output_type": "execute_result"
    }
   ],
   "source": [
    "len(dup_q)"
   ]
  },
  {
   "cell_type": "code",
   "execution_count": 9,
   "metadata": {},
   "outputs": [
    {
     "data": {
      "text/html": [
       "<div>\n",
       "<style scoped>\n",
       "    .dataframe tbody tr th:only-of-type {\n",
       "        vertical-align: middle;\n",
       "    }\n",
       "\n",
       "    .dataframe tbody tr th {\n",
       "        vertical-align: top;\n",
       "    }\n",
       "\n",
       "    .dataframe thead th {\n",
       "        text-align: right;\n",
       "    }\n",
       "</style>\n",
       "<table border=\"1\" class=\"dataframe\">\n",
       "  <thead>\n",
       "    <tr style=\"text-align: right;\">\n",
       "      <th></th>\n",
       "      <th>story_id</th>\n",
       "      <th>question</th>\n",
       "      <th>answer_char_ranges</th>\n",
       "      <th>is_answer_absent</th>\n",
       "      <th>is_question_bad</th>\n",
       "      <th>validated_answers</th>\n",
       "    </tr>\n",
       "  </thead>\n",
       "  <tbody>\n",
       "    <tr>\n",
       "      <th>15</th>\n",
       "      <td>./cnn/stories/4d181b23eb2a5c73f17f6c6c8856ad24...</td>\n",
       "      <td>What did the French president say?</td>\n",
       "      <td>3816:3859|3798:3859|3798:4072</td>\n",
       "      <td>0.0</td>\n",
       "      <td>0.0</td>\n",
       "      <td>{\"3798:4072\": 2}</td>\n",
       "    </tr>\n",
       "    <tr>\n",
       "      <th>70</th>\n",
       "      <td>./cnn/stories/ef6e7ee88adc48f680e91d00c065f268...</td>\n",
       "      <td>What does the Dalai Lama seek?</td>\n",
       "      <td>363:373|363:373</td>\n",
       "      <td>0.0</td>\n",
       "      <td>0.0</td>\n",
       "      <td>NaN</td>\n",
       "    </tr>\n",
       "    <tr>\n",
       "      <th>87</th>\n",
       "      <td>./cnn/stories/aa905ece59d1c439708984809017ac1a...</td>\n",
       "      <td>When was the trial due to start?</td>\n",
       "      <td>377:388|377:388</td>\n",
       "      <td>0.0</td>\n",
       "      <td>0.0</td>\n",
       "      <td>NaN</td>\n",
       "    </tr>\n",
       "    <tr>\n",
       "      <th>121</th>\n",
       "      <td>./cnn/stories/44f55c84c4a580853e384c860bb2ba3a...</td>\n",
       "      <td>who is Sonia Sotomayor?</td>\n",
       "      <td>164:170|164:170</td>\n",
       "      <td>0.0</td>\n",
       "      <td>0.0</td>\n",
       "      <td>NaN</td>\n",
       "    </tr>\n",
       "    <tr>\n",
       "      <th>144</th>\n",
       "      <td>./cnn/stories/b1e998cd481253945d4f174d3686ea16...</td>\n",
       "      <td>What group is being targeted?</td>\n",
       "      <td>220:227,439:504,610:619,847:856|439:482|236:24...</td>\n",
       "      <td>0.0</td>\n",
       "      <td>0.0</td>\n",
       "      <td>{\"439:504\": 2}</td>\n",
       "    </tr>\n",
       "  </tbody>\n",
       "</table>\n",
       "</div>"
      ],
      "text/plain": [
       "                                              story_id  \\\n",
       "15   ./cnn/stories/4d181b23eb2a5c73f17f6c6c8856ad24...   \n",
       "70   ./cnn/stories/ef6e7ee88adc48f680e91d00c065f268...   \n",
       "87   ./cnn/stories/aa905ece59d1c439708984809017ac1a...   \n",
       "121  ./cnn/stories/44f55c84c4a580853e384c860bb2ba3a...   \n",
       "144  ./cnn/stories/b1e998cd481253945d4f174d3686ea16...   \n",
       "\n",
       "                               question  \\\n",
       "15   What did the French president say?   \n",
       "70       What does the Dalai Lama seek?   \n",
       "87     When was the trial due to start?   \n",
       "121             who is Sonia Sotomayor?   \n",
       "144       What group is being targeted?   \n",
       "\n",
       "                                    answer_char_ranges  is_answer_absent  \\\n",
       "15                       3816:3859|3798:3859|3798:4072               0.0   \n",
       "70                                     363:373|363:373               0.0   \n",
       "87                                     377:388|377:388               0.0   \n",
       "121                                    164:170|164:170               0.0   \n",
       "144  220:227,439:504,610:619,847:856|439:482|236:24...               0.0   \n",
       "\n",
       "    is_question_bad validated_answers  \n",
       "15              0.0  {\"3798:4072\": 2}  \n",
       "70              0.0               NaN  \n",
       "87              0.0               NaN  \n",
       "121             0.0               NaN  \n",
       "144             0.0    {\"439:504\": 2}  "
      ]
     },
     "execution_count": 9,
     "metadata": {},
     "output_type": "execute_result"
    }
   ],
   "source": [
    "dup_q.head()"
   ]
  },
  {
   "cell_type": "code",
   "execution_count": 10,
   "metadata": {},
   "outputs": [
    {
     "data": {
      "text/plain": [
       "4602"
      ]
     },
     "execution_count": 10,
     "metadata": {},
     "output_type": "execute_result"
    }
   ],
   "source": [
    "len(dup_q.story_id.unique())"
   ]
  },
  {
   "cell_type": "code",
   "execution_count": 8,
   "metadata": {},
   "outputs": [],
   "source": [
    "qs = dup_q.question.drop_duplicates()"
   ]
  },
  {
   "cell_type": "code",
   "execution_count": 12,
   "metadata": {},
   "outputs": [
    {
     "data": {
      "text/plain": [
       "2386"
      ]
     },
     "execution_count": 12,
     "metadata": {},
     "output_type": "execute_result"
    }
   ],
   "source": [
    "len(qs)"
   ]
  },
  {
   "cell_type": "code",
   "execution_count": 9,
   "metadata": {},
   "outputs": [],
   "source": [
    "qs = pd.DataFrame(qs)"
   ]
  },
  {
   "cell_type": "code",
   "execution_count": 10,
   "metadata": {},
   "outputs": [],
   "source": [
    "qs['num_entries'] = np.zeros(len(qs))"
   ]
  },
  {
   "cell_type": "code",
   "execution_count": 11,
   "metadata": {},
   "outputs": [
    {
     "name": "stderr",
     "output_type": "stream",
     "text": [
      "C:\\Users\\kplat\\Anaconda3\\lib\\site-packages\\pandas\\core\\indexing.py:189: SettingWithCopyWarning: \n",
      "A value is trying to be set on a copy of a slice from a DataFrame\n",
      "\n",
      "See the caveats in the documentation: http://pandas.pydata.org/pandas-docs/stable/indexing.html#indexing-view-versus-copy\n",
      "  self._setitem_with_indexer(indexer, value)\n"
     ]
    }
   ],
   "source": [
    "for q in range(0, len(qs)):\n",
    "    qs.num_entries.iloc[q] = len(dup_q[dup_q.question == qs.question.iloc[q]])"
   ]
  },
  {
   "cell_type": "code",
   "execution_count": 12,
   "metadata": {},
   "outputs": [
    {
     "data": {
      "text/plain": [
       "Text(0,0.5,'Number of Questions')"
      ]
     },
     "execution_count": 12,
     "metadata": {},
     "output_type": "execute_result"
    },
    {
     "data": {
      "image/png": "[encoded data removed]",
      "text/plain": [
       "<Figure size 432x288 with 1 Axes>"
      ]
     },
     "metadata": {
      "needs_background": "light"
     },
     "output_type": "display_data"
    }
   ],
   "source": [
    "plt.hist(qs.num_entries, rwidth = 0.8)\n",
    "plt.xlabel(\"Number of Stories Associated with a Question\")\n",
    "plt.ylabel(\"Number of Questions\")"
   ]
  },
  {
   "cell_type": "code",
   "execution_count": 26,
   "metadata": {},
   "outputs": [
    {
     "name": "stdout",
     "output_type": "stream",
     "text": [
      "Mean: 2.8256496227996646\n",
      "Median: 2.0\n",
      "Minimum: 0.0\n",
      "Maximum: 57.0\n"
     ]
    }
   ],
   "source": [
    "print(\"Mean:\", np.mean(qs.num_entries))\n",
    "print(\"Median:\", np.median(qs.num_entries))\n",
    "print(\"Minimum:\", np.min(qs.num_entries))\n",
    "print(\"Maximum:\", np.max(qs.num_entries))"
   ]
  },
  {
   "cell_type": "code",
   "execution_count": 25,
   "metadata": {},
   "outputs": [
    {
     "data": {
      "text/html": [
       "<div>\n",
       "<style scoped>\n",
       "    .dataframe tbody tr th:only-of-type {\n",
       "        vertical-align: middle;\n",
       "    }\n",
       "\n",
       "    .dataframe tbody tr th {\n",
       "        vertical-align: top;\n",
       "    }\n",
       "\n",
       "    .dataframe thead th {\n",
       "        text-align: right;\n",
       "    }\n",
       "</style>\n",
       "<table border=\"1\" class=\"dataframe\">\n",
       "  <thead>\n",
       "    <tr style=\"text-align: right;\">\n",
       "      <th></th>\n",
       "      <th>num_entries</th>\n",
       "      <th>num_stories</th>\n",
       "      <th>stories</th>\n",
       "      <th>duplicate</th>\n",
       "    </tr>\n",
       "    <tr>\n",
       "      <th>question</th>\n",
       "      <th></th>\n",
       "      <th></th>\n",
       "      <th></th>\n",
       "      <th></th>\n",
       "    </tr>\n",
       "  </thead>\n",
       "  <tbody>\n",
       "    <tr>\n",
       "      <th>NaN</th>\n",
       "      <td>0.0</td>\n",
       "      <td>2.0</td>\n",
       "      <td>[./cnn/stories/c7aa75130c60a0fed530dcc65aa06da...</td>\n",
       "      <td>1.0</td>\n",
       "    </tr>\n",
       "    <tr>\n",
       "      <th>What did the French president say?</th>\n",
       "      <td>2.0</td>\n",
       "      <td>2.0</td>\n",
       "      <td>[./cnn/stories/4d181b23eb2a5c73f17f6c6c8856ad2...</td>\n",
       "      <td>0.0</td>\n",
       "    </tr>\n",
       "    <tr>\n",
       "      <th>She considered Botox but says she doesn't have enough wrinkles for it yet</th>\n",
       "      <td>2.0</td>\n",
       "      <td>2.0</td>\n",
       "      <td>[./cnn/stories/ec0e9a0c77bbb4bba73ef5177413c66...</td>\n",
       "      <td>0.0</td>\n",
       "    </tr>\n",
       "    <tr>\n",
       "      <th>Where did the explosions take place?</th>\n",
       "      <td>2.0</td>\n",
       "      <td>2.0</td>\n",
       "      <td>[./cnn/stories/7890546606d341c9570b4e9aa96936b...</td>\n",
       "      <td>0.0</td>\n",
       "    </tr>\n",
       "    <tr>\n",
       "      <th>What war did he serve in?</th>\n",
       "      <td>2.0</td>\n",
       "      <td>2.0</td>\n",
       "      <td>[./cnn/stories/263d0d5091cc3f3f24616f442602db9...</td>\n",
       "      <td>0.0</td>\n",
       "    </tr>\n",
       "    <tr>\n",
       "      <th>How many scouts took part in the sunrise ceremonies?</th>\n",
       "      <td>2.0</td>\n",
       "      <td>2.0</td>\n",
       "      <td>[./cnn/stories/d75bcd3efea1dd1c71cee1b39b4a6e3...</td>\n",
       "      <td>0.0</td>\n",
       "    </tr>\n",
       "    <tr>\n",
       "      <th>What age is Michael Brewer?</th>\n",
       "      <td>2.0</td>\n",
       "      <td>2.0</td>\n",
       "      <td>[./cnn/stories/4620621f8509a5b548bf4a2eec0d9b8...</td>\n",
       "      <td>0.0</td>\n",
       "    </tr>\n",
       "    <tr>\n",
       "      <th>where is it held</th>\n",
       "      <td>2.0</td>\n",
       "      <td>2.0</td>\n",
       "      <td>[./cnn/stories/f510275cf5b4bb8b659f82012e145ec...</td>\n",
       "      <td>0.0</td>\n",
       "    </tr>\n",
       "    <tr>\n",
       "      <th>What is happening now?</th>\n",
       "      <td>2.0</td>\n",
       "      <td>2.0</td>\n",
       "      <td>[./cnn/stories/725938611c7dca6f876ada93b1d68b2...</td>\n",
       "      <td>0.0</td>\n",
       "    </tr>\n",
       "    <tr>\n",
       "      <th>when was she last seen</th>\n",
       "      <td>2.0</td>\n",
       "      <td>2.0</td>\n",
       "      <td>[./cnn/stories/43b28078de06e85520a8d14fac5d1e2...</td>\n",
       "      <td>0.0</td>\n",
       "    </tr>\n",
       "    <tr>\n",
       "      <th>How many people are still missing?</th>\n",
       "      <td>2.0</td>\n",
       "      <td>2.0</td>\n",
       "      <td>[./cnn/stories/2b0e7fb9384b149eb49ec5003f5fcfc...</td>\n",
       "      <td>0.0</td>\n",
       "    </tr>\n",
       "    <tr>\n",
       "      <th>What does Zelizer say?</th>\n",
       "      <td>2.0</td>\n",
       "      <td>2.0</td>\n",
       "      <td>[./cnn/stories/41b6d330ebd1b2170e2f5958bc72cd3...</td>\n",
       "      <td>0.0</td>\n",
       "    </tr>\n",
       "    <tr>\n",
       "      <th>Where should you shop?</th>\n",
       "      <td>2.0</td>\n",
       "      <td>2.0</td>\n",
       "      <td>[./cnn/stories/e2908eb5612b9672fdc1af5cbbb784c...</td>\n",
       "      <td>0.0</td>\n",
       "    </tr>\n",
       "    <tr>\n",
       "      <th>Who cooperated with police?</th>\n",
       "      <td>2.0</td>\n",
       "      <td>2.0</td>\n",
       "      <td>[./cnn/stories/6c3d2feed04c75063d182103f0585c4...</td>\n",
       "      <td>0.0</td>\n",
       "    </tr>\n",
       "    <tr>\n",
       "      <th>Where is the office?</th>\n",
       "      <td>2.0</td>\n",
       "      <td>2.0</td>\n",
       "      <td>[./cnn/stories/f2e944622d5207445d4c86b1b762737...</td>\n",
       "      <td>0.0</td>\n",
       "    </tr>\n",
       "    <tr>\n",
       "      <th>Who was wounded in the attack?</th>\n",
       "      <td>2.0</td>\n",
       "      <td>2.0</td>\n",
       "      <td>[./cnn/stories/08d845c78055627eb898cb74bc38274...</td>\n",
       "      <td>0.0</td>\n",
       "    </tr>\n",
       "    <tr>\n",
       "      <th>Who is the Iranian President?</th>\n",
       "      <td>2.0</td>\n",
       "      <td>2.0</td>\n",
       "      <td>[./cnn/stories/7b93c08dea282cbb8fec007c41ea5bc...</td>\n",
       "      <td>0.0</td>\n",
       "    </tr>\n",
       "    <tr>\n",
       "      <th>what does faa say</th>\n",
       "      <td>2.0</td>\n",
       "      <td>2.0</td>\n",
       "      <td>[./cnn/stories/9abbce235faeea510868f1940ebc9d6...</td>\n",
       "      <td>0.0</td>\n",
       "    </tr>\n",
       "    <tr>\n",
       "      <th>How many soldiers has Rwanda dispatched?</th>\n",
       "      <td>2.0</td>\n",
       "      <td>2.0</td>\n",
       "      <td>[./cnn/stories/46bed153c1ba79ff212ca7108c9a71e...</td>\n",
       "      <td>0.0</td>\n",
       "    </tr>\n",
       "    <tr>\n",
       "      <th>Who is being replaced?</th>\n",
       "      <td>2.0</td>\n",
       "      <td>2.0</td>\n",
       "      <td>[./cnn/stories/39285c74cd2c1b9fbf3566236c43f9c...</td>\n",
       "      <td>0.0</td>\n",
       "    </tr>\n",
       "    <tr>\n",
       "      <th>What was the record?</th>\n",
       "      <td>2.0</td>\n",
       "      <td>2.0</td>\n",
       "      <td>[./cnn/stories/2b08ee205946dc0bb6ffe0db654cbbb...</td>\n",
       "      <td>0.0</td>\n",
       "    </tr>\n",
       "    <tr>\n",
       "      <th>Where did they march?</th>\n",
       "      <td>2.0</td>\n",
       "      <td>2.0</td>\n",
       "      <td>[./cnn/stories/0cf7de8e37a2ad7d66bab7c345b579c...</td>\n",
       "      <td>0.0</td>\n",
       "    </tr>\n",
       "    <tr>\n",
       "      <th>what was the motive</th>\n",
       "      <td>2.0</td>\n",
       "      <td>2.0</td>\n",
       "      <td>[./cnn/stories/2b30b8d4d927eb7c00e5a96c829273d...</td>\n",
       "      <td>0.0</td>\n",
       "    </tr>\n",
       "    <tr>\n",
       "      <th>What does the move do?</th>\n",
       "      <td>2.0</td>\n",
       "      <td>2.0</td>\n",
       "      <td>[./cnn/stories/8f49d30d5dea63f911842981171b485...</td>\n",
       "      <td>0.0</td>\n",
       "    </tr>\n",
       "    <tr>\n",
       "      <th>When did the bomb go off?</th>\n",
       "      <td>2.0</td>\n",
       "      <td>2.0</td>\n",
       "      <td>[./cnn/stories/bf0cd4ccacd4fe045995338f4c44d9c...</td>\n",
       "      <td>0.0</td>\n",
       "    </tr>\n",
       "    <tr>\n",
       "      <th>what does he do</th>\n",
       "      <td>2.0</td>\n",
       "      <td>2.0</td>\n",
       "      <td>[./cnn/stories/b7127ee2e459c7d99d29dcc76d25bc3...</td>\n",
       "      <td>0.0</td>\n",
       "    </tr>\n",
       "    <tr>\n",
       "      <th>Where is Germany?</th>\n",
       "      <td>2.0</td>\n",
       "      <td>2.0</td>\n",
       "      <td>[./cnn/stories/4fb2181d250a2c8092a374d430b23ea...</td>\n",
       "      <td>0.0</td>\n",
       "    </tr>\n",
       "    <tr>\n",
       "      <th>What was the girl's age?</th>\n",
       "      <td>2.0</td>\n",
       "      <td>2.0</td>\n",
       "      <td>[./cnn/stories/ad55d2f13db6732edcd716e09f527ed...</td>\n",
       "      <td>0.0</td>\n",
       "    </tr>\n",
       "    <tr>\n",
       "      <th>from its big opening last weekend \"The Last House on the Left\" came in at No. 3 with an anticipated $14.7 million See what other movies made the box office top 10</th>\n",
       "      <td>2.0</td>\n",
       "      <td>2.0</td>\n",
       "      <td>[./cnn/stories/257d3108c14b4d0a55cf09072d17e78...</td>\n",
       "      <td>0.0</td>\n",
       "    </tr>\n",
       "    <tr>\n",
       "      <th>When was the date?</th>\n",
       "      <td>2.0</td>\n",
       "      <td>2.0</td>\n",
       "      <td>[./cnn/stories/17bf45c47b949a1a3e41f9e5e5016df...</td>\n",
       "      <td>0.0</td>\n",
       "    </tr>\n",
       "    <tr>\n",
       "      <th>...</th>\n",
       "      <td>...</td>\n",
       "      <td>...</td>\n",
       "      <td>...</td>\n",
       "      <td>...</td>\n",
       "    </tr>\n",
       "    <tr>\n",
       "      <th>What did officials say?</th>\n",
       "      <td>12.0</td>\n",
       "      <td>12.0</td>\n",
       "      <td>[./cnn/stories/343644770a597a2dfa7548ba165fa9c...</td>\n",
       "      <td>0.0</td>\n",
       "    </tr>\n",
       "    <tr>\n",
       "      <th>What was the death toll?</th>\n",
       "      <td>12.0</td>\n",
       "      <td>12.0</td>\n",
       "      <td>[./cnn/stories/66246eb945d61644a2c13d689a8fdc2...</td>\n",
       "      <td>0.0</td>\n",
       "    </tr>\n",
       "    <tr>\n",
       "      <th>What did police say?</th>\n",
       "      <td>12.0</td>\n",
       "      <td>12.0</td>\n",
       "      <td>[./cnn/stories/ac8d3ea71711fbc47cf11a84cade552...</td>\n",
       "      <td>0.0</td>\n",
       "    </tr>\n",
       "    <tr>\n",
       "      <th>How many died?</th>\n",
       "      <td>13.0</td>\n",
       "      <td>13.0</td>\n",
       "      <td>[./cnn/stories/a0356d0b9103b49358dfc73f43e1ac8...</td>\n",
       "      <td>0.0</td>\n",
       "    </tr>\n",
       "    <tr>\n",
       "      <th>How many were injured?</th>\n",
       "      <td>13.0</td>\n",
       "      <td>13.0</td>\n",
       "      <td>[./cnn/stories/2a714f7e8afa58b664b48e3ef455b8b...</td>\n",
       "      <td>0.0</td>\n",
       "    </tr>\n",
       "    <tr>\n",
       "      <th>Where did this happen?</th>\n",
       "      <td>13.0</td>\n",
       "      <td>13.0</td>\n",
       "      <td>[./cnn/stories/13b405c65bfb4b0a57dc1bea181e52c...</td>\n",
       "      <td>0.0</td>\n",
       "    </tr>\n",
       "    <tr>\n",
       "      <th>Who is the president?</th>\n",
       "      <td>13.0</td>\n",
       "      <td>13.0</td>\n",
       "      <td>[./cnn/stories/3e57228b544d53905e505107a6a30ed...</td>\n",
       "      <td>0.0</td>\n",
       "    </tr>\n",
       "    <tr>\n",
       "      <th>what did the police say</th>\n",
       "      <td>13.0</td>\n",
       "      <td>13.0</td>\n",
       "      <td>[./cnn/stories/643867af16b16dc5560f5eda7d76039...</td>\n",
       "      <td>0.0</td>\n",
       "    </tr>\n",
       "    <tr>\n",
       "      <th>What is the death toll?</th>\n",
       "      <td>13.0</td>\n",
       "      <td>13.0</td>\n",
       "      <td>[./cnn/stories/ceb7a288ac1ad604a17bc25c5978fcc...</td>\n",
       "      <td>0.0</td>\n",
       "    </tr>\n",
       "    <tr>\n",
       "      <th>What caused the crash?</th>\n",
       "      <td>13.0</td>\n",
       "      <td>13.0</td>\n",
       "      <td>[./cnn/stories/15d4c007b0f57dd50c4d0bd054fbdc2...</td>\n",
       "      <td>0.0</td>\n",
       "    </tr>\n",
       "    <tr>\n",
       "      <th>when did this happen?</th>\n",
       "      <td>14.0</td>\n",
       "      <td>14.0</td>\n",
       "      <td>[./cnn/stories/eed527dece78deffed54a7cdd8516c4...</td>\n",
       "      <td>0.0</td>\n",
       "    </tr>\n",
       "    <tr>\n",
       "      <th>When did this happen?</th>\n",
       "      <td>14.0</td>\n",
       "      <td>14.0</td>\n",
       "      <td>[./cnn/stories/5603d83a1b958e47608d8bfc2b73b31...</td>\n",
       "      <td>0.0</td>\n",
       "    </tr>\n",
       "    <tr>\n",
       "      <th>What does the video show?</th>\n",
       "      <td>14.0</td>\n",
       "      <td>14.0</td>\n",
       "      <td>[./cnn/stories/f6ab014104858f8bcef436218232981...</td>\n",
       "      <td>0.0</td>\n",
       "    </tr>\n",
       "    <tr>\n",
       "      <th>What did the police say?</th>\n",
       "      <td>15.0</td>\n",
       "      <td>15.0</td>\n",
       "      <td>[./cnn/stories/bb2288519cf217d02958f9226ba0219...</td>\n",
       "      <td>0.0</td>\n",
       "    </tr>\n",
       "    <tr>\n",
       "      <th>where did this happen</th>\n",
       "      <td>15.0</td>\n",
       "      <td>15.0</td>\n",
       "      <td>[./cnn/stories/9a734e78d0a0a1f72b668a150ca0e70...</td>\n",
       "      <td>0.0</td>\n",
       "    </tr>\n",
       "    <tr>\n",
       "      <th>What did the spokesman say?</th>\n",
       "      <td>16.0</td>\n",
       "      <td>16.0</td>\n",
       "      <td>[./cnn/stories/1f505c2ccf8eebc9c7b0708b9cc7a9c...</td>\n",
       "      <td>0.0</td>\n",
       "    </tr>\n",
       "    <tr>\n",
       "      <th>What is the name of the movie?</th>\n",
       "      <td>17.0</td>\n",
       "      <td>17.0</td>\n",
       "      <td>[./cnn/stories/60f1778223d1fa879bf2a69e19b6b98...</td>\n",
       "      <td>0.0</td>\n",
       "    </tr>\n",
       "    <tr>\n",
       "      <th>How many people were injured?</th>\n",
       "      <td>17.0</td>\n",
       "      <td>17.0</td>\n",
       "      <td>[./cnn/stories/2fcf35bb8543a20305dbed5e610dcd6...</td>\n",
       "      <td>0.0</td>\n",
       "    </tr>\n",
       "    <tr>\n",
       "      <th>how many were killed</th>\n",
       "      <td>17.0</td>\n",
       "      <td>17.0</td>\n",
       "      <td>[./cnn/stories/50cb4c70cc4caf885fd666b058a28c0...</td>\n",
       "      <td>0.0</td>\n",
       "    </tr>\n",
       "    <tr>\n",
       "      <th>How many were arrested?</th>\n",
       "      <td>17.0</td>\n",
       "      <td>17.0</td>\n",
       "      <td>[./cnn/stories/162ba845bc5639524d191f6ed147669...</td>\n",
       "      <td>0.0</td>\n",
       "    </tr>\n",
       "    <tr>\n",
       "      <th>how many people died</th>\n",
       "      <td>19.0</td>\n",
       "      <td>19.0</td>\n",
       "      <td>[./cnn/stories/8fd9a21949f34975c66b4ce3433e251...</td>\n",
       "      <td>0.0</td>\n",
       "    </tr>\n",
       "    <tr>\n",
       "      <th>Who was found dead?</th>\n",
       "      <td>21.0</td>\n",
       "      <td>21.0</td>\n",
       "      <td>[./cnn/stories/9664c072917307f3804f49a66550f5f...</td>\n",
       "      <td>0.0</td>\n",
       "    </tr>\n",
       "    <tr>\n",
       "      <th>What did Obama say?</th>\n",
       "      <td>24.0</td>\n",
       "      <td>24.0</td>\n",
       "      <td>[./cnn/stories/9d0cdd277240b7ee94c475c8c85f84c...</td>\n",
       "      <td>0.0</td>\n",
       "    </tr>\n",
       "    <tr>\n",
       "      <th>What was the score?</th>\n",
       "      <td>25.0</td>\n",
       "      <td>25.0</td>\n",
       "      <td>[./cnn/stories/64605c878e6db7da728656ac7c52e9e...</td>\n",
       "      <td>0.0</td>\n",
       "    </tr>\n",
       "    <tr>\n",
       "      <th>when did this happen</th>\n",
       "      <td>28.0</td>\n",
       "      <td>28.0</td>\n",
       "      <td>[./cnn/stories/98aba1921843bc42d8e52152c07ba4f...</td>\n",
       "      <td>0.0</td>\n",
       "    </tr>\n",
       "    <tr>\n",
       "      <th>How many people died?</th>\n",
       "      <td>33.0</td>\n",
       "      <td>33.0</td>\n",
       "      <td>[./cnn/stories/661eb20982406f3c7812f732ed48f4f...</td>\n",
       "      <td>0.0</td>\n",
       "    </tr>\n",
       "    <tr>\n",
       "      <th>Who was killed?</th>\n",
       "      <td>34.0</td>\n",
       "      <td>34.0</td>\n",
       "      <td>[./cnn/stories/f39b9b7fc62d30bc62925db3dd2e5f6...</td>\n",
       "      <td>0.0</td>\n",
       "    </tr>\n",
       "    <tr>\n",
       "      <th>How many were killed?</th>\n",
       "      <td>36.0</td>\n",
       "      <td>36.0</td>\n",
       "      <td>[./cnn/stories/b6d52192104e5f9192b0a95f2604db7...</td>\n",
       "      <td>0.0</td>\n",
       "    </tr>\n",
       "    <tr>\n",
       "      <th>Who was arrested?</th>\n",
       "      <td>52.0</td>\n",
       "      <td>52.0</td>\n",
       "      <td>[./cnn/stories/80e18188c11c2f86e79288288bd3f06...</td>\n",
       "      <td>0.0</td>\n",
       "    </tr>\n",
       "    <tr>\n",
       "      <th>How many people were killed?</th>\n",
       "      <td>57.0</td>\n",
       "      <td>57.0</td>\n",
       "      <td>[./cnn/stories/472e66bbb2ca3d633814075eceea8c5...</td>\n",
       "      <td>0.0</td>\n",
       "    </tr>\n",
       "  </tbody>\n",
       "</table>\n",
       "<p>2386 rows × 4 columns</p>\n",
       "</div>"
      ],
      "text/plain": [
       "                                                    num_entries  num_stories  \\\n",
       "question                                                                       \n",
       "NaN                                                         0.0          2.0   \n",
       "What did the French president say?                          2.0          2.0   \n",
       "She considered Botox but says she doesn't have ...          2.0          2.0   \n",
       "Where did the explosions take place?                        2.0          2.0   \n",
       "What war did he serve in?                                   2.0          2.0   \n",
       "How many scouts took part in the sunrise ceremo...          2.0          2.0   \n",
       "What age is Michael Brewer?                                 2.0          2.0   \n",
       "where is it held                                            2.0          2.0   \n",
       "What is happening now?                                      2.0          2.0   \n",
       "when was she last seen                                      2.0          2.0   \n",
       "How many people are still missing?                          2.0          2.0   \n",
       "What does Zelizer say?                                      2.0          2.0   \n",
       "Where should you shop?                                      2.0          2.0   \n",
       "Who cooperated with police?                                 2.0          2.0   \n",
       "Where is the office?                                        2.0          2.0   \n",
       "Who was wounded in the attack?                              2.0          2.0   \n",
       "Who is the Iranian President?                               2.0          2.0   \n",
       "what does faa say                                           2.0          2.0   \n",
       "How many soldiers has Rwanda dispatched?                    2.0          2.0   \n",
       "Who is being replaced?                                      2.0          2.0   \n",
       "What was the record?                                        2.0          2.0   \n",
       "Where did they march?                                       2.0          2.0   \n",
       "what was the motive                                         2.0          2.0   \n",
       "What does the move do?                                      2.0          2.0   \n",
       "When did the bomb go off?                                   2.0          2.0   \n",
       "what does he do                                             2.0          2.0   \n",
       "Where is Germany?                                           2.0          2.0   \n",
       "What was the girl's age?                                    2.0          2.0   \n",
       "from its big opening last weekend \"The Last Hou...          2.0          2.0   \n",
       "When was the date?                                          2.0          2.0   \n",
       "...                                                         ...          ...   \n",
       "What did officials say?                                    12.0         12.0   \n",
       "What was the death toll?                                   12.0         12.0   \n",
       "What did police say?                                       12.0         12.0   \n",
       "How many died?                                             13.0         13.0   \n",
       "How many were injured?                                     13.0         13.0   \n",
       "Where did this happen?                                     13.0         13.0   \n",
       "Who is the president?                                      13.0         13.0   \n",
       "what did the police say                                    13.0         13.0   \n",
       "What is the death toll?                                    13.0         13.0   \n",
       "What caused the crash?                                     13.0         13.0   \n",
       "when did this happen?                                      14.0         14.0   \n",
       "When did this happen?                                      14.0         14.0   \n",
       "What does the video show?                                  14.0         14.0   \n",
       "What did the police say?                                   15.0         15.0   \n",
       "where did this happen                                      15.0         15.0   \n",
       "What did the spokesman say?                                16.0         16.0   \n",
       "What is the name of the movie?                             17.0         17.0   \n",
       "How many people were injured?                              17.0         17.0   \n",
       "how many were killed                                       17.0         17.0   \n",
       "How many were arrested?                                    17.0         17.0   \n",
       "how many people died                                       19.0         19.0   \n",
       "Who was found dead?                                        21.0         21.0   \n",
       "What did Obama say?                                        24.0         24.0   \n",
       "What was the score?                                        25.0         25.0   \n",
       "when did this happen                                       28.0         28.0   \n",
       "How many people died?                                      33.0         33.0   \n",
       "Who was killed?                                            34.0         34.0   \n",
       "How many were killed?                                      36.0         36.0   \n",
       "Who was arrested?                                          52.0         52.0   \n",
       "How many people were killed?                               57.0         57.0   \n",
       "\n",
       "                                                                                              stories  \\\n",
       "question                                                                                                \n",
       "NaN                                                 [./cnn/stories/c7aa75130c60a0fed530dcc65aa06da...   \n",
       "What did the French president say?                  [./cnn/stories/4d181b23eb2a5c73f17f6c6c8856ad2...   \n",
       "She considered Botox but says she doesn't have ...  [./cnn/stories/ec0e9a0c77bbb4bba73ef5177413c66...   \n",
       "Where did the explosions take place?                [./cnn/stories/7890546606d341c9570b4e9aa96936b...   \n",
       "What war did he serve in?                           [./cnn/stories/263d0d5091cc3f3f24616f442602db9...   \n",
       "How many scouts took part in the sunrise ceremo...  [./cnn/stories/d75bcd3efea1dd1c71cee1b39b4a6e3...   \n",
       "What age is Michael Brewer?                         [./cnn/stories/4620621f8509a5b548bf4a2eec0d9b8...   \n",
       "where is it held                                    [./cnn/stories/f510275cf5b4bb8b659f82012e145ec...   \n",
       "What is happening now?                              [./cnn/stories/725938611c7dca6f876ada93b1d68b2...   \n",
       "when was she last seen                              [./cnn/stories/43b28078de06e85520a8d14fac5d1e2...   \n",
       "How many people are still missing?                  [./cnn/stories/2b0e7fb9384b149eb49ec5003f5fcfc...   \n",
       "What does Zelizer say?                              [./cnn/stories/41b6d330ebd1b2170e2f5958bc72cd3...   \n",
       "Where should you shop?                              [./cnn/stories/e2908eb5612b9672fdc1af5cbbb784c...   \n",
       "Who cooperated with police?                         [./cnn/stories/6c3d2feed04c75063d182103f0585c4...   \n",
       "Where is the office?                                [./cnn/stories/f2e944622d5207445d4c86b1b762737...   \n",
       "Who was wounded in the attack?                      [./cnn/stories/08d845c78055627eb898cb74bc38274...   \n",
       "Who is the Iranian President?                       [./cnn/stories/7b93c08dea282cbb8fec007c41ea5bc...   \n",
       "what does faa say                                   [./cnn/stories/9abbce235faeea510868f1940ebc9d6...   \n",
       "How many soldiers has Rwanda dispatched?            [./cnn/stories/46bed153c1ba79ff212ca7108c9a71e...   \n",
       "Who is being replaced?                              [./cnn/stories/39285c74cd2c1b9fbf3566236c43f9c...   \n",
       "What was the record?                                [./cnn/stories/2b08ee205946dc0bb6ffe0db654cbbb...   \n",
       "Where did they march?                               [./cnn/stories/0cf7de8e37a2ad7d66bab7c345b579c...   \n",
       "what was the motive                                 [./cnn/stories/2b30b8d4d927eb7c00e5a96c829273d...   \n",
       "What does the move do?                              [./cnn/stories/8f49d30d5dea63f911842981171b485...   \n",
       "When did the bomb go off?                           [./cnn/stories/bf0cd4ccacd4fe045995338f4c44d9c...   \n",
       "what does he do                                     [./cnn/stories/b7127ee2e459c7d99d29dcc76d25bc3...   \n",
       "Where is Germany?                                   [./cnn/stories/4fb2181d250a2c8092a374d430b23ea...   \n",
       "What was the girl's age?                            [./cnn/stories/ad55d2f13db6732edcd716e09f527ed...   \n",
       "from its big opening last weekend \"The Last Hou...  [./cnn/stories/257d3108c14b4d0a55cf09072d17e78...   \n",
       "When was the date?                                  [./cnn/stories/17bf45c47b949a1a3e41f9e5e5016df...   \n",
       "...                                                                                               ...   \n",
       "What did officials say?                             [./cnn/stories/343644770a597a2dfa7548ba165fa9c...   \n",
       "What was the death toll?                            [./cnn/stories/66246eb945d61644a2c13d689a8fdc2...   \n",
       "What did police say?                                [./cnn/stories/ac8d3ea71711fbc47cf11a84cade552...   \n",
       "How many died?                                      [./cnn/stories/a0356d0b9103b49358dfc73f43e1ac8...   \n",
       "How many were injured?                              [./cnn/stories/2a714f7e8afa58b664b48e3ef455b8b...   \n",
       "Where did this happen?                              [./cnn/stories/13b405c65bfb4b0a57dc1bea181e52c...   \n",
       "Who is the president?                               [./cnn/stories/3e57228b544d53905e505107a6a30ed...   \n",
       "what did the police say                             [./cnn/stories/643867af16b16dc5560f5eda7d76039...   \n",
       "What is the death toll?                             [./cnn/stories/ceb7a288ac1ad604a17bc25c5978fcc...   \n",
       "What caused the crash?                              [./cnn/stories/15d4c007b0f57dd50c4d0bd054fbdc2...   \n",
       "when did this happen?                               [./cnn/stories/eed527dece78deffed54a7cdd8516c4...   \n",
       "When did this happen?                               [./cnn/stories/5603d83a1b958e47608d8bfc2b73b31...   \n",
       "What does the video show?                           [./cnn/stories/f6ab014104858f8bcef436218232981...   \n",
       "What did the police say?                            [./cnn/stories/bb2288519cf217d02958f9226ba0219...   \n",
       "where did this happen                               [./cnn/stories/9a734e78d0a0a1f72b668a150ca0e70...   \n",
       "What did the spokesman say?                         [./cnn/stories/1f505c2ccf8eebc9c7b0708b9cc7a9c...   \n",
       "What is the name of the movie?                      [./cnn/stories/60f1778223d1fa879bf2a69e19b6b98...   \n",
       "How many people were injured?                       [./cnn/stories/2fcf35bb8543a20305dbed5e610dcd6...   \n",
       "how many were killed                                [./cnn/stories/50cb4c70cc4caf885fd666b058a28c0...   \n",
       "How many were arrested?                             [./cnn/stories/162ba845bc5639524d191f6ed147669...   \n",
       "how many people died                                [./cnn/stories/8fd9a21949f34975c66b4ce3433e251...   \n",
       "Who was found dead?                                 [./cnn/stories/9664c072917307f3804f49a66550f5f...   \n",
       "What did Obama say?                                 [./cnn/stories/9d0cdd277240b7ee94c475c8c85f84c...   \n",
       "What was the score?                                 [./cnn/stories/64605c878e6db7da728656ac7c52e9e...   \n",
       "when did this happen                                [./cnn/stories/98aba1921843bc42d8e52152c07ba4f...   \n",
       "How many people died?                               [./cnn/stories/661eb20982406f3c7812f732ed48f4f...   \n",
       "Who was killed?                                     [./cnn/stories/f39b9b7fc62d30bc62925db3dd2e5f6...   \n",
       "How many were killed?                               [./cnn/stories/b6d52192104e5f9192b0a95f2604db7...   \n",
       "Who was arrested?                                   [./cnn/stories/80e18188c11c2f86e79288288bd3f06...   \n",
       "How many people were killed?                        [./cnn/stories/472e66bbb2ca3d633814075eceea8c5...   \n",
       "\n",
       "                                                    duplicate  \n",
       "question                                                       \n",
       "NaN                                                       1.0  \n",
       "What did the French president say?                        0.0  \n",
       "She considered Botox but says she doesn't have ...        0.0  \n",
       "Where did the explosions take place?                      0.0  \n",
       "What war did he serve in?                                 0.0  \n",
       "How many scouts took part in the sunrise ceremo...        0.0  \n",
       "What age is Michael Brewer?                               0.0  \n",
       "where is it held                                          0.0  \n",
       "What is happening now?                                    0.0  \n",
       "when was she last seen                                    0.0  \n",
       "How many people are still missing?                        0.0  \n",
       "What does Zelizer say?                                    0.0  \n",
       "Where should you shop?                                    0.0  \n",
       "Who cooperated with police?                               0.0  \n",
       "Where is the office?                                      0.0  \n",
       "Who was wounded in the attack?                            0.0  \n",
       "Who is the Iranian President?                             0.0  \n",
       "what does faa say                                         0.0  \n",
       "How many soldiers has Rwanda dispatched?                  0.0  \n",
       "Who is being replaced?                                    0.0  \n",
       "What was the record?                                      0.0  \n",
       "Where did they march?                                     0.0  \n",
       "what was the motive                                       0.0  \n",
       "What does the move do?                                    0.0  \n",
       "When did the bomb go off?                                 0.0  \n",
       "what does he do                                           0.0  \n",
       "Where is Germany?                                         0.0  \n",
       "What was the girl's age?                                  0.0  \n",
       "from its big opening last weekend \"The Last Hou...        0.0  \n",
       "When was the date?                                        0.0  \n",
       "...                                                       ...  \n",
       "What did officials say?                                   0.0  \n",
       "What was the death toll?                                  0.0  \n",
       "What did police say?                                      0.0  \n",
       "How many died?                                            0.0  \n",
       "How many were injured?                                    0.0  \n",
       "Where did this happen?                                    0.0  \n",
       "Who is the president?                                     0.0  \n",
       "what did the police say                                   0.0  \n",
       "What is the death toll?                                   0.0  \n",
       "What caused the crash?                                    0.0  \n",
       "when did this happen?                                     0.0  \n",
       "When did this happen?                                     0.0  \n",
       "What does the video show?                                 0.0  \n",
       "What did the police say?                                  0.0  \n",
       "where did this happen                                     0.0  \n",
       "What did the spokesman say?                               0.0  \n",
       "What is the name of the movie?                            0.0  \n",
       "How many people were injured?                             0.0  \n",
       "how many were killed                                      0.0  \n",
       "How many were arrested?                                   0.0  \n",
       "how many people died                                      0.0  \n",
       "Who was found dead?                                       0.0  \n",
       "What did Obama say?                                       0.0  \n",
       "What was the score?                                       0.0  \n",
       "when did this happen                                      0.0  \n",
       "How many people died?                                     0.0  \n",
       "Who was killed?                                           0.0  \n",
       "How many were killed?                                     0.0  \n",
       "Who was arrested?                                         0.0  \n",
       "How many people were killed?                              0.0  \n",
       "\n",
       "[2386 rows x 4 columns]"
      ]
     },
     "execution_count": 25,
     "metadata": {},
     "output_type": "execute_result"
    }
   ],
   "source": [
    "qs.sort_values(by = \"num_entries\")"
   ]
  },
  {
   "cell_type": "markdown",
   "metadata": {},
   "source": [
    "The questions that are duplicated are fairly generic nature. Most of the duplicated questions only show up twice, but some show up much more frequently. The more frequently asked questions are particularly generic (e.g. \"How many people were killed?\")"
   ]
  },
  {
   "cell_type": "code",
   "execution_count": 5,
   "metadata": {},
   "outputs": [
    {
     "ename": "NameError",
     "evalue": "name 'qs' is not defined",
     "output_type": "error",
     "traceback": [
      "\u001b[1;31m---------------------------------------------------------------------------\u001b[0m",
      "\u001b[1;31mNameError\u001b[0m                                 Traceback (most recent call last)",
      "\u001b[1;32m<ipython-input-5-e88f0e34aa4b>\u001b[0m in \u001b[0;36m<module>\u001b[1;34m()\u001b[0m\n\u001b[0;32m      1\u001b[0m \u001b[1;31m# qs.set_index(\"question\", inplace = True)\u001b[0m\u001b[1;33m\u001b[0m\u001b[1;33m\u001b[0m\u001b[0m\n\u001b[1;32m----> 2\u001b[1;33m \u001b[0mqs\u001b[0m\u001b[1;33m[\u001b[0m\u001b[1;34m'num_stories'\u001b[0m\u001b[1;33m]\u001b[0m \u001b[1;33m=\u001b[0m \u001b[0mnp\u001b[0m\u001b[1;33m.\u001b[0m\u001b[0mzeros\u001b[0m\u001b[1;33m(\u001b[0m\u001b[0mlen\u001b[0m\u001b[1;33m(\u001b[0m\u001b[0mqs\u001b[0m\u001b[1;33m)\u001b[0m\u001b[1;33m)\u001b[0m\u001b[1;33m\u001b[0m\u001b[0m\n\u001b[0m\u001b[0;32m      3\u001b[0m \u001b[0mqs\u001b[0m\u001b[1;33m[\u001b[0m\u001b[1;34m'stories'\u001b[0m\u001b[1;33m]\u001b[0m \u001b[1;33m=\u001b[0m \u001b[0mnp\u001b[0m\u001b[1;33m.\u001b[0m\u001b[0mzeros\u001b[0m\u001b[1;33m(\u001b[0m\u001b[0mlen\u001b[0m\u001b[1;33m(\u001b[0m\u001b[0mqs\u001b[0m\u001b[1;33m)\u001b[0m\u001b[1;33m)\u001b[0m\u001b[1;33m\u001b[0m\u001b[0m\n\u001b[0;32m      4\u001b[0m \u001b[1;33m\u001b[0m\u001b[0m\n\u001b[0;32m      5\u001b[0m \u001b[1;32mfor\u001b[0m \u001b[0me\u001b[0m \u001b[1;32min\u001b[0m \u001b[0mdup_q\u001b[0m\u001b[1;33m.\u001b[0m\u001b[0mindex\u001b[0m\u001b[1;33m:\u001b[0m\u001b[1;33m\u001b[0m\u001b[0m\n",
      "\u001b[1;31mNameError\u001b[0m: name 'qs' is not defined"
     ]
    }
   ],
   "source": [
    "# qs.set_index(\"question\", inplace = True)\n",
    "qs['num_stories'] = np.zeros(len(qs))\n",
    "qs['stories'] = np.zeros(len(qs))\n",
    "\n",
    "for e in dup_q.index:\n",
    "    q = dup_q.question.loc[e]\n",
    "    if qs.stories.loc[q] == 0:\n",
    "        qs.stories.loc[q] = [dup_q['story_id'].loc[e]]\n",
    "    else:\n",
    "        qs.stories.loc[q].append(dup_q.story_id.loc[e])\n",
    "    "
   ]
  },
  {
   "cell_type": "code",
   "execution_count": 19,
   "metadata": {},
   "outputs": [
    {
     "data": {
      "text/html": [
       "<div>\n",
       "<style scoped>\n",
       "    .dataframe tbody tr th:only-of-type {\n",
       "        vertical-align: middle;\n",
       "    }\n",
       "\n",
       "    .dataframe tbody tr th {\n",
       "        vertical-align: top;\n",
       "    }\n",
       "\n",
       "    .dataframe thead th {\n",
       "        text-align: right;\n",
       "    }\n",
       "</style>\n",
       "<table border=\"1\" class=\"dataframe\">\n",
       "  <thead>\n",
       "    <tr style=\"text-align: right;\">\n",
       "      <th></th>\n",
       "      <th>num_entries</th>\n",
       "      <th>num_stories</th>\n",
       "      <th>stories</th>\n",
       "    </tr>\n",
       "    <tr>\n",
       "      <th>question</th>\n",
       "      <th></th>\n",
       "      <th></th>\n",
       "      <th></th>\n",
       "    </tr>\n",
       "  </thead>\n",
       "  <tbody>\n",
       "    <tr>\n",
       "      <th>What did the French president say?</th>\n",
       "      <td>2.0</td>\n",
       "      <td>0.0</td>\n",
       "      <td>[./cnn/stories/4d181b23eb2a5c73f17f6c6c8856ad2...</td>\n",
       "    </tr>\n",
       "    <tr>\n",
       "      <th>What does the Dalai Lama seek?</th>\n",
       "      <td>2.0</td>\n",
       "      <td>0.0</td>\n",
       "      <td>[./cnn/stories/ef6e7ee88adc48f680e91d00c065f26...</td>\n",
       "    </tr>\n",
       "    <tr>\n",
       "      <th>When was the trial due to start?</th>\n",
       "      <td>2.0</td>\n",
       "      <td>0.0</td>\n",
       "      <td>[./cnn/stories/aa905ece59d1c439708984809017ac1...</td>\n",
       "    </tr>\n",
       "    <tr>\n",
       "      <th>who is Sonia Sotomayor?</th>\n",
       "      <td>2.0</td>\n",
       "      <td>0.0</td>\n",
       "      <td>[./cnn/stories/44f55c84c4a580853e384c860bb2ba3...</td>\n",
       "    </tr>\n",
       "    <tr>\n",
       "      <th>What group is being targeted?</th>\n",
       "      <td>2.0</td>\n",
       "      <td>0.0</td>\n",
       "      <td>[./cnn/stories/b1e998cd481253945d4f174d3686ea1...</td>\n",
       "    </tr>\n",
       "  </tbody>\n",
       "</table>\n",
       "</div>"
      ],
      "text/plain": [
       "                                    num_entries  num_stories  \\\n",
       "question                                                       \n",
       "What did the French president say?          2.0          0.0   \n",
       "What does the Dalai Lama seek?              2.0          0.0   \n",
       "When was the trial due to start?            2.0          0.0   \n",
       "who is Sonia Sotomayor?                     2.0          0.0   \n",
       "What group is being targeted?               2.0          0.0   \n",
       "\n",
       "                                                                              stories  \n",
       "question                                                                               \n",
       "What did the French president say?  [./cnn/stories/4d181b23eb2a5c73f17f6c6c8856ad2...  \n",
       "What does the Dalai Lama seek?      [./cnn/stories/ef6e7ee88adc48f680e91d00c065f26...  \n",
       "When was the trial due to start?    [./cnn/stories/aa905ece59d1c439708984809017ac1...  \n",
       "who is Sonia Sotomayor?             [./cnn/stories/44f55c84c4a580853e384c860bb2ba3...  \n",
       "What group is being targeted?       [./cnn/stories/b1e998cd481253945d4f174d3686ea1...  "
      ]
     },
     "execution_count": 19,
     "metadata": {},
     "output_type": "execute_result"
    }
   ],
   "source": [
    "qs.head()"
   ]
  },
  {
   "cell_type": "code",
   "execution_count": 20,
   "metadata": {},
   "outputs": [
    {
     "name": "stderr",
     "output_type": "stream",
     "text": [
      "C:\\Users\\kplat\\Anaconda3\\lib\\site-packages\\pandas\\core\\indexing.py:189: SettingWithCopyWarning: \n",
      "A value is trying to be set on a copy of a slice from a DataFrame\n",
      "\n",
      "See the caveats in the documentation: http://pandas.pydata.org/pandas-docs/stable/indexing.html#indexing-view-versus-copy\n",
      "  self._setitem_with_indexer(indexer, value)\n"
     ]
    }
   ],
   "source": [
    "for q in qs.index:\n",
    "    qs.num_stories.loc[q] = len(set(qs.stories.loc[q]))"
   ]
  },
  {
   "cell_type": "code",
   "execution_count": 21,
   "metadata": {},
   "outputs": [
    {
     "name": "stderr",
     "output_type": "stream",
     "text": [
      "C:\\Users\\kplat\\Anaconda3\\lib\\site-packages\\pandas\\core\\indexing.py:189: SettingWithCopyWarning: \n",
      "A value is trying to be set on a copy of a slice from a DataFrame\n",
      "\n",
      "See the caveats in the documentation: http://pandas.pydata.org/pandas-docs/stable/indexing.html#indexing-view-versus-copy\n",
      "  self._setitem_with_indexer(indexer, value)\n"
     ]
    }
   ],
   "source": [
    "qs['duplicate'] = np.zeros(len(qs))\n",
    "for q in qs.index:\n",
    "    if qs.num_entries.loc[q] != qs.num_stories.loc[q]:\n",
    "        qs.duplicate.loc[q] = 1"
   ]
  },
  {
   "cell_type": "code",
   "execution_count": 22,
   "metadata": {},
   "outputs": [
    {
     "data": {
      "text/plain": [
       "0.0    2385\n",
       "1.0       1\n",
       "Name: duplicate, dtype: int64"
      ]
     },
     "execution_count": 22,
     "metadata": {},
     "output_type": "execute_result"
    }
   ],
   "source": [
    "qs.duplicate.value_counts()"
   ]
  },
  {
   "cell_type": "markdown",
   "metadata": {},
   "source": [
    "This indicates that there is one question applied to the same story, at least once."
   ]
  },
  {
   "cell_type": "code",
   "execution_count": 23,
   "metadata": {},
   "outputs": [
    {
     "data": {
      "text/html": [
       "<div>\n",
       "<style scoped>\n",
       "    .dataframe tbody tr th:only-of-type {\n",
       "        vertical-align: middle;\n",
       "    }\n",
       "\n",
       "    .dataframe tbody tr th {\n",
       "        vertical-align: top;\n",
       "    }\n",
       "\n",
       "    .dataframe thead th {\n",
       "        text-align: right;\n",
       "    }\n",
       "</style>\n",
       "<table border=\"1\" class=\"dataframe\">\n",
       "  <thead>\n",
       "    <tr style=\"text-align: right;\">\n",
       "      <th></th>\n",
       "      <th>num_entries</th>\n",
       "      <th>num_stories</th>\n",
       "      <th>stories</th>\n",
       "      <th>duplicate</th>\n",
       "    </tr>\n",
       "    <tr>\n",
       "      <th>question</th>\n",
       "      <th></th>\n",
       "      <th></th>\n",
       "      <th></th>\n",
       "      <th></th>\n",
       "    </tr>\n",
       "  </thead>\n",
       "  <tbody>\n",
       "    <tr>\n",
       "      <th>NaN</th>\n",
       "      <td>0.0</td>\n",
       "      <td>2.0</td>\n",
       "      <td>[./cnn/stories/c7aa75130c60a0fed530dcc65aa06da...</td>\n",
       "      <td>1.0</td>\n",
       "    </tr>\n",
       "  </tbody>\n",
       "</table>\n",
       "</div>"
      ],
      "text/plain": [
       "          num_entries  num_stories  \\\n",
       "question                             \n",
       "NaN               0.0          2.0   \n",
       "\n",
       "                                                    stories  duplicate  \n",
       "question                                                                \n",
       "NaN       [./cnn/stories/c7aa75130c60a0fed530dcc65aa06da...        1.0  "
      ]
     },
     "execution_count": 23,
     "metadata": {},
     "output_type": "execute_result"
    }
   ],
   "source": [
    "qs[qs.duplicate == 1]"
   ]
  },
  {
   "cell_type": "markdown",
   "metadata": {},
   "source": [
    "Given that the duplicated question is actually when the question is not provided, this does not seem like it will be a major issue. We should consider if we want to include entries that don't have a question at all."
   ]
  },
  {
   "cell_type": "code",
   "execution_count": 44,
   "metadata": {},
   "outputs": [
    {
     "data": {
      "text/plain": [
       "range(0, 2386)"
      ]
     },
     "execution_count": 44,
     "metadata": {},
     "output_type": "execute_result"
    }
   ],
   "source": [
    "range(0, len(qs))"
   ]
  },
  {
   "cell_type": "code",
   "execution_count": 50,
   "metadata": {},
   "outputs": [
    {
     "name": "stderr",
     "output_type": "stream",
     "text": [
      "C:\\Users\\kplat\\Anaconda3\\lib\\site-packages\\pandas\\core\\indexing.py:189: SettingWithCopyWarning: \n",
      "A value is trying to be set on a copy of a slice from a DataFrame\n",
      "\n",
      "See the caveats in the documentation: http://pandas.pydata.org/pandas-docs/stable/indexing.html#indexing-view-versus-copy\n",
      "  self._setitem_with_indexer(indexer, value)\n"
     ]
    }
   ],
   "source": [
    "# len(data.question.loc[15].split())\n",
    "# qs.index[3]\n",
    "qs['word_count'] = np.zeros(len(qs))\n",
    "for e in range(0, len(qs)):\n",
    "    if type(qs.index[e]) == str:\n",
    "        qs['word_count'].iloc[e] = len(qs.index[e].split())\n",
    "    else:\n",
    "        qs['word_count'].iloc[e] = 0"
   ]
  },
  {
   "cell_type": "code",
   "execution_count": 51,
   "metadata": {},
   "outputs": [
    {
     "data": {
      "text/plain": [
       "Text(0,0.5,'Number of Questions')"
      ]
     },
     "execution_count": 51,
     "metadata": {},
     "output_type": "execute_result"
    },
    {
     "data": {
      "image/png": "[encoded data removed]",
      "text/plain": [
       "<Figure size 432x288 with 1 Axes>"
      ]
     },
     "metadata": {
      "needs_background": "light"
     },
     "output_type": "display_data"
    }
   ],
   "source": [
    "plt.hist(qs.word_count, rwidth = 0.9)\n",
    "plt.xlabel(\"Number of Words in Question\")\n",
    "plt.ylabel(\"Number of Questions\")"
   ]
  },
  {
   "cell_type": "code",
   "execution_count": 52,
   "metadata": {},
   "outputs": [
    {
     "name": "stdout",
     "output_type": "stream",
     "text": [
      "Mean: 5.407795473595977\n",
      "Median: 5.0\n",
      "Minimum: 0.0\n",
      "Maximum: 76.0\n"
     ]
    }
   ],
   "source": [
    "print(\"Mean:\", np.mean(qs.word_count))\n",
    "print(\"Median:\", np.median(qs.word_count))\n",
    "print(\"Minimum:\", np.min(qs.word_count))\n",
    "print(\"Maximum:\", np.max(qs.word_count))"
   ]
  },
  {
   "cell_type": "markdown",
   "metadata": {},
   "source": [
    "## Answer_Char_Ranges Variable"
   ]
  },
  {
   "cell_type": "code",
   "execution_count": 104,
   "metadata": {},
   "outputs": [
    {
     "data": {
      "text/plain": [
       "0          294:297|None|None\n",
       "1      34:60|1610:1618|34:60\n",
       "2    103:127|114:127|839:853\n",
       "3            538:550|538:550\n",
       "4    690:742|688:791|630:646\n",
       "Name: answer_char_ranges, dtype: object"
      ]
     },
     "execution_count": 104,
     "metadata": {},
     "output_type": "execute_result"
    }
   ],
   "source": [
    "data.answer_char_ranges.head()"
   ]
  },
  {
   "cell_type": "code",
   "execution_count": 107,
   "metadata": {},
   "outputs": [
    {
     "data": {
      "text/plain": [
       "95733"
      ]
     },
     "execution_count": 107,
     "metadata": {},
     "output_type": "execute_result"
    }
   ],
   "source": [
    "len(data.answer_char_ranges.unique())"
   ]
  },
  {
   "cell_type": "markdown",
   "metadata": {},
   "source": [
    "It appears that there are fairly unique answers for each entry. This variable provides the range of the text where the answer can be found according to crowdsourced responses."
   ]
  },
  {
   "cell_type": "markdown",
   "metadata": {},
   "source": [
    "## Is Answer Absent? Variable"
   ]
  },
  {
   "cell_type": "code",
   "execution_count": 13,
   "metadata": {},
   "outputs": [
    {
     "data": {
      "text/plain": [
       "array([0.        , 0.33333333, 0.5       , 1.        , 0.66666667,\n",
       "       0.2       , 0.4       , 0.25      , 0.75      , 0.6       ,\n",
       "       0.16666667, 0.14285714, 0.125     , 0.71428571, 0.8       ,\n",
       "       0.85714286, 0.18181818])"
      ]
     },
     "execution_count": 13,
     "metadata": {},
     "output_type": "execute_result"
    }
   ],
   "source": [
    "data.is_answer_absent.unique()"
   ]
  },
  {
   "cell_type": "code",
   "execution_count": 14,
   "metadata": {},
   "outputs": [
    {
     "data": {
      "text/plain": [
       "Text(0,0.5,'Number of Entries')"
      ]
     },
     "execution_count": 14,
     "metadata": {},
     "output_type": "execute_result"
    },
    {
     "data": {
      "image/png": "[encoded data removed]",
      "text/plain": [
       "<Figure size 432x288 with 1 Axes>"
      ]
     },
     "metadata": {
      "needs_background": "light"
     },
     "output_type": "display_data"
    }
   ],
   "source": [
    "plt.hist(data.is_answer_absent, rwidth = 0.9)\n",
    "plt.xlabel(\"Is Answer Absent? -Crowdsourced\")\n",
    "plt.ylabel(\"Number of Entries\")"
   ]
  },
  {
   "cell_type": "code",
   "execution_count": 111,
   "metadata": {},
   "outputs": [
    {
     "data": {
      "text/plain": [
       "False    113455\n",
       "True       6178\n",
       "Name: is_answer_absent, dtype: int64"
      ]
     },
     "execution_count": 111,
     "metadata": {},
     "output_type": "execute_result"
    }
   ],
   "source": [
    "(data.is_answer_absent == 1).value_counts()"
   ]
  },
  {
   "cell_type": "code",
   "execution_count": 21,
   "metadata": {},
   "outputs": [
    {
     "data": {
      "text/plain": [
       "0"
      ]
     },
     "execution_count": 21,
     "metadata": {},
     "output_type": "execute_result"
    }
   ],
   "source": [
    "sum(data['is_answer_absent'].isnull())"
   ]
  },
  {
   "cell_type": "markdown",
   "metadata": {},
   "source": [
    "There are 6178 entries where the consensus from the crowdsourcers is that the answer is absent."
   ]
  },
  {
   "cell_type": "code",
   "execution_count": 114,
   "metadata": {},
   "outputs": [
    {
     "data": {
      "text/plain": [
       "array([nan], dtype=object)"
      ]
     },
     "execution_count": 114,
     "metadata": {},
     "output_type": "execute_result"
    }
   ],
   "source": [
    "data[data['is_answer_absent'] == 1]['validated_answers'].unique()"
   ]
  },
  {
   "cell_type": "markdown",
   "metadata": {},
   "source": [
    "All of the entries where the crowdsourcers agreed there was no answer, there is also no validated answer"
   ]
  },
  {
   "cell_type": "code",
   "execution_count": 133,
   "metadata": {},
   "outputs": [
    {
     "data": {
      "text/plain": [
       "{\"none\": 2}                                       1469\n",
       "{\"bad_question\": 2}                                284\n",
       "{\"none\": 2, \"bad_question\": 1}                     113\n",
       "{\"none\": 1, \"bad_question\": 2}                      86\n",
       "{\"9:17\": 2}                                          8\n",
       "{\"9:14\": 2}                                          7\n",
       "{\"0:6\": 2}                                           6\n",
       "{\"1796:1802\": 2}                                     6\n",
       "{\"91:103\": 2}                                        5\n",
       "{\"25:38\": 2}                                         5\n",
       "{\"324:337\": 2}                                       5\n",
       "{\"322:339\": 2}                                       4\n",
       "{\"0:9\": 2}                                           4\n",
       "{\"81:102\": 2}                                        4\n",
       "{\"9:18\": 2}                                          4\n",
       "{\"156:160\": 2}                                       4\n",
       "{\"25:31\": 2}                                         4\n",
       "{\"153:172\": 2}                                       4\n",
       "{\"81:85\": 2}                                         4\n",
       "{\"9:19\": 2}                                          4\n",
       "{\"101:118\": 2}                                       4\n",
       "{\"185:197\": 2}                                       4\n",
       "{\"284:314\": 2}                                       4\n",
       "{\"80:98\": 2}                                         3\n",
       "{\"80:94\": 2}                                         3\n",
       "{\"59:86\": 2}                                         3\n",
       "{\"84:102\": 2}                                        3\n",
       "{\"112:126\": 2}                                       3\n",
       "{\"43:54\": 2}                                         3\n",
       "{\"24:32\": 2}                                         3\n",
       "                                                  ... \n",
       "{\"292:317\": 2, \"none\": 1}                            1\n",
       "{\"181:191\": 1, \"178:191\": 2}                         1\n",
       "{\"401:406\": 2}                                       1\n",
       "{\"13:21\": 2, \"10:21\": 1}                             1\n",
       "{\"235:254\": 2}                                       1\n",
       "{\"1220:1259\": 2}                                     1\n",
       "{\"1600:1605\": 1, \"none\": 1, \"bad_question\": 1}       1\n",
       "{\"3084:3138\": 2}                                     1\n",
       "{\"520:524\": 2}                                       1\n",
       "{\"none\": 2, \"98:103\": 1}                             1\n",
       "{\"227:259\": 2}                                       1\n",
       "{\"none\": 1, \"589:689\": 2}                            1\n",
       "{\"918:930\": 2}                                       1\n",
       "{\"none\": 1, \"928:954\": 1, \"874:954\": 1}              1\n",
       "{\"none\": 1, \"1615:1622\": 2}                          1\n",
       "{\"4856:4909\": 2}                                     1\n",
       "{\"184:200\": 2, \"bad_question\": 1}                    1\n",
       "{\"98:104\": 1, \"213:225\": 2}                          1\n",
       "{\"1108:1112\": 2}                                     1\n",
       "{\"4289:4352\": 2}                                     1\n",
       "{\"275:325\": 2}                                       1\n",
       "{\"1609:1619\": 2}                                     1\n",
       "{\"25:38\": 2, \"82:106\": 1}                            1\n",
       "{\"212:270\": 2}                                       1\n",
       "{\"611:628\": 1, \"none\": 2}                            1\n",
       "{\"879:972\": 2}                                       1\n",
       "{\"1145:1173\": 2}                                     1\n",
       "{\"none\": 1, \"952:985\": 2}                            1\n",
       "{\"263:308\": 2}                                       1\n",
       "{\"431:492\": 2}                                       1\n",
       "Name: validated_answers, Length: 15127, dtype: int64"
      ]
     },
     "execution_count": 133,
     "metadata": {},
     "output_type": "execute_result"
    }
   ],
   "source": [
    "data[(data['is_answer_absent'] > 0) & (data['is_answer_absent'] < 1)]['validated_answers'].value_counts()"
   ]
  },
  {
   "cell_type": "markdown",
   "metadata": {},
   "source": [
    "## Is Question Bad? Variable"
   ]
  },
  {
   "cell_type": "code",
   "execution_count": 15,
   "metadata": {},
   "outputs": [
    {
     "data": {
      "text/plain": [
       "array(['0.0', '0.333333333333', '0.5', '1.0', '?', '0.666666666667',\n",
       "       '0.75', '0.2', '0.25', '0.4', '0.6', '0.8', '0.166666666667',\n",
       "       '0.142857142857', '0.833333333333', '0.125', '0.181818181818'],\n",
       "      dtype=object)"
      ]
     },
     "execution_count": 15,
     "metadata": {},
     "output_type": "execute_result"
    }
   ],
   "source": [
    "data.is_question_bad.unique()"
   ]
  },
  {
   "cell_type": "code",
   "execution_count": 16,
   "metadata": {},
   "outputs": [
    {
     "data": {
      "text/plain": [
       "0    0.0\n",
       "1    0.0\n",
       "2    0.0\n",
       "3    0.0\n",
       "4    0.0\n",
       "Name: is_question_bad, dtype: object"
      ]
     },
     "execution_count": 16,
     "metadata": {},
     "output_type": "execute_result"
    }
   ],
   "source": [
    "# are these values strings or numbers? THEY ARE STRINGS\n",
    "data.is_question_bad.head()"
   ]
  },
  {
   "cell_type": "code",
   "execution_count": 17,
   "metadata": {},
   "outputs": [
    {
     "data": {
      "text/plain": [
       "0"
      ]
     },
     "execution_count": 17,
     "metadata": {},
     "output_type": "execute_result"
    }
   ],
   "source": [
    "sum(data['is_question_bad'].isnull())"
   ]
  },
  {
   "cell_type": "code",
   "execution_count": 18,
   "metadata": {},
   "outputs": [
    {
     "name": "stderr",
     "output_type": "stream",
     "text": [
      "C:\\Users\\kplat\\Anaconda3\\lib\\site-packages\\pandas\\core\\indexing.py:189: SettingWithCopyWarning: \n",
      "A value is trying to be set on a copy of a slice from a DataFrame\n",
      "\n",
      "See the caveats in the documentation: http://pandas.pydata.org/pandas-docs/stable/indexing.html#indexing-view-versus-copy\n",
      "  self._setitem_with_indexer(indexer, value)\n"
     ]
    }
   ],
   "source": [
    "for e in range(0, len(data)):\n",
    "    if data.is_question_bad.iloc[e] == \"?\":\n",
    "        data.is_question_bad.iloc[e] = np.nan"
   ]
  },
  {
   "cell_type": "code",
   "execution_count": 19,
   "metadata": {},
   "outputs": [],
   "source": [
    "data['is_question_bad'] = pd.to_numeric(data['is_question_bad'])"
   ]
  },
  {
   "cell_type": "code",
   "execution_count": 27,
   "metadata": {},
   "outputs": [
    {
     "data": {
      "text/plain": [
       "<matplotlib.legend.Legend at 0x1a09cb03898>"
      ]
     },
     "execution_count": 27,
     "metadata": {},
     "output_type": "execute_result"
    },
    {
     "data": {
      "image/png": "[encoded data removed]",
      "text/plain": [
       "<Figure size 432x288 with 1 Axes>"
      ]
     },
     "metadata": {
      "needs_background": "light"
     },
     "output_type": "display_data"
    }
   ],
   "source": [
    "plt.hist([data['is_question_bad'].dropna(), data['is_answer_absent']], rwidth = 0.9, alpha = 0.5, color = ['gray', 'green'])\n",
    "# plt.hist(data['is_answer_absent'], rwidth = 0.9, color = \"red\", label = \"no answer\", alpha = 0.5)\n",
    "plt.xlabel(\"Crowdsourced Quality Response\")\n",
    "plt.ylabel(\"Number of Entries\")\n",
    "plt.legend(['Is Question Bad?', \"Is Answer Absent?\"])"
   ]
  },
  {
   "cell_type": "code",
   "execution_count": 7,
   "metadata": {},
   "outputs": [
    {
     "data": {
      "text/plain": [
       "0.000000    87810\n",
       "0.333333     7013\n",
       "1.000000     6646\n",
       "0.500000     3494\n",
       "0.666667     1802\n",
       "0.250000      743\n",
       "0.200000      175\n",
       "0.750000       76\n",
       "0.400000       48\n",
       "0.166667       24\n",
       "0.600000       19\n",
       "0.800000        7\n",
       "0.142857        1\n",
       "0.833333        1\n",
       "0.181818        1\n",
       "0.125000        1\n",
       "Name: is_question_bad, dtype: int64"
      ]
     },
     "execution_count": 7,
     "metadata": {},
     "output_type": "execute_result"
    }
   ],
   "source": [
    "data.is_question_bad.value_counts()"
   ]
  },
  {
   "cell_type": "code",
   "execution_count": 11,
   "metadata": {},
   "outputs": [
    {
     "data": {
      "text/plain": [
       "array([nan], dtype=object)"
      ]
     },
     "execution_count": 11,
     "metadata": {},
     "output_type": "execute_result"
    }
   ],
   "source": [
    "data[data['is_question_bad'] == 1]['validated_answers'].unique()"
   ]
  },
  {
   "cell_type": "markdown",
   "metadata": {},
   "source": [
    "## Validated Answers Variable"
   ]
  },
  {
   "cell_type": "code",
   "execution_count": 15,
   "metadata": {},
   "outputs": [
    {
     "data": {
      "text/plain": [
       "0       {\"none\": 1, \"294:297\": 2}\n",
       "1                             NaN\n",
       "2    {\"839:853\": 1, \"103:127\": 2}\n",
       "3                             NaN\n",
       "4    {\"688:791\": 2, \"690:742\": 1}\n",
       "Name: validated_answers, dtype: object"
      ]
     },
     "execution_count": 15,
     "metadata": {},
     "output_type": "execute_result"
    }
   ],
   "source": [
    "data['validated_answers'].head()"
   ]
  },
  {
   "cell_type": "code",
   "execution_count": 16,
   "metadata": {},
   "outputs": [
    {
     "data": {
      "text/plain": [
       "68003"
      ]
     },
     "execution_count": 16,
     "metadata": {},
     "output_type": "execute_result"
    }
   ],
   "source": [
    "sum(data.validated_answers.isnull())"
   ]
  },
  {
   "cell_type": "code",
   "execution_count": 17,
   "metadata": {},
   "outputs": [
    {
     "data": {
      "text/plain": [
       "{\"none\": 2}                                       2724\n",
       "{\"bad_question\": 2}                                503\n",
       "{\"none\": 2, \"bad_question\": 1}                     197\n",
       "{\"none\": 1, \"bad_question\": 2}                     148\n",
       "{\"9:17\": 2}                                         15\n",
       "{\"9:14\": 2}                                         14\n",
       "{\"9:18\": 2}                                         13\n",
       "{\"20:36\": 2}                                        10\n",
       "{\"9:15\": 2}                                         10\n",
       "{\"9:13\": 2}                                          9\n",
       "{\"16:22\": 2}                                         9\n",
       "{\"0:6\": 2}                                           8\n",
       "{\"9:19\": 2}                                          8\n",
       "{\"30:43\": 2}                                         8\n",
       "{\"348:360\": 2}                                       7\n",
       "{\"10:17\": 2}                                         7\n",
       "{\"91:103\": 2}                                        7\n",
       "{\"0:18\": 2}                                          7\n",
       "{\"25:31\": 2}                                         6\n",
       "{\"104:112\": 2}                                       6\n",
       "{\"194:206\": 2}                                       6\n",
       "{\"39:51\": 2}                                         6\n",
       "{\"25:38\": 2}                                         6\n",
       "{\"1796:1802\": 2}                                     6\n",
       "{\"9:16\": 2}                                          6\n",
       "{\"33:46\": 2}                                         6\n",
       "{\"18:30\": 2}                                         6\n",
       "{\"25:43\": 2}                                         6\n",
       "{\"25:39\": 2}                                         6\n",
       "{\"0:9\": 2}                                           6\n",
       "                                                  ... \n",
       "{\"none\": 1, \"1618:1694\": 1, \"2133:2249\": 1}          1\n",
       "{\"2771:2788\": 2, \"bad_question\": 1}                  1\n",
       "{\"125:156\": 2}                                       1\n",
       "{\"2553:2561\": 2}                                     1\n",
       "{\"none\": 2, \"213:255\": 1}                            1\n",
       "{\"none\": 1, \"3566:3599\": 2}                          1\n",
       "{\"1766:2129\": 2}                                     1\n",
       "{\"3507:3591\": 1, \"3468:3486\": 2}                     1\n",
       "{\"692:705\": 1, \"369:389\": 2}                         1\n",
       "{\"18:98\": 2}                                         1\n",
       "{\"2542:2570\": 2}                                     1\n",
       "{\"3866:3893\": 2, \"358:374\": 1}                       1\n",
       "{\"59:71\": 1, \"233:245\": 2}                           1\n",
       "{\"2558:2571\": 2}                                     1\n",
       "{\"487:503\": 1, \"1029:1045\": 1, \"1019:1045\": 1}       1\n",
       "{\"332:343\": 1, \"none\": 1, \"bad_question\": 1}         1\n",
       "{\"274:280\": 2}                                       1\n",
       "{\"4910:4959\": 1, \"4858:4959\": 2}                     1\n",
       "{\"771:783\": 2}                                       1\n",
       "{\"47:68\": 1, \"269:299\": 1, \"1515:1527\": 1}           1\n",
       "{\"2294:2435\": 2}                                     1\n",
       "{\"129:137\": 2}                                       1\n",
       "{\"109:122\": 1, \"91:101\": 2}                          1\n",
       "{\"630:689\": 1, \"657:706\": 1, \"630:665\": 1}           1\n",
       "{\"440:447\": 1, \"476:481\": 2}                         1\n",
       "{\"122:135\": 2}                                       1\n",
       "{\"none\": 2, \"381:386\": 1}                            1\n",
       "{\"none\": 1, \"bad_question\": 1, \"534:547\": 1}         1\n",
       "{\"none\": 1, \"39:57\": 2}                              1\n",
       "{\"1100:1154\": 2, \"1094:1154\": 1}                     1\n",
       "Name: validated_answers, Length: 43653, dtype: int64"
      ]
     },
     "execution_count": 17,
     "metadata": {},
     "output_type": "execute_result"
    }
   ],
   "source": [
    "data['validated_answers'].value_counts()"
   ]
  },
  {
   "cell_type": "code",
   "execution_count": null,
   "metadata": {},
   "outputs": [],
   "source": []
  }
 ],
 "metadata": {
  "kernelspec": {
   "display_name": "Python 3",
   "language": "python",
   "name": "python3"
  },
  "language_info": {
   "codemirror_mode": {
    "name": "ipython",
    "version": 3
   },
   "file_extension": ".py",
   "mimetype": "text/x-python",
   "name": "python",
   "nbconvert_exporter": "python",
   "pygments_lexer": "ipython3",
   "version": "3.7.0"
  }
 },
 "nbformat": 4,
 "nbformat_minor": 2
}
