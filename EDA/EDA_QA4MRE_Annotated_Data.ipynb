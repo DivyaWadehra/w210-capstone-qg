{
 "cells": [
  {
   "cell_type": "markdown",
   "metadata": {},
   "source": [
    "# EDA: Skill and Difficulty-level EDA"
   ]
  },
  {
   "cell_type": "markdown",
   "metadata": {},
   "source": [
    "## Import and Setup"
   ]
  },
  {
   "cell_type": "code",
   "execution_count": 1,
   "metadata": {},
   "outputs": [],
   "source": [
    "import csv\n",
    "import requests\n",
    "import xml.etree.ElementTree as ET\n",
    "#import stanford_parser\n",
    "import nltk\n",
    "import pandas as pd\n",
    "import re\n",
    "import json \n",
    "#from stanford_parser import sentence_split"
   ]
  },
  {
   "cell_type": "code",
   "execution_count": 2,
   "metadata": {},
   "outputs": [
    {
     "data": {
      "text/plain": [
       "{'annotations': [{'nonsense': True,\n",
       "   'sents_indices': [[451, 452]],\n",
       "   'skill_count': 0,\n",
       "   'skills': [14]},\n",
       "  {'nonsense': False,\n",
       "   'sents_indices': [[312, 339]],\n",
       "   'skill_count': 1,\n",
       "   'skills': [11]},\n",
       "  {'nonsense': False,\n",
       "   'sents_indices': [[367, 415]],\n",
       "   'skill_count': 3,\n",
       "   'skills': [8, 9, 11]},\n",
       "  {'nonsense': False,\n",
       "   'sents_indices': [[38, 143]],\n",
       "   'skill_count': 3,\n",
       "   'skills': [8, 2, 11]},\n",
       "  {'nonsense': False,\n",
       "   'sents_indices': [[693, 708]],\n",
       "   'skill_count': 1,\n",
       "   'skills': [10]},\n",
       "  {'nonsense': True,\n",
       "   'sents_indices': [[190, 251]],\n",
       "   'skill_count': 0,\n",
       "   'skills': [14]},\n",
       "  {'nonsense': False,\n",
       "   'sents_indices': [[432, 518]],\n",
       "   'skill_count': 4,\n",
       "   'skills': [8, 2, 11, 12]},\n",
       "  {'nonsense': False,\n",
       "   'sents_indices': [[262, 290]],\n",
       "   'skill_count': 1,\n",
       "   'skills': [11]}],\n",
       " 'id': 'qa4mre_001',\n",
       " 'original_id': '4_Alzheimer_2',\n",
       " 'questions': ['Q: Is it possible for scientist...',\n",
       "  'Q: How can we start developing ...',\n",
       "  'Q: Is it possible to protect neurons aga...',\n",
       "  'Q: Give two symp...',\n",
       "  'Q: What is the aim of Jame...',\n",
       "  'Q: Why is there no progress in ...',\n",
       "  'Q: What is the approxima...',\n",
       "  'Q: Why are there setbacks in de...']}"
      ]
     },
     "execution_count": 2,
     "metadata": {},
     "output_type": "execute_result"
    }
   ],
   "source": [
    "# Load File: Corresponds to 2013 dataset\n",
    "with open(\"./annotated-data/qa4mre_modfied-jb.json\", 'r') as f:\n",
    "    annotations = json.load(f)\n",
    "    \n",
    "annotations[1]\n",
    "# we have a list of dictionaries:\n",
    "# { original ID: XX, \n",
    "#   annotations: [{skills: [1,2,3], sent_inds: [[1,2],[3,4]], skill_count: #, nonsense: T/F}, ....] # for each question\n",
    "#   questions: [list of beginning of text of each question],\n",
    "#   id: \"id#\"}\n",
    "\n",
    "\n",
    "# Important to note that Q#s in QA4MRE data is 1-16, 0-15 in annotated dataset "
   ]
  },
  {
   "cell_type": "code",
   "execution_count": null,
   "metadata": {},
   "outputs": [],
   "source": []
  },
  {
   "cell_type": "code",
   "execution_count": null,
   "metadata": {},
   "outputs": [],
   "source": []
  }
 ],
 "metadata": {
  "kernelspec": {
   "display_name": "Python 3",
   "language": "python",
   "name": "python3"
  },
  "language_info": {
   "codemirror_mode": {
    "name": "ipython",
    "version": 3
   },
   "file_extension": ".py",
   "mimetype": "text/x-python",
   "name": "python",
   "nbconvert_exporter": "python",
   "pygments_lexer": "ipython3",
   "version": "3.6.4"
  }
 },
 "nbformat": 4,
 "nbformat_minor": 2
}
