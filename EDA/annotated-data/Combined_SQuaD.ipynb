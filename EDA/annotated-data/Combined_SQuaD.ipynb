{
 "cells": [
  {
   "cell_type": "code",
   "execution_count": 1,
   "metadata": {},
   "outputs": [],
   "source": [
    "import json\n",
    "import itertools\n",
    "import numpy as np\n",
    "import pandas as pd\n",
    "import seaborn as sns\n",
    "import matplotlib.pyplot as plt"
   ]
  },
  {
   "cell_type": "code",
   "execution_count": 2,
   "metadata": {},
   "outputs": [],
   "source": [
    "with open('squad-dev-v1.1.json') as json_file:  \n",
    "    data = json.load(json_file)\n",
    "data = pd.DataFrame.from_dict(data)\n",
    "df = pd.DataFrame.from_dict(data['data'])"
   ]
  },
  {
   "cell_type": "markdown",
   "metadata": {},
   "source": [
    "SQuAD (Rajpurkar et al., 2016): this dataset\n",
    "included Wikipedia articles involving various topics, with the articles being divided into paragraphs.\n",
    "We randomly chose 100 paragraphs from 15 articles and used only one question from each paragraph for the annotation."
   ]
  },
  {
   "cell_type": "code",
   "execution_count": 240,
   "metadata": {},
   "outputs": [
    {
     "data": {
      "text/html": [
       "<div>\n",
       "<style scoped>\n",
       "    .dataframe tbody tr th:only-of-type {\n",
       "        vertical-align: middle;\n",
       "    }\n",
       "\n",
       "    .dataframe tbody tr th {\n",
       "        vertical-align: top;\n",
       "    }\n",
       "\n",
       "    .dataframe thead th {\n",
       "        text-align: right;\n",
       "    }\n",
       "</style>\n",
       "<table border=\"1\" class=\"dataframe\">\n",
       "  <thead>\n",
       "    <tr style=\"text-align: right;\">\n",
       "      <th></th>\n",
       "      <th>annotations</th>\n",
       "      <th>id</th>\n",
       "      <th>original_id</th>\n",
       "    </tr>\n",
       "  </thead>\n",
       "  <tbody>\n",
       "    <tr>\n",
       "      <th>0</th>\n",
       "      <td>[{'skills': [8, 9, 2], 'sents_indices': [[19, ...</td>\n",
       "      <td>squad_000</td>\n",
       "      <td>57309921396df919000961f8</td>\n",
       "    </tr>\n",
       "    <tr>\n",
       "      <th>1</th>\n",
       "      <td>[{'skills': [2], 'sents_indices': [[58, 71]], ...</td>\n",
       "      <td>squad_001</td>\n",
       "      <td>5730cc2cb54a4f140068cc68</td>\n",
       "    </tr>\n",
       "    <tr>\n",
       "      <th>2</th>\n",
       "      <td>[{'skills': [13], 'sents_indices': [[105, 119]...</td>\n",
       "      <td>squad_002</td>\n",
       "      <td>5730d523aca1c71400fe5b03</td>\n",
       "    </tr>\n",
       "    <tr>\n",
       "      <th>3</th>\n",
       "      <td>[{'skills': [13], 'sents_indices': [[32, 46], ...</td>\n",
       "      <td>squad_003</td>\n",
       "      <td>5730d77ef6cb411900e244de</td>\n",
       "    </tr>\n",
       "    <tr>\n",
       "      <th>4</th>\n",
       "      <td>[{'skills': [8], 'sents_indices': [[77, 108]],...</td>\n",
       "      <td>squad_004</td>\n",
       "      <td>5730b2312461fd1900a9cfaf</td>\n",
       "    </tr>\n",
       "  </tbody>\n",
       "</table>\n",
       "</div>"
      ],
      "text/plain": [
       "                                         annotations         id  \\\n",
       "0  [{'skills': [8, 9, 2], 'sents_indices': [[19, ...  squad_000   \n",
       "1  [{'skills': [2], 'sents_indices': [[58, 71]], ...  squad_001   \n",
       "2  [{'skills': [13], 'sents_indices': [[105, 119]...  squad_002   \n",
       "3  [{'skills': [13], 'sents_indices': [[32, 46], ...  squad_003   \n",
       "4  [{'skills': [8], 'sents_indices': [[77, 108]],...  squad_004   \n",
       "\n",
       "                original_id  \n",
       "0  57309921396df919000961f8  \n",
       "1  5730cc2cb54a4f140068cc68  \n",
       "2  5730d523aca1c71400fe5b03  \n",
       "3  5730d77ef6cb411900e244de  \n",
       "4  5730b2312461fd1900a9cfaf  "
      ]
     },
     "execution_count": 240,
     "metadata": {},
     "output_type": "execute_result"
    }
   ],
   "source": [
    "with open('squad.json') as json_file:  \n",
    "    annotated = json.load(json_file)\n",
    "annotated = pd.DataFrame.from_dict(annotated)\n",
    "annotated.head()"
   ]
  },
  {
   "cell_type": "code",
   "execution_count": 7,
   "metadata": {},
   "outputs": [
    {
     "data": {
      "text/plain": [
       "[{'skills': [8, 9, 2],\n",
       "  'sents_indices': [[19, 52]],\n",
       "  'skill_count': 3,\n",
       "  'nonsense': False}]"
      ]
     },
     "execution_count": 7,
     "metadata": {},
     "output_type": "execute_result"
    }
   ],
   "source": [
    "annotated['annotations'][0]"
   ]
  },
  {
   "cell_type": "code",
   "execution_count": 241,
   "metadata": {},
   "outputs": [],
   "source": [
    "# Add columns to annotated: topic, paragraph, question, answer\n",
    "\n",
    "# for each topic\n",
    "ids = []\n",
    "topics = []\n",
    "paragraphs = []\n",
    "questions =[]\n",
    "answers = []\n",
    "answer_starts = []\n",
    "for a in annotated.index:\n",
    "    original_id = annotated.at[a,'original_id']\n",
    "    for i in range(48):\n",
    "        # for each paragraph\n",
    "        for j in range(len(df['data'][i]['paragraphs'])):\n",
    "            for k in range(len(df['data'][i]['paragraphs'][j]['qas'])):\n",
    "                id_num = df['data'][i]['paragraphs'][j]['qas'][k]['id']\n",
    "                if original_id==id_num:\n",
    "                    annotated.at[a, 'topic'] = df['data'][i]['title']\n",
    "                    annotated.at[a, 'paragraph'] = df['data'][i]['paragraphs'][j]['context']\n",
    "                    annotated.at[a, 'question'] = df['data'][i]['paragraphs'][j]['qas'][k]['question']\n",
    "                    annotated.at[a, 'answer'] = df['data'][i]['paragraphs'][j]['qas'][k]['answers'][0]['text']\n",
    "                    annotated.at[a, 'answer_start'] = df['data'][i]['paragraphs'][j]['qas'][k]['answers'][0]['answer_start']\n",
    "                    ids.append(id_num)\n",
    "                \n",
    "\n",
    "\n",
    "\n"
   ]
  },
  {
   "cell_type": "code",
   "execution_count": 105,
   "metadata": {},
   "outputs": [
    {
     "data": {
      "text/html": [
       "<div>\n",
       "<style scoped>\n",
       "    .dataframe tbody tr th:only-of-type {\n",
       "        vertical-align: middle;\n",
       "    }\n",
       "\n",
       "    .dataframe tbody tr th {\n",
       "        vertical-align: top;\n",
       "    }\n",
       "\n",
       "    .dataframe thead th {\n",
       "        text-align: right;\n",
       "    }\n",
       "</style>\n",
       "<table border=\"1\" class=\"dataframe\">\n",
       "  <thead>\n",
       "    <tr style=\"text-align: right;\">\n",
       "      <th></th>\n",
       "      <th>annotations</th>\n",
       "      <th>id</th>\n",
       "      <th>original_id</th>\n",
       "      <th>topic</th>\n",
       "      <th>paragraph</th>\n",
       "      <th>question</th>\n",
       "      <th>answer</th>\n",
       "      <th>answer_start</th>\n",
       "    </tr>\n",
       "  </thead>\n",
       "  <tbody>\n",
       "    <tr>\n",
       "      <th>0</th>\n",
       "      <td>[{'skills': [8, 9, 2], 'sents_indices': [[19, ...</td>\n",
       "      <td>squad_000</td>\n",
       "      <td>57309921396df919000961f8</td>\n",
       "      <td>United_Methodist_Church</td>\n",
       "      <td>The movement which would become The United Met...</td>\n",
       "      <td>Why was the student group called \"the Methodis...</td>\n",
       "      <td>being methodical and exceptionally detailed in...</td>\n",
       "      <td>411.0</td>\n",
       "    </tr>\n",
       "    <tr>\n",
       "      <th>1</th>\n",
       "      <td>[{'skills': [2], 'sents_indices': [[58, 71]], ...</td>\n",
       "      <td>squad_001</td>\n",
       "      <td>5730cc2cb54a4f140068cc68</td>\n",
       "      <td>United_Methodist_Church</td>\n",
       "      <td>Throughout its history, the United Methodist C...</td>\n",
       "      <td>Most schools established by the UMC are member...</td>\n",
       "      <td>International Association of Methodist-related...</td>\n",
       "      <td>458.0</td>\n",
       "    </tr>\n",
       "    <tr>\n",
       "      <th>2</th>\n",
       "      <td>[{'skills': [13], 'sents_indices': [[105, 119]...</td>\n",
       "      <td>squad_002</td>\n",
       "      <td>5730d523aca1c71400fe5b03</td>\n",
       "      <td>United_Methodist_Church</td>\n",
       "      <td>Deacons are called by God, affirmed by the chu...</td>\n",
       "      <td>Deacons serve a term of how many years as prov...</td>\n",
       "      <td>2–3 years</td>\n",
       "      <td>670.0</td>\n",
       "    </tr>\n",
       "    <tr>\n",
       "      <th>3</th>\n",
       "      <td>[{'skills': [13], 'sents_indices': [[32, 46], ...</td>\n",
       "      <td>squad_003</td>\n",
       "      <td>5730d77ef6cb411900e244de</td>\n",
       "      <td>United_Methodist_Church</td>\n",
       "      <td>The United Methodist Church (UMC) practices in...</td>\n",
       "      <td>Name one way in which a person can become a Pr...</td>\n",
       "      <td>transfer from another Christian denomination</td>\n",
       "      <td>511.0</td>\n",
       "    </tr>\n",
       "    <tr>\n",
       "      <th>4</th>\n",
       "      <td>[{'skills': [8], 'sents_indices': [[77, 108]],...</td>\n",
       "      <td>squad_004</td>\n",
       "      <td>5730b2312461fd1900a9cfaf</td>\n",
       "      <td>United_Methodist_Church</td>\n",
       "      <td>Members of the United Methodist Church who ide...</td>\n",
       "      <td>Who is the president of TUMAS?</td>\n",
       "      <td>Rev. Paul T. Stallsworth</td>\n",
       "      <td>507.0</td>\n",
       "    </tr>\n",
       "  </tbody>\n",
       "</table>\n",
       "</div>"
      ],
      "text/plain": [
       "                                         annotations         id  \\\n",
       "0  [{'skills': [8, 9, 2], 'sents_indices': [[19, ...  squad_000   \n",
       "1  [{'skills': [2], 'sents_indices': [[58, 71]], ...  squad_001   \n",
       "2  [{'skills': [13], 'sents_indices': [[105, 119]...  squad_002   \n",
       "3  [{'skills': [13], 'sents_indices': [[32, 46], ...  squad_003   \n",
       "4  [{'skills': [8], 'sents_indices': [[77, 108]],...  squad_004   \n",
       "\n",
       "                original_id                    topic  \\\n",
       "0  57309921396df919000961f8  United_Methodist_Church   \n",
       "1  5730cc2cb54a4f140068cc68  United_Methodist_Church   \n",
       "2  5730d523aca1c71400fe5b03  United_Methodist_Church   \n",
       "3  5730d77ef6cb411900e244de  United_Methodist_Church   \n",
       "4  5730b2312461fd1900a9cfaf  United_Methodist_Church   \n",
       "\n",
       "                                           paragraph  \\\n",
       "0  The movement which would become The United Met...   \n",
       "1  Throughout its history, the United Methodist C...   \n",
       "2  Deacons are called by God, affirmed by the chu...   \n",
       "3  The United Methodist Church (UMC) practices in...   \n",
       "4  Members of the United Methodist Church who ide...   \n",
       "\n",
       "                                            question  \\\n",
       "0  Why was the student group called \"the Methodis...   \n",
       "1  Most schools established by the UMC are member...   \n",
       "2  Deacons serve a term of how many years as prov...   \n",
       "3  Name one way in which a person can become a Pr...   \n",
       "4                     Who is the president of TUMAS?   \n",
       "\n",
       "                                              answer  answer_start  \n",
       "0  being methodical and exceptionally detailed in...         411.0  \n",
       "1  International Association of Methodist-related...         458.0  \n",
       "2                                          2–3 years         670.0  \n",
       "3       transfer from another Christian denomination         511.0  \n",
       "4                           Rev. Paul T. Stallsworth         507.0  "
      ]
     },
     "execution_count": 105,
     "metadata": {},
     "output_type": "execute_result"
    }
   ],
   "source": [
    "annotated.head()"
   ]
  },
  {
   "cell_type": "code",
   "execution_count": 108,
   "metadata": {},
   "outputs": [
    {
     "data": {
      "text/plain": [
       "100"
      ]
     },
     "execution_count": 108,
     "metadata": {},
     "output_type": "execute_result"
    }
   ],
   "source": [
    "len(ids)"
   ]
  },
  {
   "cell_type": "code",
   "execution_count": 107,
   "metadata": {},
   "outputs": [
    {
     "data": {
      "text/plain": [
       "annotations     0\n",
       "id              0\n",
       "original_id     0\n",
       "topic           0\n",
       "paragraph       0\n",
       "question        0\n",
       "answer          0\n",
       "answer_start    0\n",
       "dtype: int64"
      ]
     },
     "execution_count": 107,
     "metadata": {},
     "output_type": "execute_result"
    }
   ],
   "source": [
    "#Check for nulls\n",
    "annotated.isnull().sum()"
   ]
  },
  {
   "cell_type": "code",
   "execution_count": 242,
   "metadata": {},
   "outputs": [],
   "source": [
    "skills = []\n",
    "sent_ind = []\n",
    "skill_count = []\n",
    "nonsense = []\n",
    "for row in annotated['annotations']:\n",
    "    skills.append(row[0]['skills'])\n",
    "    sent_ind.append(row[0]['sents_indices'])\n",
    "    skill_count.append(row[0]['skill_count'])\n",
    "    nonsense.append(row[0]['nonsense'])"
   ]
  },
  {
   "cell_type": "code",
   "execution_count": 243,
   "metadata": {},
   "outputs": [],
   "source": [
    "annotated['skills'] = skills\n",
    "annotated['sent_indices'] = sent_ind\n",
    "annotated['skill_count'] = skill_count\n",
    "annotated['nonsense'] = nonsense"
   ]
  },
  {
   "cell_type": "markdown",
   "metadata": {},
   "source": [
    "# EDA "
   ]
  },
  {
   "cell_type": "code",
   "execution_count": 112,
   "metadata": {},
   "outputs": [
    {
     "name": "stdout",
     "output_type": "stream",
     "text": [
      "# of topics: 15\n",
      "United_Methodist_Church: 12\n",
      "Victoria_and_Albert_Museum: 7\n",
      "Pharmacy: 5\n",
      "Scottish_Parliament: 7\n",
      "Ctenophora: 16\n",
      "Steam_engine: 3\n",
      "University_of_Chicago: 7\n",
      "Rhine: 4\n",
      "Geology: 3\n",
      "American_Broadcasting_Company: 1\n",
      "European_Union_law: 8\n",
      "Huguenot: 9\n",
      "Southern_California: 7\n",
      "Construction: 5\n",
      "Immune_system: 6\n"
     ]
    }
   ],
   "source": [
    "print('# of topics: ' + str(len(annotated.topic.unique())))\n",
    "for t in annotated.topic.unique():\n",
    "    print(str(t) + ': ' + str(len(annotated[annotated['topic']==t])))"
   ]
  },
  {
   "cell_type": "code",
   "execution_count": 127,
   "metadata": {},
   "outputs": [
    {
     "data": {
      "text/plain": [
       "[{'skills': [8, 2, 11, 12],\n",
       "  'sents_indices': [[0, 87]],\n",
       "  'skill_count': 4,\n",
       "  'nonsense': False}]"
      ]
     },
     "execution_count": 127,
     "metadata": {},
     "output_type": "execute_result"
    }
   ],
   "source": [
    "annotated.at[8,'annotations']\n",
    "# Sentence indices represent the first word of the sentence \n",
    "# the answer belongs to and the first word of the sentence that follows"
   ]
  },
  {
   "cell_type": "code",
   "execution_count": 119,
   "metadata": {},
   "outputs": [
    {
     "data": {
      "text/plain": [
       "'Throughout its history, the United Methodist Church has placed great emphasis on the importance of education. As such, the United Methodist Church established and is affiliated with around one hundred colleges and universities in the United States, including Syracuse University, Boston University, Emory University, Duke University, Drew University, University of Denver, University of Evansville, and Southern Methodist University. Most are members of the International Association of Methodist-related Schools, Colleges, and Universities. The church operates three hundred sixty schools and institutions overseas.'"
      ]
     },
     "execution_count": 119,
     "metadata": {},
     "output_type": "execute_result"
    }
   ],
   "source": [
    "annotated.at[1,'paragraph']"
   ]
  },
  {
   "cell_type": "code",
   "execution_count": 120,
   "metadata": {},
   "outputs": [
    {
     "name": "stdout",
     "output_type": "stream",
     "text": [
      "Most schools established by the UMC are members of what group?\n",
      "International Association of Methodist-related Schools, Colleges, and Universities\n"
     ]
    }
   ],
   "source": [
    "print(annotated.at[1,'question'])\n",
    "print(annotated.at[1,'answer'])"
   ]
  },
  {
   "cell_type": "code",
   "execution_count": 160,
   "metadata": {},
   "outputs": [
    {
     "name": "stdout",
     "output_type": "stream",
     "text": [
      "458.0\n",
      "International Association of Methodist-related Schools, Colleges, and Universities. The church operates three hundred sixty schools and institutions overseas.\n"
     ]
    }
   ],
   "source": [
    "print(annotated.at[1,'answer_start'])\n",
    "print(annotated.at[1,'paragraph'][458:])"
   ]
  },
  {
   "cell_type": "code",
   "execution_count": 125,
   "metadata": {},
   "outputs": [
    {
     "data": {
      "text/plain": [
       "'Most'"
      ]
     },
     "execution_count": 125,
     "metadata": {},
     "output_type": "execute_result"
    }
   ],
   "source": [
    "annotated.at[1,'paragraph'].split(' ')[58]"
   ]
  },
  {
   "cell_type": "code",
   "execution_count": 126,
   "metadata": {},
   "outputs": [
    {
     "data": {
      "text/plain": [
       "'The'"
      ]
     },
     "execution_count": 126,
     "metadata": {},
     "output_type": "execute_result"
    }
   ],
   "source": [
    "annotated.at[1,'paragraph'].split(' ')[71]"
   ]
  },
  {
   "cell_type": "markdown",
   "metadata": {},
   "source": [
    "### Average Counts"
   ]
  },
  {
   "cell_type": "code",
   "execution_count": 138,
   "metadata": {},
   "outputs": [
    {
     "name": "stdout",
     "output_type": "stream",
     "text": [
      "Average paragraph length (by word count): 129.26\n"
     ]
    }
   ],
   "source": [
    "p_count=0\n",
    "sum_wc=0\n",
    "for p in annotated['paragraph']:\n",
    "    p_count +=1\n",
    "    sum_wc += len(p.lower().split())\n",
    "print('Average paragraph length (by word count): ' + str(round(sum_wc/p_count,2)))"
   ]
  },
  {
   "cell_type": "code",
   "execution_count": 139,
   "metadata": {},
   "outputs": [
    {
     "name": "stdout",
     "output_type": "stream",
     "text": [
      "Average question length (by word count): 10.02\n"
     ]
    }
   ],
   "source": [
    "q_count=0\n",
    "sum_wc=0\n",
    "for q in annotated['question']:\n",
    "    q_count +=1\n",
    "    sum_wc += len(q.lower().split())\n",
    "print('Average question length (by word count): ' + str(round(sum_wc/q_count,2)))"
   ]
  },
  {
   "cell_type": "code",
   "execution_count": 140,
   "metadata": {},
   "outputs": [
    {
     "name": "stdout",
     "output_type": "stream",
     "text": [
      "Average answer length (by word count): 3.9\n"
     ]
    }
   ],
   "source": [
    "a_count=0\n",
    "sum_wc=0\n",
    "for a in annotated['answer']:\n",
    "    a_count +=1\n",
    "    sum_wc += len(a.lower().split())\n",
    "print('Average answer length (by word count): ' + str(round(sum_wc/a_count,2)))"
   ]
  },
  {
   "cell_type": "code",
   "execution_count": 200,
   "metadata": {},
   "outputs": [
    {
     "name": "stdout",
     "output_type": "stream",
     "text": [
      "Average # of sentences needed to answer: 1.04\n"
     ]
    }
   ],
   "source": [
    "num_sent = 0\n",
    "for i in range(100):\n",
    "    num_sent+=len(annotated.loc[i]['sent_indices'])\n",
    "print('Average # of sentences needed to answer: ' + str(num_sent/100))"
   ]
  },
  {
   "cell_type": "code",
   "execution_count": 211,
   "metadata": {},
   "outputs": [
    {
     "name": "stdout",
     "output_type": "stream",
     "text": [
      "Average answer start: 400.36\n"
     ]
    }
   ],
   "source": [
    "answer_start = 0\n",
    "for i in range(100):\n",
    "    answer_start+=annotated.loc[i]['answer_start']\n",
    "print('Average answer start: ' + str(answer_start/100))"
   ]
  },
  {
   "cell_type": "markdown",
   "metadata": {},
   "source": [
    "### Nonsense"
   ]
  },
  {
   "cell_type": "code",
   "execution_count": 148,
   "metadata": {},
   "outputs": [
    {
     "data": {
      "text/plain": [
       "52            University_of_Chicago\n",
       "64    American_Broadcasting_Company\n",
       "82              Southern_California\n",
       "Name: topic, dtype: object"
      ]
     },
     "execution_count": 148,
     "metadata": {},
     "output_type": "execute_result"
    }
   ],
   "source": [
    "annotated[annotated['nonsense']==True]['topic']"
   ]
  },
  {
   "cell_type": "code",
   "execution_count": 155,
   "metadata": {},
   "outputs": [
    {
     "name": "stdout",
     "output_type": "stream",
     "text": [
      "What cancer researchers were also apart of the university's faculty?\n",
      "\n",
      "\n",
      "Charles Brenton Huggins and Janet Rowley\n",
      "\n",
      "\n",
      "Past faculty have also included Egyptologist James Henry Breasted, mathematician Alberto Calderón, Nobel prize winning economist and classical liberalism defender Friedrich Hayek, meteorologist Ted Fujita, chemists Glenn T. Seaborg, the developer of the actinide concept and Nobel Prize winner Yuan T. Lee, Nobel Prize winning novelist Saul Bellow, political philosopher and author Allan Bloom, cancer researchers Charles Brenton Huggins and Janet Rowley, astronomer Gerard Kuiper, one of the most important figures in the early development of the discipline of linguistics Edward Sapir, and the founder of McKinsey & Co., James O. McKinsey.\n"
     ]
    }
   ],
   "source": [
    "print(annotated[annotated['nonsense']==True].loc[52]['question'])\n",
    "print('\\n')\n",
    "print(annotated[annotated['nonsense']==True].loc[52]['answer'])\n",
    "print('\\n')\n",
    "print(annotated[annotated['nonsense']==True].loc[52]['paragraph'])\n"
   ]
  },
  {
   "cell_type": "code",
   "execution_count": 156,
   "metadata": {},
   "outputs": [
    {
     "name": "stdout",
     "output_type": "stream",
     "text": [
      "ABC had secondary status on the existing stations in what Ohio town?\n",
      "\n",
      "\n",
      "Youngstown\n",
      "\n",
      "\n",
      "As a result, with the exception of the largest markets, ABC was relegated to secondary status on one or both of the existing stations, usually via off-hours clearances (a notable exception during this time was WKST-TV in Youngstown, Ohio, now WYTV, despite the small size of the surrounding market and its close proximity to Cleveland and Pittsburgh even decades before the city's economic collapse). According to Goldenson, this meant that an hour of ABC programming reported five times lower viewership than its competitors. However, the network's intake of money at the time would allow it to accelerate its content production. Still, ABC's limited reach would continue to hobble it for the next two decades; several smaller markets would not grow large enough to support a full-time ABC affiliate until the 1960s, with some very small markets having to wait as late as the 1980s or even the advent of digital television in the 2000s, which allowed stations like WTRF-TV in Wheeling, West Virginia to begin airing ABC programming on a digital subchannel after airing the network's programs outside of recommended timeslots decades before.\n"
     ]
    }
   ],
   "source": [
    "print(annotated[annotated['nonsense']==True].loc[64]['question'])\n",
    "print('\\n')\n",
    "print(annotated[annotated['nonsense']==True].loc[64]['answer'])\n",
    "print('\\n')\n",
    "print(annotated[annotated['nonsense']==True].loc[64]['paragraph'])\n"
   ]
  },
  {
   "cell_type": "code",
   "execution_count": 157,
   "metadata": {},
   "outputs": [
    {
     "name": "stdout",
     "output_type": "stream",
     "text": [
      "The region spans starting at islands found in which body of water?\n",
      "\n",
      "\n",
      "Pacific Ocean\n",
      "\n",
      "\n",
      "Southern California consists of one of the more varied collections of geologic, topographic, and natural ecosystem landscapes in a diversity outnumbering other major regions in the state and country. The region spans from Pacific Ocean islands, shorelines, beaches, and coastal plains, through the Transverse and Peninsular Ranges with their peaks, into the large and small interior valleys, to the vast deserts of California.\n"
     ]
    }
   ],
   "source": [
    "print(annotated[annotated['nonsense']==True].loc[82]['question'])\n",
    "print('\\n')\n",
    "print(annotated[annotated['nonsense']==True].loc[82]['answer'])\n",
    "print('\\n')\n",
    "print(annotated[annotated['nonsense']==True].loc[82]['paragraph'])\n"
   ]
  },
  {
   "cell_type": "markdown",
   "metadata": {},
   "source": [
    "### Skills"
   ]
  },
  {
   "cell_type": "code",
   "execution_count": 185,
   "metadata": {},
   "outputs": [
    {
     "data": {
      "text/plain": [
       "count    100.000000\n",
       "mean       1.290000\n",
       "std        1.183173\n",
       "min        0.000000\n",
       "25%        0.000000\n",
       "50%        1.000000\n",
       "75%        2.000000\n",
       "max        5.000000\n",
       "Name: skill_count, dtype: float64"
      ]
     },
     "execution_count": 185,
     "metadata": {},
     "output_type": "execute_result"
    }
   ],
   "source": [
    "# 0-5 skills per questions\n",
    "annotated['skill_count'].describe()"
   ]
  },
  {
   "cell_type": "code",
   "execution_count": 192,
   "metadata": {},
   "outputs": [
    {
     "name": "stdout",
     "output_type": "stream",
     "text": [
      "Most common skills required: [(8, 42), (11, 28), (13, 27), (12, 25), (9, 13)]\n"
     ]
    }
   ],
   "source": [
    "from collections import Counter\n",
    "flat_list = [item for sublist in list(annotated['skills']) for item in sublist]\n",
    "print('Most common skills required: ' + str(Counter(flat_list).most_common(5)))"
   ]
  },
  {
   "cell_type": "markdown",
   "metadata": {},
   "source": [
    "- 8. Ellipsis†: recognizing implicit/omitted information (argument, predicate, quantifier, time, or place). This skill is inspired by Dagan et al. (2013) and the discussion in Sugawara et al. (2017).\n",
    "- 11. Meta-knowledge† : using knowledge that includes a reader, writer, or text genre (e.g., narratives and expository documents) from metaviewpoints (e.g., Who are the principal characters of the story? \n",
    "- 13. Punctuation∗: understanding of punctuation marks (e.g., parenthesis, dash, quotation, colon, or semicolon).\n",
    "- 12. Schematic clause relation: understanding of complex sentences that have coordination or subordination, including relative clauses.\n",
    "- 9. Bridging†: inference supported by grammatical and lexical knowledge (e.g., synonymy, hypernymy, thematic role, part of events, idioms, and apposition)"
   ]
  },
  {
   "cell_type": "code",
   "execution_count": 195,
   "metadata": {},
   "outputs": [
    {
     "name": "stdout",
     "output_type": "stream",
     "text": [
      "Least common skills required: [(2, 13), (0, 3), (7, 3), (14, 3), (6, 2)]\n"
     ]
    }
   ],
   "source": [
    "least_common = Counter(flat_list).most_common()[-5:]\n",
    "print('Least common skills required: ' + str(least_common))"
   ]
  },
  {
   "cell_type": "markdown",
   "metadata": {},
   "source": [
    "- 2. Mathematical reasoning∗: we merged statistical and quantitative reasoning with mathematical reasoning\n",
    "- 0. ?\n",
    "- 7. Spatiotemporal relation: understanding of spatial and/or temporal relationships between multiple entities, events, and states.\n",
    "- 14 may be indication of nonsense\n",
    "- 6. Causal relation: understanding of causality that is represented by explicit expressions such as “why,” “because,” and “the reason for” (only if they exist)."
   ]
  },
  {
   "cell_type": "code",
   "execution_count": 202,
   "metadata": {},
   "outputs": [
    {
     "data": {
      "text/html": [
       "<div>\n",
       "<style scoped>\n",
       "    .dataframe tbody tr th:only-of-type {\n",
       "        vertical-align: middle;\n",
       "    }\n",
       "\n",
       "    .dataframe tbody tr th {\n",
       "        vertical-align: top;\n",
       "    }\n",
       "\n",
       "    .dataframe thead th {\n",
       "        text-align: right;\n",
       "    }\n",
       "</style>\n",
       "<table border=\"1\" class=\"dataframe\">\n",
       "  <thead>\n",
       "    <tr style=\"text-align: right;\">\n",
       "      <th></th>\n",
       "      <th>annotations</th>\n",
       "      <th>id</th>\n",
       "      <th>original_id</th>\n",
       "      <th>topic</th>\n",
       "      <th>paragraph</th>\n",
       "      <th>question</th>\n",
       "      <th>answer</th>\n",
       "      <th>answer_start</th>\n",
       "      <th>skills</th>\n",
       "      <th>sent_indices</th>\n",
       "      <th>skill_count</th>\n",
       "      <th>nonsense</th>\n",
       "    </tr>\n",
       "  </thead>\n",
       "  <tbody>\n",
       "    <tr>\n",
       "      <th>2</th>\n",
       "      <td>[{'skills': [13], 'sents_indices': [[105, 119]...</td>\n",
       "      <td>squad_002</td>\n",
       "      <td>5730d523aca1c71400fe5b03</td>\n",
       "      <td>United_Methodist_Church</td>\n",
       "      <td>Deacons are called by God, affirmed by the chu...</td>\n",
       "      <td>Deacons serve a term of how many years as prov...</td>\n",
       "      <td>2–3 years</td>\n",
       "      <td>670.0</td>\n",
       "      <td>[13]</td>\n",
       "      <td>[[105, 119]]</td>\n",
       "      <td>0</td>\n",
       "      <td>False</td>\n",
       "    </tr>\n",
       "    <tr>\n",
       "      <th>3</th>\n",
       "      <td>[{'skills': [13], 'sents_indices': [[32, 46], ...</td>\n",
       "      <td>squad_003</td>\n",
       "      <td>5730d77ef6cb411900e244de</td>\n",
       "      <td>United_Methodist_Church</td>\n",
       "      <td>The United Methodist Church (UMC) practices in...</td>\n",
       "      <td>Name one way in which a person can become a Pr...</td>\n",
       "      <td>transfer from another Christian denomination</td>\n",
       "      <td>511.0</td>\n",
       "      <td>[13]</td>\n",
       "      <td>[[32, 46], [69, 82]]</td>\n",
       "      <td>0</td>\n",
       "      <td>False</td>\n",
       "    </tr>\n",
       "    <tr>\n",
       "      <th>10</th>\n",
       "      <td>[{'skills': [13], 'sents_indices': [[36, 51]],...</td>\n",
       "      <td>squad_010</td>\n",
       "      <td>5730c52fb54a4f140068cc46</td>\n",
       "      <td>United_Methodist_Church</td>\n",
       "      <td>Like other historic Christian churches, The Un...</td>\n",
       "      <td>In what country does some clergy in the UMC oc...</td>\n",
       "      <td>Africa</td>\n",
       "      <td>346.0</td>\n",
       "      <td>[13]</td>\n",
       "      <td>[[36, 51]]</td>\n",
       "      <td>0</td>\n",
       "      <td>False</td>\n",
       "    </tr>\n",
       "    <tr>\n",
       "      <th>14</th>\n",
       "      <td>[{'skills': [13], 'sents_indices': [[62, 74]],...</td>\n",
       "      <td>squad_014</td>\n",
       "      <td>5726cc11dd62a815002e9089</td>\n",
       "      <td>Victoria_and_Albert_Museum</td>\n",
       "      <td>Writers whose papers are in the library are as...</td>\n",
       "      <td>What does the Armagnac manuscript in the V&amp;A l...</td>\n",
       "      <td>the trial and rehabilitation of Joan of Arc</td>\n",
       "      <td>432.0</td>\n",
       "      <td>[13]</td>\n",
       "      <td>[[62, 74]]</td>\n",
       "      <td>0</td>\n",
       "      <td>False</td>\n",
       "    </tr>\n",
       "    <tr>\n",
       "      <th>15</th>\n",
       "      <td>[{'skills': [13], 'sents_indices': [[19, 40]],...</td>\n",
       "      <td>squad_015</td>\n",
       "      <td>5726e680dd62a815002e9470</td>\n",
       "      <td>Victoria_and_Albert_Museum</td>\n",
       "      <td>The Soulages collection of Italian and French ...</td>\n",
       "      <td>What items comprise the John Jones Collection?</td>\n",
       "      <td>French 18th-century art and furnishings</td>\n",
       "      <td>161.0</td>\n",
       "      <td>[13]</td>\n",
       "      <td>[[19, 40]]</td>\n",
       "      <td>0</td>\n",
       "      <td>False</td>\n",
       "    </tr>\n",
       "    <tr>\n",
       "      <th>17</th>\n",
       "      <td>[{'skills': [13], 'sents_indices': [[0, 8]], '...</td>\n",
       "      <td>squad_017</td>\n",
       "      <td>5726f1ec708984140094d6a9</td>\n",
       "      <td>Victoria_and_Albert_Museum</td>\n",
       "      <td>The Musical Instruments gallery closed 25 Febr...</td>\n",
       "      <td>In which year was the Musical Instruments gall...</td>\n",
       "      <td>2010</td>\n",
       "      <td>51.0</td>\n",
       "      <td>[13]</td>\n",
       "      <td>[[0, 8]]</td>\n",
       "      <td>0</td>\n",
       "      <td>False</td>\n",
       "    </tr>\n",
       "    <tr>\n",
       "      <th>23</th>\n",
       "      <td>[{'skills': [13], 'sents_indices': [[45, 50]],...</td>\n",
       "      <td>squad_023</td>\n",
       "      <td>5726f2375951b619008f8313</td>\n",
       "      <td>Pharmacy</td>\n",
       "      <td>Pharmacy informatics is the combination of pha...</td>\n",
       "      <td>How fast is pharmacy informatics growing?</td>\n",
       "      <td>quickly</td>\n",
       "      <td>366.0</td>\n",
       "      <td>[13]</td>\n",
       "      <td>[[45, 50]]</td>\n",
       "      <td>0</td>\n",
       "      <td>False</td>\n",
       "    </tr>\n",
       "    <tr>\n",
       "      <th>25</th>\n",
       "      <td>[{'skills': [13], 'sents_indices': [[0, 15]], ...</td>\n",
       "      <td>squad_025</td>\n",
       "      <td>572fdb17b2c2fd140056851d</td>\n",
       "      <td>Scottish_Parliament</td>\n",
       "      <td>As in the House of Commons, a number of qualif...</td>\n",
       "      <td>What does being an MSP share with the House of...</td>\n",
       "      <td>a number of qualifications</td>\n",
       "      <td>28.0</td>\n",
       "      <td>[13]</td>\n",
       "      <td>[[0, 15]]</td>\n",
       "      <td>0</td>\n",
       "      <td>False</td>\n",
       "    </tr>\n",
       "    <tr>\n",
       "      <th>28</th>\n",
       "      <td>[{'skills': [13], 'sents_indices': [[20, 28]],...</td>\n",
       "      <td>squad_028</td>\n",
       "      <td>572fd8efb2c2fd14005684fa</td>\n",
       "      <td>Scottish_Parliament</td>\n",
       "      <td>Of the 129 MSPs, 73 are elected to represent f...</td>\n",
       "      <td>How many members can voters choose to represen...</td>\n",
       "      <td>one</td>\n",
       "      <td>132.0</td>\n",
       "      <td>[13]</td>\n",
       "      <td>[[20, 28]]</td>\n",
       "      <td>0</td>\n",
       "      <td>False</td>\n",
       "    </tr>\n",
       "    <tr>\n",
       "      <th>30</th>\n",
       "      <td>[{'skills': [13], 'sents_indices': [[120, 136]...</td>\n",
       "      <td>squad_030</td>\n",
       "      <td>572fbb04a23a5019007fc8fa</td>\n",
       "      <td>Scottish_Parliament</td>\n",
       "      <td>As a member of the Scottish Parliamentary Corp...</td>\n",
       "      <td>Who represents the Scottish Parliament at home...</td>\n",
       "      <td>The Presiding Officer</td>\n",
       "      <td>778.0</td>\n",
       "      <td>[13]</td>\n",
       "      <td>[[120, 136]]</td>\n",
       "      <td>0</td>\n",
       "      <td>False</td>\n",
       "    </tr>\n",
       "    <tr>\n",
       "      <th>32</th>\n",
       "      <td>[{'skills': [13], 'sents_indices': [[71, 87]],...</td>\n",
       "      <td>squad_032</td>\n",
       "      <td>57265c10f1498d1400e8dd36</td>\n",
       "      <td>Ctenophora</td>\n",
       "      <td>Lobates have eight comb-rows, originating at t...</td>\n",
       "      <td>What does the bathocyroe and ocyropsis do to e...</td>\n",
       "      <td>by clapping their lobes</td>\n",
       "      <td>515.0</td>\n",
       "      <td>[13]</td>\n",
       "      <td>[[71, 87]]</td>\n",
       "      <td>0</td>\n",
       "      <td>False</td>\n",
       "    </tr>\n",
       "    <tr>\n",
       "      <th>33</th>\n",
       "      <td>[{'skills': [13], 'sents_indices': [[39, 55]],...</td>\n",
       "      <td>squad_033</td>\n",
       "      <td>572683075951b619008f7516</td>\n",
       "      <td>Ctenophora</td>\n",
       "      <td>Almost all species are hermaphrodites, in othe...</td>\n",
       "      <td>Where are the gonads located?</td>\n",
       "      <td>in the parts of the internal canal network und...</td>\n",
       "      <td>245.0</td>\n",
       "      <td>[13]</td>\n",
       "      <td>[[39, 55]]</td>\n",
       "      <td>0</td>\n",
       "      <td>False</td>\n",
       "    </tr>\n",
       "    <tr>\n",
       "      <th>43</th>\n",
       "      <td>[{'skills': [13], 'sents_indices': [[0, 20]], ...</td>\n",
       "      <td>squad_043</td>\n",
       "      <td>57265aaf5951b619008f706b</td>\n",
       "      <td>Ctenophora</td>\n",
       "      <td>The Lobata have a pair of lobes, which are mus...</td>\n",
       "      <td>What does the lobata have pair of?</td>\n",
       "      <td>lobes</td>\n",
       "      <td>26.0</td>\n",
       "      <td>[13]</td>\n",
       "      <td>[[0, 20]]</td>\n",
       "      <td>0</td>\n",
       "      <td>False</td>\n",
       "    </tr>\n",
       "    <tr>\n",
       "      <th>52</th>\n",
       "      <td>[{'skills': [14], 'sents_indices': [[42, 92]],...</td>\n",
       "      <td>squad_052</td>\n",
       "      <td>5728742cff5b5019007da24a</td>\n",
       "      <td>University_of_Chicago</td>\n",
       "      <td>Past faculty have also included Egyptologist J...</td>\n",
       "      <td>What cancer researchers were also apart of the...</td>\n",
       "      <td>Charles Brenton Huggins and Janet Rowley</td>\n",
       "      <td>414.0</td>\n",
       "      <td>[14]</td>\n",
       "      <td>[[42, 92]]</td>\n",
       "      <td>0</td>\n",
       "      <td>True</td>\n",
       "    </tr>\n",
       "    <tr>\n",
       "      <th>72</th>\n",
       "      <td>[{'skills': [13], 'sents_indices': [[97, 120]]...</td>\n",
       "      <td>squad_072</td>\n",
       "      <td>57268bf9dd62a815002e890d</td>\n",
       "      <td>European_Union_law</td>\n",
       "      <td>European Union law is applied by the courts of...</td>\n",
       "      <td>What are some supplementary sources of Europea...</td>\n",
       "      <td>case law by the Court of Justice, internationa...</td>\n",
       "      <td>620.0</td>\n",
       "      <td>[13]</td>\n",
       "      <td>[[97, 120]]</td>\n",
       "      <td>0</td>\n",
       "      <td>False</td>\n",
       "    </tr>\n",
       "    <tr>\n",
       "      <th>75</th>\n",
       "      <td>[{'skills': [13], 'sents_indices': [[0, 31]], ...</td>\n",
       "      <td>squad_075</td>\n",
       "      <td>5710f114a58dae1900cd6b62</td>\n",
       "      <td>Huguenot</td>\n",
       "      <td>Both before and after the 1708 passage of the ...</td>\n",
       "      <td>About how many Walloons and Huguenots emigrate...</td>\n",
       "      <td>50,000</td>\n",
       "      <td>99.0</td>\n",
       "      <td>[13]</td>\n",
       "      <td>[[0, 31]]</td>\n",
       "      <td>0</td>\n",
       "      <td>False</td>\n",
       "    </tr>\n",
       "    <tr>\n",
       "      <th>82</th>\n",
       "      <td>[{'skills': [14], 'sents_indices': [[29, 63]],...</td>\n",
       "      <td>squad_082</td>\n",
       "      <td>5705fd8475f01819005e7841</td>\n",
       "      <td>Southern_California</td>\n",
       "      <td>Southern California consists of one of the mor...</td>\n",
       "      <td>The region spans starting at islands found in ...</td>\n",
       "      <td>Pacific Ocean</td>\n",
       "      <td>222.0</td>\n",
       "      <td>[14]</td>\n",
       "      <td>[[29, 63]]</td>\n",
       "      <td>0</td>\n",
       "      <td>True</td>\n",
       "    </tr>\n",
       "    <tr>\n",
       "      <th>83</th>\n",
       "      <td>[{'skills': [13], 'sents_indices': [[102, 118]...</td>\n",
       "      <td>squad_083</td>\n",
       "      <td>5705edcd52bb8914006896ce</td>\n",
       "      <td>Southern_California</td>\n",
       "      <td>\"Southern California\" is not a formal geograph...</td>\n",
       "      <td>Point Conception is an example of a landmark a...</td>\n",
       "      <td>northern</td>\n",
       "      <td>767.0</td>\n",
       "      <td>[13]</td>\n",
       "      <td>[[102, 118]]</td>\n",
       "      <td>0</td>\n",
       "      <td>False</td>\n",
       "    </tr>\n",
       "    <tr>\n",
       "      <th>84</th>\n",
       "      <td>[{'skills': [13], 'sents_indices': [[0, 22]], ...</td>\n",
       "      <td>squad_084</td>\n",
       "      <td>57060cc352bb89140068980e</td>\n",
       "      <td>Southern_California</td>\n",
       "      <td>Within the Los Angeles Area are the major busi...</td>\n",
       "      <td>Downtown Burbank is an example of what kind of...</td>\n",
       "      <td>business</td>\n",
       "      <td>42.0</td>\n",
       "      <td>[13]</td>\n",
       "      <td>[[0, 22]]</td>\n",
       "      <td>0</td>\n",
       "      <td>False</td>\n",
       "    </tr>\n",
       "    <tr>\n",
       "      <th>88</th>\n",
       "      <td>[{'skills': [13], 'sents_indices': [[22, 36]],...</td>\n",
       "      <td>squad_088</td>\n",
       "      <td>5705e63175f01819005e7722</td>\n",
       "      <td>Southern_California</td>\n",
       "      <td>Within southern California are two major citie...</td>\n",
       "      <td>Which city is the most populous in California?</td>\n",
       "      <td>Los Angeles</td>\n",
       "      <td>170.0</td>\n",
       "      <td>[13]</td>\n",
       "      <td>[[22, 36]]</td>\n",
       "      <td>0</td>\n",
       "      <td>False</td>\n",
       "    </tr>\n",
       "    <tr>\n",
       "      <th>89</th>\n",
       "      <td>[{'skills': [13], 'sents_indices': [[65, 87]],...</td>\n",
       "      <td>squad_089</td>\n",
       "      <td>572751b4708984140094dc1d</td>\n",
       "      <td>Construction</td>\n",
       "      <td>A construction project is a complex net of con...</td>\n",
       "      <td>What does the time element in construction mean?</td>\n",
       "      <td>that a delay costs money, and in cases of bott...</td>\n",
       "      <td>388.0</td>\n",
       "      <td>[13]</td>\n",
       "      <td>[[65, 87]]</td>\n",
       "      <td>0</td>\n",
       "      <td>False</td>\n",
       "    </tr>\n",
       "    <tr>\n",
       "      <th>90</th>\n",
       "      <td>[{'skills': [13], 'sents_indices': [[83, 92]],...</td>\n",
       "      <td>squad_090</td>\n",
       "      <td>57273cca708984140094db36</td>\n",
       "      <td>Construction</td>\n",
       "      <td>Large-scale construction requires collaboratio...</td>\n",
       "      <td>The largest construction projects are known as...</td>\n",
       "      <td>megaprojects</td>\n",
       "      <td>703.0</td>\n",
       "      <td>[13]</td>\n",
       "      <td>[[83, 92]]</td>\n",
       "      <td>0</td>\n",
       "      <td>False</td>\n",
       "    </tr>\n",
       "    <tr>\n",
       "      <th>93</th>\n",
       "      <td>[{'skills': [13], 'sents_indices': [[23, 37]],...</td>\n",
       "      <td>squad_093</td>\n",
       "      <td>5727502f708984140094dc08</td>\n",
       "      <td>Construction</td>\n",
       "      <td>Mortgage bankers, accountants, and cost engine...</td>\n",
       "      <td>The presence of who is highly likely even in s...</td>\n",
       "      <td>the mortgage banker</td>\n",
       "      <td>185.0</td>\n",
       "      <td>[13]</td>\n",
       "      <td>[[23, 37]]</td>\n",
       "      <td>0</td>\n",
       "      <td>False</td>\n",
       "    </tr>\n",
       "    <tr>\n",
       "      <th>94</th>\n",
       "      <td>[{'skills': [13], 'sents_indices': [[48, 57]],...</td>\n",
       "      <td>squad_094</td>\n",
       "      <td>5728fc2eaf94a219006a9ec9</td>\n",
       "      <td>Immune_system</td>\n",
       "      <td>Chemical barriers also protect against infecti...</td>\n",
       "      <td>Semen contains what in order to kill pathogens?</td>\n",
       "      <td>defensins and zinc</td>\n",
       "      <td>364.0</td>\n",
       "      <td>[13]</td>\n",
       "      <td>[[48, 57]]</td>\n",
       "      <td>0</td>\n",
       "      <td>False</td>\n",
       "    </tr>\n",
       "    <tr>\n",
       "      <th>95</th>\n",
       "      <td>[{'skills': [13], 'sents_indices': [[133, 151]...</td>\n",
       "      <td>squad_095</td>\n",
       "      <td>5729f5a03f37b31900478609</td>\n",
       "      <td>Immune_system</td>\n",
       "      <td>Gamma delta T cells (γδ T cells) possess an al...</td>\n",
       "      <td>What kind of human T cells respond to common m...</td>\n",
       "      <td>Vγ9/Vδ2 T cells</td>\n",
       "      <td>822.0</td>\n",
       "      <td>[13]</td>\n",
       "      <td>[[133, 151]]</td>\n",
       "      <td>0</td>\n",
       "      <td>False</td>\n",
       "    </tr>\n",
       "    <tr>\n",
       "      <th>96</th>\n",
       "      <td>[{'skills': [13], 'sents_indices': [[96, 110]]...</td>\n",
       "      <td>squad_096</td>\n",
       "      <td>5728f9882ca10214002dab5b</td>\n",
       "      <td>Immune_system</td>\n",
       "      <td>Microorganisms or toxins that successfully ent...</td>\n",
       "      <td>For most organisms, what is the dominant syste...</td>\n",
       "      <td>innate immune system</td>\n",
       "      <td>656.0</td>\n",
       "      <td>[13]</td>\n",
       "      <td>[[96, 110]]</td>\n",
       "      <td>0</td>\n",
       "      <td>False</td>\n",
       "    </tr>\n",
       "    <tr>\n",
       "      <th>97</th>\n",
       "      <td>[{'skills': [13], 'sents_indices': [[126, 140]...</td>\n",
       "      <td>squad_097</td>\n",
       "      <td>572a142e3f37b319004786bc</td>\n",
       "      <td>Immune_system</td>\n",
       "      <td>In humans, this response is activated by compl...</td>\n",
       "      <td>How can the deposition of compliment kill inva...</td>\n",
       "      <td>disrupting their plasma membrane</td>\n",
       "      <td>929.0</td>\n",
       "      <td>[13]</td>\n",
       "      <td>[[126, 140]]</td>\n",
       "      <td>0</td>\n",
       "      <td>False</td>\n",
       "    </tr>\n",
       "    <tr>\n",
       "      <th>98</th>\n",
       "      <td>[{'skills': [13], 'sents_indices': [[0, 15]], ...</td>\n",
       "      <td>squad_098</td>\n",
       "      <td>5729081d3f37b31900477fab</td>\n",
       "      <td>Immune_system</td>\n",
       "      <td>Neutrophils and macrophages are phagocytes tha...</td>\n",
       "      <td>What are two types of phagocytes that travel t...</td>\n",
       "      <td>Neutrophils and macrophages</td>\n",
       "      <td>0.0</td>\n",
       "      <td>[13]</td>\n",
       "      <td>[[0, 15]]</td>\n",
       "      <td>0</td>\n",
       "      <td>False</td>\n",
       "    </tr>\n",
       "    <tr>\n",
       "      <th>99</th>\n",
       "      <td>[{'skills': [13], 'sents_indices': [[35, 53]],...</td>\n",
       "      <td>squad_099</td>\n",
       "      <td>572a07fc6aef0514001551dd</td>\n",
       "      <td>Immune_system</td>\n",
       "      <td>Evolution of the adaptive immune system occurr...</td>\n",
       "      <td>What are two examples of primitive jawless ver...</td>\n",
       "      <td>the lamprey and hagfish</td>\n",
       "      <td>340.0</td>\n",
       "      <td>[13]</td>\n",
       "      <td>[[35, 53]]</td>\n",
       "      <td>0</td>\n",
       "      <td>False</td>\n",
       "    </tr>\n",
       "  </tbody>\n",
       "</table>\n",
       "</div>"
      ],
      "text/plain": [
       "                                          annotations         id  \\\n",
       "2   [{'skills': [13], 'sents_indices': [[105, 119]...  squad_002   \n",
       "3   [{'skills': [13], 'sents_indices': [[32, 46], ...  squad_003   \n",
       "10  [{'skills': [13], 'sents_indices': [[36, 51]],...  squad_010   \n",
       "14  [{'skills': [13], 'sents_indices': [[62, 74]],...  squad_014   \n",
       "15  [{'skills': [13], 'sents_indices': [[19, 40]],...  squad_015   \n",
       "17  [{'skills': [13], 'sents_indices': [[0, 8]], '...  squad_017   \n",
       "23  [{'skills': [13], 'sents_indices': [[45, 50]],...  squad_023   \n",
       "25  [{'skills': [13], 'sents_indices': [[0, 15]], ...  squad_025   \n",
       "28  [{'skills': [13], 'sents_indices': [[20, 28]],...  squad_028   \n",
       "30  [{'skills': [13], 'sents_indices': [[120, 136]...  squad_030   \n",
       "32  [{'skills': [13], 'sents_indices': [[71, 87]],...  squad_032   \n",
       "33  [{'skills': [13], 'sents_indices': [[39, 55]],...  squad_033   \n",
       "43  [{'skills': [13], 'sents_indices': [[0, 20]], ...  squad_043   \n",
       "52  [{'skills': [14], 'sents_indices': [[42, 92]],...  squad_052   \n",
       "72  [{'skills': [13], 'sents_indices': [[97, 120]]...  squad_072   \n",
       "75  [{'skills': [13], 'sents_indices': [[0, 31]], ...  squad_075   \n",
       "82  [{'skills': [14], 'sents_indices': [[29, 63]],...  squad_082   \n",
       "83  [{'skills': [13], 'sents_indices': [[102, 118]...  squad_083   \n",
       "84  [{'skills': [13], 'sents_indices': [[0, 22]], ...  squad_084   \n",
       "88  [{'skills': [13], 'sents_indices': [[22, 36]],...  squad_088   \n",
       "89  [{'skills': [13], 'sents_indices': [[65, 87]],...  squad_089   \n",
       "90  [{'skills': [13], 'sents_indices': [[83, 92]],...  squad_090   \n",
       "93  [{'skills': [13], 'sents_indices': [[23, 37]],...  squad_093   \n",
       "94  [{'skills': [13], 'sents_indices': [[48, 57]],...  squad_094   \n",
       "95  [{'skills': [13], 'sents_indices': [[133, 151]...  squad_095   \n",
       "96  [{'skills': [13], 'sents_indices': [[96, 110]]...  squad_096   \n",
       "97  [{'skills': [13], 'sents_indices': [[126, 140]...  squad_097   \n",
       "98  [{'skills': [13], 'sents_indices': [[0, 15]], ...  squad_098   \n",
       "99  [{'skills': [13], 'sents_indices': [[35, 53]],...  squad_099   \n",
       "\n",
       "                 original_id                       topic  \\\n",
       "2   5730d523aca1c71400fe5b03     United_Methodist_Church   \n",
       "3   5730d77ef6cb411900e244de     United_Methodist_Church   \n",
       "10  5730c52fb54a4f140068cc46     United_Methodist_Church   \n",
       "14  5726cc11dd62a815002e9089  Victoria_and_Albert_Museum   \n",
       "15  5726e680dd62a815002e9470  Victoria_and_Albert_Museum   \n",
       "17  5726f1ec708984140094d6a9  Victoria_and_Albert_Museum   \n",
       "23  5726f2375951b619008f8313                    Pharmacy   \n",
       "25  572fdb17b2c2fd140056851d         Scottish_Parliament   \n",
       "28  572fd8efb2c2fd14005684fa         Scottish_Parliament   \n",
       "30  572fbb04a23a5019007fc8fa         Scottish_Parliament   \n",
       "32  57265c10f1498d1400e8dd36                  Ctenophora   \n",
       "33  572683075951b619008f7516                  Ctenophora   \n",
       "43  57265aaf5951b619008f706b                  Ctenophora   \n",
       "52  5728742cff5b5019007da24a       University_of_Chicago   \n",
       "72  57268bf9dd62a815002e890d          European_Union_law   \n",
       "75  5710f114a58dae1900cd6b62                    Huguenot   \n",
       "82  5705fd8475f01819005e7841         Southern_California   \n",
       "83  5705edcd52bb8914006896ce         Southern_California   \n",
       "84  57060cc352bb89140068980e         Southern_California   \n",
       "88  5705e63175f01819005e7722         Southern_California   \n",
       "89  572751b4708984140094dc1d                Construction   \n",
       "90  57273cca708984140094db36                Construction   \n",
       "93  5727502f708984140094dc08                Construction   \n",
       "94  5728fc2eaf94a219006a9ec9               Immune_system   \n",
       "95  5729f5a03f37b31900478609               Immune_system   \n",
       "96  5728f9882ca10214002dab5b               Immune_system   \n",
       "97  572a142e3f37b319004786bc               Immune_system   \n",
       "98  5729081d3f37b31900477fab               Immune_system   \n",
       "99  572a07fc6aef0514001551dd               Immune_system   \n",
       "\n",
       "                                            paragraph  \\\n",
       "2   Deacons are called by God, affirmed by the chu...   \n",
       "3   The United Methodist Church (UMC) practices in...   \n",
       "10  Like other historic Christian churches, The Un...   \n",
       "14  Writers whose papers are in the library are as...   \n",
       "15  The Soulages collection of Italian and French ...   \n",
       "17  The Musical Instruments gallery closed 25 Febr...   \n",
       "23  Pharmacy informatics is the combination of pha...   \n",
       "25  As in the House of Commons, a number of qualif...   \n",
       "28  Of the 129 MSPs, 73 are elected to represent f...   \n",
       "30  As a member of the Scottish Parliamentary Corp...   \n",
       "32  Lobates have eight comb-rows, originating at t...   \n",
       "33  Almost all species are hermaphrodites, in othe...   \n",
       "43  The Lobata have a pair of lobes, which are mus...   \n",
       "52  Past faculty have also included Egyptologist J...   \n",
       "72  European Union law is applied by the courts of...   \n",
       "75  Both before and after the 1708 passage of the ...   \n",
       "82  Southern California consists of one of the mor...   \n",
       "83  \"Southern California\" is not a formal geograph...   \n",
       "84  Within the Los Angeles Area are the major busi...   \n",
       "88  Within southern California are two major citie...   \n",
       "89  A construction project is a complex net of con...   \n",
       "90  Large-scale construction requires collaboratio...   \n",
       "93  Mortgage bankers, accountants, and cost engine...   \n",
       "94  Chemical barriers also protect against infecti...   \n",
       "95  Gamma delta T cells (γδ T cells) possess an al...   \n",
       "96  Microorganisms or toxins that successfully ent...   \n",
       "97  In humans, this response is activated by compl...   \n",
       "98  Neutrophils and macrophages are phagocytes tha...   \n",
       "99  Evolution of the adaptive immune system occurr...   \n",
       "\n",
       "                                             question  \\\n",
       "2   Deacons serve a term of how many years as prov...   \n",
       "3   Name one way in which a person can become a Pr...   \n",
       "10  In what country does some clergy in the UMC oc...   \n",
       "14  What does the Armagnac manuscript in the V&A l...   \n",
       "15     What items comprise the John Jones Collection?   \n",
       "17  In which year was the Musical Instruments gall...   \n",
       "23          How fast is pharmacy informatics growing?   \n",
       "25  What does being an MSP share with the House of...   \n",
       "28  How many members can voters choose to represen...   \n",
       "30  Who represents the Scottish Parliament at home...   \n",
       "32  What does the bathocyroe and ocyropsis do to e...   \n",
       "33                      Where are the gonads located?   \n",
       "43                 What does the lobata have pair of?   \n",
       "52  What cancer researchers were also apart of the...   \n",
       "72  What are some supplementary sources of Europea...   \n",
       "75  About how many Walloons and Huguenots emigrate...   \n",
       "82  The region spans starting at islands found in ...   \n",
       "83  Point Conception is an example of a landmark a...   \n",
       "84  Downtown Burbank is an example of what kind of...   \n",
       "88     Which city is the most populous in California?   \n",
       "89   What does the time element in construction mean?   \n",
       "90  The largest construction projects are known as...   \n",
       "93  The presence of who is highly likely even in s...   \n",
       "94    Semen contains what in order to kill pathogens?   \n",
       "95  What kind of human T cells respond to common m...   \n",
       "96  For most organisms, what is the dominant syste...   \n",
       "97  How can the deposition of compliment kill inva...   \n",
       "98  What are two types of phagocytes that travel t...   \n",
       "99  What are two examples of primitive jawless ver...   \n",
       "\n",
       "                                               answer  answer_start skills  \\\n",
       "2                                           2–3 years         670.0   [13]   \n",
       "3        transfer from another Christian denomination         511.0   [13]   \n",
       "10                                             Africa         346.0   [13]   \n",
       "14        the trial and rehabilitation of Joan of Arc         432.0   [13]   \n",
       "15            French 18th-century art and furnishings         161.0   [13]   \n",
       "17                                               2010          51.0   [13]   \n",
       "23                                            quickly         366.0   [13]   \n",
       "25                         a number of qualifications          28.0   [13]   \n",
       "28                                                one         132.0   [13]   \n",
       "30                              The Presiding Officer         778.0   [13]   \n",
       "32                            by clapping their lobes         515.0   [13]   \n",
       "33  in the parts of the internal canal network und...         245.0   [13]   \n",
       "43                                              lobes          26.0   [13]   \n",
       "52           Charles Brenton Huggins and Janet Rowley         414.0   [14]   \n",
       "72  case law by the Court of Justice, internationa...         620.0   [13]   \n",
       "75                                             50,000          99.0   [13]   \n",
       "82                                      Pacific Ocean         222.0   [14]   \n",
       "83                                           northern         767.0   [13]   \n",
       "84                                           business          42.0   [13]   \n",
       "88                                        Los Angeles         170.0   [13]   \n",
       "89  that a delay costs money, and in cases of bott...         388.0   [13]   \n",
       "90                                       megaprojects         703.0   [13]   \n",
       "93                                the mortgage banker         185.0   [13]   \n",
       "94                                 defensins and zinc         364.0   [13]   \n",
       "95                                    Vγ9/Vδ2 T cells         822.0   [13]   \n",
       "96                               innate immune system         656.0   [13]   \n",
       "97                   disrupting their plasma membrane         929.0   [13]   \n",
       "98                        Neutrophils and macrophages           0.0   [13]   \n",
       "99                            the lamprey and hagfish         340.0   [13]   \n",
       "\n",
       "            sent_indices  skill_count  nonsense  \n",
       "2           [[105, 119]]            0     False  \n",
       "3   [[32, 46], [69, 82]]            0     False  \n",
       "10            [[36, 51]]            0     False  \n",
       "14            [[62, 74]]            0     False  \n",
       "15            [[19, 40]]            0     False  \n",
       "17              [[0, 8]]            0     False  \n",
       "23            [[45, 50]]            0     False  \n",
       "25             [[0, 15]]            0     False  \n",
       "28            [[20, 28]]            0     False  \n",
       "30          [[120, 136]]            0     False  \n",
       "32            [[71, 87]]            0     False  \n",
       "33            [[39, 55]]            0     False  \n",
       "43             [[0, 20]]            0     False  \n",
       "52            [[42, 92]]            0      True  \n",
       "72           [[97, 120]]            0     False  \n",
       "75             [[0, 31]]            0     False  \n",
       "82            [[29, 63]]            0      True  \n",
       "83          [[102, 118]]            0     False  \n",
       "84             [[0, 22]]            0     False  \n",
       "88            [[22, 36]]            0     False  \n",
       "89            [[65, 87]]            0     False  \n",
       "90            [[83, 92]]            0     False  \n",
       "93            [[23, 37]]            0     False  \n",
       "94            [[48, 57]]            0     False  \n",
       "95          [[133, 151]]            0     False  \n",
       "96           [[96, 110]]            0     False  \n",
       "97          [[126, 140]]            0     False  \n",
       "98             [[0, 15]]            0     False  \n",
       "99            [[35, 53]]            0     False  "
      ]
     },
     "execution_count": 202,
     "metadata": {},
     "output_type": "execute_result"
    }
   ],
   "source": [
    "annotated[annotated['skill_count']==0]\n",
    "# 0 skill count is associated with skill 13 or 14"
   ]
  },
  {
   "cell_type": "markdown",
   "metadata": {},
   "source": [
    "13. Punctuation∗: understanding of punctuation marks (e.g., parenthesis, dash, quotation, colon, or semicolon)."
   ]
  },
  {
   "cell_type": "markdown",
   "metadata": {},
   "source": [
    "### Find rows with 0 as a skill"
   ]
  },
  {
   "cell_type": "code",
   "execution_count": 204,
   "metadata": {},
   "outputs": [
    {
     "name": "stdout",
     "output_type": "stream",
     "text": [
      "16\n",
      "26\n",
      "57\n"
     ]
    }
   ],
   "source": [
    "for row in range(100):\n",
    "    if 0 in annotated.loc[row]['skills']:\n",
    "        print(row)"
   ]
  },
  {
   "cell_type": "code",
   "execution_count": 208,
   "metadata": {},
   "outputs": [
    {
     "name": "stdout",
     "output_type": "stream",
     "text": [
      "Who purchased or commissioned the works of European artists included the British galleries of the V&A?\n",
      "\n",
      "\n",
      "British patrons\n",
      "\n",
      "\n",
      "Not only the work of British artists and craftspeople is on display, but also work produced by European artists that was purchased or commissioned by British patrons, as well as imports from Asia, including porcelain, cloth and wallpaper. Designers and artists whose work is on display in the galleries include Gian Lorenzo Bernini, Grinling Gibbons, Daniel Marot, Louis Laguerre, Antonio Verrio, Sir James Thornhill, William Kent, Robert Adam, Josiah Wedgwood, Matthew Boulton, Canova, Thomas Chippendale, Pugin, William Morris. Patrons who have influenced taste are also represented by works of art from their collections, these include: Horace Walpole (a major influence on the Gothic Revival), William Thomas Beckford and Thomas Hope.\n"
     ]
    }
   ],
   "source": [
    "print(annotated.loc[16]['question'])\n",
    "print('\\n')\n",
    "print(annotated.loc[16]['answer'])\n",
    "print('\\n')\n",
    "print(annotated.loc[16]['paragraph'])\n"
   ]
  },
  {
   "cell_type": "code",
   "execution_count": 209,
   "metadata": {},
   "outputs": [
    {
     "name": "stdout",
     "output_type": "stream",
     "text": [
      "Most aspects of transport safety is a subject dealt with by whom?\n",
      "\n",
      "\n",
      "UK Government ministers\n",
      "\n",
      "\n",
      "Reserved matters are subjects that are outside the legislative competence of the Scotland Parliament. The Scottish Parliament is unable to legislate on such issues that are reserved to, and dealt with at, Westminster (and where Ministerial functions usually lie with UK Government ministers). These include abortion, broadcasting policy, civil service, common markets for UK goods and services, constitution, electricity, coal, oil, gas, nuclear energy, defence and national security, drug policy, employment, foreign policy and relations with Europe, most aspects of transport safety and regulation, National Lottery, protection of borders, social security and stability of UK's fiscal, economic and monetary system.\n"
     ]
    }
   ],
   "source": [
    "print(annotated.loc[26]['question'])\n",
    "print('\\n')\n",
    "print(annotated.loc[26]['answer'])\n",
    "print('\\n')\n",
    "print(annotated.loc[26]['paragraph'])\n"
   ]
  },
  {
   "cell_type": "code",
   "execution_count": 210,
   "metadata": {},
   "outputs": [
    {
     "name": "stdout",
     "output_type": "stream",
     "text": [
      "What part of the Rhine flows west at Katwijk?\n",
      "\n",
      "\n",
      "Old Rhine\n",
      "\n",
      "\n",
      "The name Rijn, from here on, is used only for smaller streams farther to the north, which together formed the main river Rhine in Roman times. Though they retained the name, these streams no longer carry water from the Rhine, but are used for draining the surrounding land and polders. From Wijk bij Duurstede, the old north branch of the Rhine is called Kromme Rijn (\"Bent Rhine\") past Utrecht, first Leidse Rijn (\"Rhine of Leiden\") and then, Oude Rijn (\"Old Rhine\"). The latter flows west into a sluice at Katwijk, where its waters can be discharged into the North Sea. This branch once formed the line along which the Limes Germanicus were built. During periods of lower sea levels within the various ice ages, the Rhine took a left turn, creating the Channel River, the course of which now lies below the English Channel.\n"
     ]
    }
   ],
   "source": [
    "print(annotated.loc[57]['question'])\n",
    "print('\\n')\n",
    "print(annotated.loc[57]['answer'])\n",
    "print('\\n')\n",
    "print(annotated.loc[57]['paragraph'])\n"
   ]
  },
  {
   "cell_type": "markdown",
   "metadata": {},
   "source": [
    "### Plots"
   ]
  },
  {
   "cell_type": "code",
   "execution_count": 217,
   "metadata": {},
   "outputs": [
    {
     "data": {
      "text/plain": [
       "Text(0.5, 1.0, 'Counts by Title')"
      ]
     },
     "execution_count": 217,
     "metadata": {},
     "output_type": "execute_result"
    },
    {
     "data": {
      "image/png": "[encoded data removed]",
      "text/plain": [
       "<Figure size 720x360 with 1 Axes>"
      ]
     },
     "metadata": {},
     "output_type": "display_data"
    }
   ],
   "source": [
    "sns.set(style=\"whitegrid\")\n",
    "#fig, ax =plt.subplots(ncols=3, figsize=(20, 5))\n",
    "fig, ax =plt.subplots(figsize=(10, 5))\n",
    "plot1 = sns.countplot(x=\"topic\",data=annotated)\n",
    "loc, labels = plt.xticks()\n",
    "plot1.set_xticklabels(labels, rotation=90)\n",
    "plot1.set_title('Counts by Title')"
   ]
  },
  {
   "cell_type": "code",
   "execution_count": 218,
   "metadata": {},
   "outputs": [
    {
     "data": {
      "text/plain": [
       "Text(0.5, 1.0, 'Counts by Nonsense')"
      ]
     },
     "execution_count": 218,
     "metadata": {},
     "output_type": "execute_result"
    },
    {
     "data": {
      "image/png": "[encoded data removed]",
      "text/plain": [
       "<Figure size 720x360 with 1 Axes>"
      ]
     },
     "metadata": {},
     "output_type": "display_data"
    }
   ],
   "source": [
    "sns.set(style=\"whitegrid\")\n",
    "#fig, ax =plt.subplots(ncols=3, figsize=(20, 5))\n",
    "fig, ax =plt.subplots(figsize=(10, 5))\n",
    "plot1 = sns.countplot(x=\"nonsense\",data=annotated)\n",
    "loc, labels = plt.xticks()\n",
    "plot1.set_xticklabels(labels, rotation=90)\n",
    "plot1.set_title('Counts by Nonsense')"
   ]
  },
  {
   "cell_type": "code",
   "execution_count": 220,
   "metadata": {},
   "outputs": [
    {
     "data": {
      "text/plain": [
       "Text(0.5, 1.0, 'Counts by Skill Count')"
      ]
     },
     "execution_count": 220,
     "metadata": {},
     "output_type": "execute_result"
    },
    {
     "data": {
      "image/png": "[encoded data removed]",
      "text/plain": [
       "<Figure size 720x360 with 1 Axes>"
      ]
     },
     "metadata": {},
     "output_type": "display_data"
    }
   ],
   "source": [
    "sns.set(style=\"whitegrid\")\n",
    "#fig, ax =plt.subplots(ncols=3, figsize=(20, 5))\n",
    "fig, ax =plt.subplots(figsize=(10, 5))\n",
    "plot1 = sns.countplot(x=\"skill_count\",data=annotated)\n",
    "loc, labels = plt.xticks()\n",
    "plot1.set_xticklabels(labels, rotation=90)\n",
    "plot1.set_title('Counts by Skill Count')"
   ]
  },
  {
   "cell_type": "markdown",
   "metadata": {},
   "source": [
    "### Common skills seen together"
   ]
  },
  {
   "cell_type": "code",
   "execution_count": 251,
   "metadata": {},
   "outputs": [
    {
     "data": {
      "text/plain": [
       "defaultdict(int,\n",
       "            {'[11, 12]': 3,\n",
       "             '[0, 11]': 1,\n",
       "             '[11, 6]': 1,\n",
       "             '[9, 11]': 2,\n",
       "             '[8, 12]': 8,\n",
       "             '[8, 7]': 1,\n",
       "             '[8, 11]': 4,\n",
       "             '[11, 7]': 1,\n",
       "             '[8, 2]': 1,\n",
       "             '[9, 2]': 1,\n",
       "             '[8, 9]': 1})"
      ]
     },
     "execution_count": 251,
     "metadata": {},
     "output_type": "execute_result"
    }
   ],
   "source": [
    "import collections\n",
    "two = annotated[annotated['skill_count']==2]\n",
    "sets = list(two['skills'])\n",
    "pair_dict = collections.defaultdict(int)\n",
    "for s in range(len(sets)):\n",
    "    pair = sets[s]\n",
    "    pair_dict[str(pair)]+=1\n",
    "pair_dict"
   ]
  },
  {
   "cell_type": "markdown",
   "metadata": {},
   "source": [
    "- 8. Ellipsis†: recognizing implicit/omitted information (argument, predicate, quantifier, time, or place). This skill is inspired by Dagan et al. (2013) and the discussion in Sugawara et al. (2017).\n",
    "\n",
    "- 12. Schematic clause relation: understanding of complex sentences that have coordination or subordination, including relative clauses."
   ]
  },
  {
   "cell_type": "code",
   "execution_count": 252,
   "metadata": {},
   "outputs": [
    {
     "data": {
      "text/plain": [
       "[[8, 9, 2], [8, 2, 11], [8, 11, 7], [8, 2, 12], [8, 9, 2], [0, 8, 12]]"
      ]
     },
     "execution_count": 252,
     "metadata": {},
     "output_type": "execute_result"
    }
   ],
   "source": [
    "three = annotated[annotated['skill_count']==3]\n",
    "sets_3 = list(three['skills'])\n",
    "sets_3"
   ]
  },
  {
   "cell_type": "markdown",
   "metadata": {},
   "source": [
    "### Sample 4-skill Question"
   ]
  },
  {
   "cell_type": "code",
   "execution_count": 253,
   "metadata": {},
   "outputs": [
    {
     "data": {
      "text/plain": [
       "[[8, 9, 11, 12],\n",
       " [8, 2, 11, 12],\n",
       " [8, 2, 11, 12],\n",
       " [8, 2, 11, 12],\n",
       " [8, 2, 11, 12],\n",
       " [8, 2, 11, 12]]"
      ]
     },
     "execution_count": 253,
     "metadata": {},
     "output_type": "execute_result"
    }
   ],
   "source": [
    "four = annotated[annotated['skill_count']==4]\n",
    "sets_4 = list(four['skills'])\n",
    "sets_4"
   ]
  },
  {
   "cell_type": "code",
   "execution_count": 258,
   "metadata": {},
   "outputs": [
    {
     "name": "stdout",
     "output_type": "stream",
     "text": [
      "Who was one man who joined hands and said \"Lord of the Church, we are united in Thee...?\"\n",
      "\n",
      "\n",
      "Bishop Lloyd Christ Wicke\n",
      "\n",
      "\n",
      "On April 23, 1968, the United Methodist Church was created when the Evangelical United Brethren Church (represented by Bishop Reuben H. Mueller) and The Methodist Church (represented by Bishop Lloyd Christ Wicke) joined hands at the constituting General Conference in Dallas, Texas. With the words, \"Lord of the Church, we are united in Thee, in Thy Church and now in The United Methodist Church\" the new denomination was given birth by the two churches that had distinguished histories and influential ministries in various parts of the world.\n"
     ]
    }
   ],
   "source": [
    "print(annotated.loc[9]['question'])\n",
    "print('\\n')\n",
    "print(annotated.loc[9]['answer'])\n",
    "print('\\n')\n",
    "print(annotated.loc[9]['paragraph'])\n"
   ]
  },
  {
   "cell_type": "markdown",
   "metadata": {},
   "source": [
    "- 8. Ellipsis†: recognizing implicit/omitted information (argument, predicate, quantifier, time, or place). This skill is inspired by Dagan et al. (2013) and the discussion in Sugawara et al. (2017).\n",
    "- 2. Mathematical reasoning∗: we merged statistical and quantitative reasoning with mathematical reasoning\n",
    "- 11. Meta-knowledge† : using knowledge that includes a reader, writer, or text genre (e.g., narratives and expository documents) from metaviewpoints (e.g., Who are the principal characters of the story? \n",
    "- 12. Schematic clause relation: understanding of complex sentences that have coordination or subordination, including relative clauses."
   ]
  },
  {
   "cell_type": "markdown",
   "metadata": {},
   "source": [
    "### Sample 5-skill Question"
   ]
  },
  {
   "cell_type": "code",
   "execution_count": 254,
   "metadata": {},
   "outputs": [
    {
     "data": {
      "text/plain": [
       "[[0, 9, 2, 11, 12]]"
      ]
     },
     "execution_count": 254,
     "metadata": {},
     "output_type": "execute_result"
    }
   ],
   "source": [
    "five = annotated[annotated['skill_count']==5]\n",
    "sets_5 = list(five['skills'])\n",
    "sets_5"
   ]
  },
  {
   "cell_type": "code",
   "execution_count": 256,
   "metadata": {},
   "outputs": [
    {
     "name": "stdout",
     "output_type": "stream",
     "text": [
      "Most aspects of transport safety is a subject dealt with by whom?\n",
      "\n",
      "\n",
      "UK Government ministers\n",
      "\n",
      "\n",
      "Reserved matters are subjects that are outside the legislative competence of the Scotland Parliament. The Scottish Parliament is unable to legislate on such issues that are reserved to, and dealt with at, Westminster (and where Ministerial functions usually lie with UK Government ministers). These include abortion, broadcasting policy, civil service, common markets for UK goods and services, constitution, electricity, coal, oil, gas, nuclear energy, defence and national security, drug policy, employment, foreign policy and relations with Europe, most aspects of transport safety and regulation, National Lottery, protection of borders, social security and stability of UK's fiscal, economic and monetary system.\n"
     ]
    }
   ],
   "source": [
    "print(annotated.loc[26]['question'])\n",
    "print('\\n')\n",
    "print(annotated.loc[26]['answer'])\n",
    "print('\\n')\n",
    "print(annotated.loc[26]['paragraph'])\n"
   ]
  },
  {
   "cell_type": "markdown",
   "metadata": {},
   "source": [
    "- 12. Schematic clause relation: understanding of complex sentences that have coordination or subordination, including relative clauses.\n",
    "- 9. Bridging†: inference supported by grammatical and lexical knowledge (e.g., synonymy, hypernymy, thematic role, part of events, idioms, and apposition)\n",
    "- 2. Mathematical reasoning∗: we merged statistical and quantitative reasoning with mathematical reasoning\n",
    "- 11. Meta-knowledge† : using knowledge that includes a reader, writer, or text genre (e.g., narratives and expository documents) from metaviewpoints (e.g., Who are the principal characters of the story? "
   ]
  },
  {
   "cell_type": "code",
   "execution_count": null,
   "metadata": {},
   "outputs": [],
   "source": []
  }
 ],
 "metadata": {
  "kernelspec": {
   "display_name": "Python 3",
   "language": "python",
   "name": "python3"
  },
  "language_info": {
   "codemirror_mode": {
    "name": "ipython",
    "version": 3
   },
   "file_extension": ".py",
   "mimetype": "text/x-python",
   "name": "python",
   "nbconvert_exporter": "python",
   "pygments_lexer": "ipython3",
   "version": "3.7.1"
  }
 },
 "nbformat": 4,
 "nbformat_minor": 2
}
