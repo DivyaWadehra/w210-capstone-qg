{
 "cells": [
  {
   "cell_type": "code",
   "execution_count": 3,
   "metadata": {},
   "outputs": [],
   "source": [
    "import numpy as np\n",
    "import pandas as pd\n",
    "from os import listdir, scandir\n",
    "from os.path import isfile, join"
   ]
  },
  {
   "cell_type": "code",
   "execution_count": 41,
   "metadata": {},
   "outputs": [
    {
     "data": {
      "text/plain": [
       "['./for_autoq\\\\AA', './for_autoq\\\\AB']"
      ]
     },
     "execution_count": 41,
     "metadata": {},
     "output_type": "execute_result"
    }
   ],
   "source": [
    "mypath = \"./for_autoq\"\n",
    "subfolders = [f.path for f in scandir(mypath) if f.is_dir() ]\n",
    "subfolders"
   ]
  },
  {
   "cell_type": "code",
   "execution_count": 43,
   "metadata": {},
   "outputs": [
    {
     "ename": "TypeError",
     "evalue": "listdir: path should be string, bytes, os.PathLike or None, not list",
     "output_type": "error",
     "traceback": [
      "\u001b[1;31m---------------------------------------------------------------------------\u001b[0m",
      "\u001b[1;31mTypeError\u001b[0m                                 Traceback (most recent call last)",
      "\u001b[1;32m<ipython-input-43-53dbaa653c95>\u001b[0m in \u001b[0;36m<module>\u001b[1;34m()\u001b[0m\n\u001b[1;32m----> 1\u001b[1;33m \u001b[0monlyfiles\u001b[0m \u001b[1;33m=\u001b[0m \u001b[1;33m[\u001b[0m\u001b[0mf\u001b[0m \u001b[1;32mfor\u001b[0m \u001b[0mf\u001b[0m \u001b[1;32min\u001b[0m \u001b[0mlistdir\u001b[0m\u001b[1;33m(\u001b[0m\u001b[0msubfolders\u001b[0m\u001b[1;33m)\u001b[0m \u001b[1;32mif\u001b[0m \u001b[0misfile\u001b[0m\u001b[1;33m(\u001b[0m\u001b[0mjoin\u001b[0m\u001b[1;33m(\u001b[0m\u001b[0msubfolders\u001b[0m\u001b[1;33m,\u001b[0m \u001b[0mf\u001b[0m\u001b[1;33m)\u001b[0m\u001b[1;33m)\u001b[0m\u001b[1;33m]\u001b[0m\u001b[1;33m\u001b[0m\u001b[0m\n\u001b[0m\u001b[0;32m      2\u001b[0m \u001b[0monlyfiles\u001b[0m\u001b[1;33m\u001b[0m\u001b[0m\n",
      "\u001b[1;31mTypeError\u001b[0m: listdir: path should be string, bytes, os.PathLike or None, not list"
     ]
    }
   ],
   "source": [
    "onlyfiles = [f for f in listdir(subfolders) if isfile(join(subfolders, f))]\n",
    "onlyfiles"
   ]
  },
  {
   "cell_type": "code",
   "execution_count": 30,
   "metadata": {},
   "outputs": [
    {
     "data": {
      "text/plain": [
       "'Augustin-Jean Fresnel'"
      ]
     },
     "execution_count": 30,
     "metadata": {},
     "output_type": "execute_result"
    }
   ],
   "source": [
    "mypath = \"./for_autoq\"\n",
    "subfolders = [f.path for f in scandir(mypath) if f.is_dir()]\n",
    "subfolders"
   ]
  },
  {
   "cell_type": "code",
   "execution_count": 47,
   "metadata": {},
   "outputs": [
    {
     "name": "stdout",
     "output_type": "stream",
     "text": [
      "['wiki_06.json', 'wiki_08.json', 'wiki_09.json', 'wiki_11.json', 'wiki_13.json', 'wiki_14.json', 'wiki_17.json', 'wiki_19.json', 'wiki_21.json', 'wiki_22.json', 'wiki_24.json', 'wiki_26.json', 'wiki_28.json', 'wiki_31.json', 'wiki_32.json', 'wiki_34.json', 'wiki_36.json', 'wiki_37.json', 'wiki_39.json', 'wiki_40.json', 'wiki_44.json', 'wiki_46.json', 'wiki_47.json', 'wiki_48.json', 'wiki_50.json', 'wiki_55.json', 'wiki_63.json', 'wiki_64.json', 'wiki_66.json', 'wiki_67.json', 'wiki_68.json', 'wiki_69.json', 'wiki_70.json', 'wiki_71.json', 'wiki_73.json', 'wiki_74.json', 'wiki_76.json', 'wiki_77.json', 'wiki_79.json', 'wiki_81.json', 'wiki_82.json', 'wiki_86.json', 'wiki_88.json', 'wiki_94.json', 'wiki_95.json', 'wiki_97.json']\n",
      "wiki_06.json\n",
      "wiki_08.json\n",
      "wiki_09.json\n",
      "wiki_11.json\n",
      "wiki_13.json\n",
      "wiki_14.json\n",
      "wiki_17.json\n",
      "wiki_19.json\n",
      "wiki_21.json\n",
      "wiki_22.json\n",
      "wiki_24.json\n",
      "wiki_26.json\n",
      "wiki_28.json\n",
      "wiki_31.json\n",
      "wiki_32.json\n",
      "wiki_34.json\n",
      "wiki_36.json\n",
      "wiki_37.json\n",
      "wiki_39.json\n",
      "wiki_40.json\n",
      "wiki_44.json\n",
      "wiki_46.json\n",
      "wiki_47.json\n",
      "wiki_48.json\n",
      "wiki_50.json\n",
      "wiki_55.json\n",
      "wiki_63.json\n",
      "wiki_64.json\n",
      "wiki_66.json\n",
      "wiki_67.json\n",
      "wiki_68.json\n",
      "wiki_69.json\n",
      "wiki_70.json\n",
      "wiki_71.json\n",
      "wiki_73.json\n",
      "wiki_74.json\n",
      "wiki_76.json\n",
      "wiki_77.json\n",
      "wiki_79.json\n",
      "wiki_81.json\n",
      "wiki_82.json\n",
      "wiki_86.json\n",
      "wiki_88.json\n",
      "wiki_94.json\n",
      "wiki_95.json\n",
      "wiki_97.json\n",
      "['.DS_Store', 'wiki_00.json', 'wiki_01.json', 'wiki_02.json', 'wiki_03.json', 'wiki_04.json', 'wiki_05.json', 'wiki_06.json', 'wiki_07.json', 'wiki_08.json', 'wiki_09.json', 'wiki_10.json', 'wiki_11.json', 'wiki_12.json', 'wiki_13.json', 'wiki_14.json', 'wiki_15.json', 'wiki_16.json', 'wiki_17.json', 'wiki_18.json', 'wiki_19.json', 'wiki_20.json', 'wiki_21.json', 'wiki_22.json', 'wiki_23.json', 'wiki_24.json', 'wiki_25.json', 'wiki_26.json', 'wiki_27.json', 'wiki_28.json', 'wiki_29.json', 'wiki_30.json', 'wiki_31.json', 'wiki_32.json', 'wiki_33.json', 'wiki_34.json', 'wiki_35.json', 'wiki_36.json', 'wiki_37.json', 'wiki_38.json', 'wiki_39.json', 'wiki_40.json', 'wiki_41.json', 'wiki_42.json', 'wiki_43.json', 'wiki_44.json', 'wiki_45.json', 'wiki_46.json', 'wiki_47.json', 'wiki_48.json', 'wiki_49.json', 'wiki_50.json', 'wiki_51.json', 'wiki_52.json', 'wiki_53.json', 'wiki_54.json', 'wiki_55.json', 'wiki_56.json', 'wiki_57.json', 'wiki_58.json', 'wiki_59.json', 'wiki_60.json', 'wiki_61.json', 'wiki_62.json', 'wiki_63.json', 'wiki_64.json', 'wiki_65.json', 'wiki_66.json', 'wiki_67.json', 'wiki_68.json', 'wiki_69.json', 'wiki_70.json', 'wiki_71.json', 'wiki_72.json', 'wiki_73.json', 'wiki_74.json', 'wiki_75.json', 'wiki_76.json', 'wiki_77.json', 'wiki_78.json', 'wiki_79.json', 'wiki_80.json', 'wiki_81.json', 'wiki_82.json', 'wiki_83.json', 'wiki_84.json', 'wiki_85.json', 'wiki_86.json', 'wiki_87.json', 'wiki_88.json', 'wiki_89.json', 'wiki_90.json', 'wiki_91.json', 'wiki_92.json', 'wiki_93.json', 'wiki_94.json', 'wiki_95.json', 'wiki_96.json', 'wiki_97.json', 'wiki_98.json', 'wiki_99.json']\n",
      ".DS_Store\n",
      "skipped .DS_Store\n",
      "wiki_00.json\n",
      "wiki_01.json\n",
      "wiki_02.json\n",
      "wiki_03.json\n",
      "wiki_04.json\n",
      "wiki_05.json\n",
      "wiki_06.json\n",
      "wiki_07.json\n",
      "wiki_08.json\n",
      "wiki_09.json\n",
      "wiki_10.json\n",
      "wiki_11.json\n",
      "wiki_12.json\n",
      "wiki_13.json\n",
      "wiki_14.json\n",
      "wiki_15.json\n",
      "wiki_16.json\n",
      "wiki_17.json\n",
      "wiki_18.json\n",
      "wiki_19.json\n",
      "wiki_20.json\n",
      "wiki_21.json\n",
      "wiki_22.json\n",
      "wiki_23.json\n",
      "wiki_24.json\n",
      "wiki_25.json\n",
      "wiki_26.json\n",
      "wiki_27.json\n",
      "wiki_28.json\n",
      "wiki_29.json\n",
      "wiki_30.json\n",
      "wiki_31.json\n",
      "wiki_32.json\n",
      "wiki_33.json\n",
      "wiki_34.json\n",
      "wiki_35.json\n",
      "wiki_36.json\n",
      "wiki_37.json\n",
      "wiki_38.json\n",
      "wiki_39.json\n",
      "wiki_40.json\n",
      "wiki_41.json\n",
      "wiki_42.json\n",
      "wiki_43.json\n",
      "wiki_44.json\n",
      "wiki_45.json\n",
      "wiki_46.json\n",
      "wiki_47.json\n",
      "wiki_48.json\n",
      "wiki_49.json\n",
      "wiki_50.json\n",
      "wiki_51.json\n",
      "wiki_52.json\n",
      "wiki_53.json\n",
      "wiki_54.json\n",
      "wiki_55.json\n",
      "wiki_56.json\n",
      "wiki_57.json\n",
      "wiki_58.json\n",
      "wiki_59.json\n",
      "wiki_60.json\n",
      "wiki_61.json\n",
      "wiki_62.json\n",
      "wiki_63.json\n",
      "wiki_64.json\n",
      "wiki_65.json\n",
      "wiki_66.json\n",
      "wiki_67.json\n",
      "wiki_68.json\n",
      "wiki_69.json\n",
      "wiki_70.json\n",
      "wiki_71.json\n",
      "wiki_72.json\n",
      "wiki_73.json\n",
      "wiki_74.json\n",
      "wiki_75.json\n",
      "wiki_76.json\n",
      "wiki_77.json\n",
      "wiki_78.json\n",
      "wiki_79.json\n",
      "wiki_80.json\n",
      "wiki_81.json\n",
      "wiki_82.json\n",
      "wiki_83.json\n",
      "wiki_84.json\n",
      "wiki_85.json\n",
      "wiki_86.json\n",
      "wiki_87.json\n",
      "wiki_88.json\n",
      "wiki_89.json\n",
      "wiki_90.json\n",
      "wiki_91.json\n",
      "wiki_92.json\n",
      "wiki_93.json\n",
      "wiki_94.json\n",
      "wiki_95.json\n",
      "wiki_96.json\n",
      "wiki_97.json\n",
      "wiki_98.json\n",
      "wiki_99.json\n"
     ]
    }
   ],
   "source": [
    "mypath = \"./for_autoq\"\n",
    "subfolders = [f.path for f in scandir(mypath) if f.is_dir() ]\n",
    "# onlyfiles = [f for f in listdir(subfolders[0]) if isfile(join('./for_autoq\\\\AA', f))]\n",
    "topic_dict = {}\n",
    "# get the names of the files in each folder\n",
    "for sub in subfolders:\n",
    "    onlyfiles = [f for f in listdir(sub) if isfile(join(sub, f))]\n",
    "    print(onlyfiles)\n",
    "    for file in onlyfiles:\n",
    "        print(file)\n",
    "        try:\n",
    "            df = pd.read_json(str(sub+\"/\"+file))\n",
    "            for entry in range(0, len(df['data'])):\n",
    "                topic_dict[df['data'][entry]['title']] = str(sub+\"/\"+file)\n",
    "        except:\n",
    "            print(\"skipped\", file)\n",
    "            continue\n",
    "topic_list = list(topic_dict.keys())\n",
    "topic_list.sort()"
   ]
  },
  {
   "cell_type": "code",
   "execution_count": 29,
   "metadata": {},
   "outputs": [
    {
     "data": {
      "text/plain": [
       "['./for_autoq\\\\AA', './for_autoq\\\\AB']"
      ]
     },
     "execution_count": 29,
     "metadata": {},
     "output_type": "execute_result"
    }
   ],
   "source": [
    "subfolders"
   ]
  },
  {
   "cell_type": "code",
   "execution_count": 12,
   "metadata": {},
   "outputs": [
    {
     "data": {
      "text/plain": [
       "0     {'title': 'Anarchism', 'paragraphs': [{'contex...\n",
       "1     {'title': 'Autism', 'paragraphs': [{'context':...\n",
       "2     {'title': 'Albedo', 'paragraphs': [{'context':...\n",
       "3     {'title': 'A', 'paragraphs': [{'context': 'A (...\n",
       "4     {'title': 'Alabama', 'paragraphs': [{'context'...\n",
       "5     {'title': 'Achilles', 'paragraphs': [{'context...\n",
       "6     {'title': 'Abraham Lincoln', 'paragraphs': [{'...\n",
       "7     {'title': 'Aristotle', 'paragraphs': [{'contex...\n",
       "8     {'title': 'An American in Paris', 'paragraphs'...\n",
       "9     {'title': 'Academy Awards', 'paragraphs': [{'c...\n",
       "10    {'title': 'Actrius', 'paragraphs': [{'context'...\n",
       "11    {'title': 'Animalia (book)', 'paragraphs': [{'...\n",
       "12    {'title': 'International Atomic Time', 'paragr...\n",
       "13    {'title': 'Altruism', 'paragraphs': [{'context...\n",
       "14    {'title': 'Ayn Rand', 'paragraphs': [{'context...\n",
       "15    {'title': 'Allan Dwan', 'paragraphs': [{'conte...\n",
       "16    {'title': 'Algeria', 'paragraphs': [{'context'...\n",
       "17    {'title': 'List of Atlas Shrugged characters',...\n",
       "18    {'title': 'Anthropology', 'paragraphs': [{'con...\n",
       "19    {'title': 'Agricultural science', 'paragraphs'...\n",
       "20    {'title': 'Alchemy', 'paragraphs': [{'context'...\n",
       "21    {'title': 'Astronomer', 'paragraphs': [{'conte...\n",
       "22    {'title': 'ASCII', 'paragraphs': [{'context': ...\n",
       "23    {'title': 'Animation', 'paragraphs': [{'contex...\n",
       "24    {'title': 'Apollo', 'paragraphs': [{'context':...\n",
       "25    {'title': 'Andre Agassi', 'paragraphs': [{'con...\n",
       "26    {'title': 'Austroasiatic languages', 'paragrap...\n",
       "27    {'title': 'Afroasiatic languages', 'paragraphs...\n",
       "28    {'title': 'Andorra', 'paragraphs': [{'context'...\n",
       "29    {'title': 'Arithmetic mean', 'paragraphs': [{'...\n",
       "30    {'title': 'American Football Conference', 'par...\n",
       "31    {'title': 'Animal Farm', 'paragraphs': [{'cont...\n",
       "Name: data, dtype: object"
      ]
     },
     "execution_count": 12,
     "metadata": {},
     "output_type": "execute_result"
    }
   ],
   "source": [
    "df['data']"
   ]
  },
  {
   "cell_type": "code",
   "execution_count": 2,
   "metadata": {},
   "outputs": [],
   "source": [
    "a = ['Hi', 'hello', 'ARGH', 123]"
   ]
  },
  {
   "cell_type": "code",
   "execution_count": 7,
   "metadata": {},
   "outputs": [],
   "source": [
    "b = [123, 456]"
   ]
  },
  {
   "cell_type": "code",
   "execution_count": 13,
   "metadata": {},
   "outputs": [
    {
     "data": {
      "text/plain": [
       "{456}"
      ]
     },
     "execution_count": 13,
     "metadata": {},
     "output_type": "execute_result"
    }
   ],
   "source": [
    "set(b) - set(a)"
   ]
  },
  {
   "cell_type": "code",
   "execution_count": 14,
   "metadata": {},
   "outputs": [
    {
     "data": {
      "text/plain": [
       "2"
      ]
     },
     "execution_count": 14,
     "metadata": {},
     "output_type": "execute_result"
    }
   ],
   "source": [
    "len(set(b))"
   ]
  },
  {
   "cell_type": "code",
   "execution_count": 5,
   "metadata": {},
   "outputs": [
    {
     "name": "stdout",
     "output_type": "stream",
     "text": [
      "no\n"
     ]
    }
   ],
   "source": [
    "if 'Hi' not in a:\n",
    "    print(\"yes\")\n",
    "else:\n",
    "    print(\"no\")"
   ]
  },
  {
   "cell_type": "code",
   "execution_count": 13,
   "metadata": {},
   "outputs": [
    {
     "data": {
      "text/plain": [
       "['Hi', 'ARGH', 'hello']"
      ]
     },
     "execution_count": 13,
     "metadata": {},
     "output_type": "execute_result"
    }
   ],
   "source": [
    "list(set(a) - set(b))"
   ]
  }
 ],
 "metadata": {
  "kernelspec": {
   "display_name": "Python 3",
   "language": "python",
   "name": "python3"
  },
  "language_info": {
   "codemirror_mode": {
    "name": "ipython",
    "version": 3
   },
   "file_extension": ".py",
   "mimetype": "text/x-python",
   "name": "python",
   "nbconvert_exporter": "python",
   "pygments_lexer": "ipython3",
   "version": "3.7.0"
  }
 },
 "nbformat": 4,
 "nbformat_minor": 2
}
