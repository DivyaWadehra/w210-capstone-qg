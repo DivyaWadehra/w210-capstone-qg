{
 "cells": [
  {
   "cell_type": "code",
   "execution_count": 39,
   "metadata": {
    "ExecuteTime": {
     "end_time": "2019-02-03T19:22:26.286807Z",
     "start_time": "2019-02-03T19:22:26.271569Z"
    }
   },
   "outputs": [],
   "source": [
    "\n",
    "# import packages \n",
    "#import tensorflow as tf\n",
    "import pandas as pd  \n",
    "import numpy as np \n",
    "import gzip\n",
    "# from keras.models import Sequential\n",
    "# from keras.layers import LSTM, GRU, Dense, Activation, Dropout, Input, Embedding, Bidirectional, Reshape, Flatten, Conv1D, MaxPooling1D, MaxPool1D, GlobalMaxPool1D, SpatialDropout1D\n",
    "# from keras.preprocessing import text, sequence\n",
    "# from keras import utils\n",
    "# from keras import callbacks\n",
    "# from keras import optimizers, models\n",
    "# import keras_metrics\n",
    "# from keras.utils import to_categorical\n",
    "\n",
    "\n",
    "from sklearn import model_selection, preprocessing, metrics\n",
    "import matplotlib.pyplot as plt\n",
    "import zipfile\n",
    "\n",
    "import nltk\n",
    "import re\n",
    "\n",
    "import warnings\n",
    "warnings.filterwarnings('ignore')\n",
    "\n",
    "%matplotlib inline\n",
    "# %load_ext memory_profiler"
   ]
  },
  {
   "cell_type": "code",
   "execution_count": 40,
   "metadata": {
    "ExecuteTime": {
     "end_time": "2019-02-03T19:22:26.300974Z",
     "start_time": "2019-02-03T19:22:26.289134Z"
    }
   },
   "outputs": [],
   "source": [
    "# load data \n",
    "\n",
    "# features \n",
    "current_dir = %pwd\n",
    "dev_raw = pd.read_csv(current_dir+'/data/MCTest/mc160.dev.tsv', header=None, sep='\\t')\n"
   ]
  },
  {
   "cell_type": "code",
   "execution_count": 41,
   "metadata": {
    "ExecuteTime": {
     "end_time": "2019-02-03T19:22:26.347318Z",
     "start_time": "2019-02-03T19:22:26.302407Z"
    }
   },
   "outputs": [],
   "source": [
    "pd.read_csv??"
   ]
  },
  {
   "cell_type": "code",
   "execution_count": 42,
   "metadata": {
    "ExecuteTime": {
     "end_time": "2019-02-03T19:22:26.357552Z",
     "start_time": "2019-02-03T19:22:26.350090Z"
    }
   },
   "outputs": [
    {
     "data": {
      "text/plain": [
       "Int64Index([ 0,  1,  2,  3,  4,  5,  6,  7,  8,  9, 10, 11, 12, 13, 14, 15, 16,\n",
       "            17, 18, 19, 20, 21, 22],\n",
       "           dtype='int64')"
      ]
     },
     "execution_count": 42,
     "metadata": {},
     "output_type": "execute_result"
    }
   ],
   "source": [
    "dev_raw.columns"
   ]
  },
  {
   "cell_type": "code",
   "execution_count": 43,
   "metadata": {
    "ExecuteTime": {
     "end_time": "2019-02-03T19:22:26.382270Z",
     "start_time": "2019-02-03T19:22:26.361505Z"
    }
   },
   "outputs": [
    {
     "data": {
      "text/html": [
       "<div>\n",
       "<style scoped>\n",
       "    .dataframe tbody tr th:only-of-type {\n",
       "        vertical-align: middle;\n",
       "    }\n",
       "\n",
       "    .dataframe tbody tr th {\n",
       "        vertical-align: top;\n",
       "    }\n",
       "\n",
       "    .dataframe thead th {\n",
       "        text-align: right;\n",
       "    }\n",
       "</style>\n",
       "<table border=\"1\" class=\"dataframe\">\n",
       "  <thead>\n",
       "    <tr style=\"text-align: right;\">\n",
       "      <th></th>\n",
       "      <th>0</th>\n",
       "      <th>1</th>\n",
       "      <th>2</th>\n",
       "      <th>3</th>\n",
       "      <th>4</th>\n",
       "      <th>5</th>\n",
       "      <th>6</th>\n",
       "      <th>7</th>\n",
       "      <th>8</th>\n",
       "      <th>9</th>\n",
       "      <th>...</th>\n",
       "      <th>13</th>\n",
       "      <th>14</th>\n",
       "      <th>15</th>\n",
       "      <th>16</th>\n",
       "      <th>17</th>\n",
       "      <th>18</th>\n",
       "      <th>19</th>\n",
       "      <th>20</th>\n",
       "      <th>21</th>\n",
       "      <th>22</th>\n",
       "    </tr>\n",
       "  </thead>\n",
       "  <tbody>\n",
       "    <tr>\n",
       "      <th>0</th>\n",
       "      <td>mc160.dev.0</td>\n",
       "      <td>Author: 2670363255;Work Time(s): 1446</td>\n",
       "      <td>It was Jessie Bear's birthday. She was having ...</td>\n",
       "      <td>one: Who was having a birthday?</td>\n",
       "      <td>Jessie Bear</td>\n",
       "      <td>no one</td>\n",
       "      <td>Lion</td>\n",
       "      <td>Tiger</td>\n",
       "      <td>multiple: Who didn't come to the party?</td>\n",
       "      <td>Lion</td>\n",
       "      <td>...</td>\n",
       "      <td>multiple: How did Jessie get ready for the party?</td>\n",
       "      <td>made cake and juice.</td>\n",
       "      <td>made cake and hung balloons.</td>\n",
       "      <td>made juice and cookies.</td>\n",
       "      <td>made juice and hung balloons.</td>\n",
       "      <td>one: How many friends came to Jessie's party?</td>\n",
       "      <td>one</td>\n",
       "      <td>two</td>\n",
       "      <td>six</td>\n",
       "      <td>four</td>\n",
       "    </tr>\n",
       "  </tbody>\n",
       "</table>\n",
       "<p>1 rows × 23 columns</p>\n",
       "</div>"
      ],
      "text/plain": [
       "            0                                      1   \\\n",
       "0  mc160.dev.0  Author: 2670363255;Work Time(s): 1446   \n",
       "\n",
       "                                                  2   \\\n",
       "0  It was Jessie Bear's birthday. She was having ...   \n",
       "\n",
       "                                3            4       5     6      7   \\\n",
       "0  one: Who was having a birthday?  Jessie Bear  no one  Lion  Tiger   \n",
       "\n",
       "                                        8     9   ...   \\\n",
       "0  multiple: Who didn't come to the party?  Lion  ...    \n",
       "\n",
       "                                                  13                    14  \\\n",
       "0  multiple: How did Jessie get ready for the party?  made cake and juice.   \n",
       "\n",
       "                             15                       16  \\\n",
       "0  made cake and hung balloons.  made juice and cookies.   \n",
       "\n",
       "                              17  \\\n",
       "0  made juice and hung balloons.   \n",
       "\n",
       "                                              18   19   20   21    22  \n",
       "0  one: How many friends came to Jessie's party?  one  two  six  four  \n",
       "\n",
       "[1 rows x 23 columns]"
      ]
     },
     "execution_count": 43,
     "metadata": {},
     "output_type": "execute_result"
    }
   ],
   "source": [
    "dev_raw.head(1)"
   ]
  },
  {
   "cell_type": "code",
   "execution_count": 44,
   "metadata": {
    "ExecuteTime": {
     "end_time": "2019-02-03T19:22:26.393186Z",
     "start_time": "2019-02-03T19:22:26.383945Z"
    }
   },
   "outputs": [
    {
     "data": {
      "text/plain": [
       "30"
      ]
     },
     "execution_count": 44,
     "metadata": {},
     "output_type": "execute_result"
    }
   ],
   "source": [
    "len(dev_raw[3].unique())"
   ]
  },
  {
   "cell_type": "code",
   "execution_count": 45,
   "metadata": {
    "ExecuteTime": {
     "end_time": "2019-02-03T19:22:26.399216Z",
     "start_time": "2019-02-03T19:22:26.394917Z"
    }
   },
   "outputs": [],
   "source": [
    "cols_raw=['id', 'description', 'story',\n",
    "           'q1', 'a11', 'a12', 'a13', 'a14',\n",
    "           'q2', 'a21', 'a22', 'a23', 'a24',\n",
    "           'q3', 'a31', 'a32', 'a33', 'a34',\n",
    "           'q4', 'a41', 'a42', 'a43', 'a44']"
   ]
  },
  {
   "cell_type": "code",
   "execution_count": 46,
   "metadata": {
    "ExecuteTime": {
     "end_time": "2019-02-03T19:22:26.404595Z",
     "start_time": "2019-02-03T19:22:26.400534Z"
    }
   },
   "outputs": [],
   "source": [
    "dev_raw.columns=cols_raw"
   ]
  },
  {
   "cell_type": "code",
   "execution_count": 47,
   "metadata": {
    "ExecuteTime": {
     "end_time": "2019-02-03T19:22:26.428202Z",
     "start_time": "2019-02-03T19:22:26.407146Z"
    }
   },
   "outputs": [
    {
     "data": {
      "text/html": [
       "<div>\n",
       "<style scoped>\n",
       "    .dataframe tbody tr th:only-of-type {\n",
       "        vertical-align: middle;\n",
       "    }\n",
       "\n",
       "    .dataframe tbody tr th {\n",
       "        vertical-align: top;\n",
       "    }\n",
       "\n",
       "    .dataframe thead th {\n",
       "        text-align: right;\n",
       "    }\n",
       "</style>\n",
       "<table border=\"1\" class=\"dataframe\">\n",
       "  <thead>\n",
       "    <tr style=\"text-align: right;\">\n",
       "      <th></th>\n",
       "      <th>id</th>\n",
       "      <th>description</th>\n",
       "      <th>story</th>\n",
       "      <th>q1</th>\n",
       "      <th>a11</th>\n",
       "      <th>a12</th>\n",
       "      <th>a13</th>\n",
       "      <th>a14</th>\n",
       "      <th>q2</th>\n",
       "      <th>a21</th>\n",
       "      <th>...</th>\n",
       "      <th>q3</th>\n",
       "      <th>a31</th>\n",
       "      <th>a32</th>\n",
       "      <th>a33</th>\n",
       "      <th>a34</th>\n",
       "      <th>q4</th>\n",
       "      <th>a41</th>\n",
       "      <th>a42</th>\n",
       "      <th>a43</th>\n",
       "      <th>a44</th>\n",
       "    </tr>\n",
       "  </thead>\n",
       "  <tbody>\n",
       "    <tr>\n",
       "      <th>0</th>\n",
       "      <td>mc160.dev.0</td>\n",
       "      <td>Author: 2670363255;Work Time(s): 1446</td>\n",
       "      <td>It was Jessie Bear's birthday. She was having ...</td>\n",
       "      <td>one: Who was having a birthday?</td>\n",
       "      <td>Jessie Bear</td>\n",
       "      <td>no one</td>\n",
       "      <td>Lion</td>\n",
       "      <td>Tiger</td>\n",
       "      <td>multiple: Who didn't come to the party?</td>\n",
       "      <td>Lion</td>\n",
       "      <td>...</td>\n",
       "      <td>multiple: How did Jessie get ready for the party?</td>\n",
       "      <td>made cake and juice.</td>\n",
       "      <td>made cake and hung balloons.</td>\n",
       "      <td>made juice and cookies.</td>\n",
       "      <td>made juice and hung balloons.</td>\n",
       "      <td>one: How many friends came to Jessie's party?</td>\n",
       "      <td>one</td>\n",
       "      <td>two</td>\n",
       "      <td>six</td>\n",
       "      <td>four</td>\n",
       "    </tr>\n",
       "  </tbody>\n",
       "</table>\n",
       "<p>1 rows × 23 columns</p>\n",
       "</div>"
      ],
      "text/plain": [
       "            id                            description  \\\n",
       "0  mc160.dev.0  Author: 2670363255;Work Time(s): 1446   \n",
       "\n",
       "                                               story  \\\n",
       "0  It was Jessie Bear's birthday. She was having ...   \n",
       "\n",
       "                                q1          a11     a12   a13    a14  \\\n",
       "0  one: Who was having a birthday?  Jessie Bear  no one  Lion  Tiger   \n",
       "\n",
       "                                        q2   a21  ...   \\\n",
       "0  multiple: Who didn't come to the party?  Lion  ...    \n",
       "\n",
       "                                                  q3                   a31  \\\n",
       "0  multiple: How did Jessie get ready for the party?  made cake and juice.   \n",
       "\n",
       "                            a32                      a33  \\\n",
       "0  made cake and hung balloons.  made juice and cookies.   \n",
       "\n",
       "                             a34  \\\n",
       "0  made juice and hung balloons.   \n",
       "\n",
       "                                              q4  a41  a42  a43   a44  \n",
       "0  one: How many friends came to Jessie's party?  one  two  six  four  \n",
       "\n",
       "[1 rows x 23 columns]"
      ]
     },
     "execution_count": 47,
     "metadata": {},
     "output_type": "execute_result"
    }
   ],
   "source": [
    "dev_raw.head(1)"
   ]
  },
  {
   "cell_type": "code",
   "execution_count": 48,
   "metadata": {
    "ExecuteTime": {
     "end_time": "2019-02-03T19:22:26.444403Z",
     "start_time": "2019-02-03T19:22:26.430060Z"
    }
   },
   "outputs": [
    {
     "name": "stdout",
     "output_type": "stream",
     "text": [
      "q1 count MCQ 17 , count SCQ 13\n",
      "q2 count MCQ 13 , count SCQ 17\n",
      "q3 count MCQ 22 , count SCQ 8\n",
      "q4 count MCQ 15 , count SCQ 15\n"
     ]
    }
   ],
   "source": [
    "#Checking multiple and single choice questions\n",
    "for col in ['q1','q2','q3','q4']:\n",
    "    print('{} count MCQ {} , count SCQ {}'.format(col,dev_raw[dev_raw[col].str.contains('multiple:')]['id'].count() ,\n",
    "            dev_raw[dev_raw[col].str.contains('multiple:') == False]['id'].count()))\n"
   ]
  },
  {
   "cell_type": "code",
   "execution_count": 51,
   "metadata": {
    "ExecuteTime": {
     "end_time": "2019-02-03T19:24:34.407345Z",
     "start_time": "2019-02-03T19:24:34.402107Z"
    }
   },
   "outputs": [
    {
     "name": "stdout",
     "output_type": "stream",
     "text": [
      "0 documents with null q1\n",
      "0 documents with null q2\n",
      "0 documents with null q3\n",
      "0 documents with null q4\n"
     ]
    }
   ],
   "source": [
    "for col in ['q1','q2','q3','q4']:\n",
    "    print(\"{} documents with null {}\".format(dev_raw[col].isnull().sum(), col))\n",
    "\n"
   ]
  },
  {
   "cell_type": "code",
   "execution_count": 57,
   "metadata": {
    "ExecuteTime": {
     "end_time": "2019-02-03T19:27:29.620372Z",
     "start_time": "2019-02-03T19:27:29.615055Z"
    }
   },
   "outputs": [],
   "source": [
    "dev_raw['story_words'] = dev_raw.story.str.split().apply(lambda x: len(x))\n"
   ]
  },
  {
   "cell_type": "code",
   "execution_count": 58,
   "metadata": {
    "ExecuteTime": {
     "end_time": "2019-02-03T19:27:34.734749Z",
     "start_time": "2019-02-03T19:27:34.730533Z"
    },
    "scrolled": true
   },
   "outputs": [
    {
     "data": {
      "text/plain": [
       "0     140\n",
       "1     167\n",
       "2     113\n",
       "3     274\n",
       "4     192\n",
       "5     220\n",
       "6     166\n",
       "7     156\n",
       "8     153\n",
       "9     159\n",
       "10    323\n",
       "11    139\n",
       "12    171\n",
       "13    164\n",
       "14    178\n",
       "15    161\n",
       "16     99\n",
       "17    194\n",
       "18    384\n",
       "19    146\n",
       "20    280\n",
       "21    223\n",
       "22    353\n",
       "23    177\n",
       "24    158\n",
       "25    194\n",
       "26    153\n",
       "27    153\n",
       "28    217\n",
       "29    244\n",
       "Name: story_words, dtype: int64"
      ]
     },
     "execution_count": 58,
     "metadata": {},
     "output_type": "execute_result"
    }
   ],
   "source": [
    "dev_raw['story_words'] = dev_raw.story.str.split('').apply(lambda x: len(x))\n",
    "\n"
   ]
  },
  {
   "cell_type": "code",
   "execution_count": 81,
   "metadata": {
    "ExecuteTime": {
     "end_time": "2019-02-03T19:33:44.768796Z",
     "start_time": "2019-02-03T19:33:44.765506Z"
    }
   },
   "outputs": [],
   "source": [
    "pd.options.display.max_columns = 100000\n",
    "pd.options.display.max_rows = 100000\n",
    "pd.options.display.max_colwidth = 100000\n",
    "pd.options.display.width = None\n"
   ]
  },
  {
   "cell_type": "code",
   "execution_count": 89,
   "metadata": {
    "ExecuteTime": {
     "end_time": "2019-02-03T19:38:29.416030Z",
     "start_time": "2019-02-03T19:38:29.409234Z"
    }
   },
   "outputs": [
    {
     "data": {
      "text/plain": [
       "0    [It was Jessie Bear's birthday. She was having a party.  She asked her two best friends to, come to the party.  She made a big cake, and hung up some balloons., , Soon her friend Lion came over. Then her friend Tiger came over. Lion and Tiger brought, presents with them., , Jessie hugged her friends. She asked them if they would like to have cake. , , Yes! said Lion. Yes yes! said Tiger. Jessie cut the cake, and they all ate it together., Then Jessie opened her presents. She got a new jump rope and a fun game.  She asked Lion, and Tiger to play the game with her., , The friends played and played. They all had a good time. Soon it was time for the party to, be over., , Lion and Tiger hugged Jessie and said goodbye to her.  Thanks for a great birthday! Jessie, Bear told her two best friends.]\n",
       "Name: story, dtype: object"
      ]
     },
     "execution_count": 89,
     "metadata": {},
     "output_type": "execute_result"
    }
   ],
   "source": [
    "#Not working\n",
    "dev_raw['story'].head(1).str.split('\\\\\\\\newline').replace(', ,',\" \")"
   ]
  },
  {
   "cell_type": "code",
   "execution_count": 101,
   "metadata": {
    "ExecuteTime": {
     "end_time": "2019-02-03T19:44:18.034279Z",
     "start_time": "2019-02-03T19:44:18.022817Z"
    }
   },
   "outputs": [],
   "source": [
    "#Not working\n",
    "tmp_df['tmp_split']=dev_raw['story'].str.split('\\\\\\\\newline').to_string().split()"
   ]
  },
  {
   "cell_type": "code",
   "execution_count": null,
   "metadata": {},
   "outputs": [],
   "source": [
    "import plotly.plotly as py\n"
   ]
  },
  {
   "cell_type": "code",
   "execution_count": 105,
   "metadata": {
    "ExecuteTime": {
     "end_time": "2019-02-03T19:46:47.247450Z",
     "start_time": "2019-02-03T19:46:47.041139Z"
    }
   },
   "outputs": [
    {
     "data": {
      "text/plain": [
       "(array([ 2.,  6., 10.,  3.,  3.,  1.,  2.,  1.,  1.,  1.]),\n",
       " array([ 99. , 127.5, 156. , 184.5, 213. , 241.5, 270. , 298.5, 327. ,\n",
       "        355.5, 384. ]),\n",
       " <a list of 10 Patch objects>)"
      ]
     },
     "execution_count": 105,
     "metadata": {},
     "output_type": "execute_result"
    },
    {
     "data": {
      "image/png": "[encoded data removed]",
      "text/plain": [
       "<Figure size 432x288 with 1 Axes>"
      ]
     },
     "metadata": {
      "needs_background": "light"
     },
     "output_type": "display_data"
    }
   ],
   "source": [
    "plt.hist(dev_raw['story_words'])"
   ]
  },
  {
   "cell_type": "code",
   "execution_count": 106,
   "metadata": {
    "ExecuteTime": {
     "end_time": "2019-02-03T19:47:11.088702Z",
     "start_time": "2019-02-03T19:47:11.077338Z"
    }
   },
   "outputs": [
    {
     "data": {
      "text/plain": [
       "count     30.000000\n",
       "mean     195.033333\n",
       "std       67.912461\n",
       "min       99.000000\n",
       "25%      153.750000\n",
       "50%      169.000000\n",
       "75%      219.250000\n",
       "max      384.000000\n",
       "Name: story_words, dtype: float64"
      ]
     },
     "execution_count": 106,
     "metadata": {},
     "output_type": "execute_result"
    }
   ],
   "source": [
    "dev_raw['story_words'].describe()"
   ]
  },
  {
   "cell_type": "code",
   "execution_count": null,
   "metadata": {},
   "outputs": [],
   "source": []
  }
 ],
 "metadata": {
  "kernelspec": {
   "display_name": "Python 3",
   "language": "python",
   "name": "python3"
  },
  "language_info": {
   "codemirror_mode": {
    "name": "ipython",
    "version": 3
   },
   "file_extension": ".py",
   "mimetype": "text/x-python",
   "name": "python",
   "nbconvert_exporter": "python",
   "pygments_lexer": "ipython3",
   "version": "3.7.1"
  },
  "varInspector": {
   "cols": {
    "lenName": 16,
    "lenType": 16,
    "lenVar": 40
   },
   "kernels_config": {
    "python": {
     "delete_cmd_postfix": "",
     "delete_cmd_prefix": "del ",
     "library": "var_list.py",
     "varRefreshCmd": "print(var_dic_list())"
    },
    "r": {
     "delete_cmd_postfix": ") ",
     "delete_cmd_prefix": "rm(",
     "library": "var_list.r",
     "varRefreshCmd": "cat(var_dic_list()) "
    }
   },
   "types_to_exclude": [
    "module",
    "function",
    "builtin_function_or_method",
    "instance",
    "_Feature"
   ],
   "window_display": false
  }
 },
 "nbformat": 4,
 "nbformat_minor": 2
}
