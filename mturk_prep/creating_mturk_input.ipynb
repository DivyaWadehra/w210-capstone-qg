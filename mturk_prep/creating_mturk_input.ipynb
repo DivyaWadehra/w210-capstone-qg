{
 "cells": [
  {
   "cell_type": "code",
   "execution_count": 103,
   "metadata": {
    "ExecuteTime": {
     "end_time": "2019-03-19T09:06:23.031932Z",
     "start_time": "2019-03-19T09:06:23.025863Z"
    }
   },
   "outputs": [],
   "source": [
    "import pandas as pd\n",
    "import random;random.seed(1)"
   ]
  },
  {
   "cell_type": "code",
   "execution_count": 104,
   "metadata": {
    "ExecuteTime": {
     "end_time": "2019-03-19T09:06:23.051697Z",
     "start_time": "2019-03-19T09:06:23.034613Z"
    }
   },
   "outputs": [],
   "source": [
    "raw=pd.read_csv(\"Question_Answer_Evaluation.csv\", sep=',', header=0, encoding = \"ISO-8859-1\")"
   ]
  },
  {
   "cell_type": "code",
   "execution_count": 105,
   "metadata": {
    "ExecuteTime": {
     "end_time": "2019-03-19T09:06:23.058931Z",
     "start_time": "2019-03-19T09:06:23.053058Z"
    }
   },
   "outputs": [
    {
     "data": {
      "text/plain": [
       "Index(['ID', 'Source', 'context', 'Questions', 'Unnamed: 4', 'Unnamed: 5',\n",
       "       'Unnamed: 6'],\n",
       "      dtype='object')"
      ]
     },
     "execution_count": 105,
     "metadata": {},
     "output_type": "execute_result"
    }
   ],
   "source": [
    "raw.columns"
   ]
  },
  {
   "cell_type": "code",
   "execution_count": 106,
   "metadata": {
    "ExecuteTime": {
     "end_time": "2019-03-19T09:06:23.066898Z",
     "start_time": "2019-03-19T09:06:23.062058Z"
    }
   },
   "outputs": [],
   "source": [
    "df1=raw.drop(columns=['Unnamed: 4', 'Unnamed: 5','Unnamed: 6'])"
   ]
  },
  {
   "cell_type": "code",
   "execution_count": 107,
   "metadata": {
    "ExecuteTime": {
     "end_time": "2019-03-19T09:06:23.073016Z",
     "start_time": "2019-03-19T09:06:23.070241Z"
    }
   },
   "outputs": [],
   "source": [
    "df1.columns=['ID', 'Source', 'Context', 'Questions']"
   ]
  },
  {
   "cell_type": "code",
   "execution_count": 108,
   "metadata": {
    "ExecuteTime": {
     "end_time": "2019-03-19T09:06:23.078223Z",
     "start_time": "2019-03-19T09:06:23.074550Z"
    }
   },
   "outputs": [
    {
     "data": {
      "text/plain": [
       "Index(['ID', 'Source', 'Context', 'Questions'], dtype='object')"
      ]
     },
     "execution_count": 108,
     "metadata": {},
     "output_type": "execute_result"
    }
   ],
   "source": [
    "df1.columns"
   ]
  },
  {
   "cell_type": "code",
   "execution_count": 109,
   "metadata": {
    "ExecuteTime": {
     "end_time": "2019-03-19T09:06:23.082576Z",
     "start_time": "2019-03-19T09:06:23.079629Z"
    }
   },
   "outputs": [],
   "source": [
    "df2=df1.copy(deep=True)"
   ]
  },
  {
   "cell_type": "code",
   "execution_count": 110,
   "metadata": {
    "ExecuteTime": {
     "end_time": "2019-03-19T09:06:23.088006Z",
     "start_time": "2019-03-19T09:06:23.084324Z"
    }
   },
   "outputs": [
    {
     "data": {
      "text/plain": [
       "(10573, 4)"
      ]
     },
     "execution_count": 110,
     "metadata": {},
     "output_type": "execute_result"
    }
   ],
   "source": [
    "df2.shape"
   ]
  },
  {
   "cell_type": "code",
   "execution_count": 111,
   "metadata": {
    "ExecuteTime": {
     "end_time": "2019-03-19T09:06:23.094303Z",
     "start_time": "2019-03-19T09:06:23.089915Z"
    }
   },
   "outputs": [],
   "source": [
    "df3=df2[df2['ID'].notna()]"
   ]
  },
  {
   "cell_type": "code",
   "execution_count": 112,
   "metadata": {
    "ExecuteTime": {
     "end_time": "2019-03-19T09:06:23.100080Z",
     "start_time": "2019-03-19T09:06:23.096353Z"
    }
   },
   "outputs": [
    {
     "data": {
      "text/plain": [
       "(200, 4)"
      ]
     },
     "execution_count": 112,
     "metadata": {},
     "output_type": "execute_result"
    }
   ],
   "source": [
    "df3.shape"
   ]
  },
  {
   "cell_type": "code",
   "execution_count": 113,
   "metadata": {
    "ExecuteTime": {
     "end_time": "2019-03-19T09:06:23.105270Z",
     "start_time": "2019-03-19T09:06:23.101618Z"
    }
   },
   "outputs": [
    {
     "data": {
      "text/plain": [
       "200"
      ]
     },
     "execution_count": 113,
     "metadata": {},
     "output_type": "execute_result"
    }
   ],
   "source": [
    "df3.shape[0]"
   ]
  },
  {
   "cell_type": "code",
   "execution_count": 114,
   "metadata": {
    "ExecuteTime": {
     "end_time": "2019-03-19T09:06:23.912952Z",
     "start_time": "2019-03-19T09:06:23.106806Z"
    }
   },
   "outputs": [
    {
     "name": "stderr",
     "output_type": "stream",
     "text": [
      "/Users/sdatta/anaconda3/lib/python3.7/site-packages/ipykernel_launcher.py:1: SettingWithCopyWarning: \n",
      "A value is trying to be set on a copy of a slice from a DataFrame.\n",
      "Try using .loc[row_indexer,col_indexer] = value instead\n",
      "\n",
      "See the caveats in the documentation: http://pandas.pydata.org/pandas-docs/stable/indexing.html#indexing-view-versus-copy\n",
      "  \"\"\"Entry point for launching an IPython kernel.\n"
     ]
    }
   ],
   "source": [
    "df3['Questions']=df3['Questions'].replace(',','')"
   ]
  },
  {
   "cell_type": "code",
   "execution_count": 115,
   "metadata": {
    "ExecuteTime": {
     "end_time": "2019-03-19T09:06:24.627251Z",
     "start_time": "2019-03-19T09:06:23.914492Z"
    }
   },
   "outputs": [
    {
     "name": "stderr",
     "output_type": "stream",
     "text": [
      "/Users/sdatta/anaconda3/lib/python3.7/site-packages/ipykernel_launcher.py:1: SettingWithCopyWarning: \n",
      "A value is trying to be set on a copy of a slice from a DataFrame.\n",
      "Try using .loc[row_indexer,col_indexer] = value instead\n",
      "\n",
      "See the caveats in the documentation: http://pandas.pydata.org/pandas-docs/stable/indexing.html#indexing-view-versus-copy\n",
      "  \"\"\"Entry point for launching an IPython kernel.\n"
     ]
    }
   ],
   "source": [
    "df3['ID_Context']='ID-'+df3['ID'].astype(int).astype(str)+'#'+df3['Context']"
   ]
  },
  {
   "cell_type": "code",
   "execution_count": 116,
   "metadata": {
    "ExecuteTime": {
     "end_time": "2019-03-19T09:06:24.635172Z",
     "start_time": "2019-03-19T09:06:24.629218Z"
    }
   },
   "outputs": [
    {
     "data": {
      "text/plain": [
       "0    ID-1#on june 4, 2014, the nfl announced that t...\n",
       "1    ID-2#he had to work at various electrical repa...\n",
       "2    ID-3#in may 2000, the parliament was temporari...\n",
       "3    ID-4#the super bowl 50 halftime show was headl...\n",
       "4    ID-5#he tried to put these ideas to practical ...\n",
       "Name: ID_Context, dtype: object"
      ]
     },
     "execution_count": 116,
     "metadata": {},
     "output_type": "execute_result"
    }
   ],
   "source": [
    "df3['ID_Context'].head()"
   ]
  },
  {
   "cell_type": "code",
   "execution_count": 117,
   "metadata": {
    "ExecuteTime": {
     "end_time": "2019-03-19T09:06:24.639881Z",
     "start_time": "2019-03-19T09:06:24.636807Z"
    }
   },
   "outputs": [],
   "source": [
    "list_rank = list(range(200))\n",
    "random.shuffle(list_rank)"
   ]
  },
  {
   "cell_type": "code",
   "execution_count": 118,
   "metadata": {
    "ExecuteTime": {
     "end_time": "2019-03-19T09:06:24.648868Z",
     "start_time": "2019-03-19T09:06:24.642017Z"
    }
   },
   "outputs": [
    {
     "data": {
      "text/plain": [
       "200"
      ]
     },
     "execution_count": 118,
     "metadata": {},
     "output_type": "execute_result"
    }
   ],
   "source": [
    "len(list_rank)"
   ]
  },
  {
   "cell_type": "code",
   "execution_count": 119,
   "metadata": {
    "ExecuteTime": {
     "end_time": "2019-03-19T09:06:25.324082Z",
     "start_time": "2019-03-19T09:06:24.651011Z"
    }
   },
   "outputs": [
    {
     "name": "stderr",
     "output_type": "stream",
     "text": [
      "/Users/sdatta/anaconda3/lib/python3.7/site-packages/ipykernel_launcher.py:1: SettingWithCopyWarning: \n",
      "A value is trying to be set on a copy of a slice from a DataFrame.\n",
      "Try using .loc[row_indexer,col_indexer] = value instead\n",
      "\n",
      "See the caveats in the documentation: http://pandas.pydata.org/pandas-docs/stable/indexing.html#indexing-view-versus-copy\n",
      "  \"\"\"Entry point for launching an IPython kernel.\n"
     ]
    }
   ],
   "source": [
    "df3['rand_int']=list_rank"
   ]
  },
  {
   "cell_type": "code",
   "execution_count": 120,
   "metadata": {
    "ExecuteTime": {
     "end_time": "2019-03-19T09:06:26.019671Z",
     "start_time": "2019-03-19T09:06:25.329730Z"
    }
   },
   "outputs": [
    {
     "name": "stderr",
     "output_type": "stream",
     "text": [
      "/Users/sdatta/anaconda3/lib/python3.7/site-packages/ipykernel_launcher.py:1: SettingWithCopyWarning: \n",
      "A value is trying to be set on a copy of a slice from a DataFrame\n",
      "\n",
      "See the caveats in the documentation: http://pandas.pydata.org/pandas-docs/stable/indexing.html#indexing-view-versus-copy\n",
      "  \"\"\"Entry point for launching an IPython kernel.\n"
     ]
    }
   ],
   "source": [
    "df3.sort_values(by=['rand_int'], ascending=True, inplace=True)"
   ]
  },
  {
   "cell_type": "code",
   "execution_count": 121,
   "metadata": {
    "ExecuteTime": {
     "end_time": "2019-03-19T09:06:26.029234Z",
     "start_time": "2019-03-19T09:06:26.024385Z"
    }
   },
   "outputs": [
    {
     "name": "stdout",
     "output_type": "stream",
     "text": [
      "ID                                                         171\n",
      "Questions    who did the broncos play in the last week of t...\n",
      "Name: 170, dtype: object\n"
     ]
    }
   ],
   "source": [
    "print(df3.iloc[190][['ID','Questions']].transpose())\n"
   ]
  },
  {
   "cell_type": "code",
   "execution_count": 122,
   "metadata": {
    "ExecuteTime": {
     "end_time": "2019-03-19T09:06:26.033153Z",
     "start_time": "2019-03-19T09:06:26.030747Z"
    }
   },
   "outputs": [],
   "source": [
    "num_columns=10"
   ]
  },
  {
   "cell_type": "code",
   "execution_count": 123,
   "metadata": {
    "ExecuteTime": {
     "end_time": "2019-03-19T09:06:26.039019Z",
     "start_time": "2019-03-19T09:06:26.034819Z"
    }
   },
   "outputs": [
    {
     "data": {
      "text/plain": [
       "182.0"
      ]
     },
     "execution_count": 123,
     "metadata": {},
     "output_type": "execute_result"
    }
   ],
   "source": [
    "df3.iloc[0][0]"
   ]
  },
  {
   "cell_type": "code",
   "execution_count": 125,
   "metadata": {
    "ExecuteTime": {
     "end_time": "2019-03-19T09:06:26.194704Z",
     "start_time": "2019-03-19T09:06:26.047347Z"
    }
   },
   "outputs": [],
   "source": [
    "# row_str=''\n",
    "# idx_final=0\n",
    "# tgt_row_idx = 0\n",
    "# tgt_col_idx = 0\n",
    "\n",
    "\n",
    "# df_final = pd.DataFrame(columns=['context1' ,'question1' ,'context2' ,'question2' ,'context3' ,'question3' ,'context4' ,'question4' ,'context5' ,'question5' ,'context6' ,'question6' ,'context7' ,'question7' ,'context8' ,'question8' ,'context9' ,'question9' ,'context10' ,'question10'])\n",
    "# for src_row_idx in range(df3.shape[0]):\n",
    "#     if ((src_row_idx ==0) or (src_row_idx%num_columns != 0)):\n",
    "#         df_final.loc[tgt_row_idx,df_final.columns[tgt_col_idx]]=str(df3.iloc[src_row_idx]['ID_Context'])\n",
    "#         df_final.loc[tgt_row_idx,df_final.columns[tgt_col_idx+1]]=df3.iloc[src_row_idx]['Questions']\n",
    "#         tgt_col_idx = tgt_col_idx +2\n",
    "#     if ( (src_row_idx%num_columns == 0) and (src_row_idx!=0) ):\n",
    "#         tgt_row_idx = tgt_row_idx +1\n",
    "#         tgt_col_idx = 0\n",
    "#         df_final.loc[tgt_row_idx,df_final.columns[tgt_col_idx]]=str(df3.iloc[src_row_idx]['ID_Context'])\n",
    "#         df_final.loc[tgt_row_idx,df_final.columns[tgt_col_idx+1]]=df3.iloc[src_row_idx]['Questions']\n",
    "#         tgt_col_idx = tgt_col_idx +2\n"
   ]
  },
  {
   "cell_type": "code",
   "execution_count": 137,
   "metadata": {
    "ExecuteTime": {
     "end_time": "2019-03-19T09:14:13.213776Z",
     "start_time": "2019-03-19T09:14:13.004610Z"
    }
   },
   "outputs": [],
   "source": [
    "row_str=''\n",
    "idx_final=0\n",
    "tgt_row_idx = 0\n",
    "tgt_col_idx = 0\n",
    "\n",
    "\n",
    "df_final = pd.DataFrame(columns=['context1','number1','question1','context2','number2','question2','context3','number3','question3','context4','number4','question4','context5','number5','question5','context6','number6','question6','context7','number7','question7','context8','number8','question8','context9','number9','question9','context10','number10','question10'])\n",
    "for src_row_idx in range(df3.shape[0]):\n",
    "    if ((src_row_idx ==0) or (src_row_idx%num_columns != 0)):\n",
    "        df_final.loc[tgt_row_idx,df_final.columns[tgt_col_idx]]=str(df3.iloc[src_row_idx]['Context'])\n",
    "        df_final.loc[tgt_row_idx,df_final.columns[tgt_col_idx+1]]=df3.iloc[src_row_idx]['ID']\n",
    "        df_final.loc[tgt_row_idx,df_final.columns[tgt_col_idx+2]]=df3.iloc[src_row_idx]['Questions']\n",
    "        tgt_col_idx = tgt_col_idx +3\n",
    "    if ( (src_row_idx%num_columns == 0) and (src_row_idx!=0) ):\n",
    "        tgt_row_idx = tgt_row_idx +1\n",
    "        tgt_col_idx = 0\n",
    "        df_final.loc[tgt_row_idx,df_final.columns[tgt_col_idx]]=str(df3.iloc[src_row_idx]['Context'])\n",
    "        df_final.loc[tgt_row_idx,df_final.columns[tgt_col_idx+1]]=str(df3.iloc[src_row_idx]['ID'])\n",
    "        df_final.loc[tgt_row_idx,df_final.columns[tgt_col_idx+2]]=df3.iloc[src_row_idx]['Questions']\n",
    "        tgt_col_idx = tgt_col_idx +3\n",
    "\n"
   ]
  },
  {
   "cell_type": "code",
   "execution_count": 138,
   "metadata": {
    "ExecuteTime": {
     "end_time": "2019-03-19T09:14:14.826218Z",
     "start_time": "2019-03-19T09:14:14.820577Z"
    }
   },
   "outputs": [],
   "source": [
    "df_final.to_csv('./df_final.csv', index=False)"
   ]
  },
  {
   "cell_type": "code",
   "execution_count": 134,
   "metadata": {
    "ExecuteTime": {
     "end_time": "2019-03-19T09:12:19.709026Z",
     "start_time": "2019-03-19T09:12:19.702282Z"
    }
   },
   "outputs": [],
   "source": [
    "df_temp=pd.read_csv('./df_final.csv')"
   ]
  },
  {
   "cell_type": "code",
   "execution_count": 135,
   "metadata": {
    "ExecuteTime": {
     "end_time": "2019-03-19T09:12:21.275113Z",
     "start_time": "2019-03-19T09:12:21.270667Z"
    }
   },
   "outputs": [
    {
     "data": {
      "text/plain": [
       "Index(['context1', 'number1', 'question1', 'context2', 'number2', 'question2',\n",
       "       'context3', 'number3', 'question3', 'context4', 'number4', 'question4',\n",
       "       'context5', 'number5', 'question5', 'context6', 'number6', 'question6',\n",
       "       'context7', 'number7', 'question7', 'context8', 'number8', 'question8',\n",
       "       'context9', 'number9', 'question9', 'context10', 'number10',\n",
       "       'question10'],\n",
       "      dtype='object')"
      ]
     },
     "execution_count": 135,
     "metadata": {},
     "output_type": "execute_result"
    }
   ],
   "source": [
    "df_temp.columns"
   ]
  },
  {
   "cell_type": "code",
   "execution_count": 136,
   "metadata": {
    "ExecuteTime": {
     "end_time": "2019-03-19T09:12:24.198314Z",
     "start_time": "2019-03-19T09:12:24.194265Z"
    }
   },
   "outputs": [
    {
     "data": {
      "text/plain": [
       "0     when did washington university withdraw from t...\n",
       "1     what is the name of the feature that featured ...\n",
       "2     if roman numerals were used in the naming of t...\n",
       "3     what part of luther's career was one of his mo...\n",
       "4                              what does the t-cell do?\n",
       "5     how long has proportionality been recognized a...\n",
       "6               when was the royal proclamation issued?\n",
       "7     in what year was the parliament relocated to t...\n",
       "8     what is one of the most important in central a...\n",
       "9     what kind of territories are being destroyed b...\n",
       "10    along with cologne and duisburg, what other ci...\n",
       "11      what type of architecture did the network have?\n",
       "12    in which year were rodin's works given to the ...\n",
       "13          how many seats are there in the parliament?\n",
       "14    what is the name of the train that serves dest...\n",
       "15    how many names were on the parliamentary website?\n",
       "16    what was the name of the language that the des...\n",
       "17    how many seconds did the new england patriots ...\n",
       "18    what game show debuted on abc in 2007 as a rep...\n",
       "19               who was the leader of sultan muhammad?\n",
       "Name: question10, dtype: object"
      ]
     },
     "execution_count": 136,
     "metadata": {},
     "output_type": "execute_result"
    }
   ],
   "source": [
    "df_temp['question10']"
   ]
  },
  {
   "cell_type": "code",
   "execution_count": null,
   "metadata": {},
   "outputs": [],
   "source": []
  }
 ],
 "metadata": {
  "kernelspec": {
   "display_name": "Python 3",
   "language": "python",
   "name": "python3"
  },
  "language_info": {
   "codemirror_mode": {
    "name": "ipython",
    "version": 3
   },
   "file_extension": ".py",
   "mimetype": "text/x-python",
   "name": "python",
   "nbconvert_exporter": "python",
   "pygments_lexer": "ipython3",
   "version": "3.7.1"
  },
  "varInspector": {
   "cols": {
    "lenName": 16,
    "lenType": 16,
    "lenVar": 40
   },
   "kernels_config": {
    "python": {
     "delete_cmd_postfix": "",
     "delete_cmd_prefix": "del ",
     "library": "var_list.py",
     "varRefreshCmd": "print(var_dic_list())"
    },
    "r": {
     "delete_cmd_postfix": ") ",
     "delete_cmd_prefix": "rm(",
     "library": "var_list.r",
     "varRefreshCmd": "cat(var_dic_list()) "
    }
   },
   "types_to_exclude": [
    "module",
    "function",
    "builtin_function_or_method",
    "instance",
    "_Feature"
   ],
   "window_display": false
  }
 },
 "nbformat": 4,
 "nbformat_minor": 2
}
