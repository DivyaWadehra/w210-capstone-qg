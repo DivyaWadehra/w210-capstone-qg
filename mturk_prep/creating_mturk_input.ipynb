{
 "cells": [
  {
   "cell_type": "code",
   "execution_count": 1,
   "metadata": {
    "ExecuteTime": {
     "end_time": "2019-03-19T07:50:37.744125Z",
     "start_time": "2019-03-19T07:50:37.425357Z"
    }
   },
   "outputs": [],
   "source": [
    "import pandas as pd\n",
    "import random;random.seed(1)"
   ]
  },
  {
   "cell_type": "code",
   "execution_count": 2,
   "metadata": {
    "ExecuteTime": {
     "end_time": "2019-03-19T07:50:37.767403Z",
     "start_time": "2019-03-19T07:50:37.746644Z"
    }
   },
   "outputs": [],
   "source": [
    "raw=pd.read_csv(\"Question_Answer_Evaluation.csv\", sep=',', header=0, encoding = \"ISO-8859-1\")"
   ]
  },
  {
   "cell_type": "code",
   "execution_count": 3,
   "metadata": {
    "ExecuteTime": {
     "end_time": "2019-03-19T07:50:37.776541Z",
     "start_time": "2019-03-19T07:50:37.768876Z"
    }
   },
   "outputs": [
    {
     "data": {
      "text/plain": [
       "Index(['ID', 'Source', 'context', 'Questions', 'Unnamed: 4', 'Unnamed: 5',\n",
       "       'Unnamed: 6'],\n",
       "      dtype='object')"
      ]
     },
     "execution_count": 3,
     "metadata": {},
     "output_type": "execute_result"
    }
   ],
   "source": [
    "raw.columns"
   ]
  },
  {
   "cell_type": "code",
   "execution_count": 4,
   "metadata": {
    "ExecuteTime": {
     "end_time": "2019-03-19T07:50:37.804469Z",
     "start_time": "2019-03-19T07:50:37.779745Z"
    }
   },
   "outputs": [],
   "source": [
    "df1=raw.drop(columns=['Unnamed: 4', 'Unnamed: 5','Unnamed: 6'])"
   ]
  },
  {
   "cell_type": "code",
   "execution_count": 5,
   "metadata": {
    "ExecuteTime": {
     "end_time": "2019-03-19T07:50:37.811706Z",
     "start_time": "2019-03-19T07:50:37.807231Z"
    }
   },
   "outputs": [],
   "source": [
    "df1.columns=['ID', 'Source', 'Context', 'Questions']"
   ]
  },
  {
   "cell_type": "code",
   "execution_count": 6,
   "metadata": {
    "ExecuteTime": {
     "end_time": "2019-03-19T07:50:37.816740Z",
     "start_time": "2019-03-19T07:50:37.813293Z"
    }
   },
   "outputs": [
    {
     "data": {
      "text/plain": [
       "Index(['ID', 'Source', 'Context', 'Questions'], dtype='object')"
      ]
     },
     "execution_count": 6,
     "metadata": {},
     "output_type": "execute_result"
    }
   ],
   "source": [
    "df1.columns"
   ]
  },
  {
   "cell_type": "code",
   "execution_count": 7,
   "metadata": {
    "ExecuteTime": {
     "end_time": "2019-03-19T07:50:37.821120Z",
     "start_time": "2019-03-19T07:50:37.818092Z"
    }
   },
   "outputs": [],
   "source": [
    "df2=df1.copy(deep=True)"
   ]
  },
  {
   "cell_type": "code",
   "execution_count": 8,
   "metadata": {
    "ExecuteTime": {
     "end_time": "2019-03-19T07:50:37.825506Z",
     "start_time": "2019-03-19T07:50:37.822435Z"
    }
   },
   "outputs": [
    {
     "data": {
      "text/plain": [
       "(10573, 4)"
      ]
     },
     "execution_count": 8,
     "metadata": {},
     "output_type": "execute_result"
    }
   ],
   "source": [
    "df2.shape"
   ]
  },
  {
   "cell_type": "code",
   "execution_count": 9,
   "metadata": {
    "ExecuteTime": {
     "end_time": "2019-03-19T07:50:37.831955Z",
     "start_time": "2019-03-19T07:50:37.827652Z"
    }
   },
   "outputs": [],
   "source": [
    "df3=df2[df2['ID'].notna()]"
   ]
  },
  {
   "cell_type": "code",
   "execution_count": 10,
   "metadata": {
    "ExecuteTime": {
     "end_time": "2019-03-19T07:50:37.836866Z",
     "start_time": "2019-03-19T07:50:37.833586Z"
    }
   },
   "outputs": [
    {
     "data": {
      "text/plain": [
       "(200, 4)"
      ]
     },
     "execution_count": 10,
     "metadata": {},
     "output_type": "execute_result"
    }
   ],
   "source": [
    "df3.shape"
   ]
  },
  {
   "cell_type": "code",
   "execution_count": 11,
   "metadata": {
    "ExecuteTime": {
     "end_time": "2019-03-19T07:50:37.841908Z",
     "start_time": "2019-03-19T07:50:37.838582Z"
    }
   },
   "outputs": [
    {
     "data": {
      "text/plain": [
       "200"
      ]
     },
     "execution_count": 11,
     "metadata": {},
     "output_type": "execute_result"
    }
   ],
   "source": [
    "df3.shape[0]"
   ]
  },
  {
   "cell_type": "code",
   "execution_count": null,
   "metadata": {},
   "outputs": [],
   "source": [
    "df3['Questions']=df3['Questions'].replace(',','')"
   ]
  },
  {
   "cell_type": "code",
   "execution_count": 12,
   "metadata": {
    "ExecuteTime": {
     "end_time": "2019-03-19T07:50:37.880781Z",
     "start_time": "2019-03-19T07:50:37.844270Z"
    }
   },
   "outputs": [
    {
     "name": "stderr",
     "output_type": "stream",
     "text": [
      "/Users/sdatta/anaconda3/lib/python3.7/site-packages/ipykernel_launcher.py:1: SettingWithCopyWarning: \n",
      "A value is trying to be set on a copy of a slice from a DataFrame.\n",
      "Try using .loc[row_indexer,col_indexer] = value instead\n",
      "\n",
      "See the caveats in the documentation: http://pandas.pydata.org/pandas-docs/stable/indexing.html#indexing-view-versus-copy\n",
      "  \"\"\"Entry point for launching an IPython kernel.\n"
     ]
    }
   ],
   "source": [
    "df3['ID_Context']='ID#'+df3['ID'].astype(int).astype(str)+'#'+df3['Context']"
   ]
  },
  {
   "cell_type": "code",
   "execution_count": 13,
   "metadata": {
    "ExecuteTime": {
     "end_time": "2019-03-19T07:50:37.887127Z",
     "start_time": "2019-03-19T07:50:37.882297Z"
    }
   },
   "outputs": [
    {
     "data": {
      "text/plain": [
       "0    ID#1#on june 4, 2014, the nfl announced that t...\n",
       "1    ID#2#he had to work at various electrical repa...\n",
       "2    ID#3#in may 2000, the parliament was temporari...\n",
       "3    ID#4#the super bowl 50 halftime show was headl...\n",
       "4    ID#5#he tried to put these ideas to practical ...\n",
       "Name: ID_Context, dtype: object"
      ]
     },
     "execution_count": 13,
     "metadata": {},
     "output_type": "execute_result"
    }
   ],
   "source": [
    "df3['ID_Context'].head()"
   ]
  },
  {
   "cell_type": "code",
   "execution_count": 14,
   "metadata": {
    "ExecuteTime": {
     "end_time": "2019-03-19T07:50:37.891608Z",
     "start_time": "2019-03-19T07:50:37.888546Z"
    }
   },
   "outputs": [],
   "source": [
    "list_rank = list(range(200))\n",
    "random.shuffle(list_rank)"
   ]
  },
  {
   "cell_type": "code",
   "execution_count": 15,
   "metadata": {
    "ExecuteTime": {
     "end_time": "2019-03-19T07:50:37.897029Z",
     "start_time": "2019-03-19T07:50:37.893077Z"
    }
   },
   "outputs": [
    {
     "data": {
      "text/plain": [
       "200"
      ]
     },
     "execution_count": 15,
     "metadata": {},
     "output_type": "execute_result"
    }
   ],
   "source": [
    "len(list_rank)"
   ]
  },
  {
   "cell_type": "code",
   "execution_count": 16,
   "metadata": {
    "ExecuteTime": {
     "end_time": "2019-03-19T07:50:37.923822Z",
     "start_time": "2019-03-19T07:50:37.899388Z"
    }
   },
   "outputs": [
    {
     "name": "stderr",
     "output_type": "stream",
     "text": [
      "/Users/sdatta/anaconda3/lib/python3.7/site-packages/ipykernel_launcher.py:1: SettingWithCopyWarning: \n",
      "A value is trying to be set on a copy of a slice from a DataFrame.\n",
      "Try using .loc[row_indexer,col_indexer] = value instead\n",
      "\n",
      "See the caveats in the documentation: http://pandas.pydata.org/pandas-docs/stable/indexing.html#indexing-view-versus-copy\n",
      "  \"\"\"Entry point for launching an IPython kernel.\n"
     ]
    }
   ],
   "source": [
    "df3['rand_int']=list_rank"
   ]
  },
  {
   "cell_type": "code",
   "execution_count": 17,
   "metadata": {
    "ExecuteTime": {
     "end_time": "2019-03-19T07:50:37.950318Z",
     "start_time": "2019-03-19T07:50:37.926053Z"
    }
   },
   "outputs": [
    {
     "name": "stderr",
     "output_type": "stream",
     "text": [
      "/Users/sdatta/anaconda3/lib/python3.7/site-packages/ipykernel_launcher.py:1: SettingWithCopyWarning: \n",
      "A value is trying to be set on a copy of a slice from a DataFrame\n",
      "\n",
      "See the caveats in the documentation: http://pandas.pydata.org/pandas-docs/stable/indexing.html#indexing-view-versus-copy\n",
      "  \"\"\"Entry point for launching an IPython kernel.\n"
     ]
    }
   ],
   "source": [
    "df3.sort_values(by=['rand_int'], ascending=True, inplace=True)"
   ]
  },
  {
   "cell_type": "code",
   "execution_count": 79,
   "metadata": {
    "ExecuteTime": {
     "end_time": "2019-03-19T08:47:36.723715Z",
     "start_time": "2019-03-19T08:47:36.718785Z"
    }
   },
   "outputs": [
    {
     "name": "stdout",
     "output_type": "stream",
     "text": [
      "ID                                                         171\n",
      "Questions    who did the broncos play in the last week of t...\n",
      "Name: 170, dtype: object\n"
     ]
    }
   ],
   "source": [
    "print(df3.iloc[190][['ID','Questions']].transpose())\n"
   ]
  },
  {
   "cell_type": "code",
   "execution_count": 18,
   "metadata": {
    "ExecuteTime": {
     "end_time": "2019-03-19T07:50:37.958682Z",
     "start_time": "2019-03-19T07:50:37.956078Z"
    }
   },
   "outputs": [],
   "source": [
    "num_columns=10"
   ]
  },
  {
   "cell_type": "code",
   "execution_count": 56,
   "metadata": {
    "ExecuteTime": {
     "end_time": "2019-03-19T08:30:48.944083Z",
     "start_time": "2019-03-19T08:30:48.939898Z"
    }
   },
   "outputs": [
    {
     "data": {
      "text/plain": [
       "182.0"
      ]
     },
     "execution_count": 56,
     "metadata": {},
     "output_type": "execute_result"
    }
   ],
   "source": [
    "df3.iloc[0][0]"
   ]
  },
  {
   "cell_type": "code",
   "execution_count": 42,
   "metadata": {
    "ExecuteTime": {
     "end_time": "2019-03-19T08:03:46.657840Z",
     "start_time": "2019-03-19T08:03:46.544579Z"
    },
    "scrolled": true
   },
   "outputs": [],
   "source": [
    "# row_str=''\n",
    "# idx_final=0\n",
    "# df_final = pd.DataFrame(columns=['context1'])\n",
    "# for row_src in range(df3.shape[0]):\n",
    "#     if row_str == '':\n",
    "#         row_str = row_str + str(df3.iloc[row_src]['ID_Context'])+\",\"+df3.iloc[row_src]['Questions']\n",
    "#     else:\n",
    "#         row_str = row_str + ','+ str(df3.iloc[row_src]['ID_Context'])+\",\"+df3.iloc[row_src]['Questions']\n",
    "        \n",
    "#     if ((row_src%num_columns == 0) & (row_src > 0)):\n",
    "#         df_final.loc[idx_final]=row_str\n",
    "#         idx_final=idx_final+1\n",
    "#         row_str=''\n",
    "# df_final.loc[idx_final]=row_str\n",
    "\n",
    "    "
   ]
  },
  {
   "cell_type": "code",
   "execution_count": 96,
   "metadata": {
    "ExecuteTime": {
     "end_time": "2019-03-19T08:54:21.036711Z",
     "start_time": "2019-03-19T08:54:20.768525Z"
    }
   },
   "outputs": [],
   "source": [
    "row_str=''\n",
    "idx_final=0\n",
    "tgt_row_idx = 0\n",
    "tgt_col_idx = 0\n",
    "\n",
    "\n",
    "df_final = pd.DataFrame(columns=['context1' ,'question1' ,'context2' ,'question2' ,'context3' ,'question3' ,'context4' ,'question4' ,'context5' ,'question5' ,'context6' ,'question6' ,'context7' ,'question7' ,'context8' ,'question8' ,'context9' ,'question9' ,'context10' ,'question10'])\n",
    "for src_row_idx in range(df3.shape[0]):\n",
    "    if ((src_row_idx ==0) or (src_row_idx%num_columns != 0)):\n",
    "        df_final.loc[tgt_row_idx,df_final.columns[tgt_col_idx]]=str(df3.iloc[src_row_idx]['ID_Context'])\n",
    "        df_final.loc[tgt_row_idx,df_final.columns[tgt_col_idx+1]]=df3.iloc[src_row_idx]['Questions']\n",
    "        tgt_col_idx = tgt_col_idx +2\n",
    "    if ( (src_row_idx%num_columns == 0) and (src_row_idx!=0) ):\n",
    "        tgt_row_idx = tgt_row_idx +1\n",
    "        tgt_col_idx = 0\n",
    "        df_final.loc[tgt_row_idx,df_final.columns[tgt_col_idx]]=str(df3.iloc[src_row_idx]['ID_Context'])\n",
    "        df_final.loc[tgt_row_idx,df_final.columns[tgt_col_idx+1]]=df3.iloc[src_row_idx]['Questions']\n",
    "        tgt_col_idx = tgt_col_idx +2\n"
   ]
  },
  {
   "cell_type": "code",
   "execution_count": 97,
   "metadata": {
    "ExecuteTime": {
     "end_time": "2019-03-19T08:54:24.965064Z",
     "start_time": "2019-03-19T08:54:24.961603Z"
    }
   },
   "outputs": [
    {
     "data": {
      "text/plain": [
       "(20, 20)"
      ]
     },
     "execution_count": 97,
     "metadata": {},
     "output_type": "execute_result"
    }
   ],
   "source": [
    "df_final.shape"
   ]
  },
  {
   "cell_type": "code",
   "execution_count": 98,
   "metadata": {
    "ExecuteTime": {
     "end_time": "2019-03-19T08:54:59.331757Z",
     "start_time": "2019-03-19T08:54:59.308207Z"
    }
   },
   "outputs": [
    {
     "data": {
      "text/html": [
       "<div>\n",
       "<style scoped>\n",
       "    .dataframe tbody tr th:only-of-type {\n",
       "        vertical-align: middle;\n",
       "    }\n",
       "\n",
       "    .dataframe tbody tr th {\n",
       "        vertical-align: top;\n",
       "    }\n",
       "\n",
       "    .dataframe thead th {\n",
       "        text-align: right;\n",
       "    }\n",
       "</style>\n",
       "<table border=\"1\" class=\"dataframe\">\n",
       "  <thead>\n",
       "    <tr style=\"text-align: right;\">\n",
       "      <th></th>\n",
       "      <th>context1</th>\n",
       "      <th>question1</th>\n",
       "      <th>context2</th>\n",
       "      <th>question2</th>\n",
       "      <th>context3</th>\n",
       "      <th>question3</th>\n",
       "      <th>context4</th>\n",
       "      <th>question4</th>\n",
       "      <th>context5</th>\n",
       "      <th>question5</th>\n",
       "      <th>context6</th>\n",
       "      <th>question6</th>\n",
       "      <th>context7</th>\n",
       "      <th>question7</th>\n",
       "      <th>context8</th>\n",
       "      <th>question8</th>\n",
       "      <th>context9</th>\n",
       "      <th>question9</th>\n",
       "      <th>context10</th>\n",
       "      <th>question10</th>\n",
       "    </tr>\n",
       "  </thead>\n",
       "  <tbody>\n",
       "    <tr>\n",
       "      <th>15</th>\n",
       "      <td>ID#138#a similar method is the electrocatalyti...</td>\n",
       "      <td>what is the source of oxygen production throug...</td>\n",
       "      <td>ID#177#some of the income was dispensed in the...</td>\n",
       "      <td>what is one of the reason that underdeveloped ...</td>\n",
       "      <td>ID#113#although many plants and factories can ...</td>\n",
       "      <td>where are a bulk of factories concentrated alo...</td>\n",
       "      <td>ID#107#the dornbirner ach had to be diverted, ...</td>\n",
       "      <td>after the dornbirner ach was diverted, where d...</td>\n",
       "      <td>ID#34#however, most of hearst television's 16 ...</td>\n",
       "      <td>how many abc-affiliated stations does the netw...</td>\n",
       "      <td>ID#183#t-cells have a symbiotic relationship w...</td>\n",
       "      <td>what is the nature of the relationship between...</td>\n",
       "      <td>ID#48#oxfam's claims have however been questio...</td>\n",
       "      <td>how much money does the oxfam report have?</td>\n",
       "      <td>ID#26#in the more spiritual or mystical islami...</td>\n",
       "      <td>what is the name of the spiritual school in wh...</td>\n",
       "      <td>ID#157#the war was fought between the colonies...</td>\n",
       "      <td>who fought in the french and indian war?</td>\n",
       "      <td>ID#36#an online petition of over 5,100 names o...</td>\n",
       "      <td>how many names were on the parliamentary website?</td>\n",
       "    </tr>\n",
       "    <tr>\n",
       "      <th>16</th>\n",
       "      <td>ID#29#this is not a valid comparison -- the in...</td>\n",
       "      <td>what does the inner membrane membrane do?</td>\n",
       "      <td>ID#47#its existence was first proved in 1962, ...</td>\n",
       "      <td>in what year was the first annelid gene first ...</td>\n",
       "      <td>ID#156#kublai originally named his eldest son,...</td>\n",
       "      <td>when did zhenjin die?</td>\n",
       "      <td>ID#28#many types of turing machines are used t...</td>\n",
       "      <td>what type of machines are used to define compl...</td>\n",
       "      <td>ID#76#the biodiversity of plant species is the...</td>\n",
       "      <td>how many tree species does the biodiversity of...</td>\n",
       "      <td>ID#144#the style adopted for this part of the ...</td>\n",
       "      <td>what art historical style was used in the deco...</td>\n",
       "      <td>ID#191#tesla's father, in a moment of despair,...</td>\n",
       "      <td>what was tesla's father's original plans for t...</td>\n",
       "      <td>ID#71#osweiler was injured, however, leading t...</td>\n",
       "      <td>how many regular season finals did the taylor ...</td>\n",
       "      <td>ID#44#the style adopted for this part of the m...</td>\n",
       "      <td>what was the name of the building that was con...</td>\n",
       "      <td>ID#33#the descendants of rollo 's vikings and ...</td>\n",
       "      <td>what was the name of the language that the des...</td>\n",
       "    </tr>\n",
       "    <tr>\n",
       "      <th>17</th>\n",
       "      <td>ID#16#the wedding was held on 12 may 1191 at t...</td>\n",
       "      <td>where was richard 's sister?</td>\n",
       "      <td>ID#14#woods retained his position as president...</td>\n",
       "      <td>when did the ceo of nbc leave the board?</td>\n",
       "      <td>ID#153#steam engines can be said to have been ...</td>\n",
       "      <td>along with mills and mines, in what industrial...</td>\n",
       "      <td>ID#165#his work in the formative years of elec...</td>\n",
       "      <td>what \"war\" was tesla involved in?</td>\n",
       "      <td>ID#9#each year, enr compiles and reports on da...</td>\n",
       "      <td>what is the name of the two reports that data ...</td>\n",
       "      <td>ID#78#however, mughal emperors directly patron...</td>\n",
       "      <td>who were the names of the names of the mughal?</td>\n",
       "      <td>ID#132#goldenson also cited interest in japan ...</td>\n",
       "      <td>what japanese network did abc purchase a stake...</td>\n",
       "      <td>ID#89#philo incorrectly surmised that parts of...</td>\n",
       "      <td>what did philo think parts of the air were con...</td>\n",
       "      <td>ID#181#johann sebastian bach included several ...</td>\n",
       "      <td>what did bach base entirely on luther chorales?</td>\n",
       "      <td>ID#17#they then beat the defending super bowl ...</td>\n",
       "      <td>how many seconds did the new england patriots ...</td>\n",
       "    </tr>\n",
       "    <tr>\n",
       "      <th>18</th>\n",
       "      <td>ID#21#as sea-level continued to rise in the ne...</td>\n",
       "      <td>when did the silurian (formation begin?</td>\n",
       "      <td>ID#84#parliamentary time is also set aside for...</td>\n",
       "      <td>what type of time is often used in the debates...</td>\n",
       "      <td>ID#127#the panthers then blew out the arizona ...</td>\n",
       "      <td>who did the panthers play in their division ch...</td>\n",
       "      <td>ID#42#the crew of apollo 8 sent the first live...</td>\n",
       "      <td>what was the name of the first live broadcast ...</td>\n",
       "      <td>ID#123#despite the disagreements on the euchar...</td>\n",
       "      <td>what ruler, besides john of saxony and philip ...</td>\n",
       "      <td>ID#174#on an international level, the price in...</td>\n",
       "      <td>on an international level, which industry's co...</td>\n",
       "      <td>ID#93#the league eventually narrowed the bids ...</td>\n",
       "      <td>what was the name of miami 's sun life stadium?</td>\n",
       "      <td>ID#8#this allowed increased communication and ...</td>\n",
       "      <td>what was the trade between west and asia?</td>\n",
       "      <td>ID#66#since 1974, abc has generally aired dick...</td>\n",
       "      <td>what year did abc begin his eve on new year 's...</td>\n",
       "      <td>ID#168#one of the network's strike-replacement...</td>\n",
       "      <td>what game show debuted on abc in 2007 as a rep...</td>\n",
       "    </tr>\n",
       "    <tr>\n",
       "      <th>19</th>\n",
       "      <td>ID#171#osweiler was injured, however, leading ...</td>\n",
       "      <td>who did the broncos play in the last week of t...</td>\n",
       "      <td>ID#80#cbc began airing series two on 9 october...</td>\n",
       "      <td>when did cbc begin airing airing?</td>\n",
       "      <td>ID#54#luther 's 1541 hymn \"christ unser herr z...</td>\n",
       "      <td>when did jesus 's \"christ\" translate to the sa...</td>\n",
       "      <td>ID#161#however, at wijk bij duurstede, the ned...</td>\n",
       "      <td>where does the nederrijn change it's name?</td>\n",
       "      <td>ID#147#its existence was first proved in 1962,...</td>\n",
       "      <td>who sequenced the first plastome?</td>\n",
       "      <td>ID#198#crosscountry trains serve destinations ...</td>\n",
       "      <td>whose trains serve destinations in yorkshire?</td>\n",
       "      <td>ID#81#johann sebastian bach included several v...</td>\n",
       "      <td>what was the name of the second year that incl...</td>\n",
       "      <td>ID#125#the arrival of satellite television end...</td>\n",
       "      <td>why was abc forced to sell its interests in in...</td>\n",
       "      <td>ID#72#in addition to certification, many educa...</td>\n",
       "      <td>what do students require to teach students in ...</td>\n",
       "      <td>ID#88#i would be doing a service if i killed m...</td>\n",
       "      <td>who was the leader of sultan muhammad?</td>\n",
       "    </tr>\n",
       "  </tbody>\n",
       "</table>\n",
       "</div>"
      ],
      "text/plain": [
       "                                             context1  \\\n",
       "15  ID#138#a similar method is the electrocatalyti...   \n",
       "16  ID#29#this is not a valid comparison -- the in...   \n",
       "17  ID#16#the wedding was held on 12 may 1191 at t...   \n",
       "18  ID#21#as sea-level continued to rise in the ne...   \n",
       "19  ID#171#osweiler was injured, however, leading ...   \n",
       "\n",
       "                                            question1  \\\n",
       "15  what is the source of oxygen production throug...   \n",
       "16          what does the inner membrane membrane do?   \n",
       "17                       where was richard 's sister?   \n",
       "18            when did the silurian (formation begin?   \n",
       "19  who did the broncos play in the last week of t...   \n",
       "\n",
       "                                             context2  \\\n",
       "15  ID#177#some of the income was dispensed in the...   \n",
       "16  ID#47#its existence was first proved in 1962, ...   \n",
       "17  ID#14#woods retained his position as president...   \n",
       "18  ID#84#parliamentary time is also set aside for...   \n",
       "19  ID#80#cbc began airing series two on 9 october...   \n",
       "\n",
       "                                            question2  \\\n",
       "15  what is one of the reason that underdeveloped ...   \n",
       "16  in what year was the first annelid gene first ...   \n",
       "17           when did the ceo of nbc leave the board?   \n",
       "18  what type of time is often used in the debates...   \n",
       "19                  when did cbc begin airing airing?   \n",
       "\n",
       "                                             context3  \\\n",
       "15  ID#113#although many plants and factories can ...   \n",
       "16  ID#156#kublai originally named his eldest son,...   \n",
       "17  ID#153#steam engines can be said to have been ...   \n",
       "18  ID#127#the panthers then blew out the arizona ...   \n",
       "19  ID#54#luther 's 1541 hymn \"christ unser herr z...   \n",
       "\n",
       "                                            question3  \\\n",
       "15  where are a bulk of factories concentrated alo...   \n",
       "16                              when did zhenjin die?   \n",
       "17  along with mills and mines, in what industrial...   \n",
       "18  who did the panthers play in their division ch...   \n",
       "19  when did jesus 's \"christ\" translate to the sa...   \n",
       "\n",
       "                                             context4  \\\n",
       "15  ID#107#the dornbirner ach had to be diverted, ...   \n",
       "16  ID#28#many types of turing machines are used t...   \n",
       "17  ID#165#his work in the formative years of elec...   \n",
       "18  ID#42#the crew of apollo 8 sent the first live...   \n",
       "19  ID#161#however, at wijk bij duurstede, the ned...   \n",
       "\n",
       "                                            question4  \\\n",
       "15  after the dornbirner ach was diverted, where d...   \n",
       "16  what type of machines are used to define compl...   \n",
       "17                  what \"war\" was tesla involved in?   \n",
       "18  what was the name of the first live broadcast ...   \n",
       "19         where does the nederrijn change it's name?   \n",
       "\n",
       "                                             context5  \\\n",
       "15  ID#34#however, most of hearst television's 16 ...   \n",
       "16  ID#76#the biodiversity of plant species is the...   \n",
       "17  ID#9#each year, enr compiles and reports on da...   \n",
       "18  ID#123#despite the disagreements on the euchar...   \n",
       "19  ID#147#its existence was first proved in 1962,...   \n",
       "\n",
       "                                            question5  \\\n",
       "15  how many abc-affiliated stations does the netw...   \n",
       "16  how many tree species does the biodiversity of...   \n",
       "17  what is the name of the two reports that data ...   \n",
       "18  what ruler, besides john of saxony and philip ...   \n",
       "19                  who sequenced the first plastome?   \n",
       "\n",
       "                                             context6  \\\n",
       "15  ID#183#t-cells have a symbiotic relationship w...   \n",
       "16  ID#144#the style adopted for this part of the ...   \n",
       "17  ID#78#however, mughal emperors directly patron...   \n",
       "18  ID#174#on an international level, the price in...   \n",
       "19  ID#198#crosscountry trains serve destinations ...   \n",
       "\n",
       "                                            question6  \\\n",
       "15  what is the nature of the relationship between...   \n",
       "16  what art historical style was used in the deco...   \n",
       "17     who were the names of the names of the mughal?   \n",
       "18  on an international level, which industry's co...   \n",
       "19      whose trains serve destinations in yorkshire?   \n",
       "\n",
       "                                             context7  \\\n",
       "15  ID#48#oxfam's claims have however been questio...   \n",
       "16  ID#191#tesla's father, in a moment of despair,...   \n",
       "17  ID#132#goldenson also cited interest in japan ...   \n",
       "18  ID#93#the league eventually narrowed the bids ...   \n",
       "19  ID#81#johann sebastian bach included several v...   \n",
       "\n",
       "                                            question7  \\\n",
       "15         how much money does the oxfam report have?   \n",
       "16  what was tesla's father's original plans for t...   \n",
       "17  what japanese network did abc purchase a stake...   \n",
       "18    what was the name of miami 's sun life stadium?   \n",
       "19  what was the name of the second year that incl...   \n",
       "\n",
       "                                             context8  \\\n",
       "15  ID#26#in the more spiritual or mystical islami...   \n",
       "16  ID#71#osweiler was injured, however, leading t...   \n",
       "17  ID#89#philo incorrectly surmised that parts of...   \n",
       "18  ID#8#this allowed increased communication and ...   \n",
       "19  ID#125#the arrival of satellite television end...   \n",
       "\n",
       "                                            question8  \\\n",
       "15  what is the name of the spiritual school in wh...   \n",
       "16  how many regular season finals did the taylor ...   \n",
       "17  what did philo think parts of the air were con...   \n",
       "18          what was the trade between west and asia?   \n",
       "19  why was abc forced to sell its interests in in...   \n",
       "\n",
       "                                             context9  \\\n",
       "15  ID#157#the war was fought between the colonies...   \n",
       "16  ID#44#the style adopted for this part of the m...   \n",
       "17  ID#181#johann sebastian bach included several ...   \n",
       "18  ID#66#since 1974, abc has generally aired dick...   \n",
       "19  ID#72#in addition to certification, many educa...   \n",
       "\n",
       "                                            question9  \\\n",
       "15           who fought in the french and indian war?   \n",
       "16  what was the name of the building that was con...   \n",
       "17    what did bach base entirely on luther chorales?   \n",
       "18  what year did abc begin his eve on new year 's...   \n",
       "19  what do students require to teach students in ...   \n",
       "\n",
       "                                            context10  \\\n",
       "15  ID#36#an online petition of over 5,100 names o...   \n",
       "16  ID#33#the descendants of rollo 's vikings and ...   \n",
       "17  ID#17#they then beat the defending super bowl ...   \n",
       "18  ID#168#one of the network's strike-replacement...   \n",
       "19  ID#88#i would be doing a service if i killed m...   \n",
       "\n",
       "                                           question10  \n",
       "15  how many names were on the parliamentary website?  \n",
       "16  what was the name of the language that the des...  \n",
       "17  how many seconds did the new england patriots ...  \n",
       "18  what game show debuted on abc in 2007 as a rep...  \n",
       "19             who was the leader of sultan muhammad?  "
      ]
     },
     "execution_count": 98,
     "metadata": {},
     "output_type": "execute_result"
    }
   ],
   "source": [
    "df_final.tail()"
   ]
  },
  {
   "cell_type": "code",
   "execution_count": 99,
   "metadata": {
    "ExecuteTime": {
     "end_time": "2019-03-19T08:55:58.159467Z",
     "start_time": "2019-03-19T08:55:58.153212Z"
    }
   },
   "outputs": [],
   "source": [
    "df_final.to_csv('./df_final.csv', index=False)"
   ]
  },
  {
   "cell_type": "code",
   "execution_count": 100,
   "metadata": {
    "ExecuteTime": {
     "end_time": "2019-03-19T08:56:03.239997Z",
     "start_time": "2019-03-19T08:56:03.233182Z"
    }
   },
   "outputs": [],
   "source": [
    "df_temp=pd.read_csv('./df_final.csv')"
   ]
  },
  {
   "cell_type": "code",
   "execution_count": 101,
   "metadata": {
    "ExecuteTime": {
     "end_time": "2019-03-19T08:56:05.476872Z",
     "start_time": "2019-03-19T08:56:05.470307Z"
    }
   },
   "outputs": [
    {
     "data": {
      "text/plain": [
       "Index(['context1', 'question1', 'context2', 'question2', 'context3',\n",
       "       'question3', 'context4', 'question4', 'context5', 'question5',\n",
       "       'context6', 'question6', 'context7', 'question7', 'context8',\n",
       "       'question8', 'context9', 'question9', 'context10', 'question10'],\n",
       "      dtype='object')"
      ]
     },
     "execution_count": 101,
     "metadata": {},
     "output_type": "execute_result"
    }
   ],
   "source": [
    "df_temp.columns"
   ]
  },
  {
   "cell_type": "code",
   "execution_count": 102,
   "metadata": {
    "ExecuteTime": {
     "end_time": "2019-03-19T08:56:08.267464Z",
     "start_time": "2019-03-19T08:56:08.259283Z"
    }
   },
   "outputs": [
    {
     "data": {
      "text/plain": [
       "0     when did washington university withdraw from t...\n",
       "1     what is the name of the feature that featured ...\n",
       "2     if roman numerals were used in the naming of t...\n",
       "3     what part of luther's career was one of his mo...\n",
       "4                              what does the t-cell do?\n",
       "5     how long has proportionality been recognized a...\n",
       "6               when was the royal proclamation issued?\n",
       "7     in what year was the parliament relocated to t...\n",
       "8     what is one of the most important in central a...\n",
       "9     what kind of territories are being destroyed b...\n",
       "10    along with cologne and duisburg, what other ci...\n",
       "11      what type of architecture did the network have?\n",
       "12    in which year were rodin's works given to the ...\n",
       "13          how many seats are there in the parliament?\n",
       "14    what is the name of the train that serves dest...\n",
       "15    how many names were on the parliamentary website?\n",
       "16    what was the name of the language that the des...\n",
       "17    how many seconds did the new england patriots ...\n",
       "18    what game show debuted on abc in 2007 as a rep...\n",
       "19               who was the leader of sultan muhammad?\n",
       "Name: question10, dtype: object"
      ]
     },
     "execution_count": 102,
     "metadata": {},
     "output_type": "execute_result"
    }
   ],
   "source": [
    "df_temp['question10']"
   ]
  },
  {
   "cell_type": "code",
   "execution_count": null,
   "metadata": {},
   "outputs": [],
   "source": []
  }
 ],
 "metadata": {
  "kernelspec": {
   "display_name": "Python 3",
   "language": "python",
   "name": "python3"
  },
  "language_info": {
   "codemirror_mode": {
    "name": "ipython",
    "version": 3
   },
   "file_extension": ".py",
   "mimetype": "text/x-python",
   "name": "python",
   "nbconvert_exporter": "python",
   "pygments_lexer": "ipython3",
   "version": "3.7.1"
  },
  "varInspector": {
   "cols": {
    "lenName": 16,
    "lenType": 16,
    "lenVar": 40
   },
   "kernels_config": {
    "python": {
     "delete_cmd_postfix": "",
     "delete_cmd_prefix": "del ",
     "library": "var_list.py",
     "varRefreshCmd": "print(var_dic_list())"
    },
    "r": {
     "delete_cmd_postfix": ") ",
     "delete_cmd_prefix": "rm(",
     "library": "var_list.r",
     "varRefreshCmd": "cat(var_dic_list()) "
    }
   },
   "types_to_exclude": [
    "module",
    "function",
    "builtin_function_or_method",
    "instance",
    "_Feature"
   ],
   "window_display": false
  }
 },
 "nbformat": 4,
 "nbformat_minor": 2
}
