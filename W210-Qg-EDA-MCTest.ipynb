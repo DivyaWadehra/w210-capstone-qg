{
 "cells": [
  {
   "cell_type": "code",
   "execution_count": 237,
   "metadata": {
    "ExecuteTime": {
     "end_time": "2019-02-04T00:53:01.815210Z",
     "start_time": "2019-02-04T00:53:01.567040Z"
    }
   },
   "outputs": [],
   "source": [
    "\n",
    "# import packages \n",
    "#import tensorflow as tf\n",
    "import pandas as pd  \n",
    "import numpy as np \n",
    "import gzip\n",
    "import nltk\n",
    "# from keras.models import Sequential\n",
    "# from keras.layers import LSTM, GRU, Dense, Activation, Dropout, Input, Embedding, Bidirectional, Reshape, Flatten, Conv1D, MaxPooling1D, MaxPool1D, GlobalMaxPool1D, SpatialDropout1D\n",
    "# from keras.preprocessing import text, sequence\n",
    "# from keras import utils\n",
    "# from keras import callbacks\n",
    "# from keras import optimizers, models\n",
    "# import keras_metrics\n",
    "# from keras.utils import to_categorical\n",
    "\n",
    "\n",
    "from sklearn import model_selection, preprocessing, metrics\n",
    "import matplotlib.pyplot as plt\n",
    "import zipfile\n",
    "\n",
    "import io\n",
    "import requests\n",
    "\n",
    "import nltk\n",
    "import re\n",
    "\n",
    "import warnings\n",
    "warnings.filterwarnings('ignore')\n",
    "\n",
    "%matplotlib inline\n",
    "# %load_ext memory_profiler"
   ]
  },
  {
   "cell_type": "code",
   "execution_count": 270,
   "metadata": {
    "ExecuteTime": {
     "end_time": "2019-02-04T01:08:42.869026Z",
     "start_time": "2019-02-04T01:08:41.483078Z"
    }
   },
   "outputs": [],
   "source": [
    "url=\"https://raw.githubusercontent.com/juliabuffinton/w210-capstone-qg/master/data/MCTest/mc160.train.tsv\"\n",
    "content=requests.get(url).content\n",
    "train_raw_160=pd.DataFrame()\n",
    "train_raw_160=pd.read_csv(io.StringIO(content.decode('utf-8')), header=None, sep='\\t')\n"
   ]
  },
  {
   "cell_type": "code",
   "execution_count": 269,
   "metadata": {
    "ExecuteTime": {
     "end_time": "2019-02-04T01:06:34.450063Z",
     "start_time": "2019-02-04T01:06:34.441804Z"
    }
   },
   "outputs": [
    {
     "data": {
      "text/plain": [
       "0     70\n",
       "1     70\n",
       "2     70\n",
       "3     70\n",
       "4     70\n",
       "5     70\n",
       "6     70\n",
       "7     70\n",
       "8     70\n",
       "9     70\n",
       "10    70\n",
       "11    70\n",
       "12    70\n",
       "13    70\n",
       "14    70\n",
       "15    70\n",
       "16    70\n",
       "17    70\n",
       "18    70\n",
       "19    70\n",
       "20    70\n",
       "21    70\n",
       "22    70\n",
       "dtype: int64"
      ]
     },
     "execution_count": 269,
     "metadata": {},
     "output_type": "execute_result"
    }
   ],
   "source": [
    "train_raw_160.count()"
   ]
  },
  {
   "cell_type": "code",
   "execution_count": 247,
   "metadata": {
    "ExecuteTime": {
     "end_time": "2019-02-04T00:59:11.895246Z",
     "start_time": "2019-02-04T00:59:11.740511Z"
    }
   },
   "outputs": [],
   "source": [
    "url=\"https://raw.githubusercontent.com/juliabuffinton/w210-capstone-qg/master/data/MCTest/mc500.train.tsv\"\n",
    "content=requests.get(url).content\n",
    "train_raw_500=pd.DataFrame()\n",
    "train_raw_500 = pd.read_csv(io.StringIO(content.decode('utf-8')), header=None, sep='\\t')\n"
   ]
  },
  {
   "cell_type": "code",
   "execution_count": 267,
   "metadata": {
    "ExecuteTime": {
     "end_time": "2019-02-04T01:04:40.943853Z",
     "start_time": "2019-02-04T01:04:40.939800Z"
    }
   },
   "outputs": [
    {
     "data": {
      "text/plain": [
       "300"
      ]
     },
     "execution_count": 267,
     "metadata": {},
     "output_type": "execute_result"
    }
   ],
   "source": [
    "len(train_raw_500)"
   ]
  },
  {
   "cell_type": "code",
   "execution_count": 248,
   "metadata": {
    "ExecuteTime": {
     "end_time": "2019-02-04T00:59:43.765262Z",
     "start_time": "2019-02-04T00:59:43.760854Z"
    }
   },
   "outputs": [],
   "source": [
    "test_raw=pd.DataFrame()\n",
    "test_raw = pd.concat([train_raw_160,train_raw_500])"
   ]
  },
  {
   "cell_type": "code",
   "execution_count": 249,
   "metadata": {
    "ExecuteTime": {
     "end_time": "2019-02-04T01:00:21.049942Z",
     "start_time": "2019-02-04T01:00:21.046954Z"
    }
   },
   "outputs": [],
   "source": [
    "cols_raw=['id', 'description', 'story',\n",
    "           'q1', 'a11', 'a12', 'a13', 'a14',\n",
    "           'q2', 'a21', 'a22', 'a23', 'a24',\n",
    "           'q3', 'a31', 'a32', 'a33', 'a34',\n",
    "           'q4', 'a41', 'a42', 'a43', 'a44']"
   ]
  },
  {
   "cell_type": "code",
   "execution_count": 250,
   "metadata": {
    "ExecuteTime": {
     "end_time": "2019-02-04T01:00:24.028819Z",
     "start_time": "2019-02-04T01:00:24.025837Z"
    }
   },
   "outputs": [],
   "source": [
    "test_raw.columns=cols_raw"
   ]
  },
  {
   "cell_type": "code",
   "execution_count": 251,
   "metadata": {
    "ExecuteTime": {
     "end_time": "2019-02-04T01:00:26.457469Z",
     "start_time": "2019-02-04T01:00:26.440972Z"
    }
   },
   "outputs": [
    {
     "data": {
      "text/html": [
       "<div>\n",
       "<style scoped>\n",
       "    .dataframe tbody tr th:only-of-type {\n",
       "        vertical-align: middle;\n",
       "    }\n",
       "\n",
       "    .dataframe tbody tr th {\n",
       "        vertical-align: top;\n",
       "    }\n",
       "\n",
       "    .dataframe thead th {\n",
       "        text-align: right;\n",
       "    }\n",
       "</style>\n",
       "<table border=\"1\" class=\"dataframe\">\n",
       "  <thead>\n",
       "    <tr style=\"text-align: right;\">\n",
       "      <th></th>\n",
       "      <th>id</th>\n",
       "      <th>description</th>\n",
       "      <th>story</th>\n",
       "      <th>q1</th>\n",
       "      <th>a11</th>\n",
       "      <th>a12</th>\n",
       "      <th>a13</th>\n",
       "      <th>a14</th>\n",
       "      <th>q2</th>\n",
       "      <th>a21</th>\n",
       "      <th>a22</th>\n",
       "      <th>a23</th>\n",
       "      <th>a24</th>\n",
       "      <th>q3</th>\n",
       "      <th>a31</th>\n",
       "      <th>a32</th>\n",
       "      <th>a33</th>\n",
       "      <th>a34</th>\n",
       "      <th>q4</th>\n",
       "      <th>a41</th>\n",
       "      <th>a42</th>\n",
       "      <th>a43</th>\n",
       "      <th>a44</th>\n",
       "    </tr>\n",
       "  </thead>\n",
       "  <tbody>\n",
       "    <tr>\n",
       "      <th>0</th>\n",
       "      <td>mc160.train.0</td>\n",
       "      <td>Author: 1844466225;Work Time(s): 2383</td>\n",
       "      <td>Tom had to fix some things around the house. He had to fix the door. He had to fix the\\newlinewindow. But before he did anything he had to fix the toilet. Tom called over his best\\newlinefriend Jim to help him. Jim brought with him his friends Molly and Holly. Tom thought that\\newlineJim was going to bring Dolly with him but he didn't. The four of them got to work right\\newlineaway. Fixing the toilet was easy. Fixing the door was also easy but fixing the window was\\newlinevery hard. The window was stuck and could not be opened. They all pushed on the window\\newlinereally hard until finally it opened. Once the window was fixed the four of them made a\\newlinedelicious dinner and talked about all of the good work that they had done. Tom was glad\\newlinethat he had such good friends to help him with his work.</td>\n",
       "      <td>multiple: What was the hardest thing for Tom and his friends to fix?</td>\n",
       "      <td>Door</td>\n",
       "      <td>House</td>\n",
       "      <td>Window</td>\n",
       "      <td>Toilet</td>\n",
       "      <td>one: What did Tom need to fix first?</td>\n",
       "      <td>Door</td>\n",
       "      <td>House</td>\n",
       "      <td>Window</td>\n",
       "      <td>Toilet</td>\n",
       "      <td>multiple: Jim didn't bring which person with him?</td>\n",
       "      <td>Jim</td>\n",
       "      <td>Dolly</td>\n",
       "      <td>Molly</td>\n",
       "      <td>Holly</td>\n",
       "      <td>one: Who was Tom's best friend?</td>\n",
       "      <td>Molly</td>\n",
       "      <td>Holly</td>\n",
       "      <td>Jim</td>\n",
       "      <td>Dolly</td>\n",
       "    </tr>\n",
       "  </tbody>\n",
       "</table>\n",
       "</div>"
      ],
      "text/plain": [
       "              id                            description  \\\n",
       "0  mc160.train.0  Author: 1844466225;Work Time(s): 2383   \n",
       "\n",
       "                                                                                                                                                                                                                                                                                                                                                                                                                                                                                                                                                                                                                                                                                                                                                                                                                                              story  \\\n",
       "0  Tom had to fix some things around the house. He had to fix the door. He had to fix the\\newlinewindow. But before he did anything he had to fix the toilet. Tom called over his best\\newlinefriend Jim to help him. Jim brought with him his friends Molly and Holly. Tom thought that\\newlineJim was going to bring Dolly with him but he didn't. The four of them got to work right\\newlineaway. Fixing the toilet was easy. Fixing the door was also easy but fixing the window was\\newlinevery hard. The window was stuck and could not be opened. They all pushed on the window\\newlinereally hard until finally it opened. Once the window was fixed the four of them made a\\newlinedelicious dinner and talked about all of the good work that they had done. Tom was glad\\newlinethat he had such good friends to help him with his work.   \n",
       "\n",
       "                                                                     q1   a11  \\\n",
       "0  multiple: What was the hardest thing for Tom and his friends to fix?  Door   \n",
       "\n",
       "     a12     a13     a14                                    q2   a21    a22  \\\n",
       "0  House  Window  Toilet  one: What did Tom need to fix first?  Door  House   \n",
       "\n",
       "      a23     a24                                                 q3  a31  \\\n",
       "0  Window  Toilet  multiple: Jim didn't bring which person with him?  Jim   \n",
       "\n",
       "     a32    a33    a34                               q4    a41    a42  a43  \\\n",
       "0  Dolly  Molly  Holly  one: Who was Tom's best friend?  Molly  Holly  Jim   \n",
       "\n",
       "     a44  \n",
       "0  Dolly  "
      ]
     },
     "execution_count": 251,
     "metadata": {},
     "output_type": "execute_result"
    }
   ],
   "source": [
    "test_raw.head(1)"
   ]
  },
  {
   "cell_type": "code",
   "execution_count": 266,
   "metadata": {
    "ExecuteTime": {
     "end_time": "2019-02-04T01:03:56.037135Z",
     "start_time": "2019-02-04T01:03:56.033636Z"
    }
   },
   "outputs": [
    {
     "data": {
      "text/plain": [
       "370"
      ]
     },
     "execution_count": 266,
     "metadata": {},
     "output_type": "execute_result"
    }
   ],
   "source": [
    "len(test_raw)"
   ]
  },
  {
   "cell_type": "code",
   "execution_count": 253,
   "metadata": {
    "ExecuteTime": {
     "end_time": "2019-02-04T01:01:54.961432Z",
     "start_time": "2019-02-04T01:01:54.948813Z"
    }
   },
   "outputs": [
    {
     "name": "stdout",
     "output_type": "stream",
     "text": [
      "q1 count hard(multiple lookup) 204 , count easy(single sentence) 166\n",
      "q2 count hard(multiple lookup) 191 , count easy(single sentence) 179\n",
      "q3 count hard(multiple lookup) 208 , count easy(single sentence) 162\n",
      "q4 count hard(multiple lookup) 198 , count easy(single sentence) 172\n"
     ]
    }
   ],
   "source": [
    "#Checking multiple and single choice questions\n",
    "for col in ['q1','q2','q3','q4']:\n",
    "    print('{} count hard(multiple lookup) {} , count easy(single sentence) {}'.format(col,test_raw[test_raw[col].str.contains('multiple:')]['id'].count() ,\n",
    "            test_raw[test_raw[col].str.contains('multiple:') == False]['id'].count()))\n"
   ]
  },
  {
   "cell_type": "code",
   "execution_count": 254,
   "metadata": {
    "ExecuteTime": {
     "end_time": "2019-02-04T01:02:12.334875Z",
     "start_time": "2019-02-04T01:02:12.329305Z"
    }
   },
   "outputs": [
    {
     "name": "stdout",
     "output_type": "stream",
     "text": [
      "0 documents with null q1\n",
      "0 documents with null q2\n",
      "0 documents with null q3\n",
      "0 documents with null q4\n"
     ]
    }
   ],
   "source": [
    "for col in ['q1','q2','q3','q4']:\n",
    "    print(\"{} documents with null {}\".format(test_raw[col].isnull().sum(), col))\n",
    "\n"
   ]
  },
  {
   "cell_type": "code",
   "execution_count": 255,
   "metadata": {
    "ExecuteTime": {
     "end_time": "2019-02-04T01:02:14.880538Z",
     "start_time": "2019-02-04T01:02:14.877541Z"
    }
   },
   "outputs": [],
   "source": [
    "pd.options.display.max_columns = 100000\n",
    "pd.options.display.max_rows = 100000\n",
    "pd.options.display.max_colwidth = 100000\n",
    "pd.options.display.width = None\n"
   ]
  },
  {
   "cell_type": "code",
   "execution_count": 256,
   "metadata": {
    "ExecuteTime": {
     "end_time": "2019-02-04T01:02:19.019892Z",
     "start_time": "2019-02-04T01:02:19.015410Z"
    },
    "scrolled": true
   },
   "outputs": [],
   "source": [
    "test_raw['story_tmp'] = test_raw['story'].str.replace('\\\\\\\\newline','\\n')"
   ]
  },
  {
   "cell_type": "code",
   "execution_count": 257,
   "metadata": {
    "ExecuteTime": {
     "end_time": "2019-02-04T01:02:25.300516Z",
     "start_time": "2019-02-04T01:02:24.603148Z"
    }
   },
   "outputs": [],
   "source": [
    "test_raw['count_words'] = test_raw['story_tmp'].apply(lambda x : len(nltk.tokenize.word_tokenize(x)))\n"
   ]
  },
  {
   "cell_type": "code",
   "execution_count": 258,
   "metadata": {
    "ExecuteTime": {
     "end_time": "2019-02-04T01:02:30.609409Z",
     "start_time": "2019-02-04T01:02:30.424147Z"
    }
   },
   "outputs": [],
   "source": [
    "test_raw['count_sentences'] = test_raw['story_tmp'].apply(lambda x : len(nltk.tokenize.sent_tokenize(x)))"
   ]
  },
  {
   "cell_type": "code",
   "execution_count": 259,
   "metadata": {
    "ExecuteTime": {
     "end_time": "2019-02-04T01:02:34.863045Z",
     "start_time": "2019-02-04T01:02:34.858694Z"
    }
   },
   "outputs": [],
   "source": [
    "test_raw['count_passages'] = test_raw['story_tmp'].str.count('\\n\\n') +1"
   ]
  },
  {
   "cell_type": "code",
   "execution_count": null,
   "metadata": {},
   "outputs": [],
   "source": [
    "import plotly.plotly as py\n"
   ]
  },
  {
   "cell_type": "code",
   "execution_count": 260,
   "metadata": {
    "ExecuteTime": {
     "end_time": "2019-02-04T01:02:40.172668Z",
     "start_time": "2019-02-04T01:02:40.018022Z"
    }
   },
   "outputs": [
    {
     "data": {
      "text/plain": [
       "(array([ 10., 143., 106.,  72.,  28.,   9.,   0.,   1.,   0.,   1.]),\n",
       " array([ 87. , 149.4, 211.8, 274.2, 336.6, 399. , 461.4, 523.8, 586.2,\n",
       "        648.6, 711. ]),\n",
       " <a list of 10 Patch objects>)"
      ]
     },
     "execution_count": 260,
     "metadata": {},
     "output_type": "execute_result"
    },
    {
     "data": {
      "image/png": "[encoded data removed]",
      "text/plain": [
       "<Figure size 432x288 with 1 Axes>"
      ]
     },
     "metadata": {
      "needs_background": "light"
     },
     "output_type": "display_data"
    }
   ],
   "source": [
    "plt.hist(test_raw['count_words'])"
   ]
  },
  {
   "cell_type": "code",
   "execution_count": 261,
   "metadata": {
    "ExecuteTime": {
     "end_time": "2019-02-04T01:02:48.515987Z",
     "start_time": "2019-02-04T01:02:48.509605Z"
    }
   },
   "outputs": [
    {
     "data": {
      "text/plain": [
       "count    370.000000\n",
       "mean     246.008108\n",
       "std       71.158455\n",
       "min       87.000000\n",
       "25%      194.000000\n",
       "50%      228.500000\n",
       "75%      287.000000\n",
       "max      711.000000\n",
       "Name: count_words, dtype: float64"
      ]
     },
     "execution_count": 261,
     "metadata": {},
     "output_type": "execute_result"
    }
   ],
   "source": [
    "test_raw['count_words'].describe()"
   ]
  },
  {
   "cell_type": "code",
   "execution_count": 262,
   "metadata": {
    "ExecuteTime": {
     "end_time": "2019-02-04T01:02:52.426695Z",
     "start_time": "2019-02-04T01:02:52.282777Z"
    }
   },
   "outputs": [
    {
     "data": {
      "text/plain": [
       "(array([ 34., 114., 124.,  51.,  20.,  13.,   3.,   9.,   1.,   1.]),\n",
       " array([ 7. , 11.8, 16.6, 21.4, 26.2, 31. , 35.8, 40.6, 45.4, 50.2, 55. ]),\n",
       " <a list of 10 Patch objects>)"
      ]
     },
     "execution_count": 262,
     "metadata": {},
     "output_type": "execute_result"
    },
    {
     "data": {
      "image/png": "[encoded data removed]",
      "text/plain": [
       "<Figure size 432x288 with 1 Axes>"
      ]
     },
     "metadata": {
      "needs_background": "light"
     },
     "output_type": "display_data"
    }
   ],
   "source": [
    "plt.hist(test_raw['count_sentences'])"
   ]
  },
  {
   "cell_type": "code",
   "execution_count": 263,
   "metadata": {
    "ExecuteTime": {
     "end_time": "2019-02-04T01:03:01.205645Z",
     "start_time": "2019-02-04T01:03:01.196467Z"
    }
   },
   "outputs": [
    {
     "data": {
      "text/plain": [
       "count    370.000000\n",
       "mean      19.086486\n",
       "std        7.301340\n",
       "min        7.000000\n",
       "25%       14.000000\n",
       "50%       18.000000\n",
       "75%       22.000000\n",
       "max       55.000000\n",
       "Name: count_sentences, dtype: float64"
      ]
     },
     "execution_count": 263,
     "metadata": {},
     "output_type": "execute_result"
    }
   ],
   "source": [
    "test_raw['count_sentences'].describe()"
   ]
  },
  {
   "cell_type": "code",
   "execution_count": 264,
   "metadata": {
    "ExecuteTime": {
     "end_time": "2019-02-04T01:03:03.803291Z",
     "start_time": "2019-02-04T01:03:03.658758Z"
    }
   },
   "outputs": [
    {
     "data": {
      "text/plain": [
       "(array([267.,  50.,  23.,   7.,   9.,   6.,   4.,   2.,   0.,   2.]),\n",
       " array([ 1. ,  2.9,  4.8,  6.7,  8.6, 10.5, 12.4, 14.3, 16.2, 18.1, 20. ]),\n",
       " <a list of 10 Patch objects>)"
      ]
     },
     "execution_count": 264,
     "metadata": {},
     "output_type": "execute_result"
    },
    {
     "data": {
      "image/png": "[encoded data removed]",
      "text/plain": [
       "<Figure size 432x288 with 1 Axes>"
      ]
     },
     "metadata": {
      "needs_background": "light"
     },
     "output_type": "display_data"
    }
   ],
   "source": [
    "plt.hist(test_raw['count_passages'])"
   ]
  },
  {
   "cell_type": "code",
   "execution_count": 265,
   "metadata": {
    "ExecuteTime": {
     "end_time": "2019-02-04T01:03:10.370816Z",
     "start_time": "2019-02-04T01:03:10.363405Z"
    }
   },
   "outputs": [
    {
     "data": {
      "text/plain": [
       "count    370.000000\n",
       "mean       2.467568\n",
       "std        3.021204\n",
       "min        1.000000\n",
       "25%        1.000000\n",
       "50%        1.000000\n",
       "75%        3.000000\n",
       "max       20.000000\n",
       "Name: count_passages, dtype: float64"
      ]
     },
     "execution_count": 265,
     "metadata": {},
     "output_type": "execute_result"
    }
   ],
   "source": [
    "test_raw['count_passages'].describe()"
   ]
  },
  {
   "cell_type": "code",
   "execution_count": null,
   "metadata": {},
   "outputs": [],
   "source": []
  }
 ],
 "metadata": {
  "kernelspec": {
   "display_name": "Python 3",
   "language": "python",
   "name": "python3"
  },
  "language_info": {
   "codemirror_mode": {
    "name": "ipython",
    "version": 3
   },
   "file_extension": ".py",
   "mimetype": "text/x-python",
   "name": "python",
   "nbconvert_exporter": "python",
   "pygments_lexer": "ipython3",
   "version": "3.7.1"
  },
  "varInspector": {
   "cols": {
    "lenName": 16,
    "lenType": 16,
    "lenVar": 40
   },
   "kernels_config": {
    "python": {
     "delete_cmd_postfix": "",
     "delete_cmd_prefix": "del ",
     "library": "var_list.py",
     "varRefreshCmd": "print(var_dic_list())"
    },
    "r": {
     "delete_cmd_postfix": ") ",
     "delete_cmd_prefix": "rm(",
     "library": "var_list.r",
     "varRefreshCmd": "cat(var_dic_list()) "
    }
   },
   "types_to_exclude": [
    "module",
    "function",
    "builtin_function_or_method",
    "instance",
    "_Feature"
   ],
   "window_display": false
  }
 },
 "nbformat": 4,
 "nbformat_minor": 2
}
