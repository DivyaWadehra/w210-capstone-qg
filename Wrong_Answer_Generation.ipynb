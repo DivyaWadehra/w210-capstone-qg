{
 "cells": [
  {
   "cell_type": "code",
   "execution_count": 135,
   "metadata": {},
   "outputs": [],
   "source": [
    "import json\n",
    "import ast\n",
    "import numpy as np\n",
    "import pandas as pd\n",
    "import nltk\n",
    "import spacy\n",
    "from spacy import displacy\n",
    "from collections import Counter\n",
    "import random;random.seed(1)\n",
    "import en_core_web_sm\n",
    "nlp = en_core_web_sm.load()\n",
    "# If your application will benefit from a large vocabulary with more vectors, you should consider using \n",
    "# one of the larger models or loading in a full vector package, for example, en_vectors_web_lg, which \n",
    "# includes over 1 million unique vectors."
   ]
  },
  {
   "cell_type": "code",
   "execution_count": 2,
   "metadata": {},
   "outputs": [],
   "source": [
    "with open('squad-dev-v1.1.json', 'r') as f:\n",
    "    df = json.load(f)"
   ]
  },
  {
   "cell_type": "markdown",
   "metadata": {},
   "source": [
    "#### Test on first two paragraphs of Super Bowl"
   ]
  },
  {
   "cell_type": "code",
   "execution_count": 132,
   "metadata": {},
   "outputs": [
    {
     "name": "stdout",
     "output_type": "stream",
     "text": [
      "Super_Bowl_50\n",
      "Number of paragraphs: 54\n",
      "\n",
      "Paragraph 1: Super Bowl 50 was an American football game to determine the champion of the National Football League (NFL) for the 2015 season. The American Football Conference (AFC) champion Denver Broncos defeated the National Football Conference (NFC) champion Carolina Panthers 24–10 to earn their third Super Bowl title. The game was played on February 7, 2016, at Levi's Stadium in the San Francisco Bay Area at Santa Clara, California. As this was the 50th Super Bowl, the league emphasized the \"golden anniversary\" with various gold-themed initiatives, as well as temporarily suspending the tradition of naming each Super Bowl game with Roman numerals (under which the game would have been known as \"Super Bowl L\"), so that the logo could prominently feature the Arabic numerals 50.\n",
      "\n",
      "P1 Question 1: Which NFL team represented the AFC at Super Bowl 50?\n",
      "\n",
      "P1 Answer 1: [{'answer_start': 177, 'text': 'Denver Broncos'}, {'answer_start': 177, 'text': 'Denver Broncos'}, {'answer_start': 177, 'text': 'Denver Broncos'}]\n",
      "\n",
      "Paragraph 2: The Panthers finished the regular season with a 15–1 record, and quarterback Cam Newton was named the NFL Most Valuable Player (MVP). They defeated the Arizona Cardinals 49–15 in the NFC Championship Game and advanced to their second Super Bowl appearance since the franchise was founded in 1995. The Broncos finished the regular season with a 12–4 record, and denied the New England Patriots a chance to defend their title from Super Bowl XLIX by defeating them 20–18 in the AFC Championship Game. They joined the Patriots, Dallas Cowboys, and Pittsburgh Steelers as one of four teams that have made eight appearances in the Super Bowl.\n",
      "\n",
      "P2 Question 1: Which Carolina Panthers player was named Most Valuable Player?\n",
      "\n",
      "P2 Answer 1: [{'answer_start': 77, 'text': 'Cam Newton'}, {'answer_start': 77, 'text': 'Cam Newton'}, {'answer_start': 77, 'text': 'Cam Newton'}]\n",
      "\n"
     ]
    }
   ],
   "source": [
    "print(df['data'][0]['title'])\n",
    "p_title = df['data'][0]['title']\n",
    "print('Number of paragraphs: ' + str(len(df['data'][0]['paragraphs'])) + '\\n')\n",
    "print('Paragraph 1: ' + str(df['data'][0]['paragraphs'][0]['context'])+ '\\n')\n",
    "p1 = df['data'][0]['paragraphs'][0]['context']\n",
    "print('P1 Question 1: ' + str(df['data'][0]['paragraphs'][0]['qas'][0]['question'])+ '\\n')\n",
    "p1_q = df['data'][0]['paragraphs'][0]['qas'][0]['question']\n",
    "print('P1 Answer 1: ' + str(df['data'][0]['paragraphs'][0]['qas'][0]['answers'])+ '\\n')\n",
    "p1_a = df['data'][0]['paragraphs'][0]['qas'][0]['answers']\n",
    "print('Paragraph 2: ' + str(df['data'][0]['paragraphs'][1]['context'])+ '\\n')\n",
    "p2 = df['data'][0]['paragraphs'][1]['context']\n",
    "print('P2 Question 1: ' + str(df['data'][0]['paragraphs'][1]['qas'][0]['question'])+ '\\n')\n",
    "p2_q = df['data'][0]['paragraphs'][1]['qas'][0]['question']\n",
    "print('P2 Answer 1: ' + str(df['data'][0]['paragraphs'][1]['qas'][0]['answers'])+ '\\n')\n",
    "p2_a = df['data'][0]['paragraphs'][1]['qas'][0]['answers']"
   ]
  },
  {
   "cell_type": "code",
   "execution_count": 150,
   "metadata": {},
   "outputs": [
    {
     "name": "stdout",
     "output_type": "stream",
     "text": [
      "Denver Broncos\n",
      "Cam Newton\n"
     ]
    }
   ],
   "source": [
    "# answers are the same - take text form\n",
    "p1_a = p1_a[0]['text']\n",
    "p2_a = p2_a[0]['text']\n",
    "print(p1_a)\n",
    "print(p2_a)"
   ]
  },
  {
   "cell_type": "markdown",
   "metadata": {},
   "source": [
    "### Types of Answers (from SQuAD paper)\n",
    "- Date\n",
    "- Numeric\n",
    "- Person\n",
    "- Location\n",
    "- Other Entity\n",
    "- Common Noun Phrase\n",
    "- Adjective Phrase (i.e. second-largest)\n",
    "- Verb Phrase (i.e. returned to Earth)\n",
    "- Clause (i.e. to avoid trivialization)\n",
    "- Other (i.e. quietly)"
   ]
  },
  {
   "cell_type": "markdown",
   "metadata": {},
   "source": [
    "### SpaCy - seems to have more detailed entity recognition"
   ]
  },
  {
   "cell_type": "code",
   "execution_count": 22,
   "metadata": {},
   "outputs": [
    {
     "name": "stdout",
     "output_type": "stream",
     "text": [
      "There are 24 entities in this paragraph.\n",
      "Counter({'ORG': 7, 'EVENT': 5, 'DATE': 4, 'NORP': 2, 'GPE': 2, 'PERSON': 1, 'ORDINAL': 1, 'FAC': 1, 'LOC': 1})\n",
      "These are the most frequent terms: [('Super Bowl', 3), ('50', 2), ('American', 1)]\n",
      "These are entities: (Super Bowl, 50, American, the National Football League, NFL, the 2015 season, The American Football Conference, AFC, Denver Broncos, the National Football Conference, Carolina Panthers, third, Super Bowl, February 7, 2016, Levi's Stadium, the San Francisco Bay Area, Santa Clara, California, the 50th Super Bowl, Super Bowl, Roman, Super Bowl L, Arabic, 50)\n",
      "\n",
      "\n",
      "Super Bowl 50 was an American football game to determine the champion of the National Football League (NFL) for the 2015 season. The American Football Conference (AFC) champion Denver Broncos defeated the National Football Conference (NFC) champion Carolina Panthers 24–10 to earn their third Super Bowl title. The game was played on February 7, 2016, at Levi's Stadium in the San Francisco Bay Area at Santa Clara, California. As this was the 50th Super Bowl, the league emphasized the \"golden anniversary\" with various gold-themed initiatives, as well as temporarily suspending the tradition of naming each Super Bowl game with Roman numerals (under which the game would have been known as \"Super Bowl L\"), so that the logo could prominently feature the Arabic numerals 50.\n"
     ]
    }
   ],
   "source": [
    "#extracting named entities\n",
    "article = nlp(p1)\n",
    "print('There are ' + str(len(article.ents)) + ' entities in this paragraph.')\n",
    "labels = [x.label_ for x in article.ents]\n",
    "print(Counter(labels))\n",
    "items = [x.text for x in article.ents]\n",
    "print('These are the most frequent terms: ' + str(Counter(items).most_common(3)))\n",
    "print('These are entities: ' + str(article.ents))\n",
    "print('\\n')\n",
    "print(p1)"
   ]
  },
  {
   "cell_type": "code",
   "execution_count": 41,
   "metadata": {},
   "outputs": [],
   "source": [
    "# see tags\n",
    "ne_pd = pd.DataFrame()\n",
    "ne_pd['entity'] = list(article.ents)\n",
    "ne_pd['label'] = list(labels)\n"
   ]
  },
  {
   "cell_type": "code",
   "execution_count": 46,
   "metadata": {},
   "outputs": [
    {
     "data": {
      "text/html": [
       "<div>\n",
       "<style scoped>\n",
       "    .dataframe tbody tr th:only-of-type {\n",
       "        vertical-align: middle;\n",
       "    }\n",
       "\n",
       "    .dataframe tbody tr th {\n",
       "        vertical-align: top;\n",
       "    }\n",
       "\n",
       "    .dataframe thead th {\n",
       "        text-align: right;\n",
       "    }\n",
       "</style>\n",
       "<table border=\"1\" class=\"dataframe\">\n",
       "  <thead>\n",
       "    <tr style=\"text-align: right;\">\n",
       "      <th></th>\n",
       "      <th>entity</th>\n",
       "      <th>label</th>\n",
       "    </tr>\n",
       "  </thead>\n",
       "  <tbody>\n",
       "    <tr>\n",
       "      <th>0</th>\n",
       "      <td>(Super, Bowl)</td>\n",
       "      <td>EVENT</td>\n",
       "    </tr>\n",
       "    <tr>\n",
       "      <th>1</th>\n",
       "      <td>(50)</td>\n",
       "      <td>DATE</td>\n",
       "    </tr>\n",
       "    <tr>\n",
       "      <th>2</th>\n",
       "      <td>(American)</td>\n",
       "      <td>NORP</td>\n",
       "    </tr>\n",
       "    <tr>\n",
       "      <th>3</th>\n",
       "      <td>(the, National, Football, League)</td>\n",
       "      <td>ORG</td>\n",
       "    </tr>\n",
       "    <tr>\n",
       "      <th>4</th>\n",
       "      <td>(NFL)</td>\n",
       "      <td>ORG</td>\n",
       "    </tr>\n",
       "    <tr>\n",
       "      <th>5</th>\n",
       "      <td>(the, 2015, season)</td>\n",
       "      <td>DATE</td>\n",
       "    </tr>\n",
       "    <tr>\n",
       "      <th>6</th>\n",
       "      <td>(The, American, Football, Conference)</td>\n",
       "      <td>ORG</td>\n",
       "    </tr>\n",
       "    <tr>\n",
       "      <th>7</th>\n",
       "      <td>(AFC)</td>\n",
       "      <td>ORG</td>\n",
       "    </tr>\n",
       "    <tr>\n",
       "      <th>8</th>\n",
       "      <td>(Denver, Broncos)</td>\n",
       "      <td>ORG</td>\n",
       "    </tr>\n",
       "    <tr>\n",
       "      <th>9</th>\n",
       "      <td>(the, National, Football, Conference)</td>\n",
       "      <td>ORG</td>\n",
       "    </tr>\n",
       "  </tbody>\n",
       "</table>\n",
       "</div>"
      ],
      "text/plain": [
       "                                  entity  label\n",
       "0                          (Super, Bowl)  EVENT\n",
       "1                                   (50)   DATE\n",
       "2                             (American)   NORP\n",
       "3      (the, National, Football, League)    ORG\n",
       "4                                  (NFL)    ORG\n",
       "5                    (the, 2015, season)   DATE\n",
       "6  (The, American, Football, Conference)    ORG\n",
       "7                                  (AFC)    ORG\n",
       "8                      (Denver, Broncos)    ORG\n",
       "9  (the, National, Football, Conference)    ORG"
      ]
     },
     "execution_count": 46,
     "metadata": {},
     "output_type": "execute_result"
    }
   ],
   "source": [
    "ne_pd.head(10)"
   ]
  },
  {
   "cell_type": "code",
   "execution_count": 61,
   "metadata": {},
   "outputs": [
    {
     "name": "stdout",
     "output_type": "stream",
     "text": [
      "Denver PROPN compound 382\n",
      "Broncos PROPN ROOT 0\n"
     ]
    }
   ],
   "source": [
    "for token in nlp(p1_a):\n",
    "    print(token.text, token.pos_, token.dep_, token.ent_type)"
   ]
  },
  {
   "cell_type": "code",
   "execution_count": 79,
   "metadata": {},
   "outputs": [
    {
     "name": "stdout",
     "output_type": "stream",
     "text": [
      "The American Football Conference (AFC) champion Denver Broncos defeated the National Football Conference (NFC) champion Carolina Panthers 24–10 to earn their third Super Bowl title.\n"
     ]
    }
   ],
   "source": [
    "for s in sent_list:\n",
    "    if p1_a in s:\n",
    "        print(s)"
   ]
  },
  {
   "cell_type": "markdown",
   "metadata": {},
   "source": [
    "### Generate wrong answer from same sentence"
   ]
  },
  {
   "cell_type": "code",
   "execution_count": 119,
   "metadata": {},
   "outputs": [],
   "source": [
    "article = nlp(p1)\n",
    "# get all named entities in paragraph\n",
    "ent_list = [str(i) for i in list(article.ents)]\n",
    "# get all sentences in paragraph\n",
    "sent_list = [str(i) for i in list(article.sents)]\n",
    "# find sentence that has answer\n",
    "for s in sent_list:\n",
    "    if p1_a in s:\n",
    "        ans_sent = s\n",
    "sentence = nlp(ans_sent)\n",
    "sent_labels = [x.label_ for x in sentence.ents]\n",
    "ne_pd = pd.DataFrame()\n",
    "ne_pd['entity'] = [s.orth_ for s in list(sentence.ents)]\n",
    "ne_pd['label'] = list(sent_labels)\n",
    "# find label of answer in named entity pd\n",
    "ans_label = ne_pd[ne_pd['entity']==p1_a]['label'].values[0]\n",
    "alt_ans_list = list(ne_pd[ne_pd['label']==ans_label]['entity'])\n",
    "#remove correct answers\n",
    "alt_ans_list.remove(p1_a)"
   ]
  },
  {
   "cell_type": "markdown",
   "metadata": {},
   "source": [
    "#### Alternate answers from same sentence"
   ]
  },
  {
   "cell_type": "code",
   "execution_count": 120,
   "metadata": {},
   "outputs": [
    {
     "data": {
      "text/plain": [
       "['The American Football Conference', 'AFC', 'the National Football Conference']"
      ]
     },
     "execution_count": 120,
     "metadata": {},
     "output_type": "execute_result"
    }
   ],
   "source": [
    "alt_ans_list"
   ]
  },
  {
   "cell_type": "markdown",
   "metadata": {},
   "source": [
    "### Generate wrong answer from same paragraph"
   ]
  },
  {
   "cell_type": "code",
   "execution_count": 121,
   "metadata": {},
   "outputs": [],
   "source": [
    "ne_pd_paragraph = pd.DataFrame()\n",
    "ne_pd_paragraph['entity'] = ent_list\n",
    "ne_pd_paragraph['label'] = [x.label_ for x in article.ents]\n",
    "alt_ans_list2 = list(ne_pd_paragraph[ne_pd_paragraph['label']==ans_label]['entity'])\n",
    "#remove correct answers\n",
    "alt_ans_list2.remove(p1_a)"
   ]
  },
  {
   "cell_type": "code",
   "execution_count": 122,
   "metadata": {},
   "outputs": [
    {
     "data": {
      "text/plain": [
       "['the National Football League',\n",
       " 'NFL',\n",
       " 'The American Football Conference',\n",
       " 'AFC',\n",
       " 'the National Football Conference',\n",
       " 'Roman']"
      ]
     },
     "execution_count": 122,
     "metadata": {},
     "output_type": "execute_result"
    }
   ],
   "source": [
    "alt_ans_list2"
   ]
  },
  {
   "cell_type": "markdown",
   "metadata": {},
   "source": [
    "### Generate wrong answer from same topic"
   ]
  },
  {
   "cell_type": "code",
   "execution_count": 136,
   "metadata": {},
   "outputs": [
    {
     "name": "stdout",
     "output_type": "stream",
     "text": [
      "current paragraph index: 0\n",
      "alternate paragraph index: 9\n",
      "\n",
      "Despite waiving longtime running back DeAngelo Williams and losing top wide receiver Kelvin Benjamin to a torn ACL in the preseason, the Carolina Panthers had their best regular season in franchise history, becoming the seventh team to win at least 15 regular season games since the league expanded to a 16-game schedule in 1978. Carolina started the season 14–0, not only setting franchise records for the best start and the longest single-season winning streak, but also posting the best start to a season by an NFC team in NFL history, breaking the 13–0 record previously shared with the 2009 New Orleans Saints and the 2011 Green Bay Packers. With their NFC-best 15–1 regular season record, the Panthers clinched home-field advantage throughout the NFC playoffs for the first time in franchise history. Ten players were selected to the Pro Bowl (the most in franchise history) along with eight All-Pro selections.\n"
     ]
    }
   ],
   "source": [
    "# choose random paragraph from same topic\n",
    "index_list = list(range(len(df['data'][0]['paragraphs'])))\n",
    "# make sure isn't the same paragraph as current paragraph\n",
    "p_index = next((index for (index, d) in enumerate(df['data'][0]['paragraphs']) if d[\"context\"] == p1), None)\n",
    "print('current paragraph index: ' + str(p_index))\n",
    "index_list.remove(p_index)\n",
    "alt_p_index = random.choice(index_list)\n",
    "print('alternate paragraph index: ' + str(alt_p_index) + '\\n')\n",
    "print(df['data'][0]['paragraphs'][alt_p_index]['context'])\n",
    "alt_p = df['data'][0]['paragraphs'][alt_p_index]['context']"
   ]
  },
  {
   "cell_type": "code",
   "execution_count": 137,
   "metadata": {},
   "outputs": [],
   "source": [
    "alt_article = nlp(alt_p)\n",
    "ne_pd_alt_p = pd.DataFrame()\n",
    "ne_pd_alt_p['entity'] = [str(i) for i in list(alt_article.ents)]\n",
    "ne_pd_alt_p['label'] = [x.label_ for x in alt_article.ents]\n",
    "alt_ans_list3 = list(ne_pd_alt_p[ne_pd_alt_p['label']==ans_label]['entity'])"
   ]
  },
  {
   "cell_type": "code",
   "execution_count": 138,
   "metadata": {},
   "outputs": [
    {
     "data": {
      "text/plain": [
       "['ACL',\n",
       " 'the Carolina Panthers',\n",
       " 'NFC',\n",
       " 'NFL',\n",
       " '13–0',\n",
       " 'New Orleans Saints',\n",
       " 'NFC',\n",
       " 'Panthers',\n",
       " 'NFC']"
      ]
     },
     "execution_count": 138,
     "metadata": {},
     "output_type": "execute_result"
    }
   ],
   "source": [
    "alt_ans_list3"
   ]
  },
  {
   "cell_type": "markdown",
   "metadata": {},
   "source": [
    "### Generate wrong answer from different topic"
   ]
  },
  {
   "cell_type": "code",
   "execution_count": 139,
   "metadata": {},
   "outputs": [
    {
     "name": "stdout",
     "output_type": "stream",
     "text": [
      "current topic index: 0\n",
      "alternate topic index: 37\n",
      "\n",
      "Kenya\n"
     ]
    }
   ],
   "source": [
    "# choose random topic\n",
    "topic_list = list(range(len(df['data'])))\n",
    "# make sure isn't the same topic as current topic\n",
    "topic_index = next((index for (index, d) in enumerate(df['data']) if d[\"title\"] == p_title), None)\n",
    "print('current topic index: ' + str(topic_index))\n",
    "topic_list.remove(topic_index)\n",
    "alt_topic_index = random.choice(topic_list)\n",
    "print('alternate topic index: ' + str(alt_topic_index) + '\\n')\n",
    "print(df['data'][alt_topic_index]['title'])\n",
    "alt_topic = df['data'][alt_topic_index]['title']"
   ]
  },
  {
   "cell_type": "code",
   "execution_count": 141,
   "metadata": {},
   "outputs": [
    {
     "name": "stdout",
     "output_type": "stream",
     "text": [
      "['the East African Community (EAC']\n"
     ]
    }
   ],
   "source": [
    "# select first paragraph from topic - option to randomize selection as well\n",
    "alt_topic_article = nlp(df['data'][alt_topic_index]['paragraphs'][0]['context'])\n",
    "ne_pd_alt_topic = pd.DataFrame()\n",
    "ne_pd_alt_topic['entity'] = [str(i) for i in list(alt_topic_article.ents)]\n",
    "ne_pd_alt_topic['label'] = [x.label_ for x in alt_topic_article.ents]\n",
    "alt_ans_list4 = list(ne_pd_alt_topic[ne_pd_alt_topic['label']==ans_label]['entity'])\n",
    "print(alt_ans_list4)"
   ]
  },
  {
   "cell_type": "markdown",
   "metadata": {},
   "source": [
    "### View all wrong answers"
   ]
  },
  {
   "cell_type": "code",
   "execution_count": 153,
   "metadata": {},
   "outputs": [],
   "source": [
    "mergedlist = alt_ans_list + alt_ans_list2 + alt_ans_list3 + alt_ans_list4\n",
    "# see all unique answers\n",
    "wrong_answers = set(mergedlist)"
   ]
  },
  {
   "cell_type": "code",
   "execution_count": 155,
   "metadata": {},
   "outputs": [
    {
     "name": "stdout",
     "output_type": "stream",
     "text": [
      "Paragraph: Super Bowl 50 was an American football game to determine the champion of the National Football League (NFL) for the 2015 season. The American Football Conference (AFC) champion Denver Broncos defeated the National Football Conference (NFC) champion Carolina Panthers 24–10 to earn their third Super Bowl title. The game was played on February 7, 2016, at Levi's Stadium in the San Francisco Bay Area at Santa Clara, California. As this was the 50th Super Bowl, the league emphasized the \"golden anniversary\" with various gold-themed initiatives, as well as temporarily suspending the tradition of naming each Super Bowl game with Roman numerals (under which the game would have been known as \"Super Bowl L\"), so that the logo could prominently feature the Arabic numerals 50.\n",
      "\n",
      "Question: Which NFL team represented the AFC at Super Bowl 50?\n",
      "\n",
      "Answer: Denver Broncos\n",
      "\n",
      "Wrong Answers: ['the National Football Conference', 'The American Football Conference', 'NFL']\n"
     ]
    }
   ],
   "source": [
    "print('Paragraph: ' + str(p1) + '\\n')\n",
    "print('Question: ' + str(p1_q)+ '\\n')\n",
    "print('Answer: ' + str(p1_a) + '\\n')\n",
    "print('Wrong Answers: ' + str(random.sample(wrong_answers,3)))"
   ]
  },
  {
   "cell_type": "markdown",
   "metadata": {},
   "source": [
    "## Generate Wrong Answer Function for Named Entities and Numerical Answer"
   ]
  },
  {
   "cell_type": "code",
   "execution_count": 208,
   "metadata": {},
   "outputs": [],
   "source": [
    "def generate_distractor_ne(topic, paragraph, question, correct_answer):\n",
    "    # tokenize paragraph\n",
    "    article = nlp(paragraph)\n",
    "    # get all named entities in paragraph\n",
    "    ent_list = [str(i) for i in list(article.ents)]\n",
    "    # get all sentences in paragraph\n",
    "    sent_list = [str(i) for i in list(article.sents)]\n",
    "    \n",
    "    ### Generate wrong answer from same sentence ###\n",
    "    # find sentence that has answer\n",
    "    for s in sent_list:\n",
    "        if correct_answer in s:\n",
    "            ans_sent = s\n",
    "    # tokenize sentence\n",
    "    sentence = nlp(ans_sent)\n",
    "    sent_labels = [x.label_ for x in sentence.ents]\n",
    "    # create table of named entities for sentence\n",
    "    ne_pd = pd.DataFrame()\n",
    "    ne_pd['entity'] = [s.orth_ for s in list(sentence.ents)]\n",
    "    ne_pd['label'] = list(sent_labels)\n",
    "    ans_label = ne_pd[ne_pd['entity']==correct_answer]['label'].values[0]\n",
    "    alt_ans_list = list(ne_pd[ne_pd['label']==ans_label]['entity'])\n",
    "    #remove correct answers\n",
    "    alt_ans_list.remove(correct_answer)\n",
    "    \n",
    "    ### Generate wrong answer from same paragraph ###\n",
    "    # create table of named entities for paragraph\n",
    "    ne_pd_paragraph = pd.DataFrame()\n",
    "    ne_pd_paragraph['entity'] = ent_list\n",
    "    ne_pd_paragraph['label'] = [x.label_ for x in article.ents]\n",
    "    alt_ans_list2 = list(ne_pd_paragraph[ne_pd_paragraph['label']==ans_label]['entity'])\n",
    "    #remove correct answers\n",
    "    alt_ans_list2.remove(correct_answer)\n",
    "    \n",
    "    \n",
    "    ### Generate wrong answer from different topic ###\n",
    "    # choose random topic\n",
    "    topic_list = list(range(len(df['data'])))\n",
    "    # make sure isn't the same topic as current topic\n",
    "    topic_index = next((index for (index, d) in enumerate(df['data']) if d[\"title\"] == topic), None)\n",
    "    #print('current topic index: ' + str(topic_index))\n",
    "    topic_list.remove(topic_index)\n",
    "    alt_topic_index = random.choice(topic_list)\n",
    "    #print('alternate topic index: ' + str(alt_topic_index) + '\\n')\n",
    "    #print(df['data'][alt_topic_index]['title'])\n",
    "    alt_topic = df['data'][alt_topic_index]['title']\n",
    "    # select first paragraph from topic - option to randomize selection as well\n",
    "    alt_topic_article = nlp(df['data'][alt_topic_index]['paragraphs'][0]['context'])\n",
    "    # create table of named entities for alternative topic paragraph\n",
    "    ne_pd_alt_topic = pd.DataFrame()\n",
    "    ne_pd_alt_topic['entity'] = [str(i) for i in list(alt_topic_article.ents)]\n",
    "    ne_pd_alt_topic['label'] = [x.label_ for x in alt_topic_article.ents]\n",
    "    alt_ans_list4 = list(ne_pd_alt_topic[ne_pd_alt_topic['label']==ans_label]['entity'])\n",
    "    #print(alt_ans_list4)\n",
    "    \n",
    "    ### Generate wrong answer from same topic ###\n",
    "    # choose random paragraph from same topic\n",
    "    index_list = list(range(len(df['data'][topic_index]['paragraphs'])))\n",
    "    # make sure isn't the same paragraph as current paragraph\n",
    "    p_index = next((index for (index, d) in enumerate(df['data'][topic_index]['paragraphs'])\\\n",
    "                    if d[\"context\"] == paragraph), None)\n",
    "    #print('current paragraph index: ' + str(p_index))\n",
    "    index_list.remove(p_index)\n",
    "    alt_p_index = random.choice(index_list)\n",
    "    #print('alternate paragraph index: ' + str(alt_p_index) + '\\n')\n",
    "    #print(df['data'][topic_index]['paragraphs'][alt_p_index]['context'])\n",
    "    alt_p = df['data'][topic_index]['paragraphs'][alt_p_index]['context']\n",
    "    alt_article = nlp(alt_p)\n",
    "    # create table of named entities for alternate paragraph of same topic\n",
    "    ne_pd_alt_p = pd.DataFrame()\n",
    "    ne_pd_alt_p['entity'] = [str(i) for i in list(alt_article.ents)]\n",
    "    ne_pd_alt_p['label'] = [x.label_ for x in alt_article.ents]\n",
    "    alt_ans_list3 = list(ne_pd_alt_p[ne_pd_alt_p['label']==ans_label]['entity'])\n",
    "    \n",
    "    \n",
    "    mergedlist = alt_ans_list + alt_ans_list2 + alt_ans_list3 + alt_ans_list4\n",
    "    # see all unique answers\n",
    "    wrong_answers = set(mergedlist)\n",
    "    return (topic, paragraph, question, correct_answer, random.sample(wrong_answers,3))\n"
   ]
  },
  {
   "cell_type": "code",
   "execution_count": 199,
   "metadata": {},
   "outputs": [
    {
     "name": "stdout",
     "output_type": "stream",
     "text": [
      "Topic: Super_Bowl_50\n",
      "\n",
      "Paragraph: Super Bowl 50 was an American football game to determine the champion of the National Football League (NFL) for the 2015 season. The American Football Conference (AFC) champion Denver Broncos defeated the National Football Conference (NFC) champion Carolina Panthers 24–10 to earn their third Super Bowl title. The game was played on February 7, 2016, at Levi's Stadium in the San Francisco Bay Area at Santa Clara, California. As this was the 50th Super Bowl, the league emphasized the \"golden anniversary\" with various gold-themed initiatives, as well as temporarily suspending the tradition of naming each Super Bowl game with Roman numerals (under which the game would have been known as \"Super Bowl L\"), so that the logo could prominently feature the Arabic numerals 50.\n",
      "\n",
      "Question: Which NFL team represented the AFC at Super Bowl 50?\n",
      "\n",
      "Answer: Denver Broncos\n",
      "\n",
      "Wrong Answers: ['Mongols', 'The American Football Conference', 'the National Football League']\n"
     ]
    }
   ],
   "source": [
    "topic, paragraph, question, answer, wrong_answer = generate_distractor(p_title, p1, p1_q, p1_a)\n",
    "print('Topic: ' + str(topic) + '\\n')\n",
    "print('Paragraph: ' + str(paragraph) + '\\n')\n",
    "print('Question: ' + str(question)+ '\\n')\n",
    "print('Answer: ' + str(answer) + '\\n')\n",
    "print('Wrong Answers: ' + str(wrong_answer))"
   ]
  },
  {
   "cell_type": "code",
   "execution_count": 215,
   "metadata": {},
   "outputs": [
    {
     "name": "stdout",
     "output_type": "stream",
     "text": [
      "Correct Answer: 1816\n"
     ]
    }
   ],
   "source": [
    "#### Test Example for numerical answer\n",
    "test_num_topic = df['data'][1]['title']\n",
    "test_num = df['data'][1]['paragraphs'][5]['context']\n",
    "test_num_q = df['data'][1]['paragraphs'][5]['qas'][0]['question']\n",
    "test_num_a = df['data'][1]['paragraphs'][5]['qas'][0]['answers'][0]['text']\n",
    "print('Correct Answer: ' + str(df['data'][1]['paragraphs'][5]['qas'][0]['answers'][0]['text']))"
   ]
  },
  {
   "cell_type": "code",
   "execution_count": 200,
   "metadata": {},
   "outputs": [
    {
     "name": "stdout",
     "output_type": "stream",
     "text": [
      "Topic: Warsaw\n",
      "\n",
      "Paragraph: Another important library – the University Library, founded in 1816, is home to over two million items. The building was designed by architects Marek Budzyński and Zbigniew Badowski and opened on 15 December 1999. It is surrounded by green. The University Library garden, designed by Irena Bajerska, was opened on 12 June 2002. It is one of the largest and most beautiful roof gardens in Europe with an area of more than 10,000 m2 (107,639.10 sq ft), and plants covering 5,111 m2 (55,014.35 sq ft). As the university garden it is open to the public every day.\n",
      "\n",
      "Question: When was the University Library founded?\n",
      "\n",
      "Answer: 1816\n",
      "\n",
      "Wrong Answers: ['15 December 1999', 'the year 1313', '1815']\n"
     ]
    },
    {
     "name": "stderr",
     "output_type": "stream",
     "text": [
      "/Users/joannahuang/anaconda3/lib/python3.6/site-packages/pandas/core/ops.py:1649: FutureWarning: elementwise comparison failed; returning scalar instead, but in the future will perform elementwise comparison\n",
      "  result = method(y)\n"
     ]
    }
   ],
   "source": [
    "topic, paragraph, question, answer, wrong_answer = generate_distractor(test_num_topic, test_num, test_num_q, test_num_a)\n",
    "print('Topic: ' + str(topic) + '\\n')\n",
    "print('Paragraph: ' + str(paragraph) + '\\n')\n",
    "print('Question: ' + str(question)+ '\\n')\n",
    "print('Answer: ' + str(answer) + '\\n')\n",
    "print('Wrong Answers: ' + str(wrong_answer))"
   ]
  },
  {
   "cell_type": "markdown",
   "metadata": {},
   "source": [
    "## Generate Wrong Answer Function for Noun Phrases"
   ]
  },
  {
   "cell_type": "code",
   "execution_count": 284,
   "metadata": {},
   "outputs": [],
   "source": [
    "def generate_distractor_np(topic, paragraph, question, correct_answer):\n",
    "    # get length of answer\n",
    "    correct_answer_len = len(correct_answer)\n",
    "    print('correct answer: ' + str(correct_answer))\n",
    "    print('length: ' + str(correct_answer_len))\n",
    "    # tokenize paragraph\n",
    "    article = nlp(paragraph)\n",
    "    # get all named entities in paragraph\n",
    "    np_list = [str(i) for i in list(article.noun_chunks)]\n",
    "    # get all sentences in paragraph\n",
    "    sent_list = [str(i) for i in list(article.sents)]\n",
    "    \n",
    "    ### Generate wrong answer from same sentence ###\n",
    "    # find sentence that has answer\n",
    "    print(correct_answer)\n",
    "    for s in sent_list:\n",
    "        if correct_answer in s:\n",
    "            ans_sent = s\n",
    "    # tokenize sentence\n",
    "    sentence = nlp(ans_sent)\n",
    "    sent_np_list = [s.orth_ for s in list(sentence.noun_chunks)]\n",
    "    try:\n",
    "        sent_np_list.remove(correct_answer)\n",
    "        sent_np_list = [noun for noun in sent_np_list if len(noun)==correct_answer_len]\n",
    "    except:\n",
    "        pass\n",
    "    \n",
    "    ### Generate wrong answer from same paragraph ###\n",
    "    try:\n",
    "        np_list.remove(correct_answer)\n",
    "        np_list = [noun for noun in np_list if len(noun)==correct_answer_len]\n",
    "    except:\n",
    "        pass\n",
    "    \n",
    "    ### Generate wrong answer from different topic ###\n",
    "    # choose random topic\n",
    "    topic_list = list(range(len(df['data'])))\n",
    "    # make sure isn't the same topic as current topic\n",
    "    topic_index = next((index for (index, d) in enumerate(df['data']) if d[\"title\"] == topic), None)\n",
    "    topic_list.remove(topic_index)\n",
    "    alt_topic_index = random.choice(topic_list)\n",
    "    alt_topic = df['data'][alt_topic_index]['title']\n",
    "    # select first paragraph from topic - option to randomize selection as well\n",
    "    alt_topic_article = nlp(df['data'][alt_topic_index]['paragraphs'][0]['context'])\n",
    "    # get all named entities in paragraph\n",
    "    alt_topic_np_list = [str(i) for i in list(alt_topic_article.noun_chunks)]\n",
    "    try:\n",
    "        alt_topic_np_list.remove(correct_answer)\n",
    "        alt_topic_np_list = [noun for noun in alt_topic_np_list if len(noun)==correct_answer_len]\n",
    "    except:\n",
    "        pass\n",
    "    \n",
    "    ### Generate wrong answer from same topic ###\n",
    "    # choose random paragraph from same topic\n",
    "    index_list = list(range(len(df['data'][topic_index]['paragraphs'])))\n",
    "    # make sure isn't the same paragraph as current paragraph\n",
    "    p_index = next((index for (index, d) in enumerate(df['data'][topic_index]['paragraphs'])\\\n",
    "                    if d[\"context\"] == paragraph), None)\n",
    "    index_list.remove(p_index)\n",
    "    alt_p_index = random.choice(index_list)\n",
    "    alt_p = df['data'][topic_index]['paragraphs'][alt_p_index]['context']\n",
    "    alt_article = nlp(alt_p)\n",
    "    # create table of named entities for alternate paragraph of same topic\n",
    "    alt_article_np_list = [str(i) for i in list(alt_article.noun_chunks)]\n",
    "    try:\n",
    "        alt_article_np_list.remove(correct_answer)\n",
    "        alt_article_np_list = [noun for noun in alt_article_np_list if len(noun)==correct_answer_len]\n",
    "    except:\n",
    "        pass\n",
    "    \n",
    "    \n",
    "    mergedlist = sent_np_list+np_list+alt_topic_np_list+alt_article_np_list\n",
    "    # see all unique answers\n",
    "    wrong_answers = set(mergedlist)\n",
    "    return (topic, paragraph, question, correct_answer, random.sample(wrong_answers,3))\n",
    "    "
   ]
  },
  {
   "cell_type": "code",
   "execution_count": 272,
   "metadata": {},
   "outputs": [
    {
     "name": "stdout",
     "output_type": "stream",
     "text": [
      "Correct Answer: Modern English\n"
     ]
    }
   ],
   "source": [
    "#### Test Example for noun phrase answer - short phrase\n",
    "test_np_topic = df['data'][2]['title']\n",
    "test_np = df['data'][2]['paragraphs'][21]['context']\n",
    "test_np_q = df['data'][2]['paragraphs'][21]['qas'][0]['question']\n",
    "test_np_a = df['data'][2]['paragraphs'][21]['qas'][0]['answers'][0]['text']\n",
    "print('Correct Answer: ' + str(test_np_a))"
   ]
  },
  {
   "cell_type": "code",
   "execution_count": 277,
   "metadata": {},
   "outputs": [
    {
     "name": "stdout",
     "output_type": "stream",
     "text": [
      "correct answer: Modern English\n",
      "length: 14\n",
      "Modern English\n",
      "Topic: Normans\n",
      "\n",
      "Paragraph: Eventually, the Normans merged with the natives, combining languages and traditions. In the course of the Hundred Years' War, the Norman aristocracy often identified themselves as English. The Anglo-Norman language became distinct from the Latin language, something that was the subject of some humour by Geoffrey Chaucer. The Anglo-Norman language was eventually absorbed into the Anglo-Saxon language of their subjects (see Old English) and influenced it, helping (along with the Norse language of the earlier Anglo-Norse settlers and the Latin used by the church) in the development of Middle English. It in turn evolved into Modern English.\n",
      "\n",
      "Question: What was the Anglo-Norman language's final form?\n",
      "\n",
      "Answer: Modern English\n",
      "\n",
      "Wrong Answers: ['the history', 'English- and German-speaking countries', 'It']\n"
     ]
    }
   ],
   "source": [
    "topic, paragraph, question, answer, wrong_answer = generate_distractor_np(test_np_topic, test_np, test_np_q, test_np_a)\n",
    "print('Topic: ' + str(topic) + '\\n')\n",
    "print('Paragraph: ' + str(paragraph) + '\\n')\n",
    "print('Question: ' + str(question)+ '\\n')\n",
    "print('Answer: ' + str(answer) + '\\n')\n",
    "print('Wrong Answers: ' + str(wrong_answer))"
   ]
  },
  {
   "cell_type": "code",
   "execution_count": 278,
   "metadata": {},
   "outputs": [
    {
     "name": "stdout",
     "output_type": "stream",
     "text": [
      "Correct Answer: $60,000 in cash and stock and a royalty of $2.50 per AC horsepower produced by each motor\n"
     ]
    }
   ],
   "source": [
    "#### Test Example for noun phrase answer - long phrase\n",
    "test_np2_topic = df['data'][3]['title']\n",
    "test_np2 = df['data'][3]['paragraphs'][21]['context']\n",
    "test_np2_q = df['data'][3]['paragraphs'][21]['qas'][1]['question']\n",
    "test_np2_a = df['data'][3]['paragraphs'][21]['qas'][1]['answers'][0]['text']\n",
    "print('Correct Answer: ' + str(test_np2_a))"
   ]
  },
  {
   "cell_type": "code",
   "execution_count": 285,
   "metadata": {},
   "outputs": [
    {
     "name": "stdout",
     "output_type": "stream",
     "text": [
      "correct answer: $60,000 in cash and stock and a royalty of $2.50 per AC horsepower produced by each motor\n",
      "length: 89\n",
      "$60,000 in cash and stock and a royalty of $2.50 per AC horsepower produced by each motor\n",
      "Topic: Nikola_Tesla\n",
      "\n",
      "Paragraph: In July 1888, Brown and Peck negotiated a licensing deal with George Westinghouse for Tesla's polyphase induction motor and transformer designs for $60,000 in cash and stock and a royalty of $2.50 per AC horsepower produced by each motor. Westinghouse also hired Tesla for one year for the large fee of $2,000 ($52,700 in today's dollars) per month to be a consultant at the Westinghouse Electric & Manufacturing Company's Pittsburgh labs.\n",
      "\n",
      "Question: How much did Westinghouse pay to license Tesla's designs?\n",
      "\n",
      "Answer: $60,000 in cash and stock and a royalty of $2.50 per AC horsepower produced by each motor\n",
      "\n",
      "Wrong Answers: ['cash', \"Tesla's polyphase induction\", 'its roots']\n"
     ]
    }
   ],
   "source": [
    "topic, paragraph, question, answer, wrong_answer = generate_distractor_np(test_np2_topic, test_np2, test_np2_q, test_np2_a)\n",
    "print('Topic: ' + str(topic) + '\\n')\n",
    "print('Paragraph: ' + str(paragraph) + '\\n')\n",
    "print('Question: ' + str(question)+ '\\n')\n",
    "print('Answer: ' + str(answer) + '\\n')\n",
    "print('Wrong Answers: ' + str(wrong_answer))"
   ]
  },
  {
   "cell_type": "code",
   "execution_count": 218,
   "metadata": {},
   "outputs": [
    {
     "name": "stdout",
     "output_type": "stream",
     "text": [
      "Correct Answer: 'tuition-free\n"
     ]
    }
   ],
   "source": [
    "#### Test Example for adjective phrase answer\n",
    "test_adj_topic = df['data'][30]['title']\n",
    "test_adj = df['data'][30]['paragraphs'][1]['context']\n",
    "test_adj_q = df['data'][30]['paragraphs'][1]['qas'][1]['question']\n",
    "test_adj_a = df['data'][30]['paragraphs'][1]['qas'][1]['answers'][0]['text']\n",
    "print('Correct Answer: ' + str(test_adj_a))"
   ]
  },
  {
   "cell_type": "code",
   "execution_count": 219,
   "metadata": {},
   "outputs": [
    {
     "name": "stdout",
     "output_type": "stream",
     "text": [
      "answer sentence: Annual tuition fees at K-12 schools range from nothing at so called 'tuition-free' schools to more than $45,000 at several New England preparatory schools.\n",
      "ne_pd: \n",
      "              entity  label\n",
      "0             Annual   DATE\n",
      "1               K-12    ORG\n",
      "2  more than $45,000  MONEY\n",
      "3        New England    LOC\n"
     ]
    },
    {
     "ename": "UnboundLocalError",
     "evalue": "local variable 'ans_label' referenced before assignment",
     "output_type": "error",
     "traceback": [
      "\u001b[0;31m---------------------------------------------------------------------------\u001b[0m",
      "\u001b[0;31mUnboundLocalError\u001b[0m                         Traceback (most recent call last)",
      "\u001b[0;32m<ipython-input-219-aa2c87b00399>\u001b[0m in \u001b[0;36m<module>\u001b[0;34m\u001b[0m\n\u001b[0;32m----> 1\u001b[0;31m \u001b[0mtopic\u001b[0m\u001b[0;34m,\u001b[0m \u001b[0mparagraph\u001b[0m\u001b[0;34m,\u001b[0m \u001b[0mquestion\u001b[0m\u001b[0;34m,\u001b[0m \u001b[0manswer\u001b[0m\u001b[0;34m,\u001b[0m \u001b[0mwrong_answer\u001b[0m \u001b[0;34m=\u001b[0m \u001b[0mgenerate_distractor\u001b[0m\u001b[0;34m(\u001b[0m\u001b[0mtest_adj_topic\u001b[0m\u001b[0;34m,\u001b[0m \u001b[0mtest_adj\u001b[0m\u001b[0;34m,\u001b[0m \u001b[0mtest_adj_q\u001b[0m\u001b[0;34m,\u001b[0m \u001b[0mtest_adj_a\u001b[0m\u001b[0;34m)\u001b[0m\u001b[0;34m\u001b[0m\u001b[0;34m\u001b[0m\u001b[0m\n\u001b[0m\u001b[1;32m      2\u001b[0m \u001b[0mprint\u001b[0m\u001b[0;34m(\u001b[0m\u001b[0;34m'Topic: '\u001b[0m \u001b[0;34m+\u001b[0m \u001b[0mstr\u001b[0m\u001b[0;34m(\u001b[0m\u001b[0mtopic\u001b[0m\u001b[0;34m)\u001b[0m \u001b[0;34m+\u001b[0m \u001b[0;34m'\\n'\u001b[0m\u001b[0;34m)\u001b[0m\u001b[0;34m\u001b[0m\u001b[0;34m\u001b[0m\u001b[0m\n\u001b[1;32m      3\u001b[0m \u001b[0mprint\u001b[0m\u001b[0;34m(\u001b[0m\u001b[0;34m'Paragraph: '\u001b[0m \u001b[0;34m+\u001b[0m \u001b[0mstr\u001b[0m\u001b[0;34m(\u001b[0m\u001b[0mparagraph\u001b[0m\u001b[0;34m)\u001b[0m \u001b[0;34m+\u001b[0m \u001b[0;34m'\\n'\u001b[0m\u001b[0;34m)\u001b[0m\u001b[0;34m\u001b[0m\u001b[0;34m\u001b[0m\u001b[0m\n\u001b[1;32m      4\u001b[0m \u001b[0mprint\u001b[0m\u001b[0;34m(\u001b[0m\u001b[0;34m'Question: '\u001b[0m \u001b[0;34m+\u001b[0m \u001b[0mstr\u001b[0m\u001b[0;34m(\u001b[0m\u001b[0mquestion\u001b[0m\u001b[0;34m)\u001b[0m\u001b[0;34m+\u001b[0m \u001b[0;34m'\\n'\u001b[0m\u001b[0;34m)\u001b[0m\u001b[0;34m\u001b[0m\u001b[0;34m\u001b[0m\u001b[0m\n\u001b[1;32m      5\u001b[0m \u001b[0mprint\u001b[0m\u001b[0;34m(\u001b[0m\u001b[0;34m'Answer: '\u001b[0m \u001b[0;34m+\u001b[0m \u001b[0mstr\u001b[0m\u001b[0;34m(\u001b[0m\u001b[0manswer\u001b[0m\u001b[0;34m)\u001b[0m \u001b[0;34m+\u001b[0m \u001b[0;34m'\\n'\u001b[0m\u001b[0;34m)\u001b[0m\u001b[0;34m\u001b[0m\u001b[0;34m\u001b[0m\u001b[0m\n",
      "\u001b[0;32m<ipython-input-208-ba2c62ff41a8>\u001b[0m in \u001b[0;36mgenerate_distractor\u001b[0;34m(topic, paragraph, question, correct_answer)\u001b[0m\n\u001b[1;32m     35\u001b[0m     \u001b[0mne_pd_paragraph\u001b[0m\u001b[0;34m[\u001b[0m\u001b[0;34m'entity'\u001b[0m\u001b[0;34m]\u001b[0m \u001b[0;34m=\u001b[0m \u001b[0ment_list\u001b[0m\u001b[0;34m\u001b[0m\u001b[0;34m\u001b[0m\u001b[0m\n\u001b[1;32m     36\u001b[0m     \u001b[0mne_pd_paragraph\u001b[0m\u001b[0;34m[\u001b[0m\u001b[0;34m'label'\u001b[0m\u001b[0;34m]\u001b[0m \u001b[0;34m=\u001b[0m \u001b[0;34m[\u001b[0m\u001b[0mx\u001b[0m\u001b[0;34m.\u001b[0m\u001b[0mlabel_\u001b[0m \u001b[0;32mfor\u001b[0m \u001b[0mx\u001b[0m \u001b[0;32min\u001b[0m \u001b[0marticle\u001b[0m\u001b[0;34m.\u001b[0m\u001b[0ments\u001b[0m\u001b[0;34m]\u001b[0m\u001b[0;34m\u001b[0m\u001b[0;34m\u001b[0m\u001b[0m\n\u001b[0;32m---> 37\u001b[0;31m     \u001b[0malt_ans_list2\u001b[0m \u001b[0;34m=\u001b[0m \u001b[0mlist\u001b[0m\u001b[0;34m(\u001b[0m\u001b[0mne_pd_paragraph\u001b[0m\u001b[0;34m[\u001b[0m\u001b[0mne_pd_paragraph\u001b[0m\u001b[0;34m[\u001b[0m\u001b[0;34m'label'\u001b[0m\u001b[0;34m]\u001b[0m\u001b[0;34m==\u001b[0m\u001b[0mans_label\u001b[0m\u001b[0;34m]\u001b[0m\u001b[0;34m[\u001b[0m\u001b[0;34m'entity'\u001b[0m\u001b[0;34m]\u001b[0m\u001b[0;34m)\u001b[0m\u001b[0;34m\u001b[0m\u001b[0;34m\u001b[0m\u001b[0m\n\u001b[0m\u001b[1;32m     38\u001b[0m     \u001b[0;31m#remove correct answers\u001b[0m\u001b[0;34m\u001b[0m\u001b[0;34m\u001b[0m\u001b[0;34m\u001b[0m\u001b[0m\n\u001b[1;32m     39\u001b[0m     \u001b[0malt_ans_list2\u001b[0m\u001b[0;34m.\u001b[0m\u001b[0mremove\u001b[0m\u001b[0;34m(\u001b[0m\u001b[0mcorrect_answer\u001b[0m\u001b[0;34m)\u001b[0m\u001b[0;34m\u001b[0m\u001b[0;34m\u001b[0m\u001b[0m\n",
      "\u001b[0;31mUnboundLocalError\u001b[0m: local variable 'ans_label' referenced before assignment"
     ]
    }
   ],
   "source": [
    "topic, paragraph, question, answer, wrong_answer = generate_distractor(test_adj_topic, test_adj, test_adj_q, test_adj_a)\n",
    "print('Topic: ' + str(topic) + '\\n')\n",
    "print('Paragraph: ' + str(paragraph) + '\\n')\n",
    "print('Question: ' + str(question)+ '\\n')\n",
    "print('Answer: ' + str(answer) + '\\n')\n",
    "print('Wrong Answers: ' + str(wrong_answer))"
   ]
  },
  {
   "cell_type": "code",
   "execution_count": 220,
   "metadata": {},
   "outputs": [
    {
     "name": "stdout",
     "output_type": "stream",
     "text": [
      "Correct Answer: opened the gates\n"
     ]
    }
   ],
   "source": [
    "#### Test Example for verb phrase answer\n",
    "test_vp_topic = df['data'][25]['title']\n",
    "test_vp = df['data'][25]['paragraphs'][25]['context']\n",
    "test_vp_q = df['data'][25]['paragraphs'][25]['qas'][0]['question']\n",
    "test_vp_a = df['data'][25]['paragraphs'][25]['qas'][0]['answers'][0]['text']\n",
    "print('Correct Answer: ' + str(test_vp_a))"
   ]
  },
  {
   "cell_type": "code",
   "execution_count": null,
   "metadata": {},
   "outputs": [],
   "source": [
    "doc = nlp(test_np)\n",
    "pos_tags = [(i, i.tag_) for i in doc]\n",
    "print(pos_tags)\n",
    "ans_tok = nlp(test_np_a)\n",
    "pos_tags_ans = [(i, i.tag_) for i in ans_tok]\n",
    "print('\\n')\n",
    "print(pos_tags_ans)\n",
    "alt_ans = [(i, i.tag_) for i in doc if i.tag_ in set(list(j[1] for j in pos_tags_ans))]\n",
    "print(alt_ans)"
   ]
  },
  {
   "cell_type": "code",
   "execution_count": 221,
   "metadata": {},
   "outputs": [
    {
     "name": "stdout",
     "output_type": "stream",
     "text": [
      "answer sentence: Annual tuition fees at K-12 schools range from nothing at so called 'tuition-free' schools to more than $45,000 at several New England preparatory schools.\n",
      "ne_pd: \n",
      "              entity  label\n",
      "0             Annual   DATE\n",
      "1               K-12    ORG\n",
      "2  more than $45,000  MONEY\n",
      "3        New England    LOC\n"
     ]
    },
    {
     "ename": "UnboundLocalError",
     "evalue": "local variable 'ans_label' referenced before assignment",
     "output_type": "error",
     "traceback": [
      "\u001b[0;31m---------------------------------------------------------------------------\u001b[0m",
      "\u001b[0;31mUnboundLocalError\u001b[0m                         Traceback (most recent call last)",
      "\u001b[0;32m<ipython-input-221-aa2c87b00399>\u001b[0m in \u001b[0;36m<module>\u001b[0;34m\u001b[0m\n\u001b[0;32m----> 1\u001b[0;31m \u001b[0mtopic\u001b[0m\u001b[0;34m,\u001b[0m \u001b[0mparagraph\u001b[0m\u001b[0;34m,\u001b[0m \u001b[0mquestion\u001b[0m\u001b[0;34m,\u001b[0m \u001b[0manswer\u001b[0m\u001b[0;34m,\u001b[0m \u001b[0mwrong_answer\u001b[0m \u001b[0;34m=\u001b[0m \u001b[0mgenerate_distractor\u001b[0m\u001b[0;34m(\u001b[0m\u001b[0mtest_adj_topic\u001b[0m\u001b[0;34m,\u001b[0m \u001b[0mtest_adj\u001b[0m\u001b[0;34m,\u001b[0m \u001b[0mtest_adj_q\u001b[0m\u001b[0;34m,\u001b[0m \u001b[0mtest_adj_a\u001b[0m\u001b[0;34m)\u001b[0m\u001b[0;34m\u001b[0m\u001b[0;34m\u001b[0m\u001b[0m\n\u001b[0m\u001b[1;32m      2\u001b[0m \u001b[0mprint\u001b[0m\u001b[0;34m(\u001b[0m\u001b[0;34m'Topic: '\u001b[0m \u001b[0;34m+\u001b[0m \u001b[0mstr\u001b[0m\u001b[0;34m(\u001b[0m\u001b[0mtopic\u001b[0m\u001b[0;34m)\u001b[0m \u001b[0;34m+\u001b[0m \u001b[0;34m'\\n'\u001b[0m\u001b[0;34m)\u001b[0m\u001b[0;34m\u001b[0m\u001b[0;34m\u001b[0m\u001b[0m\n\u001b[1;32m      3\u001b[0m \u001b[0mprint\u001b[0m\u001b[0;34m(\u001b[0m\u001b[0;34m'Paragraph: '\u001b[0m \u001b[0;34m+\u001b[0m \u001b[0mstr\u001b[0m\u001b[0;34m(\u001b[0m\u001b[0mparagraph\u001b[0m\u001b[0;34m)\u001b[0m \u001b[0;34m+\u001b[0m \u001b[0;34m'\\n'\u001b[0m\u001b[0;34m)\u001b[0m\u001b[0;34m\u001b[0m\u001b[0;34m\u001b[0m\u001b[0m\n\u001b[1;32m      4\u001b[0m \u001b[0mprint\u001b[0m\u001b[0;34m(\u001b[0m\u001b[0;34m'Question: '\u001b[0m \u001b[0;34m+\u001b[0m \u001b[0mstr\u001b[0m\u001b[0;34m(\u001b[0m\u001b[0mquestion\u001b[0m\u001b[0;34m)\u001b[0m\u001b[0;34m+\u001b[0m \u001b[0;34m'\\n'\u001b[0m\u001b[0;34m)\u001b[0m\u001b[0;34m\u001b[0m\u001b[0;34m\u001b[0m\u001b[0m\n\u001b[1;32m      5\u001b[0m \u001b[0mprint\u001b[0m\u001b[0;34m(\u001b[0m\u001b[0;34m'Answer: '\u001b[0m \u001b[0;34m+\u001b[0m \u001b[0mstr\u001b[0m\u001b[0;34m(\u001b[0m\u001b[0manswer\u001b[0m\u001b[0;34m)\u001b[0m \u001b[0;34m+\u001b[0m \u001b[0;34m'\\n'\u001b[0m\u001b[0;34m)\u001b[0m\u001b[0;34m\u001b[0m\u001b[0;34m\u001b[0m\u001b[0m\n",
      "\u001b[0;32m<ipython-input-208-ba2c62ff41a8>\u001b[0m in \u001b[0;36mgenerate_distractor\u001b[0;34m(topic, paragraph, question, correct_answer)\u001b[0m\n\u001b[1;32m     35\u001b[0m     \u001b[0mne_pd_paragraph\u001b[0m\u001b[0;34m[\u001b[0m\u001b[0;34m'entity'\u001b[0m\u001b[0;34m]\u001b[0m \u001b[0;34m=\u001b[0m \u001b[0ment_list\u001b[0m\u001b[0;34m\u001b[0m\u001b[0;34m\u001b[0m\u001b[0m\n\u001b[1;32m     36\u001b[0m     \u001b[0mne_pd_paragraph\u001b[0m\u001b[0;34m[\u001b[0m\u001b[0;34m'label'\u001b[0m\u001b[0;34m]\u001b[0m \u001b[0;34m=\u001b[0m \u001b[0;34m[\u001b[0m\u001b[0mx\u001b[0m\u001b[0;34m.\u001b[0m\u001b[0mlabel_\u001b[0m \u001b[0;32mfor\u001b[0m \u001b[0mx\u001b[0m \u001b[0;32min\u001b[0m \u001b[0marticle\u001b[0m\u001b[0;34m.\u001b[0m\u001b[0ments\u001b[0m\u001b[0;34m]\u001b[0m\u001b[0;34m\u001b[0m\u001b[0;34m\u001b[0m\u001b[0m\n\u001b[0;32m---> 37\u001b[0;31m     \u001b[0malt_ans_list2\u001b[0m \u001b[0;34m=\u001b[0m \u001b[0mlist\u001b[0m\u001b[0;34m(\u001b[0m\u001b[0mne_pd_paragraph\u001b[0m\u001b[0;34m[\u001b[0m\u001b[0mne_pd_paragraph\u001b[0m\u001b[0;34m[\u001b[0m\u001b[0;34m'label'\u001b[0m\u001b[0;34m]\u001b[0m\u001b[0;34m==\u001b[0m\u001b[0mans_label\u001b[0m\u001b[0;34m]\u001b[0m\u001b[0;34m[\u001b[0m\u001b[0;34m'entity'\u001b[0m\u001b[0;34m]\u001b[0m\u001b[0;34m)\u001b[0m\u001b[0;34m\u001b[0m\u001b[0;34m\u001b[0m\u001b[0m\n\u001b[0m\u001b[1;32m     38\u001b[0m     \u001b[0;31m#remove correct answers\u001b[0m\u001b[0;34m\u001b[0m\u001b[0;34m\u001b[0m\u001b[0;34m\u001b[0m\u001b[0m\n\u001b[1;32m     39\u001b[0m     \u001b[0malt_ans_list2\u001b[0m\u001b[0;34m.\u001b[0m\u001b[0mremove\u001b[0m\u001b[0;34m(\u001b[0m\u001b[0mcorrect_answer\u001b[0m\u001b[0;34m)\u001b[0m\u001b[0;34m\u001b[0m\u001b[0;34m\u001b[0m\u001b[0m\n",
      "\u001b[0;31mUnboundLocalError\u001b[0m: local variable 'ans_label' referenced before assignment"
     ]
    }
   ],
   "source": [
    "topic, paragraph, question, answer, wrong_answer = generate_distractor(test_adj_topic, test_adj, test_adj_q, test_adj_a)\n",
    "print('Topic: ' + str(topic) + '\\n')\n",
    "print('Paragraph: ' + str(paragraph) + '\\n')\n",
    "print('Question: ' + str(question)+ '\\n')\n",
    "print('Answer: ' + str(answer) + '\\n')\n",
    "print('Wrong Answers: ' + str(wrong_answer))"
   ]
  },
  {
   "cell_type": "code",
   "execution_count": null,
   "metadata": {},
   "outputs": [],
   "source": []
  }
 ],
 "metadata": {
  "kernelspec": {
   "display_name": "Python 3",
   "language": "python",
   "name": "python3"
  },
  "language_info": {
   "codemirror_mode": {
    "name": "ipython",
    "version": 3
   },
   "file_extension": ".py",
   "mimetype": "text/x-python",
   "name": "python",
   "nbconvert_exporter": "python",
   "pygments_lexer": "ipython3",
   "version": "3.6.8"
  }
 },
 "nbformat": 4,
 "nbformat_minor": 2
}
