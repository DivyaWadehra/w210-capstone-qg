{
 "cells": [
  {
   "cell_type": "code",
   "execution_count": 1,
   "metadata": {},
   "outputs": [],
   "source": [
    "import numpy as np\n",
    "import pandas as pd"
   ]
  },
  {
   "cell_type": "code",
   "execution_count": 29,
   "metadata": {},
   "outputs": [
    {
     "name": "stdout",
     "output_type": "stream",
     "text": [
      "sim_titles|common_words\n",
      "\n"
     ]
    }
   ],
   "source": [
    "f = open(\"sim_titles_words.valid.jb.txt\", \"r\")\n",
    "# for x in f:\n",
    "# #     x.split(\"|\")\n",
    "#     print(x)\n",
    "print(f.readline())\n",
    "x = f.readline()"
   ]
  },
  {
   "cell_type": "code",
   "execution_count": 32,
   "metadata": {},
   "outputs": [
    {
     "data": {
      "text/plain": [
       "\"['Hawker Siddeley Harrier', 'Hawker Harrier', 'Kamov Ka-50', 'Missile', 'Mitsubishi A6M Zero', 'Boeing KC-135 Stratotanker', 'NATO reporting name', 'Operation Sea Lion', 'Luftwaffe', 'Messerschmitt Me 163 Komet', 'Messerschmitt Me 262', 'INS Vikrant (R11)', 'Jet engine', 'Boeing OC-135B Open Skies', 'Navy', 'Fly-by-wire', 'Falklands War', 'Aircraft carrier', 'Area 51', 'Boeing 767', 'North American B-25 Mitchell', 'Northrop F-5', 'Northrop Grumman B-2 Spirit', 'Boeing 747', 'Lockheed C-130 Hercules', 'Carrier battle group', 'Boeing Vertol CH-46 Sea Knight', 'Aircraft spotting', 'Boeing E-3 Sentry', 'Northrop Grumman E-8 Joint STARS', 'Curtiss P-40 Warhawk', 'Enola Gay', 'Avionics', 'Aircraft hijacking', 'Flying car', 'Bomber', 'Blue Angels', 'Rockwell B-1 Lancer', 'Boeing B-17 Flying Fortress', 'Boeing C-17 Globemaster III', 'Escort carrier', 'Air show', 'General Dynamics F-16 Fighting Falcon', 'McDonnell Douglas F-15 Eagle', 'Grumman F-14 Tomcat', 'Lockheed F-117 Nighthawk', 'Vought F4U Corsair', 'Fighter aircraft', 'De Havilland Mosquito', 'AIM-120 AMRAAM', 'AGM-88 HARM', 'Lockheed AC-130', 'McDonnell Douglas F-4 Phantom II', 'McDonnell FH Phantom', 'Lockheed Martin F-35 Lightning II', 'Beechcraft', 'Aircraft', 'Airbus A300', 'Concorde']|['aircraft']\\n\""
      ]
     },
     "execution_count": 32,
     "metadata": {},
     "output_type": "execute_result"
    }
   ],
   "source": [
    "x"
   ]
  },
  {
   "cell_type": "code",
   "execution_count": 27,
   "metadata": {},
   "outputs": [],
   "source": [
    "titles = []\n",
    "topics = []"
   ]
  },
  {
   "cell_type": "code",
   "execution_count": 33,
   "metadata": {},
   "outputs": [
    {
     "ename": "IndexError",
     "evalue": "list index out of range",
     "output_type": "error",
     "traceback": [
      "\u001b[1;31m---------------------------------------------------------------------------\u001b[0m",
      "\u001b[1;31mIndexError\u001b[0m                                Traceback (most recent call last)",
      "\u001b[1;32m<ipython-input-33-fffab3e687d2>\u001b[0m in \u001b[0;36m<module>\u001b[1;34m()\u001b[0m\n\u001b[0;32m      1\u001b[0m \u001b[1;32mfor\u001b[0m \u001b[0mx\u001b[0m \u001b[1;32min\u001b[0m \u001b[0mf\u001b[0m\u001b[1;33m:\u001b[0m\u001b[1;33m\u001b[0m\u001b[0m\n\u001b[0;32m      2\u001b[0m     \u001b[0mtitles\u001b[0m\u001b[1;33m.\u001b[0m\u001b[0mappend\u001b[0m\u001b[1;33m(\u001b[0m\u001b[0mx\u001b[0m\u001b[1;33m.\u001b[0m\u001b[0msplit\u001b[0m\u001b[1;33m(\u001b[0m\u001b[1;34m\"|\"\u001b[0m\u001b[1;33m)\u001b[0m\u001b[1;33m[\u001b[0m\u001b[1;36m0\u001b[0m\u001b[1;33m]\u001b[0m\u001b[1;33m)\u001b[0m\u001b[1;33m\u001b[0m\u001b[0m\n\u001b[1;32m----> 3\u001b[1;33m     \u001b[0mtopics\u001b[0m\u001b[1;33m.\u001b[0m\u001b[0mappend\u001b[0m\u001b[1;33m(\u001b[0m\u001b[0mx\u001b[0m\u001b[1;33m.\u001b[0m\u001b[0msplit\u001b[0m\u001b[1;33m(\u001b[0m\u001b[1;34m\"|\"\u001b[0m\u001b[1;33m)\u001b[0m\u001b[1;33m[\u001b[0m\u001b[1;36m1\u001b[0m\u001b[1;33m]\u001b[0m\u001b[1;33m)\u001b[0m\u001b[1;33m\u001b[0m\u001b[0m\n\u001b[0m",
      "\u001b[1;31mIndexError\u001b[0m: list index out of range"
     ]
    }
   ],
   "source": [
    "for x in f:\n",
    "    titles.append(x.split(\"|\")[0])\n",
    "    topics.append(x.split(\"|\")[1])"
   ]
  },
  {
   "cell_type": "code",
   "execution_count": 34,
   "metadata": {},
   "outputs": [
    {
     "data": {
      "text/plain": [
       "[\"['war machines']\\n\",\n",
       " \"['religion']\\n\",\n",
       " \"[ 'scotland']\\n\",\n",
       " \"['sports']\\n\",\n",
       " \"['game']\\n\",\n",
       " \"['philosophy']\\n\",\n",
       " \"['education']\\n\",\n",
       " \"['film', 'show']\\n\",\n",
       " \"['fantasy', 'science fiction']\\n\",\n",
       " \"['water pressure']\\n\",\n",
       " \"['music']\\n\",\n",
       " \"['paleontology', 'archaeology','anthropology','evolution']\\n\",\n",
       " \"['media']\\n\",\n",
       " \"['assyrian']\\n\",\n",
       " \"['wave light theory']\\n\",\n",
       " \"['honey']\\n\",\n",
       " \"['electricity']\\n\",\n",
       " \"['cell biology']\\n\",\n",
       " \"['holidays']\\n\",\n",
       " \"['history']\\n\",\n",
       " \"['christian']\\n\",\n",
       " \"['science']\\n\",\n",
       " \"['energy particle']\\n\",\n",
       " \"['bass', 'drum', 'jazz']\\n\",\n",
       " \"[ 'science']\\n\",\n",
       " \"['carbon']\\n\",\n",
       " \"['mythology']\\n\",\n",
       " \"['military']\\n\",\n",
       " \"['cars']\\n\",\n",
       " \"['history']\\n\",\n",
       " \"['judaism']\\n\",\n",
       " \"['transportation']\\n\",\n",
       " \"['sports']\\n\",\n",
       " \"['language']\\n\",\n",
       " \"['music']\\n\",\n",
       " \"['history']\\n\",\n",
       " \"['geography']\\n\",\n",
       " \"['government']\\n\",\n",
       " \"['japan','geography']\\n\",\n",
       " \"['cars']\\n\",\n",
       " \"['oil', 'tree', 'christmas']\\n\",\n",
       " \"['military']\\n\",\n",
       " \"['technology']\\n\",\n",
       " \"[ 'history']\\n\",\n",
       " \"['science']\\n\",\n",
       " \"['geography']\\n\",\n",
       " \"['technology']\\n\",\n",
       " \"[ 'medicine']\\n\",\n",
       " \"[ 'geography']\\n\",\n",
       " \"['theorem']\\n\",\n",
       " \"['algorithm']\\n\",\n",
       " \"['gel']\\n\",\n",
       " \"['joke']\\n\",\n",
       " \"['oil']\\n\",\n",
       " \"['meditation']\\n\",\n",
       " \"['whale']\\n\",\n",
       " \"['technology']\\n\",\n",
       " \"['geography']\\n\",\n",
       " \"['war machines']\\n\",\n",
       " \"['religion']\\n\",\n",
       " \"[ 'scotland']\\n\",\n",
       " \"['sports']\\n\",\n",
       " \"['game']\\n\",\n",
       " \"['philosophy']\\n\",\n",
       " \"['education']\\n\",\n",
       " \"['film', 'show']\\n\",\n",
       " \"['fantasy', 'science fiction']\\n\",\n",
       " \"['water pressure']\\n\",\n",
       " \"['music']\\n\",\n",
       " \"['paleontology', 'archaeology','anthropology','evolution']\\n\",\n",
       " \"['media']\\n\",\n",
       " \"['assyrian']\\n\",\n",
       " \"['wave light theory']\\n\",\n",
       " \"['honey']\\n\",\n",
       " \"['electricity']\\n\",\n",
       " \"['cell biology']\\n\",\n",
       " \"['holidays']\\n\",\n",
       " \"['history']\\n\",\n",
       " \"['christian']\\n\",\n",
       " \"['science']\\n\",\n",
       " \"['energy particle']\\n\",\n",
       " \"['bass', 'drum', 'jazz']\\n\",\n",
       " \"[ 'science']\\n\",\n",
       " \"['carbon']\\n\",\n",
       " \"['mythology']\\n\",\n",
       " \"['military']\\n\",\n",
       " \"['cars']\\n\",\n",
       " \"['history']\\n\",\n",
       " \"['judaism']\\n\",\n",
       " \"['transportation']\\n\",\n",
       " \"['sports']\\n\",\n",
       " \"['language']\\n\",\n",
       " \"['music']\\n\",\n",
       " \"['history']\\n\",\n",
       " \"['geography']\\n\",\n",
       " \"['government']\\n\",\n",
       " \"['japan','geography']\\n\",\n",
       " \"['cars']\\n\",\n",
       " \"['oil', 'tree', 'christmas']\\n\",\n",
       " \"['military']\\n\",\n",
       " \"['technology']\\n\",\n",
       " \"[ 'history']\\n\",\n",
       " \"['science']\\n\",\n",
       " \"['geography']\\n\",\n",
       " \"['technology']\\n\",\n",
       " \"[ 'medicine']\\n\",\n",
       " \"[ 'geography']\\n\",\n",
       " \"['theorem']\\n\",\n",
       " \"['algorithm']\\n\",\n",
       " \"['gel']\\n\",\n",
       " \"['joke']\\n\",\n",
       " \"['oil']\\n\",\n",
       " \"['meditation']\\n\",\n",
       " \"['whale']\\n\",\n",
       " \"['technology']\\n\",\n",
       " \"['geography']\\n\"]"
      ]
     },
     "execution_count": 34,
     "metadata": {},
     "output_type": "execute_result"
    }
   ],
   "source": [
    "topics"
   ]
  },
  {
   "cell_type": "code",
   "execution_count": null,
   "metadata": {},
   "outputs": [],
   "source": []
  }
 ],
 "metadata": {
  "kernelspec": {
   "display_name": "Python 3",
   "language": "python",
   "name": "python3"
  },
  "language_info": {
   "codemirror_mode": {
    "name": "ipython",
    "version": 3
   },
   "file_extension": ".py",
   "mimetype": "text/x-python",
   "name": "python",
   "nbconvert_exporter": "python",
   "pygments_lexer": "ipython3",
   "version": "3.7.0"
  }
 },
 "nbformat": 4,
 "nbformat_minor": 2
}
