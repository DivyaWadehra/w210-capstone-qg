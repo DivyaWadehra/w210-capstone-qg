{
 "cells": [
  {
   "cell_type": "code",
   "execution_count": null,
   "metadata": {
    "ExecuteTime": {
     "end_time": "2019-04-08T05:08:13.215584Z",
     "start_time": "2019-04-08T05:07:35.737802Z"
    }
   },
   "outputs": [],
   "source": [
    "#https://askubuntu.com/questions/742782/how-to-install-cpickle-on-python-3-4\n",
    "#!conda install -c conda-forge gensim\n",
    "#!conda install --yes -c conda-forge pyldavis "
   ]
  },
  {
   "cell_type": "code",
   "execution_count": 6,
   "metadata": {
    "ExecuteTime": {
     "end_time": "2019-04-08T05:08:58.561598Z",
     "start_time": "2019-04-08T05:08:58.249951Z"
    }
   },
   "outputs": [],
   "source": [
    "import os\n",
    "import codecs\n",
    "import json\n",
    "import spacy\n",
    "import pandas as pd\n",
    "import itertools as it\n",
    "from gensim.models import Phrases\n",
    "from gensim.models.word2vec import LineSentence\n",
    "from gensim.corpora import Dictionary, MmCorpus\n",
    "from gensim.models.ldamulticore import LdaMulticore\n",
    "\n",
    "import pyLDAvis\n",
    "import pyLDAvis.gensim\n",
    "import warnings\n",
    "#import cPickle as pickle\n",
    "import _pickle as pickle\n",
    "from gensim.models import Word2Vec\n",
    "from sklearn.manifold import TSNE\n",
    "from bokeh.plotting import figure, show, output_notebook\n",
    "from bokeh.models import HoverTool, ColumnDataSource, value\n"
   ]
  },
  {
   "cell_type": "code",
   "execution_count": 90,
   "metadata": {
    "ExecuteTime": {
     "end_time": "2019-04-08T06:18:45.865701Z",
     "start_time": "2019-04-08T06:18:44.866053Z"
    }
   },
   "outputs": [],
   "source": [
    "nlp = spacy.load('en')\n"
   ]
  },
  {
   "cell_type": "code",
   "execution_count": 10,
   "metadata": {
    "ExecuteTime": {
     "end_time": "2019-04-08T05:12:47.539755Z",
     "start_time": "2019-04-08T05:12:47.536608Z"
    }
   },
   "outputs": [],
   "source": [
    "in_dir=\"./input\"\n",
    "out_dir=\"./output\""
   ]
  },
  {
   "cell_type": "markdown",
   "metadata": {
    "ExecuteTime": {
     "end_time": "2019-04-08T05:10:23.022160Z",
     "start_time": "2019-04-08T05:10:23.017476Z"
    }
   },
   "source": [
    "# Filter  contexts to those that have questions"
   ]
  },
  {
   "cell_type": "code",
   "execution_count": 11,
   "metadata": {
    "ExecuteTime": {
     "end_time": "2019-04-08T05:13:04.441994Z",
     "start_time": "2019-04-08T05:13:04.438471Z"
    }
   },
   "outputs": [],
   "source": [
    "input_json=in_dir+'/wiki_squad_00.json'\n"
   ]
  },
  {
   "cell_type": "code",
   "execution_count": 12,
   "metadata": {
    "ExecuteTime": {
     "end_time": "2019-04-08T05:13:26.137711Z",
     "start_time": "2019-04-08T05:13:26.122309Z"
    }
   },
   "outputs": [],
   "source": [
    "with open(input_json) as json_file:  \n",
    "    input_dict=json.load(json_file)\n"
   ]
  },
  {
   "cell_type": "code",
   "execution_count": 50,
   "metadata": {
    "ExecuteTime": {
     "end_time": "2019-04-08T05:52:40.219926Z",
     "start_time": "2019-04-08T05:52:40.216439Z"
    }
   },
   "outputs": [],
   "source": [
    "dict_qid_context=dict.fromkeys(['title','qid','context_raw'], [])\n"
   ]
  },
  {
   "cell_type": "code",
   "execution_count": 51,
   "metadata": {
    "ExecuteTime": {
     "end_time": "2019-04-08T05:52:44.709253Z",
     "start_time": "2019-04-08T05:52:44.704373Z"
    }
   },
   "outputs": [
    {
     "data": {
      "text/plain": [
       "{'title': [], 'qid': [], 'context_raw': []}"
      ]
     },
     "execution_count": 51,
     "metadata": {},
     "output_type": "execute_result"
    }
   ],
   "source": [
    "dict_qid_context"
   ]
  },
  {
   "cell_type": "code",
   "execution_count": 65,
   "metadata": {
    "ExecuteTime": {
     "end_time": "2019-04-08T05:58:47.216829Z",
     "start_time": "2019-04-08T05:58:47.208654Z"
    }
   },
   "outputs": [],
   "source": [
    "#Initializing dictionary to keys with lists as values\n",
    "dict_qid_context=dict()\n",
    "list_title_for_dict=[]\n",
    "list_qid_for_dict=[]\n",
    "list_context_raw_for_dict=[]\n",
    "\n",
    "for ele1 in input_dict['data']:\n",
    "    title=ele1['title']\n",
    "    for ele2 in ele1['paragraphs']:\n",
    "        context_raw=ele2['context']\n",
    "        for ele3 in ele2['qas']:\n",
    "            qid=tuple(ele3['id'][1:-1].replace(\" \", \"\").split(','))\n",
    "            if qid is not None:\n",
    "                list_title_for_dict.append(title)\n",
    "                list_qid_for_dict.append(qid)\n",
    "                list_context_raw_for_dict.append(context_raw)\n",
    "    \n"
   ]
  },
  {
   "cell_type": "code",
   "execution_count": 371,
   "metadata": {
    "ExecuteTime": {
     "end_time": "2019-04-08T09:53:57.410606Z",
     "start_time": "2019-04-08T09:53:57.390234Z"
    }
   },
   "outputs": [
    {
     "name": "stdout",
     "output_type": "stream",
     "text": [
      "The earliest anarchist themes can be found in the 6th century BC among the works of Taoist philosopher Laozi and in later centuries by Zhuangzi and Bao Jingyan. Zhuangzi's philosophy has been described by various sources as anarchist. Zhuangzi wrote: \"A petty thief is put in jail. A great brigand becomes a ruler of a Nation\". Diogenes of Sinope and the Cynics as well as their contemporary Zeno of Citium, the founder of Stoicism, also introduced similar topics. Jesus is sometimes considered the first anarchist in the Christian anarchist tradition. Georges Lechartier wrote: \"The true founder of anarchy was Jesus Christ and [...] the first anarchist society was that of the apostles\". In early Islamic history, some manifestations of anarchic thought are found during the Islamic civil war over the Caliphate, where the Kharijites insisted that the imamate is a right for each individual within the Islamic society.\n",
      "The French Renaissance political philosopher Étienne de La Boétie wrote in his most famous work the \"Discourse on Voluntary Servitude\" what some historians consider an important anarchist precedent. The radical Protestant Christian Gerrard Winstanley and his group the Diggers are cited by various authors as proposing anarchist social measures in the 17th century in England. The term \"anarchist\" first entered the English language in 1642 during the English Civil War as a term of abuse, used by Royalists against their Roundhead opponents. By the time of the French Revolution, some such as the Enraged Ones began to use the term positively in opposition to Jacobin centralisation of power, seeing \"revolutionary government\" as oxymoronic. By the turn of the 19th century, the English word \"anarchism\" had lost its initial negative connotation.\n",
      "======================\n",
      "The earliest anarchist themes can be found in the 6th century BC among the works of Taoist philosopher Laozi and in later centuries by Zhuangzi and Bao Jingyan. Zhuangzi's philosophy has been described by various sources as anarchist. Zhuangzi wrote: \"A petty thief is put in jail. A great brigand becomes a ruler of a Nation\". Diogenes of Sinope and the Cynics as well as their contemporary Zeno of Citium, the founder of Stoicism, also introduced similar topics. Jesus is sometimes considered the first anarchist in the Christian anarchist tradition. Georges Lechartier wrote: \"The true founder of anarchy was Jesus Christ and [...] the first anarchist society was that of the apostles\". In early Islamic history, some manifestations of anarchic thought are found during the Islamic civil war over the Caliphate, where the Kharijites insisted that the imamate is a right for each individual within the Islamic society.\n",
      "The French Renaissance political philosopher Étienne de La Boétie wrote in his most famous work the \"Discourse on Voluntary Servitude\" what some historians consider an important anarchist precedent. The radical Protestant Christian Gerrard Winstanley and his group the Diggers are cited by various authors as proposing anarchist social measures in the 17th century in England. The term \"anarchist\" first entered the English language in 1642 during the English Civil War as a term of abuse, used by Royalists against their Roundhead opponents. By the time of the French Revolution, some such as the Enraged Ones began to use the term positively in opposition to Jacobin centralisation of power, seeing \"revolutionary government\" as oxymoronic. By the turn of the 19th century, the English word \"anarchism\" had lost its initial negative connotation.\n",
      "======================\n",
      "The French Pierre-Joseph Proudhon is regarded as the first self-proclaimed anarchist, a label he adopted in his groundbreaking work \"What is Property?\", published in 1840. It is for this reason that some claim Proudhon as the founder of modern anarchist theory. He developed the theory of spontaneous order in society, where organisation emerges without a central coordinator imposing its own idea of order against the wills of individuals acting in their own interests. His famous quote on the matter is \"Liberty is the mother, not the daughter, of order\". In \"What is Property?\", Proudhon answers with the famous accusation \"Property is theft\". In this work, he opposed the institution of decreed \"property\" (\"propriété\"), where owners have complete rights to \"use and abuse\" their property as they wish. He contrasted this with what he called \"possession\", or limited ownership of resources and goods only while in more or less continuous use. However, Proudhon later added that \"Property is Liberty\" and argued that it was a bulwark against state power. His opposition to the state, organised religion and certain capitalist practices inspired subsequent anarchists and made him one of the leading social thinkers of his time.\n",
      "======================\n",
      "Anarchist historian George Woodcock reports: \"The annual Congress of the International had not taken place in 1870 owing to the outbreak of the Paris Commune, and in 1871 the General Council called only a special conference in London. One delegate was able to attend from Spain and none from Italy, while a technical excuse—that they had split away from the Fédération Romande—was used to avoid inviting Bakunin's Swiss supporters. Thus only a tiny minority of anarchists was present, and the General Council's resolutions passed almost unanimously. Most of them were clearly directed against Bakunin and his followers\". In 1872, the conflict climaxed with a final split between the two groups at the Hague Congress, where Bakunin and James Guillaume were expelled from the International and its headquarters were transferred to New York. In response, the federalist sections formed their own International at the St. Imier Congress, adopting a revolutionary anarchist programme.\n",
      "======================\n",
      "The Paris Commune was a government that briefly ruled Paris from 18 March (more formally, from 28 March) to 28 May 1871. The Commune was the result of an uprising in Paris after France was defeated in the Franco-Prussian War. Anarchists participated actively in the establishment of the Paris Commune. They included Louise Michel, the Reclus brothers (Élie Reclus and Élisée Reclus) and Eugene Varlin (the latter murdered in the repression afterwards). As for the reforms initiated by the Commune, such as the re-opening of workplaces as co-operatives, anarchists can see their ideas of associated labour beginning to be realised. Moreover, the Commune's ideas on federation obviously reflected the influence of Proudhon on French radical ideas. The Commune's vision of a communal France based on a federation of delegates bound by imperative mandates issued by their electors and subject to recall at any moment echoes Bakunin's and Proudhon's ideas (Proudhon, like Bakunin, had argued in favour of the \"implementation of the binding mandate\" in 1848 and for federation of communes), thus both economically and politically the Paris Commune was heavily influenced by anarchist ideas. George Woodcock states that \"a notable contribution to the activities of the Commune and particularly to the organization of public services was made by members of various anarchist factions, including the mutualists Courbet, Longuet, and Vermorel, the libertarian collectivists Varlin, Malon, and Lefrangais, and the bakuninists Elie and Elisée Reclus and Louise Michel\".\n",
      "======================\n",
      "In Paris, the Dielo Truda group of Russian anarchist exiles, which included Nestor Makhno, concluded that anarchists needed to develop new forms of organisation in response to the structures of Bolshevism. Their 1926 manifesto, called the \"Organisational Platform of the General Union of Anarchists (Draft)\", was supported. Platformist groups active today include the Workers Solidarity Movement in Ireland and the North Eastern Federation of Anarchist Communists of North America. Synthesis anarchism emerged as an organisational alternative to platformism that tries to join anarchists of different tendencies under the principles of anarchism without adjectives. In the 1920s, this form found as its main proponents Volin and Sebastien Faure. It is the main principle behind the anarchist federations grouped around the contemporary global International of Anarchist Federations.\n",
      "======================\n",
      "In the 1920s and 1930s, the rise of fascism in Europe transformed anarchism's conflict with the state. Italy saw the first struggles between anarchists and Benito Mussolini's fascists. Italian anarchists played a key role in the anti-fascist organisation \"Arditi del Popolo\", which was strongest in areas with anarchist traditions and achieved some success in their activism, such as repelling Blackshirts in the anarchist stronghold of Parma in August 1922. The veteran Italian anarchist Luigi Fabbri was one of the first critical theorists of fascism, describing it as \"the preventive counter-revolution\". In France, where the far-right leagues came close to insurrection in the February 1934 riots, anarchists divided over a united front policy.\n",
      "======================\n",
      "Anarchism sought to reorganise itself after the war and in this context the organisational debate between synthesis anarchism and platformism took importance once again especially in the anarchist movements of Italy and France. The Mexican Anarchist Federation was established in 1945 after the Anarchist Federation of the Centre united with the Anarchist Federation of the Federal District. In the early 1940s, the Antifascist International Solidarity and the Federation of Anarchist Groups of Cuba merged into the large national organisation Asociación Libertaria de Cuba (Cuban Libertarian Association). From 1944 to 1947, the Bulgarian Anarchist Communist Federation reemerged as part of a factory and workplace committee movement, but was repressed by the new Communist regime. In 1945 in France the Fédération Anarchiste and the anarchosyndicalist trade union Confédération nationale du travail was established in the next year while the also synthesist Federazione Anarchica Italiana was founded in Italy. Korean anarchists formed the League of Free Social Constructors in September 1945 and in 1946 the Japanese Anarchist Federation was founded. An International Anarchist Congress with delegates from across Europe was held in Paris in May 1948. After World War II, an appeal in the \"Fraye Arbeter Shtime\" detailing the plight of German anarchists and called for Americans to support them. By February 1946, the sending of aid parcels to anarchists in Germany was a large-scale operation. The Federation of Libertarian Socialists was founded in Germany in 1947 and Rudolf Rocker wrote for its organ, \"Die Freie Gesellschaft\", which survived until 1953. In 1956, the Uruguayan Anarchist Federation was founded. In 1955, the Anarcho-Communist Federation of Argentina renamed itself as the Argentine Libertarian Federation. The Syndicalist Workers' Federation (SWF) was a syndicalist group in active in post-war Britain, and one of Solidarity Federation's earliest predecessors. It was formed in 1950 by members of the dissolved Anarchist Federation of Britain (AFB). Unlike the AFB, which was influenced by anarcho-syndicalist ideas but ultimately not syndicalist itself, the SWF decided to pursue a more definitely syndicalist, worker-centred strategy from the outset.\n",
      "======================\n",
      "Anarchism sought to reorganise itself after the war and in this context the organisational debate between synthesis anarchism and platformism took importance once again especially in the anarchist movements of Italy and France. The Mexican Anarchist Federation was established in 1945 after the Anarchist Federation of the Centre united with the Anarchist Federation of the Federal District. In the early 1940s, the Antifascist International Solidarity and the Federation of Anarchist Groups of Cuba merged into the large national organisation Asociación Libertaria de Cuba (Cuban Libertarian Association). From 1944 to 1947, the Bulgarian Anarchist Communist Federation reemerged as part of a factory and workplace committee movement, but was repressed by the new Communist regime. In 1945 in France the Fédération Anarchiste and the anarchosyndicalist trade union Confédération nationale du travail was established in the next year while the also synthesist Federazione Anarchica Italiana was founded in Italy. Korean anarchists formed the League of Free Social Constructors in September 1945 and in 1946 the Japanese Anarchist Federation was founded. An International Anarchist Congress with delegates from across Europe was held in Paris in May 1948. After World War II, an appeal in the \"Fraye Arbeter Shtime\" detailing the plight of German anarchists and called for Americans to support them. By February 1946, the sending of aid parcels to anarchists in Germany was a large-scale operation. The Federation of Libertarian Socialists was founded in Germany in 1947 and Rudolf Rocker wrote for its organ, \"Die Freie Gesellschaft\", which survived until 1953. In 1956, the Uruguayan Anarchist Federation was founded. In 1955, the Anarcho-Communist Federation of Argentina renamed itself as the Argentine Libertarian Federation. The Syndicalist Workers' Federation (SWF) was a syndicalist group in active in post-war Britain, and one of Solidarity Federation's earliest predecessors. It was formed in 1950 by members of the dissolved Anarchist Federation of Britain (AFB). Unlike the AFB, which was influenced by anarcho-syndicalist ideas but ultimately not syndicalist itself, the SWF decided to pursue a more definitely syndicalist, worker-centred strategy from the outset.\n",
      "======================\n",
      "Anarchism sought to reorganise itself after the war and in this context the organisational debate between synthesis anarchism and platformism took importance once again especially in the anarchist movements of Italy and France. The Mexican Anarchist Federation was established in 1945 after the Anarchist Federation of the Centre united with the Anarchist Federation of the Federal District. In the early 1940s, the Antifascist International Solidarity and the Federation of Anarchist Groups of Cuba merged into the large national organisation Asociación Libertaria de Cuba (Cuban Libertarian Association). From 1944 to 1947, the Bulgarian Anarchist Communist Federation reemerged as part of a factory and workplace committee movement, but was repressed by the new Communist regime. In 1945 in France the Fédération Anarchiste and the anarchosyndicalist trade union Confédération nationale du travail was established in the next year while the also synthesist Federazione Anarchica Italiana was founded in Italy. Korean anarchists formed the League of Free Social Constructors in September 1945 and in 1946 the Japanese Anarchist Federation was founded. An International Anarchist Congress with delegates from across Europe was held in Paris in May 1948. After World War II, an appeal in the \"Fraye Arbeter Shtime\" detailing the plight of German anarchists and called for Americans to support them. By February 1946, the sending of aid parcels to anarchists in Germany was a large-scale operation. The Federation of Libertarian Socialists was founded in Germany in 1947 and Rudolf Rocker wrote for its organ, \"Die Freie Gesellschaft\", which survived until 1953. In 1956, the Uruguayan Anarchist Federation was founded. In 1955, the Anarcho-Communist Federation of Argentina renamed itself as the Argentine Libertarian Federation. The Syndicalist Workers' Federation (SWF) was a syndicalist group in active in post-war Britain, and one of Solidarity Federation's earliest predecessors. It was formed in 1950 by members of the dissolved Anarchist Federation of Britain (AFB). Unlike the AFB, which was influenced by anarcho-syndicalist ideas but ultimately not syndicalist itself, the SWF decided to pursue a more definitely syndicalist, worker-centred strategy from the outset.\n",
      "======================\n",
      "Anarchism sought to reorganise itself after the war and in this context the organisational debate between synthesis anarchism and platformism took importance once again especially in the anarchist movements of Italy and France. The Mexican Anarchist Federation was established in 1945 after the Anarchist Federation of the Centre united with the Anarchist Federation of the Federal District. In the early 1940s, the Antifascist International Solidarity and the Federation of Anarchist Groups of Cuba merged into the large national organisation Asociación Libertaria de Cuba (Cuban Libertarian Association). From 1944 to 1947, the Bulgarian Anarchist Communist Federation reemerged as part of a factory and workplace committee movement, but was repressed by the new Communist regime. In 1945 in France the Fédération Anarchiste and the anarchosyndicalist trade union Confédération nationale du travail was established in the next year while the also synthesist Federazione Anarchica Italiana was founded in Italy. Korean anarchists formed the League of Free Social Constructors in September 1945 and in 1946 the Japanese Anarchist Federation was founded. An International Anarchist Congress with delegates from across Europe was held in Paris in May 1948. After World War II, an appeal in the \"Fraye Arbeter Shtime\" detailing the plight of German anarchists and called for Americans to support them. By February 1946, the sending of aid parcels to anarchists in Germany was a large-scale operation. The Federation of Libertarian Socialists was founded in Germany in 1947 and Rudolf Rocker wrote for its organ, \"Die Freie Gesellschaft\", which survived until 1953. In 1956, the Uruguayan Anarchist Federation was founded. In 1955, the Anarcho-Communist Federation of Argentina renamed itself as the Argentine Libertarian Federation. The Syndicalist Workers' Federation (SWF) was a syndicalist group in active in post-war Britain, and one of Solidarity Federation's earliest predecessors. It was formed in 1950 by members of the dissolved Anarchist Federation of Britain (AFB). Unlike the AFB, which was influenced by anarcho-syndicalist ideas but ultimately not syndicalist itself, the SWF decided to pursue a more definitely syndicalist, worker-centred strategy from the outset.\n",
      "======================\n",
      "A surge of popular interest in anarchism occurred in western nations during the 1960s and 1970s. Anarchism was influential in the Counterculture of the 1960s and anarchists actively participated in the late sixties students and workers revolts. In 1968, in Carrara, Italy the International of Anarchist Federations was founded during an international anarchist conference held there in 1968 by the three existing European federations of France (the Fédération Anarchiste), the Federazione Anarchica Italiana of Italy and the Iberian Anarchist Federation as well as the Bulgarian federation in French exile.\n",
      "======================\n",
      "Anarcho-communism developed out of radical socialist currents after the French Revolution but was first formulated as such in the Italian section of the First International. The theoretical work of Peter Kropotkin took importance later as it expanded and developed pro-organisationalist and insurrectionary anti-organisationalist sections. To date, the best known examples of an anarchist communist society (i.e. established around the ideas as they exist today and achieving worldwide attention and knowledge in the historical canon), are the anarchist territories during the [[Spanish Revolution of 1936|Spanish Revolution]] and the [[Free Territory]] during the [[Russian Revolution (1917)|Russian Revolution]]. Through the efforts and influence of the [[Anarchism in Spain|Spanish anarchists]] during the Spanish Revolution within the Spanish Civil War, starting in 1936 anarchist communism existed in most of Aragon, parts of the Levante and Andalusia as well as in the stronghold of [[Revolutionary Catalonia|anarchist Catalonia]] before being crushed by the combined forces of the [[Francoist Spain|regime that won the war]], Hitler, Mussolini, Communist Party of Spain repression (backed by the Soviet Union) as well as economic and armaments blockades from the capitalist countries and the Spanish Republic itself. During the Russian Revolution, anarchists such as Nestor Makhno worked to create and defend—through the Revolutionary Insurrectionary Army of Ukraine—anarcho-communism in the Free Territory of the Ukraine from 1919 before being conquered by the Bolsheviks in 1921.\n",
      "======================\n",
      "[[Josiah Warren]] is widely regarded as the first American anarchist, and the four-page weekly paper he edited during 1833, \"The Peaceful Revolutionist\", was the first anarchist periodical published. For American anarchist historian Eunice Minette Schuster, \"[i]t is apparent [...] that Proudhonian Anarchism was to be found in the United States at least as early as 1848 and that it was not conscious of its affinity to the Individualist Anarchism of Josiah Warren and [[Stephen Pearl Andrews]] [...] William B. Greene presented this Proudhonian Mutualism in its purest and most systematic form\". [[Henry David Thoreau]] (1817–1862) was an important early influence in individualist anarchist thought in the United States and Europe. Thoreau was an American author, poet, naturalist, tax resister, [[Development criticism|development critic]], surveyor, historian, philosopher and leading [[transcendentalist]]. He is best known for his books \"[[Walden]]\", a reflection upon [[simple living]] in natural surroundings, as well as his essay, \"[[Civil Disobedience (Thoreau)|Civil Disobedience]]\", an argument for individual resistance to civil government in moral opposition to an unjust state. Benjamin Tucker later fused Stirner's egoism with the economics of Warren and Proudhon in his eclectic influential publication \"[[Liberty (1881–1908)|Liberty]]\".\n",
      "======================\n",
      "[[Insurrectionary anarchism]] is a revolutionary theory, practice, and tendency within the anarchist movement which emphasises [[insurrection]] within anarchist practice. It is critical of formal organisations such as [[labour unions]] and federations that are based on a political programme and periodic congresses. Instead, insurrectionary anarchists advocate informal organisation and small [[affinity group]] based organisation. Insurrectionary anarchists put value in attack, permanent [[class conflict]] and a refusal to negotiate or compromise with class enemies.\n",
      "======================\n",
      "[[Synthesis anarchism]] is a form of anarchism that tries to join anarchists of different tendencies under the principles of anarchism without adjectives. In the 1920s, this form found as its main proponents the [[anarcho-communists]] [[Voline]] and [[Sébastien Faure]]. It is the main principle behind the anarchist federations grouped around the contemporary global [[International of Anarchist Federations]].\n",
      "======================\n",
      "[[Platformism]] is a tendency within the wider anarchist movement based on the organisational theories in the tradition of Dielo Truda's \"Organisational Platform of the General Union of Anarchists (Draft)\". The document was based on the experiences of [[Anarchism in Russia|Russian anarchists]] in the 1917 October Revolution, which led eventually to the victory of the [[Bolsheviks]] over the anarchists and other groups. The \"Platform\" attempted to address and explain the anarchist movement's failures during the Russian Revolution.\n",
      "======================\n",
      "[[File:Gadewar.jpg|thumb|left|Which forms of violence (if any) are [[anarchism and violence|consistent with anarchist values]] is a controversial subject among anarchists]]\n",
      "======================\n",
      "On a tactical level, while [[propaganda of the deed]] was a tactic used by anarchists in the 19th century (e.g. the [[nihilist movement]]), some contemporary anarchists espouse alternative direct action methods such as [[nonviolence]], [[counter-economics]] and [[Crypto-anarchism|anti-state cryptography]] to bring about an anarchist society. About the scope of an anarchist society, some anarchists advocate a global one, while others do so by local ones. The diversity in anarchism has led to widely different use of identical terms among different anarchist traditions, which has led to many [[definitional concerns in anarchist theory]].\n",
      "Intersecting and overlapping between various schools of thought, certain topics of interest and internal disputes have proven perennial within anarchist theory.\n",
      "======================\n",
      "[[File:Emilearmand01.jpg|thumb|upright|[[Individualist anarchism in France|French individualist anarchist]] [[Émile Armand]] propounded the virtues of [[free love]] in the [[Anarchism in France|Parisian anarchist milieu]] of the early 20th century]]\n",
      "An important current within anarchism is [[free love]]. Free love advocates sometimes traced their roots back to [[Josiah Warren]] and to experimental communities, viewed sexual freedom as a clear, direct expression of an individual's sovereignty. Free love particularly stressed [[women's rights]] since most sexual laws discriminated against women, see for example marriage laws and anti-birth control measures. The most important American free love journal was \"[[Lucifer the Lightbearer]]\" (1883–1907), edited by [[Moses Harman]] and [[Lois Waisbrooker]], but also there existed [[Ezra Heywood]] and Angela Heywood's \"[[The Word (free love)|The Word]]\" (1872–1890, 1892–1893). \"[[Free Society]]\" (1895–1897 as \"The Firebrand\"; 1897–1904 as \"Free Society\") was a major anarchist newspaper in the United States at the end of the 19th and beginning of the 20th centuries. The publication advocated free love and women's rights and critiqued \"[[Comstockery]]\"—i.e. censorship of sexual information. Also [[M. E. Lazarus]] was an important American individualist anarchist who promoted free love.\n",
      "======================\n",
      "In New York City's [[Greenwich Village]], [[Bohemianism|bohemian]] feminists and socialists advocated self-realisation and pleasure for women (and also men) in the here and now. They encouraged playing with sexual roles and sexuality and the openly bisexual radical [[Edna St. Vincent Millay]] and the lesbian anarchist [[Margaret C. Anderson|Margaret Anderson]] were prominent among them. Discussion groups organised by the Villagers were frequented by Emma Goldman, among others. Magnus Hirschfeld noted in 1923 that Goldman \"has campaigned boldly and steadfastly for individual rights, and especially for those deprived of their rights. Thus it came about that she was the first and only woman, indeed the first and only American, to take up the defence of homosexual love before the general public\". Before Goldman, [[heterosexual]] anarchist Robert Reitzel (1849–1898) spoke positively of homosexuality from the beginning of the 1890s in his Detroit-based [[German language]] journal \"Der arme Teufel\" (English: The Poor Devil). In Argentina, anarcha-feminist [[Virginia Bolten]] published the newspaper called \"\" (English: \"The Woman's Voice\"), which was published nine times in Rosario between 8 January 1896 and 1 January 1897 and was revived briefly in 1901.\n",
      "======================\n",
      "Social deficits distinguish autism and the related autism spectrum disorders (ASD; see Classification) from other developmental disorders. People with autism have social impairments and often lack the intuition about others that many people take for granted. Noted autistic Temple Grandin described her inability to understand the social communication of neurotypicals, or people with normal neural development, as leaving her feeling \"like an anthropologist on Mars\".\n",
      "======================\n",
      "About a third to a half of individuals with autism do not develop enough natural speech to meet their daily communication needs. Differences in communication may be present from the first year of life, and may include delayed onset of babbling, unusual gestures, diminished responsiveness, and vocal patterns that are not synchronized with the caregiver. In the second and third years, children with autism have less frequent and less diverse babbling, consonants, words, and word combinations; their gestures are less often integrated with words. Children with autism are less likely to make requests or share experiences, and are more likely to simply repeat others' words (echolalia) or reverse pronouns. Joint attention seems to be necessary for functional speech, and deficits in joint attention seem to distinguish infants with ASD: for example: they may look at a pointing hand instead of the pointed-at object, and they consistently fail to point at objects in order to comment on or share an experience. Children with autism may have difficulty with imaginative play and with developing symbols into language.\n",
      "======================\n",
      "Studies of twins suggest that heritability is 0.7 for autism and as high as 0.9 for ASD, and siblings of those with autism are about 25 times more likely to be autistic than the general population. However, most of the mutations that increase autism risk have not been identified. Typically, autism cannot be traced to a Mendelian (single-gene) mutation or to a single chromosome abnormality, and none of the genetic syndromes associated with ASDs have been shown to selectively cause ASD. Numerous candidate genes have been located, with only small effects attributable to any particular gene. Most loci individually explain less than 1% of cases of autism. The large number of autistic individuals with unaffected family members may result from spontaneous structural variation — such as deletions, duplications or inversions in genetic material during meiosis. Hence, a substantial fraction of autism cases may be traceable to genetic causes that are highly heritable but not inherited: that is, the mutation that causes the autism is not present in the parental genome. Autism may be underdiagnosed in women and girls due to an assumption that it is primarily a male condition.\n",
      "======================\n",
      "Studies of twins suggest that heritability is 0.7 for autism and as high as 0.9 for ASD, and siblings of those with autism are about 25 times more likely to be autistic than the general population. However, most of the mutations that increase autism risk have not been identified. Typically, autism cannot be traced to a Mendelian (single-gene) mutation or to a single chromosome abnormality, and none of the genetic syndromes associated with ASDs have been shown to selectively cause ASD. Numerous candidate genes have been located, with only small effects attributable to any particular gene. Most loci individually explain less than 1% of cases of autism. The large number of autistic individuals with unaffected family members may result from spontaneous structural variation — such as deletions, duplications or inversions in genetic material during meiosis. Hence, a substantial fraction of autism cases may be traceable to genetic causes that are highly heritable but not inherited: that is, the mutation that causes the autism is not present in the parental genome. Autism may be underdiagnosed in women and girls due to an assumption that it is primarily a male condition.\n",
      "======================\n",
      "Autism's symptoms result from maturation-related changes in various systems of the brain. How autism occurs is not well understood. Its mechanism can be divided into two areas: the pathophysiology of brain structures and processes associated with autism, and the neuropsychological linkages between brain structures and behaviors. The behaviors appear to have multiple pathophysiologies.\n",
      "======================\n",
      "Unlike many other brain disorders, such as Parkinson's, autism does not have a clear unifying mechanism at either the molecular, cellular, or systems level; it is not known whether autism is a few disorders caused by mutations converging on a few common molecular pathways, or is (like intellectual disability) a large set of disorders with diverse mechanisms. Autism appears to result from developmental factors that affect many or all functional brain systems, and to disturb the timing of brain development more than the final product. Neuroanatomical studies and the associations with teratogens strongly suggest that autism's mechanism includes alteration of brain development soon after conception. This anomaly appears to start a cascade of pathological events in the brain that are significantly influenced by environmental factors. Just after birth, the brains of children with autism tend to grow faster than usual, followed by normal or relatively slower growth in childhood. It is not known whether early overgrowth occurs in all children with autism. It seems to be most prominent in brain areas underlying the development of higher cognitive specialization. Hypotheses for the cellular and molecular bases of pathological early overgrowth include the following:\n",
      "======================\n",
      "Weak central coherence theory hypothesizes that a limited ability to see the big picture underlies the central disturbance in autism. One strength of this theory is predicting special talents and peaks in performance in autistic people. A related theory—enhanced perceptual functioning—focuses more on the superiority of locally oriented and perceptual operations in autistic individuals. Yet another, monotropism, posits that autism stems from a different cognitive style, tending to focus attention (or processing resources) intensely, to the exclusion of other stimuli. These theories map well from the underconnectivity theory of autism.\n",
      "======================\n",
      "Of the five PDD forms, Asperger syndrome is closest to autism in signs and likely causes; Rett syndrome and childhood disintegrative disorder share several signs with autism, but may have unrelated causes; PDD not otherwise specified (PDD-NOS; also called \"atypical autism\") is diagnosed when the criteria are not met for a more specific disorder. Unlike with autism, people with Asperger syndrome have no substantial delay in language development. The terminology of autism can be bewildering, with autism, Asperger syndrome and PDD-NOS often called the \"autism spectrum disorders\" (ASD) or sometimes the \"autistic disorders\", whereas autism itself is often called \"autistic disorder\", \"childhood autism\", or \"infantile autism\". In this article, \"autism\" refers to the classic autistic disorder; in clinical practice, though, \"autism\", \"ASD\", and \"PDD\" are often used interchangeably. ASD, in turn, is a subset of the broader autism phenotype, which describes individuals who may not have ASD but do have autistic-like traits, such as avoiding eye contact.\n",
      "======================\n",
      "Although popularly used as an alternative treatment for people with autism, there is no good evidence that a gluten-free diet is of benefit. In the subset of people who have gluten sensitivity there is limited evidence that suggests that a gluten free diet may improve some autistic behaviors. There is tentative evidence that music therapy may improve social interactions, verbal communication, and non-verbal communication skills. There has been early research looking at hyperbaric treatments in children with autism.\n",
      "======================\n",
      "The emergence of the autism rights movement has served as an attempt to encourage people to be more tolerant of those with autism. Through this movement, people hope to cause others to think of autism as a difference instead of a disease. Proponents of this movement wish to seek \"acceptance, not cures.\" There have also been many worldwide events promoting autism awareness such as World Autism Awareness Day, Light It Up Blue, Autism Sunday, Autistic Pride Day, Autreat, and others. There have also been many organizations dedicated to increasing the awareness of autism and the effects that autism has on someone's life. These organizations include Autism Speaks, Autism National Committee, Autism Society of America, and many others. Social-science scholars have had an increased focused on studying those with autism in hopes to learn more about \"autism as a culture, transcultural comparisons... and research on social movements.\" Media has had an influence on how the public perceives those with autism. \"Rain Man\", a film that won 4 Oscars including Best Picture, depicts a character with autism who has incredible talents and abilities. While many autistic individuals do not have these special abilities, some have been successful in their fields.\n",
      "======================\n",
      "The emergence of the autism rights movement has served as an attempt to encourage people to be more tolerant of those with autism. Through this movement, people hope to cause others to think of autism as a difference instead of a disease. Proponents of this movement wish to seek \"acceptance, not cures.\" There have also been many worldwide events promoting autism awareness such as World Autism Awareness Day, Light It Up Blue, Autism Sunday, Autistic Pride Day, Autreat, and others. There have also been many organizations dedicated to increasing the awareness of autism and the effects that autism has on someone's life. These organizations include Autism Speaks, Autism National Committee, Autism Society of America, and many others. Social-science scholars have had an increased focused on studying those with autism in hopes to learn more about \"autism as a culture, transcultural comparisons... and research on social movements.\" Media has had an influence on how the public perceives those with autism. \"Rain Man\", a film that won 4 Oscars including Best Picture, depicts a character with autism who has incredible talents and abilities. While many autistic individuals do not have these special abilities, some have been successful in their fields.\n",
      "======================\n",
      "The emergence of the autism rights movement has served as an attempt to encourage people to be more tolerant of those with autism. Through this movement, people hope to cause others to think of autism as a difference instead of a disease. Proponents of this movement wish to seek \"acceptance, not cures.\" There have also been many worldwide events promoting autism awareness such as World Autism Awareness Day, Light It Up Blue, Autism Sunday, Autistic Pride Day, Autreat, and others. There have also been many organizations dedicated to increasing the awareness of autism and the effects that autism has on someone's life. These organizations include Autism Speaks, Autism National Committee, Autism Society of America, and many others. Social-science scholars have had an increased focused on studying those with autism in hopes to learn more about \"autism as a culture, transcultural comparisons... and research on social movements.\" Media has had an influence on how the public perceives those with autism. \"Rain Man\", a film that won 4 Oscars including Best Picture, depicts a character with autism who has incredible talents and abilities. While many autistic individuals do not have these special abilities, some have been successful in their fields.\n",
      "======================\n",
      "Several other conditions are common in children with autism. They include:\n",
      "======================\n",
      "Donald Triplett was the first person diagnosed with autism. He was diagnosed by Kanner after being first examined in 1938, and was labeled as \"case 1\". Triplett was noted for his savant abilities, particularly being able to name musical notes played on a piano and to mentally multiply numbers. His father, Oliver, described him as socially withdrawn but interested in number patterns, music notes, letters of the alphabet, and U.S. president pictures. By the age of 2, he had the ability to recite the 23rd Psalm and memorized 25 questions and answers from the Presbyterian catechism. He was also interested in creating musical chords.\n",
      "======================\n",
      "It took until 1980 for the DSM-III to differentiate autism from childhood schizophrenia. In 1987, the DSM-III-R provided a checklist for diagnosing autism. In May 2013, the DSM-5 was released, updating the classification for pervasive developmental disorders. The grouping of disorders, including PDD-NOS, autism, Asperger syndrome, Rett syndrome, and CDD, has been removed and replaced with the general term of Autism Spectrum Disorders. The two categories that exist are impaired social communication and/or interaction, and restricted and/or repetitive behaviors.\n",
      "======================\n",
      "It took until 1980 for the DSM-III to differentiate autism from childhood schizophrenia. In 1987, the DSM-III-R provided a checklist for diagnosing autism. In May 2013, the DSM-5 was released, updating the classification for pervasive developmental disorders. The grouping of disorders, including PDD-NOS, autism, Asperger syndrome, Rett syndrome, and CDD, has been removed and replaced with the general term of Autism Spectrum Disorders. The two categories that exist are impaired social communication and/or interaction, and restricted and/or repetitive behaviors.\n",
      "======================\n",
      "Any albedo in visible light falls within a range of about 0.9 for fresh snow to about 0.04 for charcoal, one of the darkest substances. Deeply shadowed cavities can achieve an effective albedo approaching the zero of a black body. When seen from a distance, the ocean surface has a low albedo, as do most forests, whereas desert areas have some of the highest albedos among landforms. Most land areas are in an albedo range of 0.1 to 0.4. The average albedo of Earth is about 0.3. This is far higher than for the ocean primarily because of the contribution of clouds.\n",
      "Earth's surface albedo is regularly estimated via Earth observation satellite sensors such as NASA's MODIS instruments on board the Terra and Aqua satellites, and the CERES instrument on the Suomi NPP and JPSS. As the amount of reflected radiation is only measured for a single direction by satellite, not all directions, a mathematical model is used to translate a sample set of satellite reflectance measurements into estimates of directional-hemispherical reflectance and bi-hemispherical reflectance (e.g.,). These calculations are based on the bidirectional reflectance distribution function (BRDF), which describes how the reflectance of a given surface depends on the view angle of the observer and the solar angle. BDRF can facilitate translations of observations of reflectance into albedo.\n",
      "======================\n",
      "Any albedo in visible light falls within a range of about 0.9 for fresh snow to about 0.04 for charcoal, one of the darkest substances. Deeply shadowed cavities can achieve an effective albedo approaching the zero of a black body. When seen from a distance, the ocean surface has a low albedo, as do most forests, whereas desert areas have some of the highest albedos among landforms. Most land areas are in an albedo range of 0.1 to 0.4. The average albedo of Earth is about 0.3. This is far higher than for the ocean primarily because of the contribution of clouds.\n",
      "Earth's surface albedo is regularly estimated via Earth observation satellite sensors such as NASA's MODIS instruments on board the Terra and Aqua satellites, and the CERES instrument on the Suomi NPP and JPSS. As the amount of reflected radiation is only measured for a single direction by satellite, not all directions, a mathematical model is used to translate a sample set of satellite reflectance measurements into estimates of directional-hemispherical reflectance and bi-hemispherical reflectance (e.g.,). These calculations are based on the bidirectional reflectance distribution function (BRDF), which describes how the reflectance of a given surface depends on the view angle of the observer and the solar angle. BDRF can facilitate translations of observations of reflectance into albedo.\n",
      "======================\n",
      "Hence, the actual albedo formula_5 (also called blue-sky albedo) can then be given as:\n",
      "======================\n",
      "Enceladus, a moon of Saturn, has one of the highest known albedos of any body in the Solar System, with 99% of EM radiation reflected. Another notable high-albedo body is Eris, with an albedo of 0.96. Many small objects in the outer Solar System and asteroid belt have low albedos down to about 0.05. A typical comet nucleus has an albedo of 0.04. Such a dark surface is thought to be indicative of a primitive and heavily space weathered surface containing some organic compounds.\n",
      "======================\n",
      "Snow albedo is highly variable, ranging from as high as 0.9 for freshly fallen snow, to about 0.4 for melting snow, and as low as 0.2 for dirty snow. Over Antarctica snow albedo averages a little more than 0.8. If a marginally snow-covered area warms, snow tends to melt, lowering the albedo, and hence leading to more snowmelt because more radiation is being absorbed by the snowpack (the ice–albedo positive feedback).\n",
      "======================\n",
      "Albedo works on a smaller scale, too. In sunlight, dark clothes absorb more heat and light-coloured clothes reflect it better, thus allowing some control over body temperature by exploiting the albedo effect of the colour of external clothing.\n",
      "======================\n",
      "A (named , plural \"As\", \"A's\", \"a\"s, \"a's\" or \"aes\") is the first letter and the first vowel of the modern English alphabet and the ISO basic Latin alphabet. It is similar to the Ancient Greek letter alpha, from which it derives. The uppercase version consists of the two slanting sides of a triangle, crossed in the middle by a horizontal bar. The lowercase version can be written in two forms: the double-storey a and single-storey ɑ. The latter is commonly used in handwriting and fonts based on it, especially fonts intended to be read by children, and is also found in italic type.\n",
      "======================\n",
      "A (named , plural \"As\", \"A's\", \"a\"s, \"a's\" or \"aes\") is the first letter and the first vowel of the modern English alphabet and the ISO basic Latin alphabet. It is similar to the Ancient Greek letter alpha, from which it derives. The uppercase version consists of the two slanting sides of a triangle, crossed in the middle by a horizontal bar. The lowercase version can be written in two forms: the double-storey a and single-storey ɑ. The latter is commonly used in handwriting and fonts based on it, especially fonts intended to be read by children, and is also found in italic type.\n",
      "======================\n",
      "By 1600 BC, the Phoenician alphabet letter had a linear form that served as the base for some later forms. Its name is thought to have corresponded closely to the Hebrew or Arabic aleph.\n",
      "When the ancient Greeks adopted the alphabet, they had no use for a letter to represent the glottal stop—the consonant sound that the letter denoted in Phoenician and other Semitic languages, and that was the first phoneme of the Phoenician pronunciation of the letter—so they used their version of the sign to represent the vowel , and called it by the similar name of alpha. In the earliest Greek inscriptions after the Greek Dark Ages, dating to the 8th century BC, the letter rests upon its side, but in the Greek alphabet of later times it generally resembles the modern capital letter, although many local varieties can be distinguished by the shortening of one leg, or by the angle at which the cross line is set.\n",
      "======================\n",
      "Alabama is a state in the southeastern region of the United States. It is bordered by Tennessee to the north, Georgia to the east, Florida and the Gulf of Mexico to the south, and Mississippi to the west. Alabama is the 30th largest by area and the 24th-most populous of the U.S. states. With a total of of inland waterways, Alabama has among the most of any state.\n",
      "======================\n",
      "Alabama is a state in the southeastern region of the United States. It is bordered by Tennessee to the north, Georgia to the east, Florida and the Gulf of Mexico to the south, and Mississippi to the west. Alabama is the 30th largest by area and the 24th-most populous of the U.S. states. With a total of of inland waterways, Alabama has among the most of any state.\n",
      "======================\n",
      "Alabama is a state in the southeastern region of the United States. It is bordered by Tennessee to the north, Georgia to the east, Florida and the Gulf of Mexico to the south, and Mississippi to the west. Alabama is the 30th largest by area and the 24th-most populous of the U.S. states. With a total of of inland waterways, Alabama has among the most of any state.\n",
      "======================\n",
      "Alabama is nicknamed the \"Yellowhammer State\", after the state bird. Alabama is also known as the \"Heart of Dixie\" and the \"Cotton State\". The state tree is the longleaf pine, and the state flower is the camellia. Alabama's capital is Montgomery. The largest city by population is Birmingham, which has long been the most industrialized city; the largest city by land area is Huntsville. The oldest city is Mobile, founded by French colonists in 1702 as the capital of French Louisiana.\n",
      "======================\n",
      "Alabama is nicknamed the \"Yellowhammer State\", after the state bird. Alabama is also known as the \"Heart of Dixie\" and the \"Cotton State\". The state tree is the longleaf pine, and the state flower is the camellia. Alabama's capital is Montgomery. The largest city by population is Birmingham, which has long been the most industrialized city; the largest city by land area is Huntsville. The oldest city is Mobile, founded by French colonists in 1702 as the capital of French Louisiana.\n",
      "======================\n",
      "Alabama is nicknamed the \"Yellowhammer State\", after the state bird. Alabama is also known as the \"Heart of Dixie\" and the \"Cotton State\". The state tree is the longleaf pine, and the state flower is the camellia. Alabama's capital is Montgomery. The largest city by population is Birmingham, which has long been the most industrialized city; the largest city by land area is Huntsville. The oldest city is Mobile, founded by French colonists in 1702 as the capital of French Louisiana.\n",
      "======================\n",
      "Alabama is nicknamed the \"Yellowhammer State\", after the state bird. Alabama is also known as the \"Heart of Dixie\" and the \"Cotton State\". The state tree is the longleaf pine, and the state flower is the camellia. Alabama's capital is Montgomery. The largest city by population is Birmingham, which has long been the most industrialized city; the largest city by land area is Huntsville. The oldest city is Mobile, founded by French colonists in 1702 as the capital of French Louisiana.\n",
      "======================\n",
      "Before Mississippi's admission to statehood on December 10, 1817, the more sparsely settled eastern half of the territory was separated and named the Alabama Territory. The United States Congress created the Alabama Territory on March 3, 1817. St. Stephens, now abandoned, served as the territorial capital from 1817 to 1819.\n",
      "======================\n",
      "Alabama is bordered by the states of Tennessee to the north, Georgia to the east, Florida to the south, and Mississippi to the west. Alabama has coastline at the Gulf of Mexico, in the extreme southern edge of the state. The state ranges in elevation from sea level at Mobile Bay to over 1,800 feet (550 m) in the Appalachian Mountains in the northeast.\n",
      "======================\n",
      "Immigration from outside the U.S. resulted in a net increase of 31,180 people, and migration within the country produced a net gain of 73,811 people. The state had 108,000 foreign-born (2.4% of the state population), of which an estimated 22.2% were undocumented (24,000).\n",
      "======================\n",
      "According to the 2010 Census, Alabama had a population of 4,779,736. The racial composition of the state was 68.5% White (67.0% Non-Hispanic White and 1.5% Hispanic White), 26.2% Black or African American, 3.9% Hispanic or Latino of any race, 1.1% Asian, 0.6% American Indian and Alaska Native, 0.1% Native Hawaiian and Other Pacific Islander, 2.0% from Some Other Race, and 1.5% from Two or More Races. In 2011, 46.6% of Alabama's population younger than age 1 were minorities.\n",
      "======================\n",
      "Alabama is located in the middle of the Bible Belt, a region of numerous Protestant Christians. Alabama has been identified as one of the most religious states in the United States, with about 58% of the population attending church regularly. A majority of people in the state identify as Evangelical Protestant. , the three largest denominational groups in Alabama are the Southern Baptist Convention, The United Methodist Church, and non-denominational Evangelical Protestant.\n",
      "======================\n",
      "A Centers for Disease Control and Prevention study in 2008 showed that obesity in Alabama was a problem, with most counties having over 29% of adults obese, except for ten which had a rate between 26% and 29%. Residents of the state, along with those in five other states, were least likely in the nation to be physically active during leisure time. Alabama, and the southeastern U.S. in general, has one of the highest incidences of adult onset diabetes in the country, exceeding 10% of adults.\n",
      "======================\n",
      "Alabama has no state minimum wage and uses the federal minimum wage of $7.25. In February 2016, the state passed legislation that prevents Alabama municipalities from raising the minimum wage in their locality. The legislation voids a Birmingham city ordinance that was to raise the city's minimum wage to $10.10.\n",
      "======================\n",
      ", Alabama has the sixth highest poverty rate among states in the U.S. In 2017, United Nations Special Rapporteur Philip Alston toured parts of rural Alabama and observed environmental conditions that he said were poorer than anywhere he had seen in the developed world.\n",
      "======================\n",
      "Alabama's industrial outputs include iron and steel products (including cast-iron and steel pipe); paper, lumber, and wood products; mining (mostly coal); plastic products; cars and trucks; and apparel. In addition, Alabama produces aerospace and electronic products, mostly in the Huntsville area, the location of NASA's George C. Marshall Space Flight Center and the U.S. Army Materiel Command, headquartered at Redstone Arsenal.\n",
      "A great deal of Alabama's economic growth since the 1990s has been due to the state's expanding automotive manufacturing industry. Located in the state are Honda Manufacturing of Alabama, Hyundai Motor Manufacturing Alabama, Mercedes-Benz U.S. International, and Toyota Motor Manufacturing Alabama, as well as their various suppliers. Since 1993, the automobile industry has generated more than 67,800 new jobs in the state. Alabama currently ranks 4th in the nation for vehicle exports.\n",
      "======================\n",
      "UAB Hospital is the only Level I trauma center in Alabama. UAB is the largest state government employer in Alabama, with a workforce of about 18,000.\n",
      "======================\n",
      "The foundational document for Alabama's government is the Alabama Constitution, which was ratified in 1901. At almost 800 amendments and 310,000 words, it is by some accounts the world's longest constitution and is roughly forty times the length of the United States Constitution.\n",
      "======================\n",
      "At that time, Alabama and many other states had to change their legislative districting, as many across the country had systems that underrepresented urban areas and districts. This had caused decades of underinvestment in such areas. For instance, Birmingham and Jefferson County taxes had supplied one-third of the state budget, but Jefferson County received only 1/67th of state services in funding. Through the legislative delegations, the Alabama legislature kept control of county governments.\n",
      "The executive branch is responsible for the execution and oversight of laws. It is headed by the Governor of Alabama. Other members of executive branch include the cabinet, the Attorney General of Alabama, the Alabama Secretary of State, the Alabama State Treasurer, and the State Auditor of Alabama. The current governor of the state is Republican Kay Ivey. The office of lieutenant governor is currently vacant.\n",
      "======================\n",
      "At that time, Alabama and many other states had to change their legislative districting, as many across the country had systems that underrepresented urban areas and districts. This had caused decades of underinvestment in such areas. For instance, Birmingham and Jefferson County taxes had supplied one-third of the state budget, but Jefferson County received only 1/67th of state services in funding. Through the legislative delegations, the Alabama legislature kept control of county governments.\n",
      "The executive branch is responsible for the execution and oversight of laws. It is headed by the Governor of Alabama. Other members of executive branch include the cabinet, the Attorney General of Alabama, the Alabama Secretary of State, the Alabama State Treasurer, and the State Auditor of Alabama. The current governor of the state is Republican Kay Ivey. The office of lieutenant governor is currently vacant.\n",
      "======================\n",
      "The judicial branch is responsible for interpreting the state's Constitution and applying the law in state criminal and civil cases. The state's highest court is the Supreme Court of Alabama. Alabama uses partisan elections to select judges. Since the 1980s judicial campaigns have become increasingly politicized. The current chief justice of the Alabama Supreme Court is Republican Lyn Stuart. All sitting justices on the Alabama Supreme Court are members of the Republican Party. There are two intermediate appellate courts, the Court of Civil Appeals and the Court of Criminal Appeals, and four trial courts: the circuit court (trial court of general jurisdiction), and the district, probate, and municipal courts.\n",
      "======================\n",
      "The corporate income tax rate is currently 6.5%. The overall federal, state, and local tax burden in Alabama ranks the state as the second least tax-burdened state in the country. Property taxes are the lowest in the U.S. The current state constitution requires a voter referendum to raise property taxes.\n",
      "======================\n",
      "Alabama has 67 counties. Each county has its own elected legislative branch, usually called the county commission. It also has limited executive authority in the county. Because of the constraints of the Alabama Constitution, which centralizes power in the state legislature, only seven counties (Jefferson, Lee, Mobile, Madison, Montgomery, Shelby, and Tuscaloosa) in the state have limited home rule. Instead, most counties in the state must lobby the Local Legislation Committee of the state legislature to get simple local policies approved, ranging from waste disposal to land use zoning.\n",
      "======================\n",
      "Alabama's 67 County Sheriffs are elected in partisan, at-large races, and Democrats still retain the narrow majority of those posts. The current split is 35 Democrats, 31 Republicans, and one Independent Fayette. However, most of the Democratic sheriffs preside over rural and less populated counties. The majority of Republican sheriffs have been elected in the more urban/suburban and heavily populated counties. , the state of Alabama has one female sheriff, in Morgan County, Alabama, and ten African-American sheriffs.\n",
      "======================\n",
      "The state's two U.S. senators are Republican Richard C. Shelby and Democrat Doug Jones. Shelby was originally elected to the Senate as a Democrat in 1986 and re-elected in 1992, but switched parties immediately following the November 1994 general election.\n",
      "======================\n",
      "Alabama's programs of higher education include 14 four-year public universities, two-year community colleges, and 17 private, undergraduate and graduate universities. In the state are four medical schools (as of fall 2015) (University of Alabama School of Medicine, University of South Alabama and Alabama College of Osteopathic Medicine and The Edward Via College of Osteopathic Medicine – Auburn Campus), two veterinary colleges (Auburn University and Tuskegee University), a dental school (University of Alabama School of Dentistry), an optometry college (University of Alabama at Birmingham), two pharmacy schools (Auburn University and Samford University), and five law schools (University of Alabama School of Law, Birmingham School of Law, Cumberland School of Law, Miles Law School, and the Thomas Goode Jones School of Law). Public, post-secondary education in Alabama is overseen by the Alabama Commission on Higher Education and the Alabama Department of Postsecondary Education. Colleges and universities in Alabama offer degree programs from two-year associate degrees to a multitude of doctoral level programs.\n",
      "The largest single campus is the University of Alabama, located in Tuscaloosa, with 37,665 enrolled for fall 2016. Troy University was the largest institution in the state in 2010, with an enrollment of 29,689 students across four Alabama campuses (Troy, Dothan, Montgomery, and Phenix City), as well as sixty learning sites in seventeen other states and eleven other countries. The oldest institutions are the public University of North Alabama in Florence and the Catholic Church-affiliated Spring Hill College in Mobile, both founded in 1830.\n",
      "======================\n",
      "According to the 2012 \"U.S. News & World Report\", Alabama had four tier 1 universities (University of Alabama, Auburn University, University of Alabama at Birmingham and University of Alabama in Huntsville).\n",
      "======================\n",
      "In Greek mythology, Achilles or Achilleus ( ; , \"Achilleus\" ) was a Greek hero of the Trojan War and the central character and the greatest warrior of Homer's \"Iliad\". His mother was the immortal Nereid Thetis, and his father, the mortal Peleus, was the king of the Myrmidons.\n",
      "======================\n",
      "Achilles' most notable feat during the Trojan War was the slaying of the Trojan hero Hector outside the gates of Troy. Although the death of Achilles is not presented in the \"Iliad\", other sources concur that he was killed near the end of the Trojan War by Paris, who shot him in the heel with an arrow. Later legends (beginning with a poem by Statius in the 1st century AD) state that Achilles was invulnerable in all of his body except for his heel because, when his mother Thetis dipped him in the river Styx as an infant, she held him by one of his heels. Alluding to these legends, the term \"Achilles' heel\" has come to mean a point of weakness, especially in someone or something with an otherwise strong constitution. The Achilles tendon is also named after him due to these legends.\n",
      "======================\n",
      "Achilles' most notable feat during the Trojan War was the slaying of the Trojan hero Hector outside the gates of Troy. Although the death of Achilles is not presented in the \"Iliad\", other sources concur that he was killed near the end of the Trojan War by Paris, who shot him in the heel with an arrow. Later legends (beginning with a poem by Statius in the 1st century AD) state that Achilles was invulnerable in all of his body except for his heel because, when his mother Thetis dipped him in the river Styx as an infant, she held him by one of his heels. Alluding to these legends, the term \"Achilles' heel\" has come to mean a point of weakness, especially in someone or something with an otherwise strong constitution. The Achilles tendon is also named after him due to these legends.\n",
      "======================\n",
      "Also, in the fragmentary poems of the Epic Cycle in which one can find description of the hero's death (i.e. the \"Cypria\", the \"Little Iliad\" by Lesches of Pyrrha, the \"Aithiopis\" and \"Iliou persis\" by Arctinus of Miletus), there is no trace of any reference to his general invulnerability or his famous weakness at the heel; in the later vase paintings presenting the death of Achilles, the arrow (or in many cases, arrows) hit his torso. \n",
      "======================\n",
      "Peleus entrusted Achilles to Chiron the Centaur, on Mount Pelion, to be reared. Thetis foretold that her son's fate was either to gain glory and die young, or to live a long but uneventful life in obscurity. Achilles chose the former, and decided to take part in the Trojan war. According to Homer, Achilles grew up in Phthia together with his companion Patroclus.\n",
      "======================\n",
      "When the Greeks left for the Trojan War, they accidentally stopped in Mysia, ruled by King Telephus. In the resulting battle, Achilles gave Telephus a wound that would not heal; Telephus consulted an oracle, who stated that \"he that wounded shall heal\". Guided by the oracle, he arrived at Argos, where Achilles healed him in order that he might become their guide for the voyage to Troy.\n",
      "======================\n",
      "Homer's \"Iliad\" is the most famous narrative of Achilles' deeds in the Trojan War. Achilles' wrath (μῆνις Ἀχιλλέως, \"mênis Achilléōs\") is the central theme of the poem. The first two lines of the \"Iliad\" read:\n",
      "The Homeric epic only covers a few weeks of the decade-long war, and does not narrate Achilles' death. It begins with Achilles' withdrawal from battle after being dishonoured by Agamemnon, the commander of the Achaean forces. Agamemnon has taken a woman named Chryseis as his slave. Her father Chryses, a priest of Apollo, begs Agamemnon to return her to him. Agamemnon refuses, and Apollo sends a plague amongst the Greeks. The prophet Calchas correctly determines the source of the troubles but will not speak unless Achilles vows to protect him. Achilles does so, and Calchas declares that Chryseis must be returned to her father. Agamemnon consents, but then commands that Achilles' battle prize Briseis, the daughter of Briseus, be brought to him to replace Chryseis. Angry at the dishonour of having his plunder and glory taken away (and, as he says later, because he loves Briseis), with the urging of his mother Thetis, Achilles refuses to fight or lead his troops alongside the other Greek forces. At the same time, burning with rage over Agamemnon's theft, Achilles prays to Thetis to convince Zeus to help the Trojans gain ground in the war, so that he may regain his honour.\n",
      "======================\n",
      "The Trojans, led by Hector, subsequently push the Greek army back toward the beaches and assault the Greek ships. With the Greek forces on the verge of absolute destruction, Patroclus leads the Myrmidons into battle, wearing Achilles' armour, though Achilles remains at his camp. Patroclus succeeds in pushing the Trojans back from the beaches, but is killed by Hector before he can lead a proper assault on the city of Troy.\n",
      "======================\n",
      "Following the death of Patroclus, Nestor's son Antilochus becomes Achilles' closest companion. When Memnon, son of the Dawn Goddess Eos and king of Ethiopia, slays Antilochus, Achilles once more obtains revenge on the battlefield, killing Memnon. Consequently, Eos will not let the sun rise, until Zeus persuades her. The fight between Achilles and Memnon over Antilochus echoes that of Achilles and Hector over Patroclus, except that Memnon (unlike Hector) was also the son of a goddess.\n",
      "======================\n",
      "The tomb of Achilles, extant throughout antiquity in Troad, was venerated by Thessalians, but also by Persian expeditionary forces, as well as by Alexander the Great and the Roman emperor Caracalla. Achilles' cult was also to be found at other places, e. g. on the island of Astypalaea in the Sporades, in Sparta which had a sanctuary, in Elis and in Achilles' homeland Thessaly, as well as in the Magna Graecia cities of Tarentum, Locri and Croton, accounting for an almost Panhellenic cult to the hero.\n",
      "======================\n",
      "In the following chapter of his book, Pliny refers to the same island as \"Achillea\" and introduces two further names for it: \"Leuce\" or \"Macaron\" (from Greek [νῆσος] μακαρῶν \"island of the blest\"). The \"present day\" measures, he gives at this point, seem to account for an identification of \"Achillea\" or \"Leuce\" with today's Snake Island. Pliny's contemporary Pomponius Mela (c. 43 AD) tells that Achilles was buried on an island named \"Achillea\", situated between the Borysthenes and the Ister, adding to the geographical confusion. Ruins of a square temple, measuring 30 meters to a side, possibly that dedicated to Achilles, were discovered by Captain Kritzikly in 1823 on Snake Island. A second exploration in 1840 showed that the construction of a lighthouse had destroyed all traces of this temple. A fifth century BC black-glazed lekythos inscription, found on the island in 1840, reads: \"Glaukos, son of Poseidon, dedicated me to Achilles, lord of Leuke.\" In another inscription from the fifth or fourth century BC, a statue is dedicated to Achilles, lord of Leuke, by a citizen of Olbia, while in a further dedication, the city of Olbia confirms its continuous maintenance of the island's cult, again suggesting its quality as a place of a supra-regional hero veneration.\n",
      "======================\n",
      "The Greek geographer Dionysius Periegetes, who lived probably during the first century AD, wrote that the island was called \"Leuce\" \"because the wild animals which live there are white. It is said that there, in Leuce island, reside the souls of Achilles and other heroes, and that they wander through the uninhabited valleys of this island; this is how Jove rewarded the men who had distinguished themselves through their virtues, because through virtue they had acquired everlasting honour\". Similarly, others relate the island's name to its white cliffs, snakes or birds dwelling there. Pausanias has been told that the island is \"covered with forests and full of animals, some wild, some tame. In this island there is also Achilles' temple and his statue\". Leuce had also a reputation as a place of healing. Pausanias reports that the Delphic Pythia sent a lord of Croton to be cured of a chest wound. Ammianus Marcellinus attributes the healing to waters (\"aquae\") on the island.\n",
      "======================\n",
      "Abraham Lincoln was born on February 12, 1809, as the second child of Thomas and Nancy Hanks Lincoln, in a one-room log cabin on the Sinking Spring Farm near Hodgenville, Kentucky. He was a descendant of Samuel Lincoln, an Englishman who migrated from Hingham, Norfolk, to its namesake of Hingham, Massachusetts, in 1638. Samuel's grandson and great-grandson began the family's western migration, which passed through New Jersey, Pennsylvania, and Virginia. Lincoln's paternal grandfather and namesake, Captain Abraham Lincoln, moved the family from Virginia to Jefferson County, Kentucky, in the 1780s. Captain Lincoln was killed in an Indian raid in 1786. His children, including eight-year-old Thomas, the future president's father, witnessed the attack. After his father's murder, Thomas was left to make his own way on the frontier, working at odd jobs in Kentucky and in Tennessee, before settling with members of his family in Hardin County, Kentucky, in the early 1800s.\n",
      "Lincoln's mother, Nancy, is widely assumed to have been the daughter of Lucy Hanks, although no record of Nancy Hanks' birth has ever been found. According to William Ensign Lincoln's book \"The Ancestry of Abraham Lincoln\", Nancy was the daughter of Joseph Hanks; however, the debate continues over whether she was born out of wedlock. Still another researcher, Adin Baber, claims that Nancy Hanks was the daughter of Abraham Hanks and Sarah Harper of Virginia.\n",
      "======================\n",
      "Abraham Lincoln was born on February 12, 1809, as the second child of Thomas and Nancy Hanks Lincoln, in a one-room log cabin on the Sinking Spring Farm near Hodgenville, Kentucky. He was a descendant of Samuel Lincoln, an Englishman who migrated from Hingham, Norfolk, to its namesake of Hingham, Massachusetts, in 1638. Samuel's grandson and great-grandson began the family's western migration, which passed through New Jersey, Pennsylvania, and Virginia. Lincoln's paternal grandfather and namesake, Captain Abraham Lincoln, moved the family from Virginia to Jefferson County, Kentucky, in the 1780s. Captain Lincoln was killed in an Indian raid in 1786. His children, including eight-year-old Thomas, the future president's father, witnessed the attack. After his father's murder, Thomas was left to make his own way on the frontier, working at odd jobs in Kentucky and in Tennessee, before settling with members of his family in Hardin County, Kentucky, in the early 1800s.\n",
      "Lincoln's mother, Nancy, is widely assumed to have been the daughter of Lucy Hanks, although no record of Nancy Hanks' birth has ever been found. According to William Ensign Lincoln's book \"The Ancestry of Abraham Lincoln\", Nancy was the daughter of Joseph Hanks; however, the debate continues over whether she was born out of wedlock. Still another researcher, Adin Baber, claims that Nancy Hanks was the daughter of Abraham Hanks and Sarah Harper of Virginia.\n",
      "======================\n",
      "Lincoln was largely self-educated. His formal schooling from several itinerant teachers was intermittent, the aggregate of which may have amounted to less than a year; however, he was an avid reader and retained a lifelong interest in learning. Family, neighbors, and schoolmates of Lincoln's youth recalled that he read and reread the King James Bible, Aesop's Fables, John Bunyan's \"The Pilgrim's Progress\", Daniel Defoe's \"Robinson Crusoe\", Mason Locke Weems's \"The Life of Washington\", and \"The Autobiography of Benjamin Franklin\", among others.\n",
      "======================\n",
      "As he grew into his teens, Lincoln took responsibility for the chores expected of him as one of the boys in the household. He also complied with the customary obligation of a son giving his father all earnings from work done outside the home until the age of 21. Abraham became adept at using an axe. Tall for his age, Lincoln was also strong and athletic. He attained a reputation for brawn and audacity after a very competitive wrestling match with the renowned leader of a group of ruffians known as \"the Clary's Grove boys\".\n",
      "======================\n",
      "He was an affectionate, though often absent, husband and father of four children. Robert Todd Lincoln was born in 1843 and Edward Baker Lincoln (Eddie) in 1846. Edward died on February 1, 1850, in Springfield, probably of tuberculosis. \"Willie\" Lincoln was born on December 21, 1850, and died of a fever on February 20, 1862. The Lincolns' fourth son, Thomas \"Tad\" Lincoln, was born on April 4, 1853, and died of heart failure at the age of 18 on July 16, 1871. Robert was the only child to live to adulthood and have children. The Lincolns' last descendant, great-grandson Robert Todd Lincoln Beckwith, died in 1985. Lincoln \"was remarkably fond of children\", and the Lincolns were not considered to be strict with their own.\n",
      "======================\n",
      "He was an affectionate, though often absent, husband and father of four children. Robert Todd Lincoln was born in 1843 and Edward Baker Lincoln (Eddie) in 1846. Edward died on February 1, 1850, in Springfield, probably of tuberculosis. \"Willie\" Lincoln was born on December 21, 1850, and died of a fever on February 20, 1862. The Lincolns' fourth son, Thomas \"Tad\" Lincoln, was born on April 4, 1853, and died of heart failure at the age of 18 on July 16, 1871. Robert was the only child to live to adulthood and have children. The Lincolns' last descendant, great-grandson Robert Todd Lincoln Beckwith, died in 1985. Lincoln \"was remarkably fond of children\", and the Lincolns were not considered to be strict with their own.\n",
      "======================\n",
      "He was an affectionate, though often absent, husband and father of four children. Robert Todd Lincoln was born in 1843 and Edward Baker Lincoln (Eddie) in 1846. Edward died on February 1, 1850, in Springfield, probably of tuberculosis. \"Willie\" Lincoln was born on December 21, 1850, and died of a fever on February 20, 1862. The Lincolns' fourth son, Thomas \"Tad\" Lincoln, was born on April 4, 1853, and died of heart failure at the age of 18 on July 16, 1871. Robert was the only child to live to adulthood and have children. The Lincolns' last descendant, great-grandson Robert Todd Lincoln Beckwith, died in 1985. Lincoln \"was remarkably fond of children\", and the Lincolns were not considered to be strict with their own.\n",
      "======================\n",
      "He was an affectionate, though often absent, husband and father of four children. Robert Todd Lincoln was born in 1843 and Edward Baker Lincoln (Eddie) in 1846. Edward died on February 1, 1850, in Springfield, probably of tuberculosis. \"Willie\" Lincoln was born on December 21, 1850, and died of a fever on February 20, 1862. The Lincolns' fourth son, Thomas \"Tad\" Lincoln, was born on April 4, 1853, and died of heart failure at the age of 18 on July 16, 1871. Robert was the only child to live to adulthood and have children. The Lincolns' last descendant, great-grandson Robert Todd Lincoln Beckwith, died in 1985. Lincoln \"was remarkably fond of children\", and the Lincolns were not considered to be strict with their own.\n",
      "======================\n",
      "Lincoln served as New Salem's postmaster and later as county surveyor, all the while reading voraciously. He then decided to become a lawyer and began teaching himself law by reading Blackstone's \"Commentaries on the Laws of England\" and other law books. Of his learning method, Lincoln stated: \"I studied with nobody\". His second campaign in 1834 was successful. He won election to the state legislature; though he ran as a Whig, many Democrats favored him over a more powerful Whig opponent.\n",
      "Admitted to the Illinois bar in 1836, he moved to Springfield, Illinois, and began to practice law under John T. Stuart, Mary Todd's cousin. Lincoln became an able and successful lawyer with a reputation as a formidable adversary during cross-examinations and closing arguments. He partnered with Stephen T. Logan from 1841 until 1844. Then Lincoln began his practice with William Herndon, whom Lincoln thought \"a studious young man\".\n",
      "======================\n",
      "Lincoln served as New Salem's postmaster and later as county surveyor, all the while reading voraciously. He then decided to become a lawyer and began teaching himself law by reading Blackstone's \"Commentaries on the Laws of England\" and other law books. Of his learning method, Lincoln stated: \"I studied with nobody\". His second campaign in 1834 was successful. He won election to the state legislature; though he ran as a Whig, many Democrats favored him over a more powerful Whig opponent.\n",
      "Admitted to the Illinois bar in 1836, he moved to Springfield, Illinois, and began to practice law under John T. Stuart, Mary Todd's cousin. Lincoln became an able and successful lawyer with a reputation as a formidable adversary during cross-examinations and closing arguments. He partnered with Stephen T. Logan from 1841 until 1844. Then Lincoln began his practice with William Herndon, whom Lincoln thought \"a studious young man\".\n",
      "======================\n",
      "Lincoln ran for the Whig nomination for Illinois's 7th district of the U.S. House of Representatives in 1843, but was defeated by John J. Hardin. However, Lincoln won support for the principle of rotation, whereby Hardin would retire after only one term to allow for the nomination of another candidate. Lincoln hoped that this arrangement would lead to his nomination in 1846. Lincoln was indeed elected to the House of Representatives in 1846, where he served one two-year term. He was the only Whig in the Illinois delegation, but he showed his party loyalty by participating in almost all votes and making speeches that echoed the party line. Lincoln, in collaboration with abolitionist Congressman Joshua R. Giddings, wrote a bill to abolish slavery in the District of Columbia with compensation for the owners, enforcement to capture fugitive slaves, and a popular vote on the matter. He abandoned the bill when it failed to garner sufficient Whig supporters.\n",
      "On foreign and military policy, Lincoln spoke out against the Mexican–American War, which he attributed to President Polk's desire for \"military glory—that attractive rainbow, that rises in showers of blood\". Lincoln also supported the Wilmot Proviso, which, if it had been adopted, would have banned slavery in any U.S. territory won from Mexico.\n",
      "Lincoln emphasized his opposition to Polk by drafting and introducing his Spot Resolutions. The war had begun with a Mexican slaughter of American soldiers in territory disputed by Mexico and the U.S. Polk insisted that Mexican soldiers had \"invaded \"our territory\" and shed the blood of our fellow-citizens on our \"own soil\"\". Lincoln demanded that Polk show Congress the exact spot on which blood had been shed and prove that the spot was on American soil.\n",
      "======================\n",
      "Lincoln ran for the Whig nomination for Illinois's 7th district of the U.S. House of Representatives in 1843, but was defeated by John J. Hardin. However, Lincoln won support for the principle of rotation, whereby Hardin would retire after only one term to allow for the nomination of another candidate. Lincoln hoped that this arrangement would lead to his nomination in 1846. Lincoln was indeed elected to the House of Representatives in 1846, where he served one two-year term. He was the only Whig in the Illinois delegation, but he showed his party loyalty by participating in almost all votes and making speeches that echoed the party line. Lincoln, in collaboration with abolitionist Congressman Joshua R. Giddings, wrote a bill to abolish slavery in the District of Columbia with compensation for the owners, enforcement to capture fugitive slaves, and a popular vote on the matter. He abandoned the bill when it failed to garner sufficient Whig supporters.\n",
      "On foreign and military policy, Lincoln spoke out against the Mexican–American War, which he attributed to President Polk's desire for \"military glory—that attractive rainbow, that rises in showers of blood\". Lincoln also supported the Wilmot Proviso, which, if it had been adopted, would have banned slavery in any U.S. territory won from Mexico.\n",
      "Lincoln emphasized his opposition to Polk by drafting and introducing his Spot Resolutions. The war had begun with a Mexican slaughter of American soldiers in territory disputed by Mexico and the U.S. Polk insisted that Mexican soldiers had \"invaded \"our territory\" and shed the blood of our fellow-citizens on our \"own soil\"\". Lincoln demanded that Polk show Congress the exact spot on which blood had been shed and prove that the spot was on American soil.\n",
      "======================\n",
      "Accepting the nomination, Lincoln delivered his House Divided Speech, drawing on Mark 3:25, \"A house divided against itself cannot stand. I believe this government cannot endure permanently half slave and half free. I do not expect the Union to be dissolved—I do not expect the house to fall—but I do expect it will cease to be divided. It will become all one thing, or all the other.\" The speech created an evocative image of the danger of disunion caused by the slavery debate, and rallied Republicans across the North. The stage was then set for the campaign for statewide election of the Illinois legislature which would, in turn, select Lincoln or Douglas as its U.S. senator. On being informed of Lincoln's nomination, Douglas stated, \"[Lincoln] is the strong man of the party ... and if I beat him, my victory will be hardly won.\"\n",
      "======================\n",
      "The Senate campaign featured the seven Lincoln–Douglas debates of 1858, the most famous political debates in American history. The principals stood in stark contrast both physically and politically. Lincoln warned that \"The Slave Power\" was threatening the values of republicanism, and accused Douglas of distorting the values of the Founding Fathers that all men are created equal, while Douglas emphasized his Freeport Doctrine, that local settlers were free to choose whether to allow slavery or not, and accused Lincoln of having joined the abolitionists. The debates had an atmosphere of a prize fight and drew crowds in the thousands. Lincoln stated Douglas' popular sovereignty theory was a threat to the nation's morality and that Douglas represented a conspiracy to extend slavery to free states. Douglas said that Lincoln was defying the authority of the U.S. Supreme Court and the \"Dred Scott\" decision.\n",
      "======================\n",
      "Prior to the Republican convention, the Lincoln campaign began cultivating a nationwide youth organization, the Wide Awakes, which it used to generate popular support for Lincoln throughout the country to spearhead large voter registration drives, knowing that new voters and young voters tend to embrace new and young parties. As Lincoln's ideas of abolishing slavery grew, so did his supporters. People of the Northern states knew the Southern states would vote against Lincoln because of his ideas of anti-slavery and took action to rally supporters for Lincoln.\n",
      "======================\n",
      "Prior to the Republican convention, the Lincoln campaign began cultivating a nationwide youth organization, the Wide Awakes, which it used to generate popular support for Lincoln throughout the country to spearhead large voter registration drives, knowing that new voters and young voters tend to embrace new and young parties. As Lincoln's ideas of abolishing slavery grew, so did his supporters. People of the Northern states knew the Southern states would vote against Lincoln because of his ideas of anti-slavery and took action to rally supporters for Lincoln.\n",
      "======================\n",
      "Lincoln received 1,866,452 votes, Douglas 1,376,957 votes, Breckinridge 849,781 votes, and Bell 588,789 votes. Turnout was 82.2 percent, with Lincoln winning the free Northern states, as well as California and Oregon. Douglas won Missouri, and split New Jersey with Lincoln. Bell won Virginia, Tennessee, and Kentucky, and Breckinridge won the rest of the South.\n",
      "======================\n",
      "Although Lincoln won only a plurality of the popular vote, his victory in the electoral college was decisive: Lincoln had 180 and his opponents added together had only 123. There were fusion tickets in which all of Lincoln's opponents combined to support the same slate of Electors in New York, New Jersey, and Rhode Island, but even if the anti-Lincoln vote had been combined in every state, Lincoln still would have won a majority in the Electoral College.\n",
      "======================\n",
      "The President ended his address with an appeal to the people of the South: \"We are not enemies, but friends. We must not be enemies ... The mystic chords of memory, stretching from every battlefield, and patriot grave, to every living heart and hearthstone, all over this broad land, will yet swell the chorus of the Union, when again touched, as surely they will be, by the better angels of our nature.\" The failure of the Peace Conference of 1861 signaled that legislative compromise was impossible. By March 1861, no leaders of the insurrection had proposed rejoining the Union on any terms. Meanwhile, Lincoln and the Republican leadership agreed that the dismantling of the Union could not be tolerated. Lincoln said as the war was ending:\n",
      "======================\n",
      "After the Battle of Fort Sumter, Lincoln realized the importance of taking immediate executive control of the war and forming an overall Union military strategy to put down the rebellion. Lincoln encountered an unprecedented political and military crisis, and he responded as commander-in-chief, using unprecedented powers. He expanded his war powers, and imposed a blockade on all the Confederate shipping ports, disbursed funds before appropriation by Congress, and after suspending \"habeas corpus\", arrested and imprisoned thousands of suspected Confederate sympathizers. Lincoln was supported by Congress and the northern public for these actions. In addition, Lincoln had to contend with reinforcing strong Union sympathies in the border slave states and keeping the war from becoming an international conflict.\n",
      "======================\n",
      "In late August 1861, General John C. Frémont, the 1856 Republican presidential nominee, issued, without consulting his superiors in Washington, a proclamation of martial law in Missouri. He declared that any citizen found bearing arms could be court-martialed and shot, and that slaves of persons aiding the rebellion would be freed. Frémont was already under a cloud with charges of negligence in his command of the Department of the West compounded with allegations of fraud and corruption. Lincoln overruled Frémont's proclamation. Lincoln believed that Fremont's emancipation was political, neither militarily necessary nor legal. After Lincoln acted, Union enlistments from Maryland, Kentucky, and Missouri increased by over 40,000 troops.\n",
      "======================\n",
      "In foreign policy, Lincoln's main goal was to stop military aid from countries abroad to the Confederacy. Lincoln left most diplomatic matters to his Secretary of State, William Seward. At times Seward was too bellicose, so for balance Lincoln maintained a close working relationship with Senator Charles Sumner, the chairman of the Senate Foreign Relations Committee. The Trent Affair of late 1861 threatened war with Great Britain. The U.S. Navy had illegally intercepted a British mail ship, the \"Trent\", on the high seas and seized two Confederate envoys; Britain protested vehemently while the U.S. cheered. Lincoln ended the crisis by releasing the two diplomats. Biographer James G. Randall has dissected Lincoln's successful techniques:\n",
      "Lincoln painstakingly monitored the telegraphic reports coming into the War Department headquarters. He kept close tabs on all phases of the military effort, consulted with governors, and selected generals based on their past success (as well as their state and party). In January 1862, after many complaints of inefficiency and profiteering in the War Department, Lincoln replaced Simon Cameron with Edwin Stanton as War Secretary. Stanton centralized the War Department's activities, auditing and cancelling contracts, saving the federal government $17,000,000. Stanton was a staunchly Unionist pro-business conservative Democrat who moved toward the Radical Republican faction. Nevertheless, he worked more often and more closely with Lincoln than any other senior official. \"Stanton and Lincoln virtually conducted the war together,\" say Thomas and Hyman.\n",
      "======================\n",
      "In foreign policy, Lincoln's main goal was to stop military aid from countries abroad to the Confederacy. Lincoln left most diplomatic matters to his Secretary of State, William Seward. At times Seward was too bellicose, so for balance Lincoln maintained a close working relationship with Senator Charles Sumner, the chairman of the Senate Foreign Relations Committee. The Trent Affair of late 1861 threatened war with Great Britain. The U.S. Navy had illegally intercepted a British mail ship, the \"Trent\", on the high seas and seized two Confederate envoys; Britain protested vehemently while the U.S. cheered. Lincoln ended the crisis by releasing the two diplomats. Biographer James G. Randall has dissected Lincoln's successful techniques:\n",
      "Lincoln painstakingly monitored the telegraphic reports coming into the War Department headquarters. He kept close tabs on all phases of the military effort, consulted with governors, and selected generals based on their past success (as well as their state and party). In January 1862, after many complaints of inefficiency and profiteering in the War Department, Lincoln replaced Simon Cameron with Edwin Stanton as War Secretary. Stanton centralized the War Department's activities, auditing and cancelling contracts, saving the federal government $17,000,000. Stanton was a staunchly Unionist pro-business conservative Democrat who moved toward the Radical Republican faction. Nevertheless, he worked more often and more closely with Lincoln than any other senior official. \"Stanton and Lincoln virtually conducted the war together,\" say Thomas and Hyman.\n",
      "======================\n",
      "While the war was still being waged, Lincoln faced reelection in 1864. Lincoln was a master politician, bringing together—and holding together—all the main factions of the Republican Party, and bringing in War Democrats such as Edwin M. Stanton and Andrew Johnson as well. Lincoln spent many hours a week talking to politicians from across the land and using his patronage powers—greatly expanded over peacetime—to hold the factions of his party together, build support for his own policies, and fend off efforts by Radicals to drop him from the 1864 ticket. At its 1864 convention, the Republican Party selected Johnson, a War Democrat from the Southern state of Tennessee, as his running mate. To broaden his coalition to include War Democrats as well as Republicans, Lincoln ran under the label of the new Union Party.\n",
      "======================\n",
      "On March 4, 1865, Lincoln delivered his second inaugural address. In it, he deemed the high casualties on both sides to be God's will. Historian Mark Noll concludes it ranks \"among the small handful of semi-sacred texts by which Americans conceive their place in the world\". Lincoln said:\n",
      "======================\n",
      "On March 4, 1865, Lincoln delivered his second inaugural address. In it, he deemed the high casualties on both sides to be God's will. Historian Mark Noll concludes it ranks \"among the small handful of semi-sacred texts by which Americans conceive their place in the world\". Lincoln said:\n",
      "======================\n",
      "As Southern states were subdued, critical decisions had to be made as to their leadership while their administrations were re-formed. Of special importance were Tennessee and Arkansas, where Lincoln appointed Generals Andrew Johnson and Frederick Steele as military governors, respectively. In Louisiana, Lincoln ordered General Nathaniel P. Banks to promote a plan that would restore statehood when 10 percent of the voters agreed to it. Lincoln's Democratic opponents seized on these appointments to accuse him of using the military to ensure his and the Republicans' political aspirations. On the other hand, the Radicals denounced his policy as too lenient, and passed their own plan, the Wade-Davis Bill, in 1864. When Lincoln vetoed the bill, the Radicals retaliated by refusing to seat representatives elected from Louisiana, Arkansas, and Tennessee.\n",
      "======================\n",
      "After implementing the Emancipation Proclamation, which did not apply to every state, Lincoln increased pressure on Congress to outlaw slavery throughout the entire nation with a constitutional amendment. Lincoln declared that such an amendment would \"clinch the whole matter\". By December 1863, a proposed constitutional amendment that would outlaw slavery was brought to Congress for passage. This first attempt at an amendment failed to pass, falling short of the required two-thirds majority on June 15, 1864, in the House of Representatives. Passage of the proposed amendment became part of the Republican/Unionist platform in the election of 1864. After a long debate in the House, a second attempt passed Congress on January 31, 1865, and was sent to the state legislatures for ratification. Upon ratification, it became the Thirteenth Amendment to the United States Constitution on December 6, 1865.\n",
      "======================\n",
      "As the war drew to a close, Lincoln's presidential Reconstruction for the South was in flux; having believed the federal government had limited responsibility to the millions of freedmen. He signed into law Senator Charles Sumner's Freedmen's Bureau bill that set up a temporary federal agency designed to meet the immediate material needs of former slaves. The law assigned land for a lease of three years with the ability to purchase title for the freedmen. Lincoln stated that his Louisiana plan did not apply to all states under Reconstruction. Shortly before his assassination, Lincoln announced he had a new plan for southern Reconstruction. Discussions with his cabinet revealed Lincoln planned short-term military control over southern states, until readmission under the control of southern Unionists.\n",
      "======================\n",
      "Historians agree that it is impossible to predict exactly what Lincoln would have done about Reconstruction if he had lived, but they make projections based on his known policy positions and political acumen. Lincoln biographers James G. Randall and Richard Current, according to David Lincove, argue that:\n",
      "Eric Foner argues that:\n",
      "The successful reunification of the states had consequences for the name of the country. The term \"the United States\" has historically been used, sometimes in the plural (\"these United States\"), and other times in the singular, without any particular grammatical consistency. The Civil War was a significant force in the eventual dominance of the singular usage by the end of the 19th century.\n",
      "======================\n",
      "In recent years, historians such as Harry Jaffa, Herman Belz, John Diggins, Vernon Burton and Eric Foner have stressed Lincoln's redefinition of \"republican values\". As early as the 1850s, a time when most political rhetoric focused on the sanctity of the Constitution, Lincoln redirected emphasis to the Declaration of Independence as the foundation of American political values—what he called the \"sheet anchor\" of republicanism. The Declaration's emphasis on freedom and equality for all, in contrast to the Constitution's tolerance of slavery, shifted the debate. As Diggins concludes regarding the highly influential Cooper Union speech of early 1860, \"Lincoln presented Americans a theory of history that offers a profound contribution to the theory and destiny of republicanism itself.\" His position gained strength because he highlighted the moral basis of republicanism, rather than its legalisms. Nevertheless, in 1861, Lincoln justified the war in terms of legalisms (the Constitution was a contract, and for one party to get out of a contract all the other parties had to agree), and then in terms of the national duty to guarantee a republican form of government in every state. Burton (2008) argues that Lincoln's republicanism was taken up by the Freedmen as they were emancipated.\n",
      "======================\n",
      "Lincoln also presided over the expansion of the federal government's economic influence in several other areas. The creation of the system of national banks by the National Banking Act provided a strong financial network in the country. It also established a national currency. In 1862, Congress created, with Lincoln's approval, the Department of Agriculture. In 1862, Lincoln sent a senior general, John Pope, to put down the \"Sioux Uprising\" in Minnesota. Presented with 303 execution warrants for convicted Santee Dakota who were accused of killing innocent farmers, Lincoln conducted his own personal review of each of these warrants, eventually approving 39 for execution (one was later reprieved). President Lincoln had planned to reform federal Indian policy.\n",
      "======================\n",
      "\n",
      "Lincoln's declared philosophy on court nominations was that \"we cannot ask a man what he will do, and if we should, and he should answer us, we should despise him for it. Therefore we must take a man whose opinions are known.\" Lincoln made five appointments to the United States Supreme Court. Noah Haynes Swayne, nominated January 21, 1862, and appointed January 24, 1862, was chosen as an anti-slavery lawyer who was committed to the Union. Samuel Freeman Miller, nominated and appointed on July 16, 1862, supported Lincoln in the 1860 election and was an avowed abolitionist. David Davis, Lincoln's campaign manager in 1860, nominated December 1, 1862, and appointed December 8, 1862, had also served as a judge in Lincoln's Illinois court circuit. Stephen Johnson Field, a previous California Supreme Court justice, was nominated March 6, 1863, and appointed March 10, 1863, and provided geographic balance, as well as political balance to the court as a Democrat. Finally, Lincoln's Treasury Secretary, Salmon P. Chase, was nominated as Chief Justice, and appointed the same day, on December 6, 1864. Lincoln believed Chase was an able jurist, would support Reconstruction legislation, and that his appointment united the Republican Party.\n",
      "======================\n",
      "In surveys of U.S. scholars ranking presidents conducted since the 1940s, Lincoln is consistently ranked in the top three, often as number one. A 2004 study found that scholars in the fields of history and politics ranked Lincoln number one, while legal scholars placed him second after George Washington. In presidential ranking polls conducted in the United States since 1948, Lincoln has been rated at the very top in the majority of polls. Generally, the top three presidents are rated as 1. Lincoln; 2. Washington; and 3. Franklin Delano Roosevelt, although Lincoln and Washington, and Washington and Roosevelt, are occasionally reversed.\n",
      "======================\n",
      "President Lincoln's assassination increased his status to the point of making him a national martyr. Lincoln was viewed by abolitionists as a champion for human liberty. Republicans linked Lincoln's name to their party. Many, though not all, in the South considered Lincoln as a man of outstanding ability. Historians have said he was \"a classical liberal\" in the 19th century sense. Allen C. Guelzo states that Lincoln was a\n",
      "Lincoln became a favorite exemplar for liberal intellectuals across Europe and Latin America and even in Asia.\n",
      "======================\n",
      "President Lincoln's assassination increased his status to the point of making him a national martyr. Lincoln was viewed by abolitionists as a champion for human liberty. Republicans linked Lincoln's name to their party. Many, though not all, in the South considered Lincoln as a man of outstanding ability. Historians have said he was \"a classical liberal\" in the 19th century sense. Allen C. Guelzo states that Lincoln was a\n",
      "Lincoln became a favorite exemplar for liberal intellectuals across Europe and Latin America and even in Asia.\n",
      "======================\n",
      "Little is known about his life. His father, Nicomachus, died when Aristotle was a child, and he was brought up by a guardian. At seventeen or eighteen years of age, he joined Plato's Academy in Athens and remained there until the age of thirty-seven (c. 347 BC). His writings cover many subjects – including physics, biology, zoology, metaphysics, logic, ethics, aesthetics, poetry, theatre, music, rhetoric, psychology, linguistics, economics, politics and government – and constitute the first comprehensive system of Western philosophy. Shortly after Plato died, Aristotle left Athens and, at the request of Philip II of Macedon, tutored Alexander the Great beginning in 343 BC. Teaching Alexander gave Aristotle many opportunities. He established a library in the Lyceum which helped him to produce many of his hundreds of books, which were papyrus scrolls. The fact that Aristotle was a pupil of Plato contributed to his former views of Platonism, but, following Plato's death, Aristotle immersed himself in empirical studies and shifted from Platonism to empiricism. He believed all concepts and knowledge were ultimately based on perception. Aristotle's views on natural sciences represent the groundwork underlying many of his works.\n",
      "======================\n",
      "With the \"Prior Analytics\", Aristotle is credited with the earliest study of formal logic, and his conception of it was the dominant form of Western logic until 19th-century advances in mathematical logic. Kant stated in the \"Critique of Pure Reason\" that with Aristotle logic reached its completion.\n",
      "======================\n",
      "What we today call \"Aristotelian logic\" with its types of syllogism (methods of logical argument), Aristotle himself would have labelled \"analytics\". The term \"logic\" he reserved to mean \"dialectics\". Most of Aristotle's work is probably not in its original form, because it was most likely edited by students and later lecturers. The logical works of Aristotle were compiled into a set of six books called the \"Organon\" around 40 BC by Andronicus of Rhodes or others among his followers. The books are:\n",
      "======================\n",
      "What we today call \"Aristotelian logic\" with its types of syllogism (methods of logical argument), Aristotle himself would have labelled \"analytics\". The term \"logic\" he reserved to mean \"dialectics\". Most of Aristotle's work is probably not in its original form, because it was most likely edited by students and later lecturers. The logical works of Aristotle were compiled into a set of six books called the \"Organon\" around 40 BC by Andronicus of Rhodes or others among his followers. The books are:\n",
      "======================\n",
      "The order of the books (or the teachings from which they are composed) is not certain, but this list was derived from analysis of Aristotle's writings. It goes from the basics, the analysis of simple terms in the \"Categories,\" the analysis of propositions and their elementary relations in \"On Interpretation\", to the study of more complex forms, namely, syllogisms (in the \"Analytics\") and dialectics (in the \"Topics\" and \"Sophistical Refutations\"). The first three treatises form the core of the logical theory \"stricto sensu\": the grammar of the language of logic and the correct rules of reasoning. The \"Rhetoric\" is not conventionally included, but it states that it relies on the \"Topics\".\n",
      "======================\n",
      "In summary, the matter used to make a house has potentiality to be a house and both the activity of building and the form of the final house are actualities, which is also a final cause or end. Then Aristotle proceeds and concludes that the actuality is prior to potentiality in formula, in time and in substantiality. With this definition of the particular substance (i.e., matter and form), Aristotle tries to solve the problem of the unity of the beings, for example, \"what is it that makes a man one\"? Since, according to Plato there are two Ideas: animal and biped, how then is man a unity? However, according to Aristotle, the potential being (matter) and the actual one (form) are one and the same.\n",
      "======================\n",
      "Plato argued that all things have a universal form, which could be either a property or a relation to other things. When we look at an apple, for example, we see an apple, and we can also analyse a form of an apple. In this distinction, there is a particular apple and a universal form of an apple. Moreover, we can place an apple next to a book, so that we can speak of both the book and apple as being next to each other. Plato argued that there are some universal forms that are not a part of particular things. For example, it is possible that there is no particular good in existence, but \"good\" is still a proper universal form. Aristotle disagreed with Plato on this point, arguing that all universals are instantiated at some period of time, and that there are no universals that are unattached to existing things. In addition, Aristotle disagreed with Plato about the location of universals. Where Plato spoke of the world of forms, a place where all universal forms subsist, Aristotle maintained that universals exist within each thing on which each universal is predicated. So, according to Aristotle, the form of apple exists within each apple, rather than in the world of the forms.\n",
      "======================\n",
      "Plato argued that all things have a universal form, which could be either a property or a relation to other things. When we look at an apple, for example, we see an apple, and we can also analyse a form of an apple. In this distinction, there is a particular apple and a universal form of an apple. Moreover, we can place an apple next to a book, so that we can speak of both the book and apple as being next to each other. Plato argued that there are some universal forms that are not a part of particular things. For example, it is possible that there is no particular good in existence, but \"good\" is still a proper universal form. Aristotle disagreed with Plato on this point, arguing that all universals are instantiated at some period of time, and that there are no universals that are unattached to existing things. In addition, Aristotle disagreed with Plato about the location of universals. Where Plato spoke of the world of forms, a place where all universal forms subsist, Aristotle maintained that universals exist within each thing on which each universal is predicated. So, according to Aristotle, the form of apple exists within each apple, rather than in the world of the forms.\n",
      "======================\n",
      "Plato argued that all things have a universal form, which could be either a property or a relation to other things. When we look at an apple, for example, we see an apple, and we can also analyse a form of an apple. In this distinction, there is a particular apple and a universal form of an apple. Moreover, we can place an apple next to a book, so that we can speak of both the book and apple as being next to each other. Plato argued that there are some universal forms that are not a part of particular things. For example, it is possible that there is no particular good in existence, but \"good\" is still a proper universal form. Aristotle disagreed with Plato on this point, arguing that all universals are instantiated at some period of time, and that there are no universals that are unattached to existing things. In addition, Aristotle disagreed with Plato about the location of universals. Where Plato spoke of the world of forms, a place where all universal forms subsist, Aristotle maintained that universals exist within each thing on which each universal is predicated. So, according to Aristotle, the form of apple exists within each apple, rather than in the world of the forms.\n",
      "======================\n",
      "Plato argued that all things have a universal form, which could be either a property or a relation to other things. When we look at an apple, for example, we see an apple, and we can also analyse a form of an apple. In this distinction, there is a particular apple and a universal form of an apple. Moreover, we can place an apple next to a book, so that we can speak of both the book and apple as being next to each other. Plato argued that there are some universal forms that are not a part of particular things. For example, it is possible that there is no particular good in existence, but \"good\" is still a proper universal form. Aristotle disagreed with Plato on this point, arguing that all universals are instantiated at some period of time, and that there are no universals that are unattached to existing things. In addition, Aristotle disagreed with Plato about the location of universals. Where Plato spoke of the world of forms, a place where all universal forms subsist, Aristotle maintained that universals exist within each thing on which each universal is predicated. So, according to Aristotle, the form of apple exists within each apple, rather than in the world of the forms.\n",
      "======================\n",
      "Plato argued that all things have a universal form, which could be either a property or a relation to other things. When we look at an apple, for example, we see an apple, and we can also analyse a form of an apple. In this distinction, there is a particular apple and a universal form of an apple. Moreover, we can place an apple next to a book, so that we can speak of both the book and apple as being next to each other. Plato argued that there are some universal forms that are not a part of particular things. For example, it is possible that there is no particular good in existence, but \"good\" is still a proper universal form. Aristotle disagreed with Plato on this point, arguing that all universals are instantiated at some period of time, and that there are no universals that are unattached to existing things. In addition, Aristotle disagreed with Plato about the location of universals. Where Plato spoke of the world of forms, a place where all universal forms subsist, Aristotle maintained that universals exist within each thing on which each universal is predicated. So, according to Aristotle, the form of apple exists within each apple, rather than in the world of the forms.\n",
      "======================\n",
      "Plato argued that all things have a universal form, which could be either a property or a relation to other things. When we look at an apple, for example, we see an apple, and we can also analyse a form of an apple. In this distinction, there is a particular apple and a universal form of an apple. Moreover, we can place an apple next to a book, so that we can speak of both the book and apple as being next to each other. Plato argued that there are some universal forms that are not a part of particular things. For example, it is possible that there is no particular good in existence, but \"good\" is still a proper universal form. Aristotle disagreed with Plato on this point, arguing that all universals are instantiated at some period of time, and that there are no universals that are unattached to existing things. In addition, Aristotle disagreed with Plato about the location of universals. Where Plato spoke of the world of forms, a place where all universal forms subsist, Aristotle maintained that universals exist within each thing on which each universal is predicated. So, according to Aristotle, the form of apple exists within each apple, rather than in the world of the forms.\n",
      "======================\n",
      "Plato argued that all things have a universal form, which could be either a property or a relation to other things. When we look at an apple, for example, we see an apple, and we can also analyse a form of an apple. In this distinction, there is a particular apple and a universal form of an apple. Moreover, we can place an apple next to a book, so that we can speak of both the book and apple as being next to each other. Plato argued that there are some universal forms that are not a part of particular things. For example, it is possible that there is no particular good in existence, but \"good\" is still a proper universal form. Aristotle disagreed with Plato on this point, arguing that all universals are instantiated at some period of time, and that there are no universals that are unattached to existing things. In addition, Aristotle disagreed with Plato about the location of universals. Where Plato spoke of the world of forms, a place where all universal forms subsist, Aristotle maintained that universals exist within each thing on which each universal is predicated. So, according to Aristotle, the form of apple exists within each apple, rather than in the world of the forms.\n",
      "======================\n",
      "Aristotle was one of the first people to record any geological observations. He stated that geological change was too slow to be observed in one person's lifetime.\n",
      "The geologist Charles Lyell noted that Aristotle described such change, including \"lakes that had dried up\" and \"deserts that had become watered by rivers\", giving as examples the growth of the Nile delta since the time of Homer, and \"the upheaving of one of the Aeolian islands, previous to a volcanic eruption.\"'\n",
      "======================\n",
      "Aristotle was the first person to study biology systematically, and biology forms a large part of his writings. He spent two years observing and describing the zoology of Lesbos and the surrounding seas, including in particular the Pyrrha lagoon in the centre of Lesbos. His data in \"History of Animals\", \"Generation of Animals\", \"Movement of Animals\", and \"Parts of Animals\" are assembled from his own observations, statements given by people with specialised knowledge such as beekeepers and fishermen, and less accurate accounts provided by travellers from overseas. His apparent emphasis on animals rather than plants is a historical accident: his works on botany have been lost, but two books on plants by his pupil Theophrastus have survived.\n",
      "======================\n",
      "Aristotle's psychology, given in his treatise \"On the Soul\" (\"peri psychēs\"), posits three kinds of soul (\"psyches\"): the vegetative soul, the sensitive soul, and the rational soul. Humans have a rational soul. The human soul incorporates the powers of the other kinds: Like the vegetative soul it can grow and nourish itself; like the sensitive soul it can experience sensations and move locally. The unique part of the human, rational soul is its ability to receive forms of other things and to compare them using the \"nous\" (intellect) and \"logos\" (reason).\n",
      "======================\n",
      "For Aristotle, the soul is the form of a living being. Because all beings are composites of form and matter, the form of living beings is that which endows them with what is specific to living beings, e.g. the ability to initiate movement (or in the case of plants, growth and chemical transformations, which Aristotle considers types of movement). In contrast to earlier philosophers, but in accordance with the Egyptians, he placed the rational soul in the heart, rather than the brain. Notable is Aristotle's division of sensation and thought, which generally differed from the concepts of previous philosophers, with the exception of Alcmaeon.\n",
      "======================\n",
      "For Aristotle, the soul is the form of a living being. Because all beings are composites of form and matter, the form of living beings is that which endows them with what is specific to living beings, e.g. the ability to initiate movement (or in the case of plants, growth and chemical transformations, which Aristotle considers types of movement). In contrast to earlier philosophers, but in accordance with the Egyptians, he placed the rational soul in the heart, rather than the brain. Notable is Aristotle's division of sensation and thought, which generally differed from the concepts of previous philosophers, with the exception of Alcmaeon.\n",
      "======================\n",
      "Dreams do not involve actually sensing a stimulus. In dreams, sensation is still involved, but in an altered manner. Aristotle explains that when a person stares at a moving stimulus such as the waves in a body of water, and then look away, the next thing they look at appears to have a wavelike motion. When a person perceives a stimulus and the stimulus is no longer the focus of their attention, it leaves an impression. When the body is awake and the senses are functioning properly, a person constantly encounters new stimuli to sense and so the impressions of previously perceived stimuli are ignored. However, during sleep the impressions made throughout the day are noticed as there are no new distracting sensory experiences. So, dreams result from these lasting impressions. Since impressions are all that are left and not the exact stimuli, dreams do not resemble the actual waking experience. During sleep, a person is in an altered state of mind. Aristotle compares a sleeping person to a person who is overtaken by strong feelings toward a stimulus. For example, a person who has a strong infatuation with someone may begin to think they see that person everywhere because they are so overtaken by their feelings. Since a person sleeping is in a suggestible state and unable to make judgements, they become easily deceived by what appears in their dreams, like the infatuated person. This leads the person to believe the dream is real, even when the dreams are absurd in nature.\n",
      "======================\n",
      "Aristotle writes in his \"Poetics\" that epic poetry, tragedy, comedy, dithyrambic poetry, painting, sculpture, music, and dance are all fundamentally acts of \"mimesis\" (\"imitation\"), each varying in imitation by medium, object, and manner. He applies the term \"mimesis\" both as a property of a work of art and also as the product of the artist's intention and contends that the audience's realisation of the \"mimesis\" is vital to understanding the work itself. Aristotle states that \"mimesis\" is a natural instinct of humanity that separates humans from animals and that all human artistry \"follows the pattern of nature\". Because of this, Aristotle believed that each of the mimetic arts possesses what Stephen Halliwell calls \"highly structured procedures for the achievement of their purposes.\" For example, music imitates with the media of rhythm and harmony, whereas dance imitates with rhythm alone, and poetry with language. The forms also differ in their object of imitation. Comedy, for instance, is a dramatic imitation of men worse than average; whereas tragedy imitates men slightly better than average. Lastly, the forms differ in their manner of imitation – through narrative or character, through change or no change, and through drama or no drama.\n",
      "======================\n",
      "An American in Paris is a jazz-influenced orchestral piece by American composer George Gershwin written in 1928. It was inspired by the time that Gershwin had spent in Paris and evokes the sights and energy of the French capital in the 1920s.\n",
      "======================\n",
      "Gershwin composed \"An American in Paris\" on commission from conductor Walter Damrosch. He scored the piece for the standard instruments of the symphony orchestra plus celesta, saxophones, and automobile horns. He brought back some Parisian taxi horns for the New York premiere of the composition, which took place on December 13, 1928 in Carnegie Hall, with Damrosch conducting the New York Philharmonic. He completed the orchestration on November 18, less than four weeks before the work's premiere. He collaborated on the original program notes with critic and composer Deems Taylor.\n",
      "======================\n",
      "Gershwin was attracted by Maurice Ravel's unusual chords, and Gershwin went on his first trip to Paris in 1926 ready to study with Ravel. After his initial student audition with Ravel turned into a sharing of musical theories, Ravel said he could not teach him, saying, \"Why be a second-rate Ravel when you can be a first-rate Gershwin?\" While the studies were cut short, that 1926 trip resulted in a piece entitled \"Very Parisienne\", the initial version of \"An American in Paris\", written as a 'thank you note' to Gershwin's hosts, Robert and Mabel Shirmer. Gershwin called it \"a rhapsodic ballet\"; it is written freely and in a much more modern idiom than his prior works.\n",
      "======================\n",
      "Gershwin strongly encouraged Ravel to come to the United States for a tour. To this end, upon his return to New York, Gershwin joined the efforts of Ravel's friend Robert Schmitz, a pianist Ravel had met during the war, to urge Ravel to tour the U.S. Schmitz was the head of Pro Musica, promoting Franco-American musical relations, and was able to offer Ravel a $10,000 fee for the tour, an enticement Gershwin knew would be important to Ravel.\n",
      "Gershwin greeted Ravel in New York in March 1928 during a party held for Ravel's birthday by Éva Gauthier. Ravel's tour reignited Gershwin's desire to return to Paris which he and his brother Ira did after meeting Ravel. Ravel's high praise of Gershwin in an introductory letter to Nadia Boulanger caused Gershwin to seriously consider taking much more time to study abroad in Paris. Yet after playing for her, she told him she could not teach him. Nadia Boulanger gave Gershwin basically the same advice she gave all of her accomplished master students: \"What could I give you that you haven't already got?\" This did not set Gershwin back, as his real intent abroad was to complete a new work based on Paris and perhaps a second rhapsody for piano and orchestra to follow his \"Rhapsody in Blue\". Paris at this time hosted many expatriate writers, among them Ezra Pound, W. B. Yeats, Ernest Hemingway; and artist Pablo Picasso.\n",
      "======================\n",
      "The Academy Awards ceremony was first broadcast on radio in 1930 and televised for the first time in 1953. It is the oldest worldwide entertainment awards ceremony and is now seen live worldwide. Its equivalents – the Emmy Awards for television, the Tony Awards for theater, and the Grammy Awards for music – are modeled after the Academy Awards.\n",
      "======================\n",
      "The 91st Academy Awards ceremony, honoring the best films of 2018, will be held on February 24, 2019, at the Dolby Theatre, in Los Angeles, California. The ceremony will be broadcast on ABC. A total of 3,072 Oscar statuettes have been awarded from the inception of the award through the 90th ceremony.\n",
      "======================\n",
      "At the 29th ceremony, held on 27 March 1957, the Best Foreign Language Film category was introduced. Until then, foreign-language films had been honored with the Special Achievement Award.\n",
      "======================\n",
      "The 74th Academy Awards, held in 2002, presented the first Academy Award for Best Animated Feature.\n",
      "======================\n",
      "Since 1973, all Academy Awards ceremonies have ended with the Academy Award for Best Picture.\n",
      "======================\n",
      "Traditionally, the previous year's winner for Best Actor and Best Supporting Actor present the awards for Best Actress and Best Supporting Actress, while the previous year's winner for Best Actress and Best Supporting Actress present the awards for Best Actor and Best Supporting Actor.\n",
      "======================\n",
      "The best known award is the Academy Award of Merit, more popularly known as the Oscar statuette. Made of gold-plated bronze on a black metal base, it is 13.5 in (34.3 cm) tall, weighs 8.5 lb (3.856 kg), and depicts a knight rendered in Art Deco style holding a crusader's sword standing on a reel of film with five spokes. The five spokes represent the original branches of the Academy: Actors, Writers, Directors, Producers, and Technicians.\n",
      "======================\n",
      "In addition to the Academy Award of Merit (Oscar award), there are nine honorary (non-competitive) awards presented by the Academy from time to time (except for the Academy Honorary Award, the Technical Achievement Award, and the Student Academy Awards, which are presented annually):\n",
      "======================\n",
      "The Best Foreign Language Film award does not require a U.S. release. It requires the film to be submitted as its country's official selection.\n",
      "======================\n",
      "The Best Documentary Short Subject award has noticeably different eligibility rules from most other competitive awards. First, the qualifying period for release does not coincide with a calendar year, instead covering a one-year period starting on 1 September and ending on 31 August of the calendar year before the ceremony. Second, there are multiple methods of qualification. The main method is a week-long theatrical release in \"either\" Los Angeles County \"or\" New York City during the eligibility period. Films also can qualify by winning specified awards at one of a number of competitive film festivals designated by the Academy. Finally, a film that is selected as a gold, silver, or bronze medal winner in the Documentary category of the immediately previous Student Academy Awards is also eligible.\n",
      "======================\n",
      "In terms of broadcast length, the ceremony generally averages three and a half hours. The first Oscars, in 1929, lasted 15 minutes. At the other end of the spectrum, the 2002 ceremony lasted four hours and twenty-three minutes. In 2010, the organizers of the Academy Awards announced winners' acceptance speeches must not run past 45 seconds. This, according to organizer Bill Mechanic, was to ensure the elimination of what he termed \"the single most hated thing on the show\" – overly long and embarrassing displays of emotion. In 2016, in a further effort to streamline speeches, winners' dedications were displayed on an on-screen ticker. During the 2018 ceremony, host Jimmy Kimmel acknowledged how long the ceremony had become, by announcing that he would give a brand-new jet ski to whoever gave the shortest speech of the night (a reward won by Mark Bridges when accepting his Best Costume Design award for \"Phantom Thread\").\n",
      "======================\n",
      "In the first year of the awards, the Best Directing award was split into two categories (Drama and Comedy). At times, the Best Original Score award has also been split into separate categories (Drama and Comedy/Musical). From the 1930s through the 1960s, the Art Direction (now Production Design), Cinematography, and Costume Design awards were likewise split into two categories (black-and-white films and color films). Prior to 2012, the Production Design award was called Art Direction, while the Makeup and Hairstyling award was called Makeup.\n",
      "======================\n",
      "Actresses (Catalan: Actrius) is a 1997 Catalan language Spanish drama film produced and directed by Ventura Pons and based on the award-winning stage play \"E.R.\" by Josep Maria Benet i Jornet. The film has no male actors, with all roles played by females. The film was produced in 1996.\n",
      "======================\n",
      "Julia MacRae Books published an \"Animalia\" colouring book in 2008. H. N. Abrams also published a wall calendar colouring book version for children the same year.\n",
      "======================\n",
      "The Children's Book Council of Australia designated \"Animalia\" a 1987 : Honour Book.\n",
      "======================\n",
      "International Atomic Time (TAI, from the French name ) is a high-precision atomic coordinate time standard based on the notional passage of proper time on Earth's geoid. It is the principal realisation of Terrestrial Time (with a fixed offset of epoch). It is also the basis for Coordinated Universal Time (UTC), which is used for civil timekeeping all over the Earth's surface. , when another leap second was added, TAI is exactly 37 seconds ahead of UTC. The 37 seconds results from the initial difference of 10 seconds at the start of 1972, plus 27 leap seconds in UTC since 1972.\n",
      "======================\n",
      "The clocks at different institutions are regularly compared against each other. The International Bureau of Weights and Measures (BIPM, France), combines these measurements to retrospectively calculate the weighted average that forms the most stable time scale possible. This combined time scale is published monthly in \"Circular T\", and is the canonical TAI. This time scale is expressed in the form of tables of differences UTC − UTC(\"k\") (equivalent to TAI − TAI(\"k\")) for each participating institution \"k\". The same circular also gives tables of TAI − TA(\"k\"), for the various unsynchronised atomic time scales.\n",
      "======================\n",
      "UTC is a discontinuous (i.e. regularly adjusted by leap seconds) time scale composed from segments that are linear transformations of atomic time. From its beginning in 1961 through December 1971 the adjustments were made regularly in fractional leap seconds so that UTC approximated UT2. Afterwards these adjustments were made only in whole seconds to approximate UT1. This was a compromise arrangement in order to enable a publicly broadcast time scale; the post-1971 more linear transformation of the BIH's atomic time meant that the time scale would be more stable and easier to synchronize internationally. The fact that it continues to approximate UT1 means that tasks such as navigation which require a source of Universal Time continue to be well served by the public broadcast of UTC.\n",
      "======================\n",
      "The word \"altruism\" was coined by the French philosopher Auguste Comte in French, as \"altruisme\", for an antonym of egoism. He derived it from the Italian \"altrui\", which in turn was derived from Latin \"alteri\", meaning \"other people\" or \"somebody else\".\n",
      "======================\n",
      "Altruism can be distinguished from feelings of loyalty, in that whilst the latter is predicated upon social relationships, altruism does not consider relationships. Much debate exists as to whether \"\"true\"\" altruism is possible in human psychology. The theory of psychological egoism suggests that no act of sharing, helping or sacrificing can be described as truly altruistic, as the actor may receive an intrinsic reward in the form of personal gratification. The validity of this argument depends on whether intrinsic rewards qualify as \"benefits\".\n",
      "======================\n",
      "There has been some debate on whether or not humans are truly capable of psychological altruism. Some definitions specify a self-sacrificial nature to altruism and a lack of external rewards for altruistic behaviors. However, because altruism ultimately benefits the self in many cases, the selflessness of altruistic acts is brought to question. The social exchange theory postulates that altruism only exists when benefits to the self outweigh costs to the self. Daniel Batson is a psychologist who examined this question and argues against the social exchange theory. He identified four major motives for altruism: altruism to ultimately benefit the self (egoism), to ultimately benefit the other person (altruism), to benefit a group (collectivism), or to uphold a moral principle (principlism). Altruism that ultimately serves selfish gains is thus differentiated from selfless altruism, but the general conclusion has been that empathy-induced altruism can be genuinely selfless. The \"empathy-altruism hypothesis\" basically states that psychological altruism does exist and is evoked by the empathic desire to help someone who is suffering. Feelings of empathic concern are contrasted with feelings of personal distress, which compel people to reduce their own unpleasant emotions. People with empathic concern help others in distress even when exposure to the situation could be easily avoided, whereas those lacking in empathic concern avoid helping unless it is difficult or impossible to avoid exposure to another's suffering. Helping behavior is seen in humans at about two years old, when a toddler is capable of understanding subtle emotional cues.\n",
      "In psychological research on altruism, studies often observe altruism as demonstrated through prosocial behaviors such as helping, comforting, sharing, cooperation, philanthropy, and community service. Research has found that people are most likely to help if they recognize that a person is in need and feel personal responsibility for reducing the person's distress. Research also suggests that the number of bystanders witnessing distress or suffering affects the likelihood of helping (the \"Bystander effect\"). Greater numbers of bystanders decrease individual feelings of responsibility. However, a witness with a high level of empathic concern is likely to assume personal responsibility entirely regardless of the number of bystanders.\n",
      "======================\n",
      "There has been some debate on whether or not humans are truly capable of psychological altruism. Some definitions specify a self-sacrificial nature to altruism and a lack of external rewards for altruistic behaviors. However, because altruism ultimately benefits the self in many cases, the selflessness of altruistic acts is brought to question. The social exchange theory postulates that altruism only exists when benefits to the self outweigh costs to the self. Daniel Batson is a psychologist who examined this question and argues against the social exchange theory. He identified four major motives for altruism: altruism to ultimately benefit the self (egoism), to ultimately benefit the other person (altruism), to benefit a group (collectivism), or to uphold a moral principle (principlism). Altruism that ultimately serves selfish gains is thus differentiated from selfless altruism, but the general conclusion has been that empathy-induced altruism can be genuinely selfless. The \"empathy-altruism hypothesis\" basically states that psychological altruism does exist and is evoked by the empathic desire to help someone who is suffering. Feelings of empathic concern are contrasted with feelings of personal distress, which compel people to reduce their own unpleasant emotions. People with empathic concern help others in distress even when exposure to the situation could be easily avoided, whereas those lacking in empathic concern avoid helping unless it is difficult or impossible to avoid exposure to another's suffering. Helping behavior is seen in humans at about two years old, when a toddler is capable of understanding subtle emotional cues.\n",
      "In psychological research on altruism, studies often observe altruism as demonstrated through prosocial behaviors such as helping, comforting, sharing, cooperation, philanthropy, and community service. Research has found that people are most likely to help if they recognize that a person is in need and feel personal responsibility for reducing the person's distress. Research also suggests that the number of bystanders witnessing distress or suffering affects the likelihood of helping (the \"Bystander effect\"). Greater numbers of bystanders decrease individual feelings of responsibility. However, a witness with a high level of empathic concern is likely to assume personal responsibility entirely regardless of the number of bystanders.\n",
      "======================\n",
      "The term \"pathological altruism\" was popularised by the book \"Pathological Altruism\".\n",
      "======================\n",
      "Altruism figures prominently in Buddhism. Love and compassion are components of all forms of Buddhism, and are focused on all beings equally: love is the wish that all beings be happy, and compassion is the wish that all beings be free from suffering. \"Many illnesses can be cured by the one medicine of love and compassion. These qualities are the ultimate source of human happiness, and the need for them lies at the very core of our being\" (Dalai Lama).\n",
      "======================\n",
      "Many biblical authors draw a strong connection between love of others and love of God. 1 John 4 states that for one to love God one must love his fellowman, and that hatred of one's fellowman is the same as hatred of God. Thomas Jay Oord has argued in several books that altruism is but one possible form of love. An altruistic action is not always a loving action. Oord defines altruism as acting for the other's good, and he agrees with feminists who note that sometimes love requires acting for one's own good when the other's demands undermine overall well-being.\n",
      "======================\n",
      "Judaism defines altruism as the desired goal of creation. The famous Rabbi Abraham Isaac Kook stated that love is the most important attribute in humanity. This is defined as bestowal, or giving, which is the intention of altruism. This can be altruism towards humanity that leads to altruism towards the creator or God. Kabbalah defines God as the force of giving in existence. Rabbi Moshe Chaim Luzzatto in particular focused on the 'purpose of creation' and how the will of God was to bring creation into perfection and adhesion with this upper force.\n",
      "======================\n",
      "Judaism defines altruism as the desired goal of creation. The famous Rabbi Abraham Isaac Kook stated that love is the most important attribute in humanity. This is defined as bestowal, or giving, which is the intention of altruism. This can be altruism towards humanity that leads to altruism towards the creator or God. Kabbalah defines God as the force of giving in existence. Rabbi Moshe Chaim Luzzatto in particular focused on the 'purpose of creation' and how the will of God was to bring creation into perfection and adhesion with this upper force.\n",
      "======================\n",
      "Judaism defines altruism as the desired goal of creation. The famous Rabbi Abraham Isaac Kook stated that love is the most important attribute in humanity. This is defined as bestowal, or giving, which is the intention of altruism. This can be altruism towards humanity that leads to altruism towards the creator or God. Kabbalah defines God as the force of giving in existence. Rabbi Moshe Chaim Luzzatto in particular focused on the 'purpose of creation' and how the will of God was to bring creation into perfection and adhesion with this upper force.\n",
      "======================\n",
      "Altruism is essential to the Sikh religion. The central faith in Sikhism is that the greatest deed any one can do is to imbibe and live the godly qualities like love, affection, sacrifice, patience, harmony, truthfulness. The concept of \"seva,\" or selfless service to the community for its own sake is an important concept in Sihkism.\n",
      "======================\n",
      "Ayn Rand (; born Alisa Zinovyevna Rosenbaum;  – March 6, 1982) was a Russian-American writer and philosopher. She is known for her two best-selling novels, \"The Fountainhead\" and \"Atlas Shrugged\", and for developing a philosophical system she named Objectivism. Educated in Russia, she moved to the United States in 1926. She had a play produced on Broadway in 1935 and 1936. After two early novels that were initially unsuccessful, she achieved fame with her 1943 novel, \"The Fountainhead\". In 1957, Rand published her best-known work, the novel \"Atlas Shrugged\". Afterward, she turned to non-fiction to promote her philosophy, publishing her own periodicals and releasing several collections of essays until her death in 1982.\n",
      "======================\n",
      "Rand advocated reason as the only means of acquiring knowledge and rejected faith and religion. She supported rational and ethical egoism and rejected altruism. In politics, she condemned the initiation of force as immoral and opposed collectivism and statism as well as anarchism, instead supporting \"laissez-faire\" capitalism, which she defined as the system based on recognizing individual rights, including property rights. In art, Rand promoted romantic realism. She was sharply critical of most philosophers and philosophical traditions known to her, except for Aristotle, Thomas Aquinas and classical liberals.\n",
      "======================\n",
      "Rand's first published novel, the semi-autobiographical \"We the Living\", was published in 1936. Set in Soviet Russia, it focused on the struggle between the individual and the state. In a 1959 foreword to the novel, Rand stated that \"We the Living\" \"is as near to an autobiography as I will ever write. It is not an autobiography in the literal, but only in the intellectual sense. The plot is invented, the background is not ...\" Initial sales were slow and the American publisher let it go out of print, although European editions continued to sell. After the success of her later novels, Rand was able to release a revised version in 1959 that has since sold over three million copies. In 1942, without Rand's knowledge or permission, the novel was made into a pair of Italian films, \"Noi vivi\" and \"Addio, Kira\". Rediscovered in the 1960s, these films were re-edited into a new version which was approved by Rand and re-released as \"We the Living\" in 1986.\n",
      "======================\n",
      "During the 1940s, Rand became politically active. She and her husband worked as full-time volunteers for the 1940 presidential campaign of Republican Wendell Willkie. This work led to Rand's first public speaking experiences; she enjoyed fielding sometimes hostile questions from New York City audiences who had viewed pro-Willkie newsreels. This activity brought her into contact with other intellectuals sympathetic to free-market capitalism. She became friends with journalist Henry Hazlitt and his wife, and Hazlitt introduced her to the Austrian School economist Ludwig von Mises. Despite her philosophical differences with them, Rand strongly endorsed the writings of both men throughout her career, and both of them expressed admiration for her. Mises once referred to Rand as \"the most courageous man in America\", a compliment that particularly pleased her because he said \"man\" instead of \"woman\". Rand also became friends with libertarian writer Isabel Paterson. Rand questioned Paterson about American history and politics long into the night during their many meetings and gave Paterson ideas for her only non-fiction book, \"The God of the Machine\".\n",
      "======================\n",
      "In 1958, Nathaniel Branden established Nathaniel Branden Lectures, later incorporated as the Nathaniel Branden Institute (NBI), to promote Rand's philosophy. Collective members gave lectures for NBI and wrote articles for Objectivist periodicals that she edited. Rand later published some of these articles in book form. Critics, including some former NBI students and Branden himself, later described the culture of NBI as one of intellectual conformity and excessive reverence for Rand, with some describing NBI or the Objectivist movement itself as a cult or religion. Rand expressed opinions on a wide range of topics, from literature and music to sexuality and facial hair, and some of her followers mimicked her preferences, wearing clothes to match characters from her novels and buying furniture like hers. However, some former NBI students believed the extent of these behaviors was exaggerated, and the problem was concentrated among Rand's closest followers in New York. Rand was unimpressed with many of the NBI students and held them to strict standards, sometimes reacting coldly or angrily to those who disagreed with her.\n",
      "======================\n",
      "Rand died of heart failure on March 6, 1982, at her home in New York City, and was interred in the Kensico Cemetery, Valhalla, New York. Rand's funeral was attended by some of her prominent followers, including Alan Greenspan. A floral arrangement in the shape of a dollar sign was placed near her casket. In her will, Rand named Leonard Peikoff to inherit her estate.\n",
      "======================\n",
      "During Rand's lifetime, her work evoked both extreme praise and condemnation. Rand's first novel, \"We the Living\", was admired by the literary critic H. L. Mencken, her Broadway play \"Night of January 16th\" was both a critical and popular success, and \"The Fountainhead\" was hailed by \"The New York Times\" reviewer Lorine Pruette as \"masterful\". Rand's novels were derided by some critics when they were first published as being long and melodramatic. However, they became bestsellers largely through word of mouth.\n",
      "======================\n",
      "The first reviews Rand received were for \"Night of January 16th\". Reviews of the production were largely positive, but Rand considered even positive reviews to be embarrassing because of significant changes made to her script by the producer. Rand believed that her first novel, \"We the Living\", was not widely reviewed, but Rand scholar Michael S. Berliner says \"it was the most reviewed of any of her works\", with approximately 125 different reviews being published in more than 200 publications. Overall these reviews were more positive than the reviews she received for her later work. Her 1938 novella \"Anthem\" received little attention from reviewers, both for its first publication in England and for subsequent re-issues.\n",
      "======================\n",
      "The first reviews Rand received were for \"Night of January 16th\". Reviews of the production were largely positive, but Rand considered even positive reviews to be embarrassing because of significant changes made to her script by the producer. Rand believed that her first novel, \"We the Living\", was not widely reviewed, but Rand scholar Michael S. Berliner says \"it was the most reviewed of any of her works\", with approximately 125 different reviews being published in more than 200 publications. Overall these reviews were more positive than the reviews she received for her later work. Her 1938 novella \"Anthem\" received little attention from reviewers, both for its first publication in England and for subsequent re-issues.\n",
      "======================\n",
      "Rand's nonfiction received far fewer reviews than her novels had. The tenor of the criticism for her first nonfiction book, \"For the New Intellectual\", was similar to that for \"Atlas Shrugged\", with philosopher Sidney Hook likening her certainty to \"the way philosophy is written in the Soviet Union\", and author Gore Vidal calling her viewpoint \"nearly perfect in its immorality\". Her subsequent books got progressively less attention from reviewers.\n",
      "======================\n",
      "Rand and her works have been referred to in a variety of media: on television shows including animated sitcoms, live-action comedies, dramas, and game shows, as well as in movies and video games. She, or a character based on her, figures prominently (in positive and negative lights) in literary and science fiction novels by prominent American authors. Nick Gillespie, editor in chief of \"Reason\", has remarked that \"Rand's is a tortured immortality, one in which she's as likely to be a punch line as a protagonist...\" and that \"jibes at Rand as cold and inhuman, run through the popular culture\". Two movies have been made about Rand's life. A 1997 documentary film, \"\", was nominated for the Academy Award for Best Documentary Feature. \"The Passion of Ayn Rand\", a 1999 television adaptation of the book of the same name, won several awards. Rand's image also appears on a 1999 U.S. postage stamp illustrated by artist Nick Gaetano.\n",
      "======================\n",
      "Rand and her works have been referred to in a variety of media: on television shows including animated sitcoms, live-action comedies, dramas, and game shows, as well as in movies and video games. She, or a character based on her, figures prominently (in positive and negative lights) in literary and science fiction novels by prominent American authors. Nick Gillespie, editor in chief of \"Reason\", has remarked that \"Rand's is a tortured immortality, one in which she's as likely to be a punch line as a protagonist...\" and that \"jibes at Rand as cold and inhuman, run through the popular culture\". Two movies have been made about Rand's life. A 1997 documentary film, \"\", was nominated for the Academy Award for Best Documentary Feature. \"The Passion of Ayn Rand\", a 1999 television adaptation of the book of the same name, won several awards. Rand's image also appears on a 1999 U.S. postage stamp illustrated by artist Nick Gaetano.\n",
      "======================\n",
      "Since Rand's death, interest in her work has gradually increased. Historian Jennifer Burns has identified \"three overlapping waves\" of scholarly interest in Rand, the most recent of which is \"an explosion of scholarship\" since the year 2000. However, few universities currently include Rand or Objectivism as a philosophical specialty or research area, with many literature and philosophy departments dismissing her as a pop culture phenomenon rather than a subject for serious study.\n",
      "======================\n",
      "In 1985, Rand's intellectual heir Leonard Peikoff established the Ayn Rand Institute, a nonprofit organization dedicated to promoting Rand's ideas and works. In 1990, after an ideological disagreement with Peikoff, philosopher David Kelley founded the Institute for Objectivist Studies, now known as The Atlas Society. In 2001, historian John McCaskey organized the Anthem Foundation for Objectivist Scholarship, which provides grants for scholarly work on Objectivism in academia. The charitable foundation of BB&T Corporation has also given grants for teaching Rand's ideas or works. The University of Texas at Austin, the University of Pittsburgh, and University of North Carolina at Chapel Hill are among the schools that have received grants. In some cases, these grants have been controversial due to their requiring research or teaching related to Rand.\n",
      "======================\n",
      "Novels:\n",
      "======================\n",
      "Born Joseph Aloysius Dwan in Toronto, Ontario, Canada, Dwan, was the younger son of commercial traveller of woolen clothing Joseph Michael Dwan (1857–1917) and his wife Mary Jane Dwan, \"née\" Hunt. The family moved to the United States when he was seven years old, on 4 December 1892, by ferry from Windsor to Detroit, according to his naturalization petition of August 1939. His elder brother, Leo Garnet Dwan (1883–1964), became a physician. At the University of Notre Dame, Allan Dwan studied engineering and began working for a lighting company in Chicago. However, he had a strong interest in the fledgling motion picture industry and when Essanay Studios offered him the opportunity to become a scriptwriter, he took the job. At that time, some of the East Coast movie makers began to spend winters in California where the climate allowed them to continue productions requiring warm weather. Soon, a number of movie companies worked there year-round and, in 1911, Dwan began working part-time in Hollywood. While still in New York, in 1917 he was the founding president of the East Coast chapter of the Motion Picture Directors Association.\n",
      "======================\n",
      "Dwan has a star on the Hollywood Walk of Fame at 6263 Hollywood Boulevard.\n",
      "======================\n",
      "Algeria (; ', Algerian Arabic '; ), officially the People's Democratic Republic of Algeria, is a country in the Maghreb region of North Africa. The capital and most populous city is Algiers, located in the far north of the country on the Mediterranean coast. With an area of , Algeria is the tenth-largest country in the world, and the largest in Africa. Algeria is bordered to the northeast by Tunisia, to the east by Libya, to the west by Morocco, to the southwest by the Western Saharan territory, Mauritania, and Mali, to the southeast by Niger, and to the north by the Mediterranean Sea. The country is a semi-presidential republic consisting of 48 provinces and 1,541 communes (counties).\n",
      "======================\n",
      "Algeria (; ', Algerian Arabic '; ), officially the People's Democratic Republic of Algeria, is a country in the Maghreb region of North Africa. The capital and most populous city is Algiers, located in the far north of the country on the Mediterranean coast. With an area of , Algeria is the tenth-largest country in the world, and the largest in Africa. Algeria is bordered to the northeast by Tunisia, to the east by Libya, to the west by Morocco, to the southwest by the Western Saharan territory, Mauritania, and Mali, to the southeast by Niger, and to the north by the Mediterranean Sea. The country is a semi-presidential republic consisting of 48 provinces and 1,541 communes (counties).\n",
      "======================\n",
      "Ancient Algeria has known many empires and dynasties, including ancient Numidians, Phoenicians, Carthaginians, Romans, Vandals, Byzantines, Umayyads, Abbasids, Idrisid, Aghlabid, Rustamid, Fatimids, Zirid, Hammadids, Almoravids, Almohads, Spaniards, Ottomans and the French colonial empire. Berbers are the indigenous inhabitants of Algeria.\n",
      "======================\n",
      "Algeria is a regional and middle power. It supplies large amounts of natural gas to Europe, and energy exports are the backbone of the economy. According to OPEC Algeria has the 16th largest oil reserves in the world and the second largest in Africa, while it has the 9th largest reserves of natural gas. Sonatrach, the national oil company, is the largest company in Africa. Algeria has one of the largest militaries in Africa and the largest defence budget on the continent; most of Algeria's weapons are imported from Russia, with whom they are a close ally. Algeria is a member of the African Union, the Arab League, OPEC, the United Nations and is a founding member of the Arab Maghreb Union.\n",
      "======================\n",
      "Algeria is a regional and middle power. It supplies large amounts of natural gas to Europe, and energy exports are the backbone of the economy. According to OPEC Algeria has the 16th largest oil reserves in the world and the second largest in Africa, while it has the 9th largest reserves of natural gas. Sonatrach, the national oil company, is the largest company in Africa. Algeria has one of the largest militaries in Africa and the largest defence budget on the continent; most of Algeria's weapons are imported from Russia, with whom they are a close ally. Algeria is a member of the African Union, the Arab League, OPEC, the United Nations and is a founding member of the Arab Maghreb Union.\n",
      "======================\n",
      "The region of Algeria was partially ruled by Ottomans for three centuries from 1516 to 1830. In 1516 the Turkish privateer brothers Aruj and Hayreddin Barbarossa, who operated successfully under the Hafsids, moved their base of operations to Algiers. They succeeded in conquering Jijel and Algiers from the Spaniards but eventually assumed control over the city and the surrounding region, forcing the previous ruler, Abu Hamo Musa III of the \"Bani Ziyad\" dynasty, to flee. When Aruj was killed in 1518 during his invasion of Tlemcen, Hayreddin succeeded him as military commander of Algiers. The Ottoman sultan gave him the title of beylerbey and a contingent of some 2,000 janissaries. With the aid of this force, Hayreddin conquered the whole area between Constantine and Oran (although the city of Oran remained in Spanish hands until 1791).\n",
      "======================\n",
      "Under the pretext of a slight to their consul, the French invaded and captured Algiers in 1830. Algerian slave trade and piracy ceased when the French conquered Algiers. The conquest of Algeria by the French took some time and resulted in considerable bloodshed. A combination of violence and disease epidemics caused the indigenous Algerian population to decline by nearly one-third from 1830 to 1872. Historian Ben Kiernan wrote on the French conquest of Algeria: \"By 1875, the French conquest was complete. The war had killed approximately 825,000 indigenous Algerians since 1830.\" French losses from 1831–51 were 3,336 killed in action and 92,329 dead in the hospital. The population of Algeria, which stood at about 2.9 million in 1872, reached nearly 11 million in 1960. French policy was predicated on \"civilising\" the country. During this period, a small but influential French-speaking indigenous elite was formed, made up of Berbers, mostly Kabyles.\n",
      "As a consequence, French government favored the Kabyles. About 80% of Indigenous schools were constructed for Kabyles.\n",
      "======================\n",
      "Under the pretext of a slight to their consul, the French invaded and captured Algiers in 1830. Algerian slave trade and piracy ceased when the French conquered Algiers. The conquest of Algeria by the French took some time and resulted in considerable bloodshed. A combination of violence and disease epidemics caused the indigenous Algerian population to decline by nearly one-third from 1830 to 1872. Historian Ben Kiernan wrote on the French conquest of Algeria: \"By 1875, the French conquest was complete. The war had killed approximately 825,000 indigenous Algerians since 1830.\" French losses from 1831–51 were 3,336 killed in action and 92,329 dead in the hospital. The population of Algeria, which stood at about 2.9 million in 1872, reached nearly 11 million in 1960. French policy was predicated on \"civilising\" the country. During this period, a small but influential French-speaking indigenous elite was formed, made up of Berbers, mostly Kabyles.\n",
      "As a consequence, French government favored the Kabyles. About 80% of Indigenous schools were constructed for Kabyles.\n",
      "======================\n",
      "The war led to the death of hundreds of thousands of Algerians and hundreds of thousands of injuries. Historians, like Alistair Horne and Raymond Aron, state that the actual number of Algerian Muslim war dead was far greater than the original FLN and official French estimates but was less than the 1 million deaths claimed by the Algerian government after independence. Horne estimated Algerian casualties during the span of eight years to be around 700,000. The war uprooted more than 2 million Algerians.\n",
      "======================\n",
      "The number of European \"Pied-Noirs\" who fled Algeria totaled more than 900,000 between 1962 and 1964. The exodus to mainland France accelerated after the Oran massacre of 1962, in which hundreds of militants entered European sections of the city, and began attacking civilians.\n",
      "======================\n",
      "Algeria is the largest country in Africa, and the Mediterranean Basin. Its southern part includes a significant portion of the Sahara. To the north, the Tell Atlas form with the Saharan Atlas, further south, two parallel sets of reliefs in approaching eastbound, and between which are inserted vast plains and highlands. Both Atlas tend to merge in eastern Algeria. The vast mountain ranges of Aures and Nememcha occupy the entire northeastern Algeria and are delineated by the Tunisian border. The highest point is Mount Tahat ( m).\n",
      "======================\n",
      "Algeria is the largest country in Africa, and the Mediterranean Basin. Its southern part includes a significant portion of the Sahara. To the north, the Tell Atlas form with the Saharan Atlas, further south, two parallel sets of reliefs in approaching eastbound, and between which are inserted vast plains and highlands. Both Atlas tend to merge in eastern Algeria. The vast mountain ranges of Aures and Nememcha occupy the entire northeastern Algeria and are delineated by the Tunisian border. The highest point is Mount Tahat ( m).\n",
      "======================\n",
      "Farther inland, the rainfall is less plentiful. Algeria also has ergs, or sand dunes, between mountains. Among these, in the summer time when winds are heavy and gusty, temperatures can get up to .\n",
      "======================\n",
      "The head of state is the president of Algeria, who is elected for a five-year term. The president was formerly limited to two five-year terms, but a constitutional amendment passed by the Parliament on 11 November 2008 removed this limitation. Algeria has universal suffrage at 18 years of age. The President is the head of the army, the Council of Ministers and the High Security Council. He appoints the Prime Minister who is also the head of government.\n",
      "======================\n",
      "Total military personnel include 147,000 active, 150,000 reserve, and 187,000 paramilitary staff (2008 estimate). Service in the military is compulsory for men aged 19–30, for a total of 12 months. The military expenditure was 4.3% of the gross domestic product (GDP) in 2012. Algeria has the second largest military in North Africa with the largest defence budget in Africa ($10 billion).\n",
      "======================\n",
      "Homosexuality is illegal in Algeria. Public homosexual behavior is punishable by up to two years in prison.\n",
      "======================\n",
      "Algeria is classified as an upper middle income country by the World Bank. Algeria's currency is the dinar (DZD). The economy remains dominated by the state, a legacy of the country's socialist post-independence development model. In recent years, the Algerian government has halted the privatization of state-owned industries and imposed restrictions on imports and foreign involvement in its economy. These restrictions are just started to be lifted off recently although questions about Algeria's slow diversifying economy remains.\n",
      "======================\n",
      "In January 2016 Algeria's population was an estimated 40.4 million, who are mainly Arab-Berber ethnically. At the outset of the 20th century, its population was approximately four million. About 90% of Algerians live in the northern, coastal area; the inhabitants of the Sahara desert are mainly concentrated in oases, although some 1.5 million remain nomadic or partly nomadic. 28.1% of Algerians are under the age of 15.\n",
      "======================\n",
      "Between 90,000 and 165,000 Sahrawis from Western Sahara live in the Sahrawi refugee camps, in the western Algerian Sahara desert. There are also more than 4,000 Palestinian refugees, who are well integrated and have not asked for assistance from the United Nations High Commissioner for Refugees (UNHCR). In 2009, 35,000 Chinese migrant workers lived in Algeria.\n",
      "======================\n",
      "The largest concentration of Algerian migrants outside Algeria is in France, which has reportedly over 1.7 million Algerians of up to the second generation.\n",
      "======================\n",
      "Although French has no official status, Algeria is the second-largest Francophone country in the world in terms of speakers, and French is widely used in government, media (newspapers, radio, local television), and both the education system (from primary school onwards) and academia due to Algeria's colonial history. It can be regarded as a lingua franca of Algeria. In 2008, 11.2 million Algerians could read and write in French. An Abassa Institute study in April 2000 found that 60% of households could speak and understand French or 18 million in a population of 30 million then. After an earlier period during which the Algerian government tried to phase out French (which is why it has no official status), in recent decades the government has backtracked and reinforced the study of French and TV programs have reinforced use of the language.\n",
      "======================\n",
      "Although French has no official status, Algeria is the second-largest Francophone country in the world in terms of speakers, and French is widely used in government, media (newspapers, radio, local television), and both the education system (from primary school onwards) and academia due to Algeria's colonial history. It can be regarded as a lingua franca of Algeria. In 2008, 11.2 million Algerians could read and write in French. An Abassa Institute study in April 2000 found that 60% of households could speak and understand French or 18 million in a population of 30 million then. After an earlier period during which the Algerian government tried to phase out French (which is why it has no official status), in recent decades the government has backtracked and reinforced the study of French and TV programs have reinforced use of the language.\n",
      "======================\n",
      "Algeria emerged as a bilingual state after 1962. Colloquial Algerian Arabic is spoken by about 72% of the population and Berber by 27–30%.\n",
      "======================\n",
      "Football is the most popular sport in Algeria. Several names are engraved in the history of the sport, including Lakhdar Belloumi, Rachid Mekhloufi, Hassen Lalmas, Rabah Madjer, Salah Assad and Djamel Zidane. The Algeria national football team qualified for the 1982 FIFA World Cup, 1986 FIFA World Cup, 2010 FIFA World Cup and 2014 FIFA World Cup. In addition, several football clubs have won continental and international trophies as the club ES Sétif or JS Kabylia. The Algerian Football Federation is an association of Algeria football clubs organizing national competitions and international matches of the selection of Algeria national football team.\n",
      "======================\n",
      "Dagny Taggart is the protagonist of the novel. She is Vice-President in Charge of Operations for Taggart Transcontinental, under her brother, James Taggart. Given James' incompetence, Dagny is responsible for all the workings of the railroad.\n",
      "======================\n",
      "Dagny Taggart is the protagonist of the novel. She is Vice-President in Charge of Operations for Taggart Transcontinental, under her brother, James Taggart. Given James' incompetence, Dagny is responsible for all the workings of the railroad.\n",
      "======================\n",
      "Francisco d'Anconia is one of the central characters in \"Atlas Shrugged\", an owner by inheritance of the world's largest copper mining operation. He is a childhood friend, and the first love, of Dagny Taggart. A child prodigy of exceptional talents, Francisco was dubbed the \"climax\" of the d'Anconia line, an already prestigious family of skilled industrialists. He was a classmate of John Galt and Ragnar Danneskjöld and student of both Hugh Akston and Robert Stadler. He began working while still in school, proving that he could have made a fortune without the aid of his family's wealth and power. Later, Francisco bankrupts the d'Anconia business to put it out of others' reach. His full name is given as \"Francisco Domingo Carlos Andres Sebastián d'Anconia\".\n",
      "======================\n",
      "Before working for Taggart Transcontinental, Galt worked as an engineer for the Twentieth Century Motor Company, where he secretly invented a generator of usable electric energy from ambient static electricity, but abandoned his prototype, and his employment, when dissatisfied by an easily corrupted novel system of payment. This prototype was found by Dagny Taggart and Hank Rearden. Galt himself remains concealed throughout much of the novel, working a job and living by himself, where he unites the most skillful inventors and business leaders under his leadership. Much of the book's third division is given to his broadcast speech, which presents the author's philosophy of Objectivism.\n",
      "======================\n",
      "Anthropology is the study of humans and human behavior and societies in the past and present. Social anthropology and cultural anthropology study the norms and values of societies. Linguistic anthropology studies how language affects social life. Biological or physical anthropology studies the biological development of humans.\n",
      "======================\n",
      "Anthropology is the study of humans and human behavior and societies in the past and present. Social anthropology and cultural anthropology study the norms and values of societies. Linguistic anthropology studies how language affects social life. Biological or physical anthropology studies the biological development of humans.\n",
      "======================\n",
      "Darwin and Wallace unveiled evolution in the late 1850s. There was an immediate rush to bring it into the social sciences. Paul Broca in Paris was in the process of breaking away from the Société de biologie to form the first of the explicitly anthropological societies, the Société d'Anthropologie de Paris, meeting for the first time in Paris in 1859. When he read Darwin, he became an immediate convert to \"Transformisme\", as the French called evolutionism. His definition now became \"the study of the human group, considered as a whole, in its details, and in relation to the rest of nature\".\n",
      "======================\n",
      "Anthropology is a global discipline involving humanities, social sciences and natural sciences. Anthropology builds upon knowledge from natural sciences, including the discoveries about the origin and evolution of \"Homo sapiens\", human physical traits, human behavior, the variations among different groups of humans, how the evolutionary past of \"Homo sapiens\" has influenced its social organization and culture, and from social sciences, including the organization of human social and cultural relations, institutions, social conflicts, etc. Early anthropology originated in Classical Greece and Persia and studied and tried to understand observable cultural diversity. As such, anthropology has been central in the development of several new (late 20th century) interdisciplinary fields such as cognitive science, global studies, and various ethnic studies.\n",
      "======================\n",
      "Anthropology is a global discipline involving humanities, social sciences and natural sciences. Anthropology builds upon knowledge from natural sciences, including the discoveries about the origin and evolution of \"Homo sapiens\", human physical traits, human behavior, the variations among different groups of humans, how the evolutionary past of \"Homo sapiens\" has influenced its social organization and culture, and from social sciences, including the organization of human social and cultural relations, institutions, social conflicts, etc. Early anthropology originated in Classical Greece and Persia and studied and tried to understand observable cultural diversity. As such, anthropology has been central in the development of several new (late 20th century) interdisciplinary fields such as cognitive science, global studies, and various ethnic studies.\n",
      "======================\n",
      "Inquiry in sociocultural anthropology is guided in part by cultural relativism, the attempt to understand other societies in terms of their own cultural symbols and values. Accepting other cultures in their own terms moderates reductionism in cross-cultural comparison. This project is often accommodated in the field of ethnography. Ethnography can refer to both a methodology and the product of ethnographic research, i.e. an ethnographic monograph. As a methodology, ethnography is based upon long-term fieldwork within a community or other research site. Participant observation is one of the foundational methods of social and cultural anthropology. Ethnology involves the systematic comparison of different cultures. The process of participant-observation can be especially helpful to understanding a culture from an emic (conceptual, vs. etic, or technical) point of view.\n",
      "======================\n",
      "The study of kinship and social organization is a central focus of sociocultural anthropology, as kinship is a human universal. Sociocultural anthropology also covers economic and political organization, law and conflict resolution, patterns of consumption and exchange, material culture, technology, infrastructure, gender relations, ethnicity, childrearing and socialization, religion, myth, symbols, values, etiquette, worldview, sports, music, nutrition, recreation, games, food, festivals, and language (which is also the object of study in linguistic anthropology).\n",
      "======================\n",
      "Archaeology is the study of the human past through its material remains. Artifacts, faunal remains, and human altered landscapes are evidence of the cultural and material lives of past societies. Archaeologists examine this material remains in order to deduce patterns of past human behavior and cultural practices. Ethnoarchaeology is a type of archaeology that studies the practices and material remain of living human groups in order to gain a better understanding of the evidence left behind by past human groups, who are presumed to have lived in similar ways.\n",
      "======================\n",
      "Media anthropology (also known as the anthropology of media or mass media) emphasizes ethnographic studies as a means of understanding producers, audiences, and other cultural and social aspects of mass media. The types of ethnographic contexts explored range from contexts of media production (e.g., ethnographies of newsrooms in newspapers, journalists in the field, film production) to contexts of media reception, following audiences in their everyday responses to media. Other types include cyber anthropology, a relatively new area of internet research, as well as ethnographies of other areas of research which happen to involve media, such as development work, social movements, or health education. This is in addition to many classic ethnographic contexts, where media such as radio, the press, new media, and television have started to make their presences felt since the early 1990s.\n",
      "======================\n",
      "\"Kinship\" can refer both to \"the study of\" the patterns of social relationships in one or more human cultures, or it can refer to \"the patterns of social relationships\" themselves. Over its history, anthropology has developed a number of related concepts and terms, such as \"descent\", \"descent groups\", \"lineages\", \"affines\", \"cognates\", and even \"fictive kinship\". Broadly, kinship patterns may be considered to include people related both by descent (one's social relations during development), and also relatives by marriage.\n",
      "======================\n",
      "Medical anthropology is an interdisciplinary field which studies \"human health and disease, health care systems, and biocultural adaptation\". It is believed that William Caudell was the first to discover the field of medical anthropology. Currently, research in medical anthropology is one of the main growth areas in the field of anthropology as a whole. It focuses on the following six basic fields:\n",
      "======================\n",
      "Ecological anthropology is defined as the \"study of cultural adaptations to environments\". The sub-field is also defined as, \"the study of relationships between a population of humans and their biophysical environment\". The focus of its research concerns \"how cultural beliefs and practices helped human populations adapt to their environments, and how their environment across space and time. The contemporary perspective of environmental anthropology, and arguably at least the backdrop, if not the focus of most of the ethnographies and cultural fieldworks of today, is political ecology. Many characterize this new perspective as more informed with culture, politics and power, globalization, localized issues, century anthropology and more. The focus and data interpretation is often used for arguments for/against or creation of policy, and to prevent corporate exploitation and damage of land. Often, the observer has become an active part of the struggle either directly (organizing, participation) or indirectly (articles, documentaries, books, ethnographies). Such is the case with environmental justice advocate Melissa Checker and her relationship with the people of Hyde Park.\n",
      "======================\n",
      "Evolutionary anthropology is the interdisciplinary study of the evolution of human physiology and human behaviour and the relation between hominins and non-hominin primates. Evolutionary anthropology is based in natural science and social science, combining the human development with socioeconomic factors. Evolutionary anthropology is concerned with both biological and cultural evolution of humans, past and present. It is based on a scientific approach, and brings together fields such as archaeology, behavioral ecology, psychology, primatology, and genetics. It is a dynamic and interdisciplinary field, drawing on many lines of evidence to understand the human experience, past and present.\n",
      "======================\n",
      "Anthropologists, along with other social scientists, are working with the US military as part of the US Army's strategy in Afghanistan. The \"Christian Science Monitor\" reports that \"Counterinsurgency efforts focus on better grasping and meeting local needs\" in Afghanistan, under the \"Human Terrain System\" (HTS) program; in addition, HTS teams are working with the US military in Iraq. In 2009, the American Anthropological Association's Commission on the Engagement of Anthropology with the US Security and Intelligence Communities released its final report concluding, in part, that, \"When ethnographic investigation is determined by military missions, not subject to external review, where data collection occurs in the context of war, integrated into the goals of counterinsurgency, and in a potentially coercive environment – all characteristic factors of the HTS concept and its application – it can no longer be considered a legitimate professional exercise of anthropology. In summary, while we stress that constructive engagement between anthropology and the military is possible, CEAUSSIC suggests that the AAA emphasize the incompatibility of HTS with disciplinary ethics and practice for job seekers and that it further recognize the problem of allowing HTS to define the meaning of \"anthropology\" within DoD.\"\n",
      "======================\n",
      "Biological anthropologists are interested in both human variation and in the possibility of human universals (behaviors, ideas or concepts shared by virtually all human cultures). They use many different methods of study, but modern population genetics, participant observation and other techniques often take anthropologists \"into the field,\" which means traveling to a community in its own setting, to do something called \"fieldwork.\" On the biological or physical side, human measurements, genetic samples, nutritional data may be gathered and published as articles or monographs.\n",
      "======================\n",
      "The three terms are often confused. However, they cover different concepts:\n",
      "======================\n",
      "The start of Western alchemy may generally be traced to ancient and Hellenistic Egypt, where the city of Alexandria was a center of alchemical knowledge, and retained its pre-eminence through most of the Greek and Roman periods. Here, elements of technology, religion, mythology, and Hellenistic philosophy, each with their own much longer histories, combined to form the earliest known records of alchemy in the West. Zosimos of Panopolis wrote the oldest known books on alchemy, while Mary the Jewess is credited as being the first non-fictitious Western alchemist. They wrote in Greek and lived in Egypt under Roman rule.\n",
      "======================\n",
      "Alchemy coexisted alongside emerging Christianity. Lactantius believed Hermes Trismegistus had prophesied its birth. St Augustine later affirmed this in the 4th & 5th centuries, but also condemned Trismegistus for idolatry. Examples of Pagan, Christian, and Jewish alchemists can be found during this period.\n",
      "======================\n",
      "Most of the Greco-Roman alchemists preceding Zosimos are known only by pseudonyms, such as Moses, Isis, Cleopatra, Democritus, and Ostanes. Others authors such as Komarios, and Chymes, we only know through fragments of text. After  400, Greek alchemical writers occupied themselves solely in commenting on the works of these predecessors. By the middle of the 7th century alchemy was almost an entirely mystical discipline. It was at that time that Khalid Ibn Yazid sparked its migration from Alexandria to the Islamic world, facilitating the translation and preservation of Greek alchemical texts in the 8th and 9th centuries.\n",
      "======================\n",
      "The Vedas describe a connection between eternal life and gold. The use of Mercury for alchemy is first documented in the 3rd- or 4th-century \"Arthashastra\". Buddhist texts from the 2nd to 5th centuries mention the transmutation of base metals to gold. Greek alchemy may have been introduced to Ancient India through the invasions of Alexander the Great in 325 , and kingdoms that were culturally influenced by the Greeks like Gandhāra, although hard evidence for this is lacking.\n",
      "======================\n",
      "Two famous early Indian alchemical authors were Nāgārjuna Siddha and Nityanātha Siddha. Nāgārjuna Siddha was a Buddhist monk. His book, \"Rasendramangalam\", is an example of Indian alchemy and medicine. Nityanātha Siddha wrote \"Rasaratnākara\", also a highly influential work. In Sanskrit, \"rasa\" translates to \"mercury\", and Nāgārjuna Siddha was said to have developed a method of converting mercury into gold.\n",
      "======================\n",
      "Black powder may have been an important invention of Chinese alchemists. As previously stated above, Chinese alchemy was more related to medicine. It is said that the Chinese invented gunpowder while trying to find a potion for eternal life. Described in 9th-century texts and used in fireworks in China by the 10th century, it was used in cannons by 1290. From China, the use of gunpowder spread to Japan, the Mongols, the Muslim world, and Europe. Gunpowder was used by the Mongols against the Hungarians in 1241, and in Europe by the 14th century.\n",
      "======================\n",
      "Black powder may have been an important invention of Chinese alchemists. As previously stated above, Chinese alchemy was more related to medicine. It is said that the Chinese invented gunpowder while trying to find a potion for eternal life. Described in 9th-century texts and used in fireworks in China by the 10th century, it was used in cannons by 1290. From China, the use of gunpowder spread to Japan, the Mongols, the Muslim world, and Europe. Gunpowder was used by the Mongols against the Hungarians in 1241, and in Europe by the 14th century.\n",
      "======================\n",
      "Meanwhile, theologian contemporaries of the translators made strides towards the reconciliation of faith and experimental rationalism, thereby priming Europe for the influx of alchemical thought. The 11th-century St Anselm put forth the opinion that faith and rationalism were compatible and encouraged rationalism in a Christian context. In the early 12th century, Peter Abelard followed Anselm's work, laying down the foundation for acceptance of Aristotelian thought before the first works of Aristotle had reached the West. In the early 13th century, Robert Grosseteste used Abelard's methods of analysis and added the use of observation, experimentation, and conclusions when conducting scientific investigations. Grosseteste also did much work to reconcile Platonic and Aristotelian thinking.\n",
      "======================\n",
      "Through much of the 12th and 13th centuries, alchemical knowledge in Europe remained centered on translations, and new Latin contributions were not made. The efforts of the translators were succeeded by that of the encyclopaedists. In the 13th century, Albertus Magnus and Roger Bacon were the most notable of these, their work summarizing and explaining the newly imported alchemical knowledge in Aristotelian terms. Albertus Magnus, a Dominican friar, is known to have written works such as the \"Book of Minerals\" where he observed and commented on the operations and theories of alchemical authorities like Hermes and Democritus and unnamed alchemists of his time. Albertus critically compared these to the writings of Aristotle and Avicenna, where they concerned the transmutation of metals. From the time shortly after his death through to the 15th century, more than 28 alchemical tracts were misattributed to him, a common practice giving rise to his reputation as an accomplished alchemist. Likewise, alchemical texts have been attributed to Albert's student Thomas Aquinas.\n",
      "======================\n",
      "Nicolas Flamel is a well-known alchemist, but a good example of pseudepigraphy, the practice of giving your works the name of someone else, usually more famous. Although the historical Flamel existed, the writings and legends assigned to him only appeared in 1612. Flamel was not a religious scholar as were many of his predecessors, and his entire interest in the subject revolved around the pursuit of the philosopher's stone. His work spends a great deal of time describing the processes and reactions, but never actually gives the formula for carrying out the transmutations. Most of 'his' work was aimed at gathering alchemical knowledge that had existed before him, especially as regarded the philosopher's stone. Through the 14th and 15th centuries, alchemists were much like Flamel: they concentrated on looking for the philosophers' stone. Bernard Trevisan and George Ripley made similar contributions. Their cryptic allusions and symbolism led to wide variations in interpretation of the art.\n",
      "======================\n",
      "In the late 15th century, Marsilo Ficino translated the Corpus Hermeticum and the works of Plato into Latin. These were previously unavailable to Europeans who for the first time had a full picture of the alchemical theory that Bacon had declared absent. Renaissance Humanism and Renaissance Neoplatonism guided alchemists away from physics to refocus on mankind as the alchemical vessel.\n",
      "======================\n",
      "The decline of European alchemy was brought about by the rise of modern science with its emphasis on rigorous quantitative experimentation and its disdain for \"ancient wisdom\". Although the seeds of these events were planted as early as the 17th century, alchemy still flourished for some two hundred years, and in fact may have reached its peak in the 18th century. As late as 1781 James Price claimed to have produced a powder that could transmute mercury into silver or gold. Early modern European alchemy continued to exhibit a diversity of theories, practices, and purposes: \"Scholastic and anti-Aristotelian, Paracelsian and anti-Paracelsian, Hermetic, Neoplatonic, mechanistic, vitalistic, and more—plus virtually every combination and compromise thereof.\"\n",
      "======================\n",
      "Robert Boyle (1627–1691) pioneered the scientific method in chemical investigations. He assumed nothing in his experiments and compiled every piece of relevant data. Boyle would note the place in which the experiment was carried out, the wind characteristics, the position of the Sun and Moon, and the barometer reading, all just in case they proved to be relevant. This approach eventually led to the founding of modern chemistry in the 18th and 19th centuries, based on revolutionary discoveries of Lavoisier and John Dalton.\n",
      "======================\n",
      "Beginning around 1720, a rigid distinction was drawn between \"alchemy\" and \"chemistry\" for the first time. By the 1740s, \"alchemy\" was now restricted to the realm of gold making, leading to the popular belief that alchemists were charlatans, and the tradition itself nothing more than a fraud. In order to protect the developing science of modern chemistry from the negative censure of which alchemy was being subjected, academic writers during the scientific Enlightenment attempted, for the sake of survival, to divorce and separate the \"new\" chemistry from the \"old\" practices of alchemy. This move was mostly successful, and the consequences of this continued into the 19th and 20th centuries, and even to the present day.\n",
      "======================\n",
      "During the occult revival of the early 19th century, alchemy received new attention as an occult science. The esoteric or occultist school, which arose during the 19th century, held (and continues to hold) the view that the substances and operations mentioned in alchemical literature are to be interpreted in a spiritual sense, and it downplays the role of the alchemy as a practical tradition or protoscience. This interpretation further forwarded the view that alchemy is an art primarily concerned with spiritual enlightenment or illumination, as opposed to the physical manipulation of apparatus and chemicals, and claims that the obscure language of the alchemical texts were an allegorical guise for spiritual, moral or mystical processes.\n",
      "======================\n",
      "Visual artists had a similar relationship with alchemy. While some of them used alchemy as a source of satire, others worked with the alchemists themselves or integrated alchemical thought or symbols in their work. Music was also present in the works of alchemists and continues to influence popular performers. In the last hundred years, alchemists have been portrayed in a magical and spagyric role in fantasy fiction, film, television, novels, comics and video games.\n",
      "======================\n",
      "Historically, astronomy was more concerned with the classification and description of phenomena in the sky, while astrophysics attempted to explain these phenomena and the differences between them using physical laws. Today, that distinction has mostly disappeared and the terms \"astronomer\" and \"astrophysicist\" are interchangeable. Professional astronomers are highly educated individuals who typically have a Ph.D. in physics or astronomy and are employed by research institutions or universities. They spend the majority of their time working on research, although they quite often have other duties such as teaching, building instruments, or aiding in the operation of an observatory.\n",
      "======================\n",
      "While there is a relatively low number of professional astronomers, the field is popular among amateurs. Most cities have amateur astronomy clubs that meet on a regular basis and often host star parties. The Astronomical Society of the Pacific is the largest general astronomical society in the world, comprising both professional and amateur astronomers as well as educators from 70 different nations. Like any hobby, most people who think of themselves as amateur astronomers may devote a few hours a month to stargazing and reading the latest developments in research. However, amateurs span the range from so-called \"armchair astronomers\" to the very ambitious, who own science-grade telescopes and instruments with which they are able to make their own discoveries and assist professional astronomers in research.\n",
      "======================\n",
      "ASCII is one of the IEEE milestones.\n",
      "======================\n",
      "ASCII was developed from telegraph code. Its first commercial use was as a seven-bit teleprinter code promoted by Bell data services. Work on the ASCII standard began on October 6, 1960, with the first meeting of the American Standards Association's (ASA) (now the American National Standards Institute or ANSI) X3.2 subcommittee. The first edition of the standard was published in 1963, underwent a major revision during 1967, and experienced its most recent update during 1986. Compared to earlier telegraph codes, the proposed Bell code and ASCII were both ordered for more convenient sorting (i.e., alphabetization) of lists, and added features for devices other than teleprinters.\n",
      "======================\n",
      "Revisions of the ASCII standard:\n",
      "======================\n",
      "The X3.2 subcommittee designed ASCII based on the earlier teleprinter encoding systems. Like other character encodings, ASCII specifies a correspondence between digital bit patterns and character symbols (i.e. graphemes and control characters). This allows digital devices to communicate with each other and to process, store, and communicate character-oriented information such as written language. Before ASCII was developed, the encodings in use included 26 alphabetic characters, 10 numerical digits, and from 11 to 25 special graphic symbols. To include all these, and control characters compatible with the Comité Consultatif International Téléphonique et Télégraphique (CCITT) International Telegraph Alphabet No. 2 (ITA2) standard of 1924, FIELDATA (1956), and early EBCDIC (1963), more than 64 codes were required for ASCII.\n",
      "======================\n",
      "ASCII-code order is also called \"ASCIIbetical\" order. Collation of data is sometimes done in this order rather than \"standard\" alphabetical order (collating sequence). The main deviations in ASCII order are:\n",
      "======================\n",
      "ASCII was first used commercially during 1963 as a seven-bit teleprinter code for American Telephone & Telegraph's TWX (TeletypeWriter eXchange) network. TWX originally used the earlier five-bit ITA2, which was also used by the competing Telex teleprinter system. Bob Bemer introduced features such as the escape sequence. His British colleague Hugh McGregor Ross helped to popularize this work according to Bemer, \"so much so that the code that was to become ASCII was first called the \"Bemer–Ross Code\" in Europe\". Because of his extensive work on ASCII, Bemer has been called \"the father of ASCII\".\n",
      "======================\n",
      "As computer technology spread throughout the world, different standards bodies and corporations developed many variations of ASCII to facilitate the expression of non-English languages that used Roman-based alphabets. One could class some of these variations as \"ASCII extensions\", although some misuse that term to represent all variants, including those that do not preserve ASCII's character-map in the 7-bit range. Furthermore, the ASCII extensions have also been mislabelled as ASCII.\n",
      "======================\n",
      "ISO/IEC 646, like ASCII, is a 7-bit character set. It does not make any additional codes available, so the same code points encoded different characters in different countries. Escape codes were defined to indicate which national variant applied to a piece of text, but they were rarely used, so it was often impossible to know what variant to work with and, therefore, which character a code represented, and in general, text-processing systems could cope with only one variant anyway.\n",
      "======================\n",
      "ASCII was incorporated into the Unicode (1991) character set as the first 128 symbols, so the 7-bit ASCII characters have the same numeric codes in both sets. This allows UTF-8 to be backward compatible with 7-bit ASCII, as a UTF-8 file containing only ASCII characters is identical to an ASCII file containing the same sequence of characters. Even more importantly, forward compatibility is ensured as software that recognizes only 7-bit ASCII characters as special and does not alter bytes with the highest bit set (as is often done to support 8-bit ASCII extensions such as ISO-8859-1) will preserve UTF-8 data unchanged.\n",
      "======================\n",
      "ASCII was incorporated into the Unicode (1991) character set as the first 128 symbols, so the 7-bit ASCII characters have the same numeric codes in both sets. This allows UTF-8 to be backward compatible with 7-bit ASCII, as a UTF-8 file containing only ASCII characters is identical to an ASCII file containing the same sequence of characters. Even more importantly, forward compatibility is ensured as software that recognizes only 7-bit ASCII characters as special and does not alter bytes with the highest bit set (as is often done to support 8-bit ASCII extensions such as ISO-8859-1) will preserve UTF-8 data unchanged.\n",
      "======================\n",
      "When film became a common medium some manufacturers of optical toys adapted small magic lanterns into toy film projectors for short loops of film. By 1902, they were producing many chromolithography film loops, usually by tracing live-action film footage (much like the later rotoscoping technique).\n",
      "======================\n",
      "In 2008, the animation market was worth US$68.4 billion. Animation as an art and industry continues to thrive as of the mid-2010s because well-made animated projects can find audiences across borders and in all four quadrants. Animated feature-length films returned the highest gross margins (around 52%) of all film genres in the 2004–2013 timeframe.\n",
      "======================\n",
      "The most important difference is that once a film is in the production phase, the marginal cost of one more shot is higher for animated films than live-action films. It is relatively easy for a director to ask for one more take during principal photography of a live-action film, but every take on an animated film must be manually rendered by animators (although the task of rendering slightly different takes has been made less tedious by modern computer animation). It is pointless for a studio to pay the salaries of dozens of animators to spend weeks creating a visually dazzling five-minute scene if that scene fails to effectively advance the plot of the film. Thus, animation studios starting with Disney began the practice in the 1930s of maintaining story departments where storyboard artists develop every single scene through storyboards, then handing the film over to the animators only after the production team is satisfied that all the scenes make sense as a whole. While live-action films are now also storyboarded, they enjoy more latitude to depart from storyboards (i.e., real-time improvisation).\n",
      "======================\n",
      "Unlike live-action films, animated films were traditionally developed beyond the synopsis stage through the storyboard format; the storyboard artists would then receive credit for writing the film. In the early 1960s, animation studios began hiring professional screenwriters to write screenplays (while also continuing to use story departments) and screenplays had become commonplace for animated films by the late 1980s.\n",
      "======================\n",
      "As with any other form of media, animation too has instituted awards for excellence in the field. The original awards for animation were presented by the Academy of Motion Picture Arts and Sciences for animated shorts from the year 1932, during the 5th Academy Awards function. The first winner of the Academy Award was the short \"Flowers and Trees\", a production by Walt Disney Productions. The Academy Award for a feature-length animated motion picture was only instituted for the year 2001, and awarded during the 74th Academy Awards in 2002. It was won by the film \"Shrek\", produced by DreamWorks and Pacific Data Images. Disney/Pixar have produced the most films either to win or be nominated for the award. The list of both awards can be obtained here:\n",
      "======================\n",
      "Several other countries have instituted an award for best-animated feature film as part of their national film awards: Africa Movie Academy Award for Best Animation (since 2008), BAFTA Award for Best Animated Film (since 2006), César Award for Best Animated Film (since 2011), Golden Rooster Award for Best Animation (since 1981), Goya Award for Best Animated Film (since 1989), Japan Academy Prize for Animation of the Year (since 2007), National Film Award for Best Animated Film (since 2006). Also since 2007, the Asia Pacific Screen Award for Best Animated Feature Film has been awarded at the Asia Pacific Screen Awards. Since 2009, the European Film Awards have awarded the European Film Award for Best Animated Film.\n",
      "======================\n",
      "Several other countries have instituted an award for best-animated feature film as part of their national film awards: Africa Movie Academy Award for Best Animation (since 2008), BAFTA Award for Best Animated Film (since 2006), César Award for Best Animated Film (since 2011), Golden Rooster Award for Best Animation (since 1981), Goya Award for Best Animated Film (since 1989), Japan Academy Prize for Animation of the Year (since 2007), National Film Award for Best Animated Film (since 2006). Also since 2007, the Asia Pacific Screen Award for Best Animated Feature Film has been awarded at the Asia Pacific Screen Awards. Since 2009, the European Film Awards have awarded the European Film Award for Best Animated Film.\n",
      "======================\n",
      "Several other countries have instituted an award for best-animated feature film as part of their national film awards: Africa Movie Academy Award for Best Animation (since 2008), BAFTA Award for Best Animated Film (since 2006), César Award for Best Animated Film (since 2011), Golden Rooster Award for Best Animation (since 1981), Goya Award for Best Animated Film (since 1989), Japan Academy Prize for Animation of the Year (since 2007), National Film Award for Best Animated Film (since 2006). Also since 2007, the Asia Pacific Screen Award for Best Animated Feature Film has been awarded at the Asia Pacific Screen Awards. Since 2009, the European Film Awards have awarded the European Film Award for Best Animated Film.\n",
      "======================\n",
      "As the leader of the Muses (\"Apollon Musegetes\") and director of their choir, Apollo functions as the patron god of music, dance and poetry. He is the inventor of string-music. The Cithara and the lyre are also said to be his inventions. The lyre is a common attribute of Apollo. Hymns sung to Apollo were called paeans.\n",
      "======================\n",
      "The cult centers of Apollo in Greece, Delphi and Delos, date from the 8th century BCE. The Delos sanctuary was primarily dedicated to Artemis, Apollo's twin sister. At Delphi, Apollo was venerated as the slayer of Pytho. For the Greeks, Apollo was all the Gods in one and through the centuries he acquired different functions which could originate from different gods. In archaic Greece he was the prophet, the oracular god who in older times was connected with \"healing\". In classical Greece he was the god of light and of music, but in popular religion he had a strong function to keep away evil. Walter Burkert discerned three components in the prehistory of Apollo worship, which he termed \"a Dorian-northwest Greek component, a Cretan-Minoan component, and a Syro-Hittite component.\"\n",
      "======================\n",
      "From his eastern origin Apollo brought the art of inspection of \"symbols and omina\" (σημεῖα καὶ τέρατα : \"sēmeia kai terata\"), and of the observation of the omens of the days. The inspiration oracular-cult was probably introduced from Anatolia. The ritualism belonged to Apollo from the beginning. The Greeks created the legalism, the supervision of the orders of the gods, and the demand for moderation and harmony. Apollo became the god of shining youth, ideal beauty, fine arts, philosophy, moderation, spiritual-life, the protector of music, divine law and perceptible order. The improvement of the old Anatolian god, and his elevation to an intellectual sphere, may be considered an achievement of the Greek people.\n",
      "======================\n",
      "The connection with the Dorians and their initiation festival \"apellai\" is reinforced by the month \"Apellaios\" in northwest Greek calendars. The family-festival was dedicated to Apollo (Doric: ). \"Apellaios\" is the month of these rites, and Apellon is the \"megistos kouros\" (the great Kouros). However it can explain only the Doric type of the name, which is connected with the Ancient Macedonian word \"pella\" (Pella), \"stone\". Stones played an important part in the cult of the god, especially in the oracular shrine of Delphi (Omphalos).\n",
      "======================\n",
      "Unusually among the Olympic deities, Apollo had two cult sites that had widespread influence: Delos and Delphi. In cult practice, Delian Apollo and Pythian Apollo (the Apollo of Delphi) were so distinct that they might both have shrines in the same locality. Apollo's cult was already fully established when written sources commenced, about 650 BCE. Apollo became extremely important to the Greek world as an oracular deity in the archaic period, and the frequency of theophoric names such as \"Apollodorus\" or \"Apollonios\" and cities named \"Apollonia\" testify to his popularity. Oracular sanctuaries to Apollo were established in other sites. In the 2nd and 3rd century CE, those at Didyma and Clarus pronounced the so-called \"theological oracles\", in which Apollo confirms that all deities are aspects or servants of an all-encompassing, highest deity. \"In the 3rd century, Apollo fell silent. Julian the Apostate (359–361) tried to revive the Delphic oracle, but failed.\"\n",
      "======================\n",
      "Oracles were also given by sons of Apollo.\n",
      "======================\n",
      "Leto was accepted by the people of Delos and she promised them that her son would be always favorable towards the city. Afterwards, Zeus secured Delos to the bottom of the ocean. This island later became sacred to Apollo.\n",
      "======================\n",
      "Python was sent by Hera to hunt the pregnant Leto to death, and had assaulted Leto. To avenge the trouble given to his mother, the young Apollo, with his bow and arrows that he had received from Hephaestus, went in search of Python and killed it in the sacred cave at Delphi with his arrows. According to another version, Leto with her twins had gone to Delphi to rest and Python had attacked her there. Apollo defended his mother and killed Python. According to Homer, Apollo had encountered and killed the Python when he was looking for a place to establish his shrine. Even though Python had been a bane to humanity, it was a child of Gaea and hence Apollo had to be punished. \n",
      "======================\n",
      "Soon after his return, Apollo needed to recruit people to Delphi. So, when he spotted a ship sailing from Crete, he sprang aboard in the form of a dolphin. The crew was awed into submission and followed a course that led the ship to Delphi. There Apollo revealed himself as a god. Initiating them to his service, he instructed them to keep righteousness in their hearts. The Pythia was Apollo's high priestess and his mouthpiece through whom he gave prophecies. Pythia is arguably the constant favorite of Apollo among the mortals.\n",
      "======================\n",
      "Anius, Apollo's son by Rhoeo, was abandoned by his mother. Apollo brought him up and educated him. Anius later became the priest of Apollo and the king of Delos. In a similar fashion, he had educated his sons Idmon and Iamus (by taking him to Olympia).\n",
      "======================\n",
      "Apollo's music is soulful and enchanting. His music would deliver people from their pain, and hence, like Dionysus, he is also called the liberator.\n",
      "======================\n",
      "Upon discovering the theft, Apollo confronted Hermes and asked him to return his cattle. When Hermes acted innocent, Apollo took the matter to Zeus. Zeus, having seen the events, sided with Apollo, and ordered Hermes to return the cattle. Hermes then began to play music on the lyre he had invented. Apollo, a god of music, fell in love with the instrument and offered to allow exchange of the cattle for the lyre. Hence, Apollo then became a master of the lyre.\n",
      "======================\n",
      "Once Pan had the audacity to compare his music with that of Apollo and to challenge Apollo, the god of music. The mountain-god Tmolus was chosen to umpire. Pan blew on his pipes, and with his rustic melody gave great satisfaction to himself and his faithful follower, Midas, who happened to be present. Then Apollo struck the strings of his lyre. It was so beautiful that Tmolus at once awarded the victory to Apollo, and everyone were pleased with the judgement. Only Midas dissented and questioned the justice of the award. Apollo would not suffer such a depraved pair of ears any longer, and caused them to become the ears of a donkey.\n",
      "======================\n",
      "Once Pan had the audacity to compare his music with that of Apollo and to challenge Apollo, the god of music. The mountain-god Tmolus was chosen to umpire. Pan blew on his pipes, and with his rustic melody gave great satisfaction to himself and his faithful follower, Midas, who happened to be present. Then Apollo struck the strings of his lyre. It was so beautiful that Tmolus at once awarded the victory to Apollo, and everyone were pleased with the judgement. Only Midas dissented and questioned the justice of the award. Apollo would not suffer such a depraved pair of ears any longer, and caused them to become the ears of a donkey.\n",
      "======================\n",
      "After they each performed, both were deemed equal until Apollo decreed they play and sing at the same time. Marsyas argued against this, saying that Apollo would have an advantage. But Apollo presented the counterpoint that since Marsyas played the flute, which needed air blown from the throat, it was same as singing. The judges agreed with Apollo. Apollo played his lyre and sang at the same time, mesmerising the audience. Marsyas could not do this, as he only knew how to use the flute and not singing. Apollo was declared the winner because of this.\n",
      "======================\n",
      "After they each performed, both were deemed equal until Apollo decreed they play and sing at the same time. Marsyas argued against this, saying that Apollo would have an advantage. But Apollo presented the counterpoint that since Marsyas played the flute, which needed air blown from the throat, it was same as singing. The judges agreed with Apollo. Apollo played his lyre and sang at the same time, mesmerising the audience. Marsyas could not do this, as he only knew how to use the flute and not singing. Apollo was declared the winner because of this.\n",
      "======================\n",
      "Rhoeo, a princess of the island of Naxos was loved by Apollo. Out of affection for her, Apollo turned her sisters into goddesses. On the island Delos she bore Apollo a son named Anius. Not wanting to have the child, she entrusted the infant to Apollo and left. Apollo raised and educated the child on his own.\n",
      "======================\n",
      "Ourea, a daughter of Poseidon, fell in love with Apollo when he and Poseidon were serving the Trojan king Laomedon. They both united on the day the walls of Troy were built. She bore to Apollo a son, whom Apollo named Ileus, after the city of his birth, Ilion (Troy). Ileus was very dear to Apollo.\n",
      "======================\n",
      "Ourea, a daughter of Poseidon, fell in love with Apollo when he and Poseidon were serving the Trojan king Laomedon. They both united on the day the walls of Troy were built. She bore to Apollo a son, whom Apollo named Ileus, after the city of his birth, Ilion (Troy). Ileus was very dear to Apollo.\n",
      "======================\n",
      "Branchus, a shepherd, one day came across Apollo in the woods. Captivated by the god's beauty, he kissed Apollo. Apollo requited his affections and wanting to reward him, bestowed prophetic skills on him. His descendants, the Branchides, were an influential clan of prophets.\n",
      "======================\n",
      "Other male lovers of Apollo include:\n",
      "======================\n",
      "Asclepius is the most famous son of Apollo. Apollo brought the child into the world by performing cesarean. His skills as a physician surpassed that of Apollo's. Zeus killed him for bringing back the dead, but later upon Apollo's request, he was resurrected as a god.\n",
      "======================\n",
      "Asclepius is the most famous son of Apollo. Apollo brought the child into the world by performing cesarean. His skills as a physician surpassed that of Apollo's. Zeus killed him for bringing back the dead, but later upon Apollo's request, he was resurrected as a god.\n",
      "======================\n",
      "Apis, Idmon, Iamus, Tenerus, Mopsus and others were gifted seers. Anius, Pythaeus and Ismenus lived as high priests. Most of them were trained by Apollo himself.\n",
      "======================\n",
      "Castalia was a nymph whom Apollo loved. She fled from him and dove into the spring at Delphi, at the base of Mt. Parnassos, which was then named after her. Water from this spring was sacred; it was used to clean the Delphian temples and inspire the priestesses.\n",
      "======================\n",
      "Cassandra, was a daughter of Hecuba and Priam. Apollo wished to court her. Cassandra promised to return his love on one condition - he should give her the power to see the future. Apollo fulfilled her wish, but she went back on her word and rejected him soon after. Angered that she broke her promise, Apollo cursed her that even though she would see the future, no one would ever believe her prophecies.\n",
      "======================\n",
      "Apollo and the Furies argue about whether the matricide was justified; Apollo holds that the bond of marriage is sacred and Orestes was avenging his father, whereas the Erinyes say that the bond of blood between mother and son is more meaningful than the bond of marriage. They invade his temple, and he drives them away. He says that the matter should be brought before Athena. Apollo promises to protect Orestes, as Orestes has become Apollo's supplicant. Apollo advocates Orestes at the trial, and ultimately Athena rules in favor of Apollo.\n",
      "======================\n",
      "Apollo and the Furies argue about whether the matricide was justified; Apollo holds that the bond of marriage is sacred and Orestes was avenging his father, whereas the Erinyes say that the bond of blood between mother and son is more meaningful than the bond of marriage. They invade his temple, and he drives them away. He says that the matter should be brought before Athena. Apollo promises to protect Orestes, as Orestes has become Apollo's supplicant. Apollo advocates Orestes at the trial, and ultimately Athena rules in favor of Apollo.\n",
      "======================\n",
      "The Roman worship of Apollo was adopted from the Greeks. As a quintessentially Greek god, Apollo had no direct Roman equivalent, although later Roman poets often referred to him as Phoebus. There was a tradition that the Delphic oracle was consulted as early as the period of the kings of Rome during the reign of Tarquinius Superbus.\n",
      "======================\n",
      "Apollo's most common attributes were the bow and arrow. Other attributes of his included the kithara (an advanced version of the common lyre), the plectrum and the sword. Another common emblem was the sacrificial tripod, representing his prophetic powers. The Pythian Games were held in Apollo's honor every four years at Delphi. The bay laurel plant was used in expiatory sacrifices and in making the crown of victory at these games.\n",
      "======================\n",
      "Apollo is often associated with the Golden Mean. This is the Greek ideal of moderation and a virtue that opposes gluttony.\n",
      "======================\n",
      "Kouros (\"male youth\") is the modern term given to those representations of standing male youths which first appear in the archaic period in Greece. This type served certain religious needs and was first proposed for what was previously thought to be depictions of \"Apollo\". The first statues are certainly still and formal. The formality of their stance seems to be related with the Egyptian precedent, but it was accepted for a good reason. The sculptors had a clear idea of what a young man is, and embodied the archaic smile of good manners, the firm and springy step, the balance of the body, dignity, and youthful happiness. When they tried to depict the most abiding qualities of men, it was because men had common roots with the unchanging gods. The adoption of a standard recognizable type for a long time, is probably because nature gives preference in survival of a type which has long be adopted by the climatic conditions, and also due to the general Greek belief that nature expresses itself in \"ideal forms\" that can be imagined and represented. These forms expressed immortality. Apollo was the immortal god of \"ideal balance and order\". His shrine in Delphi, that he shared in winter with Dionysius had the inscriptions: (gnōthi seautón=\"know thyself\") and (\"mēdén ágan\", \"nothing in excess\"), and (eggýa pára d'atē, \"make a pledge and mischief is nigh\").\n",
      "In the first large-scale depictions during the early archaic period (640–580 BC), the artists tried to draw one's attention to look into the interior of the face and the body which were not represented as lifeless masses, but as being full of life. The Greeks maintained, until late in their civilization, an almost animistic idea that the statues are in some sense alive. This embodies the belief that the image was somehow the god or man himself. A fine example is the statue of the \"Sacred Gate Kouros\" which was found at the cemetery of Dipylon in Athens (Dipylon Kouros). The statue is the \"thing in itself\", and his slender face with the deep eyes express an intellectual eternity. According to the Greek tradition the Dipylon master was named Daedalus, and in his statues the limbs were freed from the body, giving the impression that the statues could move. It is considered that he created also the \"New York kouros\", which is the oldest fully preserved statue of \"Kouros\" type, and seems to be the incarnation of the god himself.\n",
      "The animistic idea as the representation of the imaginative reality, is sanctified in the Homeric poems and in Greek myths, in stories of the god Hephaestus (Phaistos) and the mythic Daedalus (the builder of the labyrinth) that made images which moved of their own accord. This kind of art goes back to the Minoan period, when its main theme was the representation of motion in a specific moment. These free-standing statues were usually marble, but also the form rendered in limestone, bronze, ivory and terracotta.\n",
      "======================\n",
      "Apollo as a handsome beardless young man, is often depicted with a kithara (as Apollo Citharoedus) or bow in his hand, or reclining on a tree (the Apollo Lykeios and Apollo Sauroctonos types). The Apollo Belvedere is a marble sculpture that was rediscovered in the late 15th century; for centuries it epitomized the ideals of Classical Antiquity for Europeans, from the Renaissance through the 19th century. The marble is a Hellenistic or Roman copy of a bronze original by the Greek sculptor Leochares, made between 350 and 325 BCE.\n",
      "======================\n",
      "Agassi was the first male player to win all four Grand Slam tournaments on three different surfaces (hard, clay and grass), and the last American male to win both the French Open (in 1999) and the Australian Open (in 2003). He also won 17 ATP Masters Series titles and was part of the winning Davis Cup teams in 1990, 1992 and 1995. Agassi reached the world No. 1 ranking for the first time in 1995 but was troubled by personal issues during the mid-to-late 1990s and sank to No. 141 in 1997, prompting many to believe that his career was over. Agassi returned to No. 1 in 1999 and enjoyed the most successful run of his career over the next four years. During his 20-plus year tour career, Agassi was known by the nickname \"The Punisher\".\n",
      "======================\n",
      "Agassi was the first male player to win all four Grand Slam tournaments on three different surfaces (hard, clay and grass), and the last American male to win both the French Open (in 1999) and the Australian Open (in 2003). He also won 17 ATP Masters Series titles and was part of the winning Davis Cup teams in 1990, 1992 and 1995. Agassi reached the world No. 1 ranking for the first time in 1995 but was troubled by personal issues during the mid-to-late 1990s and sank to No. 141 in 1997, prompting many to believe that his career was over. Agassi returned to No. 1 in 1999 and enjoyed the most successful run of his career over the next four years. During his 20-plus year tour career, Agassi was known by the nickname \"The Punisher\".\n",
      "======================\n",
      "Agassi turned professional at the age of 16 and competed in his first tournament at La Quinta, California. He won his first match against John Austin, but then lost his second match to Mats Wilander. By the end of 1986, Agassi was ranked No. 91. He won his first top-level singles title in 1987 at the Sul American Open in Itaparica and ended the year ranked No. 25. He won six additional tournaments in 1988 (Memphis, U.S. Men's Clay Court Championships, Forest Hills WCT, Stuttgart Outdoor, Volvo International and Livingston Open), and, by December of that year, he had surpassed US$1 million in career prize money after playing in just 43 tournaments—the fastest anyone in history had reached that level. During 1988, he also set the open-era record for most consecutive victories by a male teenager (a record that stood for 17 years until Rafael Nadal broke it in 2005). His year-end ranking was No. 3, behind second-ranked Ivan Lendl and top-ranked Mats Wilander. Both the Association of Tennis Professionals and \"Tennis\" magazine named Agassi the Most Improved Player of the Year for 1988.\n",
      "======================\n",
      "In 1995, Agassi shaved his balding head, breaking with his old \"image is everything\" style. He competed in the 1995 Australian Open (his first appearance at the event) and won, beating Sampras in a four-set final. Agassi and Sampras met in five tournament finals in 1995, all on hardcourt, with Agassi winning three. Agassi won three Masters Series events in 1995 (Cincinnati, Key Biscayne, and the Canadian Open) and seven titles total. He compiled a career-best 26-match winning streak during the summer hard-court circuit, with the last victory being in an intense late night four-set semifinal of the US Open against Boris Becker. The streak ended the next day when Agassi lost the final to Sampras.\n",
      "======================\n",
      "Agassi reached the world No. 1 ranking for the first time in April 1995. He held that ranking until November, for a total of 30 weeks. Agassi skipped most of the fall indoor season which allowed Sampras to surpass him and finish ranked No. 1 at the year-end ranking. In terms of win/loss record, 1995 was Agassi's best year. He won 73 and lost 9 matches, and was also once again a key player on the United States' Davis Cup winning team—the third and final Davis Cup title of his career.\n",
      "======================\n",
      "1997 was the low point of Agassi's career. His wrist injury resurfaced, and he played only 24 matches during the year. He later confessed that he started using crystal methamphetamine at that time, allegedly on the urging of a friend. He failed an ATP drug test, but wrote a letter claiming the same friend had spiked a drink. The ATP dropped the failed drug test as a warning. In his autobiography, Agassi admitted that the letter was a lie. He quit the drug soon after. At this time Agassi was also in a failing marriage with actress Brooke Shields and had lost interest in the game. He won no top-level titles, and his ranking sank to No. 141 on November 10, 1997, prompting many to believe that his run as one of the sport's premier competitors was over and he would never again win any significant championships.\n",
      "======================\n",
      "In 1998, Agassi won five titles and leapt from No. 110 to No. 6, the highest jump into the top 10 made by any player during a calendar year. At Wimbledon, he had an early loss in the second round to Tommy Haas. He won five titles in ten finals and was runner-up at the Masters Series tournament in Key Biscayne, losing to Marcelo Ríos, who became No. 1 as a result. At the year end he was awarded the ATP Most Improved Player of the Year for the second time in his career (the first being 10 years earlier in 1988).\n",
      "======================\n",
      "Agassi followed his 1999 French Open victory by reaching the Wimbledon final, where he lost to Sampras in straight sets. He rebounded from his Wimbledon defeat by winning the US Open, beating Todd Martin in five sets (rallying from a two sets to one deficit) in the final. Overall during the year Agassi won 5 titles including two majors and the ATP Masters Series in Paris, where he beat Marat Safin. Agassi ended 1999 as the No. 1, ending Sampras's record of six consecutive year-ending top rankings (1993–98). This was the only time Agassi ended the year at No. 1.\n",
      "======================\n",
      "Agassi followed his 1999 French Open victory by reaching the Wimbledon final, where he lost to Sampras in straight sets. He rebounded from his Wimbledon defeat by winning the US Open, beating Todd Martin in five sets (rallying from a two sets to one deficit) in the final. Overall during the year Agassi won 5 titles including two majors and the ATP Masters Series in Paris, where he beat Marat Safin. Agassi ended 1999 as the No. 1, ending Sampras's record of six consecutive year-ending top rankings (1993–98). This was the only time Agassi ended the year at No. 1.\n",
      "======================\n",
      "On April 28, 2003, he recaptured the No. 1 ranking after winning the U.S. Men's Clay Court Championship and regained it after a quarterfinal victory over Xavier Malisse at the Queen's Club Championships to become the oldest top-ranked male player since the ATP rankings began at 33 years and 13 days. The record was later surpassed by Roger Federer in 2018. He had held the No. 1 ranking for two weeks, when Lleyton Hewitt took it back on May 12, 2003. Agassi then recaptured the No. 1 ranking once again on June 16, 2003, which he held for 12 weeks until September 7, 2003. During his career, Agassi held the No. 1 ranking for a total of 101 weeks. Agassi's ranking slipped when injuries forced him to withdraw from many events. He did manage to reach the US Open semifinals, where he lost to Juan Carlos Ferrero and surrendered his No. 1 ranking to Ferrero. At the year-end Tennis Masters Cup, Agassi lost in the final to Federer and finished the year ranked No. 4. At age 33, he was the oldest player to rank in the top 5 since Connors, at age 35, was No. 4 in 1987.\n",
      "======================\n",
      "On April 28, 2003, he recaptured the No. 1 ranking after winning the U.S. Men's Clay Court Championship and regained it after a quarterfinal victory over Xavier Malisse at the Queen's Club Championships to become the oldest top-ranked male player since the ATP rankings began at 33 years and 13 days. The record was later surpassed by Roger Federer in 2018. He had held the No. 1 ranking for two weeks, when Lleyton Hewitt took it back on May 12, 2003. Agassi then recaptured the No. 1 ranking once again on June 16, 2003, which he held for 12 weeks until September 7, 2003. During his career, Agassi held the No. 1 ranking for a total of 101 weeks. Agassi's ranking slipped when injuries forced him to withdraw from many events. He did manage to reach the US Open semifinals, where he lost to Juan Carlos Ferrero and surrendered his No. 1 ranking to Ferrero. At the year-end Tennis Masters Cup, Agassi lost in the final to Federer and finished the year ranked No. 4. At age 33, he was the oldest player to rank in the top 5 since Connors, at age 35, was No. 4 in 1987.\n",
      "======================\n",
      "Agassi's 2005 was defined by an improbable run to the US Open final. After beating Răzvan Sabău and Ivo Karlović in straight sets and Tomáš Berdych in four sets, Agassi won three consecutive five-set matches to advance to the final. The most notable of these matches was his quarterfinal victory over James Blake, where he rallied from two sets down to win in the fifth set tie-breaker. His other five-set victims were Xavier Malisse in the fourth round and Robby Ginepri in the semifinals. In the final, Agassi faced Federer, who was seeking his second consecutive US Open title and his sixth Grand Slam title in two years. Federer defeated Agassi in four sets. Agassi finished 2005 ranked No. 7, his 16th time in the year-end top-10 rankings, which tied Connors for the most times ranked in the top 10 at year's end.\n",
      "======================\n",
      "Agassi's 2005 was defined by an improbable run to the US Open final. After beating Răzvan Sabău and Ivo Karlović in straight sets and Tomáš Berdych in four sets, Agassi won three consecutive five-set matches to advance to the final. The most notable of these matches was his quarterfinal victory over James Blake, where he rallied from two sets down to win in the fifth set tie-breaker. His other five-set victims were Xavier Malisse in the fourth round and Robby Ginepri in the semifinals. In the final, Agassi faced Federer, who was seeking his second consecutive US Open title and his sixth Grand Slam title in two years. Federer defeated Agassi in four sets. Agassi finished 2005 ranked No. 7, his 16th time in the year-end top-10 rankings, which tied Connors for the most times ranked in the top 10 at year's end.\n",
      "======================\n",
      "Agassi had a poor start to 2006. He was still recovering from an ankle injury and also suffering from back and leg pain and lack of match play. Agassi withdrew from the Australian Open because of the ankle injury, and his back injury and other pains forced him to withdraw from several other events, eventually skipping the entire clay-court season including the French Open. This caused his ranking to drop out of the top 10 for the last time. Agassi returned for the grass-court season, playing a tune-up, and then Wimbledon. He was defeated in the third round by world No. 2 (and eventual runner-up) Rafael Nadal. Against conventions, Agassi, the losing player, was interviewed on court after the match. At Wimbledon, Agassi announced his plans to retire following the US Open. Agassi played only two events during the summer hard-court season with his best result being a quarterfinal loss at the Countrywide Classic in Los Angeles to Fernando González of Chile, which resulted in him being unseeded at the US Open.\n",
      "======================\n",
      "Agassi had a short, but dramatic, run in his final US Open. Because of extreme back pain, Agassi was forced to receive anti-inflammatory injections after every match. After a tough four-set win against Andrei Pavel, Agassi faced eighth-seeded Marcos Baghdatis in the second round who had earlier advanced to the 2006 Australian Open final and Wimbledon semifinals. Agassi won in five tough sets as the younger Baghdatis succumbed to muscle cramping in the final set. In his last match, Agassi fell to 112th-ranked big-serving Benjamin Becker of Germany in four sets. Agassi received a four-minute standing ovation from the crowd after the match and delivered a retirement speech.\n",
      "======================\n",
      "The 1990 US Open was their first meeting in a Grand Slam tournament final. Agassi was favored as he was ranked No. 4 at the time, compared to the No. 12 ranking of Sampras and because Agassi had defeated Sampras in their only previously completed match. Agassi however lost the final to Sampras in straight sets. Their next meeting in a Grand Slam was at the 1992 French Open, where they met in the quarterfinals. Although Sampras was ranked higher, Agassi came out winning in straight sets. They met again on a Grand Slam level at the quarterfinals of Wimbledon in 1993, where Agassi was the defending champion and Sampras was the newly minted world No. 1. Agassi dug out from a two-nothing hole, levelling the match at 2 sets apiece, however Sampras prevailed in five sets, and went on to win his first Wimbledon championship.\n",
      "======================\n",
      "With both Sampras and Agassi participating, the U.S. won the Davis Cup in 1995. The year should be considered the peak of the rivalry as together they won 3 out of 4 major titles, meeting each other twice in the finals, and were occupying top two spots in the rankings for the whole year. They met 5 times during the year, all in the title matches, including the Australian Open, the Newsweek Champions Cup (now Indian Wells), the Lipton International Players Championships (now Miami Open), the Canadian Open, and the US Open. Agassi won three of the finals, including the Australian Open, however Sampras took the US Open title, ending Agassi's 26-match winning streak. After Agassi had taken most of the fall season off, Sampras took over the No. 1 ranking for the end of the season.\n",
      "======================\n",
      "In 2000's they met three more times on the Grand Slam level offering three memorable contests. In 2000, the top-ranked Agassi defeated No. 3 Sampras in the semifinals of the Australian Open in five sets, which was an important win for Agassi who lost 4 of the previous 5 matches against Sampras. In arguably their most memorable match ever, Sampras defeated Agassi in the 2001 US Open quarterfinals in four sets. There were no breaks of serve during the entire match. Reruns of the match are frequently featured on television, especially during US Open rain delays, and the match is considered one of the best in history because of the level of play presented by both players.\n",
      "======================\n",
      "Boris Becker and Agassi played 14 times with Agassi leading 10–4. Becker dominated the rivalry early on, winning their first three matches in 1988 and 1989 before Agassi turned the rivalry in 1990, and won 10 of their last 11 matches. They first played at Indian Wells in 1988, with Becker prevailing. Their most notable match was the 1989 Davis Cup semifinal match, which Becker won in five sets after losing the first two in tiebreaks. Agassi, considered a baseliner with a playing style not suiting grass, shocked Becker, a three-time champion, in a five set quarterfinal at Wimbledon in 1992 on his way to his first Grand Slam title. The intensity of the rivalry peaked in 1995. Becker won that year's Wimbledon semifinal after being down a set and two breaks, to eventually win in four sets. In a highly anticipated rematch in the US Open semifinal, this time it was Agassi who came out victorious in four tight sets. Their final match was played at Hong Kong in 1999, which Agassi won in three sets.\n",
      "======================\n",
      "Agassi and Roger Federer played 11 times, and Federer led their head-to-head series 8–3. With the retirement of Sampras, the rivalry against 11 years younger Federer, who was another great server like Sampras, became Agassi's main rivalry for the final years of his career. Agassi won their first three matches, but then went on to lose eight consecutive ones. They first met in just the third tournament of Federer's career at the 1998 Swiss Indoors in Federer's hometown, with Agassi prevailing over the 17-year-old. Agassi also defeated Federer at the 2001 US Open and the finals of the Miami Open in 2002. Federer began to turn the tide at the Masters Cup in 2003, when he defeated Agassi in both the round robin and the final. They played a memorable quarterfinal match at the 2004 US Open that spanned over two windy days, with Federer eventually prevailing in five sets. At the 2005 Dubai Championships, Federer and Agassi attracted worldwide headlines with a publicity stunt that saw the two tennis legends play on a helipad almost 220 meters above sea level at the hotel Burj al-Arab. Their final duel took place in the final of the 2005 US Open. In the historic clash of generations, Federer was victorious in four sets in front of a pro-Agassi crowd. The match marked as last appearance by Agassi in any tournament final.\n",
      "======================\n",
      "In 2012, Agassi took part in five tournaments, winning three of those. In November, at first he won BILT Champions Showdown in San Jose, beating John McEnroe in the final. The following day, he defended his title of the CTCA Championships, while defeating Courier in the decisive match. In the series season finale, he beat Michael Chang for the Acura Champions Cup. The series and Agassi came back to action in 2014. Agassi won both tournaments he participated in. At the Camden Wealth Advisors Cup's final in Houston, Agassi beat James Blake for a rematch of their 2005 US Open quarterfinal. He defeated Blake again in Portland to win the title of the Cancer Treatment Centers of America Championships. In 2015, Agassi took part in just one event of the PowerShares Series, losing to Mark Philippoussis in the final of the Champions Shootout. The following year he took part in two events, at first losing to Blake in Chicago, and the next day defeating Mardy Fish, but losing to Roddick in Charleston.\n",
      "======================\n",
      "Agassi and Graf formed a company called Agassi Graf Holdings. They invested in PURE, a nightclub at Caesars Palace, which opened in 2004, and sold it to Angel Management Group in 2010. In August 2006, Agassi and Graf developed a joint venture with high-end furniture maker Kreiss Enterprises. They launched a furniture line called Agassi Graf Collection. In September, Agassi and Graf, through their company Agassi Graf Development LLC, along with Bayview Financial LP, finalized an agreement to develop a condominium hotel, Fairmont Tamarack, at Tamarack Resort in Donnelly, Idaho. Due to difficult market conditions and delays, they withdrew from the project in 2009. The group still owns three small chunks of land. In September, they collaborated with Steve Case's Exclusive Resorts to co-develop luxury resorts and design Agassi-Graf Tennis and Fitness Centers.\n",
      "======================\n",
      "This is identical to earlier reconstructions except for . is better preserved in the Katuic languages, which Sidwell has specialized in. Sidwell (2011) suggests that the likely homeland of Austroasiatic is the middle Mekong, in the area of the Bahnaric and Katuic languages (approximately where modern Laos, Thailand, and Cambodia come together), and that the family is not as old as frequently assumed, dating to perhaps 2000 BCE. Peiros (2011) criticized Sidwell's theory heavily and calls it a bunch of contradictions. He show with his analysis that the homeland of Austroasiatic is somewhere near the Yangtze. He suggests the Sichuan Basin as likely homeland of proto-Austroasiatic before they migrated to other parts of central and southern China and than into Southeast Asia. He further suggests that the family must be as old as proto-Austronesian and proto-Sinotibetan or even older.\n",
      "======================\n",
      "A genetic and linguistic research in 2015 about ancient people in East Asia suggest an origin and homeland of Austroasiatic in today southern China or even further north.\n",
      "======================\n",
      "Sidwell (2015c) tentatively suggests that Austroasiatic may have begun to split up 5,000 years B.P. during the Neolithic transition era of mainland Southeast Asia, with all the major branches of Austroasiatic formed by 4,000 B.P. Austroasiatic would have had two possible dispersal routes from the western periphery of the Pearl River watershed of Lingnan, which would have been either a coastal route down the coast of Vietnam, or downstream through the Mekong River via Yunnan. Both the reconstructed lexicon of Proto-Austroasiatic and the archaeological record clearly show that early Austroasiatic speakers around 4,000 B.P. cultivated rice and millet, kept livestock such as dogs, pigs, and chickens, and thrived mostly in estuarine rather than coastal environments.\n",
      "======================\n",
      "At 4,500 B.P., this \"Neolithic package\" suddenly arrived in Indochina from the Lingnan area without cereal grains and displaced the earlier pre-Neolithic hunter-gatherer cultures, with grain husks found in northern Indochina by 4,100 B.P. and in southern Indochina by 3,800 B.P. However, Sidwell (2015c) found that iron is not reconstructable in Proto-Austroasiatic, since each Austroasiatic branch has different terms for iron that had been borrowed relatively lately from Tai, Chinese, Tibetan, Malay, and other languages.\n",
      "======================\n",
      "According to Zhang et al., Austroasiatic migrations from southeast Asia into India took place after the last Glacial maximum, circa 10,000 years ago. Arunkumar et al. suggest Austroasiatic migrations from southeast Asia occurred into northeast India 5.2 ± 0.6 kya and into East India 4.3 ± 0.2 kya.\n",
      "======================\n",
      "Afroasiatic (Afro-Asiatic), also known as Afrasian and in older sources as Hamito-Semitic (Chamito-Semitic) or Semito-Hamitic, is a large language family of about 300 languages. It includes languages spoken predominantly in West Asia, North Africa, the Horn of Africa and parts of the Sahel.\n",
      "======================\n",
      "The earliest written evidence of an Afroasiatic language is an Ancient Egyptian inscription dated to c. 3400 BC (5,400 years ago). Symbols on Gerzean (Naqada II) pottery resembling Egyptian hieroglyphs date back to c. 4000 BC, suggesting an earlier possible dating. This gives us a minimum date for the age of Afroasiatic. However, Ancient Egyptian is highly divergent from Proto-Afroasiatic (Trombetti 1905: 1–2), and considerable time must have elapsed in between them. Estimates of the date at which the Proto-Afroasiatic language was spoken vary widely. They fall within a range between approximately 7,500 BC (9,500 years ago), and approximately 16,000 BC (18,000 years ago). According to Igor M. Diakonoff (1988: 33n), Proto-Afroasiatic was spoken c. 10,000 BC. Christopher Ehret (2002: 35–36) asserts that Proto-Afroasiatic was spoken c. 11,000 BC at the latest, and possibly as early as c. 16,000 BC. These dates are older than those associated with other proto-languages.\n",
      "======================\n",
      "The earliest written evidence of an Afroasiatic language is an Ancient Egyptian inscription dated to c. 3400 BC (5,400 years ago). Symbols on Gerzean (Naqada II) pottery resembling Egyptian hieroglyphs date back to c. 4000 BC, suggesting an earlier possible dating. This gives us a minimum date for the age of Afroasiatic. However, Ancient Egyptian is highly divergent from Proto-Afroasiatic (Trombetti 1905: 1–2), and considerable time must have elapsed in between them. Estimates of the date at which the Proto-Afroasiatic language was spoken vary widely. They fall within a range between approximately 7,500 BC (9,500 years ago), and approximately 16,000 BC (18,000 years ago). According to Igor M. Diakonoff (1988: 33n), Proto-Afroasiatic was spoken c. 10,000 BC. Christopher Ehret (2002: 35–36) asserts that Proto-Afroasiatic was spoken c. 11,000 BC at the latest, and possibly as early as c. 16,000 BC. These dates are older than those associated with other proto-languages.\n",
      "======================\n",
      "The term Afroasiatic Urheimat (\"Urheimat\" meaning \"original homeland\" in German) refers to the hypothetical place where Proto-Afroasiatic language speakers lived in a single linguistic community, or complex of communities, before this original language dispersed geographically and divided into distinct languages. Afroasiatic languages are today primarily spoken in West Asia, North Africa, the Horn of Africa, and parts of the Sahel. Their distribution seems to have been influenced by the Sahara pump operating over the last 10,000 years.\n",
      "======================\n",
      "There is no agreement when or where the original homeland of this language family existed. The main theories of Urheimat are the Levant, the Eastern Sahara, North Africa and the Horn of Africa.\n",
      "======================\n",
      "Andorra participated in the cultural movement of the Catalan Renaixença. Between 1882 and 1887 the first academic schools were formed where trilingualism coexists with the knowledge of the official language, Catalan. Some romantic authors from both France and Spain reported the awakening of the national consciousness of the country. Jacint Verdaguer lived in Ordino during the 1880s where he wrote and share works related to the Renaixença with Joaquim de Riba, writer and photographer. Fromental Halévy, for his part, had already premiered in 1848 the opera \"Le Val d'Andorre\" of great success in Europe, where the national consciousness of the valleys during the Peninsular War was exposed in the romantic work.\n",
      "======================\n",
      "The Parliament of Andorra is known as the General Council. The General Council consists of between 28 and 42 Councillors. The Councillors serve for four-year terms, and elections are held between the 30th and 40th days following the dissolution of the previous Council.\n",
      "======================\n",
      "Andorra has a small army, which has historically been raised or reconstituted at various dates, but has never in modern times amounted to a standing army. The basic principle of Andorran defence is that all able-bodied men are available to fight if called upon by the sounding of the \"Sometent\". Being a landlocked country, Andorra has no navy.\n",
      "======================\n",
      "Andorra consists of seven parishes:\n",
      "======================\n",
      "\n",
      "Due to its location in the eastern Pyrenees mountain range, Andorra consists predominantly of rugged mountains, the highest being the Coma Pedrosa at , and the average elevation of Andorra is . These are dissected by three narrow valleys in a Y shape that combine into one as the main stream, the Gran Valira river, leaves the country for Spain (at Andorra's lowest point of ). Andorra's land area is .\n",
      "======================\n",
      "Andorra has an alpine climate and continental climate. Its higher elevation means there is, on average, more snow in winter, lower humidity, and it is slightly cooler in summer. The diversity of landmarks, the different orientation of the valleys and the irregularity relief typical of the Mediterranean climates make the country have a great diversity of microclimates that hinder the general dominance of the high mountain climate. The great differences of altitude in the minimum and maximum points, together with the influence of a Mediterranean climate, develop the climate of the Andorran Pyrenees.\n",
      "======================\n",
      "The population of Andorra is estimated at (). The Andorrans are a Romance ethnic group of originally Catalan descent. The population has grown from 5,000 in 1900.\n",
      "======================\n",
      "The population of Andorra is predominantly (88.2%) Catholic. Their patron saint is Our Lady of Meritxell. Though it is not an official state religion, the constitution acknowledges a special relationship with the Catholic Church, offering some special privileges to that group. Other Christian denominations include the Anglican Church, the Unification Church, the New Apostolic Church, and Jehovah's Witnesses. The small Muslim community is primarily made up of North African immigrants. There is a small community of Hindus and Bahá'ís, and roughly 100 Jews live in Andorra. (See History of the Jews in Andorra.)\n",
      "======================\n",
      "The population of Andorra is predominantly (88.2%) Catholic. Their patron saint is Our Lady of Meritxell. Though it is not an official state religion, the constitution acknowledges a special relationship with the Catholic Church, offering some special privileges to that group. Other Christian denominations include the Anglican Church, the Unification Church, the New Apostolic Church, and Jehovah's Witnesses. The small Muslim community is primarily made up of North African immigrants. There is a small community of Hindus and Bahá'ís, and roughly 100 Jews live in Andorra. (See History of the Jews in Andorra.)\n",
      "======================\n",
      "Andorra has a road network of , of which is unpaved. The two main roads out of Andorra la Vella are the CG-1 to the Spanish border, and the CG-2 to the French border via the Envalira Tunnel near El Pas de la Casa. Bus services cover all metropolitan areas and many rural communities, with services on most major routes running half-hourly or more frequently during peak travel times. There are frequent long-distance bus services from Andorra to Barcelona and Toulouse, plus a daily tour from the former city. Bus services are mostly run by private companies, but some local ones are operated by the government.\n",
      "======================\n",
      "Nearby airports located in Spain and France provide access to international flights for the principality. The nearest airports are at Perpignan, France ( from Andorra) and Lleida, Spain ( from Andorra). The largest nearby airports are at Toulouse, France ( from Andorra) and Barcelona, Spain ( from Andorra). There are hourly bus services from both Barcelona and Toulouse airports to Andorra.\n",
      "======================\n",
      "Nearby airports located in Spain and France provide access to international flights for the principality. The nearest airports are at Perpignan, France ( from Andorra) and Lleida, Spain ( from Andorra). The largest nearby airports are at Toulouse, France ( from Andorra) and Barcelona, Spain ( from Andorra). There are hourly bus services from both Barcelona and Toulouse airports to Andorra.\n",
      "======================\n",
      "Andorra is famous for the practice of winter sports. Popular sports played in Andorra include football, rugby union, basketball and roller hockey.\n",
      "======================\n",
      "In roller hockey Andorra usually plays in CERH Euro Cup and in FIRS Roller Hockey World Cup. In 2011, Andorra was the host country to the 2011 European League Final Eight.\n",
      "The country is represented in association football by the Andorra national football team. However, the team has had little success internationally because of Andorra's small population. Football is governed in Andorra by the Andorran Football Federation - founded in 1994, it organizes the national competitions of association football (Primera Divisió, Copa Constitució and Supercopa) and futsal. Andorra was admitted to UEFA and FIFA in the same year, 1996. FC Andorra, a club based in Andorra la Vella founded in 1942, compete in the Spanish football league system.\n",
      "======================\n",
      "In roller hockey Andorra usually plays in CERH Euro Cup and in FIRS Roller Hockey World Cup. In 2011, Andorra was the host country to the 2011 European League Final Eight.\n",
      "The country is represented in association football by the Andorra national football team. However, the team has had little success internationally because of Andorra's small population. Football is governed in Andorra by the Andorran Football Federation - founded in 1994, it organizes the national competitions of association football (Primera Divisió, Copa Constitució and Supercopa) and futsal. Andorra was admitted to UEFA and FIFA in the same year, 1996. FC Andorra, a club based in Andorra la Vella founded in 1942, compete in the Spanish football league system.\n",
      "======================\n",
      "Rugby is a traditional sport in Andorra, mainly influenced by the popularity in southern France. The Andorra national rugby union team, nicknamed \"\"Els Isards\"\", has impressed on the international stage in rugby union and rugby sevens. VPC Andorra XV is a rugby team based in Andorra la Vella actually playing in the French championship.\n",
      "======================\n",
      "Andorra first participated at the Olympic Games in 1976. The country has also appeared in every Winter Olympic Games since 1976. Andorra competes in the Games of the Small States of Europe being twice the host country in 1991 and 2005.\n",
      "======================\n",
      "The arithmetic mean (or mean or average), formula_1 (read formula_2 \"bar\"), is the mean of the formula_3 values formula_4.\n",
      "======================\n",
      "For example, let us consider the monthly salary of 10 employees of a firm: 2500, 2700, 2400, 2300, 2550, 2650, 2750, 2450, 2600, 2400. The arithmetic mean is\n",
      "======================\n",
      "A weighted average, or weighted mean, is an average in which some data points count more heavily than others, in that they are given more weight in the calculation. For example, the arithmetic mean of formula_18 and formula_19 is formula_20, or equivalently formula_21. In contrast, a \"weighted\" mean in which the first number receives, for example, twice as much weight as the second (perhaps because it is assumed to appear twice as often in the general population from which these numbers were sampled) would be calculated as formula_22. Here the weights, which necessarily sum to the value one, are formula_23 and formula_24, the former being twice the latter. Note that the arithmetic mean (sometimes called the \"unweighted average\" or \"equally weighted average\") can be interpreted as a special case of a weighted average in which all the weights are equal to each other (equal to formula_25 in the above example, and equal to formula_26 in a situation with formula_3 numbers being averaged).\n",
      "======================\n",
      "At the end of each season the four division winners in the AFC, in addition to the two remaining teams with the highest regular season records, proceed into their conference's playoffs. The playoffs culminate with the AFC Championship Game, with the winner receiving the Lamar Hunt Trophy. The AFC Champion then plays the NFC Champion in the Super Bowl.\n",
      "======================\n",
      "Both the AFC and the NFC were created after the NFL merged with the American Football League (AFL) in 1970. The AFL began play in 1960 with eight teams, and added two more expansion clubs (the Miami Dolphins in 1966 and the Cincinnati Bengals in 1968) before the merger. In order to equalize the number of teams in each conference, three NFL teams that predated the AFL's launch (the Cleveland Browns, Pittsburgh Steelers, and the then-Baltimore Colts) joined the ten former AFL teams to form the AFC. The two AFL divisions AFL East and AFL West were more or less intact, while the NFL's Century Division, in which the Browns and the Steelers had played since 1967, was moved from the NFL to become the new AFC Central. Upon the completion of the merger of the AFL and NFL in 1970, the newly-minted American Football Conference had already agreed upon their divisional setup along mostly geographical lines for the 1970 season; the National Football Conference, however, could not agree upon their setup, and one was chosen from a fishbowl on January 16, 1970.\n",
      "======================\n",
      "Between 1995 and 2018, the AFC has sent less than half of the 16 AFC teams to the Super Bowl with only 7 of the 16 individual teams making it. New England Patriots (10 times), Denver Broncos (4 times), Pittsburgh Steelers (4 times), Baltimore Ravens (2 times), Indianapolis Colts (2 times), Oakland Raiders (1 time), and Tennessee Titans (1 time). By contrast, the NFC has sent 13 of the 16 NFC teams during that same time frame with only the Detroit Lions, Minnesota Vikings, and Washington Redskins missing out on an appearance in the Super Bowl. 16 of the last 18 AFC champions have started one of just three quarterbacks - Tom Brady, Peyton Manning, and Ben Roethlisberger - in the Super Bowl. The AFC has started 5 quarterbacks in the last 18 superbowls, while the NFC has started 15.\n",
      "======================\n",
      "When Major dies, two young pigs, Snowball and Napoleon, assume command and consider it a duty to prepare for the Rebellion. The animals revolt, driving the drunken, irresponsible farmer Mr. Jones, as well as Mrs. Jones and the other human caretakers and employees, off the farm, renaming it \"Animal Farm\". They adopt the Seven Commandments of Animalism, the most important of which is, \"All animals are equal\". The decree is painted in large letters on one side of the barn.\n",
      "======================\n",
      "Snowball teaches the animals to read and write, while Napoleon educates young puppies on the principles of Animalism. Food is plentiful, and the farm runs smoothly. The pigs elevate themselves to positions of leadership and set aside special food items, ostensibly for their personal health.\n",
      "======================\n",
      "Some time later, several men attack Animal Farm. Jones and his men are making an attempt to recapture the farm, aided by several other farmers who are terrified of similar animal revolts. Snowball and the animals, who are hiding in ambush, defeat the men by launching a surprise attack as soon as they enter the farmyard. Snowball's popularity soars, and this event is proclaimed \"The Battle of the Cowshed\". It is celebrated annually with the firing of a gun, on the anniversary of the Rebellion. Napoleon and Snowball vie for pre-eminence. When Snowball announces his plans to modernize the farm by building a windmill, Napoleon has his dogs chase Snowball away and declares himself leader.\n",
      "======================\n",
      "Napoleon enacts changes to the governance structure of the farm, replacing meetings with a committee of pigs who will run the farm. Through a young pig named Squealer, Napoleon claims credit for the windmill idea. The animals work harder with the promise of easier lives with the windmill. When the animals find the windmill collapsed after a violent storm, Napoleon and Squealer convince the animals that Snowball is trying to sabotage their project.\n",
      "======================\n",
      "However, the truth is that Napoleon had engineered the sale of Boxer to the knacker, allowing Napoleon and his inner circle to acquire money to buy whisky for themselves. (In 1940s England, one way for farms to make money was to sell large animals to a knacker, who would kill the animal and boil its remains into animal glue.)\n",
      "Years pass, the windmill is rebuilt, and another windmill is constructed, which makes the farm a good amount of income. However, the ideals which Snowball discussed, including stalls with electric lighting, heating, and running water are forgotten, with Napoleon advocating that the happiest animals live simple lives. In addition to Boxer, many of the animals who participated in the Rebellion are dead or old. Farmer Jones, having moved away after giving up on reclaiming his farm, has also died.\n",
      "======================\n",
      "Secker and Warburg published the first edition of \"Animal Farm\" in 1945 without an introduction. However, the publisher had provided space for a preface in the author's proof composited from the manuscript. For reasons unknown, no preface was supplied, and the page numbers had to be renumbered at the last minute.\n",
      "======================\n",
      "\"Animal Farm\" has been adapted to film twice. Both differ from the novel and have been accused of taking significant liberties, including sanitising some aspects. \n",
      "======================\n",
      "A video game adaptation of \"Animal Farm\" was announced in August 2017. Fully authorised by the estate of George Orwell, \"Animal Farm\" is created by an independent team formed specifically to deliver Orwell's vision in an interactive format.\n",
      "======================\n"
     ]
    }
   ],
   "source": [
    "for value in dict_qid_context['context_raw']:\n",
    "    print(value)\n",
    "    print(\"======================\")"
   ]
  },
  {
   "cell_type": "code",
   "execution_count": 66,
   "metadata": {
    "ExecuteTime": {
     "end_time": "2019-04-08T05:58:50.819823Z",
     "start_time": "2019-04-08T05:58:50.816752Z"
    }
   },
   "outputs": [],
   "source": [
    "dict_qid_context = {'title':list_title_for_dict,'qid': list_qid_for_dict, 'context_raw':list_context_raw_for_dict}"
   ]
  },
  {
   "cell_type": "code",
   "execution_count": 74,
   "metadata": {
    "ExecuteTime": {
     "end_time": "2019-04-08T06:00:30.422345Z",
     "start_time": "2019-04-08T06:00:30.418234Z"
    }
   },
   "outputs": [],
   "source": [
    "#Populating dataframe from dictionary\n",
    "df_qid_context=pd.DataFrame.from_dict(dict_qid_context)\n",
    "#Working good"
   ]
  },
  {
   "cell_type": "code",
   "execution_count": 375,
   "metadata": {
    "ExecuteTime": {
     "end_time": "2019-04-08T09:56:21.966031Z",
     "start_time": "2019-04-08T09:56:21.956248Z"
    }
   },
   "outputs": [],
   "source": [
    "#Working good\n",
    "df_qid_context['context_raw'].to_csv(out_dir+\"/\"+\"del_context_raw.txt\")"
   ]
  },
  {
   "cell_type": "code",
   "execution_count": 376,
   "metadata": {
    "ExecuteTime": {
     "end_time": "2019-04-08T09:56:48.510918Z",
     "start_time": "2019-04-08T09:56:48.499427Z"
    }
   },
   "outputs": [],
   "source": [
    "#Working good\n",
    "df_qid_context['context'].to_csv(out_dir+\"/\"+\"del_context.txt\")"
   ]
  },
  {
   "cell_type": "code",
   "execution_count": 377,
   "metadata": {
    "ExecuteTime": {
     "end_time": "2019-04-08T09:57:23.491855Z",
     "start_time": "2019-04-08T09:57:23.439091Z"
    }
   },
   "outputs": [],
   "source": [
    "#Working good\n",
    "df_qid_context['context_parsed'].to_csv(out_dir+\"/\"+\"del_context_parsed.txt\")"
   ]
  },
  {
   "cell_type": "code",
   "execution_count": 378,
   "metadata": {
    "ExecuteTime": {
     "end_time": "2019-04-08T09:58:21.364374Z",
     "start_time": "2019-04-08T09:58:21.358006Z"
    }
   },
   "outputs": [],
   "source": [
    "#Working good\n",
    "df_qid_context['context_lemma'].to_csv(out_dir+\"/\"+\"del_context_lemma.txt\")"
   ]
  },
  {
   "cell_type": "code",
   "execution_count": 85,
   "metadata": {
    "ExecuteTime": {
     "end_time": "2019-04-08T06:09:48.775701Z",
     "start_time": "2019-04-08T06:09:48.771357Z"
    }
   },
   "outputs": [],
   "source": [
    "def f_preprocess(in_context_1):\n",
    "    '''Wrapper function for various preprocessing'''\n",
    "    \n",
    "    def f_remove_escape(in_context_2):\n",
    "        '''Replaces \\\\n with \\n'''\n",
    "        return in_context_2.replace('\\\\n', '\\n')\n",
    "    \n",
    "    return(f_remove_escape(in_context_1))"
   ]
  },
  {
   "cell_type": "code",
   "execution_count": 87,
   "metadata": {
    "ExecuteTime": {
     "end_time": "2019-04-08T06:10:07.612456Z",
     "start_time": "2019-04-08T06:10:07.606391Z"
    }
   },
   "outputs": [],
   "source": [
    "df_qid_context['context']=df_qid_context['context_raw'].apply(f_preprocess)"
   ]
  },
  {
   "cell_type": "code",
   "execution_count": 366,
   "metadata": {
    "ExecuteTime": {
     "end_time": "2019-04-08T09:50:43.307046Z",
     "start_time": "2019-04-08T09:50:43.302345Z"
    }
   },
   "outputs": [
    {
     "data": {
      "text/plain": [
       "0    The earliest anarchist themes can be found in ...\n",
       "Name: context, dtype: object"
      ]
     },
     "execution_count": 366,
     "metadata": {},
     "output_type": "execute_result"
    }
   ],
   "source": [
    "df_qid_context['context'].head(1)"
   ]
  },
  {
   "cell_type": "code",
   "execution_count": 95,
   "metadata": {
    "ExecuteTime": {
     "end_time": "2019-04-08T06:21:38.415196Z",
     "start_time": "2019-04-08T06:21:24.877736Z"
    }
   },
   "outputs": [],
   "source": [
    "#Apply Spacy nlp\n",
    "df_qid_context['context_parsed']=df_qid_context['context'].apply(nlp)"
   ]
  },
  {
   "cell_type": "code",
   "execution_count": 97,
   "metadata": {
    "ExecuteTime": {
     "end_time": "2019-04-08T06:40:09.244366Z",
     "start_time": "2019-04-08T06:40:09.239459Z"
    }
   },
   "outputs": [],
   "source": [
    "#Taking first sentence only\n",
    "#TODO: Need to use it\n",
    "df_qid_context['important_sentence']=df_qid_context['context'].apply(lambda x:x.split(\".\")[0])"
   ]
  },
  {
   "cell_type": "code",
   "execution_count": 102,
   "metadata": {
    "ExecuteTime": {
     "end_time": "2019-04-08T06:42:03.729412Z",
     "start_time": "2019-04-08T06:42:03.724435Z"
    }
   },
   "outputs": [
    {
     "data": {
      "text/plain": [
       "['The earliest anarchist themes can be found in the 6th century BC among the works of Taoist philosopher Laozi and in later centuries by Zhuangzi and Bao Jingyan']"
      ]
     },
     "execution_count": 102,
     "metadata": {},
     "output_type": "execute_result"
    }
   ],
   "source": [
    "list(df_qid_context['important_sentence'].head(1))"
   ]
  },
  {
   "cell_type": "code",
   "execution_count": 113,
   "metadata": {
    "ExecuteTime": {
     "end_time": "2019-04-08T06:45:39.648195Z",
     "start_time": "2019-04-08T06:45:39.634858Z"
    }
   },
   "outputs": [],
   "source": [
    "#Named entity recognition\n",
    "df_qid_context['entity_list']=df_qid_context['context_parsed'].apply(lambda x:x.ents)"
   ]
  },
  {
   "cell_type": "code",
   "execution_count": 127,
   "metadata": {
    "ExecuteTime": {
     "end_time": "2019-04-08T07:08:23.566213Z",
     "start_time": "2019-04-08T07:08:23.560647Z"
    },
    "run_control": {
     "marked": false
    }
   },
   "outputs": [
    {
     "data": {
      "text/html": [
       "<style>.container { width:100% !important; }</style>"
      ],
      "text/plain": [
       "<IPython.core.display.HTML object>"
      ]
     },
     "metadata": {},
     "output_type": "display_data"
    }
   ],
   "source": [
    "from IPython.core.display import display, HTML\n",
    "display(HTML(\"<style>.container { width:100% !important; }</style>\"))\n"
   ]
  },
  {
   "cell_type": "code",
   "execution_count": 265,
   "metadata": {
    "ExecuteTime": {
     "end_time": "2019-04-08T08:47:48.646378Z",
     "start_time": "2019-04-08T08:47:48.622756Z"
    },
    "run_control": {
     "marked": false
    }
   },
   "outputs": [],
   "source": [
    "def punct_space(token):\n",
    "    \"\"\"\n",
    "    helper function to eliminate tokens\n",
    "    that are pure punctuation or whitespace\n",
    "    \"\"\"\n",
    "    \n",
    "    return token.is_punct or token.is_space\n",
    "\n",
    "def line_review(filename):\n",
    "    \"\"\"\n",
    "    generator function to read in reviews from the file\n",
    "    and un-escape the original line breaks in the text\n",
    "    \"\"\"\n",
    "    \n",
    "    with codecs.open(filename, encoding='utf_8') as f:\n",
    "        for review in f:\n",
    "            yield review.replace('\\\\n', '\\n')\n",
    "            \n",
    "def lemmatized_sentence_corpus(filename):\n",
    "    \"\"\"\n",
    "    generator function to use spaCy to parse reviews,\n",
    "    lemmatize the text, and yield sentences\n",
    "    \"\"\"\n",
    "    \n",
    "    for parsed_review in nlp.pipe(line_review(filename),\n",
    "                                  batch_size=10000, n_threads=4):\n",
    "        \n",
    "        for sent in parsed_review.sents:\n",
    "            yield u' '.join([token.lemma_ for token in sent\n",
    "                             if not punct_space(token)])\n",
    "\n",
    "def f_lemma(in_context):\n",
    "    '''Lemmatization'''\n",
    "    # in_context.sents is a generator\n",
    "    # next(generator) returns the first sentence only of the context\n",
    "    # TODO: Plugin important sentence instead of first sentence\n",
    "    sent=next(in_context.sents)\n",
    "    return ' '.join([token.lemma_ for token in sent if not punct_space(token)])\n",
    "    #return [token.lemma_ for token in in_context]\n",
    "\n"
   ]
  },
  {
   "cell_type": "code",
   "execution_count": null,
   "metadata": {},
   "outputs": [],
   "source": [
    "df_qid_context['context_lemma']=df_qid_context['context_parsed'].apply(f_lemma)"
   ]
  },
  {
   "cell_type": "code",
   "execution_count": 241,
   "metadata": {
    "ExecuteTime": {
     "end_time": "2019-04-08T08:35:49.086300Z",
     "start_time": "2019-04-08T08:35:48.971324Z"
    }
   },
   "outputs": [],
   "source": [
    "df_qid_context.to_csv(os.path.join(out_dir,'temp_df_qid_context.txt'), sep='~', index=False, header=True\n",
    "                     )"
   ]
  },
  {
   "cell_type": "code",
   "execution_count": 201,
   "metadata": {
    "ExecuteTime": {
     "end_time": "2019-04-08T08:03:54.840272Z",
     "start_time": "2019-04-08T08:03:54.836661Z"
    },
    "run_control": {
     "marked": true
    }
   },
   "outputs": [],
   "source": [
    "df_qid_context.reset_index(drop=True, inplace=True)"
   ]
  },
  {
   "cell_type": "code",
   "execution_count": 243,
   "metadata": {
    "ExecuteTime": {
     "end_time": "2019-04-08T08:37:49.771572Z",
     "start_time": "2019-04-08T08:37:49.763871Z"
    }
   },
   "outputs": [],
   "source": [
    "#Unable to convert to string after executing  LineSentence, so writing to file as per the example below:\n",
    "#https://nbviewer.jupyter.org/github/skipgram/modern-nlp-in-python/blob/master/executable/Modern_NLP_in_Python.ipynb\n",
    "\n",
    "df_qid_context['context_lemma'].to_csv(out_dir+\"/\"+'temp_context_lemma.psv', sep='|', header=False, index=False)"
   ]
  },
  {
   "cell_type": "code",
   "execution_count": 244,
   "metadata": {
    "ExecuteTime": {
     "end_time": "2019-04-08T08:37:51.414014Z",
     "start_time": "2019-04-08T08:37:51.411185Z"
    }
   },
   "outputs": [],
   "source": [
    "unigram_sentences = LineSentence(out_dir+\"/\"+'temp_context_lemma.psv')\n",
    "\n"
   ]
  },
  {
   "cell_type": "code",
   "execution_count": 245,
   "metadata": {
    "ExecuteTime": {
     "end_time": "2019-04-08T08:37:53.690943Z",
     "start_time": "2019-04-08T08:37:53.682677Z"
    }
   },
   "outputs": [
    {
     "data": {
      "text/plain": [
       "367"
      ]
     },
     "execution_count": 245,
     "metadata": {},
     "output_type": "execute_result"
    }
   ],
   "source": [
    "list_unigram_sentence=[]\n",
    "\n",
    "for unigram_sentence in unigram_sentences:\n",
    "    list_unigram_sentence.append(unigram_sentence)\n",
    "len(list_unigram_sentence)  \n"
   ]
  },
  {
   "cell_type": "code",
   "execution_count": 246,
   "metadata": {
    "ExecuteTime": {
     "end_time": "2019-04-08T08:37:56.402698Z",
     "start_time": "2019-04-08T08:37:56.395134Z"
    }
   },
   "outputs": [
    {
     "data": {
      "text/plain": [
       "0    [the, early, anarchist, theme, can, be, find, ...\n",
       "1    [the, early, anarchist, theme, can, be, find, ...\n",
       "2    [the, french, pierre, joseph, proudhon, be, re...\n",
       "3    [anarchist, historian, george, woodcock, repor...\n",
       "4    [the, paris, commune, be, a, government, that,...\n",
       "Name: context_unigram, dtype: object"
      ]
     },
     "execution_count": 246,
     "metadata": {},
     "output_type": "execute_result"
    }
   ],
   "source": [
    "df_qid_context['context_unigram']=list_unigram_sentence\n",
    "\n",
    "df_qid_context['context_unigram'].head()"
   ]
  },
  {
   "cell_type": "code",
   "execution_count": 379,
   "metadata": {
    "ExecuteTime": {
     "end_time": "2019-04-08T10:01:12.272028Z",
     "start_time": "2019-04-08T10:01:12.263988Z"
    }
   },
   "outputs": [],
   "source": [
    "#Working good\n",
    "df_qid_context['context_unigram'].to_csv(out_dir+\"/\"+\"del_context_unigram.txt\")"
   ]
  },
  {
   "cell_type": "code",
   "execution_count": 380,
   "metadata": {
    "ExecuteTime": {
     "end_time": "2019-04-08T10:01:36.659032Z",
     "start_time": "2019-04-08T10:01:36.653042Z"
    }
   },
   "outputs": [],
   "source": [
    "#Working good\n",
    "df_qid_context['context_bigram'].to_csv(out_dir+\"/\"+\"del_context_bigram.txt\")"
   ]
  },
  {
   "cell_type": "code",
   "execution_count": 381,
   "metadata": {
    "ExecuteTime": {
     "end_time": "2019-04-08T10:01:53.801582Z",
     "start_time": "2019-04-08T10:01:53.795708Z"
    }
   },
   "outputs": [],
   "source": [
    "#Working good\n",
    "df_qid_context['context_trigram'].to_csv(out_dir+\"/\"+\"del_context_trigram.txt\")"
   ]
  },
  {
   "cell_type": "code",
   "execution_count": 382,
   "metadata": {
    "ExecuteTime": {
     "end_time": "2019-04-08T10:02:19.164035Z",
     "start_time": "2019-04-08T10:02:19.158380Z"
    }
   },
   "outputs": [],
   "source": [
    "#Working good\n",
    "df_qid_context['context_trigram_nostopwords'].to_csv(out_dir+\"/\"+\"del_context_trigram_nostopwords.txt\")"
   ]
  },
  {
   "cell_type": "code",
   "execution_count": 247,
   "metadata": {
    "ExecuteTime": {
     "end_time": "2019-04-08T08:37:59.595027Z",
     "start_time": "2019-04-08T08:37:59.556608Z"
    }
   },
   "outputs": [
    {
     "name": "stdout",
     "output_type": "stream",
     "text": [
      "<class 'gensim.models.phrases.Phrases'>\n"
     ]
    }
   ],
   "source": [
    "#Converting to bigram\n",
    "bigram_model = Phrases(unigram_sentences)\n",
    "print(type(bigram_model))\n",
    "bigram_model.save(out_dir+\"/\"+'temp_bigram_model.psv')\n",
    "bigram_model = Phrases.load(out_dir+\"/\"+'temp_bigram_model.psv')\n"
   ]
  },
  {
   "cell_type": "code",
   "execution_count": 248,
   "metadata": {
    "ExecuteTime": {
     "end_time": "2019-04-08T08:38:01.675576Z",
     "start_time": "2019-04-08T08:38:01.671584Z"
    }
   },
   "outputs": [
    {
     "data": {
      "text/plain": [
       "gensim.models.phrases.Phrases"
      ]
     },
     "execution_count": 248,
     "metadata": {},
     "output_type": "execute_result"
    }
   ],
   "source": [
    "type(bigram_model)"
   ]
  },
  {
   "cell_type": "code",
   "execution_count": 249,
   "metadata": {
    "ExecuteTime": {
     "end_time": "2019-04-08T08:38:03.697991Z",
     "start_time": "2019-04-08T08:38:03.694961Z"
    }
   },
   "outputs": [],
   "source": [
    "bigram_sentences_filepath = os.path.join(out_dir,\n",
    "                                         'bigram_sentences_all.txt')\n"
   ]
  },
  {
   "cell_type": "code",
   "execution_count": 250,
   "metadata": {
    "ExecuteTime": {
     "end_time": "2019-04-08T08:38:18.917769Z",
     "start_time": "2019-04-08T08:38:18.871550Z"
    }
   },
   "outputs": [
    {
     "name": "stderr",
     "output_type": "stream",
     "text": [
      "/Users/sdatta/anaconda3/lib/python3.7/site-packages/gensim/models/phrases.py:494: UserWarning: For a faster implementation, use the gensim.models.phrases.Phraser class\n",
      "  warnings.warn(\"For a faster implementation, use the gensim.models.phrases.Phraser class\")\n"
     ]
    }
   ],
   "source": [
    "with codecs.open(bigram_sentences_filepath, 'w', encoding='utf_8') as f:\n",
    "    for unigram_sentence in unigram_sentences:\n",
    "        bigram_sentence = u' '.join(bigram_model[unigram_sentence])\n",
    "        f.write(bigram_sentence + '\\n')\n"
   ]
  },
  {
   "cell_type": "code",
   "execution_count": 251,
   "metadata": {
    "ExecuteTime": {
     "end_time": "2019-04-08T08:38:21.563947Z",
     "start_time": "2019-04-08T08:38:21.560634Z"
    }
   },
   "outputs": [],
   "source": [
    "bigram_sentences = LineSentence(bigram_sentences_filepath)\n"
   ]
  },
  {
   "cell_type": "code",
   "execution_count": 223,
   "metadata": {
    "ExecuteTime": {
     "end_time": "2019-04-08T08:22:42.069062Z",
     "start_time": "2019-04-08T08:22:42.061279Z"
    }
   },
   "outputs": [
    {
     "name": "stdout",
     "output_type": "stream",
     "text": [
      "the early anarchist theme can be find in the 6th century bc among the work of taoist philosopher laozi and in later century by zhuangzi and bao jingyan\n",
      "\n",
      "the early anarchist theme can be find in the 6th century bc among the work of taoist philosopher laozi and in later century by zhuangzi and bao jingyan\n",
      "\n",
      "the french pierre joseph proudhon be regard as the first self proclaim anarchist a label -PRON- adopt in -PRON- groundbreak work what be property publish in 1840\n",
      "\n",
      "anarchist historian george woodcock report the annual congress of the international have not take place in 1870 owe to the outbreak of the paris commune and in 1871 the general council call only a special conference in london\n",
      "\n",
      "the paris commune be a government that briefly rule paris from 18 march more formally from 28 march to 28 may 1871\n",
      "\n",
      "in paris the dielo truda group of russian anarchist exile which include nestor makhno conclude that anarchist need to develop new form of organisation in response to the structure of bolshevism\n",
      "\n",
      "in the 1920 and 1930 the rise of fascism in europe transform anarchism 's conflict with the state\n",
      "\n",
      "anarchism seek to reorganise -PRON- after the war and in this context the organisational debate between synthesis anarchism and platformism take importance once again especially in the anarchist_movement of italy and france\n",
      "\n",
      "anarchism seek to reorganise -PRON- after the war and in this context the organisational debate between synthesis anarchism and platformism take importance once again especially in the anarchist_movement of italy and france\n",
      "\n",
      "anarchism seek to reorganise -PRON- after the war and in this context the organisational debate between synthesis anarchism and platformism take importance once again especially in the anarchist_movement of italy and france\n",
      "\n"
     ]
    }
   ],
   "source": [
    "cnt=0\n",
    "for bigram_sentence in bigram_sentences:\n",
    "    if cnt >=10:\n",
    "        break\n",
    "    else:\n",
    "        cnt=cnt+1\n",
    "    print (' '.join(bigram_sentence))\n",
    "    print ()\n"
   ]
  },
  {
   "cell_type": "code",
   "execution_count": 253,
   "metadata": {
    "ExecuteTime": {
     "end_time": "2019-04-08T08:39:32.433440Z",
     "start_time": "2019-04-08T08:39:32.425414Z"
    }
   },
   "outputs": [
    {
     "data": {
      "text/plain": [
       "367"
      ]
     },
     "execution_count": 253,
     "metadata": {},
     "output_type": "execute_result"
    }
   ],
   "source": [
    "list_bigram_sentence=[]\n",
    "for bigram_sentence in bigram_sentences:\n",
    "    list_bigram_sentence.append( ' '.join(bigram_sentence))\n",
    "len(list_bigram_sentence)"
   ]
  },
  {
   "cell_type": "code",
   "execution_count": 254,
   "metadata": {
    "ExecuteTime": {
     "end_time": "2019-04-08T08:39:49.283569Z",
     "start_time": "2019-04-08T08:39:49.279875Z"
    }
   },
   "outputs": [],
   "source": [
    "#Storing bigram sentences in dataframe\n",
    "df_qid_context['context_bigram']=list_bigram_sentence"
   ]
  },
  {
   "cell_type": "code",
   "execution_count": 256,
   "metadata": {
    "ExecuteTime": {
     "end_time": "2019-04-08T08:41:54.492555Z",
     "start_time": "2019-04-08T08:41:54.489859Z"
    }
   },
   "outputs": [],
   "source": [
    "trigram_model_filepath = os.path.join(out_dir,\n",
    "                                      'trigram_model_all.txt')\n"
   ]
  },
  {
   "cell_type": "code",
   "execution_count": 257,
   "metadata": {
    "ExecuteTime": {
     "end_time": "2019-04-08T08:42:30.621322Z",
     "start_time": "2019-04-08T08:42:30.576552Z"
    }
   },
   "outputs": [
    {
     "name": "stdout",
     "output_type": "stream",
     "text": [
      "CPU times: user 3 µs, sys: 0 ns, total: 3 µs\n",
      "Wall time: 8.11 µs\n"
     ]
    },
    {
     "data": {
      "text/plain": [
       "gensim.models.phrases.Phrases"
      ]
     },
     "execution_count": 257,
     "metadata": {},
     "output_type": "execute_result"
    }
   ],
   "source": [
    "%time\n",
    "trigram_model = Phrases(bigram_sentences)\n",
    "trigram_model.save(trigram_model_filepath)\n",
    "# load the finished model from disk\n",
    "trigram_model = Phrases.load(trigram_model_filepath)\n",
    "type(trigram_model)"
   ]
  },
  {
   "cell_type": "code",
   "execution_count": 259,
   "metadata": {
    "ExecuteTime": {
     "end_time": "2019-04-08T08:43:11.845992Z",
     "start_time": "2019-04-08T08:43:11.842557Z"
    }
   },
   "outputs": [],
   "source": [
    "trigram_sentences_filepath = os.path.join(out_dir,\n",
    "                                          'trigram_sentences_all.txt')"
   ]
  },
  {
   "cell_type": "code",
   "execution_count": 260,
   "metadata": {
    "ExecuteTime": {
     "end_time": "2019-04-08T08:43:42.373247Z",
     "start_time": "2019-04-08T08:43:42.325392Z"
    }
   },
   "outputs": [
    {
     "name": "stdout",
     "output_type": "stream",
     "text": [
      "CPU times: user 41.8 ms, sys: 2.33 ms, total: 44.1 ms\n",
      "Wall time: 42.9 ms\n"
     ]
    },
    {
     "name": "stderr",
     "output_type": "stream",
     "text": [
      "/Users/sdatta/anaconda3/lib/python3.7/site-packages/gensim/models/phrases.py:494: UserWarning: For a faster implementation, use the gensim.models.phrases.Phraser class\n",
      "  warnings.warn(\"For a faster implementation, use the gensim.models.phrases.Phraser class\")\n"
     ]
    }
   ],
   "source": [
    "%%time\n",
    "with codecs.open(trigram_sentences_filepath, 'w', encoding='utf_8') as f:\n",
    "    for bigram_sentence in bigram_sentences:\n",
    "        trigram_sentence = ' '.join(trigram_model[bigram_sentence])\n",
    "        f.write(trigram_sentence + '\\n')\n"
   ]
  },
  {
   "cell_type": "code",
   "execution_count": 261,
   "metadata": {
    "ExecuteTime": {
     "end_time": "2019-04-08T08:44:12.191749Z",
     "start_time": "2019-04-08T08:44:12.188389Z"
    }
   },
   "outputs": [],
   "source": [
    "trigram_sentences = LineSentence(trigram_sentences_filepath)\n"
   ]
  },
  {
   "cell_type": "code",
   "execution_count": 263,
   "metadata": {
    "ExecuteTime": {
     "end_time": "2019-04-08T08:44:47.405628Z",
     "start_time": "2019-04-08T08:44:47.399377Z"
    }
   },
   "outputs": [
    {
     "name": "stdout",
     "output_type": "stream",
     "text": [
      "the early anarchist theme can be find in the 6th century bc among the work of taoist philosopher laozi and in later century by zhuangzi and bao jingyan\n",
      "\n",
      "the early anarchist theme can be find in the 6th century bc among the work of taoist philosopher laozi and in later century by zhuangzi and bao jingyan\n",
      "\n",
      "the french pierre joseph proudhon be regard as the first self proclaim anarchist a label -PRON- adopt in -PRON- groundbreak work what be property publish in 1840\n",
      "\n",
      "anarchist historian george woodcock report the annual congress of the international have not take place in 1870 owe to the outbreak of the paris commune and in 1871 the general council call only a special conference in london\n",
      "\n",
      "the paris commune be a government that briefly rule paris from 18 march more formally from 28 march to 28 may 1871\n",
      "\n",
      "in paris the dielo truda group of russian anarchist exile which include nestor makhno conclude that anarchist need to develop new form of organisation in response to the structure of bolshevism\n",
      "\n",
      "in the 1920 and 1930 the rise of fascism in europe transform anarchism 's conflict with the state\n",
      "\n",
      "anarchism seek to reorganise -PRON- after the war and in this context the organisational debate between synthesis anarchism and platformism take importance once again especially in the anarchist_movement of italy and france\n",
      "\n",
      "anarchism seek to reorganise -PRON- after the war and in this context the organisational debate between synthesis anarchism and platformism take importance once again especially in the anarchist_movement of italy and france\n",
      "\n",
      "anarchism seek to reorganise -PRON- after the war and in this context the organisational debate between synthesis anarchism and platformism take importance once again especially in the anarchist_movement of italy and france\n",
      "\n"
     ]
    }
   ],
   "source": [
    "cnt=0\n",
    "for trigram_sentence in trigram_sentences:\n",
    "    if cnt >=10:\n",
    "        break\n",
    "    else:\n",
    "        cnt=cnt+1\n",
    "    print (' '.join(trigram_sentence))\n",
    "    print ()\n"
   ]
  },
  {
   "cell_type": "code",
   "execution_count": null,
   "metadata": {},
   "outputs": [],
   "source": [
    "## First 10 sentences shows no effect of trigram"
   ]
  },
  {
   "cell_type": "code",
   "execution_count": 272,
   "metadata": {
    "ExecuteTime": {
     "end_time": "2019-04-08T09:01:46.047186Z",
     "start_time": "2019-04-08T09:01:46.043138Z"
    }
   },
   "outputs": [
    {
     "name": "stdout",
     "output_type": "stream",
     "text": [
      "Number of stop words: 305\n",
      "First ten stop words: ['wherever', 'take', 'still', 'hundred', 'since', 'nowhere', 'the', 'out', 'thus', 'any']\n"
     ]
    }
   ],
   "source": [
    "spacy_stopwords = spacy.lang.en.stop_words.STOP_WORDS\n",
    "print('Number of stop words: %d' % len(spacy_stopwords))\n",
    "print('First ten stop words: %s' % list(spacy_stopwords)[:10])\n"
   ]
  },
  {
   "cell_type": "code",
   "execution_count": 321,
   "metadata": {
    "ExecuteTime": {
     "end_time": "2019-04-08T09:23:17.334093Z",
     "start_time": "2019-04-08T09:23:17.331559Z"
    }
   },
   "outputs": [],
   "source": [
    "#Specific to SQUAD/Wiki format\n",
    "spacy_stopwords.add('-PRON-')\n",
    "spacy_stopwords.add('\\'s')"
   ]
  },
  {
   "cell_type": "code",
   "execution_count": 322,
   "metadata": {
    "ExecuteTime": {
     "end_time": "2019-04-08T09:23:30.267750Z",
     "start_time": "2019-04-08T09:23:30.264078Z"
    }
   },
   "outputs": [
    {
     "name": "stdout",
     "output_type": "stream",
     "text": [
      "Number of stop words: 307\n"
     ]
    }
   ],
   "source": [
    "print('Number of stop words: %d' % len(spacy_stopwords))\n"
   ]
  },
  {
   "cell_type": "code",
   "execution_count": 323,
   "metadata": {
    "ExecuteTime": {
     "end_time": "2019-04-08T09:23:37.947770Z",
     "start_time": "2019-04-08T09:23:37.938921Z"
    }
   },
   "outputs": [
    {
     "data": {
      "text/plain": [
       "367"
      ]
     },
     "execution_count": 323,
     "metadata": {},
     "output_type": "execute_result"
    }
   ],
   "source": [
    "# Creating trigram sentences and removing stop words\n",
    "list_trigram_sentence=[]\n",
    "for trigram_sentence in trigram_sentences:\n",
    "    trigram_review = [term for term in trigram_sentence\n",
    "                              if term not in spacy_stopwords]\n",
    "    list_trigram_sentence.append(' '.join(trigram_review))\n",
    "len(list_trigram_sentence)"
   ]
  },
  {
   "cell_type": "code",
   "execution_count": 324,
   "metadata": {
    "ExecuteTime": {
     "end_time": "2019-04-08T09:23:40.853479Z",
     "start_time": "2019-04-08T09:23:40.850361Z"
    }
   },
   "outputs": [],
   "source": [
    "df_qid_context['context_trigram_nostopwords']=list_trigram_sentence\n",
    "#'context_trigram_nostopwords' is equivalent to 'trigram_reviews_filepath' in example"
   ]
  },
  {
   "cell_type": "code",
   "execution_count": 325,
   "metadata": {
    "ExecuteTime": {
     "end_time": "2019-04-08T09:23:42.369371Z",
     "start_time": "2019-04-08T09:23:42.363906Z"
    }
   },
   "outputs": [],
   "source": [
    "trigram_reviews_filepath=os.path.join(out_dir,'temp_context_trigram_nostopwords.txt')\n",
    "df_qid_context['context_trigram_nostopwords'].to_csv(trigram_reviews_filepath\n",
    "                                                     ,sep='|'\n",
    "                                                     ,header=False\n",
    "                                                    ,index=False)\n",
    "#TODO: Some lines have more than one column.Investigate"
   ]
  },
  {
   "cell_type": "code",
   "execution_count": 326,
   "metadata": {
    "ExecuteTime": {
     "end_time": "2019-04-08T09:23:44.417414Z",
     "start_time": "2019-04-08T09:23:44.415168Z"
    }
   },
   "outputs": [],
   "source": [
    "trigram_dictionary_filepath = os.path.join(out_dir,\n",
    "                                           'trigram_dict_all.dict')\n"
   ]
  },
  {
   "cell_type": "code",
   "execution_count": 327,
   "metadata": {
    "ExecuteTime": {
     "end_time": "2019-04-08T09:23:46.408636Z",
     "start_time": "2019-04-08T09:23:46.391981Z"
    }
   },
   "outputs": [],
   "source": [
    "trigram_reviews = LineSentence(trigram_reviews_filepath)\n",
    "# learn the dictionary by iterating over all of the reviews\n",
    "trigram_dictionary = Dictionary(trigram_reviews)\n",
    "# filter tokens that are very rare or too common from\n",
    "# the dictionary (filter_extremes) and reassign integer ids (compactify)\n",
    "trigram_dictionary.filter_extremes(no_below=10, no_above=0.4)\n",
    "trigram_dictionary.compactify()\n",
    "\n",
    "trigram_dictionary.save(trigram_dictionary_filepath)\n",
    "\n",
    "# load the finished dictionary from disk\n",
    "trigram_dictionary = Dictionary.load(trigram_dictionary_filepath)\n"
   ]
  },
  {
   "cell_type": "code",
   "execution_count": 287,
   "metadata": {
    "ExecuteTime": {
     "end_time": "2019-04-08T09:14:11.772949Z",
     "start_time": "2019-04-08T09:14:11.769310Z"
    }
   },
   "outputs": [
    {
     "data": {
      "text/plain": [
       "gensim.corpora.dictionary.Dictionary"
      ]
     },
     "execution_count": 287,
     "metadata": {},
     "output_type": "execute_result"
    }
   ],
   "source": [
    "type(trigram_dictionary)"
   ]
  },
  {
   "cell_type": "code",
   "execution_count": 328,
   "metadata": {
    "ExecuteTime": {
     "end_time": "2019-04-08T09:23:50.952486Z",
     "start_time": "2019-04-08T09:23:50.949986Z"
    }
   },
   "outputs": [],
   "source": [
    "trigram_bow_filepath = os.path.join(out_dir,\n",
    "                                    'trigram_bow_corpus_all.mm')"
   ]
  },
  {
   "cell_type": "code",
   "execution_count": 329,
   "metadata": {
    "ExecuteTime": {
     "end_time": "2019-04-08T09:23:52.395812Z",
     "start_time": "2019-04-08T09:23:52.393159Z"
    }
   },
   "outputs": [],
   "source": [
    "def trigram_bow_generator(filepath):\n",
    "    \"\"\"\n",
    "    generator function to read reviews from a file\n",
    "    and yield a bag-of-words representation\n",
    "    \"\"\"\n",
    "    for review in LineSentence(filepath):\n",
    "        yield trigram_dictionary.doc2bow(review)"
   ]
  },
  {
   "cell_type": "code",
   "execution_count": 330,
   "metadata": {
    "ExecuteTime": {
     "end_time": "2019-04-08T09:23:55.311238Z",
     "start_time": "2019-04-08T09:23:55.299880Z"
    }
   },
   "outputs": [
    {
     "name": "stdout",
     "output_type": "stream",
     "text": [
      "CPU times: user 7.44 ms, sys: 2.66 ms, total: 10.1 ms\n",
      "Wall time: 8.27 ms\n"
     ]
    }
   ],
   "source": [
    "%%time\n",
    "\n",
    "# generate bag-of-words representations for\n",
    "# all reviews and save them as a matrix\n",
    "MmCorpus.serialize(trigram_bow_filepath,\n",
    "                   trigram_bow_generator(trigram_reviews_filepath))\n",
    "\n",
    "# load the finished bag-of-words corpus from disk\n",
    "trigram_bow_corpus = MmCorpus(trigram_bow_filepath)\n"
   ]
  },
  {
   "cell_type": "code",
   "execution_count": 331,
   "metadata": {
    "ExecuteTime": {
     "end_time": "2019-04-08T09:23:57.649200Z",
     "start_time": "2019-04-08T09:23:57.644859Z"
    }
   },
   "outputs": [
    {
     "data": {
      "text/plain": [
       "gensim.corpora.mmcorpus.MmCorpus"
      ]
     },
     "execution_count": 331,
     "metadata": {},
     "output_type": "execute_result"
    }
   ],
   "source": [
    "type(trigram_bow_corpus)"
   ]
  },
  {
   "cell_type": "code",
   "execution_count": 332,
   "metadata": {
    "ExecuteTime": {
     "end_time": "2019-04-08T09:23:59.506053Z",
     "start_time": "2019-04-08T09:23:59.503446Z"
    }
   },
   "outputs": [],
   "source": [
    "lda_model_filepath = os.path.join(out_dir, 'lda_model_all')\n"
   ]
  },
  {
   "cell_type": "code",
   "execution_count": 333,
   "metadata": {
    "ExecuteTime": {
     "end_time": "2019-04-08T09:24:01.336307Z",
     "start_time": "2019-04-08T09:24:01.079813Z"
    }
   },
   "outputs": [
    {
     "name": "stdout",
     "output_type": "stream",
     "text": [
      "CPU times: user 136 ms, sys: 42.2 ms, total: 178 ms\n",
      "Wall time: 248 ms\n"
     ]
    }
   ],
   "source": [
    "%%time\n",
    "\n",
    "with warnings.catch_warnings():\n",
    "    warnings.simplefilter('ignore')\n",
    "\n",
    "    # workers => sets the parallelism, and should be\n",
    "    # set to your number of physical cores minus one\n",
    "    lda = LdaMulticore(trigram_bow_corpus,\n",
    "                       num_topics=50,\n",
    "                       id2word=trigram_dictionary,\n",
    "                       workers=3)\n",
    "\n",
    "lda.save(lda_model_filepath)\n",
    "\n",
    "# load the finished LDA model from disk\n",
    "lda = LdaMulticore.load(lda_model_filepath)"
   ]
  },
  {
   "cell_type": "code",
   "execution_count": 334,
   "metadata": {
    "ExecuteTime": {
     "end_time": "2019-04-08T09:24:03.033234Z",
     "start_time": "2019-04-08T09:24:03.029528Z"
    }
   },
   "outputs": [],
   "source": [
    "def explore_topic(topic_number, topn=25):\n",
    "    \"\"\"\n",
    "    accept a user-supplied topic number and\n",
    "    print out a formatted list of the top terms\n",
    "    \"\"\"\n",
    "        \n",
    "    print('{:20} {}'.format('term', 'frequency') + '\\n')\n",
    "\n",
    "    for term, frequency in lda.show_topic(topic_number, topn=25):\n",
    "        print('{:20} {:.3f}'.format(term, round(frequency, 3)))"
   ]
  },
  {
   "cell_type": "code",
   "execution_count": 341,
   "metadata": {
    "ExecuteTime": {
     "end_time": "2019-04-08T09:30:53.125342Z",
     "start_time": "2019-04-08T09:30:53.120133Z"
    }
   },
   "outputs": [
    {
     "name": "stdout",
     "output_type": "stream",
     "text": [
      "term                 frequency\n",
      "\n",
      "work                 0.354\n",
      "andorra              0.179\n",
      "know                 0.179\n",
      "time                 0.179\n",
      "country              0.004\n",
      "anarchism            0.004\n",
      "french               0.004\n",
      "form                 0.004\n",
      "alabama              0.004\n",
      "anarchist            0.004\n",
      "u.s.                 0.004\n",
      "year                 0.004\n",
      "live                 0.004\n",
      "lincoln              0.004\n",
      "aristotle            0.004\n",
      "film                 0.004\n",
      "altruism             0.004\n",
      "human                0.004\n",
      "algeria              0.004\n",
      "anthropology         0.004\n",
      "ascii                0.004\n",
      "apollo               0.004\n",
      "agassi               0.004\n",
      "war                  0.004\n",
      "early                0.004\n"
     ]
    }
   ],
   "source": [
    "explore_topic(topic_number=0)\n"
   ]
  },
  {
   "cell_type": "code",
   "execution_count": 335,
   "metadata": {
    "ExecuteTime": {
     "end_time": "2019-04-08T09:24:07.950045Z",
     "start_time": "2019-04-08T09:24:07.947334Z"
    }
   },
   "outputs": [],
   "source": [
    "LDAvis_data_filepath = os.path.join(out_dir, 'ldavis_prepared')\n"
   ]
  },
  {
   "cell_type": "code",
   "execution_count": 336,
   "metadata": {
    "ExecuteTime": {
     "end_time": "2019-04-08T09:24:11.985731Z",
     "start_time": "2019-04-08T09:24:10.045705Z"
    }
   },
   "outputs": [
    {
     "name": "stderr",
     "output_type": "stream",
     "text": [
      "/Users/sdatta/anaconda3/lib/python3.7/site-packages/pyLDAvis/_prepare.py:257: FutureWarning: Sorting because non-concatenation axis is not aligned. A future version\n",
      "of pandas will change to not sort by default.\n",
      "\n",
      "To accept the future behavior, pass 'sort=False'.\n",
      "\n",
      "To retain the current behavior and silence the warning, pass 'sort=True'.\n",
      "\n",
      "  return pd.concat([default_term_info] + list(topic_dfs))\n"
     ]
    },
    {
     "name": "stdout",
     "output_type": "stream",
     "text": [
      "CPU times: user 1.31 s, sys: 71.8 ms, total: 1.38 s\n",
      "Wall time: 1.93 s\n"
     ]
    }
   ],
   "source": [
    "%%time\n",
    "\n",
    "LDAvis_prepared = pyLDAvis.gensim.prepare(lda, trigram_bow_corpus,\n",
    "                                          trigram_dictionary)\n",
    "with open(LDAvis_data_filepath, 'wb') as f:\n",
    "    pickle.dump(LDAvis_prepared, f)\n",
    "\n",
    "# load the pre-prepared pyLDAvis data from disk\n",
    "with open(LDAvis_data_filepath, 'rb') as f:\n",
    "    LDAvis_prepared = pickle.load(f)\n"
   ]
  },
  {
   "cell_type": "code",
   "execution_count": 337,
   "metadata": {
    "ExecuteTime": {
     "end_time": "2019-04-08T09:24:14.210959Z",
     "start_time": "2019-04-08T09:24:14.197645Z"
    }
   },
   "outputs": [
    {
     "data": {
      "text/html": [
       "\n",
       "<link rel=\"stylesheet\" type=\"text/css\" href=\"https://cdn.rawgit.com/bmabey/pyLDAvis/files/ldavis.v1.0.0.css\">\n",
       "\n",
       "\n",
       "<div id=\"ldavis_el470101129315226242003906537\"></div>\n",
       "<script type=\"text/javascript\">\n",
       "\n",
       "var ldavis_el470101129315226242003906537_data = {\"mdsDat\": {\"x\": [0.06764010729459174, -0.13383655067048217, 0.27633399816934573, -0.27722084767888605, 0.0611503938240835, -0.07596410583584302, 0.15652468603342096, 0.19735176404373186, -0.08967706325185838, 0.21123677193936716, -0.18461055497282522, 0.005369707473731547, -0.19423647959573645, -0.15595289752512187, -0.03303106076221565, -0.03607329983391117, -0.21283703811789317, -0.04616657499372076, 0.1299553373450022, 0.1413702115608313, 0.2237066909553585, -0.06508390497552954, 0.032461927929247465, -0.06186632128346908, -0.21167912801707314, 0.19443896138175065, -0.05516654658611634, 0.005636393596956419, -0.13680876740267991, 0.06813969524820528, 0.07662415605457311, -0.09367945837571727, -0.049606364789015395, 0.029917629177697753, 0.10824934175389538, 0.09545479747500726, 0.1930127473161111, 0.16024015367185288, -0.16735940274763314, -0.14324867844685263, -0.07553700084663391, -0.0713124376824295, 0.04050871192836297, -0.05844755089870223, 0.18840800481788583, 0.01185464539204834, 0.18812255422084098, -0.28296834469784093, -0.030246799690478048, 0.07890779107476381], \"y\": [0.06916533785525371, 0.11973964355763632, 0.025345574662065582, -0.044419623405642955, 0.01691213960171979, -0.1232404183101829, 0.009558438381279264, -0.1155000367776877, -0.07874197200498007, -0.13130759474108183, 0.32891407837486286, -0.1350853638424887, 0.009885020374728617, 0.02262874926774003, 0.1005834320758839, -0.26269899365911054, 0.029367146209085794, -0.07665417204718751, 0.26578618167840645, -0.1736178108723843, -0.06425439865775173, 0.0889354133461783, 0.15611749568957867, -0.18097424852831379, 0.09030944435938955, 0.16396182388211902, -0.08255346222317432, -0.13463208368161533, -0.14610809753570175, -0.11483666611706828, -0.06670580564339304, -0.16205378440883533, -0.07248848394091167, -0.00446452138118425, -0.031906319216347644, 0.18690262411104563, 0.07284086533909427, 0.20032363720083773, 0.13002826949300422, 0.026253950108745643, 0.2042733380803612, 0.09438529972126607, 0.03621784618039462, -0.1326515609650731, -0.05356722497680339, -0.1523128479907475, 0.14889798342183413, -0.03738052263116783, 0.07835972793145142, -0.09753744734512516], \"topics\": [1, 2, 3, 4, 5, 6, 7, 8, 9, 10, 11, 12, 13, 14, 15, 16, 17, 18, 19, 20, 21, 22, 23, 24, 25, 26, 27, 28, 29, 30, 31, 32, 33, 34, 35, 36, 37, 38, 39, 40, 41, 42, 43, 44, 45, 46, 47, 48, 49, 50], \"cluster\": [1, 1, 1, 1, 1, 1, 1, 1, 1, 1, 1, 1, 1, 1, 1, 1, 1, 1, 1, 1, 1, 1, 1, 1, 1, 1, 1, 1, 1, 1, 1, 1, 1, 1, 1, 1, 1, 1, 1, 1, 1, 1, 1, 1, 1, 1, 1, 1, 1, 1], \"Freq\": [4.371749401092529, 4.328307628631592, 4.2043046951293945, 3.929708480834961, 3.6446592807769775, 3.3807284832000732, 3.3204078674316406, 3.2199132442474365, 3.167421817779541, 3.1219561100006104, 3.0827953815460205, 3.069718837738037, 2.86620831489563, 2.7542381286621094, 2.7009012699127197, 2.5918350219726562, 2.5081584453582764, 2.5033695697784424, 2.3064560890197754, 2.1120662689208984, 1.9493722915649414, 1.9388282299041748, 1.8883260488510132, 1.8802275657653809, 1.8731167316436768, 1.813377022743225, 1.5880802869796753, 1.5445606708526611, 1.5146907567977905, 1.4419677257537842, 1.4400203227996826, 1.4400200843811035, 1.3529449701309204, 1.2369694709777832, 1.161887288093567, 1.1562702655792236, 1.1264002323150635, 1.0218605995178223, 1.0218604803085327, 0.9834968447685242, 0.8575837016105652, 0.8575837016105652, 0.8575835227966309, 0.8575825095176697, 0.8277146816253662, 0.7082394361495972, 0.6186337471008301, 0.6186337471008301, 0.6186337471008301, 0.6186337471008301]}, \"tinfo\": {\"Category\": [\"Default\", \"Default\", \"Default\", \"Default\", \"Default\", \"Default\", \"Default\", \"Default\", \"Default\", \"Default\", \"Default\", \"Default\", \"Default\", \"Default\", \"Default\", \"Default\", \"Default\", \"Default\", \"Default\", \"Default\", \"Default\", \"Default\", \"Default\", \"Default\", \"Default\", \"Default\", \"Default\", \"Default\", \"Default\", \"Default\", \"Topic1\", \"Topic1\", \"Topic1\", \"Topic1\", \"Topic1\", \"Topic1\", \"Topic1\", \"Topic1\", \"Topic1\", \"Topic1\", \"Topic1\", \"Topic1\", \"Topic1\", \"Topic1\", \"Topic1\", \"Topic1\", \"Topic1\", \"Topic1\", \"Topic1\", \"Topic1\", \"Topic1\", \"Topic1\", \"Topic1\", \"Topic1\", \"Topic1\", \"Topic1\", \"Topic1\", \"Topic1\", \"Topic1\", \"Topic1\", \"Topic1\", \"Topic1\", \"Topic1\", \"Topic1\", \"Topic2\", \"Topic2\", \"Topic2\", \"Topic2\", \"Topic2\", \"Topic2\", \"Topic2\", \"Topic2\", \"Topic2\", \"Topic2\", \"Topic2\", \"Topic2\", \"Topic2\", \"Topic2\", \"Topic2\", \"Topic2\", \"Topic2\", \"Topic2\", \"Topic2\", \"Topic2\", \"Topic2\", \"Topic2\", \"Topic2\", \"Topic2\", \"Topic2\", \"Topic2\", \"Topic2\", \"Topic2\", \"Topic2\", \"Topic2\", \"Topic2\", \"Topic2\", \"Topic2\", \"Topic2\", \"Topic3\", \"Topic3\", \"Topic3\", \"Topic3\", \"Topic3\", \"Topic3\", \"Topic3\", \"Topic3\", \"Topic3\", \"Topic3\", \"Topic3\", \"Topic3\", \"Topic3\", \"Topic3\", \"Topic3\", \"Topic3\", \"Topic3\", \"Topic3\", \"Topic3\", \"Topic3\", \"Topic3\", \"Topic3\", \"Topic3\", \"Topic3\", \"Topic3\", \"Topic3\", \"Topic3\", \"Topic3\", \"Topic3\", \"Topic3\", \"Topic3\", \"Topic3\", \"Topic3\", \"Topic3\", \"Topic4\", \"Topic4\", \"Topic4\", \"Topic4\", \"Topic4\", \"Topic4\", \"Topic4\", \"Topic4\", \"Topic4\", \"Topic4\", \"Topic4\", \"Topic4\", \"Topic4\", \"Topic4\", \"Topic4\", \"Topic4\", \"Topic4\", \"Topic4\", \"Topic4\", \"Topic4\", \"Topic4\", \"Topic4\", \"Topic4\", \"Topic4\", \"Topic4\", \"Topic4\", \"Topic4\", \"Topic4\", \"Topic4\", \"Topic4\", \"Topic4\", \"Topic4\", \"Topic4\", \"Topic5\", \"Topic5\", \"Topic5\", \"Topic5\", \"Topic5\", \"Topic5\", \"Topic5\", \"Topic5\", \"Topic5\", \"Topic5\", \"Topic5\", \"Topic5\", \"Topic5\", \"Topic5\", \"Topic5\", \"Topic5\", \"Topic5\", \"Topic5\", \"Topic5\", \"Topic5\", \"Topic5\", \"Topic5\", \"Topic5\", \"Topic5\", \"Topic5\", \"Topic5\", \"Topic5\", \"Topic5\", \"Topic5\", \"Topic5\", \"Topic5\", \"Topic5\", \"Topic5\", \"Topic5\", \"Topic6\", \"Topic6\", \"Topic6\", \"Topic6\", \"Topic6\", \"Topic6\", \"Topic6\", \"Topic6\", \"Topic6\", \"Topic6\", \"Topic6\", \"Topic6\", \"Topic6\", \"Topic6\", \"Topic6\", \"Topic6\", \"Topic6\", \"Topic6\", \"Topic6\", \"Topic6\", \"Topic6\", \"Topic6\", \"Topic6\", \"Topic6\", \"Topic6\", \"Topic6\", \"Topic6\", \"Topic6\", \"Topic6\", \"Topic6\", \"Topic6\", \"Topic6\", \"Topic6\", \"Topic6\", \"Topic7\", \"Topic7\", \"Topic7\", \"Topic7\", \"Topic7\", \"Topic7\", \"Topic7\", \"Topic7\", \"Topic7\", \"Topic7\", \"Topic7\", \"Topic7\", \"Topic7\", \"Topic7\", \"Topic7\", \"Topic7\", \"Topic7\", \"Topic7\", \"Topic7\", \"Topic7\", \"Topic7\", \"Topic7\", \"Topic7\", \"Topic7\", \"Topic7\", \"Topic7\", \"Topic7\", \"Topic7\", \"Topic7\", \"Topic7\", \"Topic7\", \"Topic7\", \"Topic7\", \"Topic7\", \"Topic8\", \"Topic8\", \"Topic8\", \"Topic8\", \"Topic8\", \"Topic8\", \"Topic8\", \"Topic8\", \"Topic8\", \"Topic8\", \"Topic8\", \"Topic8\", \"Topic8\", \"Topic8\", \"Topic8\", \"Topic8\", \"Topic8\", \"Topic8\", \"Topic8\", \"Topic8\", \"Topic8\", \"Topic8\", \"Topic8\", \"Topic8\", \"Topic8\", \"Topic8\", \"Topic8\", \"Topic8\", \"Topic8\", \"Topic8\", \"Topic8\", \"Topic8\", \"Topic8\", \"Topic8\", \"Topic9\", \"Topic9\", \"Topic9\", \"Topic9\", \"Topic9\", \"Topic9\", \"Topic9\", \"Topic9\", \"Topic9\", \"Topic9\", \"Topic9\", \"Topic9\", \"Topic9\", \"Topic9\", \"Topic9\", \"Topic9\", \"Topic9\", \"Topic9\", \"Topic9\", \"Topic9\", \"Topic9\", \"Topic9\", \"Topic9\", \"Topic9\", \"Topic9\", \"Topic9\", \"Topic9\", \"Topic9\", \"Topic9\", \"Topic9\", \"Topic9\", \"Topic9\", \"Topic9\", \"Topic9\", \"Topic9\", \"Topic10\", \"Topic10\", \"Topic10\", \"Topic10\", \"Topic10\", \"Topic10\", \"Topic10\", \"Topic10\", \"Topic10\", \"Topic10\", \"Topic10\", \"Topic10\", \"Topic10\", \"Topic10\", \"Topic10\", \"Topic10\", \"Topic10\", \"Topic10\", \"Topic10\", \"Topic10\", \"Topic10\", \"Topic10\", \"Topic10\", \"Topic10\", \"Topic10\", \"Topic10\", \"Topic10\", \"Topic10\", \"Topic10\", \"Topic10\", \"Topic10\", \"Topic10\", \"Topic10\", \"Topic10\", \"Topic11\", \"Topic11\", \"Topic11\", \"Topic11\", \"Topic11\", \"Topic11\", \"Topic11\", \"Topic11\", \"Topic11\", \"Topic11\", \"Topic11\", \"Topic11\", \"Topic11\", \"Topic11\", \"Topic11\", \"Topic11\", \"Topic11\", \"Topic11\", \"Topic11\", \"Topic11\", \"Topic11\", \"Topic11\", \"Topic11\", \"Topic11\", \"Topic11\", \"Topic11\", \"Topic11\", \"Topic11\", \"Topic11\", \"Topic11\", \"Topic11\", \"Topic11\", \"Topic11\", \"Topic12\", \"Topic12\", \"Topic12\", \"Topic12\", \"Topic12\", \"Topic12\", \"Topic12\", \"Topic12\", \"Topic12\", \"Topic12\", \"Topic12\", \"Topic12\", \"Topic12\", \"Topic12\", \"Topic12\", \"Topic12\", \"Topic12\", \"Topic12\", \"Topic12\", \"Topic12\", \"Topic12\", \"Topic12\", \"Topic12\", \"Topic12\", \"Topic12\", \"Topic12\", \"Topic12\", \"Topic12\", \"Topic12\", \"Topic12\", \"Topic12\", \"Topic12\", \"Topic12\", \"Topic13\", \"Topic13\", \"Topic13\", \"Topic13\", \"Topic13\", \"Topic13\", \"Topic13\", \"Topic13\", \"Topic13\", \"Topic13\", \"Topic13\", \"Topic13\", \"Topic13\", \"Topic13\", \"Topic13\", \"Topic13\", \"Topic13\", \"Topic13\", \"Topic13\", \"Topic13\", \"Topic13\", \"Topic13\", \"Topic13\", \"Topic13\", \"Topic13\", \"Topic13\", \"Topic13\", \"Topic13\", \"Topic13\", \"Topic13\", \"Topic13\", \"Topic13\", \"Topic13\", \"Topic13\", \"Topic14\", \"Topic14\", \"Topic14\", \"Topic14\", \"Topic14\", \"Topic14\", \"Topic14\", \"Topic14\", \"Topic14\", \"Topic14\", \"Topic14\", \"Topic14\", \"Topic14\", \"Topic14\", \"Topic14\", \"Topic14\", \"Topic14\", \"Topic14\", \"Topic14\", \"Topic14\", \"Topic14\", \"Topic14\", \"Topic14\", \"Topic14\", \"Topic14\", \"Topic14\", \"Topic14\", \"Topic14\", \"Topic14\", \"Topic14\", \"Topic14\", \"Topic14\", \"Topic14\", \"Topic14\", \"Topic15\", \"Topic15\", \"Topic15\", \"Topic15\", \"Topic15\", \"Topic15\", \"Topic15\", \"Topic15\", \"Topic15\", \"Topic15\", \"Topic15\", \"Topic15\", \"Topic15\", \"Topic15\", \"Topic15\", \"Topic15\", \"Topic15\", \"Topic15\", \"Topic15\", \"Topic15\", \"Topic15\", \"Topic15\", \"Topic15\", \"Topic15\", \"Topic15\", \"Topic15\", \"Topic15\", \"Topic15\", \"Topic15\", \"Topic15\", \"Topic15\", \"Topic15\", \"Topic15\", \"Topic15\", \"Topic16\", \"Topic16\", \"Topic16\", \"Topic16\", \"Topic16\", \"Topic16\", \"Topic16\", \"Topic16\", \"Topic16\", \"Topic16\", \"Topic16\", \"Topic16\", \"Topic16\", \"Topic16\", \"Topic16\", \"Topic16\", \"Topic16\", \"Topic16\", \"Topic16\", \"Topic16\", \"Topic16\", \"Topic16\", \"Topic16\", \"Topic16\", \"Topic16\", \"Topic16\", \"Topic16\", \"Topic16\", \"Topic16\", \"Topic16\", \"Topic16\", \"Topic16\", \"Topic16\", \"Topic17\", \"Topic17\", \"Topic17\", \"Topic17\", \"Topic17\", \"Topic17\", \"Topic17\", \"Topic17\", \"Topic17\", \"Topic17\", \"Topic17\", \"Topic17\", \"Topic17\", \"Topic17\", \"Topic17\", \"Topic17\", \"Topic17\", \"Topic17\", \"Topic17\", \"Topic17\", \"Topic17\", \"Topic17\", \"Topic17\", \"Topic17\", \"Topic17\", \"Topic17\", \"Topic17\", \"Topic17\", \"Topic17\", \"Topic17\", \"Topic17\", \"Topic17\", \"Topic17\", \"Topic18\", \"Topic18\", \"Topic18\", \"Topic18\", \"Topic18\", \"Topic18\", \"Topic18\", \"Topic18\", \"Topic18\", \"Topic18\", \"Topic18\", \"Topic18\", \"Topic18\", \"Topic18\", \"Topic18\", \"Topic18\", \"Topic18\", \"Topic18\", \"Topic18\", \"Topic18\", \"Topic18\", \"Topic18\", \"Topic18\", \"Topic18\", \"Topic18\", \"Topic18\", \"Topic18\", \"Topic18\", \"Topic18\", \"Topic18\", \"Topic18\", \"Topic18\", \"Topic18\", \"Topic18\", \"Topic19\", \"Topic19\", \"Topic19\", \"Topic19\", \"Topic19\", \"Topic19\", \"Topic19\", \"Topic19\", \"Topic19\", \"Topic19\", \"Topic19\", \"Topic19\", \"Topic19\", \"Topic19\", \"Topic19\", \"Topic19\", \"Topic19\", \"Topic19\", \"Topic19\", \"Topic19\", \"Topic19\", \"Topic19\", \"Topic19\", \"Topic19\", \"Topic19\", \"Topic19\", \"Topic19\", \"Topic19\", \"Topic19\", \"Topic19\", \"Topic19\", \"Topic19\", \"Topic19\", \"Topic19\", \"Topic20\", \"Topic20\", \"Topic20\", \"Topic20\", \"Topic20\", \"Topic20\", \"Topic20\", \"Topic20\", \"Topic20\", \"Topic20\", \"Topic20\", \"Topic20\", \"Topic20\", \"Topic20\", \"Topic20\", \"Topic20\", \"Topic20\", \"Topic20\", \"Topic20\", \"Topic20\", \"Topic20\", \"Topic20\", \"Topic20\", \"Topic20\", \"Topic20\", \"Topic20\", \"Topic20\", \"Topic20\", \"Topic20\", \"Topic20\", \"Topic20\", \"Topic20\", \"Topic20\", \"Topic20\", \"Topic21\", \"Topic21\", \"Topic21\", \"Topic21\", \"Topic21\", \"Topic21\", \"Topic21\", \"Topic21\", \"Topic21\", \"Topic21\", \"Topic21\", \"Topic21\", \"Topic21\", \"Topic21\", \"Topic21\", \"Topic21\", \"Topic21\", \"Topic21\", \"Topic21\", \"Topic21\", \"Topic21\", \"Topic21\", \"Topic21\", \"Topic21\", \"Topic21\", \"Topic21\", \"Topic21\", \"Topic21\", \"Topic21\", \"Topic21\", \"Topic21\", \"Topic21\", \"Topic21\", \"Topic21\", \"Topic22\", \"Topic22\", \"Topic22\", \"Topic22\", \"Topic22\", \"Topic22\", \"Topic22\", \"Topic22\", \"Topic22\", \"Topic22\", \"Topic22\", \"Topic22\", \"Topic22\", \"Topic22\", \"Topic22\", \"Topic22\", \"Topic22\", \"Topic22\", \"Topic22\", \"Topic22\", \"Topic22\", \"Topic22\", \"Topic22\", \"Topic22\", \"Topic22\", \"Topic22\", \"Topic22\", \"Topic22\", \"Topic22\", \"Topic22\", \"Topic22\", \"Topic22\", \"Topic22\", \"Topic23\", \"Topic23\", \"Topic23\", \"Topic23\", \"Topic23\", \"Topic23\", \"Topic23\", \"Topic23\", \"Topic23\", \"Topic23\", \"Topic23\", \"Topic23\", \"Topic23\", \"Topic23\", \"Topic23\", \"Topic23\", \"Topic23\", \"Topic23\", \"Topic23\", \"Topic23\", \"Topic23\", \"Topic23\", \"Topic23\", \"Topic23\", \"Topic23\", \"Topic23\", \"Topic23\", \"Topic23\", \"Topic23\", \"Topic23\", \"Topic23\", \"Topic23\", \"Topic23\", \"Topic23\", \"Topic24\", \"Topic24\", \"Topic24\", \"Topic24\", \"Topic24\", \"Topic24\", \"Topic24\", \"Topic24\", \"Topic24\", \"Topic24\", \"Topic24\", \"Topic24\", \"Topic24\", \"Topic24\", \"Topic24\", \"Topic24\", \"Topic24\", \"Topic24\", \"Topic24\", \"Topic24\", \"Topic24\", \"Topic24\", \"Topic24\", \"Topic24\", \"Topic24\", \"Topic24\", \"Topic24\", \"Topic24\", \"Topic24\", \"Topic24\", \"Topic24\", \"Topic24\", \"Topic24\", \"Topic24\", \"Topic25\", \"Topic25\", \"Topic25\", \"Topic25\", \"Topic25\", \"Topic25\", \"Topic25\", \"Topic25\", \"Topic25\", \"Topic25\", \"Topic25\", \"Topic25\", \"Topic25\", \"Topic25\", \"Topic25\", \"Topic25\", \"Topic25\", \"Topic25\", \"Topic25\", \"Topic25\", \"Topic25\", \"Topic25\", \"Topic25\", \"Topic25\", \"Topic25\", \"Topic25\", \"Topic25\", \"Topic25\", \"Topic25\", \"Topic25\", \"Topic25\", \"Topic25\", \"Topic25\", \"Topic26\", \"Topic26\", \"Topic26\", \"Topic26\", \"Topic26\", \"Topic26\", \"Topic26\", \"Topic26\", \"Topic26\", \"Topic26\", \"Topic26\", \"Topic26\", \"Topic26\", \"Topic26\", \"Topic26\", \"Topic26\", \"Topic26\", \"Topic26\", \"Topic26\", \"Topic26\", \"Topic26\", \"Topic26\", \"Topic26\", \"Topic26\", \"Topic26\", \"Topic26\", \"Topic26\", \"Topic26\", \"Topic26\", \"Topic26\", \"Topic26\", \"Topic26\", \"Topic26\", \"Topic26\", \"Topic27\", \"Topic27\", \"Topic27\", \"Topic27\", \"Topic27\", \"Topic27\", \"Topic27\", \"Topic27\", \"Topic27\", \"Topic27\", \"Topic27\", \"Topic27\", \"Topic27\", \"Topic27\", \"Topic27\", \"Topic27\", \"Topic27\", \"Topic27\", \"Topic27\", \"Topic27\", \"Topic27\", \"Topic27\", \"Topic27\", \"Topic27\", \"Topic27\", \"Topic27\", \"Topic27\", \"Topic27\", \"Topic27\", \"Topic27\", \"Topic27\", \"Topic27\", \"Topic27\", \"Topic27\", \"Topic28\", \"Topic28\", \"Topic28\", \"Topic28\", \"Topic28\", \"Topic28\", \"Topic28\", \"Topic28\", \"Topic28\", \"Topic28\", \"Topic28\", \"Topic28\", \"Topic28\", \"Topic28\", \"Topic28\", \"Topic28\", \"Topic28\", \"Topic28\", \"Topic28\", \"Topic28\", \"Topic28\", \"Topic28\", \"Topic28\", \"Topic28\", \"Topic28\", \"Topic28\", \"Topic28\", \"Topic28\", \"Topic28\", \"Topic28\", \"Topic28\", \"Topic28\", \"Topic28\", \"Topic28\", \"Topic29\", \"Topic29\", \"Topic29\", \"Topic29\", \"Topic29\", \"Topic29\", \"Topic29\", \"Topic29\", \"Topic29\", \"Topic29\", \"Topic29\", \"Topic29\", \"Topic29\", \"Topic29\", \"Topic29\", \"Topic29\", \"Topic29\", \"Topic29\", \"Topic29\", \"Topic29\", \"Topic29\", \"Topic29\", \"Topic29\", \"Topic29\", \"Topic29\", \"Topic29\", \"Topic29\", \"Topic29\", \"Topic29\", \"Topic29\", \"Topic29\", \"Topic29\", \"Topic29\", \"Topic29\", \"Topic30\", \"Topic30\", \"Topic30\", \"Topic30\", \"Topic30\", \"Topic30\", \"Topic30\", \"Topic30\", \"Topic30\", \"Topic30\", \"Topic30\", \"Topic30\", \"Topic30\", \"Topic30\", \"Topic30\", \"Topic30\", \"Topic30\", \"Topic30\", \"Topic30\", \"Topic30\", \"Topic30\", \"Topic30\", \"Topic30\", \"Topic30\", \"Topic30\", \"Topic30\", \"Topic30\", \"Topic30\", \"Topic30\", \"Topic30\", \"Topic30\", \"Topic30\", \"Topic30\", \"Topic30\", \"Topic31\", \"Topic31\", \"Topic31\", \"Topic31\", \"Topic31\", \"Topic31\", \"Topic31\", \"Topic31\", \"Topic31\", \"Topic31\", \"Topic31\", \"Topic31\", \"Topic31\", \"Topic31\", \"Topic31\", \"Topic31\", \"Topic31\", \"Topic31\", \"Topic31\", \"Topic31\", \"Topic31\", \"Topic31\", \"Topic31\", \"Topic31\", \"Topic31\", \"Topic31\", \"Topic31\", \"Topic31\", \"Topic31\", \"Topic31\", \"Topic31\", \"Topic31\", \"Topic31\", \"Topic31\", \"Topic32\", \"Topic32\", \"Topic32\", \"Topic32\", \"Topic32\", \"Topic32\", \"Topic32\", \"Topic32\", \"Topic32\", \"Topic32\", \"Topic32\", \"Topic32\", \"Topic32\", \"Topic32\", \"Topic32\", \"Topic32\", \"Topic32\", \"Topic32\", \"Topic32\", \"Topic32\", \"Topic32\", \"Topic32\", \"Topic32\", \"Topic32\", \"Topic32\", \"Topic32\", \"Topic32\", \"Topic32\", \"Topic32\", \"Topic32\", \"Topic32\", \"Topic32\", \"Topic32\", \"Topic32\", \"Topic33\", \"Topic33\", \"Topic33\", \"Topic33\", \"Topic33\", \"Topic33\", \"Topic33\", \"Topic33\", \"Topic33\", \"Topic33\", \"Topic33\", \"Topic33\", \"Topic33\", \"Topic33\", \"Topic33\", \"Topic33\", \"Topic33\", \"Topic33\", \"Topic33\", \"Topic33\", \"Topic33\", \"Topic33\", \"Topic33\", \"Topic33\", \"Topic33\", \"Topic33\", \"Topic33\", \"Topic33\", \"Topic33\", \"Topic33\", \"Topic33\", \"Topic33\", \"Topic33\", \"Topic33\", \"Topic34\", \"Topic34\", \"Topic34\", \"Topic34\", \"Topic34\", \"Topic34\", \"Topic34\", \"Topic34\", \"Topic34\", \"Topic34\", \"Topic34\", \"Topic34\", \"Topic34\", \"Topic34\", \"Topic34\", \"Topic34\", \"Topic34\", \"Topic34\", \"Topic34\", \"Topic34\", \"Topic34\", \"Topic34\", \"Topic34\", \"Topic34\", \"Topic34\", \"Topic34\", \"Topic34\", \"Topic34\", \"Topic34\", \"Topic34\", \"Topic34\", \"Topic34\", \"Topic34\", \"Topic34\", \"Topic35\", \"Topic35\", \"Topic35\", \"Topic35\", \"Topic35\", \"Topic35\", \"Topic35\", \"Topic35\", \"Topic35\", \"Topic35\", \"Topic35\", \"Topic35\", \"Topic35\", \"Topic35\", \"Topic35\", \"Topic35\", \"Topic35\", \"Topic35\", \"Topic35\", \"Topic35\", \"Topic35\", \"Topic35\", \"Topic35\", \"Topic35\", \"Topic35\", \"Topic35\", \"Topic35\", \"Topic35\", \"Topic35\", \"Topic35\", \"Topic35\", \"Topic35\", \"Topic35\", \"Topic35\", \"Topic36\", \"Topic36\", \"Topic36\", \"Topic36\", \"Topic36\", \"Topic36\", \"Topic36\", \"Topic36\", \"Topic36\", \"Topic36\", \"Topic36\", \"Topic36\", \"Topic36\", \"Topic36\", \"Topic36\", \"Topic36\", \"Topic36\", \"Topic36\", \"Topic36\", \"Topic36\", \"Topic36\", \"Topic36\", \"Topic36\", \"Topic36\", \"Topic36\", \"Topic36\", \"Topic36\", \"Topic36\", \"Topic36\", \"Topic36\", \"Topic36\", \"Topic36\", \"Topic36\", \"Topic37\", \"Topic37\", \"Topic37\", \"Topic37\", \"Topic37\", \"Topic37\", \"Topic37\", \"Topic37\", \"Topic37\", \"Topic37\", \"Topic37\", \"Topic37\", \"Topic37\", \"Topic37\", \"Topic37\", \"Topic37\", \"Topic37\", \"Topic37\", \"Topic37\", \"Topic37\", \"Topic37\", \"Topic37\", \"Topic37\", \"Topic37\", \"Topic37\", \"Topic37\", \"Topic37\", \"Topic37\", \"Topic37\", \"Topic37\", \"Topic37\", \"Topic37\", \"Topic37\", \"Topic37\", \"Topic37\", \"Topic38\", \"Topic38\", \"Topic38\", \"Topic38\", \"Topic38\", \"Topic38\", \"Topic38\", \"Topic38\", \"Topic38\", \"Topic38\", \"Topic38\", \"Topic38\", \"Topic38\", \"Topic38\", \"Topic38\", \"Topic38\", \"Topic38\", \"Topic38\", \"Topic38\", \"Topic38\", \"Topic38\", \"Topic38\", \"Topic38\", \"Topic38\", \"Topic38\", \"Topic38\", \"Topic38\", \"Topic38\", \"Topic38\", \"Topic38\", \"Topic38\", \"Topic38\", \"Topic38\", \"Topic38\", \"Topic39\", \"Topic39\", \"Topic39\", \"Topic39\", \"Topic39\", \"Topic39\", \"Topic39\", \"Topic39\", \"Topic39\", \"Topic39\", \"Topic39\", \"Topic39\", \"Topic39\", \"Topic39\", \"Topic39\", \"Topic39\", \"Topic39\", \"Topic39\", \"Topic39\", \"Topic39\", \"Topic39\", \"Topic39\", \"Topic39\", \"Topic39\", \"Topic39\", \"Topic39\", \"Topic39\", \"Topic39\", \"Topic39\", \"Topic39\", \"Topic39\", \"Topic39\", \"Topic39\", \"Topic39\", \"Topic40\", \"Topic40\", \"Topic40\", \"Topic40\", \"Topic40\", \"Topic40\", \"Topic40\", \"Topic40\", \"Topic40\", \"Topic40\", \"Topic40\", \"Topic40\", \"Topic40\", \"Topic40\", \"Topic40\", \"Topic40\", \"Topic40\", \"Topic40\", \"Topic40\", \"Topic40\", \"Topic40\", \"Topic40\", \"Topic40\", \"Topic40\", \"Topic40\", \"Topic40\", \"Topic40\", \"Topic40\", \"Topic40\", \"Topic40\", \"Topic40\", \"Topic40\", \"Topic40\", \"Topic40\", \"Topic41\", \"Topic41\", \"Topic41\", \"Topic41\", \"Topic41\", \"Topic41\", \"Topic41\", \"Topic41\", \"Topic41\", \"Topic41\", \"Topic41\", \"Topic41\", \"Topic41\", \"Topic41\", \"Topic41\", \"Topic41\", \"Topic41\", \"Topic41\", \"Topic41\", \"Topic41\", \"Topic41\", \"Topic41\", \"Topic41\", \"Topic41\", \"Topic41\", \"Topic41\", \"Topic41\", \"Topic41\", \"Topic41\", \"Topic41\", \"Topic41\", \"Topic41\", \"Topic41\", \"Topic41\", \"Topic42\", \"Topic42\", \"Topic42\", \"Topic42\", \"Topic42\", \"Topic42\", \"Topic42\", \"Topic42\", \"Topic42\", \"Topic42\", \"Topic42\", \"Topic42\", \"Topic42\", \"Topic42\", \"Topic42\", \"Topic42\", \"Topic42\", \"Topic42\", \"Topic42\", \"Topic42\", \"Topic42\", \"Topic42\", \"Topic42\", \"Topic42\", \"Topic42\", \"Topic42\", \"Topic42\", \"Topic42\", \"Topic42\", \"Topic42\", \"Topic42\", \"Topic42\", \"Topic42\", \"Topic42\", \"Topic43\", \"Topic43\", \"Topic43\", \"Topic43\", \"Topic43\", \"Topic43\", \"Topic43\", \"Topic43\", \"Topic43\", \"Topic43\", \"Topic43\", \"Topic43\", \"Topic43\", \"Topic43\", \"Topic43\", \"Topic43\", \"Topic43\", \"Topic43\", \"Topic43\", \"Topic43\", \"Topic43\", \"Topic43\", \"Topic43\", \"Topic43\", \"Topic43\", \"Topic43\", \"Topic43\", \"Topic43\", \"Topic43\", \"Topic43\", \"Topic43\", \"Topic43\", \"Topic43\", \"Topic43\", \"Topic44\", \"Topic44\", \"Topic44\", \"Topic44\", \"Topic44\", \"Topic44\", \"Topic44\", \"Topic44\", \"Topic44\", \"Topic44\", \"Topic44\", \"Topic44\", \"Topic44\", \"Topic44\", \"Topic44\", \"Topic44\", \"Topic44\", \"Topic44\", \"Topic44\", \"Topic44\", \"Topic44\", \"Topic44\", \"Topic44\", \"Topic44\", \"Topic44\", \"Topic44\", \"Topic44\", \"Topic44\", \"Topic44\", \"Topic44\", \"Topic44\", \"Topic44\", \"Topic44\", \"Topic44\", \"Topic45\", \"Topic45\", \"Topic45\", \"Topic45\", \"Topic45\", \"Topic45\", \"Topic45\", \"Topic45\", \"Topic45\", \"Topic45\", \"Topic45\", \"Topic45\", \"Topic45\", \"Topic45\", \"Topic45\", \"Topic45\", \"Topic45\", \"Topic45\", \"Topic45\", \"Topic45\", \"Topic45\", \"Topic45\", \"Topic45\", \"Topic45\", \"Topic45\", \"Topic45\", \"Topic45\", \"Topic45\", \"Topic45\", \"Topic45\", \"Topic45\", \"Topic45\", \"Topic45\", \"Topic45\", \"Topic46\", \"Topic46\", \"Topic46\", \"Topic46\", \"Topic46\", \"Topic46\", \"Topic46\", \"Topic46\", \"Topic46\", \"Topic46\", \"Topic46\", \"Topic46\", \"Topic46\", \"Topic46\", \"Topic46\", \"Topic46\", \"Topic46\", \"Topic46\", \"Topic46\", \"Topic46\", \"Topic46\", \"Topic46\", \"Topic46\", \"Topic46\", \"Topic46\", \"Topic46\", \"Topic46\", \"Topic46\", \"Topic46\", \"Topic46\", \"Topic46\", \"Topic46\", \"Topic46\", \"Topic46\", \"Topic47\", \"Topic47\", \"Topic47\", \"Topic47\", \"Topic47\", \"Topic47\", \"Topic47\", \"Topic47\", \"Topic47\", \"Topic47\", \"Topic47\", \"Topic47\", \"Topic47\", \"Topic47\", \"Topic47\", \"Topic47\", \"Topic47\", \"Topic47\", \"Topic47\", \"Topic47\", \"Topic47\", \"Topic47\", \"Topic47\", \"Topic47\", \"Topic47\", \"Topic47\", \"Topic47\", \"Topic47\", \"Topic47\", \"Topic47\", \"Topic47\", \"Topic47\", \"Topic47\", \"Topic47\", \"Topic48\", \"Topic48\", \"Topic48\", \"Topic48\", \"Topic48\", \"Topic48\", \"Topic48\", \"Topic48\", \"Topic48\", \"Topic48\", \"Topic48\", \"Topic48\", \"Topic48\", \"Topic48\", \"Topic48\", \"Topic48\", \"Topic48\", \"Topic48\", \"Topic48\", \"Topic48\", \"Topic48\", \"Topic48\", \"Topic48\", \"Topic48\", \"Topic48\", \"Topic48\", \"Topic48\", \"Topic48\", \"Topic48\", \"Topic48\", \"Topic48\", \"Topic48\", \"Topic48\", \"Topic49\", \"Topic49\", \"Topic49\", \"Topic49\", \"Topic49\", \"Topic49\", \"Topic49\", \"Topic49\", \"Topic49\", \"Topic49\", \"Topic49\", \"Topic49\", \"Topic49\", \"Topic49\", \"Topic49\", \"Topic49\", \"Topic49\", \"Topic49\", \"Topic49\", \"Topic49\", \"Topic49\", \"Topic49\", \"Topic49\", \"Topic49\", \"Topic49\", \"Topic49\", \"Topic49\", \"Topic49\", \"Topic49\", \"Topic49\", \"Topic49\", \"Topic49\", \"Topic49\", \"Topic49\", \"Topic50\", \"Topic50\", \"Topic50\", \"Topic50\", \"Topic50\", \"Topic50\", \"Topic50\", \"Topic50\", \"Topic50\", \"Topic50\", \"Topic50\", \"Topic50\", \"Topic50\", \"Topic50\", \"Topic50\", \"Topic50\", \"Topic50\", \"Topic50\", \"Topic50\", \"Topic50\", \"Topic50\", \"Topic50\", \"Topic50\", \"Topic50\", \"Topic50\", \"Topic50\", \"Topic50\", \"Topic50\", \"Topic50\", \"Topic50\", \"Topic50\", \"Topic50\", \"Topic50\", \"Topic50\"], \"Freq\": [31.0, 30.0, 19.0, 22.0, 21.0, 16.0, 18.0, 23.0, 20.0, 18.0, 19.0, 14.0, 11.0, 17.0, 14.0, 16.0, 13.0, 12.0, 13.0, 15.0, 13.0, 15.0, 15.0, 11.0, 9.0, 12.0, 11.0, 17.0, 11.0, 15.0, 8.273748397827148, 2.703178644180298, 2.742839813232422, 3.344129800796509, 1.129474401473999, 1.129474401473999, 1.129474401473999, 1.129474401473999, 1.129474401473999, 1.129474401473999, 0.0221465565264225, 0.0221465565264225, 0.0221465565264225, 0.0221465565264225, 0.0221465565264225, 0.0221465565264225, 0.0221465565264225, 0.0221465565264225, 0.0221465565264225, 0.0221465565264225, 0.0221465565264225, 0.0221465565264225, 0.0221465565264225, 0.0221465565264225, 0.0221465565264225, 0.0221465565264225, 0.0221465565264225, 0.0221465565264225, 0.0221465565264225, 0.0221465565264225, 0.0221465565264225, 0.0221465565264225, 0.0221465565264225, 0.0221465565264225, 5.907562732696533, 7.590630054473877, 1.699897050857544, 1.699897050857544, 0.8583638668060303, 0.8583638668060303, 0.8583638668060303, 1.699897050857544, 0.8583638668060303, 0.8583638668060303, 0.8583638668060303, 0.01683066412806511, 0.01683066412806511, 0.01683066412806511, 0.01683066412806511, 0.01683066412806511, 0.01683066412806511, 0.01683066412806511, 0.01683066412806511, 0.01683066412806511, 0.01683066412806511, 0.01683066412806511, 0.01683066412806511, 0.01683066412806511, 0.01683066412806511, 0.01683066412806511, 0.01683066412806511, 0.01683066412806511, 0.01683066412806511, 0.01683066412806511, 0.01683066412806511, 0.01683066412806511, 0.01683066412806511, 0.01683066412806511, 3.7168476581573486, 5.737323760986328, 4.166252613067627, 2.2897486686706543, 1.45573890209198, 1.4557386636734009, 1.4557386636734009, 0.8546423316001892, 0.8035252690315247, 0.8109099268913269, 0.028543896973133087, 0.028543896973133087, 0.028543896973133087, 0.028543896973133087, 0.028543896973133087, 0.028543896973133087, 0.028543896973133087, 0.028543896973133087, 0.028543896973133087, 0.028543896973133087, 0.028543896973133087, 0.028543896973133087, 0.028543896973133087, 0.028543896973133087, 0.028543896973133087, 0.028543896973133087, 0.028543896973133087, 0.028543896973133087, 0.028543896973133087, 0.028543896973133087, 0.028543896973133087, 0.028543896973133087, 0.028543896973133087, 0.028543896973133087, 6.3770751953125, 5.317760467529297, 3.1991307735443115, 2.1398158073425293, 3.1991305351257324, 1.0805010795593262, 0.02118629403412342, 0.02118629403412342, 0.02118629403412342, 0.02118629403412342, 0.02118629403412342, 0.02118629403412342, 0.02118629403412342, 0.02118629403412342, 0.02118629403412342, 0.02118629403412342, 0.02118629403412342, 0.02118629403412342, 0.02118629403412342, 0.02118629403412342, 0.02118629403412342, 0.02118629403412342, 0.02118629403412342, 0.02118629403412342, 0.02118629403412342, 0.02118629403412342, 0.02118629403412342, 0.02118629403412342, 0.02118629403412342, 0.02118629403412342, 0.02118629403412342, 0.02118629403412342, 0.02118629403412342, 5.182382106781006, 6.214728832244873, 1.052993893623352, 2.085340976715088, 1.0529940128326416, 1.0529940128326416, 1.0529940128326416, 1.0529940128326416, 1.0529940128326416, 0.020646940916776657, 0.020646940916776657, 0.020646940916776657, 0.020646940916776657, 0.020646940916776657, 0.020646940916776657, 0.020646940916776657, 0.020646940916776657, 0.020646940916776657, 0.020646940916776657, 0.020646940916776657, 0.020646940916776657, 0.020646940916776657, 0.020646940916776657, 0.020646940916776657, 0.020646940916776657, 0.020646940916776657, 0.020646940916776657, 0.020646940916776657, 0.020646940916776657, 0.020646940916776657, 0.020646940916776657, 0.020646940916776657, 0.020646940916776657, 0.020646940916776657, 3.4947142601013184, 4.364046096801758, 2.6253821849823, 1.7560503482818604, 0.8867185711860657, 0.8867185115814209, 0.8867185115814209, 0.8867185115814209, 0.8867185115814209, 0.8867185115814209, 0.8867185711860657, 0.01738663762807846, 0.01738663762807846, 0.01738663762807846, 0.01738663762807846, 0.01738663762807846, 0.01738663762807846, 0.01738663762807846, 0.01738663762807846, 0.01738663762807846, 0.01738663762807846, 0.01738663762807846, 0.01738663762807846, 0.01738663762807846, 0.01738663762807846, 0.01738663762807846, 0.01738663762807846, 0.01738663762807846, 0.01738663762807846, 0.01738663762807846, 0.01738663762807846, 0.01738663762807846, 0.01738663762807846, 0.01738663762807846, 9.816542625427246, 3.315521001815796, 3.315521001815796, 0.06501021236181259, 0.06501021236181259, 0.06501021236181259, 0.06501021236181259, 0.06501021236181259, 0.06501021236181259, 0.06501021236181259, 0.06501021236181259, 0.06501021236181259, 0.06501021236181259, 0.06501021236181259, 0.06501021236181259, 0.06501021236181259, 0.06501021236181259, 0.06501021236181259, 0.06501021236181259, 0.06501021236181259, 0.06501021236181259, 0.06501021236181259, 0.06501021236181259, 0.06501021236181259, 0.06501021236181259, 0.06501021236181259, 0.06501021236181259, 0.06501021236181259, 0.06501021236181259, 0.06501021236181259, 0.06501021236181259, 0.06501021236181259, 0.06501021236181259, 0.06501021236181259, 6.287965297698975, 6.164178371429443, 1.762844204902649, 1.2524824142456055, 1.2524824142456055, 0.5350028872489929, 0.024558478966355324, 0.024558478966355324, 0.024558478966355324, 0.024558478966355324, 0.024558478966355324, 0.024558478966355324, 0.024558478966355324, 0.024558478966355324, 0.024558478966355324, 0.024558478966355324, 0.024558478966355324, 0.024558478966355324, 0.024558478966355324, 0.024558478966355324, 0.024558478966355324, 0.024558478966355324, 0.024558478966355324, 0.024558478966355324, 0.024558478966355324, 0.024558478966355324, 0.024558478966355324, 0.024558478966355324, 0.024558478966355324, 0.024558478966355324, 0.024558478966355324, 0.024558478966355324, 0.024558478966355324, 0.024558478966355324, 2.8111796379089355, 2.8111793994903564, 2.8111793994903564, 1.4195064306259155, 1.4195064306259155, 1.4195064306259155, 1.4195064306259155, 1.4195064306259155, 1.4195064306259155, 0.02783345803618431, 0.02783345803618431, 0.02783345803618431, 0.02783345803618431, 0.02783345803618431, 0.02783345803618431, 0.02783345803618431, 0.02783345803618431, 0.02783345803618431, 0.02783345803618431, 0.02783345803618431, 0.02783345803618431, 0.02783345803618431, 0.02783345803618431, 0.02783345803618431, 0.02783345803618431, 0.02783345803618431, 0.02783345803618431, 0.02783345803618431, 0.02783345803618431, 0.02783345803618431, 0.02783345803618431, 0.02783345803618431, 0.02783345803618431, 0.02783345803618431, 0.02783345803618431, 2.6705615520477295, 1.7862694263458252, 2.6705610752105713, 1.7862694263458252, 1.7862694263458252, 1.7862694263458252, 0.9019776582717896, 0.9019776582717896, 0.9019777178764343, 0.9019776582717896, 0.9019776582717896, 0.01768583618104458, 0.01768583618104458, 0.01768583618104458, 0.01768583618104458, 0.01768583618104458, 0.01768583618104458, 0.01768583618104458, 0.01768583618104458, 0.01768583618104458, 0.01768583618104458, 0.01768583618104458, 0.01768583618104458, 0.01768583618104458, 0.01768583618104458, 0.01768583618104458, 0.01768583618104458, 0.01768583618104458, 0.01768583618104458, 0.01768583618104458, 0.01768583618104458, 0.01768583618104458, 0.01768583618104458, 0.01768583618104458, 8.814471244812012, 5.047603130340576, 2.536357879638672, 0.02511245384812355, 0.02511245384812355, 0.02511245384812355, 0.02511245384812355, 0.02511245384812355, 0.02511245384812355, 0.02511245384812355, 0.02511245384812355, 0.02511245384812355, 0.02511245384812355, 0.02511245384812355, 0.02511245384812355, 0.02511245384812355, 0.02511245384812355, 0.02511245384812355, 0.02511245384812355, 0.02511245384812355, 0.02511245384812355, 0.02511245384812355, 0.02511245384812355, 0.02511245384812355, 0.02511245384812355, 0.02511245384812355, 0.02511245384812355, 0.02511245384812355, 0.02511245384812355, 0.02511245384812355, 0.02511245384812355, 0.02511245384812355, 0.02511245384812355, 5.0261921882629395, 2.525599241256714, 1.275302529335022, 1.275302529335022, 2.525599241256714, 1.275302529335022, 1.275302529335022, 1.275302529335022, 0.02500593289732933, 0.02500593289732933, 0.02500593289732933, 0.02500593289732933, 0.02500593289732933, 0.02500593289732933, 0.02500593289732933, 0.02500593289732933, 0.02500593289732933, 0.02500593289732933, 0.02500593289732933, 0.02500593289732933, 0.02500593289732933, 0.02500593289732933, 0.02500593289732933, 0.02500593289732933, 0.02500593289732933, 0.02500593289732933, 0.02500593289732933, 0.02500593289732933, 0.02500593289732933, 0.02500593289732933, 0.02500593289732933, 0.02500593289732933, 0.02500593289732933, 4.807619094848633, 3.8499257564544678, 0.9768468737602234, 1.934539556503296, 0.9768468737602234, 0.9768468737602234, 0.9768468737602234, 0.9768468737602234, 0.019153859466314316, 0.019153859466314316, 0.019153859466314316, 0.019153859466314316, 0.019153859466314316, 0.019153859466314316, 0.019153859466314316, 0.019153859466314316, 0.019153859466314316, 0.019153859466314316, 0.019153859466314316, 0.019153859466314316, 0.019153859466314316, 0.019153859466314316, 0.019153859466314316, 0.019153859466314316, 0.019153859466314316, 0.019153859466314316, 0.019153859466314316, 0.019153859466314316, 0.019153859466314316, 0.019153859466314316, 0.019153859466314316, 0.019153859466314316, 0.019153859466314316, 0.019153859466314316, 3.157374620437622, 2.111886739730835, 1.066398024559021, 3.157374382019043, 2.111886501312256, 1.066398024559021, 1.0663981437683105, 1.066398024559021, 0.020909765735268593, 0.020909765735268593, 0.020909765735268593, 0.020909765735268593, 0.020909765735268593, 0.020909765735268593, 0.020909765735268593, 0.020909765735268593, 0.020909765735268593, 0.020909765735268593, 0.020909765735268593, 0.020909765735268593, 0.020909765735268593, 0.020909765735268593, 0.020909765735268593, 0.020909765735268593, 0.020909765735268593, 0.020909765735268593, 0.020909765735268593, 0.020909765735268593, 0.020909765735268593, 0.020909765735268593, 0.020909765735268593, 0.020909765735268593, 0.020909765735268593, 0.020909765735268593, 5.231562614440918, 1.7669514417648315, 1.7669514417648315, 1.7669514417648315, 1.7669514417648315, 1.7669514417648315, 0.034646108746528625, 0.034646108746528625, 0.034646108746528625, 0.034646108746528625, 0.034646108746528625, 0.034646108746528625, 0.034646108746528625, 0.034646108746528625, 0.034646108746528625, 0.034646108746528625, 0.034646108746528625, 0.034646108746528625, 0.034646108746528625, 0.034646108746528625, 0.034646108746528625, 0.034646108746528625, 0.034646108746528625, 0.034646108746528625, 0.034646108746528625, 0.034646108746528625, 0.034646108746528625, 0.034646108746528625, 0.034646108746528625, 0.034646108746528625, 0.034646108746528625, 0.034646108746528625, 0.034646108746528625, 0.034646108746528625, 4.577883243560791, 2.3003294467926025, 1.1615524291992188, 1.1615524291992188, 1.1615524291992188, 1.1615524291992188, 1.1615524291992188, 1.1615524291992188, 0.02277553640305996, 0.02277553640305996, 0.02277553640305996, 0.02277553640305996, 0.02277553640305996, 0.02277553640305996, 0.02277553640305996, 0.02277553640305996, 0.02277553640305996, 0.02277553640305996, 0.02277553640305996, 0.02277553640305996, 0.02277553640305996, 0.02277553640305996, 0.02277553640305996, 0.02277553640305996, 0.02277553640305996, 0.02277553640305996, 0.02277553640305996, 0.02277553640305996, 0.02277553640305996, 0.02277553640305996, 0.02277553640305996, 0.02277553640305996, 0.02277553640305996, 7.306769371032715, 1.8539563417434692, 1.8539563417434692, 1.8539563417434692, 0.03635208681225777, 0.03635208681225777, 0.03635208681225777, 0.03635208681225777, 0.03635208681225777, 0.03635208681225777, 0.03635208681225777, 0.03635208681225777, 0.03635208681225777, 0.03635208681225777, 0.03635208681225777, 0.03635208681225777, 0.03635208681225777, 0.03635208681225777, 0.03635208681225777, 0.03635208681225777, 0.03635208681225777, 0.03635208681225777, 0.03635208681225777, 0.03635208681225777, 0.03635208681225777, 0.03635208681225777, 0.03635208681225777, 0.03635208681225777, 0.03635208681225777, 0.03635208681225777, 0.03635208681225777, 0.03635208681225777, 0.03635208681225777, 3.605628728866577, 3.605628728866577, 1.2177952527999878, 1.2177952527999878, 1.2177952527999878, 1.2177952527999878, 1.2177952527999878, 0.023878339678049088, 0.023878339678049088, 0.023878339678049088, 0.023878339678049088, 0.023878339678049088, 0.023878339678049088, 0.023878339678049088, 0.023878339678049088, 0.023878339678049088, 0.023878339678049088, 0.023878339678049088, 0.023878339678049088, 0.023878339678049088, 0.023878339678049088, 0.023878339678049088, 0.023878339678049088, 0.023878339678049088, 0.023878339678049088, 0.023878339678049088, 0.023878339678049088, 0.023878339678049088, 0.023878339678049088, 0.023878339678049088, 0.023878339678049088, 0.023878339678049088, 0.023878339678049088, 0.023878339678049088, 3.060436964035034, 4.073826789855957, 2.0470473766326904, 1.0336575508117676, 1.0336575508117676, 1.0336575508117676, 0.020267793908715248, 0.020267793908715248, 0.020267793908715248, 0.020267793908715248, 0.020267793908715248, 0.020267793908715248, 0.020267793908715248, 0.020267793908715248, 0.020267793908715248, 0.020267793908715248, 0.020267793908715248, 0.020267793908715248, 0.020267793908715248, 0.020267793908715248, 0.020267793908715248, 0.020267793908715248, 0.020267793908715248, 0.020267793908715248, 0.020267793908715248, 0.020267793908715248, 0.020267793908715248, 0.020267793908715248, 0.020267793908715248, 0.020267793908715248, 0.020267793908715248, 0.020267793908715248, 0.020267793908715248, 0.020267793908715248, 1.3817311525344849, 2.7363696098327637, 1.3817311525344849, 1.3817311525344849, 1.3817311525344849, 1.3817311525344849, 1.3817311525344849, 0.027092767879366875, 0.027092767879366875, 0.027092767879366875, 0.027092767879366875, 0.027092767879366875, 0.027092767879366875, 0.027092767879366875, 0.027092767879366875, 0.027092767879366875, 0.027092767879366875, 0.027092767879366875, 0.027092767879366875, 0.027092767879366875, 0.027092767879366875, 0.027092767879366875, 0.027092767879366875, 0.027092767879366875, 0.027092767879366875, 0.027092767879366875, 0.027092767879366875, 0.027092767879366875, 0.027092767879366875, 0.027092767879366875, 0.027092767879366875, 0.027092767879366875, 0.027092767879366875, 0.027092767879366875, 2.974668025970459, 3.7146356105804443, 0.7547665238380432, 1.4947338104248047, 0.7547666430473328, 0.7547665238380432, 0.014799344353377819, 0.014799344353377819, 0.014799344353377819, 0.014799344353377819, 0.014799344353377819, 0.014799344353377819, 0.014799344353377819, 0.014799344353377819, 0.014799344353377819, 0.014799344353377819, 0.014799344353377819, 0.014799344353377819, 0.014799344353377819, 0.014799344353377819, 0.014799344353377819, 0.014799344353377819, 0.014799344353377819, 0.014799344353377819, 0.014799344353377819, 0.014799344353377819, 0.014799344353377819, 0.014799344353377819, 0.014799344353377819, 0.014799344353377819, 0.014799344353377819, 0.014799344353377819, 0.014799344353377819, 0.014799344353377819, 2.252962589263916, 1.137634515762329, 1.137634515762329, 1.137634515762329, 1.137634515762329, 1.137634515762329, 1.137634515762329, 1.137634515762329, 0.02230655960738659, 0.02230655960738659, 0.02230655960738659, 0.02230655960738659, 0.02230655960738659, 0.02230655960738659, 0.02230655960738659, 0.02230655960738659, 0.02230655960738659, 0.02230655960738659, 0.02230655960738659, 0.02230655960738659, 0.02230655960738659, 0.02230655960738659, 0.02230655960738659, 0.02230655960738659, 0.02230655960738659, 0.02230655960738659, 0.02230655960738659, 0.02230655960738659, 0.02230655960738659, 0.02230655960738659, 0.02230655960738659, 0.02230655960738659, 0.02230655960738659, 3.176790952682495, 1.6041220426559448, 3.176790952682495, 1.6041220426559448, 0.03145337477326393, 0.03145337477326393, 0.03145337477326393, 0.03145337477326393, 0.03145337477326393, 0.03145337477326393, 0.03145337477326393, 0.03145337477326393, 0.03145337477326393, 0.03145337477326393, 0.03145337477326393, 0.03145337477326393, 0.03145337477326393, 0.03145337477326393, 0.03145337477326393, 0.03145337477326393, 0.03145337477326393, 0.03145337477326393, 0.03145337477326393, 0.03145337477326393, 0.03145337477326393, 0.03145337477326393, 0.03145337477326393, 0.03145337477326393, 0.03145337477326393, 0.03145337477326393, 0.03145337477326393, 0.03145337477326393, 0.03145337477326393, 0.03145337477326393, 3.2664852142333984, 1.1032499074935913, 1.1032499074935913, 1.1032499074935913, 1.1032500267028809, 1.1032499074935913, 1.1032499074935913, 0.021632352843880653, 0.021632352843880653, 0.021632352843880653, 0.021632352843880653, 0.021632352843880653, 0.021632352843880653, 0.021632352843880653, 0.021632352843880653, 0.021632352843880653, 0.021632352843880653, 0.021632352843880653, 0.021632352843880653, 0.021632352843880653, 0.021632352843880653, 0.021632352843880653, 0.021632352843880653, 0.021632352843880653, 0.021632352843880653, 0.021632352843880653, 0.021632352843880653, 0.021632352843880653, 0.021632352843880653, 0.021632352843880653, 0.021632352843880653, 0.021632352843880653, 0.021632352843880653, 0.021632352843880653, 2.8813655376434326, 2.8813655376434326, 2.8813655376434326, 0.05649736523628235, 0.05649736523628235, 0.05649736523628235, 0.05649736523628235, 0.05649736523628235, 0.05649736523628235, 0.05649736523628235, 0.05649736523628235, 0.05649736523628235, 0.05649736523628235, 0.05649736523628235, 0.05649736523628235, 0.05649736523628235, 0.05649736523628235, 0.05649736523628235, 0.05649736523628235, 0.05649736523628235, 0.05649736523628235, 0.05649736523628235, 0.05649736523628235, 0.05649736523628235, 0.05649736523628235, 0.05649736523628235, 0.05649736523628235, 0.05649736523628235, 0.05649736523628235, 0.05649736523628235, 0.05649736523628235, 0.05649736523628235, 0.05649736523628235, 2.1071856021881104, 2.1071856021881104, 2.1071856021881104, 1.0640243291854858, 1.0640243291854858, 1.0640243291854858, 0.02086322195827961, 0.02086322195827961, 0.02086322195827961, 0.02086322195827961, 0.02086322195827961, 0.02086322195827961, 0.02086322195827961, 0.02086322195827961, 0.02086322195827961, 0.02086322195827961, 0.02086322195827961, 0.02086322195827961, 0.02086322195827961, 0.02086322195827961, 0.02086322195827961, 0.02086322195827961, 0.02086322195827961, 0.02086322195827961, 0.02086322195827961, 0.02086322195827961, 0.02086322195827961, 0.02086322195827961, 0.02086322195827961, 0.02086322195827961, 0.02086322195827961, 0.02086322195827961, 0.02086322195827961, 0.02086322195827961, 3.2470626831054688, 1.3065868616104126, 0.6597616672515869, 0.6597616076469421, 0.6597616672515869, 0.6597616672515869, 0.6597616672515869, 0.6597616672515869, 0.012936503626406193, 0.012936503626406193, 0.012936503626406193, 0.012936503626406193, 0.012936503626406193, 0.012936503626406193, 0.012936503626406193, 0.012936503626406193, 0.012936503626406193, 0.012936503626406193, 0.012936503626406193, 0.012936503626406193, 0.012936503626406193, 0.012936503626406193, 0.012936503626406193, 0.012936503626406193, 0.012936503626406193, 0.012936503626406193, 0.012936503626406193, 0.012936503626406193, 0.012936503626406193, 0.012936503626406193, 0.012936503626406193, 0.012936503626406193, 0.012936503626406193, 0.012936503626406193, 3.0543344020843506, 1.5422877073287964, 1.5422877073287964, 1.5422877073287964, 0.03024093434214592, 0.03024093434214592, 0.03024093434214592, 0.03024093434214592, 0.03024093434214592, 0.03024093434214592, 0.03024093434214592, 0.03024093434214592, 0.03024093434214592, 0.03024093434214592, 0.03024093434214592, 0.03024093434214592, 0.03024093434214592, 0.03024093434214592, 0.03024093434214592, 0.03024093434214592, 0.03024093434214592, 0.03024093434214592, 0.03024093434214592, 0.03024093434214592, 0.03024093434214592, 0.03024093434214592, 0.03024093434214592, 0.03024093434214592, 0.03024093434214592, 0.03024093434214592, 0.03024093434214592, 0.03024093434214592, 0.03024093434214592, 0.03024093434214592, 1.7601053714752197, 1.7601053714752197, 0.8887661099433899, 1.7601056098937988, 0.8887661099433899, 0.8887661099433899, 0.017426786944270134, 0.017426786944270134, 0.017426786944270134, 0.017426786944270134, 0.017426786944270134, 0.017426786944270134, 0.017426786944270134, 0.017426786944270134, 0.017426786944270134, 0.017426786944270134, 0.017426786944270134, 0.017426786944270134, 0.017426786944270134, 0.017426786944270134, 0.017426786944270134, 0.017426786944270134, 0.017426786944270134, 0.017426786944270134, 0.017426786944270134, 0.017426786944270134, 0.017426786944270134, 0.017426786944270134, 0.017426786944270134, 0.017426786944270134, 0.017426786944270134, 0.017426786944270134, 0.017426786944270134, 0.017426786944270134, 4.827718257904053, 0.09466113895177841, 0.09466113895177841, 0.09466113895177841, 0.09466113895177841, 0.09466113895177841, 0.09466113895177841, 0.09466113895177841, 0.09466113895177841, 0.09466113895177841, 0.09466113895177841, 0.09466113895177841, 0.09466113895177841, 0.09466113895177841, 0.09466113895177841, 0.09466113895177841, 0.09466113895177841, 0.09466113895177841, 0.09466113895177841, 0.09466113895177841, 0.09466113895177841, 0.09466113895177841, 0.09466113895177841, 0.09466113895177841, 0.09466113895177841, 0.09466113895177841, 0.09466113895177841, 0.09466113895177841, 0.09466113895177841, 0.09466113895177841, 0.09466113895177841, 0.09466113895177841, 0.09466113895177841, 0.09466113895177841, 1.5169497728347778, 1.5169497728347778, 0.7659845352172852, 0.7659845352172852, 0.7659845352172852, 0.7659845352172852, 0.7659845352172852, 0.7659845352172852, 0.015019305050373077, 0.015019305050373077, 0.015019305050373077, 0.015019305050373077, 0.015019305050373077, 0.015019305050373077, 0.015019305050373077, 0.015019305050373077, 0.015019305050373077, 0.015019305050373077, 0.015019305050373077, 0.015019305050373077, 0.015019305050373077, 0.015019305050373077, 0.015019305050373077, 0.015019305050373077, 0.015019305050373077, 0.015019305050373077, 0.015019305050373077, 0.015019305050373077, 0.015019305050373077, 0.015019305050373077, 0.015019305050373077, 0.015019305050373077, 0.015019305050373077, 0.015019305050373077, 2.2679152488708496, 1.5169497728347778, 2.2679152488708496, 0.7659845352172852, 0.7659846544265747, 0.015019304119050503, 0.015019304119050503, 0.015019304119050503, 0.015019304119050503, 0.015019304119050503, 0.015019304119050503, 0.015019304119050503, 0.015019304119050503, 0.015019304119050503, 0.015019304119050503, 0.015019304119050503, 0.015019304119050503, 0.015019304119050503, 0.015019304119050503, 0.015019304119050503, 0.015019304119050503, 0.015019304119050503, 0.015019304119050503, 0.015019304119050503, 0.015019304119050503, 0.015019304119050503, 0.015019304119050503, 0.015019304119050503, 0.015019304119050503, 0.015019304119050503, 0.015019304119050503, 0.015019304119050503, 0.015019304119050503, 0.015019304119050503, 1.6383907794952393, 1.6383910179138184, 1.6383910179138184, 1.6383910179138184, 0.032125312834978104, 0.032125312834978104, 0.032125312834978104, 0.032125312834978104, 0.032125312834978104, 0.032125312834978104, 0.032125312834978104, 0.032125312834978104, 0.032125312834978104, 0.032125312834978104, 0.032125312834978104, 0.032125312834978104, 0.032125312834978104, 0.032125312834978104, 0.032125312834978104, 0.032125312834978104, 0.032125312834978104, 0.032125312834978104, 0.032125312834978104, 0.032125312834978104, 0.032125312834978104, 0.032125312834978104, 0.032125312834978104, 0.032125312834978104, 0.032125312834978104, 0.032125312834978104, 0.032125312834978104, 0.032125312834978104, 0.032125312834978104, 0.032125312834978104, 1.9027973413467407, 1.9027973413467407, 1.9027973413467407, 0.03730975091457367, 0.03730975091457367, 0.03730975091457367, 0.03730975091457367, 0.03730975091457367, 0.03730975091457367, 0.03730975091457367, 0.03730975091457367, 0.03730975091457367, 0.03730975091457367, 0.03730975091457367, 0.03730975091457367, 0.03730975091457367, 0.03730975091457367, 0.03730975091457367, 0.03730975091457367, 0.03730975091457367, 0.03730975091457367, 0.03730975091457367, 0.03730975091457367, 0.03730975091457367, 0.03730975091457367, 0.03730975091457367, 0.03730975091457367, 0.03730975091457367, 0.03730975091457367, 0.03730975091457367, 0.03730975091457367, 0.03730975091457367, 0.03730975091457367, 0.03730975091457367, 2.449263334274292, 2.449263334274292, 0.048024773597717285, 0.048024773597717285, 0.048024773597717285, 0.048024773597717285, 0.048024773597717285, 0.048024773597717285, 0.048024773597717285, 0.048024773597717285, 0.048024773597717285, 0.048024773597717285, 0.048024773597717285, 0.048024773597717285, 0.048024773597717285, 0.048024773597717285, 0.048024773597717285, 0.048024773597717285, 0.048024773597717285, 0.048024773597717285, 0.048024773597717285, 0.048024773597717285, 0.048024773597717285, 0.048024773597717285, 0.048024773597717285, 0.048024773597717285, 0.048024773597717285, 0.048024773597717285, 0.048024773597717285, 0.048024773597717285, 0.048024773597717285, 0.048024773597717285, 0.048024773597717285, 0.048024773597717285, 2.673921823501587, 0.6784577369689941, 0.6784577369689941, 0.6784577369689941, 0.6784577369689941, 0.6784577369689941, 0.013303093612194061, 0.013303093612194061, 0.013303093612194061, 0.013303093612194061, 0.013303093612194061, 0.013303093612194061, 0.013303093612194061, 0.013303093612194061, 0.013303093612194061, 0.013303093612194061, 0.013303093612194061, 0.013303093612194061, 0.013303093612194061, 0.013303093612194061, 0.013303093612194061, 0.013303093612194061, 0.013303093612194061, 0.013303093612194061, 0.013303093612194061, 0.013303093612194061, 0.013303093612194061, 0.013303093612194061, 0.013303093612194061, 0.013303093612194061, 0.013303093612194061, 0.013303093612194061, 0.013303093612194061, 1.8443070650100708, 0.926741361618042, 0.926741361618042, 0.4679585099220276, 0.4679585099220276, 0.4679585099220276, 0.4679585099220276, 0.4679585099220276, 0.009175657294690609, 0.009175657294690609, 0.009175657294690609, 0.009175657294690609, 0.009175657294690609, 0.009175657294690609, 0.009175657294690609, 0.009175657294690609, 0.009175657294690609, 0.009175657294690609, 0.009175657294690609, 0.009175657294690609, 0.009175657294690609, 0.009175657294690609, 0.009175657294690609, 0.009175657294690609, 0.009175657294690609, 0.009175657294690609, 0.009175657294690609, 0.009175657294690609, 0.009175657294690609, 0.009175657294690609, 0.009175657294690609, 0.009175657294690609, 0.009175657294690609, 0.009175657294690609, 0.009175657294690609, 0.8680646419525146, 0.8680646419525146, 0.8680647611618042, 0.8680646419525146, 0.8680646419525146, 0.8680646419525146, 0.017020875588059425, 0.017020875588059425, 0.017020875588059425, 0.017020875588059425, 0.017020875588059425, 0.017020875588059425, 0.017020875588059425, 0.017020875588059425, 0.017020875588059425, 0.017020875588059425, 0.017020875588059425, 0.017020875588059425, 0.017020875588059425, 0.017020875588059425, 0.017020875588059425, 0.017020875588059425, 0.017020875588059425, 0.017020875588059425, 0.017020875588059425, 0.017020875588059425, 0.017020875588059425, 0.017020875588059425, 0.017020875588059425, 0.017020875588059425, 0.017020875588059425, 0.017020875588059425, 0.017020875588059425, 0.017020875588059425, 0.6685094237327576, 0.6685094237327576, 0.6685094237327576, 0.6685094237327576, 1.3239108324050903, 0.6685094237327576, 0.6685094237327576, 0.013108027167618275, 0.013108027167618275, 0.013108027167618275, 0.013108027167618275, 0.013108027167618275, 0.013108027167618275, 0.013108027167618275, 0.013108027167618275, 0.013108027167618275, 0.013108027167618275, 0.013108027167618275, 0.013108027167618275, 0.013108027167618275, 0.013108027167618275, 0.013108027167618275, 0.013108027167618275, 0.013108027167618275, 0.013108027167618275, 0.013108027167618275, 0.013108027167618275, 0.013108027167618275, 0.013108027167618275, 0.013108027167618275, 0.013108027167618275, 0.013108027167618275, 0.013108027167618275, 0.013108027167618275, 0.9363574385643005, 0.626305341720581, 0.6263054013252258, 0.3162531852722168, 0.9363574981689453, 0.9363574385643005, 0.3162531852722168, 0.3162531852722168, 0.3162531852722168, 0.006201042793691158, 0.006201042793691158, 0.006201042793691158, 0.006201042793691158, 0.006201042793691158, 0.006201042793691158, 0.006201042793691158, 0.006201042793691158, 0.006201042793691158, 0.006201042793691158, 0.006201042793691158, 0.006201042793691158, 0.006201042793691158, 0.006201042793691158, 0.006201042793691158, 0.006201042793691158, 0.006201042793691158, 0.006201042793691158, 0.006201042793691158, 0.006201042793691158, 0.006201042793691158, 0.006201042793691158, 0.006201042793691158, 0.006201042793691158, 0.006201042793691158, 0.9764980673789978, 0.4906781017780304, 0.9764980673789978, 0.7335881590843201, 0.24776816368103027, 0.24776816368103027, 0.24776816368103027, 0.24776816368103027, 0.24776816368103027, 0.24776816368103027, 0.004858199041336775, 0.004858199041336775, 0.004858199041336775, 0.004858199041336775, 0.004858199041336775, 0.004858199041336775, 0.004858199041336775, 0.004858199041336775, 0.004858199041336775, 0.004858199041336775, 0.004858199041336775, 0.004858199041336775, 0.004858199041336775, 0.004858199041336775, 0.004858199041336775, 0.004858199041336775, 0.004858199041336775, 0.004858199041336775, 0.004858199041336775, 0.004858199041336775, 0.004858199041336775, 0.004858199041336775, 0.004858199041336775, 0.004858199041336775, 0.7285124659538269, 0.7285124659538269, 0.7285124659538269, 0.7285124659538269, 0.7285124659538269, 0.7285124659538269, 0.014284557662904263, 0.014284557662904263, 0.014284557662904263, 0.014284557662904263, 0.014284557662904263, 0.014284557662904263, 0.014284557662904263, 0.014284557662904263, 0.014284557662904263, 0.014284557662904263, 0.014284557662904263, 0.014284557662904263, 0.014284557662904263, 0.014284557662904263, 0.014284557662904263, 0.014284557662904263, 0.014284557662904263, 0.014284557662904263, 0.014284557662904263, 0.014284557662904263, 0.014284557662904263, 0.014284557662904263, 0.014284557662904263, 0.014284557662904263, 0.014284557662904263, 0.014284557662904263, 0.014284557662904263, 0.014284557662904263, 0.5850883722305298, 0.39135047793388367, 0.9725641012191772, 0.7788262367248535, 0.7788262367248535, 0.19761261343955994, 0.19761261343955994, 0.19761261343955994, 0.19761261343955994, 0.19761261343955994, 0.19761261343955994, 0.0038747573271393776, 0.0038747573271393776, 0.0038747573271393776, 0.0038747573271393776, 0.0038747573271393776, 0.0038747573271393776, 0.0038747573271393776, 0.0038747573271393776, 0.0038747573271393776, 0.0038747573271393776, 0.0038747573271393776, 0.0038747573271393776, 0.0038747573271393776, 0.0038747573271393776, 0.0038747573271393776, 0.0038747573271393776, 0.0038747573271393776, 0.0038747573271393776, 0.0038747573271393776, 0.0038747573271393776, 0.0038747573271393776, 0.0038747573271393776, 0.0038747573271393776, 1.3191964626312256, 1.3191964626312256, 1.3191964626312256, 0.025866596028208733, 0.025866596028208733, 0.025866596028208733, 0.025866596028208733, 0.025866596028208733, 0.025866596028208733, 0.025866596028208733, 0.025866596028208733, 0.025866596028208733, 0.025866596028208733, 0.025866596028208733, 0.025866596028208733, 0.025866596028208733, 0.025866596028208733, 0.025866596028208733, 0.025866596028208733, 0.025866596028208733, 0.025866596028208733, 0.025866596028208733, 0.025866596028208733, 0.025866596028208733, 0.025866596028208733, 0.025866596028208733, 0.025866596028208733, 0.025866596028208733, 0.025866596028208733, 0.025866596028208733, 0.025866596028208733, 0.025866596028208733, 0.025866596028208733, 0.025866596028208733, 1.2732514142990112, 1.2732514142990112, 1.2732514142990112, 0.024965714663267136, 0.024965714663267136, 0.024965714663267136, 0.024965714663267136, 0.024965714663267136, 0.024965714663267136, 0.024965714663267136, 0.024965714663267136, 0.024965714663267136, 0.024965714663267136, 0.024965714663267136, 0.024965714663267136, 0.024965714663267136, 0.024965714663267136, 0.024965714663267136, 0.024965714663267136, 0.024965714663267136, 0.024965714663267136, 0.024965714663267136, 0.024965714663267136, 0.024965714663267136, 0.024965714663267136, 0.024965714663267136, 0.024965714663267136, 0.024965714663267136, 0.024965714663267136, 0.024965714663267136, 0.024965714663267136, 0.024965714663267136, 0.024965714663267136, 0.024965714663267136, 0.47802436351776123, 0.47802436351776123, 0.24137865006923676, 0.24137867987155914, 0.24137865006923676, 0.24137865006923676, 0.24137865006923676, 0.24137865006923676, 0.24137865006923676, 0.24137865006923676, 0.24137865006923676, 0.24137865006923676, 0.24137865006923676, 0.24137865006923676, 0.004732914734631777, 0.004732914734631777, 0.004732914734631777, 0.004732914734631777, 0.004732914734631777, 0.004732914734631777, 0.004732914734631777, 0.004732914734631777, 0.004732914734631777, 0.004732914734631777, 0.004732914734631777, 0.004732914734631777, 0.004732914734631777, 0.004732914734631777, 0.004732914734631777, 0.004732914734631777, 0.004732914734631777, 0.004732914734631777, 0.004732914734631777, 0.004732914734631777, 0.9790369272232056, 0.588982343673706, 0.3939551115036011, 0.1989278495311737, 0.3939551115036011, 0.19892781972885132, 0.1989278495311737, 0.19892781972885132, 0.19892778992652893, 0.0039005454163998365, 0.0039005454163998365, 0.0039005454163998365, 0.0039005454163998365, 0.0039005454163998365, 0.0039005454163998365, 0.0039005454163998365, 0.0039005454163998365, 0.0039005454163998365, 0.0039005454163998365, 0.0039005454163998365, 0.0039005454163998365, 0.0039005454163998365, 0.0039005454163998365, 0.0039005454163998365, 0.0039005454163998365, 0.0039005454163998365, 0.0039005454163998365, 0.0039005454163998365, 0.0039005454163998365, 0.0039005454163998365, 0.0039005454163998365, 0.0039005454163998365, 0.0039005454163998365, 0.0039005454163998365, 0.617723286151886, 0.6177232265472412, 0.6177232265472412, 0.6177232265472412, 0.6177232265472412, 0.012112220749258995, 0.012112220749258995, 0.012112220749258995, 0.012112220749258995, 0.012112220749258995, 0.012112220749258995, 0.012112220749258995, 0.012112220749258995, 0.012112220749258995, 0.012112220749258995, 0.012112220749258995, 0.012112220749258995, 0.012112220749258995, 0.012112220749258995, 0.012112220749258995, 0.012112220749258995, 0.012112220749258995, 0.012112220749258995, 0.012112220749258995, 0.012112220749258995, 0.012112220749258995, 0.012112220749258995, 0.012112220749258995, 0.012112220749258995, 0.012112220749258995, 0.012112220749258995, 0.012112220749258995, 0.012112220749258995, 0.7188665270805359, 0.7188665270805359, 0.36299198865890503, 0.36299198865890503, 0.36299198865890503, 0.36299198865890503, 0.36299198865890503, 0.007117490284144878, 0.007117490284144878, 0.007117490284144878, 0.007117490284144878, 0.007117490284144878, 0.007117490284144878, 0.007117490284144878, 0.007117490284144878, 0.007117490284144878, 0.007117490284144878, 0.007117490284144878, 0.007117490284144878, 0.007117490284144878, 0.007117490284144878, 0.007117490284144878, 0.007117490284144878, 0.007117490284144878, 0.007117490284144878, 0.007117490284144878, 0.007117490284144878, 0.007117490284144878, 0.007117490284144878, 0.007117490284144878, 0.007117490284144878, 0.007117490284144878, 0.007117490284144878, 0.007117490284144878, 0.4572756886482239, 0.4572756886482239, 0.4572756886482239, 0.4572756886482239, 0.4572756886482239, 0.4572756886482239, 0.4572756886482239, 0.008966189809143543, 0.008966189809143543, 0.008966189809143543, 0.008966189809143543, 0.008966189809143543, 0.008966189809143543, 0.008966189809143543, 0.008966189809143543, 0.008966189809143543, 0.008966189809143543, 0.008966189809143543, 0.008966189809143543, 0.008966189809143543, 0.008966189809143543, 0.008966189809143543, 0.008966189809143543, 0.008966189809143543, 0.008966189809143543, 0.008966189809143543, 0.008966189809143543, 0.008966189809143543, 0.008966189809143543, 0.008966189809143543, 0.008966189809143543, 0.008966189809143543, 0.008966189809143543, 0.008966189809143543], \"Term\": [\"lincoln\", \"alabama\", \"film\", \"apollo\", \"agassi\", \"andorra\", \"autism\", \"state\", \"time\", \"year\", \"algeria\", \"anarchism\", \"altruism\", \"anarchist\", \"work\", \"human\", \"know\", \"early\", \"large\", \"french\", \"century\", \"study\", \"use\", \"ascii\", \"war\", \"u.s.\", \"people\", \"country\", \"anthropology\", \"form\", \"anarchist\", \"anarchism\", \"form\", \"apollo\", \"live\", \"aristotle\", \"early\", \"century\", \"use\", \"state\", \"with_autism\", \"war\", \"system\", \"ascii\", \"people\", \"anthropology\", \"altruism\", \"u.s.\", \"know\", \"high\", \"large\", \"work\", \"french\", \"study\", \"human\", \"andorra\", \"country\", \"autism\", \"year\", \"film\", \"time\", \"agassi\", \"alabama\", \"lincoln\", \"ascii\", \"apollo\", \"use\", \"country\", \"system\", \"know\", \"large\", \"lincoln\", \"time\", \"state\", \"alabama\", \"with_autism\", \"war\", \"live\", \"aristotle\", \"people\", \"anthropology\", \"altruism\", \"u.s.\", \"early\", \"century\", \"high\", \"anarchism\", \"work\", \"french\", \"form\", \"study\", \"human\", \"andorra\", \"anarchist\", \"autism\", \"agassi\", \"year\", \"film\", \"anthropology\", \"year\", \"human\", \"study\", \"early\", \"country\", \"film\", \"anarchism\", \"form\", \"anarchist\", \"with_autism\", \"war\", \"live\", \"system\", \"aristotle\", \"ascii\", \"people\", \"altruism\", \"u.s.\", \"century\", \"know\", \"high\", \"large\", \"work\", \"use\", \"french\", \"andorra\", \"autism\", \"algeria\", \"time\", \"state\", \"agassi\", \"alabama\", \"lincoln\", \"altruism\", \"state\", \"agassi\", \"french\", \"alabama\", \"human\", \"with_autism\", \"war\", \"live\", \"system\", \"aristotle\", \"ascii\", \"people\", \"anthropology\", \"u.s.\", \"early\", \"century\", \"know\", \"high\", \"large\", \"anarchism\", \"work\", \"use\", \"form\", \"study\", \"andorra\", \"anarchist\", \"country\", \"autism\", \"year\", \"time\", \"lincoln\", \"film\", \"war\", \"anarchism\", \"with_autism\", \"year\", \"aristotle\", \"people\", \"high\", \"autism\", \"alabama\", \"live\", \"system\", \"ascii\", \"anthropology\", \"altruism\", \"u.s.\", \"early\", \"century\", \"know\", \"large\", \"work\", \"use\", \"french\", \"form\", \"study\", \"human\", \"andorra\", \"anarchist\", \"country\", \"film\", \"algeria\", \"time\", \"state\", \"agassi\", \"lincoln\", \"french\", \"algeria\", \"work\", \"country\", \"live\", \"system\", \"people\", \"large\", \"use\", \"form\", \"anarchist\", \"with_autism\", \"war\", \"aristotle\", \"ascii\", \"anthropology\", \"altruism\", \"u.s.\", \"early\", \"century\", \"know\", \"high\", \"anarchism\", \"study\", \"human\", \"andorra\", \"autism\", \"year\", \"film\", \"time\", \"lincoln\", \"apollo\", \"state\", \"agassi\", \"film\", \"live\", \"high\", \"with_autism\", \"war\", \"system\", \"aristotle\", \"ascii\", \"people\", \"anthropology\", \"altruism\", \"u.s.\", \"early\", \"century\", \"know\", \"large\", \"anarchism\", \"work\", \"use\", \"french\", \"form\", \"study\", \"human\", \"andorra\", \"anarchist\", \"country\", \"autism\", \"year\", \"algeria\", \"time\", \"state\", \"agassi\", \"alabama\", \"lincoln\", \"human\", \"andorra\", \"study\", \"high\", \"anarchist\", \"anthropology\", \"with_autism\", \"war\", \"live\", \"system\", \"aristotle\", \"ascii\", \"people\", \"altruism\", \"u.s.\", \"early\", \"century\", \"know\", \"large\", \"anarchism\", \"work\", \"use\", \"french\", \"form\", \"country\", \"autism\", \"year\", \"film\", \"algeria\", \"time\", \"state\", \"apollo\", \"agassi\", \"alabama\", \"use\", \"french\", \"algeria\", \"system\", \"high\", \"large\", \"form\", \"country\", \"apollo\", \"with_autism\", \"war\", \"live\", \"aristotle\", \"ascii\", \"people\", \"anthropology\", \"altruism\", \"u.s.\", \"early\", \"century\", \"know\", \"anarchism\", \"work\", \"study\", \"human\", \"andorra\", \"anarchist\", \"autism\", \"year\", \"film\", \"state\", \"time\", \"agassi\", \"alabama\", \"lincoln\", \"anthropology\", \"with_autism\", \"study\", \"aristotle\", \"form\", \"autism\", \"system\", \"early\", \"century\", \"know\", \"human\", \"war\", \"live\", \"ascii\", \"people\", \"altruism\", \"u.s.\", \"high\", \"large\", \"anarchism\", \"work\", \"use\", \"french\", \"andorra\", \"anarchist\", \"country\", \"year\", \"film\", \"algeria\", \"time\", \"state\", \"agassi\", \"alabama\", \"lincoln\", \"lincoln\", \"alabama\", \"state\", \"with_autism\", \"war\", \"live\", \"system\", \"aristotle\", \"ascii\", \"people\", \"anthropology\", \"altruism\", \"u.s.\", \"early\", \"century\", \"know\", \"high\", \"large\", \"anarchism\", \"work\", \"use\", \"french\", \"form\", \"study\", \"human\", \"andorra\", \"anarchist\", \"country\", \"autism\", \"year\", \"time\", \"agassi\", \"film\", \"people\", \"u.s.\", \"with_autism\", \"aristotle\", \"agassi\", \"country\", \"autism\", \"time\", \"war\", \"live\", \"system\", \"ascii\", \"anthropology\", \"altruism\", \"early\", \"century\", \"know\", \"high\", \"large\", \"anarchism\", \"work\", \"use\", \"french\", \"form\", \"study\", \"human\", \"andorra\", \"anarchist\", \"year\", \"film\", \"state\", \"alabama\", \"lincoln\", \"time\", \"apollo\", \"system\", \"state\", \"know\", \"high\", \"french\", \"alabama\", \"with_autism\", \"war\", \"live\", \"aristotle\", \"ascii\", \"people\", \"anthropology\", \"altruism\", \"u.s.\", \"early\", \"century\", \"large\", \"anarchism\", \"work\", \"use\", \"form\", \"study\", \"human\", \"andorra\", \"anarchist\", \"country\", \"autism\", \"agassi\", \"year\", \"lincoln\", \"film\", \"time\", \"algeria\", \"system\", \"alabama\", \"state\", \"study\", \"country\", \"year\", \"with_autism\", \"war\", \"live\", \"aristotle\", \"ascii\", \"people\", \"anthropology\", \"altruism\", \"u.s.\", \"early\", \"century\", \"know\", \"high\", \"large\", \"anarchism\", \"work\", \"use\", \"french\", \"form\", \"human\", \"andorra\", \"anarchist\", \"autism\", \"agassi\", \"lincoln\", \"film\", \"lincoln\", \"know\", \"large\", \"work\", \"use\", \"country\", \"with_autism\", \"war\", \"live\", \"system\", \"aristotle\", \"ascii\", \"people\", \"anthropology\", \"altruism\", \"u.s.\", \"early\", \"century\", \"high\", \"anarchism\", \"french\", \"form\", \"study\", \"human\", \"andorra\", \"anarchist\", \"autism\", \"year\", \"film\", \"algeria\", \"state\", \"time\", \"agassi\", \"alabama\", \"agassi\", \"autism\", \"system\", \"know\", \"large\", \"study\", \"human\", \"time\", \"with_autism\", \"war\", \"live\", \"aristotle\", \"ascii\", \"people\", \"anthropology\", \"altruism\", \"u.s.\", \"early\", \"century\", \"high\", \"anarchism\", \"work\", \"use\", \"french\", \"form\", \"andorra\", \"anarchist\", \"country\", \"year\", \"film\", \"state\", \"alabama\", \"lincoln\", \"alabama\", \"u.s.\", \"time\", \"agassi\", \"with_autism\", \"war\", \"live\", \"system\", \"aristotle\", \"ascii\", \"people\", \"anthropology\", \"altruism\", \"early\", \"century\", \"know\", \"high\", \"large\", \"anarchism\", \"work\", \"use\", \"french\", \"form\", \"study\", \"human\", \"andorra\", \"anarchist\", \"country\", \"autism\", \"year\", \"state\", \"lincoln\", \"film\", \"large\", \"algeria\", \"aristotle\", \"century\", \"form\", \"study\", \"alabama\", \"with_autism\", \"war\", \"live\", \"system\", \"ascii\", \"people\", \"anthropology\", \"altruism\", \"u.s.\", \"early\", \"know\", \"high\", \"anarchism\", \"work\", \"use\", \"french\", \"human\", \"andorra\", \"anarchist\", \"country\", \"autism\", \"year\", \"film\", \"state\", \"time\", \"agassi\", \"lincoln\", \"u.s.\", \"lincoln\", \"year\", \"war\", \"country\", \"film\", \"with_autism\", \"live\", \"system\", \"aristotle\", \"ascii\", \"people\", \"anthropology\", \"altruism\", \"early\", \"century\", \"know\", \"high\", \"large\", \"anarchism\", \"work\", \"use\", \"french\", \"form\", \"study\", \"human\", \"andorra\", \"anarchist\", \"autism\", \"algeria\", \"time\", \"state\", \"agassi\", \"alabama\", \"with_autism\", \"anarchist\", \"high\", \"study\", \"andorra\", \"autism\", \"time\", \"war\", \"live\", \"system\", \"aristotle\", \"ascii\", \"people\", \"anthropology\", \"altruism\", \"u.s.\", \"early\", \"century\", \"know\", \"large\", \"anarchism\", \"work\", \"use\", \"french\", \"form\", \"human\", \"country\", \"year\", \"film\", \"algeria\", \"state\", \"apollo\", \"agassi\", \"alabama\", \"aristotle\", \"film\", \"with_autism\", \"autism\", \"live\", \"form\", \"war\", \"system\", \"ascii\", \"people\", \"anthropology\", \"altruism\", \"u.s.\", \"early\", \"century\", \"know\", \"high\", \"large\", \"anarchism\", \"work\", \"use\", \"french\", \"study\", \"human\", \"andorra\", \"anarchist\", \"country\", \"year\", \"algeria\", \"time\", \"state\", \"agassi\", \"alabama\", \"lincoln\", \"century\", \"u.s.\", \"early\", \"high\", \"work\", \"anarchist\", \"state\", \"alabama\", \"with_autism\", \"war\", \"live\", \"system\", \"aristotle\", \"ascii\", \"people\", \"anthropology\", \"altruism\", \"know\", \"large\", \"anarchism\", \"use\", \"french\", \"form\", \"study\", \"human\", \"andorra\", \"country\", \"autism\", \"year\", \"film\", \"time\", \"agassi\", \"lincoln\", \"century\", \"work\", \"lincoln\", \"country\", \"with_autism\", \"war\", \"live\", \"system\", \"aristotle\", \"ascii\", \"people\", \"anthropology\", \"altruism\", \"u.s.\", \"early\", \"know\", \"high\", \"large\", \"anarchism\", \"use\", \"french\", \"form\", \"study\", \"human\", \"andorra\", \"anarchist\", \"autism\", \"year\", \"film\", \"algeria\", \"state\", \"time\", \"agassi\", \"alabama\", \"agassi\", \"system\", \"high\", \"use\", \"french\", \"autism\", \"year\", \"with_autism\", \"war\", \"live\", \"aristotle\", \"ascii\", \"people\", \"anthropology\", \"altruism\", \"u.s.\", \"early\", \"century\", \"know\", \"large\", \"anarchism\", \"work\", \"form\", \"study\", \"human\", \"andorra\", \"anarchist\", \"country\", \"film\", \"algeria\", \"time\", \"state\", \"alabama\", \"lincoln\", \"use\", \"state\", \"alabama\", \"with_autism\", \"war\", \"live\", \"system\", \"aristotle\", \"ascii\", \"people\", \"anthropology\", \"altruism\", \"u.s.\", \"early\", \"century\", \"know\", \"high\", \"large\", \"anarchism\", \"work\", \"french\", \"form\", \"study\", \"human\", \"andorra\", \"anarchist\", \"country\", \"autism\", \"year\", \"film\", \"time\", \"agassi\", \"lincoln\", \"anthropology\", \"form\", \"year\", \"u.s.\", \"early\", \"lincoln\", \"with_autism\", \"war\", \"live\", \"system\", \"aristotle\", \"ascii\", \"people\", \"altruism\", \"century\", \"know\", \"high\", \"large\", \"anarchism\", \"work\", \"use\", \"french\", \"study\", \"human\", \"andorra\", \"anarchist\", \"country\", \"autism\", \"film\", \"algeria\", \"state\", \"time\", \"agassi\", \"alabama\", \"know\", \"algeria\", \"high\", \"large\", \"anarchism\", \"andorra\", \"country\", \"state\", \"with_autism\", \"war\", \"live\", \"system\", \"aristotle\", \"ascii\", \"people\", \"anthropology\", \"altruism\", \"u.s.\", \"early\", \"century\", \"work\", \"use\", \"french\", \"form\", \"study\", \"human\", \"anarchist\", \"autism\", \"year\", \"film\", \"apollo\", \"time\", \"agassi\", \"alabama\", \"work\", \"know\", \"andorra\", \"time\", \"with_autism\", \"war\", \"live\", \"system\", \"aristotle\", \"ascii\", \"people\", \"anthropology\", \"altruism\", \"u.s.\", \"early\", \"century\", \"high\", \"large\", \"anarchism\", \"use\", \"french\", \"form\", \"study\", \"human\", \"anarchist\", \"country\", \"autism\", \"year\", \"film\", \"algeria\", \"state\", \"agassi\", \"apollo\", \"lincoln\", \"french\", \"algeria\", \"war\", \"agassi\", \"people\", \"country\", \"with_autism\", \"live\", \"system\", \"aristotle\", \"ascii\", \"anthropology\", \"altruism\", \"u.s.\", \"early\", \"century\", \"know\", \"high\", \"large\", \"anarchism\", \"work\", \"use\", \"form\", \"study\", \"human\", \"andorra\", \"anarchist\", \"autism\", \"year\", \"film\", \"state\", \"time\", \"alabama\", \"lincoln\", \"autism\", \"with_autism\", \"war\", \"live\", \"system\", \"aristotle\", \"ascii\", \"people\", \"anthropology\", \"altruism\", \"u.s.\", \"early\", \"century\", \"know\", \"high\", \"large\", \"anarchism\", \"work\", \"use\", \"french\", \"form\", \"study\", \"human\", \"andorra\", \"anarchist\", \"country\", \"year\", \"film\", \"algeria\", \"time\", \"state\", \"agassi\", \"apollo\", \"lincoln\", \"live\", \"autism\", \"ascii\", \"form\", \"andorra\", \"year\", \"algeria\", \"state\", \"with_autism\", \"war\", \"system\", \"aristotle\", \"people\", \"anthropology\", \"altruism\", \"u.s.\", \"early\", \"century\", \"know\", \"high\", \"large\", \"anarchism\", \"work\", \"use\", \"french\", \"study\", \"human\", \"anarchist\", \"country\", \"film\", \"time\", \"agassi\", \"alabama\", \"lincoln\", \"altruism\", \"ascii\", \"agassi\", \"work\", \"form\", \"with_autism\", \"war\", \"live\", \"system\", \"aristotle\", \"people\", \"anthropology\", \"u.s.\", \"early\", \"century\", \"know\", \"high\", \"large\", \"anarchism\", \"use\", \"french\", \"study\", \"human\", \"andorra\", \"anarchist\", \"country\", \"autism\", \"year\", \"film\", \"algeria\", \"state\", \"time\", \"alabama\", \"lincoln\", \"ascii\", \"people\", \"work\", \"use\", \"with_autism\", \"war\", \"live\", \"system\", \"aristotle\", \"anthropology\", \"altruism\", \"u.s.\", \"early\", \"century\", \"know\", \"high\", \"large\", \"anarchism\", \"french\", \"form\", \"study\", \"human\", \"andorra\", \"anarchist\", \"country\", \"autism\", \"year\", \"film\", \"algeria\", \"time\", \"state\", \"agassi\", \"alabama\", \"lincoln\", \"early\", \"century\", \"time\", \"with_autism\", \"war\", \"live\", \"system\", \"aristotle\", \"ascii\", \"people\", \"anthropology\", \"altruism\", \"u.s.\", \"know\", \"high\", \"large\", \"anarchism\", \"work\", \"use\", \"french\", \"form\", \"study\", \"human\", \"andorra\", \"anarchist\", \"country\", \"autism\", \"year\", \"film\", \"algeria\", \"state\", \"agassi\", \"apollo\", \"lincoln\", \"early\", \"andorra\", \"with_autism\", \"war\", \"live\", \"system\", \"aristotle\", \"ascii\", \"people\", \"anthropology\", \"altruism\", \"u.s.\", \"century\", \"know\", \"high\", \"large\", \"anarchism\", \"work\", \"use\", \"french\", \"form\", \"study\", \"human\", \"anarchist\", \"country\", \"autism\", \"year\", \"film\", \"algeria\", \"time\", \"state\", \"agassi\", \"apollo\", \"lincoln\", \"lincoln\", \"anthropology\", \"form\", \"study\", \"human\", \"state\", \"with_autism\", \"war\", \"live\", \"system\", \"aristotle\", \"ascii\", \"people\", \"altruism\", \"u.s.\", \"early\", \"century\", \"know\", \"high\", \"large\", \"anarchism\", \"work\", \"use\", \"french\", \"andorra\", \"anarchist\", \"country\", \"autism\", \"year\", \"film\", \"time\", \"agassi\", \"alabama\", \"apollo\", \"human\", \"year\", \"anthropology\", \"century\", \"study\", \"country\", \"film\", \"with_autism\", \"war\", \"live\", \"system\", \"aristotle\", \"ascii\", \"people\", \"altruism\", \"u.s.\", \"early\", \"know\", \"high\", \"large\", \"anarchism\", \"work\", \"use\", \"french\", \"form\", \"andorra\", \"anarchist\", \"autism\", \"algeria\", \"state\", \"time\", \"agassi\", \"alabama\", \"lincoln\", \"u.s.\", \"early\", \"country\", \"year\", \"film\", \"lincoln\", \"with_autism\", \"war\", \"live\", \"system\", \"aristotle\", \"ascii\", \"people\", \"anthropology\", \"altruism\", \"century\", \"know\", \"high\", \"large\", \"anarchism\", \"work\", \"use\", \"french\", \"form\", \"study\", \"human\", \"andorra\", \"anarchist\", \"autism\", \"algeria\", \"time\", \"state\", \"agassi\", \"alabama\", \"system\", \"ascii\", \"early\", \"anarchism\", \"alabama\", \"apollo\", \"state\", \"with_autism\", \"war\", \"live\", \"aristotle\", \"people\", \"anthropology\", \"altruism\", \"u.s.\", \"century\", \"know\", \"high\", \"large\", \"work\", \"use\", \"french\", \"form\", \"study\", \"human\", \"andorra\", \"anarchist\", \"country\", \"autism\", \"year\", \"time\", \"agassi\", \"lincoln\", \"film\", \"andorra\", \"work\", \"algeria\", \"system\", \"alabama\", \"lincoln\", \"century\", \"french\", \"agassi\", \"with_autism\", \"war\", \"live\", \"aristotle\", \"ascii\", \"people\", \"anthropology\", \"altruism\", \"u.s.\", \"early\", \"know\", \"high\", \"large\", \"anarchism\", \"use\", \"form\", \"study\", \"human\", \"anarchist\", \"country\", \"autism\", \"time\", \"state\", \"year\", \"film\", \"war\", \"live\", \"state\", \"apollo\", \"people\", \"early\", \"century\", \"form\", \"alabama\", \"lincoln\", \"with_autism\", \"system\", \"aristotle\", \"ascii\", \"anthropology\", \"altruism\", \"u.s.\", \"know\", \"high\", \"large\", \"anarchism\", \"work\", \"use\", \"french\", \"study\", \"human\", \"andorra\", \"anarchist\", \"country\", \"autism\", \"time\", \"agassi\", \"year\", \"film\", \"u.s.\", \"anarchism\", \"french\", \"anarchist\", \"apollo\", \"state\", \"with_autism\", \"war\", \"live\", \"system\", \"aristotle\", \"ascii\", \"people\", \"anthropology\", \"altruism\", \"early\", \"century\", \"know\", \"high\", \"large\", \"work\", \"use\", \"form\", \"study\", \"human\", \"andorra\", \"country\", \"autism\", \"year\", \"film\", \"time\", \"agassi\", \"alabama\", \"lincoln\", \"people\", \"with_autism\", \"apollo\", \"time\", \"lincoln\", \"live\", \"know\", \"high\", \"use\", \"study\", \"autism\", \"war\", \"system\", \"aristotle\", \"ascii\", \"anthropology\", \"altruism\", \"u.s.\", \"early\", \"century\", \"large\", \"anarchism\", \"work\", \"french\", \"form\", \"human\", \"andorra\", \"anarchist\", \"country\", \"year\", \"state\", \"agassi\", \"alabama\", \"film\", \"altruism\", \"know\", \"large\", \"with_autism\", \"war\", \"live\", \"system\", \"aristotle\", \"ascii\", \"people\", \"anthropology\", \"u.s.\", \"early\", \"century\", \"high\", \"anarchism\", \"work\", \"use\", \"french\", \"form\", \"study\", \"human\", \"andorra\", \"anarchist\", \"country\", \"autism\", \"year\", \"film\", \"algeria\", \"time\", \"state\", \"agassi\", \"alabama\", \"lincoln\", \"study\", \"andorra\", \"year\", \"with_autism\", \"war\", \"live\", \"system\", \"aristotle\", \"ascii\", \"people\", \"anthropology\", \"altruism\", \"u.s.\", \"early\", \"century\", \"know\", \"high\", \"large\", \"anarchism\", \"work\", \"use\", \"french\", \"form\", \"human\", \"anarchist\", \"country\", \"autism\", \"film\", \"algeria\", \"time\", \"state\", \"agassi\", \"alabama\", \"lincoln\", \"with_autism\", \"century\", \"people\", \"altruism\", \"early\", \"know\", \"work\", \"french\", \"human\", \"anarchist\", \"autism\", \"algeria\", \"time\", \"apollo\", \"war\", \"live\", \"system\", \"aristotle\", \"ascii\", \"anthropology\", \"u.s.\", \"high\", \"large\", \"anarchism\", \"use\", \"form\", \"study\", \"andorra\", \"country\", \"year\", \"state\", \"agassi\", \"alabama\", \"lincoln\", \"film\", \"anarchism\", \"andorra\", \"live\", \"apollo\", \"u.s.\", \"form\", \"anarchist\", \"lincoln\", \"with_autism\", \"war\", \"system\", \"aristotle\", \"ascii\", \"people\", \"anthropology\", \"altruism\", \"early\", \"century\", \"know\", \"high\", \"large\", \"work\", \"use\", \"french\", \"study\", \"human\", \"country\", \"autism\", \"year\", \"state\", \"time\", \"agassi\", \"alabama\", \"large\", \"french\", \"agassi\", \"state\", \"alabama\", \"with_autism\", \"war\", \"live\", \"system\", \"aristotle\", \"ascii\", \"people\", \"anthropology\", \"altruism\", \"u.s.\", \"early\", \"century\", \"know\", \"high\", \"anarchism\", \"work\", \"use\", \"form\", \"study\", \"human\", \"andorra\", \"anarchist\", \"country\", \"autism\", \"year\", \"time\", \"lincoln\", \"film\", \"war\", \"anarchism\", \"large\", \"country\", \"algeria\", \"time\", \"lincoln\", \"with_autism\", \"live\", \"system\", \"aristotle\", \"ascii\", \"people\", \"anthropology\", \"altruism\", \"u.s.\", \"early\", \"century\", \"know\", \"high\", \"work\", \"use\", \"french\", \"form\", \"study\", \"human\", \"andorra\", \"anarchist\", \"autism\", \"year\", \"state\", \"agassi\", \"alabama\", \"film\", \"live\", \"anthropology\", \"altruism\", \"work\", \"study\", \"country\", \"algeria\", \"with_autism\", \"war\", \"system\", \"aristotle\", \"ascii\", \"people\", \"u.s.\", \"early\", \"century\", \"know\", \"high\", \"large\", \"anarchism\", \"use\", \"french\", \"form\", \"human\", \"andorra\", \"anarchist\", \"autism\", \"year\", \"film\", \"time\", \"state\", \"agassi\", \"alabama\", \"lincoln\"], \"Total\": [31.0, 30.0, 19.0, 22.0, 21.0, 16.0, 18.0, 23.0, 20.0, 18.0, 19.0, 14.0, 11.0, 17.0, 14.0, 16.0, 13.0, 12.0, 13.0, 15.0, 13.0, 15.0, 15.0, 11.0, 9.0, 12.0, 11.0, 17.0, 11.0, 15.0, 17.258554458618164, 14.1713228225708, 15.307319641113281, 22.80393409729004, 9.94879150390625, 10.469168663024902, 12.986859321594238, 13.068882942199707, 15.03869342803955, 23.869890213012695, 8.163429260253906, 9.886680603027344, 10.332686424255371, 11.562122344970703, 11.598068237304688, 11.667020797729492, 11.743898391723633, 12.433981895446777, 13.181313514709473, 13.409120559692383, 13.613838195800781, 14.87150764465332, 15.184656143188477, 15.556283950805664, 16.459688186645508, 16.530656814575195, 17.64374542236328, 18.067171096801758, 18.938364028930664, 19.333740234375, 20.229610443115234, 21.364168167114258, 30.81930923461914, 31.078805923461914, 11.562122344970703, 22.80393409729004, 15.03869342803955, 17.64374542236328, 10.332686424255371, 13.181313514709473, 13.613838195800781, 31.078805923461914, 20.229610443115234, 23.869890213012695, 30.81930923461914, 8.163429260253906, 9.886680603027344, 9.94879150390625, 10.469168663024902, 11.598068237304688, 11.667020797729492, 11.743898391723633, 12.433981895446777, 12.986859321594238, 13.068882942199707, 13.409120559692383, 14.1713228225708, 14.87150764465332, 15.184656143188477, 15.307319641113281, 15.556283950805664, 16.459688186645508, 16.530656814575195, 17.258554458618164, 18.067171096801758, 21.364168167114258, 18.938364028930664, 19.333740234375, 11.667020797729492, 18.938364028930664, 16.459688186645508, 15.556283950805664, 12.986859321594238, 17.64374542236328, 19.333740234375, 14.1713228225708, 15.307319641113281, 17.258554458618164, 8.163429260253906, 9.886680603027344, 9.94879150390625, 10.332686424255371, 10.469168663024902, 11.562122344970703, 11.598068237304688, 11.743898391723633, 12.433981895446777, 13.068882942199707, 13.181313514709473, 13.409120559692383, 13.613838195800781, 14.87150764465332, 15.03869342803955, 15.184656143188477, 16.530656814575195, 18.067171096801758, 19.407787322998047, 20.229610443115234, 23.869890213012695, 21.364168167114258, 30.81930923461914, 31.078805923461914, 11.743898391723633, 23.869890213012695, 21.364168167114258, 15.184656143188477, 30.81930923461914, 16.459688186645508, 8.163429260253906, 9.886680603027344, 9.94879150390625, 10.332686424255371, 10.469168663024902, 11.562122344970703, 11.598068237304688, 11.667020797729492, 12.433981895446777, 12.986859321594238, 13.068882942199707, 13.181313514709473, 13.409120559692383, 13.613838195800781, 14.1713228225708, 14.87150764465332, 15.03869342803955, 15.307319641113281, 15.556283950805664, 16.530656814575195, 17.258554458618164, 17.64374542236328, 18.067171096801758, 18.938364028930664, 20.229610443115234, 31.078805923461914, 19.333740234375, 9.886680603027344, 14.1713228225708, 8.163429260253906, 18.938364028930664, 10.469168663024902, 11.598068237304688, 13.409120559692383, 18.067171096801758, 30.81930923461914, 9.94879150390625, 10.332686424255371, 11.562122344970703, 11.667020797729492, 11.743898391723633, 12.433981895446777, 12.986859321594238, 13.068882942199707, 13.181313514709473, 13.613838195800781, 14.87150764465332, 15.03869342803955, 15.184656143188477, 15.307319641113281, 15.556283950805664, 16.459688186645508, 16.530656814575195, 17.258554458618164, 17.64374542236328, 19.333740234375, 19.407787322998047, 20.229610443115234, 23.869890213012695, 21.364168167114258, 31.078805923461914, 15.184656143188477, 19.407787322998047, 14.87150764465332, 17.64374542236328, 9.94879150390625, 10.332686424255371, 11.598068237304688, 13.613838195800781, 15.03869342803955, 15.307319641113281, 17.258554458618164, 8.163429260253906, 9.886680603027344, 10.469168663024902, 11.562122344970703, 11.667020797729492, 11.743898391723633, 12.433981895446777, 12.986859321594238, 13.068882942199707, 13.181313514709473, 13.409120559692383, 14.1713228225708, 15.556283950805664, 16.459688186645508, 16.530656814575195, 18.067171096801758, 18.938364028930664, 19.333740234375, 20.229610443115234, 31.078805923461914, 22.80393409729004, 23.869890213012695, 21.364168167114258, 19.333740234375, 9.94879150390625, 13.409120559692383, 8.163429260253906, 9.886680603027344, 10.332686424255371, 10.469168663024902, 11.562122344970703, 11.598068237304688, 11.667020797729492, 11.743898391723633, 12.433981895446777, 12.986859321594238, 13.068882942199707, 13.181313514709473, 13.613838195800781, 14.1713228225708, 14.87150764465332, 15.03869342803955, 15.184656143188477, 15.307319641113281, 15.556283950805664, 16.459688186645508, 16.530656814575195, 17.258554458618164, 17.64374542236328, 18.067171096801758, 18.938364028930664, 19.407787322998047, 20.229610443115234, 23.869890213012695, 21.364168167114258, 30.81930923461914, 31.078805923461914, 16.459688186645508, 16.530656814575195, 15.556283950805664, 13.409120559692383, 17.258554458618164, 11.667020797729492, 8.163429260253906, 9.886680603027344, 9.94879150390625, 10.332686424255371, 10.469168663024902, 11.562122344970703, 11.598068237304688, 11.743898391723633, 12.433981895446777, 12.986859321594238, 13.068882942199707, 13.181313514709473, 13.613838195800781, 14.1713228225708, 14.87150764465332, 15.03869342803955, 15.184656143188477, 15.307319641113281, 17.64374542236328, 18.067171096801758, 18.938364028930664, 19.333740234375, 19.407787322998047, 20.229610443115234, 23.869890213012695, 22.80393409729004, 21.364168167114258, 30.81930923461914, 15.03869342803955, 15.184656143188477, 19.407787322998047, 10.332686424255371, 13.409120559692383, 13.613838195800781, 15.307319641113281, 17.64374542236328, 22.80393409729004, 8.163429260253906, 9.886680603027344, 9.94879150390625, 10.469168663024902, 11.562122344970703, 11.598068237304688, 11.667020797729492, 11.743898391723633, 12.433981895446777, 12.986859321594238, 13.068882942199707, 13.181313514709473, 14.1713228225708, 14.87150764465332, 15.556283950805664, 16.459688186645508, 16.530656814575195, 17.258554458618164, 18.067171096801758, 18.938364028930664, 19.333740234375, 23.869890213012695, 20.229610443115234, 21.364168167114258, 30.81930923461914, 31.078805923461914, 11.667020797729492, 8.163429260253906, 15.556283950805664, 10.469168663024902, 15.307319641113281, 18.067171096801758, 10.332686424255371, 12.986859321594238, 13.068882942199707, 13.181313514709473, 16.459688186645508, 9.886680603027344, 9.94879150390625, 11.562122344970703, 11.598068237304688, 11.743898391723633, 12.433981895446777, 13.409120559692383, 13.613838195800781, 14.1713228225708, 14.87150764465332, 15.03869342803955, 15.184656143188477, 16.530656814575195, 17.258554458618164, 17.64374542236328, 18.938364028930664, 19.333740234375, 19.407787322998047, 20.229610443115234, 23.869890213012695, 21.364168167114258, 30.81930923461914, 31.078805923461914, 31.078805923461914, 30.81930923461914, 23.869890213012695, 8.163429260253906, 9.886680603027344, 9.94879150390625, 10.332686424255371, 10.469168663024902, 11.562122344970703, 11.598068237304688, 11.667020797729492, 11.743898391723633, 12.433981895446777, 12.986859321594238, 13.068882942199707, 13.181313514709473, 13.409120559692383, 13.613838195800781, 14.1713228225708, 14.87150764465332, 15.03869342803955, 15.184656143188477, 15.307319641113281, 15.556283950805664, 16.459688186645508, 16.530656814575195, 17.258554458618164, 17.64374542236328, 18.067171096801758, 18.938364028930664, 20.229610443115234, 21.364168167114258, 19.333740234375, 11.598068237304688, 12.433981895446777, 8.163429260253906, 10.469168663024902, 21.364168167114258, 17.64374542236328, 18.067171096801758, 20.229610443115234, 9.886680603027344, 9.94879150390625, 10.332686424255371, 11.562122344970703, 11.667020797729492, 11.743898391723633, 12.986859321594238, 13.068882942199707, 13.181313514709473, 13.409120559692383, 13.613838195800781, 14.1713228225708, 14.87150764465332, 15.03869342803955, 15.184656143188477, 15.307319641113281, 15.556283950805664, 16.459688186645508, 16.530656814575195, 17.258554458618164, 18.938364028930664, 19.333740234375, 23.869890213012695, 30.81930923461914, 31.078805923461914, 20.229610443115234, 22.80393409729004, 10.332686424255371, 23.869890213012695, 13.181313514709473, 13.409120559692383, 15.184656143188477, 30.81930923461914, 8.163429260253906, 9.886680603027344, 9.94879150390625, 10.469168663024902, 11.562122344970703, 11.598068237304688, 11.667020797729492, 11.743898391723633, 12.433981895446777, 12.986859321594238, 13.068882942199707, 13.613838195800781, 14.1713228225708, 14.87150764465332, 15.03869342803955, 15.307319641113281, 15.556283950805664, 16.459688186645508, 16.530656814575195, 17.258554458618164, 17.64374542236328, 18.067171096801758, 21.364168167114258, 18.938364028930664, 31.078805923461914, 19.333740234375, 20.229610443115234, 19.407787322998047, 10.332686424255371, 30.81930923461914, 23.869890213012695, 15.556283950805664, 17.64374542236328, 18.938364028930664, 8.163429260253906, 9.886680603027344, 9.94879150390625, 10.469168663024902, 11.562122344970703, 11.598068237304688, 11.667020797729492, 11.743898391723633, 12.433981895446777, 12.986859321594238, 13.068882942199707, 13.181313514709473, 13.409120559692383, 13.613838195800781, 14.1713228225708, 14.87150764465332, 15.03869342803955, 15.184656143188477, 15.307319641113281, 16.459688186645508, 16.530656814575195, 17.258554458618164, 18.067171096801758, 21.364168167114258, 31.078805923461914, 19.333740234375, 31.078805923461914, 13.181313514709473, 13.613838195800781, 14.87150764465332, 15.03869342803955, 17.64374542236328, 8.163429260253906, 9.886680603027344, 9.94879150390625, 10.332686424255371, 10.469168663024902, 11.562122344970703, 11.598068237304688, 11.667020797729492, 11.743898391723633, 12.433981895446777, 12.986859321594238, 13.068882942199707, 13.409120559692383, 14.1713228225708, 15.184656143188477, 15.307319641113281, 15.556283950805664, 16.459688186645508, 16.530656814575195, 17.258554458618164, 18.067171096801758, 18.938364028930664, 19.333740234375, 19.407787322998047, 23.869890213012695, 20.229610443115234, 21.364168167114258, 30.81930923461914, 21.364168167114258, 18.067171096801758, 10.332686424255371, 13.181313514709473, 13.613838195800781, 15.556283950805664, 16.459688186645508, 20.229610443115234, 8.163429260253906, 9.886680603027344, 9.94879150390625, 10.469168663024902, 11.562122344970703, 11.598068237304688, 11.667020797729492, 11.743898391723633, 12.433981895446777, 12.986859321594238, 13.068882942199707, 13.409120559692383, 14.1713228225708, 14.87150764465332, 15.03869342803955, 15.184656143188477, 15.307319641113281, 16.530656814575195, 17.258554458618164, 17.64374542236328, 18.938364028930664, 19.333740234375, 23.869890213012695, 30.81930923461914, 31.078805923461914, 30.81930923461914, 12.433981895446777, 20.229610443115234, 21.364168167114258, 8.163429260253906, 9.886680603027344, 9.94879150390625, 10.332686424255371, 10.469168663024902, 11.562122344970703, 11.598068237304688, 11.667020797729492, 11.743898391723633, 12.986859321594238, 13.068882942199707, 13.181313514709473, 13.409120559692383, 13.613838195800781, 14.1713228225708, 14.87150764465332, 15.03869342803955, 15.184656143188477, 15.307319641113281, 15.556283950805664, 16.459688186645508, 16.530656814575195, 17.258554458618164, 17.64374542236328, 18.067171096801758, 18.938364028930664, 23.869890213012695, 31.078805923461914, 19.333740234375, 13.613838195800781, 19.407787322998047, 10.469168663024902, 13.068882942199707, 15.307319641113281, 15.556283950805664, 30.81930923461914, 8.163429260253906, 9.886680603027344, 9.94879150390625, 10.332686424255371, 11.562122344970703, 11.598068237304688, 11.667020797729492, 11.743898391723633, 12.433981895446777, 12.986859321594238, 13.181313514709473, 13.409120559692383, 14.1713228225708, 14.87150764465332, 15.03869342803955, 15.184656143188477, 16.459688186645508, 16.530656814575195, 17.258554458618164, 17.64374542236328, 18.067171096801758, 18.938364028930664, 19.333740234375, 23.869890213012695, 20.229610443115234, 21.364168167114258, 31.078805923461914, 12.433981895446777, 31.078805923461914, 18.938364028930664, 9.886680603027344, 17.64374542236328, 19.333740234375, 8.163429260253906, 9.94879150390625, 10.332686424255371, 10.469168663024902, 11.562122344970703, 11.598068237304688, 11.667020797729492, 11.743898391723633, 12.986859321594238, 13.068882942199707, 13.181313514709473, 13.409120559692383, 13.613838195800781, 14.1713228225708, 14.87150764465332, 15.03869342803955, 15.184656143188477, 15.307319641113281, 15.556283950805664, 16.459688186645508, 16.530656814575195, 17.258554458618164, 18.067171096801758, 19.407787322998047, 20.229610443115234, 23.869890213012695, 21.364168167114258, 30.81930923461914, 8.163429260253906, 17.258554458618164, 13.409120559692383, 15.556283950805664, 16.530656814575195, 18.067171096801758, 20.229610443115234, 9.886680603027344, 9.94879150390625, 10.332686424255371, 10.469168663024902, 11.562122344970703, 11.598068237304688, 11.667020797729492, 11.743898391723633, 12.433981895446777, 12.986859321594238, 13.068882942199707, 13.181313514709473, 13.613838195800781, 14.1713228225708, 14.87150764465332, 15.03869342803955, 15.184656143188477, 15.307319641113281, 16.459688186645508, 17.64374542236328, 18.938364028930664, 19.333740234375, 19.407787322998047, 23.869890213012695, 22.80393409729004, 21.364168167114258, 30.81930923461914, 10.469168663024902, 19.333740234375, 8.163429260253906, 18.067171096801758, 9.94879150390625, 15.307319641113281, 9.886680603027344, 10.332686424255371, 11.562122344970703, 11.598068237304688, 11.667020797729492, 11.743898391723633, 12.433981895446777, 12.986859321594238, 13.068882942199707, 13.181313514709473, 13.409120559692383, 13.613838195800781, 14.1713228225708, 14.87150764465332, 15.03869342803955, 15.184656143188477, 15.556283950805664, 16.459688186645508, 16.530656814575195, 17.258554458618164, 17.64374542236328, 18.938364028930664, 19.407787322998047, 20.229610443115234, 23.869890213012695, 21.364168167114258, 30.81930923461914, 31.078805923461914, 13.068882942199707, 12.433981895446777, 12.986859321594238, 13.409120559692383, 14.87150764465332, 17.258554458618164, 23.869890213012695, 30.81930923461914, 8.163429260253906, 9.886680603027344, 9.94879150390625, 10.332686424255371, 10.469168663024902, 11.562122344970703, 11.598068237304688, 11.667020797729492, 11.743898391723633, 13.181313514709473, 13.613838195800781, 14.1713228225708, 15.03869342803955, 15.184656143188477, 15.307319641113281, 15.556283950805664, 16.459688186645508, 16.530656814575195, 17.64374542236328, 18.067171096801758, 18.938364028930664, 19.333740234375, 20.229610443115234, 21.364168167114258, 31.078805923461914, 13.068882942199707, 14.87150764465332, 31.078805923461914, 17.64374542236328, 8.163429260253906, 9.886680603027344, 9.94879150390625, 10.332686424255371, 10.469168663024902, 11.562122344970703, 11.598068237304688, 11.667020797729492, 11.743898391723633, 12.433981895446777, 12.986859321594238, 13.181313514709473, 13.409120559692383, 13.613838195800781, 14.1713228225708, 15.03869342803955, 15.184656143188477, 15.307319641113281, 15.556283950805664, 16.459688186645508, 16.530656814575195, 17.258554458618164, 18.067171096801758, 18.938364028930664, 19.333740234375, 19.407787322998047, 23.869890213012695, 20.229610443115234, 21.364168167114258, 30.81930923461914, 21.364168167114258, 10.332686424255371, 13.409120559692383, 15.03869342803955, 15.184656143188477, 18.067171096801758, 18.938364028930664, 8.163429260253906, 9.886680603027344, 9.94879150390625, 10.469168663024902, 11.562122344970703, 11.598068237304688, 11.667020797729492, 11.743898391723633, 12.433981895446777, 12.986859321594238, 13.068882942199707, 13.181313514709473, 13.613838195800781, 14.1713228225708, 14.87150764465332, 15.307319641113281, 15.556283950805664, 16.459688186645508, 16.530656814575195, 17.258554458618164, 17.64374542236328, 19.333740234375, 19.407787322998047, 20.229610443115234, 23.869890213012695, 30.81930923461914, 31.078805923461914, 15.03869342803955, 23.869890213012695, 30.81930923461914, 8.163429260253906, 9.886680603027344, 9.94879150390625, 10.332686424255371, 10.469168663024902, 11.562122344970703, 11.598068237304688, 11.667020797729492, 11.743898391723633, 12.433981895446777, 12.986859321594238, 13.068882942199707, 13.181313514709473, 13.409120559692383, 13.613838195800781, 14.1713228225708, 14.87150764465332, 15.184656143188477, 15.307319641113281, 15.556283950805664, 16.459688186645508, 16.530656814575195, 17.258554458618164, 17.64374542236328, 18.067171096801758, 18.938364028930664, 19.333740234375, 20.229610443115234, 21.364168167114258, 31.078805923461914, 11.667020797729492, 15.307319641113281, 18.938364028930664, 12.433981895446777, 12.986859321594238, 31.078805923461914, 8.163429260253906, 9.886680603027344, 9.94879150390625, 10.332686424255371, 10.469168663024902, 11.562122344970703, 11.598068237304688, 11.743898391723633, 13.068882942199707, 13.181313514709473, 13.409120559692383, 13.613838195800781, 14.1713228225708, 14.87150764465332, 15.03869342803955, 15.184656143188477, 15.556283950805664, 16.459688186645508, 16.530656814575195, 17.258554458618164, 17.64374542236328, 18.067171096801758, 19.333740234375, 19.407787322998047, 23.869890213012695, 20.229610443115234, 21.364168167114258, 30.81930923461914, 13.181313514709473, 19.407787322998047, 13.409120559692383, 13.613838195800781, 14.1713228225708, 16.530656814575195, 17.64374542236328, 23.869890213012695, 8.163429260253906, 9.886680603027344, 9.94879150390625, 10.332686424255371, 10.469168663024902, 11.562122344970703, 11.598068237304688, 11.667020797729492, 11.743898391723633, 12.433981895446777, 12.986859321594238, 13.068882942199707, 14.87150764465332, 15.03869342803955, 15.184656143188477, 15.307319641113281, 15.556283950805664, 16.459688186645508, 17.258554458618164, 18.067171096801758, 18.938364028930664, 19.333740234375, 22.80393409729004, 20.229610443115234, 21.364168167114258, 30.81930923461914, 14.87150764465332, 13.181313514709473, 16.530656814575195, 20.229610443115234, 8.163429260253906, 9.886680603027344, 9.94879150390625, 10.332686424255371, 10.469168663024902, 11.562122344970703, 11.598068237304688, 11.667020797729492, 11.743898391723633, 12.433981895446777, 12.986859321594238, 13.068882942199707, 13.409120559692383, 13.613838195800781, 14.1713228225708, 15.03869342803955, 15.184656143188477, 15.307319641113281, 15.556283950805664, 16.459688186645508, 17.258554458618164, 17.64374542236328, 18.067171096801758, 18.938364028930664, 19.333740234375, 19.407787322998047, 23.869890213012695, 21.364168167114258, 22.80393409729004, 31.078805923461914, 15.184656143188477, 19.407787322998047, 9.886680603027344, 21.364168167114258, 11.598068237304688, 17.64374542236328, 8.163429260253906, 9.94879150390625, 10.332686424255371, 10.469168663024902, 11.562122344970703, 11.667020797729492, 11.743898391723633, 12.433981895446777, 12.986859321594238, 13.068882942199707, 13.181313514709473, 13.409120559692383, 13.613838195800781, 14.1713228225708, 14.87150764465332, 15.03869342803955, 15.307319641113281, 15.556283950805664, 16.459688186645508, 16.530656814575195, 17.258554458618164, 18.067171096801758, 18.938364028930664, 19.333740234375, 23.869890213012695, 20.229610443115234, 30.81930923461914, 31.078805923461914, 18.067171096801758, 8.163429260253906, 9.886680603027344, 9.94879150390625, 10.332686424255371, 10.469168663024902, 11.562122344970703, 11.598068237304688, 11.667020797729492, 11.743898391723633, 12.433981895446777, 12.986859321594238, 13.068882942199707, 13.181313514709473, 13.409120559692383, 13.613838195800781, 14.1713228225708, 14.87150764465332, 15.03869342803955, 15.184656143188477, 15.307319641113281, 15.556283950805664, 16.459688186645508, 16.530656814575195, 17.258554458618164, 17.64374542236328, 18.938364028930664, 19.333740234375, 19.407787322998047, 20.229610443115234, 23.869890213012695, 21.364168167114258, 22.80393409729004, 31.078805923461914, 9.94879150390625, 18.067171096801758, 11.562122344970703, 15.307319641113281, 16.530656814575195, 18.938364028930664, 19.407787322998047, 23.869890213012695, 8.163429260253906, 9.886680603027344, 10.332686424255371, 10.469168663024902, 11.598068237304688, 11.667020797729492, 11.743898391723633, 12.433981895446777, 12.986859321594238, 13.068882942199707, 13.181313514709473, 13.409120559692383, 13.613838195800781, 14.1713228225708, 14.87150764465332, 15.03869342803955, 15.184656143188477, 15.556283950805664, 16.459688186645508, 17.258554458618164, 17.64374542236328, 19.333740234375, 20.229610443115234, 21.364168167114258, 30.81930923461914, 31.078805923461914, 11.743898391723633, 11.562122344970703, 21.364168167114258, 14.87150764465332, 15.307319641113281, 8.163429260253906, 9.886680603027344, 9.94879150390625, 10.332686424255371, 10.469168663024902, 11.598068237304688, 11.667020797729492, 12.433981895446777, 12.986859321594238, 13.068882942199707, 13.181313514709473, 13.409120559692383, 13.613838195800781, 14.1713228225708, 15.03869342803955, 15.184656143188477, 15.556283950805664, 16.459688186645508, 16.530656814575195, 17.258554458618164, 17.64374542236328, 18.067171096801758, 18.938364028930664, 19.333740234375, 19.407787322998047, 23.869890213012695, 20.229610443115234, 30.81930923461914, 31.078805923461914, 11.562122344970703, 11.598068237304688, 14.87150764465332, 15.03869342803955, 8.163429260253906, 9.886680603027344, 9.94879150390625, 10.332686424255371, 10.469168663024902, 11.667020797729492, 11.743898391723633, 12.433981895446777, 12.986859321594238, 13.068882942199707, 13.181313514709473, 13.409120559692383, 13.613838195800781, 14.1713228225708, 15.184656143188477, 15.307319641113281, 15.556283950805664, 16.459688186645508, 16.530656814575195, 17.258554458618164, 17.64374542236328, 18.067171096801758, 18.938364028930664, 19.333740234375, 19.407787322998047, 20.229610443115234, 23.869890213012695, 21.364168167114258, 30.81930923461914, 31.078805923461914, 12.986859321594238, 13.068882942199707, 20.229610443115234, 8.163429260253906, 9.886680603027344, 9.94879150390625, 10.332686424255371, 10.469168663024902, 11.562122344970703, 11.598068237304688, 11.667020797729492, 11.743898391723633, 12.433981895446777, 13.181313514709473, 13.409120559692383, 13.613838195800781, 14.1713228225708, 14.87150764465332, 15.03869342803955, 15.184656143188477, 15.307319641113281, 15.556283950805664, 16.459688186645508, 16.530656814575195, 17.258554458618164, 17.64374542236328, 18.067171096801758, 18.938364028930664, 19.333740234375, 19.407787322998047, 23.869890213012695, 21.364168167114258, 22.80393409729004, 31.078805923461914, 12.986859321594238, 16.530656814575195, 8.163429260253906, 9.886680603027344, 9.94879150390625, 10.332686424255371, 10.469168663024902, 11.562122344970703, 11.598068237304688, 11.667020797729492, 11.743898391723633, 12.433981895446777, 13.068882942199707, 13.181313514709473, 13.409120559692383, 13.613838195800781, 14.1713228225708, 14.87150764465332, 15.03869342803955, 15.184656143188477, 15.307319641113281, 15.556283950805664, 16.459688186645508, 17.258554458618164, 17.64374542236328, 18.067171096801758, 18.938364028930664, 19.333740234375, 19.407787322998047, 20.229610443115234, 23.869890213012695, 21.364168167114258, 22.80393409729004, 31.078805923461914, 31.078805923461914, 11.667020797729492, 15.307319641113281, 15.556283950805664, 16.459688186645508, 23.869890213012695, 8.163429260253906, 9.886680603027344, 9.94879150390625, 10.332686424255371, 10.469168663024902, 11.562122344970703, 11.598068237304688, 11.743898391723633, 12.433981895446777, 12.986859321594238, 13.068882942199707, 13.181313514709473, 13.409120559692383, 13.613838195800781, 14.1713228225708, 14.87150764465332, 15.03869342803955, 15.184656143188477, 16.530656814575195, 17.258554458618164, 17.64374542236328, 18.067171096801758, 18.938364028930664, 19.333740234375, 20.229610443115234, 21.364168167114258, 30.81930923461914, 22.80393409729004, 16.459688186645508, 18.938364028930664, 11.667020797729492, 13.068882942199707, 15.556283950805664, 17.64374542236328, 19.333740234375, 8.163429260253906, 9.886680603027344, 9.94879150390625, 10.332686424255371, 10.469168663024902, 11.562122344970703, 11.598068237304688, 11.743898391723633, 12.433981895446777, 12.986859321594238, 13.181313514709473, 13.409120559692383, 13.613838195800781, 14.1713228225708, 14.87150764465332, 15.03869342803955, 15.184656143188477, 15.307319641113281, 16.530656814575195, 17.258554458618164, 18.067171096801758, 19.407787322998047, 23.869890213012695, 20.229610443115234, 21.364168167114258, 30.81930923461914, 31.078805923461914, 12.433981895446777, 12.986859321594238, 17.64374542236328, 18.938364028930664, 19.333740234375, 31.078805923461914, 8.163429260253906, 9.886680603027344, 9.94879150390625, 10.332686424255371, 10.469168663024902, 11.562122344970703, 11.598068237304688, 11.667020797729492, 11.743898391723633, 13.068882942199707, 13.181313514709473, 13.409120559692383, 13.613838195800781, 14.1713228225708, 14.87150764465332, 15.03869342803955, 15.184656143188477, 15.307319641113281, 15.556283950805664, 16.459688186645508, 16.530656814575195, 17.258554458618164, 18.067171096801758, 19.407787322998047, 20.229610443115234, 23.869890213012695, 21.364168167114258, 30.81930923461914, 10.332686424255371, 11.562122344970703, 12.986859321594238, 14.1713228225708, 30.81930923461914, 22.80393409729004, 23.869890213012695, 8.163429260253906, 9.886680603027344, 9.94879150390625, 10.469168663024902, 11.598068237304688, 11.667020797729492, 11.743898391723633, 12.433981895446777, 13.068882942199707, 13.181313514709473, 13.409120559692383, 13.613838195800781, 14.87150764465332, 15.03869342803955, 15.184656143188477, 15.307319641113281, 15.556283950805664, 16.459688186645508, 16.530656814575195, 17.258554458618164, 17.64374542236328, 18.067171096801758, 18.938364028930664, 20.229610443115234, 21.364168167114258, 31.078805923461914, 19.333740234375, 16.530656814575195, 14.87150764465332, 19.407787322998047, 10.332686424255371, 30.81930923461914, 31.078805923461914, 13.068882942199707, 15.184656143188477, 21.364168167114258, 8.163429260253906, 9.886680603027344, 9.94879150390625, 10.469168663024902, 11.562122344970703, 11.598068237304688, 11.667020797729492, 11.743898391723633, 12.433981895446777, 12.986859321594238, 13.181313514709473, 13.409120559692383, 13.613838195800781, 14.1713228225708, 15.03869342803955, 15.307319641113281, 15.556283950805664, 16.459688186645508, 17.258554458618164, 17.64374542236328, 18.067171096801758, 20.229610443115234, 23.869890213012695, 18.938364028930664, 19.333740234375, 9.886680603027344, 9.94879150390625, 23.869890213012695, 22.80393409729004, 11.598068237304688, 12.986859321594238, 13.068882942199707, 15.307319641113281, 30.81930923461914, 31.078805923461914, 8.163429260253906, 10.332686424255371, 10.469168663024902, 11.562122344970703, 11.667020797729492, 11.743898391723633, 12.433981895446777, 13.181313514709473, 13.409120559692383, 13.613838195800781, 14.1713228225708, 14.87150764465332, 15.03869342803955, 15.184656143188477, 15.556283950805664, 16.459688186645508, 16.530656814575195, 17.258554458618164, 17.64374542236328, 18.067171096801758, 20.229610443115234, 21.364168167114258, 18.938364028930664, 19.333740234375, 12.433981895446777, 14.1713228225708, 15.184656143188477, 17.258554458618164, 22.80393409729004, 23.869890213012695, 8.163429260253906, 9.886680603027344, 9.94879150390625, 10.332686424255371, 10.469168663024902, 11.562122344970703, 11.598068237304688, 11.667020797729492, 11.743898391723633, 12.986859321594238, 13.068882942199707, 13.181313514709473, 13.409120559692383, 13.613838195800781, 14.87150764465332, 15.03869342803955, 15.307319641113281, 15.556283950805664, 16.459688186645508, 16.530656814575195, 17.64374542236328, 18.067171096801758, 18.938364028930664, 19.333740234375, 20.229610443115234, 21.364168167114258, 30.81930923461914, 31.078805923461914, 11.598068237304688, 8.163429260253906, 22.80393409729004, 20.229610443115234, 31.078805923461914, 9.94879150390625, 13.181313514709473, 13.409120559692383, 15.03869342803955, 15.556283950805664, 18.067171096801758, 9.886680603027344, 10.332686424255371, 10.469168663024902, 11.562122344970703, 11.667020797729492, 11.743898391723633, 12.433981895446777, 12.986859321594238, 13.068882942199707, 13.613838195800781, 14.1713228225708, 14.87150764465332, 15.184656143188477, 15.307319641113281, 16.459688186645508, 16.530656814575195, 17.258554458618164, 17.64374542236328, 18.938364028930664, 23.869890213012695, 21.364168167114258, 30.81930923461914, 19.333740234375, 11.743898391723633, 13.181313514709473, 13.613838195800781, 8.163429260253906, 9.886680603027344, 9.94879150390625, 10.332686424255371, 10.469168663024902, 11.562122344970703, 11.598068237304688, 11.667020797729492, 12.433981895446777, 12.986859321594238, 13.068882942199707, 13.409120559692383, 14.1713228225708, 14.87150764465332, 15.03869342803955, 15.184656143188477, 15.307319641113281, 15.556283950805664, 16.459688186645508, 16.530656814575195, 17.258554458618164, 17.64374542236328, 18.067171096801758, 18.938364028930664, 19.333740234375, 19.407787322998047, 20.229610443115234, 23.869890213012695, 21.364168167114258, 30.81930923461914, 31.078805923461914, 15.556283950805664, 16.530656814575195, 18.938364028930664, 8.163429260253906, 9.886680603027344, 9.94879150390625, 10.332686424255371, 10.469168663024902, 11.562122344970703, 11.598068237304688, 11.667020797729492, 11.743898391723633, 12.433981895446777, 12.986859321594238, 13.068882942199707, 13.181313514709473, 13.409120559692383, 13.613838195800781, 14.1713228225708, 14.87150764465332, 15.03869342803955, 15.184656143188477, 15.307319641113281, 16.459688186645508, 17.258554458618164, 17.64374542236328, 18.067171096801758, 19.333740234375, 19.407787322998047, 20.229610443115234, 23.869890213012695, 21.364168167114258, 30.81930923461914, 31.078805923461914, 8.163429260253906, 13.068882942199707, 11.598068237304688, 11.743898391723633, 12.986859321594238, 13.181313514709473, 14.87150764465332, 15.184656143188477, 16.459688186645508, 17.258554458618164, 18.067171096801758, 19.407787322998047, 20.229610443115234, 22.80393409729004, 9.886680603027344, 9.94879150390625, 10.332686424255371, 10.469168663024902, 11.562122344970703, 11.667020797729492, 12.433981895446777, 13.409120559692383, 13.613838195800781, 14.1713228225708, 15.03869342803955, 15.307319641113281, 15.556283950805664, 16.530656814575195, 17.64374542236328, 18.938364028930664, 23.869890213012695, 21.364168167114258, 30.81930923461914, 31.078805923461914, 19.333740234375, 14.1713228225708, 16.530656814575195, 9.94879150390625, 22.80393409729004, 12.433981895446777, 15.307319641113281, 17.258554458618164, 31.078805923461914, 8.163429260253906, 9.886680603027344, 10.332686424255371, 10.469168663024902, 11.562122344970703, 11.598068237304688, 11.667020797729492, 11.743898391723633, 12.986859321594238, 13.068882942199707, 13.181313514709473, 13.409120559692383, 13.613838195800781, 14.87150764465332, 15.03869342803955, 15.184656143188477, 15.556283950805664, 16.459688186645508, 17.64374542236328, 18.067171096801758, 18.938364028930664, 23.869890213012695, 20.229610443115234, 21.364168167114258, 30.81930923461914, 13.613838195800781, 15.184656143188477, 21.364168167114258, 23.869890213012695, 30.81930923461914, 8.163429260253906, 9.886680603027344, 9.94879150390625, 10.332686424255371, 10.469168663024902, 11.562122344970703, 11.598068237304688, 11.667020797729492, 11.743898391723633, 12.433981895446777, 12.986859321594238, 13.068882942199707, 13.181313514709473, 13.409120559692383, 14.1713228225708, 14.87150764465332, 15.03869342803955, 15.307319641113281, 15.556283950805664, 16.459688186645508, 16.530656814575195, 17.258554458618164, 17.64374542236328, 18.067171096801758, 18.938364028930664, 20.229610443115234, 31.078805923461914, 19.333740234375, 9.886680603027344, 14.1713228225708, 13.613838195800781, 17.64374542236328, 19.407787322998047, 20.229610443115234, 31.078805923461914, 8.163429260253906, 9.94879150390625, 10.332686424255371, 10.469168663024902, 11.562122344970703, 11.598068237304688, 11.667020797729492, 11.743898391723633, 12.433981895446777, 12.986859321594238, 13.068882942199707, 13.181313514709473, 13.409120559692383, 14.87150764465332, 15.03869342803955, 15.184656143188477, 15.307319641113281, 15.556283950805664, 16.459688186645508, 16.530656814575195, 17.258554458618164, 18.067171096801758, 18.938364028930664, 23.869890213012695, 21.364168167114258, 30.81930923461914, 19.333740234375, 9.94879150390625, 11.667020797729492, 11.743898391723633, 14.87150764465332, 15.556283950805664, 17.64374542236328, 19.407787322998047, 8.163429260253906, 9.886680603027344, 10.332686424255371, 10.469168663024902, 11.562122344970703, 11.598068237304688, 12.433981895446777, 12.986859321594238, 13.068882942199707, 13.181313514709473, 13.409120559692383, 13.613838195800781, 14.1713228225708, 15.03869342803955, 15.184656143188477, 15.307319641113281, 16.459688186645508, 16.530656814575195, 17.258554458618164, 18.067171096801758, 18.938364028930664, 19.333740234375, 20.229610443115234, 23.869890213012695, 21.364168167114258, 30.81930923461914, 31.078805923461914], \"loglift\": [30.0, 29.0, 28.0, 27.0, 26.0, 25.0, 24.0, 23.0, 22.0, 21.0, 20.0, 19.0, 18.0, 17.0, 16.0, 15.0, 14.0, 13.0, 12.0, 11.0, 10.0, 9.0, 8.0, 7.0, 6.0, 5.0, 4.0, 3.0, 2.0, 1.0, 2.3947999477386475, 1.4731999635696411, 1.4106999635696411, 1.2102999687194824, 0.9542999863624573, 0.9032999873161316, 0.6877999901771545, 0.6815000176429749, 0.541100025177002, 0.07909999787807465, -2.7797000408172607, -2.971299886703491, -3.015399932861328, -3.1277999877929688, -3.1308999061584473, -3.1368000507354736, -3.143399953842163, -3.200500011444092, -3.2588999271392822, -3.2760000228881836, -3.2911999225616455, -3.379499912261963, -3.400399923324585, -3.424499988555908, -3.4809999465942383, -3.485300064086914, -3.5504000186920166, -3.574199914932251, -3.621299982070923, -3.641900062561035, -3.6872000694274902, -3.74180006980896, -4.1082000732421875, -4.116600036621094, 2.4684998989105225, 2.0399999618530273, 0.9599000215530396, 0.8001999855041504, 0.6520000100135803, 0.40849998593330383, 0.37619999051094055, 0.23399999737739563, -0.019899999722838402, -0.18539999425411224, -0.4408999979496002, -3.0441999435424805, -3.2356998920440674, -3.242000102996826, -3.2929999828338623, -3.395400047302246, -3.4012999534606934, -3.407900094985962, -3.4649999141693115, -3.508500099182129, -3.5148000717163086, -3.5404999256134033, -3.5957999229431152, -3.6440000534057617, -3.664799928665161, -3.6728999614715576, -3.688999891281128, -3.745500087738037, -3.749799966812134, -3.7929000854492188, -3.83870005607605, -4.00629997253418, -3.885699987411499, -3.906399965286255, 2.0251998901367188, 1.9749000072479248, 1.795199990272522, 1.253000020980835, 0.9805999994277954, 0.6741999983787537, 0.5827000141143799, 0.36079999804496765, 0.22200000286102295, 0.1111999973654747, -2.4869000911712646, -2.6784000396728516, -2.6847000122070312, -2.722599983215332, -2.7356998920440674, -2.8350000381469727, -2.838099956512451, -2.850600004196167, -2.9077000617980957, -2.9574999809265137, -2.966099977493286, -2.9832000732421875, -2.998300075531006, -3.086699962615967, -3.097899913787842, -3.1075000762939453, -3.192500114440918, -3.2813000679016113, -3.3529000282287598, -3.394399881362915, -3.5599000453948975, -3.4489998817443848, -3.8153998851776123, -3.8238000869750977, 2.625999927520752, 1.7350000143051147, 1.3378000259399414, 1.2769999504089355, 0.9713000059127808, 0.5131000280380249, -2.7174999713897705, -2.9089999198913574, -2.9151999950408936, -2.9530999660491943, -2.966200113296509, -3.065500020980835, -3.0685999393463135, -3.0745999813079834, -3.138200044631958, -3.1816999912261963, -3.187999963760376, -3.1965999603271484, -3.21370005607605, -3.2288999557495117, -3.2690000534057617, -3.317199945449829, -3.328399896621704, -3.346100091934204, -3.362299919128418, -3.4230000972747803, -3.466099977493286, -3.4881999492645264, -3.511899948120117, -3.559000015258789, -3.6249001026153564, -4.054299831390381, -3.5796000957489014, 2.6659998893737793, 2.487600088119507, 1.2639000415802002, 1.1057000160217285, 1.0151000022888184, 0.9126999974250793, 0.7675999999046326, 0.46939998865127563, -0.06459999829530716, -2.8657000064849854, -2.903599977493286, -3.0160000324249268, -3.0250000953674316, -3.031599998474121, -3.08870005607605, -3.132200002670288, -3.1384999752044678, -3.1470999717712402, -3.1793999671936035, -3.267699956893921, -3.278899908065796, -3.288599967956543, -3.296600103378296, -3.312700033187866, -3.3691999912261963, -3.373500108718872, -3.416599988937378, -3.438699960708618, -3.530100107192993, -3.5339999198913574, -3.5754001140594482, -3.7409000396728516, -3.630000114440918, -4.004799842834473, 1.9179999828338623, 1.8947999477386475, 1.652899980545044, 1.079800009727478, 0.9693999886512756, 0.9315000176429749, 0.8159999847412109, 0.6557999849319458, 0.5562000274658203, 0.5385000109672546, 0.41850000619888306, -2.7646000385284424, -2.956199884414673, -3.013400077819824, -3.1126999855041504, -3.1217000484466553, -3.1282999515533447, -3.1854000091552734, -3.2288999557495117, -3.2351999282836914, -3.243799924850464, -3.2609000205993652, -3.316200017929077, -3.40939998626709, -3.46589994430542, -3.4702000617980957, -3.5590999126434326, -3.6061999797821045, -3.626800060272217, -3.672100067138672, -4.101500034332275, -3.7918999195098877, -3.837599992752075, -3.7267000675201416, 2.727299928665161, 2.3062000274658203, 2.0078001022338867, -1.4278000593185425, -1.6193000078201294, -1.6634000539779663, -1.6765999794006348, -1.7759000062942505, -1.7790000438690186, -1.7848999500274658, -1.7914999723434448, -1.8486000299453735, -1.8920999765396118, -1.8983999490737915, -1.9069000482559204, -1.9392000436782837, -1.9793000221252441, -2.027600049972534, -2.038800001144409, -2.0483999252319336, -2.05649995803833, -2.0725998878479004, -2.128999948501587, -2.1333000659942627, -2.1763999462127686, -2.198499917984009, -2.2221999168395996, -2.2692999839782715, -2.293800115585327, -2.3352999687194824, -2.500699996948242, -2.3898000717163086, -2.7562999725341797, -2.764699935913086, 2.4735000133514404, 2.449399948120117, 1.2582999467849731, 1.065000057220459, 0.8126000165939331, 0.35359999537467957, -2.370500087738037, -2.5620999336242676, -2.5683000087738037, -2.6061999797821045, -2.61929988861084, -2.718600034713745, -2.7216999530792236, -2.7342000007629395, -2.791300058364868, -2.8348000049591064, -2.841099977493286, -2.8496999740600586, -2.881999969482422, -2.922100067138672, -2.9702999591827393, -2.9814999103546143, -2.9911999702453613, -2.9992001056671143, -3.1412999629974365, -3.1649999618530273, -3.212100028991699, -3.2327001094818115, -3.236599922180176, -3.2780001163482666, -3.44350004196167, -3.3977999687194824, -3.3326001167297363, -3.6989998817443848, 1.7752000093460083, 1.7655999660491943, 1.5202000141143799, 1.4672000408172607, 1.2065999507904053, 1.191499948501587, 1.0742000341415405, 0.932200014591217, 0.675599992275238, -2.2288999557495117, -2.4205000400543213, -2.4267001152038574, -2.4776999950408936, -2.5769999027252197, -2.5801000595092773, -2.5859999656677246, -2.592600107192993, -2.6496999263763428, -2.69320011138916, -2.69950008392334, -2.7081000804901123, -2.7804999351501465, -2.828700065612793, -2.873699903488159, -2.9302000999450684, -2.934499979019165, -2.97760009765625, -3.023400068283081, -3.070499897003174, -3.091099977493286, -3.3018999099731445, -3.136399984359741, -3.190999984741211, -3.5573999881744385, -3.5657999515533447, 1.9922000169754028, 1.9471999406814575, 1.7044999599456787, 1.6984000205993652, 1.31850004196167, 1.1526999473571777, 1.0282000303268433, 0.7996000051498413, 0.7932999730110168, 0.7846999764442444, 0.5626000165939331, -2.859499931335449, -2.8657000064849854, -3.0160000324249268, -3.0190999507904053, -3.031599998474121, -3.08870005607605, -3.1642000675201416, -3.1793999671936035, -3.2195000648498535, -3.267699956893921, -3.278899908065796, -3.288599967956543, -3.373500108718872, -3.416599988937378, -3.438699960708618, -3.509500026702881, -3.530100107192993, -3.5339999198913574, -3.5754001140594482, -3.7409000396728516, -3.630000114440918, -3.9964001178741455, -4.004799842834473, 2.2191998958587646, 1.6700999736785889, 1.2374000549316406, -2.3046998977661133, -2.4962000846862793, -2.502500057220459, -2.5404000282287598, -2.553499937057495, -2.6528000831604004, -2.655900001525879, -2.661799907684326, -2.6684000492095947, -2.7255001068115234, -2.7690000534057617, -2.7753000259399414, -2.783900022506714, -2.8010001182556152, -2.8160998821258545, -2.856300115585327, -2.9045000076293945, -2.9156999588012695, -2.925299882888794, -2.9333999156951904, -2.94950008392334, -3.00600004196167, -3.0102999210357666, -3.0534000396728516, -3.0754001140594482, -3.0992000102996826, -3.146199941635132, -3.2121999263763428, -3.2667999267578125, -3.1668999195098877, 2.64739990234375, 1.8896000385284424, 1.6270999908447266, 1.3782999515533447, 1.3482999801635742, 0.8564000129699707, 0.8327000141143799, 0.7196000218391418, -2.4962000846862793, -2.502500057220459, -2.5404000282287598, -2.6528000831604004, -2.661799907684326, -2.6684000492095947, -2.7690000534057617, -2.7753000259399414, -2.783900022506714, -2.8010001182556152, -2.8160998821258545, -2.856300115585327, -2.9045000076293945, -2.9156999588012695, -2.925299882888794, -2.9333999156951904, -2.94950008392334, -3.00600004196167, -3.0102999210357666, -3.0534000396728516, -3.146199941635132, -3.1668999195098877, -3.377700090408325, -3.63319993019104, -3.6415998935699463, 2.1152000427246094, 1.773300051689148, 1.1934000253677368, 1.0393999814987183, 0.949999988079071, 0.9327999949455261, 0.8084999918937683, 0.1005999967455864, -2.502700090408325, -2.6942999362945557, -2.700500011444092, -2.751499891281128, -2.850800037384033, -2.8538999557495117, -2.859800100326538, -2.8664000034332275, -2.9235000610351562, -2.9670000076293945, -2.973299980163574, -3.01419997215271, -3.05430006980896, -3.1024999618530273, -3.1136999130249023, -3.1314001083374023, -3.1475000381469727, -3.2039999961853027, -3.2083001136779785, -3.2513999938964844, -3.2734999656677246, -3.2971999645233154, -3.4647998809814453, -3.3443000316619873, -3.839600086212158, -3.3649001121520996, 1.7345999479293823, 1.373900055885315, 1.3209999799728394, 1.313599944114685, 1.1670000553131104, 0.911899983882904, 0.7858999967575073, 0.7150999903678894, -2.375200033187866, -2.566699981689453, -2.572999954223633, -2.6238999366760254, -2.7232000827789307, -2.726300001144409, -2.732300043106079, -2.738800048828125, -2.7959001064300537, -2.839400053024292, -2.8457000255584717, -2.854300022125244, -2.8714001178741455, -2.8866000175476074, -2.9267001152038574, -2.9749999046325684, -2.9860999584198, -2.995800018310547, -3.0037999153137207, -3.0764000415802, -3.080699920654297, -3.123800039291382, -3.169600009918213, -3.3371999263763428, -3.7119998931884766, -3.2374000549316406, 1.829800009727478, 1.6019999980926514, 1.5698000192642212, 1.4814000129699707, 1.4701999425888062, 1.3105000257492065, -1.850600004196167, -2.0422000885009766, -2.0483999252319336, -2.0862998962402344, -2.099400043487549, -2.198699951171875, -2.2018001079559326, -2.2077999114990234, -2.2142999172210693, -2.271399974822998, -2.3148999214172363, -2.321199893951416, -2.34689998626709, -2.4021999835968018, -2.471299886703491, -2.479300022125244, -2.4953999519348145, -2.5518999099731445, -2.5562000274658203, -2.599299907684326, -2.6451001167297363, -2.692199945449829, -2.7128000259399414, -2.7167000770568848, -2.9235999584198, -2.7581000328063965, -2.812700033187866, -3.1791000366210938, 2.112299919128418, 1.5917999744415283, 1.4672000408172607, 1.2237999439239502, 1.191499948501587, 1.0580999851226807, 1.0016000270843506, 0.7954000234603882, -2.2288999557495117, -2.4205000400543213, -2.4267001152038574, -2.4776999950408936, -2.5769999027252197, -2.5801000595092773, -2.5859999656677246, -2.592600107192993, -2.6496999263763428, -2.69320011138916, -2.69950008392334, -2.7251999378204346, -2.7804999351501465, -2.828700065612793, -2.839900016784668, -2.8494999408721924, -2.857599973678589, -2.934499979019165, -2.97760009765625, -2.9995999336242676, -3.070499897003174, -3.091099977493286, -3.3018999099731445, -3.5573999881744385, -3.5657999515533447, 2.246299982070923, 1.7825000286102295, 1.295799970626831, 1.2411999702453613, -1.7285000085830688, -1.9200999736785889, -1.926300048828125, -1.9642000198364258, -1.9773000478744507, -2.0766000747680664, -2.079699993133545, -2.085599899291992, -2.0922000408172607, -2.1928000450134277, -2.1991000175476074, -2.20770001411438, -2.2248001098632812, -2.240000009536743, -2.280100107192993, -2.3282999992370605, -2.3394999504089355, -2.3492000102996826, -2.3571999073028564, -2.373300075531006, -2.429800033569336, -2.4340999126434326, -2.4772000312805176, -2.499300003051758, -2.5230000019073486, -2.5701000690460205, -2.801500082015991, -3.0653998851776123, -2.5906999111175537, 2.3589000701904297, 2.0044000148773193, 1.5361000299453735, 1.3142999410629272, 1.1562000513076782, 1.1401000022888184, 0.4564000070095062, -2.146899938583374, -2.338399887084961, -2.3447000980377197, -2.3826000690460205, -2.494999885559082, -2.4981000423431396, -2.503999948501587, -2.5106000900268555, -2.567699909210205, -2.6112000942230225, -2.6261000633239746, -2.643199920654297, -2.698499917984009, -2.7467000484466553, -2.7578999996185303, -2.7674999237060547, -2.8482000827789307, -2.8524999618530273, -2.8956000804901123, -2.91759991645813, -2.9412999153137207, -2.9883999824523926, -3.0090999603271484, -3.219899892807007, -3.0543999671936035, -3.1089999675750732, -3.483799934387207, 2.3675999641418457, 1.7374999523162842, 1.544700026512146, 1.5113999843597412, 0.932200014591217, 0.8406999707221985, -2.2288999557495117, -2.4267001152038574, -2.464600086212158, -2.4776999950408936, -2.5769999027252197, -2.5801000595092773, -2.5859999656677246, -2.592600107192993, -2.69320011138916, -2.69950008392334, -2.7081000804901123, -2.7251999378204346, -2.7404000759124756, -2.7804999351501465, -2.828700065612793, -2.839900016784668, -2.8494999408721924, -2.857599973678589, -2.873699903488159, -2.9302000999450684, -2.934499979019165, -2.97760009765625, -3.023400068283081, -3.094899892807007, -3.136399984359741, -3.3018999099731445, -3.190999984741211, -3.5573999881744385, 2.081199884414673, 2.0157999992370605, 1.5849000215530396, 1.436400055885315, 1.375599980354309, 1.2867000102996826, 1.173699975013733, -2.0422000885009766, -2.0483999252319336, -2.0862998962402344, -2.099400043487549, -2.198699951171875, -2.2018001079559326, -2.2077999114990234, -2.2142999172210693, -2.271399974822998, -2.3148999214172363, -2.321199893951416, -2.3297998905181885, -2.3620998859405518, -2.4021999835968018, -2.4504001140594482, -2.4616000652313232, -2.471299886703491, -2.479300022125244, -2.5518999099731445, -2.6214001178741455, -2.692199945449829, -2.7128000259399414, -2.7167000770568848, -2.9235999584198, -2.8778998851776123, -2.812700033187866, -3.1791000366210938, 2.6793999671936035, 2.288100004196167, 1.5566999912261963, 1.4455000162124634, 1.3588999509811401, 0.9279999732971191, -2.566699981689453, -2.61080002784729, -2.7232000827789307, -2.726300001144409, -2.732300043106079, -2.738800048828125, -2.7959001064300537, -2.839400053024292, -2.8457000255584717, -2.854300022125244, -2.8714001178741455, -2.8866000175476074, -2.9267001152038574, -2.9749999046325684, -2.9860999584198, -2.995800018310547, -3.0199999809265137, -3.0764000415802, -3.080699920654297, -3.123800039291382, -3.145900011062622, -3.2167000770568848, -3.2411999702453613, -3.2827000617980957, -3.4481000900268555, -3.3371999263763428, -3.703700065612793, -3.7119998931884766, 2.1851000785827637, 1.5515999794006348, 1.5081000328063965, 1.476099967956543, 1.3725999593734741, 1.2237000465393066, 0.899399995803833, 0.6438999772071838, -1.9594999551773071, -2.1510000228881836, -2.1572000980377197, -2.1951000690460205, -2.208199977874756, -2.307499885559082, -2.3106000423431396, -2.3166000843048096, -2.3231000900268555, -2.4386000633239746, -2.470900058746338, -2.510999917984009, -2.5703999996185303, -2.5801000595092773, -2.588099956512451, -2.604300022125244, -2.6607000827789307, -2.6649999618530273, -2.7302000522613525, -2.7539000511169434, -2.8010001182556152, -2.8215999603271484, -2.8668999671936035, -2.9214999675750732, -3.296299934387207, 2.5550999641418457, 1.7425999641418457, 1.6887999773025513, 1.5716999769210815, -1.589400053024292, -1.781000018119812, -1.7871999740600586, -1.8250999450683594, -1.8381999731063843, -1.9375, -1.940600037574768, -1.9464999437332153, -1.9530999660491943, -2.010200023651123, -2.0536999702453613, -2.0685999393463135, -2.085700035095215, -2.1008999347686768, -2.1410000324249268, -2.2004001140594482, -2.210099935531616, -2.218100070953369, -2.2342000007629395, -2.2906999588012695, -2.2950000762939453, -2.338099956512451, -2.3838999271392822, -2.430999994277954, -2.4516000747680664, -2.455399990081787, -2.662400007247925, -2.4969000816345215, -2.551500082015991, -2.9179000854492188, 2.0957999229431152, 1.7367000579833984, 1.476099967956543, 1.3614000082015991, 1.3517999649047852, 1.177899956703186, 1.1308000087738037, -1.9594999551773071, -2.1510000228881836, -2.1572000980377197, -2.208199977874756, -2.307499885559082, -2.3106000423431396, -2.3166000843048096, -2.3231000900268555, -2.380199909210205, -2.4237000942230225, -2.430000066757202, -2.4386000633239746, -2.470900058746338, -2.510999917984009, -2.5592000484466553, -2.588099956512451, -2.604300022125244, -2.6607000827789307, -2.6649999618530273, -2.7081000804901123, -2.7302000522613525, -2.8215999603271484, -2.825500011444092, -2.8668999671936035, -3.032399892807007, -3.287899971008301, -3.296299934387207, 2.325200080871582, 1.8631999492645264, 1.607699990272522, -0.9957000017166138, -1.1871999502182007, -1.1934000253677368, -1.2312999963760376, -1.2444000244140625, -1.3437000513076782, -1.3467999696731567, -1.3528000116348267, -1.3593000173568726, -1.4163999557495117, -1.4599000215530396, -1.4661999940872192, -1.4747999906539917, -1.4918999671936035, -1.507099986076355, -1.5471999645233154, -1.5953999757766724, -1.6162999868392944, -1.6243000030517578, -1.6404999494552612, -1.6969000101089478, -1.701200008392334, -1.7443000078201294, -1.7663999795913696, -1.7900999784469604, -1.8372000455856323, -1.857800006866455, -1.9031000137329102, -1.9577000141143799, -2.3324999809265137, 2.2985999584198, 2.0269999504089355, 1.8141000270843506, 1.5515999794006348, 1.5081000328063965, 0.6355000138282776, -1.9594999551773071, -2.1510000228881836, -2.1572000980377197, -2.1951000690460205, -2.208199977874756, -2.307499885559082, -2.3106000423431396, -2.3231000900268555, -2.430000066757202, -2.4386000633239746, -2.455699920654297, -2.470900058746338, -2.510999917984009, -2.5592000484466553, -2.5703999996185303, -2.5801000595092773, -2.604300022125244, -2.6607000827789307, -2.6649999618530273, -2.7081000804901123, -2.7302000522613525, -2.7539000511169434, -2.8215999603271484, -2.825500011444092, -3.032399892807007, -2.8668999671936035, -2.9214999675750732, -3.287899971008301, 2.7416000366210938, 1.4443999528884888, 1.1308000087738037, 1.1157000064849854, 1.0755000114440918, 0.9215999841690063, 0.8564000129699707, 0.554099977016449, -2.3046998977661133, -2.4962000846862793, -2.502500057220459, -2.5404000282287598, -2.553499937057495, -2.6528000831604004, -2.655900001525879, -2.661799907684326, -2.6684000492095947, -2.7255001068115234, -2.7690000534057617, -2.7753000259399414, -2.9045000076293945, -2.9156999588012695, -2.925299882888794, -2.9333999156951904, -2.94950008392334, -3.00600004196167, -3.0534000396728516, -3.0992000102996826, -3.146199941635132, -3.1668999195098877, -3.3320000171661377, -3.2121999263763428, -3.2667999267578125, -3.63319993019104, 2.5875000953674316, 2.024899959564209, 1.7984999418258667, 1.59660005569458, -1.4278000593185425, -1.6193000078201294, -1.625599980354309, -1.6634000539779663, -1.6765999794006348, -1.7759000062942505, -1.7790000438690186, -1.7848999500274658, -1.7914999723434448, -1.8486000299453735, -1.8920999765396118, -1.8983999490737915, -1.9241000413894653, -1.9392000436782837, -1.9793000221252441, -2.038800001144409, -2.0483999252319336, -2.05649995803833, -2.0725998878479004, -2.128999948501587, -2.1763999462127686, -2.198499917984009, -2.2221999168395996, -2.2692999839782715, -2.2899999618530273, -2.293800115585327, -2.500699996948242, -2.3898000717163086, -2.4551000595092773, -2.764699935913086, 2.0350000858306885, 1.7897000312805176, 1.7807999849319458, 1.693600058555603, 1.6211999654769897, 1.20169997215271, -1.9594999551773071, -2.1572000980377197, -2.1951000690460205, -2.208199977874756, -2.307499885559082, -2.3166000843048096, -2.3231000900268555, -2.380199909210205, -2.4237000942230225, -2.430000066757202, -2.4386000633239746, -2.455699920654297, -2.470900058746338, -2.510999917984009, -2.5592000484466553, -2.5703999996185303, -2.588099956512451, -2.604300022125244, -2.6607000827789307, -2.6649999618530273, -2.7081000804901123, -2.7539000511169434, -2.8010001182556152, -2.8215999603271484, -3.032399892807007, -2.8668999671936035, -3.287899971008301, -3.296299934387207, 2.9193999767303467, -0.21799999475479126, -0.40950000286102295, -0.4156999886035919, -0.4535999894142151, -0.4666999876499176, -0.5659999847412109, -0.569100022315979, -0.5751000046730042, -0.58160001039505, -0.638700008392334, -0.682200014591217, -0.6884999871253967, -0.6970999836921692, -0.7142000198364258, -0.7293999791145325, -0.7695000171661377, -0.8177000284194946, -0.8288999795913696, -0.8385999798774719, -0.8465999960899353, -0.8628000020980835, -0.9192000031471252, -0.9235000014305115, -0.9666000008583069, -0.9886999726295471, -1.059499979019165, -1.0801000595092773, -1.0839999914169312, -1.1253999471664429, -1.2908999919891357, -1.1799999475479126, -1.2452000379562378, -1.554800033569336, 2.359800100326538, 1.763100028038025, 1.5262000560760498, 1.2455999851226807, 1.1686999797821045, 1.0326999425888062, 1.0082000494003296, 0.8012999892234802, -2.0576000213623047, -2.2490999698638916, -2.2932000160217285, -2.306299924850464, -2.4086999893188477, -2.4147000312805176, -2.4212000370025635, -2.478300094604492, -2.5218000411987305, -2.52810001373291, -2.5367000102996826, -2.553800106048584, -2.569000005722046, -2.609100103378296, -2.657399892807007, -2.6684999465942383, -2.6782000064849854, -2.702399969100952, -2.7588000297546387, -2.8062000274658203, -2.8282999992370605, -2.919800043106079, -2.965100049972534, -3.0195999145507812, -3.385999917984009, -3.394399881362915, 2.5959999561309814, 2.2095000743865967, 1.9976999759674072, 1.2745000123977661, 1.2455999851226807, -2.0576000213623047, -2.2490999698638916, -2.2553999423980713, -2.2932000160217285, -2.306299924850464, -2.4086999893188477, -2.4147000312805176, -2.478300094604492, -2.5218000411987305, -2.52810001373291, -2.5367000102996826, -2.553800106048584, -2.569000005722046, -2.609100103378296, -2.6684999465942383, -2.6782000064849854, -2.702399969100952, -2.7588000297546387, -2.7630999088287354, -2.8062000274658203, -2.8282999992370605, -2.8519999980926514, -2.8991000652313232, -2.919800043106079, -2.9235999584198, -3.130500078201294, -2.965100049972534, -3.385999917984009, -3.394399881362915, 2.348900079727173, 2.3457999229431152, 2.0971999168395996, 2.0859999656677246, -1.2348999977111816, -1.4263999462127686, -1.4327000379562378, -1.4704999923706055, -1.4837000370025635, -1.5920000076293945, -1.5986000299453735, -1.6556999683380127, -1.6992000341415405, -1.7055000066757202, -1.7139999866485596, -1.7311999797821045, -1.7462999820709229, -1.7863999605178833, -1.8554999828338623, -1.8636000156402588, -1.879699945449829, -1.9361000061035156, -1.9404000043869019, -1.9835000038146973, -2.0055999755859375, -2.0292999744415283, -2.0764000415802, -2.097100019454956, -2.1008999347686768, -2.142400026321411, -2.307800054550171, -2.196899890899658, -2.5634000301361084, -2.5717999935150146, 2.47189998626709, 2.46560001373291, 2.028700113296509, -0.9957000017166138, -1.1871999502182007, -1.1934000253677368, -1.2312999963760376, -1.2444000244140625, -1.3437000513076782, -1.3467999696731567, -1.3528000116348267, -1.3593000173568726, -1.4163999557495117, -1.4747999906539917, -1.4918999671936035, -1.507099986076355, -1.5471999645233154, -1.5953999757766724, -1.606600046157837, -1.6162999868392944, -1.6243000030517578, -1.6404999494552612, -1.6969000101089478, -1.701200008392334, -1.7443000078201294, -1.7663999795913696, -1.7900999784469604, -1.8372000455856323, -1.857800006866455, -1.8617000579833984, -2.0685999393463135, -1.9577000141143799, -2.022900104522705, -2.3324999809265137, 2.7869999408721924, 2.5457000732421875, -0.6805999875068665, -0.8720999956130981, -0.8784000277519226, -0.9161999821662903, -0.9293000102043152, -1.0285999774932861, -1.0318000316619873, -1.0377000570297241, -1.0441999435424805, -1.1013000011444092, -1.1511000394821167, -1.1597000360488892, -1.176800012588501, -1.1920000314712524, -1.232100009918213, -1.280400037765503, -1.2914999723434448, -1.301200032234192, -1.3092000484466553, -1.3253999948501587, -1.3818000555038452, -1.4292000532150269, -1.451300024986267, -1.475000023841858, -1.5220999717712402, -1.542799949645996, -1.5465999841690063, -1.5880999565124512, -1.753499984741211, -1.6426000595092773, -1.707800030708313, -2.017400026321411, 2.006999969482422, 1.6153000593185425, 1.3437000513076782, 1.3276000022888184, 1.2711000442504883, 0.899399995803833, -1.9594999551773071, -2.1510000228881836, -2.1572000980377197, -2.1951000690460205, -2.208199977874756, -2.307499885559082, -2.3106000423431396, -2.3231000900268555, -2.380199909210205, -2.4237000942230225, -2.430000066757202, -2.4386000633239746, -2.455699920654297, -2.470900058746338, -2.510999917984009, -2.5592000484466553, -2.5703999996185303, -2.5801000595092773, -2.6649999618530273, -2.7081000804901123, -2.7302000522613525, -2.7539000511169434, -2.8010001182556152, -2.8215999603271484, -2.8668999671936035, -2.9214999675750732, -3.287899971008301, 1.9713000059127808, 1.6090999841690063, 1.4688999652862549, 1.2699999809265137, 1.156499981880188, 0.9822999835014343, 0.8564000129699707, 0.7649000287055969, -2.3046998977661133, -2.4962000846862793, -2.502500057220459, -2.5404000282287598, -2.553499937057495, -2.6528000831604004, -2.655900001525879, -2.6684000492095947, -2.7255001068115234, -2.7690000534057617, -2.783900022506714, -2.8010001182556152, -2.8160998821258545, -2.856300115585327, -2.9045000076293945, -2.9156999588012695, -2.925299882888794, -2.9333999156951904, -3.0102999210357666, -3.0534000396728516, -3.0992000102996826, -3.1707000732421875, -3.377700090408325, -3.2121999263763428, -3.2667999267578125, -3.63319993019104, -3.6415998935699463, 1.9215999841690063, 1.878100037574768, 1.5716999769210815, 1.5009000301361084, 1.4802000522613525, 1.0054999589920044, -1.589400053024292, -1.781000018119812, -1.7871999740600586, -1.8250999450683594, -1.8381999731063843, -1.9375, -1.940600037574768, -1.9464999437332153, -1.9530999660491943, -2.059999942779541, -2.0685999393463135, -2.085700035095215, -2.1008999347686768, -2.1410000324249268, -2.189199924468994, -2.2004001140594482, -2.210099935531616, -2.218100070953369, -2.2342000007629395, -2.2906999588012695, -2.2950000762939453, -2.338099956512451, -2.3838999271392822, -2.455399990081787, -2.4969000816345215, -2.662400007247925, -2.551500082015991, -2.9179000854492188, 1.8454999923706055, 1.7331000566482544, 1.6168999671936035, 1.5296000242233276, 1.4359999895095825, 1.0539000034332275, 1.0082000494003296, -1.850600004196167, -2.0422000885009766, -2.0483999252319336, -2.099400043487549, -2.2018001079559326, -2.2077999114990234, -2.2142999172210693, -2.271399974822998, -2.321199893951416, -2.3297998905181885, -2.34689998626709, -2.3620998859405518, -2.4504001140594482, -2.4616000652313232, -2.471299886703491, -2.479300022125244, -2.4953999519348145, -2.5518999099731445, -2.5562000274658203, -2.599299907684326, -2.6214001178741455, -2.6451001167297363, -2.692199945449829, -2.7581000328063965, -2.812700033187866, -3.1875, -2.7128000259399414, 1.7508000135421753, 1.4543999433517456, 1.1881999969482422, 1.1353000402450562, 1.1279000043869019, 1.1195000410079956, 0.9003999829292297, 0.7502999901771545, 0.4088999927043915, -2.5608999729156494, -2.7523999214172363, -2.758699893951416, -2.8097000122070312, -2.9089999198913574, -2.912100076675415, -2.9179999828338623, -2.9245998859405518, -2.9816999435424805, -3.0251998901367188, -3.0399999618530273, -3.0571999549865723, -3.0722999572753906, -3.1124000549316406, -3.1719000339508057, -3.1895999908447266, -3.205699920654297, -3.2620999813079834, -3.309499979019165, -3.3315999507904053, -3.355299949645996, -3.468400001525879, -3.6338000297546387, -3.402400016784668, -3.423099994659424, 2.4437999725341797, 1.749400019645691, 1.562399983406067, 1.322100043296814, 0.9126999974250793, 0.7996000051498413, 0.7932999730110168, 0.635200023651123, -0.06459999829530716, -0.0729999989271164, -2.6679000854492188, -2.903599977493286, -2.9166998863220215, -3.0160000324249268, -3.0250000953674316, -3.031599998474121, -3.08870005607605, -3.1470999717712402, -3.1642000675201416, -3.1793999671936035, -3.2195000648498535, -3.267699956893921, -3.278899908065796, -3.288599967956543, -3.312700033187866, -3.3691999912261963, -3.373500108718872, -3.416599988937378, -3.438699960708618, -3.462399959564209, -3.5754001140594482, -3.630000114440918, -3.509500026702881, -3.530100107192993, 1.9215999841690063, 1.7907999753952026, 1.7217999696731567, 1.5937000513076782, 1.3150999546051025, 1.2694000005722046, -1.589400053024292, -1.781000018119812, -1.7871999740600586, -1.8250999450683594, -1.8381999731063843, -1.9375, -1.940600037574768, -1.9464999437332153, -1.9530999660491943, -2.0536999702453613, -2.059999942779541, -2.0685999393463135, -2.085700035095215, -2.1008999347686768, -2.189199924468994, -2.2004001140594482, -2.218100070953369, -2.2342000007629395, -2.2906999588012695, -2.2950000762939453, -2.3601999282836914, -2.3838999271392822, -2.430999994277954, -2.4516000747680664, -2.4969000816345215, -2.551500082015991, -2.9179000854492188, -2.926300048828125, 1.7719999551773071, 1.7209999561309814, 1.604099988937378, 1.5017000436782837, 1.0722999572753906, 0.839900016784668, 0.5586000084877014, 0.5414000153541565, 0.42669999599456787, 0.3928999900817871, 0.24330000579357147, -3.085700035095215, -3.1298000812530518, -3.142899990081787, -3.2421998977661133, -3.251199960708618, -3.2578001022338867, -3.3148999214172363, -3.3584001064300537, -3.3647000789642334, -3.405600070953369, -3.44569993019104, -3.4939000606536865, -3.5148000717163086, -3.5227999687194824, -3.595400094985962, -3.5996999740600586, -3.6428000926971436, -3.664799928665161, -3.7356998920440674, -3.967099905014038, -3.8561999797821045, -4.222599983215332, -3.7562999725341797, 2.572499990463257, 2.4570000171661377, 2.4247000217437744, -0.9957000017166138, -1.1871999502182007, -1.1934000253677368, -1.2312999963760376, -1.2444000244140625, -1.3437000513076782, -1.3467999696731567, -1.3528000116348267, -1.4163999557495117, -1.4599000215530396, -1.4661999940872192, -1.4918999671936035, -1.5471999645233154, -1.5953999757766724, -1.606600046157837, -1.6162999868392944, -1.6243000030517578, -1.6404999494552612, -1.6969000101089478, -1.701200008392334, -1.7443000078201294, -1.7663999795913696, -1.7900999784469604, -1.8372000455856323, -1.857800006866455, -1.8617000579833984, -1.9031000137329102, -2.0685999393463135, -1.9577000141143799, -2.3241000175476074, -2.3324999809265137, 2.2913999557495117, 2.230600118637085, 2.094599962234497, -0.9957000017166138, -1.1871999502182007, -1.1934000253677368, -1.2312999963760376, -1.2444000244140625, -1.3437000513076782, -1.3467999696731567, -1.3528000116348267, -1.3593000173568726, -1.4163999557495117, -1.4599000215530396, -1.4661999940872192, -1.4747999906539917, -1.4918999671936035, -1.507099986076355, -1.5471999645233154, -1.5953999757766724, -1.606600046157837, -1.6162999868392944, -1.6243000030517578, -1.6969000101089478, -1.7443000078201294, -1.7663999795913696, -1.7900999784469604, -1.857800006866455, -1.8617000579833984, -1.9031000137329102, -2.0685999393463135, -1.9577000141143799, -2.3241000175476074, -2.3324999809265137, 2.1124000549316406, 1.641800045967102, 1.0779000520706177, 1.0654000043869019, 0.9648000001907349, 0.949999988079071, 0.8292999863624573, 0.8084999918937683, 0.7278000116348267, 0.680400013923645, 0.6347000002861023, 0.5630999803543091, 0.5216000080108643, 0.4018000066280365, -2.6942999362945557, -2.700500011444092, -2.7383999824523926, -2.751499891281128, -2.850800037384033, -2.859800100326538, -2.9235000610351562, -2.999000072479248, -3.01419997215271, -3.05430006980896, -3.1136999130249023, -3.1314001083374023, -3.1475000381469727, -3.2083001136779785, -3.2734999656677246, -3.3443000316619873, -3.575700044631958, -3.4647998809814453, -3.831199884414673, -3.839600086212158, 2.102400064468384, 1.9048000574111938, 1.3487000465393066, 1.1730999946594238, 1.0269999504089355, 0.9502000212669373, 0.7422999739646912, 0.6223000288009644, 0.0340999998152256, -2.5608999729156494, -2.7523999214172363, -2.7964999675750732, -2.8097000122070312, -2.9089999198913574, -2.912100076675415, -2.9179999828338623, -2.9245998859405518, -3.0251998901367188, -3.0315001010894775, -3.0399999618530273, -3.0571999549865723, -3.0722999572753906, -3.1607000827789307, -3.1719000339508057, -3.18149995803833, -3.205699920654297, -3.2620999813079834, -3.3315999507904053, -3.355299949645996, -3.402400016784668, -3.6338000297546387, -3.468400001525879, -3.522900104522705, -3.889400005340576, 1.9925999641418457, 1.8833999633789062, 1.5420000553131104, 1.4311000108718872, 1.1756000518798828, -1.4278000593185425, -1.6193000078201294, -1.625599980354309, -1.6634000539779663, -1.6765999794006348, -1.7759000062942505, -1.7790000438690186, -1.7848999500274658, -1.7914999723434448, -1.8486000299453735, -1.8920999765396118, -1.8983999490737915, -1.9069000482559204, -1.9241000413894653, -1.9793000221252441, -2.027600049972534, -2.038800001144409, -2.05649995803833, -2.0725998878479004, -2.128999948501587, -2.1333000659942627, -2.1763999462127686, -2.198499917984009, -2.2221999168395996, -2.2692999839782715, -2.3352999687194824, -2.764699935913086, -2.2899999618530273, 2.464099884033203, 2.104099988937378, 1.4609999656677246, 1.20169997215271, 1.1064000129699707, 1.0649000406265259, 0.6355000138282776, -1.9594999551773071, -2.1572000980377197, -2.1951000690460205, -2.208199977874756, -2.307499885559082, -2.3106000423431396, -2.3166000843048096, -2.3231000900268555, -2.380199909210205, -2.4237000942230225, -2.430000066757202, -2.4386000633239746, -2.455699920654297, -2.5592000484466553, -2.5703999996185303, -2.5801000595092773, -2.588099956512451, -2.604300022125244, -2.6607000827789307, -2.6649999618530273, -2.7081000804901123, -2.7539000511169434, -2.8010001182556152, -3.032399892807007, -2.9214999675750732, -3.287899971008301, -2.8215999603271484, 2.005500078201294, 1.8461999893188477, 1.8395999670028687, 1.6035000085830688, 1.558500051498413, 1.4326000213623047, 1.3372999429702759, -1.7285000085830688, -1.9200999736785889, -1.9642000198364258, -1.9773000478744507, -2.0766000747680664, -2.079699993133545, -2.1493000984191895, -2.1928000450134277, -2.1991000175476074, -2.20770001411438, -2.2248001098632812, -2.240000009536743, -2.280100107192993, -2.3394999504089355, -2.3492000102996826, -2.3571999073028564, -2.429800033569336, -2.4340999126434326, -2.4772000312805176, -2.5230000019073486, -2.5701000690460205, -2.5906999111175537, -2.635999917984009, -2.801500082015991, -2.6905999183654785, -3.056999921798706, -3.0653998851776123], \"logprob\": [30.0, 29.0, 28.0, 27.0, 26.0, 25.0, 24.0, 23.0, 22.0, 21.0, 20.0, 19.0, 18.0, 17.0, 16.0, 15.0, 14.0, 13.0, 12.0, 11.0, 10.0, 9.0, 8.0, 7.0, 6.0, 5.0, 4.0, 3.0, 2.0, 1.0, -1.0813000202178955, -2.199899911880493, -2.1854000091552734, -1.9871000051498413, -3.0725998878479004, -3.0725998878479004, -3.0725998878479004, -3.0725998878479004, -3.0725998878479004, -3.0725998878479004, -7.00439977645874, -7.00439977645874, -7.00439977645874, -7.00439977645874, -7.00439977645874, -7.00439977645874, -7.00439977645874, -7.00439977645874, -7.00439977645874, -7.00439977645874, -7.00439977645874, -7.00439977645874, -7.00439977645874, -7.00439977645874, -7.00439977645874, -7.00439977645874, -7.00439977645874, -7.00439977645874, -7.00439977645874, -7.00439977645874, -7.00439977645874, -7.00439977645874, -7.00439977645874, -7.00439977645874, -1.4081000089645386, -1.1575000286102295, -2.6538000106811523, -2.6538000106811523, -3.337100028991699, -3.337100028991699, -3.337100028991699, -2.6538000106811523, -3.337100028991699, -3.337100028991699, -3.337100028991699, -7.268899917602539, -7.268899917602539, -7.268899917602539, -7.268899917602539, -7.268899917602539, -7.268899917602539, -7.268899917602539, -7.268899917602539, -7.268899917602539, -7.268899917602539, -7.268899917602539, -7.268899917602539, -7.268899917602539, -7.268899917602539, -7.268899917602539, -7.268899917602539, -7.268899917602539, -7.268899917602539, -7.268899917602539, -7.268899917602539, -7.268899917602539, -7.268899917602539, -7.268899917602539, -1.8423999547958374, -1.4083000421524048, -1.7282999753952026, -2.326900005340576, -2.7797999382019043, -2.7797999382019043, -2.7797999382019043, -3.3124001026153564, -3.374000072479248, -3.3649001121520996, -6.711599826812744, -6.711599826812744, -6.711599826812744, -6.711599826812744, -6.711599826812744, -6.711599826812744, -6.711599826812744, -6.711599826812744, -6.711599826812744, -6.711599826812744, -6.711599826812744, -6.711599826812744, -6.711599826812744, -6.711599826812744, -6.711599826812744, -6.711599826812744, -6.711599826812744, -6.711599826812744, -6.711599826812744, -6.711599826812744, -6.711599826812744, -6.711599826812744, -6.711599826812744, -6.711599826812744, -1.2350000143051147, -1.416700005531311, -1.9249000549316406, -2.3269999027252197, -1.9249000549316406, -3.0102999210357666, -6.942200183868408, -6.942200183868408, -6.942200183868408, -6.942200183868408, -6.942200183868408, -6.942200183868408, -6.942200183868408, -6.942200183868408, -6.942200183868408, -6.942200183868408, -6.942200183868408, -6.942200183868408, -6.942200183868408, -6.942200183868408, -6.942200183868408, -6.942200183868408, -6.942200183868408, -6.942200183868408, -6.942200183868408, -6.942200183868408, -6.942200183868408, -6.942200183868408, -6.942200183868408, -6.942200183868408, -6.942200183868408, -6.942200183868408, -6.942200183868408, -1.3672000169754028, -1.1855000257492065, -2.9607999324798584, -2.2774999141693115, -2.9607999324798584, -2.9607999324798584, -2.9607999324798584, -2.9607999324798584, -2.9607999324798584, -6.892600059509277, -6.892600059509277, -6.892600059509277, -6.892600059509277, -6.892600059509277, -6.892600059509277, -6.892600059509277, -6.892600059509277, -6.892600059509277, -6.892600059509277, -6.892600059509277, -6.892600059509277, -6.892600059509277, -6.892600059509277, -6.892600059509277, -6.892600059509277, -6.892600059509277, -6.892600059509277, -6.892600059509277, -6.892600059509277, -6.892600059509277, -6.892600059509277, -6.892600059509277, -6.892600059509277, -6.892600059509277, -1.6859999895095825, -1.4638999700546265, -1.972100019454956, -2.3742001056671143, -3.057499885559082, -3.057499885559082, -3.057499885559082, -3.057499885559082, -3.057499885559082, -3.057499885559082, -3.057499885559082, -6.989299774169922, -6.989299774169922, -6.989299774169922, -6.989299774169922, -6.989299774169922, -6.989299774169922, -6.989299774169922, -6.989299774169922, -6.989299774169922, -6.989299774169922, -6.989299774169922, -6.989299774169922, -6.989299774169922, -6.989299774169922, -6.989299774169922, -6.989299774169922, -6.989299774169922, -6.989299774169922, -6.989299774169922, -6.989299774169922, -6.989299774169922, -6.989299774169922, -6.989299774169922, -0.635200023651123, -1.7207000255584717, -1.7207000255584717, -5.652500152587891, -5.652500152587891, -5.652500152587891, -5.652500152587891, -5.652500152587891, -5.652500152587891, -5.652500152587891, -5.652500152587891, -5.652500152587891, -5.652500152587891, -5.652500152587891, -5.652500152587891, -5.652500152587891, -5.652500152587891, -5.652500152587891, -5.652500152587891, -5.652500152587891, -5.652500152587891, -5.652500152587891, -5.652500152587891, -5.652500152587891, -5.652500152587891, -5.652500152587891, -5.652500152587891, -5.652500152587891, -5.652500152587891, -5.652500152587891, -5.652500152587891, -5.652500152587891, -5.652500152587891, -5.652500152587891, -1.0499000549316406, -1.0698000192642212, -2.3215999603271484, -2.6633999347686768, -2.6633999347686768, -3.5139999389648438, -6.595200061798096, -6.595200061798096, -6.595200061798096, -6.595200061798096, -6.595200061798096, -6.595200061798096, -6.595200061798096, -6.595200061798096, -6.595200061798096, -6.595200061798096, -6.595200061798096, -6.595200061798096, -6.595200061798096, -6.595200061798096, -6.595200061798096, -6.595200061798096, -6.595200061798096, -6.595200061798096, -6.595200061798096, -6.595200061798096, -6.595200061798096, -6.595200061798096, -6.595200061798096, -6.595200061798096, -6.595200061798096, -6.595200061798096, -6.595200061798096, -6.595200061798096, -1.8385000228881836, -1.8385000228881836, -1.8385000228881836, -2.5218000411987305, -2.5218000411987305, -2.5218000411987305, -2.5218000411987305, -2.5218000411987305, -2.5218000411987305, -6.45359992980957, -6.45359992980957, -6.45359992980957, -6.45359992980957, -6.45359992980957, -6.45359992980957, -6.45359992980957, -6.45359992980957, -6.45359992980957, -6.45359992980957, -6.45359992980957, -6.45359992980957, -6.45359992980957, -6.45359992980957, -6.45359992980957, -6.45359992980957, -6.45359992980957, -6.45359992980957, -6.45359992980957, -6.45359992980957, -6.45359992980957, -6.45359992980957, -6.45359992980957, -6.45359992980957, -6.45359992980957, -6.45359992980957, -1.8753999471664429, -2.2774999141693115, -1.8753999471664429, -2.2774999141693115, -2.2774999141693115, -2.2774999141693115, -2.9607999324798584, -2.9607999324798584, -2.9607999324798584, -2.9607999324798584, -2.9607999324798584, -6.892600059509277, -6.892600059509277, -6.892600059509277, -6.892600059509277, -6.892600059509277, -6.892600059509277, -6.892600059509277, -6.892600059509277, -6.892600059509277, -6.892600059509277, -6.892600059509277, -6.892600059509277, -6.892600059509277, -6.892600059509277, -6.892600059509277, -6.892600059509277, -6.892600059509277, -6.892600059509277, -6.892600059509277, -6.892600059509277, -6.892600059509277, -6.892600059509277, -6.892600059509277, -0.6686000227928162, -1.226099967956543, -1.9142999649047852, -6.529399871826172, -6.529399871826172, -6.529399871826172, -6.529399871826172, -6.529399871826172, -6.529399871826172, -6.529399871826172, -6.529399871826172, -6.529399871826172, -6.529399871826172, -6.529399871826172, -6.529399871826172, -6.529399871826172, -6.529399871826172, -6.529399871826172, -6.529399871826172, -6.529399871826172, -6.529399871826172, -6.529399871826172, -6.529399871826172, -6.529399871826172, -6.529399871826172, -6.529399871826172, -6.529399871826172, -6.529399871826172, -6.529399871826172, -6.529399871826172, -6.529399871826172, -6.529399871826172, -6.529399871826172, -1.226099967956543, -1.9142999649047852, -2.597599983215332, -2.597599983215332, -1.9142999649047852, -2.597599983215332, -2.597599983215332, -2.597599983215332, -6.529399871826172, -6.529399871826172, -6.529399871826172, -6.529399871826172, -6.529399871826172, -6.529399871826172, -6.529399871826172, -6.529399871826172, -6.529399871826172, -6.529399871826172, -6.529399871826172, -6.529399871826172, -6.529399871826172, -6.529399871826172, -6.529399871826172, -6.529399871826172, -6.529399871826172, -6.529399871826172, -6.529399871826172, -6.529399871826172, -6.529399871826172, -6.529399871826172, -6.529399871826172, -6.529399871826172, -6.529399871826172, -1.2020000219345093, -1.4241000413894653, -2.795599937438965, -2.112299919128418, -2.795599937438965, -2.795599937438965, -2.795599937438965, -2.795599937438965, -6.727399826049805, -6.727399826049805, -6.727399826049805, -6.727399826049805, -6.727399826049805, -6.727399826049805, -6.727399826049805, -6.727399826049805, -6.727399826049805, -6.727399826049805, -6.727399826049805, -6.727399826049805, -6.727399826049805, -6.727399826049805, -6.727399826049805, -6.727399826049805, -6.727399826049805, -6.727399826049805, -6.727399826049805, -6.727399826049805, -6.727399826049805, -6.727399826049805, -6.727399826049805, -6.727399826049805, -6.727399826049805, -6.727399826049805, -1.5825999975204468, -1.9847999811172485, -2.6679999828338623, -1.5825999975204468, -1.9847999811172485, -2.6679999828338623, -2.6679999828338623, -2.6679999828338623, -6.599899768829346, -6.599899768829346, -6.599899768829346, -6.599899768829346, -6.599899768829346, -6.599899768829346, -6.599899768829346, -6.599899768829346, -6.599899768829346, -6.599899768829346, -6.599899768829346, -6.599899768829346, -6.599899768829346, -6.599899768829346, -6.599899768829346, -6.599899768829346, -6.599899768829346, -6.599899768829346, -6.599899768829346, -6.599899768829346, -6.599899768829346, -6.599899768829346, -6.599899768829346, -6.599899768829346, -6.599899768829346, -6.599899768829346, -1.0580999851226807, -2.1435000896453857, -2.1435000896453857, -2.1435000896453857, -2.1435000896453857, -2.1435000896453857, -6.075300216674805, -6.075300216674805, -6.075300216674805, -6.075300216674805, -6.075300216674805, -6.075300216674805, -6.075300216674805, -6.075300216674805, -6.075300216674805, -6.075300216674805, -6.075300216674805, -6.075300216674805, -6.075300216674805, -6.075300216674805, -6.075300216674805, -6.075300216674805, -6.075300216674805, -6.075300216674805, -6.075300216674805, -6.075300216674805, -6.075300216674805, -6.075300216674805, -6.075300216674805, -6.075300216674805, -6.075300216674805, -6.075300216674805, -6.075300216674805, -6.075300216674805, -1.1503000259399414, -1.8385000228881836, -2.5218000411987305, -2.5218000411987305, -2.5218000411987305, -2.5218000411987305, -2.5218000411987305, -2.5218000411987305, -6.45359992980957, -6.45359992980957, -6.45359992980957, -6.45359992980957, -6.45359992980957, -6.45359992980957, -6.45359992980957, -6.45359992980957, -6.45359992980957, -6.45359992980957, -6.45359992980957, -6.45359992980957, -6.45359992980957, -6.45359992980957, -6.45359992980957, -6.45359992980957, -6.45359992980957, -6.45359992980957, -6.45359992980957, -6.45359992980957, -6.45359992980957, -6.45359992980957, -6.45359992980957, -6.45359992980957, -6.45359992980957, -0.6499000191688538, -2.021399974822998, -2.021399974822998, -2.021399974822998, -5.953199863433838, -5.953199863433838, -5.953199863433838, -5.953199863433838, -5.953199863433838, -5.953199863433838, -5.953199863433838, -5.953199863433838, -5.953199863433838, -5.953199863433838, -5.953199863433838, -5.953199863433838, -5.953199863433838, -5.953199863433838, -5.953199863433838, -5.953199863433838, -5.953199863433838, -5.953199863433838, -5.953199863433838, -5.953199863433838, -5.953199863433838, -5.953199863433838, -5.953199863433838, -5.953199863433838, -5.953199863433838, -5.953199863433838, -5.953199863433838, -5.953199863433838, -5.953199863433838, -1.3543000221252441, -1.3543000221252441, -2.4398000240325928, -2.4398000240325928, -2.4398000240325928, -2.4398000240325928, -2.4398000240325928, -6.371600151062012, -6.371600151062012, -6.371600151062012, -6.371600151062012, -6.371600151062012, -6.371600151062012, -6.371600151062012, -6.371600151062012, -6.371600151062012, -6.371600151062012, -6.371600151062012, -6.371600151062012, -6.371600151062012, -6.371600151062012, -6.371600151062012, -6.371600151062012, -6.371600151062012, -6.371600151062012, -6.371600151062012, -6.371600151062012, -6.371600151062012, -6.371600151062012, -6.371600151062012, -6.371600151062012, -6.371600151062012, -6.371600151062012, -6.371600151062012, -1.4363000392913818, -1.1503000259399414, -1.8385000228881836, -2.5218000411987305, -2.5218000411987305, -2.5218000411987305, -6.45359992980957, -6.45359992980957, -6.45359992980957, -6.45359992980957, -6.45359992980957, -6.45359992980957, -6.45359992980957, -6.45359992980957, -6.45359992980957, -6.45359992980957, -6.45359992980957, -6.45359992980957, -6.45359992980957, -6.45359992980957, -6.45359992980957, -6.45359992980957, -6.45359992980957, -6.45359992980957, -6.45359992980957, -6.45359992980957, -6.45359992980957, -6.45359992980957, -6.45359992980957, -6.45359992980957, -6.45359992980957, -6.45359992980957, -6.45359992980957, -6.45359992980957, -2.1435000896453857, -1.4601999521255493, -2.1435000896453857, -2.1435000896453857, -2.1435000896453857, -2.1435000896453857, -2.1435000896453857, -6.075300216674805, -6.075300216674805, -6.075300216674805, -6.075300216674805, -6.075300216674805, -6.075300216674805, -6.075300216674805, -6.075300216674805, -6.075300216674805, -6.075300216674805, -6.075300216674805, -6.075300216674805, -6.075300216674805, -6.075300216674805, -6.075300216674805, -6.075300216674805, -6.075300216674805, -6.075300216674805, -6.075300216674805, -6.075300216674805, -6.075300216674805, -6.075300216674805, -6.075300216674805, -6.075300216674805, -6.075300216674805, -6.075300216674805, -6.075300216674805, -1.2965999841690063, -1.0743999481201172, -2.6679999828338623, -1.9847999811172485, -2.6679999828338623, -2.6679999828338623, -6.599899768829346, -6.599899768829346, -6.599899768829346, -6.599899768829346, -6.599899768829346, -6.599899768829346, -6.599899768829346, -6.599899768829346, -6.599899768829346, -6.599899768829346, -6.599899768829346, -6.599899768829346, -6.599899768829346, -6.599899768829346, -6.599899768829346, -6.599899768829346, -6.599899768829346, -6.599899768829346, -6.599899768829346, -6.599899768829346, -6.599899768829346, -6.599899768829346, -6.599899768829346, -6.599899768829346, -6.599899768829346, -6.599899768829346, -6.599899768829346, -6.599899768829346, -1.569000005722046, -2.2523000240325928, -2.2523000240325928, -2.2523000240325928, -2.2523000240325928, -2.2523000240325928, -2.2523000240325928, -2.2523000240325928, -6.184100151062012, -6.184100151062012, -6.184100151062012, -6.184100151062012, -6.184100151062012, -6.184100151062012, -6.184100151062012, -6.184100151062012, -6.184100151062012, -6.184100151062012, -6.184100151062012, -6.184100151062012, -6.184100151062012, -6.184100151062012, -6.184100151062012, -6.184100151062012, -6.184100151062012, -6.184100151062012, -6.184100151062012, -6.184100151062012, -6.184100151062012, -6.184100151062012, -6.184100151062012, -6.184100151062012, -6.184100151062012, -1.1990000009536743, -1.8823000192642212, -1.1990000009536743, -1.8823000192642212, -5.8140997886657715, -5.8140997886657715, -5.8140997886657715, -5.8140997886657715, -5.8140997886657715, -5.8140997886657715, -5.8140997886657715, -5.8140997886657715, -5.8140997886657715, -5.8140997886657715, -5.8140997886657715, -5.8140997886657715, -5.8140997886657715, -5.8140997886657715, -5.8140997886657715, -5.8140997886657715, -5.8140997886657715, -5.8140997886657715, -5.8140997886657715, -5.8140997886657715, -5.8140997886657715, -5.8140997886657715, -5.8140997886657715, -5.8140997886657715, -5.8140997886657715, -5.8140997886657715, -5.8140997886657715, -5.8140997886657715, -5.8140997886657715, -5.8140997886657715, -1.1669000387191772, -2.2523000240325928, -2.2523000240325928, -2.2523000240325928, -2.2523000240325928, -2.2523000240325928, -2.2523000240325928, -6.184100151062012, -6.184100151062012, -6.184100151062012, -6.184100151062012, -6.184100151062012, -6.184100151062012, -6.184100151062012, -6.184100151062012, -6.184100151062012, -6.184100151062012, -6.184100151062012, -6.184100151062012, -6.184100151062012, -6.184100151062012, -6.184100151062012, -6.184100151062012, -6.184100151062012, -6.184100151062012, -6.184100151062012, -6.184100151062012, -6.184100151062012, -6.184100151062012, -6.184100151062012, -6.184100151062012, -6.184100151062012, -6.184100151062012, -6.184100151062012, -1.2884999513626099, -1.2884999513626099, -1.2884999513626099, -5.220399856567383, -5.220399856567383, -5.220399856567383, -5.220399856567383, -5.220399856567383, -5.220399856567383, -5.220399856567383, -5.220399856567383, -5.220399856567383, -5.220399856567383, -5.220399856567383, -5.220399856567383, -5.220399856567383, -5.220399856567383, -5.220399856567383, -5.220399856567383, -5.220399856567383, -5.220399856567383, -5.220399856567383, -5.220399856567383, -5.220399856567383, -5.220399856567383, -5.220399856567383, -5.220399856567383, -5.220399856567383, -5.220399856567383, -5.220399856567383, -5.220399856567383, -5.220399856567383, -5.220399856567383, -1.569000005722046, -1.569000005722046, -1.569000005722046, -2.2523000240325928, -2.2523000240325928, -2.2523000240325928, -6.184100151062012, -6.184100151062012, -6.184100151062012, -6.184100151062012, -6.184100151062012, -6.184100151062012, -6.184100151062012, -6.184100151062012, -6.184100151062012, -6.184100151062012, -6.184100151062012, -6.184100151062012, -6.184100151062012, -6.184100151062012, -6.184100151062012, -6.184100151062012, -6.184100151062012, -6.184100151062012, -6.184100151062012, -6.184100151062012, -6.184100151062012, -6.184100151062012, -6.184100151062012, -6.184100151062012, -6.184100151062012, -6.184100151062012, -6.184100151062012, -6.184100151062012, -1.003999948501587, -1.9142999649047852, -2.597599983215332, -2.597599983215332, -2.597599983215332, -2.597599983215332, -2.597599983215332, -2.597599983215332, -6.529399871826172, -6.529399871826172, -6.529399871826172, -6.529399871826172, -6.529399871826172, -6.529399871826172, -6.529399871826172, -6.529399871826172, -6.529399871826172, -6.529399871826172, -6.529399871826172, -6.529399871826172, -6.529399871826172, -6.529399871826172, -6.529399871826172, -6.529399871826172, -6.529399871826172, -6.529399871826172, -6.529399871826172, -6.529399871826172, -6.529399871826172, -6.529399871826172, -6.529399871826172, -6.529399871826172, -6.529399871826172, -6.529399871826172, -1.0374000072479248, -1.7207000255584717, -1.7207000255584717, -1.7207000255584717, -5.652500152587891, -5.652500152587891, -5.652500152587891, -5.652500152587891, -5.652500152587891, -5.652500152587891, -5.652500152587891, -5.652500152587891, -5.652500152587891, -5.652500152587891, -5.652500152587891, -5.652500152587891, -5.652500152587891, -5.652500152587891, -5.652500152587891, -5.652500152587891, -5.652500152587891, -5.652500152587891, -5.652500152587891, -5.652500152587891, -5.652500152587891, -5.652500152587891, -5.652500152587891, -5.652500152587891, -5.652500152587891, -5.652500152587891, -5.652500152587891, -5.652500152587891, -5.652500152587891, -5.652500152587891, -1.569000005722046, -1.569000005722046, -2.2523000240325928, -1.569000005722046, -2.2523000240325928, -2.2523000240325928, -6.184100151062012, -6.184100151062012, -6.184100151062012, -6.184100151062012, -6.184100151062012, -6.184100151062012, -6.184100151062012, -6.184100151062012, -6.184100151062012, -6.184100151062012, -6.184100151062012, -6.184100151062012, -6.184100151062012, -6.184100151062012, -6.184100151062012, -6.184100151062012, -6.184100151062012, -6.184100151062012, -6.184100151062012, -6.184100151062012, -6.184100151062012, -6.184100151062012, -6.184100151062012, -6.184100151062012, -6.184100151062012, -6.184100151062012, -6.184100151062012, -6.184100151062012, -0.5108000040054321, -4.442699909210205, -4.442699909210205, -4.442699909210205, -4.442699909210205, -4.442699909210205, -4.442699909210205, -4.442699909210205, -4.442699909210205, -4.442699909210205, -4.442699909210205, -4.442699909210205, -4.442699909210205, -4.442699909210205, -4.442699909210205, -4.442699909210205, -4.442699909210205, -4.442699909210205, -4.442699909210205, -4.442699909210205, -4.442699909210205, -4.442699909210205, -4.442699909210205, -4.442699909210205, -4.442699909210205, -4.442699909210205, -4.442699909210205, -4.442699909210205, -4.442699909210205, -4.442699909210205, -4.442699909210205, -4.442699909210205, -4.442699909210205, -4.442699909210205, -1.667099952697754, -1.667099952697754, -2.350399971008301, -2.350399971008301, -2.350399971008301, -2.350399971008301, -2.350399971008301, -2.350399971008301, -6.282299995422363, -6.282299995422363, -6.282299995422363, -6.282299995422363, -6.282299995422363, -6.282299995422363, -6.282299995422363, -6.282299995422363, -6.282299995422363, -6.282299995422363, -6.282299995422363, -6.282299995422363, -6.282299995422363, -6.282299995422363, -6.282299995422363, -6.282299995422363, -6.282299995422363, -6.282299995422363, -6.282299995422363, -6.282299995422363, -6.282299995422363, -6.282299995422363, -6.282299995422363, -6.282299995422363, -6.282299995422363, -6.282299995422363, -1.2649999856948853, -1.667099952697754, -1.2649999856948853, -2.350399971008301, -2.350399971008301, -6.282299995422363, -6.282299995422363, -6.282299995422363, -6.282299995422363, -6.282299995422363, -6.282299995422363, -6.282299995422363, -6.282299995422363, -6.282299995422363, -6.282299995422363, -6.282299995422363, -6.282299995422363, -6.282299995422363, -6.282299995422363, -6.282299995422363, -6.282299995422363, -6.282299995422363, -6.282299995422363, -6.282299995422363, -6.282299995422363, -6.282299995422363, -6.282299995422363, -6.282299995422363, -6.282299995422363, -6.282299995422363, -6.282299995422363, -6.282299995422363, -6.282299995422363, -6.282299995422363, -1.5277999639511108, -1.5277999639511108, -1.5277999639511108, -1.5277999639511108, -5.45959997177124, -5.45959997177124, -5.45959997177124, -5.45959997177124, -5.45959997177124, -5.45959997177124, -5.45959997177124, -5.45959997177124, -5.45959997177124, -5.45959997177124, -5.45959997177124, -5.45959997177124, -5.45959997177124, -5.45959997177124, -5.45959997177124, -5.45959997177124, -5.45959997177124, -5.45959997177124, -5.45959997177124, -5.45959997177124, -5.45959997177124, -5.45959997177124, -5.45959997177124, -5.45959997177124, -5.45959997177124, -5.45959997177124, -5.45959997177124, -5.45959997177124, -5.45959997177124, -5.45959997177124, -1.2884999513626099, -1.2884999513626099, -1.2884999513626099, -5.220399856567383, -5.220399856567383, -5.220399856567383, -5.220399856567383, -5.220399856567383, -5.220399856567383, -5.220399856567383, -5.220399856567383, -5.220399856567383, -5.220399856567383, -5.220399856567383, -5.220399856567383, -5.220399856567383, -5.220399856567383, -5.220399856567383, -5.220399856567383, -5.220399856567383, -5.220399856567383, -5.220399856567383, -5.220399856567383, -5.220399856567383, -5.220399856567383, -5.220399856567383, -5.220399856567383, -5.220399856567383, -5.220399856567383, -5.220399856567383, -5.220399856567383, -5.220399856567383, -5.220399856567383, -5.220399856567383, -0.9733999967575073, -0.9733999967575073, -4.905300140380859, -4.905300140380859, -4.905300140380859, -4.905300140380859, -4.905300140380859, -4.905300140380859, -4.905300140380859, -4.905300140380859, -4.905300140380859, -4.905300140380859, -4.905300140380859, -4.905300140380859, -4.905300140380859, -4.905300140380859, -4.905300140380859, -4.905300140380859, -4.905300140380859, -4.905300140380859, -4.905300140380859, -4.905300140380859, -4.905300140380859, -4.905300140380859, -4.905300140380859, -4.905300140380859, -4.905300140380859, -4.905300140380859, -4.905300140380859, -4.905300140380859, -4.905300140380859, -4.905300140380859, -4.905300140380859, -4.905300140380859, -0.8808000087738037, -2.2523000240325928, -2.2523000240325928, -2.2523000240325928, -2.2523000240325928, -2.2523000240325928, -6.184100151062012, -6.184100151062012, -6.184100151062012, -6.184100151062012, -6.184100151062012, -6.184100151062012, -6.184100151062012, -6.184100151062012, -6.184100151062012, -6.184100151062012, -6.184100151062012, -6.184100151062012, -6.184100151062012, -6.184100151062012, -6.184100151062012, -6.184100151062012, -6.184100151062012, -6.184100151062012, -6.184100151062012, -6.184100151062012, -6.184100151062012, -6.184100151062012, -6.184100151062012, -6.184100151062012, -6.184100151062012, -6.184100151062012, -6.184100151062012, -1.226099967956543, -1.9142999649047852, -1.9142999649047852, -2.597599983215332, -2.597599983215332, -2.597599983215332, -2.597599983215332, -2.597599983215332, -6.529399871826172, -6.529399871826172, -6.529399871826172, -6.529399871826172, -6.529399871826172, -6.529399871826172, -6.529399871826172, -6.529399871826172, -6.529399871826172, -6.529399871826172, -6.529399871826172, -6.529399871826172, -6.529399871826172, -6.529399871826172, -6.529399871826172, -6.529399871826172, -6.529399871826172, -6.529399871826172, -6.529399871826172, -6.529399871826172, -6.529399871826172, -6.529399871826172, -6.529399871826172, -6.529399871826172, -6.529399871826172, -6.529399871826172, -6.529399871826172, -1.8823000192642212, -1.8823000192642212, -1.8823000192642212, -1.8823000192642212, -1.8823000192642212, -1.8823000192642212, -5.8140997886657715, -5.8140997886657715, -5.8140997886657715, -5.8140997886657715, -5.8140997886657715, -5.8140997886657715, -5.8140997886657715, -5.8140997886657715, -5.8140997886657715, -5.8140997886657715, -5.8140997886657715, -5.8140997886657715, -5.8140997886657715, -5.8140997886657715, -5.8140997886657715, -5.8140997886657715, -5.8140997886657715, -5.8140997886657715, -5.8140997886657715, -5.8140997886657715, -5.8140997886657715, -5.8140997886657715, -5.8140997886657715, -5.8140997886657715, -5.8140997886657715, -5.8140997886657715, -5.8140997886657715, -5.8140997886657715, -2.1435000896453857, -2.1435000896453857, -2.1435000896453857, -2.1435000896453857, -1.4601999521255493, -2.1435000896453857, -2.1435000896453857, -6.075300216674805, -6.075300216674805, -6.075300216674805, -6.075300216674805, -6.075300216674805, -6.075300216674805, -6.075300216674805, -6.075300216674805, -6.075300216674805, -6.075300216674805, -6.075300216674805, -6.075300216674805, -6.075300216674805, -6.075300216674805, -6.075300216674805, -6.075300216674805, -6.075300216674805, -6.075300216674805, -6.075300216674805, -6.075300216674805, -6.075300216674805, -6.075300216674805, -6.075300216674805, -6.075300216674805, -6.075300216674805, -6.075300216674805, -6.075300216674805, -1.7683000564575195, -2.1705000400543213, -2.1705000400543213, -2.853800058364868, -1.7683000564575195, -1.7683000564575195, -2.853800058364868, -2.853800058364868, -2.853800058364868, -6.785600185394287, -6.785600185394287, -6.785600185394287, -6.785600185394287, -6.785600185394287, -6.785600185394287, -6.785600185394287, -6.785600185394287, -6.785600185394287, -6.785600185394287, -6.785600185394287, -6.785600185394287, -6.785600185394287, -6.785600185394287, -6.785600185394287, -6.785600185394287, -6.785600185394287, -6.785600185394287, -6.785600185394287, -6.785600185394287, -6.785600185394287, -6.785600185394287, -6.785600185394287, -6.785600185394287, -6.785600185394287, -1.5893000364303589, -2.2774999141693115, -1.5893000364303589, -1.8753999471664429, -2.9607999324798584, -2.9607999324798584, -2.9607999324798584, -2.9607999324798584, -2.9607999324798584, -2.9607999324798584, -6.892600059509277, -6.892600059509277, -6.892600059509277, -6.892600059509277, -6.892600059509277, -6.892600059509277, -6.892600059509277, -6.892600059509277, -6.892600059509277, -6.892600059509277, -6.892600059509277, -6.892600059509277, -6.892600059509277, -6.892600059509277, -6.892600059509277, -6.892600059509277, -6.892600059509277, -6.892600059509277, -6.892600059509277, -6.892600059509277, -6.892600059509277, -6.892600059509277, -6.892600059509277, -6.892600059509277, -1.8823000192642212, -1.8823000192642212, -1.8823000192642212, -1.8823000192642212, -1.8823000192642212, -1.8823000192642212, -5.8140997886657715, -5.8140997886657715, -5.8140997886657715, -5.8140997886657715, -5.8140997886657715, -5.8140997886657715, -5.8140997886657715, -5.8140997886657715, -5.8140997886657715, -5.8140997886657715, -5.8140997886657715, -5.8140997886657715, -5.8140997886657715, -5.8140997886657715, -5.8140997886657715, -5.8140997886657715, -5.8140997886657715, -5.8140997886657715, -5.8140997886657715, -5.8140997886657715, -5.8140997886657715, -5.8140997886657715, -5.8140997886657715, -5.8140997886657715, -5.8140997886657715, -5.8140997886657715, -5.8140997886657715, -5.8140997886657715, -2.1015000343322754, -2.503700017929077, -1.593400001525879, -1.815500020980835, -1.815500020980835, -3.187000036239624, -3.187000036239624, -3.187000036239624, -3.187000036239624, -3.187000036239624, -3.187000036239624, -7.118800163269043, -7.118800163269043, -7.118800163269043, -7.118800163269043, -7.118800163269043, -7.118800163269043, -7.118800163269043, -7.118800163269043, -7.118800163269043, -7.118800163269043, -7.118800163269043, -7.118800163269043, -7.118800163269043, -7.118800163269043, -7.118800163269043, -7.118800163269043, -7.118800163269043, -7.118800163269043, -7.118800163269043, -7.118800163269043, -7.118800163269043, -7.118800163269043, -7.118800163269043, -1.2884999513626099, -1.2884999513626099, -1.2884999513626099, -5.220399856567383, -5.220399856567383, -5.220399856567383, -5.220399856567383, -5.220399856567383, -5.220399856567383, -5.220399856567383, -5.220399856567383, -5.220399856567383, -5.220399856567383, -5.220399856567383, -5.220399856567383, -5.220399856567383, -5.220399856567383, -5.220399856567383, -5.220399856567383, -5.220399856567383, -5.220399856567383, -5.220399856567383, -5.220399856567383, -5.220399856567383, -5.220399856567383, -5.220399856567383, -5.220399856567383, -5.220399856567383, -5.220399856567383, -5.220399856567383, -5.220399856567383, -5.220399856567383, -5.220399856567383, -5.220399856567383, -1.2884999513626099, -1.2884999513626099, -1.2884999513626099, -5.220399856567383, -5.220399856567383, -5.220399856567383, -5.220399856567383, -5.220399856567383, -5.220399856567383, -5.220399856567383, -5.220399856567383, -5.220399856567383, -5.220399856567383, -5.220399856567383, -5.220399856567383, -5.220399856567383, -5.220399856567383, -5.220399856567383, -5.220399856567383, -5.220399856567383, -5.220399856567383, -5.220399856567383, -5.220399856567383, -5.220399856567383, -5.220399856567383, -5.220399856567383, -5.220399856567383, -5.220399856567383, -5.220399856567383, -5.220399856567383, -5.220399856567383, -5.220399856567383, -5.220399856567383, -5.220399856567383, -2.112299919128418, -2.112299919128418, -2.795599937438965, -2.795599937438965, -2.795599937438965, -2.795599937438965, -2.795599937438965, -2.795599937438965, -2.795599937438965, -2.795599937438965, -2.795599937438965, -2.795599937438965, -2.795599937438965, -2.795599937438965, -6.727399826049805, -6.727399826049805, -6.727399826049805, -6.727399826049805, -6.727399826049805, -6.727399826049805, -6.727399826049805, -6.727399826049805, -6.727399826049805, -6.727399826049805, -6.727399826049805, -6.727399826049805, -6.727399826049805, -6.727399826049805, -6.727399826049805, -6.727399826049805, -6.727399826049805, -6.727399826049805, -6.727399826049805, -6.727399826049805, -1.26010000705719, -1.7683000564575195, -2.1705000400543213, -2.853800058364868, -2.1705000400543213, -2.853800058364868, -2.853800058364868, -2.853800058364868, -2.853800058364868, -6.785600185394287, -6.785600185394287, -6.785600185394287, -6.785600185394287, -6.785600185394287, -6.785600185394287, -6.785600185394287, -6.785600185394287, -6.785600185394287, -6.785600185394287, -6.785600185394287, -6.785600185394287, -6.785600185394287, -6.785600185394287, -6.785600185394287, -6.785600185394287, -6.785600185394287, -6.785600185394287, -6.785600185394287, -6.785600185394287, -6.785600185394287, -6.785600185394287, -6.785600185394287, -6.785600185394287, -6.785600185394287, -1.7207000255584717, -1.7207000255584717, -1.7207000255584717, -1.7207000255584717, -1.7207000255584717, -5.652500152587891, -5.652500152587891, -5.652500152587891, -5.652500152587891, -5.652500152587891, -5.652500152587891, -5.652500152587891, -5.652500152587891, -5.652500152587891, -5.652500152587891, -5.652500152587891, -5.652500152587891, -5.652500152587891, -5.652500152587891, -5.652500152587891, -5.652500152587891, -5.652500152587891, -5.652500152587891, -5.652500152587891, -5.652500152587891, -5.652500152587891, -5.652500152587891, -5.652500152587891, -5.652500152587891, -5.652500152587891, -5.652500152587891, -5.652500152587891, -5.652500152587891, -1.569000005722046, -1.569000005722046, -2.2523000240325928, -2.2523000240325928, -2.2523000240325928, -2.2523000240325928, -2.2523000240325928, -6.184100151062012, -6.184100151062012, -6.184100151062012, -6.184100151062012, -6.184100151062012, -6.184100151062012, -6.184100151062012, -6.184100151062012, -6.184100151062012, -6.184100151062012, -6.184100151062012, -6.184100151062012, -6.184100151062012, -6.184100151062012, -6.184100151062012, -6.184100151062012, -6.184100151062012, -6.184100151062012, -6.184100151062012, -6.184100151062012, -6.184100151062012, -6.184100151062012, -6.184100151062012, -6.184100151062012, -6.184100151062012, -6.184100151062012, -6.184100151062012, -2.021399974822998, -2.021399974822998, -2.021399974822998, -2.021399974822998, -2.021399974822998, -2.021399974822998, -2.021399974822998, -5.953199863433838, -5.953199863433838, -5.953199863433838, -5.953199863433838, -5.953199863433838, -5.953199863433838, -5.953199863433838, -5.953199863433838, -5.953199863433838, -5.953199863433838, -5.953199863433838, -5.953199863433838, -5.953199863433838, -5.953199863433838, -5.953199863433838, -5.953199863433838, -5.953199863433838, -5.953199863433838, -5.953199863433838, -5.953199863433838, -5.953199863433838, -5.953199863433838, -5.953199863433838, -5.953199863433838, -5.953199863433838, -5.953199863433838, -5.953199863433838]}, \"token.table\": {\"Topic\": [4, 12, 16, 17, 24, 29, 32, 48, 2, 4, 5, 11, 13, 14, 17, 18, 22, 25, 39, 40, 48, 6, 9, 14, 18, 27, 29, 31, 40, 4, 32, 44, 1, 3, 5, 27, 39, 42, 47, 49, 1, 3, 6, 8, 20, 22, 42, 8, 20, 27, 28, 31, 35, 40, 45, 3, 8, 10, 26, 36, 1, 2, 9, 13, 37, 39, 41, 42, 43, 1, 5, 10, 12, 18, 21, 2, 31, 32, 33, 39, 5, 10, 12, 16, 20, 21, 24, 30, 31, 1, 10, 18, 22, 23, 34, 2, 3, 6, 9, 12, 14, 15, 19, 23, 27, 29, 38, 1, 3, 10, 22, 26, 34, 35, 38, 39, 3, 7, 19, 21, 38, 47, 1, 3, 6, 9, 10, 18, 21, 26, 31, 32, 36, 4, 6, 9, 13, 24, 29, 42, 48, 5, 7, 8, 9, 13, 20, 22, 24, 27, 3, 4, 8, 10, 16, 36, 37, 2, 10, 13, 15, 16, 27, 28, 44, 2, 6, 9, 15, 16, 18, 27, 44, 48, 2, 11, 15, 19, 23, 26, 36, 38, 40, 43, 1, 6, 7, 21, 31, 5, 6, 12, 29, 33, 43, 1, 2, 4, 11, 13, 14, 22, 25, 27, 31, 36, 39, 41, 42, 48, 3, 8, 10, 14, 16, 18, 20, 36, 45, 2, 6, 9, 10, 13, 14, 16, 24, 39, 2, 12, 13, 14, 16, 17, 20, 28, 34, 43, 12, 17, 19, 22, 26, 38, 42, 1, 2, 6, 9, 15, 24, 25, 33, 5, 19, 29, 41, 49, 5, 10, 12, 20, 21, 6, 15, 22, 23, 28, 32, 33, 40, 3, 5, 14, 19, 24, 26, 31, 37, 38, 45], \"Freq\": [0.1404220312833786, 0.1404220312833786, 0.23403672873973846, 0.09361469000577927, 0.1404220312833786, 0.09361469000577927, 0.09361469000577927, 0.04680734500288963, 0.03244718909263611, 0.09734157472848892, 0.03244718909263611, 0.16223594546318054, 0.03244718909263611, 0.09734157472848892, 0.22713033854961395, 0.03244718909263611, 0.03244718909263611, 0.09734157472848892, 0.03244718909263611, 0.03244718909263611, 0.03244718909263611, 0.20610283315181732, 0.1545771211385727, 0.10305141657590866, 0.20610283315181732, 0.05152570828795433, 0.10305141657590866, 0.05152570828795433, 0.05152570828795433, 0.5109035968780518, 0.17030119895935059, 0.08515059947967529, 0.21169513463974, 0.07056504487991333, 0.42339026927948, 0.07056504487991333, 0.07056504487991333, 0.07056504487991333, 0.07056504487991333, 0.07056504487991333, 0.4635382294654846, 0.05794227868318558, 0.05794227868318558, 0.05794227868318558, 0.17382684350013733, 0.05794227868318558, 0.05794227868318558, 0.3629619777202606, 0.06049366295337677, 0.06049366295337677, 0.12098732590675354, 0.06049366295337677, 0.12098732590675354, 0.06049366295337677, 0.06049366295337677, 0.34284672141075134, 0.08571168035268784, 0.2571350634098053, 0.17142336070537567, 0.08571168035268784, 0.13155624270439148, 0.35081666707992554, 0.04385208338499069, 0.17540833353996277, 0.08770416676998138, 0.04385208338499069, 0.04385208338499069, 0.04385208338499069, 0.04385208338499069, 0.0955185666680336, 0.0955185666680336, 0.1910371333360672, 0.0955185666680336, 0.0955185666680336, 0.2865557074546814, 0.5189358592033386, 0.08648931235074997, 0.17297862470149994, 0.17297862470149994, 0.08648931235074997, 0.05534900724887848, 0.11069801449775696, 0.05534900724887848, 0.11069801449775696, 0.05534900724887848, 0.05534900724887848, 0.05534900724887848, 0.2767450511455536, 0.11069801449775696, 0.07651763409376144, 0.07651763409376144, 0.07651763409376144, 0.1530352681875229, 0.22955289483070374, 0.1530352681875229, 0.11335461586713791, 0.056677307933568954, 0.11335461586713791, 0.056677307933568954, 0.056677307933568954, 0.056677307933568954, 0.11335461586713791, 0.056677307933568954, 0.11335461586713791, 0.056677307933568954, 0.056677307933568954, 0.056677307933568954, 0.07700090855360031, 0.07700090855360031, 0.07700090855360031, 0.07700090855360031, 0.07700090855360031, 0.15400181710720062, 0.15400181710720062, 0.07700090855360031, 0.07700090855360031, 0.05172304809093475, 0.5172305107116699, 0.05172304809093475, 0.206892192363739, 0.05172304809093475, 0.05172304809093475, 0.19598467648029327, 0.06532822549343109, 0.06532822549343109, 0.06532822549343109, 0.13065645098686218, 0.06532822549343109, 0.06532822549343109, 0.13065645098686218, 0.06532822549343109, 0.06532822549343109, 0.06532822549343109, 0.1317119002342224, 0.1975678652524948, 0.1975678652524948, 0.0658559501171112, 0.0658559501171112, 0.1317119002342224, 0.0658559501171112, 0.0658559501171112, 0.07457610964775085, 0.22372831404209137, 0.07457610964775085, 0.07457610964775085, 0.07457610964775085, 0.07457610964775085, 0.07457610964775085, 0.07457610964775085, 0.07457610964775085, 0.24301797151565552, 0.06075449287891388, 0.3645269572734833, 0.06075449287891388, 0.06075449287891388, 0.06075449287891388, 0.06075449287891388, 0.07586497068405151, 0.07586497068405151, 0.07586497068405151, 0.15172994136810303, 0.07586497068405151, 0.22759492695331573, 0.15172994136810303, 0.07586497068405151, 0.07345467060804367, 0.07345467060804367, 0.07345467060804367, 0.14690934121608734, 0.07345467060804367, 0.2938186824321747, 0.07345467060804367, 0.07345467060804367, 0.07345467060804367, 0.06435253471136093, 0.2895864248275757, 0.16088134050369263, 0.12870506942272186, 0.0965288057923317, 0.032176267355680466, 0.0965288057923317, 0.032176267355680466, 0.032176267355680466, 0.032176267355680466, 0.100514717400074, 0.100514717400074, 0.3015441596508026, 0.100514717400074, 0.201029434800148, 0.08622125536203384, 0.08622125536203384, 0.4311062693595886, 0.08622125536203384, 0.1724425107240677, 0.08622125536203384, 0.04189378395676613, 0.04189378395676613, 0.20946891605854034, 0.12568135559558868, 0.08378756791353226, 0.08378756791353226, 0.04189378395676613, 0.12568135559558868, 0.04189378395676613, 0.04189378395676613, 0.04189378395676613, 0.04189378395676613, 0.04189378395676613, 0.04189378395676613, 0.04189378395676613, 0.12856541574001312, 0.12856541574001312, 0.1928481161594391, 0.06428270787000656, 0.06428270787000656, 0.06428270787000656, 0.06428270787000656, 0.06428270787000656, 0.06428270787000656, 0.09678025543689728, 0.09678025543689728, 0.09678025543689728, 0.09678025543689728, 0.09678025543689728, 0.09678025543689728, 0.09678025543689728, 0.09678025543689728, 0.09678025543689728, 0.04943249002099037, 0.04943249002099037, 0.24716244637966156, 0.1482974737882614, 0.04943249002099037, 0.09886498004198074, 0.04943249002099037, 0.09886498004198074, 0.09886498004198074, 0.04943249002099037, 0.24127428233623505, 0.16084951162338257, 0.24127428233623505, 0.08042475581169128, 0.08042475581169128, 0.08042475581169128, 0.08042475581169128, 0.0664951354265213, 0.1329902708530426, 0.0664951354265213, 0.1994854211807251, 0.1329902708530426, 0.0664951354265213, 0.1994854211807251, 0.1329902708530426, 0.505730926990509, 0.10114618390798569, 0.10114618390798569, 0.10114618390798569, 0.10114618390798569, 0.12249753624200821, 0.24499507248401642, 0.12249753624200821, 0.12249753624200821, 0.12249753624200821, 0.20172803103923798, 0.13448534905910492, 0.06724267452955246, 0.13448534905910492, 0.20172803103923798, 0.06724267452955246, 0.13448534905910492, 0.06724267452955246, 0.3168172240257263, 0.10560574382543564, 0.05280287191271782, 0.10560574382543564, 0.05280287191271782, 0.10560574382543564, 0.05280287191271782, 0.05280287191271782, 0.05280287191271782, 0.05280287191271782], \"Term\": [\"agassi\", \"agassi\", \"agassi\", \"agassi\", \"agassi\", \"agassi\", \"agassi\", \"agassi\", \"alabama\", \"alabama\", \"alabama\", \"alabama\", \"alabama\", \"alabama\", \"alabama\", \"alabama\", \"alabama\", \"alabama\", \"alabama\", \"alabama\", \"alabama\", \"algeria\", \"algeria\", \"algeria\", \"algeria\", \"algeria\", \"algeria\", \"algeria\", \"algeria\", \"altruism\", \"altruism\", \"altruism\", \"anarchism\", \"anarchism\", \"anarchism\", \"anarchism\", \"anarchism\", \"anarchism\", \"anarchism\", \"anarchism\", \"anarchist\", \"anarchist\", \"anarchist\", \"anarchist\", \"anarchist\", \"anarchist\", \"anarchist\", \"andorra\", \"andorra\", \"andorra\", \"andorra\", \"andorra\", \"andorra\", \"andorra\", \"andorra\", \"anthropology\", \"anthropology\", \"anthropology\", \"anthropology\", \"anthropology\", \"apollo\", \"apollo\", \"apollo\", \"apollo\", \"apollo\", \"apollo\", \"apollo\", \"apollo\", \"apollo\", \"aristotle\", \"aristotle\", \"aristotle\", \"aristotle\", \"aristotle\", \"aristotle\", \"ascii\", \"ascii\", \"ascii\", \"ascii\", \"ascii\", \"autism\", \"autism\", \"autism\", \"autism\", \"autism\", \"autism\", \"autism\", \"autism\", \"autism\", \"century\", \"century\", \"century\", \"century\", \"century\", \"century\", \"country\", \"country\", \"country\", \"country\", \"country\", \"country\", \"country\", \"country\", \"country\", \"country\", \"country\", \"country\", \"early\", \"early\", \"early\", \"early\", \"early\", \"early\", \"early\", \"early\", \"early\", \"film\", \"film\", \"film\", \"film\", \"film\", \"film\", \"form\", \"form\", \"form\", \"form\", \"form\", \"form\", \"form\", \"form\", \"form\", \"form\", \"form\", \"french\", \"french\", \"french\", \"french\", \"french\", \"french\", \"french\", \"french\", \"high\", \"high\", \"high\", \"high\", \"high\", \"high\", \"high\", \"high\", \"high\", \"human\", \"human\", \"human\", \"human\", \"human\", \"human\", \"human\", \"know\", \"know\", \"know\", \"know\", \"know\", \"know\", \"know\", \"know\", \"large\", \"large\", \"large\", \"large\", \"large\", \"large\", \"large\", \"large\", \"large\", \"lincoln\", \"lincoln\", \"lincoln\", \"lincoln\", \"lincoln\", \"lincoln\", \"lincoln\", \"lincoln\", \"lincoln\", \"lincoln\", \"live\", \"live\", \"live\", \"live\", \"live\", \"people\", \"people\", \"people\", \"people\", \"people\", \"people\", \"state\", \"state\", \"state\", \"state\", \"state\", \"state\", \"state\", \"state\", \"state\", \"state\", \"state\", \"state\", \"state\", \"state\", \"state\", \"study\", \"study\", \"study\", \"study\", \"study\", \"study\", \"study\", \"study\", \"study\", \"system\", \"system\", \"system\", \"system\", \"system\", \"system\", \"system\", \"system\", \"system\", \"time\", \"time\", \"time\", \"time\", \"time\", \"time\", \"time\", \"time\", \"time\", \"time\", \"u.s.\", \"u.s.\", \"u.s.\", \"u.s.\", \"u.s.\", \"u.s.\", \"u.s.\", \"use\", \"use\", \"use\", \"use\", \"use\", \"use\", \"use\", \"use\", \"war\", \"war\", \"war\", \"war\", \"war\", \"with_autism\", \"with_autism\", \"with_autism\", \"with_autism\", \"with_autism\", \"work\", \"work\", \"work\", \"work\", \"work\", \"work\", \"work\", \"work\", \"year\", \"year\", \"year\", \"year\", \"year\", \"year\", \"year\", \"year\", \"year\", \"year\"]}, \"R\": 30, \"lambda.step\": 0.01, \"plot.opts\": {\"xlab\": \"PC1\", \"ylab\": \"PC2\"}, \"topic.order\": [5, 39, 11, 32, 38, 19, 22, 49, 30, 7, 46, 10, 15, 41, 33, 42, 31, 47, 43, 25, 48, 45, 6, 35, 40, 17, 24, 1, 28, 34, 44, 29, 3, 37, 36, 4, 2, 27, 50, 21, 8, 23, 16, 26, 20, 14, 12, 9, 13, 18]};\n",
       "\n",
       "function LDAvis_load_lib(url, callback){\n",
       "  var s = document.createElement('script');\n",
       "  s.src = url;\n",
       "  s.async = true;\n",
       "  s.onreadystatechange = s.onload = callback;\n",
       "  s.onerror = function(){console.warn(\"failed to load library \" + url);};\n",
       "  document.getElementsByTagName(\"head\")[0].appendChild(s);\n",
       "}\n",
       "\n",
       "if(typeof(LDAvis) !== \"undefined\"){\n",
       "   // already loaded: just create the visualization\n",
       "   !function(LDAvis){\n",
       "       new LDAvis(\"#\" + \"ldavis_el470101129315226242003906537\", ldavis_el470101129315226242003906537_data);\n",
       "   }(LDAvis);\n",
       "}else if(typeof define === \"function\" && define.amd){\n",
       "   // require.js is available: use it to load d3/LDAvis\n",
       "   require.config({paths: {d3: \"https://cdnjs.cloudflare.com/ajax/libs/d3/3.5.5/d3.min\"}});\n",
       "   require([\"d3\"], function(d3){\n",
       "      window.d3 = d3;\n",
       "      LDAvis_load_lib(\"https://cdn.rawgit.com/bmabey/pyLDAvis/files/ldavis.v1.0.0.js\", function(){\n",
       "        new LDAvis(\"#\" + \"ldavis_el470101129315226242003906537\", ldavis_el470101129315226242003906537_data);\n",
       "      });\n",
       "    });\n",
       "}else{\n",
       "    // require.js not available: dynamically load d3 & LDAvis\n",
       "    LDAvis_load_lib(\"https://cdnjs.cloudflare.com/ajax/libs/d3/3.5.5/d3.min.js\", function(){\n",
       "         LDAvis_load_lib(\"https://cdn.rawgit.com/bmabey/pyLDAvis/files/ldavis.v1.0.0.js\", function(){\n",
       "                 new LDAvis(\"#\" + \"ldavis_el470101129315226242003906537\", ldavis_el470101129315226242003906537_data);\n",
       "            })\n",
       "         });\n",
       "}\n",
       "</script>"
      ],
      "text/plain": [
       "<IPython.core.display.HTML object>"
      ]
     },
     "execution_count": 337,
     "metadata": {},
     "output_type": "execute_result"
    }
   ],
   "source": [
    "pyLDAvis.display(LDAvis_prepared)\n"
   ]
  },
  {
   "cell_type": "markdown",
   "metadata": {},
   "source": [
    "## Trying topic for each sentence"
   ]
  },
  {
   "cell_type": "code",
   "execution_count": 351,
   "metadata": {
    "ExecuteTime": {
     "end_time": "2019-04-08T09:46:59.968627Z",
     "start_time": "2019-04-08T09:46:59.962573Z"
    }
   },
   "outputs": [],
   "source": [
    "def f_topic_for_each(in_sentence):\n",
    "    FE_sent_filepath=os.path.join(out_dir, 'tmp_FE_sent.txt')\n",
    "    FE_trigram_dictionary_filepath = os.path.join(out_dir, 'tmp_FE_trigram_dict_all.dict')\n",
    "    FE_trigram_bow_filepath = os.path.join(out_dir,\n",
    "                                    'tmp_FE_trigram_bow_corpus_all.mm')\n",
    "    FE_lda_model_filepath = os.path.join(out_dir, 'tmp_FE_lda_model_all')\n",
    "\n",
    "    \n",
    "    with open(FE_sent_filepath, 'w') as f:\n",
    "        f.write(in_sentence)\n",
    "    trigram_reviews = LineSentence(FE_sent_filepath)\n",
    "    # learn the dictionary by iterating over all of the reviews\n",
    "    trigram_dictionary = Dictionary(trigram_reviews)\n",
    "    # filter tokens that are very rare or too common from\n",
    "    # the dictionary (filter_extremes) and reassign integer ids (compactify)\n",
    "    trigram_dictionary.filter_extremes(no_below=2, no_above=0.4)\n",
    "    trigram_dictionary.compactify()\n",
    "    trigram_dictionary.save(FE_trigram_dictionary_filepath)\n",
    "    # load the finished dictionary from disk\n",
    "    trigram_dictionary = Dictionary.load(FE_trigram_dictionary_filepath)\n",
    "\n",
    "    # generate bag-of-words representations for\n",
    "    # all reviews and save them as a matrix\n",
    "    MmCorpus.serialize(FE_trigram_bow_filepath,\n",
    "               trigram_bow_generator(FE_sent_filepath))\n",
    "\n",
    "    # load the finished bag-of-words corpus from disk\n",
    "    trigram_bow_corpus = MmCorpus(FE_trigram_bow_filepath)\n",
    "\n",
    "    with warnings.catch_warnings():\n",
    "        warnings.simplefilter('ignore')\n",
    "\n",
    "        # workers => sets the parallelism, and should be\n",
    "        # set to your number of physical cores minus one\n",
    "        lda = LdaMulticore(trigram_bow_corpus,\n",
    "                           num_topics=50,\n",
    "                           id2word=trigram_dictionary,\n",
    "                           workers=1)\n",
    "\n",
    "    lda.save(lda_model_filepath)\n",
    "\n",
    "    # load the finished LDA model from disk\n",
    "    lda = LdaMulticore.load(lda_model_filepath) \n",
    "    \n",
    "    explore_topic(topic_number=0)\n"
   ]
  },
  {
   "cell_type": "code",
   "execution_count": 365,
   "metadata": {
    "ExecuteTime": {
     "end_time": "2019-04-08T09:50:06.651277Z",
     "start_time": "2019-04-08T09:50:06.646488Z"
    }
   },
   "outputs": [
    {
     "data": {
      "text/plain": [
       "0    The earliest anarchist themes can be found in ...\n",
       "Name: context_raw, dtype: object"
      ]
     },
     "execution_count": 365,
     "metadata": {},
     "output_type": "execute_result"
    }
   ],
   "source": [
    "df_qid_context['context_raw'].head(1)"
   ]
  },
  {
   "cell_type": "code",
   "execution_count": 383,
   "metadata": {
    "ExecuteTime": {
     "end_time": "2019-04-08T10:04:15.542479Z",
     "start_time": "2019-04-08T10:04:15.538833Z"
    }
   },
   "outputs": [],
   "source": [
    "var1=df_qid_context['context_trigram_nostopwords'].head(1).to_string(header=False, index=False)"
   ]
  },
  {
   "cell_type": "code",
   "execution_count": 423,
   "metadata": {
    "ExecuteTime": {
     "end_time": "2019-04-08T10:29:46.015752Z",
     "start_time": "2019-04-08T10:29:46.011469Z"
    }
   },
   "outputs": [],
   "source": [
    "df_temp=pd.DataFrame()\n",
    "df_temp['context_trigram_nostopwords']=df_qid_context['context_trigram_nostopwords'].head(1)"
   ]
  },
  {
   "cell_type": "code",
   "execution_count": 426,
   "metadata": {
    "ExecuteTime": {
     "end_time": "2019-04-08T10:30:14.278975Z",
     "start_time": "2019-04-08T10:30:14.241359Z"
    }
   },
   "outputs": [],
   "source": [
    "df_temp.to_clipboard()"
   ]
  },
  {
   "cell_type": "code",
   "execution_count": 425,
   "metadata": {
    "ExecuteTime": {
     "end_time": "2019-04-08T10:30:07.561848Z",
     "start_time": "2019-04-08T10:30:07.555844Z"
    }
   },
   "outputs": [
    {
     "data": {
      "text/html": [
       "<div>\n",
       "<style scoped>\n",
       "    .dataframe tbody tr th:only-of-type {\n",
       "        vertical-align: middle;\n",
       "    }\n",
       "\n",
       "    .dataframe tbody tr th {\n",
       "        vertical-align: top;\n",
       "    }\n",
       "\n",
       "    .dataframe thead th {\n",
       "        text-align: right;\n",
       "    }\n",
       "</style>\n",
       "<table border=\"1\" class=\"dataframe\">\n",
       "  <thead>\n",
       "    <tr style=\"text-align: right;\">\n",
       "      <th></th>\n",
       "      <th>context_trigram_nostopwords</th>\n",
       "    </tr>\n",
       "  </thead>\n",
       "  <tbody>\n",
       "    <tr>\n",
       "      <th>0</th>\n",
       "      <td>early anarchist theme find 6th century bc work...</td>\n",
       "    </tr>\n",
       "  </tbody>\n",
       "</table>\n",
       "</div>"
      ],
      "text/plain": [
       "                         context_trigram_nostopwords\n",
       "0  early anarchist theme find 6th century bc work..."
      ]
     },
     "execution_count": 425,
     "metadata": {},
     "output_type": "execute_result"
    }
   ],
   "source": [
    "df_temp"
   ]
  },
  {
   "cell_type": "code",
   "execution_count": 399,
   "metadata": {
    "ExecuteTime": {
     "end_time": "2019-04-08T10:09:02.472376Z",
     "start_time": "2019-04-08T10:09:02.448514Z"
    },
    "collapsed": true
   },
   "outputs": [
    {
     "ename": "ValueError",
     "evalue": "cannot compute LDA over an empty collection (no terms)",
     "output_type": "error",
     "traceback": [
      "\u001b[0;31m---------------------------------------------------------------------------\u001b[0m",
      "\u001b[0;31mValueError\u001b[0m                                Traceback (most recent call last)",
      "\u001b[0;32m<ipython-input-399-da5c94a74ddc>\u001b[0m in \u001b[0;36m<module>\u001b[0;34m\u001b[0m\n\u001b[0;32m----> 1\u001b[0;31m \u001b[0mf_topic_for_each\u001b[0m\u001b[0;34m(\u001b[0m\u001b[0mvar1\u001b[0m\u001b[0;34m)\u001b[0m\u001b[0;34m\u001b[0m\u001b[0;34m\u001b[0m\u001b[0m\n\u001b[0m",
      "\u001b[0;32m<ipython-input-351-e47750f43e27>\u001b[0m in \u001b[0;36mf_topic_for_each\u001b[0;34m(in_sentence)\u001b[0m\n\u001b[1;32m     36\u001b[0m                            \u001b[0mnum_topics\u001b[0m\u001b[0;34m=\u001b[0m\u001b[0;36m50\u001b[0m\u001b[0;34m,\u001b[0m\u001b[0;34m\u001b[0m\u001b[0;34m\u001b[0m\u001b[0m\n\u001b[1;32m     37\u001b[0m                            \u001b[0mid2word\u001b[0m\u001b[0;34m=\u001b[0m\u001b[0mtrigram_dictionary\u001b[0m\u001b[0;34m,\u001b[0m\u001b[0;34m\u001b[0m\u001b[0;34m\u001b[0m\u001b[0m\n\u001b[0;32m---> 38\u001b[0;31m                            workers=1)\n\u001b[0m\u001b[1;32m     39\u001b[0m \u001b[0;34m\u001b[0m\u001b[0m\n\u001b[1;32m     40\u001b[0m     \u001b[0mlda\u001b[0m\u001b[0;34m.\u001b[0m\u001b[0msave\u001b[0m\u001b[0;34m(\u001b[0m\u001b[0mlda_model_filepath\u001b[0m\u001b[0;34m)\u001b[0m\u001b[0;34m\u001b[0m\u001b[0;34m\u001b[0m\u001b[0m\n",
      "\u001b[0;32m~/anaconda3/lib/python3.7/site-packages/gensim/models/ldamulticore.py\u001b[0m in \u001b[0;36m__init__\u001b[0;34m(self, corpus, num_topics, id2word, workers, chunksize, passes, batch, alpha, eta, decay, offset, eval_every, iterations, gamma_threshold, random_state, minimum_probability, minimum_phi_value, per_word_topics, dtype)\u001b[0m\n\u001b[1;32m    151\u001b[0m             \u001b[0mdecay\u001b[0m\u001b[0;34m=\u001b[0m\u001b[0mdecay\u001b[0m\u001b[0;34m,\u001b[0m \u001b[0moffset\u001b[0m\u001b[0;34m=\u001b[0m\u001b[0moffset\u001b[0m\u001b[0;34m,\u001b[0m \u001b[0meval_every\u001b[0m\u001b[0;34m=\u001b[0m\u001b[0meval_every\u001b[0m\u001b[0;34m,\u001b[0m \u001b[0miterations\u001b[0m\u001b[0;34m=\u001b[0m\u001b[0miterations\u001b[0m\u001b[0;34m,\u001b[0m\u001b[0;34m\u001b[0m\u001b[0;34m\u001b[0m\u001b[0m\n\u001b[1;32m    152\u001b[0m             \u001b[0mgamma_threshold\u001b[0m\u001b[0;34m=\u001b[0m\u001b[0mgamma_threshold\u001b[0m\u001b[0;34m,\u001b[0m \u001b[0mrandom_state\u001b[0m\u001b[0;34m=\u001b[0m\u001b[0mrandom_state\u001b[0m\u001b[0;34m,\u001b[0m \u001b[0mminimum_probability\u001b[0m\u001b[0;34m=\u001b[0m\u001b[0mminimum_probability\u001b[0m\u001b[0;34m,\u001b[0m\u001b[0;34m\u001b[0m\u001b[0;34m\u001b[0m\u001b[0m\n\u001b[0;32m--> 153\u001b[0;31m             \u001b[0mminimum_phi_value\u001b[0m\u001b[0;34m=\u001b[0m\u001b[0mminimum_phi_value\u001b[0m\u001b[0;34m,\u001b[0m \u001b[0mper_word_topics\u001b[0m\u001b[0;34m=\u001b[0m\u001b[0mper_word_topics\u001b[0m\u001b[0;34m,\u001b[0m \u001b[0mdtype\u001b[0m\u001b[0;34m=\u001b[0m\u001b[0mdtype\u001b[0m\u001b[0;34m\u001b[0m\u001b[0;34m\u001b[0m\u001b[0m\n\u001b[0m\u001b[1;32m    154\u001b[0m         )\n\u001b[1;32m    155\u001b[0m \u001b[0;34m\u001b[0m\u001b[0m\n",
      "\u001b[0;32m~/anaconda3/lib/python3.7/site-packages/gensim/models/ldamodel.py\u001b[0m in \u001b[0;36m__init__\u001b[0;34m(self, corpus, num_topics, id2word, distributed, chunksize, passes, update_every, alpha, eta, decay, offset, eval_every, iterations, gamma_threshold, minimum_probability, random_state, ns_conf, minimum_phi_value, per_word_topics, callbacks, dtype)\u001b[0m\n\u001b[1;32m    291\u001b[0m \u001b[0;34m\u001b[0m\u001b[0m\n\u001b[1;32m    292\u001b[0m         \u001b[0;32mif\u001b[0m \u001b[0mself\u001b[0m\u001b[0;34m.\u001b[0m\u001b[0mnum_terms\u001b[0m \u001b[0;34m==\u001b[0m \u001b[0;36m0\u001b[0m\u001b[0;34m:\u001b[0m\u001b[0;34m\u001b[0m\u001b[0;34m\u001b[0m\u001b[0m\n\u001b[0;32m--> 293\u001b[0;31m             \u001b[0;32mraise\u001b[0m \u001b[0mValueError\u001b[0m\u001b[0;34m(\u001b[0m\u001b[0;34m\"cannot compute LDA over an empty collection (no terms)\"\u001b[0m\u001b[0;34m)\u001b[0m\u001b[0;34m\u001b[0m\u001b[0;34m\u001b[0m\u001b[0m\n\u001b[0m\u001b[1;32m    294\u001b[0m \u001b[0;34m\u001b[0m\u001b[0m\n\u001b[1;32m    295\u001b[0m         \u001b[0mself\u001b[0m\u001b[0;34m.\u001b[0m\u001b[0mdistributed\u001b[0m \u001b[0;34m=\u001b[0m \u001b[0mbool\u001b[0m\u001b[0;34m(\u001b[0m\u001b[0mdistributed\u001b[0m\u001b[0;34m)\u001b[0m\u001b[0;34m\u001b[0m\u001b[0;34m\u001b[0m\u001b[0m\n",
      "\u001b[0;31mValueError\u001b[0m: cannot compute LDA over an empty collection (no terms)"
     ]
    }
   ],
   "source": [
    "f_topic_for_each(var1)"
   ]
  },
  {
   "cell_type": "code",
   "execution_count": 401,
   "metadata": {
    "ExecuteTime": {
     "end_time": "2019-04-08T10:15:36.135478Z",
     "start_time": "2019-04-08T10:15:36.132166Z"
    }
   },
   "outputs": [],
   "source": [
    "FE_sent_filepath=os.path.join(out_dir, 'tmp_FE_sent.txt')\n",
    "FE_trigram_dictionary_filepath = os.path.join(out_dir, 'tmp_FE_trigram_dict_all.dict')\n",
    "FE_trigram_bow_filepath = os.path.join(out_dir,\n",
    "                                'tmp_FE_trigram_bow_corpus_all.mm')\n",
    "FE_lda_model_filepath = os.path.join(out_dir, 'tmp_FE_lda_model_all')\n"
   ]
  },
  {
   "cell_type": "code",
   "execution_count": 429,
   "metadata": {
    "ExecuteTime": {
     "end_time": "2019-04-08T10:31:31.645415Z",
     "start_time": "2019-04-08T10:31:31.640576Z"
    }
   },
   "outputs": [],
   "source": [
    "df_temp['context_trigram_nostopwords'].to_csv(FE_sent_filepath, header=False, index=False)"
   ]
  },
  {
   "cell_type": "code",
   "execution_count": 447,
   "metadata": {
    "ExecuteTime": {
     "end_time": "2019-04-08T10:35:15.765600Z",
     "start_time": "2019-04-08T10:35:15.763254Z"
    }
   },
   "outputs": [],
   "source": [
    "for item in trigram_dictionary.items():\n",
    "    print(item)"
   ]
  },
  {
   "cell_type": "code",
   "execution_count": 458,
   "metadata": {
    "ExecuteTime": {
     "end_time": "2019-04-08T10:38:10.587070Z",
     "start_time": "2019-04-08T10:38:10.579830Z"
    }
   },
   "outputs": [
    {
     "data": {
      "text/plain": [
       "[]"
      ]
     },
     "execution_count": 458,
     "metadata": {},
     "output_type": "execute_result"
    }
   ],
   "source": [
    "trigram_dictionary.keys()"
   ]
  },
  {
   "cell_type": "code",
   "execution_count": 459,
   "metadata": {
    "ExecuteTime": {
     "end_time": "2019-04-08T10:38:38.808523Z",
     "start_time": "2019-04-08T10:38:38.803940Z"
    }
   },
   "outputs": [],
   "source": [
    "trigram_reviews = LineSentence(FE_sent_filepath)\n",
    "# learn the dictionary by iterating over all of the reviews\n",
    "trigram_dictionary = Dictionary(trigram_reviews)\n",
    "# filter tokens that are very rare or too common from\n",
    "# the dictionary (filter_extremes) and reassign integer ids (compactify)\n",
    "#TODO: trigram_dictionary.filter_extremes is resulting in zero records\n",
    "#trigram_dictionary.filter_extremes(keep_n=5)\n",
    "trigram_dictionary.compactify()\n",
    "trigram_dictionary.save(FE_trigram_dictionary_filepath)\n",
    "# load the finished dictionary from disk\n",
    "trigram_dictionary = Dictionary.load(FE_trigram_dictionary_filepath)\n"
   ]
  },
  {
   "cell_type": "code",
   "execution_count": 461,
   "metadata": {
    "ExecuteTime": {
     "end_time": "2019-04-08T10:38:46.355875Z",
     "start_time": "2019-04-08T10:38:46.346578Z"
    }
   },
   "outputs": [],
   "source": [
    "# generate bag-of-words representations for\n",
    "# all reviews and save them as a matrix\n",
    "MmCorpus.serialize(FE_trigram_bow_filepath,\n",
    "           trigram_bow_generator(FE_sent_filepath))\n",
    "\n",
    "# load the finished bag-of-words corpus from disk\n",
    "trigram_bow_corpus = MmCorpus(FE_trigram_bow_filepath)\n",
    "\n"
   ]
  },
  {
   "cell_type": "code",
   "execution_count": 462,
   "metadata": {
    "ExecuteTime": {
     "end_time": "2019-04-08T10:38:48.341364Z",
     "start_time": "2019-04-08T10:38:48.335243Z"
    }
   },
   "outputs": [
    {
     "data": {
      "text/plain": [
       "'./output/tmp_FE_trigram_bow_corpus_all.mm'"
      ]
     },
     "execution_count": 462,
     "metadata": {},
     "output_type": "execute_result"
    }
   ],
   "source": [
    "trigram_bow_corpus.input"
   ]
  },
  {
   "cell_type": "code",
   "execution_count": 466,
   "metadata": {
    "ExecuteTime": {
     "end_time": "2019-04-08T10:39:45.016893Z",
     "start_time": "2019-04-08T10:39:44.841278Z"
    }
   },
   "outputs": [],
   "source": [
    "with warnings.catch_warnings():\n",
    "    warnings.simplefilter('ignore')\n",
    "\n",
    "    # workers => sets the parallelism, and should be\n",
    "    # set to your number of physical cores minus one\n",
    "    lda = LdaMulticore(trigram_bow_corpus,\n",
    "                       num_topics=50,\n",
    "                       id2word=trigram_dictionary)\n",
    "\n",
    "lda.save(FE_lda_model_filepath)\n",
    "\n",
    "# load the finished LDA model from disk\n",
    "lda = LdaMulticore.load(FE_lda_model_filepath) \n",
    "\n"
   ]
  },
  {
   "cell_type": "code",
   "execution_count": 474,
   "metadata": {
    "ExecuteTime": {
     "end_time": "2019-04-08T10:44:20.127098Z",
     "start_time": "2019-04-08T10:44:20.123045Z"
    }
   },
   "outputs": [
    {
     "name": "stdout",
     "output_type": "stream",
     "text": [
      "term                 frequency\n",
      "\n",
      "6th                  0.067\n",
      "anarchist            0.067\n",
      "bao                  0.067\n",
      "bc                   0.067\n",
      "century              0.067\n",
      "early                0.067\n",
      "find                 0.067\n",
      "jingyan              0.067\n",
      "laozi                0.067\n",
      "later                0.067\n",
      "philosopher          0.067\n",
      "taoist               0.067\n",
      "theme                0.067\n",
      "work                 0.067\n",
      "zhuangzi             0.067\n"
     ]
    }
   ],
   "source": [
    "explore_topic(topic_number=0)\n"
   ]
  },
  {
   "cell_type": "code",
   "execution_count": 475,
   "metadata": {
    "ExecuteTime": {
     "end_time": "2019-04-08T10:44:25.277875Z",
     "start_time": "2019-04-08T10:44:25.274047Z"
    }
   },
   "outputs": [
    {
     "name": "stdout",
     "output_type": "stream",
     "text": [
      "term                 frequency\n",
      "\n",
      "6th                  0.067\n",
      "anarchist            0.067\n",
      "bao                  0.067\n",
      "bc                   0.067\n",
      "century              0.067\n",
      "early                0.067\n",
      "find                 0.067\n",
      "jingyan              0.067\n",
      "laozi                0.067\n",
      "later                0.067\n",
      "philosopher          0.067\n",
      "taoist               0.067\n",
      "theme                0.067\n",
      "work                 0.067\n",
      "zhuangzi             0.067\n"
     ]
    }
   ],
   "source": [
    "explore_topic(topic_number=1)\n"
   ]
  },
  {
   "cell_type": "code",
   "execution_count": 470,
   "metadata": {
    "ExecuteTime": {
     "end_time": "2019-04-08T10:42:01.384469Z",
     "start_time": "2019-04-08T10:41:59.640999Z"
    }
   },
   "outputs": [
    {
     "name": "stderr",
     "output_type": "stream",
     "text": [
      "/Users/sdatta/anaconda3/lib/python3.7/site-packages/pyLDAvis/_prepare.py:257: FutureWarning: Sorting because non-concatenation axis is not aligned. A future version\n",
      "of pandas will change to not sort by default.\n",
      "\n",
      "To accept the future behavior, pass 'sort=False'.\n",
      "\n",
      "To retain the current behavior and silence the warning, pass 'sort=True'.\n",
      "\n",
      "  return pd.concat([default_term_info] + list(topic_dfs))\n"
     ]
    }
   ],
   "source": [
    "LDAvis_data_filepath = os.path.join(out_dir, 'temp_FE_ldavis_prepared')\n",
    "LDAvis_prepared = pyLDAvis.gensim.prepare(lda, trigram_bow_corpus,\n",
    "                                          trigram_dictionary)\n",
    "with open(LDAvis_data_filepath, 'wb') as f:\n",
    "    pickle.dump(LDAvis_prepared, f)\n",
    "\n",
    "# load the pre-prepared pyLDAvis data from disk\n",
    "with open(LDAvis_data_filepath, 'rb') as f:\n",
    "    LDAvis_prepared = pickle.load(f)\n",
    "\n"
   ]
  },
  {
   "cell_type": "code",
   "execution_count": 471,
   "metadata": {
    "ExecuteTime": {
     "end_time": "2019-04-08T10:42:12.092344Z",
     "start_time": "2019-04-08T10:42:12.074529Z"
    }
   },
   "outputs": [
    {
     "ename": "TypeError",
     "evalue": "Object of type complex is not JSON serializable",
     "output_type": "error",
     "traceback": [
      "\u001b[0;31m---------------------------------------------------------------------------\u001b[0m",
      "\u001b[0;31mTypeError\u001b[0m                                 Traceback (most recent call last)",
      "\u001b[0;32m<ipython-input-471-011a0b8f647c>\u001b[0m in \u001b[0;36m<module>\u001b[0;34m\u001b[0m\n\u001b[0;32m----> 1\u001b[0;31m \u001b[0mpyLDAvis\u001b[0m\u001b[0;34m.\u001b[0m\u001b[0mdisplay\u001b[0m\u001b[0;34m(\u001b[0m\u001b[0mLDAvis_prepared\u001b[0m\u001b[0;34m)\u001b[0m\u001b[0;34m\u001b[0m\u001b[0;34m\u001b[0m\u001b[0m\n\u001b[0m",
      "\u001b[0;32m~/anaconda3/lib/python3.7/site-packages/pyLDAvis/_display.py\u001b[0m in \u001b[0;36mdisplay\u001b[0;34m(data, local, **kwargs)\u001b[0m\n\u001b[1;32m    220\u001b[0m         \u001b[0mkwargs\u001b[0m\u001b[0;34m[\u001b[0m\u001b[0;34m'd3_url'\u001b[0m\u001b[0;34m]\u001b[0m\u001b[0;34m,\u001b[0m \u001b[0mkwargs\u001b[0m\u001b[0;34m[\u001b[0m\u001b[0;34m'ldavis_url'\u001b[0m\u001b[0;34m]\u001b[0m\u001b[0;34m,\u001b[0m \u001b[0mkwargs\u001b[0m\u001b[0;34m[\u001b[0m\u001b[0;34m'ldavis_css_url'\u001b[0m\u001b[0;34m]\u001b[0m \u001b[0;34m=\u001b[0m \u001b[0mwrite_ipynb_local_js\u001b[0m\u001b[0;34m(\u001b[0m\u001b[0;34m)\u001b[0m\u001b[0;34m\u001b[0m\u001b[0;34m\u001b[0m\u001b[0m\n\u001b[1;32m    221\u001b[0m \u001b[0;34m\u001b[0m\u001b[0m\n\u001b[0;32m--> 222\u001b[0;31m     \u001b[0;32mreturn\u001b[0m \u001b[0mHTML\u001b[0m\u001b[0;34m(\u001b[0m\u001b[0mprepared_data_to_html\u001b[0m\u001b[0;34m(\u001b[0m\u001b[0mdata\u001b[0m\u001b[0;34m,\u001b[0m \u001b[0;34m**\u001b[0m\u001b[0mkwargs\u001b[0m\u001b[0;34m)\u001b[0m\u001b[0;34m)\u001b[0m\u001b[0;34m\u001b[0m\u001b[0;34m\u001b[0m\u001b[0m\n\u001b[0m\u001b[1;32m    223\u001b[0m \u001b[0;34m\u001b[0m\u001b[0m\n\u001b[1;32m    224\u001b[0m def show(data, ip='127.0.0.1', port=8888, n_retries=50,\n",
      "\u001b[0;32m~/anaconda3/lib/python3.7/site-packages/pyLDAvis/_display.py\u001b[0m in \u001b[0;36mprepared_data_to_html\u001b[0;34m(data, d3_url, ldavis_url, ldavis_css_url, template_type, visid, use_http)\u001b[0m\n\u001b[1;32m    176\u001b[0m                            \u001b[0md3_url\u001b[0m\u001b[0;34m=\u001b[0m\u001b[0md3_url\u001b[0m\u001b[0;34m,\u001b[0m\u001b[0;34m\u001b[0m\u001b[0;34m\u001b[0m\u001b[0m\n\u001b[1;32m    177\u001b[0m                            \u001b[0mldavis_url\u001b[0m\u001b[0;34m=\u001b[0m\u001b[0mldavis_url\u001b[0m\u001b[0;34m,\u001b[0m\u001b[0;34m\u001b[0m\u001b[0;34m\u001b[0m\u001b[0m\n\u001b[0;32m--> 178\u001b[0;31m                            \u001b[0mvis_json\u001b[0m\u001b[0;34m=\u001b[0m\u001b[0mdata\u001b[0m\u001b[0;34m.\u001b[0m\u001b[0mto_json\u001b[0m\u001b[0;34m(\u001b[0m\u001b[0;34m)\u001b[0m\u001b[0;34m,\u001b[0m\u001b[0;34m\u001b[0m\u001b[0;34m\u001b[0m\u001b[0m\n\u001b[0m\u001b[1;32m    179\u001b[0m                            ldavis_css_url=ldavis_css_url)\n\u001b[1;32m    180\u001b[0m \u001b[0;34m\u001b[0m\u001b[0m\n",
      "\u001b[0;32m~/anaconda3/lib/python3.7/site-packages/pyLDAvis/_prepare.py\u001b[0m in \u001b[0;36mto_json\u001b[0;34m(self)\u001b[0m\n\u001b[1;32m    415\u001b[0m \u001b[0;34m\u001b[0m\u001b[0m\n\u001b[1;32m    416\u001b[0m     \u001b[0;32mdef\u001b[0m \u001b[0mto_json\u001b[0m\u001b[0;34m(\u001b[0m\u001b[0mself\u001b[0m\u001b[0;34m)\u001b[0m\u001b[0;34m:\u001b[0m\u001b[0;34m\u001b[0m\u001b[0;34m\u001b[0m\u001b[0m\n\u001b[0;32m--> 417\u001b[0;31m        \u001b[0;32mreturn\u001b[0m \u001b[0mjson\u001b[0m\u001b[0;34m.\u001b[0m\u001b[0mdumps\u001b[0m\u001b[0;34m(\u001b[0m\u001b[0mself\u001b[0m\u001b[0;34m.\u001b[0m\u001b[0mto_dict\u001b[0m\u001b[0;34m(\u001b[0m\u001b[0;34m)\u001b[0m\u001b[0;34m,\u001b[0m \u001b[0mcls\u001b[0m\u001b[0;34m=\u001b[0m\u001b[0mNumPyEncoder\u001b[0m\u001b[0;34m)\u001b[0m\u001b[0;34m\u001b[0m\u001b[0;34m\u001b[0m\u001b[0m\n\u001b[0m",
      "\u001b[0;32m~/anaconda3/lib/python3.7/json/__init__.py\u001b[0m in \u001b[0;36mdumps\u001b[0;34m(obj, skipkeys, ensure_ascii, check_circular, allow_nan, cls, indent, separators, default, sort_keys, **kw)\u001b[0m\n\u001b[1;32m    236\u001b[0m         \u001b[0mcheck_circular\u001b[0m\u001b[0;34m=\u001b[0m\u001b[0mcheck_circular\u001b[0m\u001b[0;34m,\u001b[0m \u001b[0mallow_nan\u001b[0m\u001b[0;34m=\u001b[0m\u001b[0mallow_nan\u001b[0m\u001b[0;34m,\u001b[0m \u001b[0mindent\u001b[0m\u001b[0;34m=\u001b[0m\u001b[0mindent\u001b[0m\u001b[0;34m,\u001b[0m\u001b[0;34m\u001b[0m\u001b[0;34m\u001b[0m\u001b[0m\n\u001b[1;32m    237\u001b[0m         \u001b[0mseparators\u001b[0m\u001b[0;34m=\u001b[0m\u001b[0mseparators\u001b[0m\u001b[0;34m,\u001b[0m \u001b[0mdefault\u001b[0m\u001b[0;34m=\u001b[0m\u001b[0mdefault\u001b[0m\u001b[0;34m,\u001b[0m \u001b[0msort_keys\u001b[0m\u001b[0;34m=\u001b[0m\u001b[0msort_keys\u001b[0m\u001b[0;34m,\u001b[0m\u001b[0;34m\u001b[0m\u001b[0;34m\u001b[0m\u001b[0m\n\u001b[0;32m--> 238\u001b[0;31m         **kw).encode(obj)\n\u001b[0m\u001b[1;32m    239\u001b[0m \u001b[0;34m\u001b[0m\u001b[0m\n\u001b[1;32m    240\u001b[0m \u001b[0;34m\u001b[0m\u001b[0m\n",
      "\u001b[0;32m~/anaconda3/lib/python3.7/json/encoder.py\u001b[0m in \u001b[0;36mencode\u001b[0;34m(self, o)\u001b[0m\n\u001b[1;32m    197\u001b[0m         \u001b[0;31m# exceptions aren't as detailed.  The list call should be roughly\u001b[0m\u001b[0;34m\u001b[0m\u001b[0;34m\u001b[0m\u001b[0;34m\u001b[0m\u001b[0m\n\u001b[1;32m    198\u001b[0m         \u001b[0;31m# equivalent to the PySequence_Fast that ''.join() would do.\u001b[0m\u001b[0;34m\u001b[0m\u001b[0;34m\u001b[0m\u001b[0;34m\u001b[0m\u001b[0m\n\u001b[0;32m--> 199\u001b[0;31m         \u001b[0mchunks\u001b[0m \u001b[0;34m=\u001b[0m \u001b[0mself\u001b[0m\u001b[0;34m.\u001b[0m\u001b[0miterencode\u001b[0m\u001b[0;34m(\u001b[0m\u001b[0mo\u001b[0m\u001b[0;34m,\u001b[0m \u001b[0m_one_shot\u001b[0m\u001b[0;34m=\u001b[0m\u001b[0;32mTrue\u001b[0m\u001b[0;34m)\u001b[0m\u001b[0;34m\u001b[0m\u001b[0;34m\u001b[0m\u001b[0m\n\u001b[0m\u001b[1;32m    200\u001b[0m         \u001b[0;32mif\u001b[0m \u001b[0;32mnot\u001b[0m \u001b[0misinstance\u001b[0m\u001b[0;34m(\u001b[0m\u001b[0mchunks\u001b[0m\u001b[0;34m,\u001b[0m \u001b[0;34m(\u001b[0m\u001b[0mlist\u001b[0m\u001b[0;34m,\u001b[0m \u001b[0mtuple\u001b[0m\u001b[0;34m)\u001b[0m\u001b[0;34m)\u001b[0m\u001b[0;34m:\u001b[0m\u001b[0;34m\u001b[0m\u001b[0;34m\u001b[0m\u001b[0m\n\u001b[1;32m    201\u001b[0m             \u001b[0mchunks\u001b[0m \u001b[0;34m=\u001b[0m \u001b[0mlist\u001b[0m\u001b[0;34m(\u001b[0m\u001b[0mchunks\u001b[0m\u001b[0;34m)\u001b[0m\u001b[0;34m\u001b[0m\u001b[0;34m\u001b[0m\u001b[0m\n",
      "\u001b[0;32m~/anaconda3/lib/python3.7/json/encoder.py\u001b[0m in \u001b[0;36miterencode\u001b[0;34m(self, o, _one_shot)\u001b[0m\n\u001b[1;32m    255\u001b[0m                 \u001b[0mself\u001b[0m\u001b[0;34m.\u001b[0m\u001b[0mkey_separator\u001b[0m\u001b[0;34m,\u001b[0m \u001b[0mself\u001b[0m\u001b[0;34m.\u001b[0m\u001b[0mitem_separator\u001b[0m\u001b[0;34m,\u001b[0m \u001b[0mself\u001b[0m\u001b[0;34m.\u001b[0m\u001b[0msort_keys\u001b[0m\u001b[0;34m,\u001b[0m\u001b[0;34m\u001b[0m\u001b[0;34m\u001b[0m\u001b[0m\n\u001b[1;32m    256\u001b[0m                 self.skipkeys, _one_shot)\n\u001b[0;32m--> 257\u001b[0;31m         \u001b[0;32mreturn\u001b[0m \u001b[0m_iterencode\u001b[0m\u001b[0;34m(\u001b[0m\u001b[0mo\u001b[0m\u001b[0;34m,\u001b[0m \u001b[0;36m0\u001b[0m\u001b[0;34m)\u001b[0m\u001b[0;34m\u001b[0m\u001b[0;34m\u001b[0m\u001b[0m\n\u001b[0m\u001b[1;32m    258\u001b[0m \u001b[0;34m\u001b[0m\u001b[0m\n\u001b[1;32m    259\u001b[0m def _make_iterencode(markers, _default, _encoder, _indent, _floatstr,\n",
      "\u001b[0;32m~/anaconda3/lib/python3.7/site-packages/pyLDAvis/utils.py\u001b[0m in \u001b[0;36mdefault\u001b[0;34m(self, obj)\u001b[0m\n\u001b[1;32m    144\u001b[0m         \u001b[0;32mif\u001b[0m \u001b[0misinstance\u001b[0m\u001b[0;34m(\u001b[0m\u001b[0mobj\u001b[0m\u001b[0;34m,\u001b[0m \u001b[0mnp\u001b[0m\u001b[0;34m.\u001b[0m\u001b[0mfloat64\u001b[0m\u001b[0;34m)\u001b[0m \u001b[0;32mor\u001b[0m \u001b[0misinstance\u001b[0m\u001b[0;34m(\u001b[0m\u001b[0mobj\u001b[0m\u001b[0;34m,\u001b[0m \u001b[0mnp\u001b[0m\u001b[0;34m.\u001b[0m\u001b[0mfloat32\u001b[0m\u001b[0;34m)\u001b[0m\u001b[0;34m:\u001b[0m\u001b[0;34m\u001b[0m\u001b[0;34m\u001b[0m\u001b[0m\n\u001b[1;32m    145\u001b[0m             \u001b[0;32mreturn\u001b[0m \u001b[0mfloat\u001b[0m\u001b[0;34m(\u001b[0m\u001b[0mobj\u001b[0m\u001b[0;34m)\u001b[0m\u001b[0;34m\u001b[0m\u001b[0;34m\u001b[0m\u001b[0m\n\u001b[0;32m--> 146\u001b[0;31m         \u001b[0;32mreturn\u001b[0m \u001b[0mjson\u001b[0m\u001b[0;34m.\u001b[0m\u001b[0mJSONEncoder\u001b[0m\u001b[0;34m.\u001b[0m\u001b[0mdefault\u001b[0m\u001b[0;34m(\u001b[0m\u001b[0mself\u001b[0m\u001b[0;34m,\u001b[0m \u001b[0mobj\u001b[0m\u001b[0;34m)\u001b[0m\u001b[0;34m\u001b[0m\u001b[0;34m\u001b[0m\u001b[0m\n\u001b[0m",
      "\u001b[0;32m~/anaconda3/lib/python3.7/json/encoder.py\u001b[0m in \u001b[0;36mdefault\u001b[0;34m(self, o)\u001b[0m\n\u001b[1;32m    177\u001b[0m \u001b[0;34m\u001b[0m\u001b[0m\n\u001b[1;32m    178\u001b[0m         \"\"\"\n\u001b[0;32m--> 179\u001b[0;31m         raise TypeError(f'Object of type {o.__class__.__name__} '\n\u001b[0m\u001b[1;32m    180\u001b[0m                         f'is not JSON serializable')\n\u001b[1;32m    181\u001b[0m \u001b[0;34m\u001b[0m\u001b[0m\n",
      "\u001b[0;31mTypeError\u001b[0m: Object of type complex is not JSON serializable"
     ]
    }
   ],
   "source": [
    "pyLDAvis.display(LDAvis_prepared)\n"
   ]
  },
  {
   "cell_type": "code",
   "execution_count": null,
   "metadata": {},
   "outputs": [],
   "source": []
  }
 ],
 "metadata": {
  "kernelspec": {
   "display_name": "Python 3",
   "language": "python",
   "name": "python3"
  },
  "language_info": {
   "codemirror_mode": {
    "name": "ipython",
    "version": 3
   },
   "file_extension": ".py",
   "mimetype": "text/x-python",
   "name": "python",
   "nbconvert_exporter": "python",
   "pygments_lexer": "ipython3",
   "version": "3.7.1"
  },
  "varInspector": {
   "cols": {
    "lenName": 16,
    "lenType": 16,
    "lenVar": 40
   },
   "kernels_config": {
    "python": {
     "delete_cmd_postfix": "",
     "delete_cmd_prefix": "del ",
     "library": "var_list.py",
     "varRefreshCmd": "print(var_dic_list())"
    },
    "r": {
     "delete_cmd_postfix": ") ",
     "delete_cmd_prefix": "rm(",
     "library": "var_list.r",
     "varRefreshCmd": "cat(var_dic_list()) "
    }
   },
   "types_to_exclude": [
    "module",
    "function",
    "builtin_function_or_method",
    "instance",
    "_Feature"
   ],
   "window_display": false
  }
 },
 "nbformat": 4,
 "nbformat_minor": 2
}
